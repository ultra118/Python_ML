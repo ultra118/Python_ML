{
 "cells": [
  {
   "cell_type": "markdown",
   "metadata": {},
   "source": [
    "# Softmax Classificaton"
   ]
  },
  {
   "cell_type": "code",
   "execution_count": 1,
   "metadata": {},
   "outputs": [],
   "source": [
    "import torch\n",
    "import torch.nn as nn\n",
    "import torch.nn.functional as F\n",
    "import torch.optim as optim"
   ]
  },
  {
   "cell_type": "code",
   "execution_count": 4,
   "metadata": {},
   "outputs": [
    {
     "data": {
      "text/plain": [
       "<torch._C.Generator at 0x214ad8b5730>"
      ]
     },
     "execution_count": 4,
     "metadata": {},
     "output_type": "execute_result"
    }
   ],
   "source": [
    "torch.manual_seed(1)"
   ]
  },
  {
   "cell_type": "markdown",
   "metadata": {},
   "source": [
    "## Discrete Probability Distribution\n",
    "- 이산적인 확률 분포"
   ]
  },
  {
   "cell_type": "markdown",
   "metadata": {},
   "source": [
    "## 확률분포에 대한 근사 - Softmax\n",
    "- ![image](https://user-images.githubusercontent.com/28910538/63824583-a01a5800-c992-11e9-8c95-53a5b42ef7bc.png)\n",
    "\n",
    "- max값을 뽑는데 부드럽게 뽑아줌\n",
    "    - 합쳐서 1이 되는 값으로"
   ]
  },
  {
   "cell_type": "code",
   "execution_count": 2,
   "metadata": {},
   "outputs": [],
   "source": [
    "z = torch.FloatTensor([1, 2, 3])\n",
    "# argmax -> (0, 0, 1)"
   ]
  },
  {
   "cell_type": "code",
   "execution_count": 3,
   "metadata": {},
   "outputs": [
    {
     "name": "stdout",
     "output_type": "stream",
     "text": [
      "tensor([0.0900, 0.2447, 0.6652])\n"
     ]
    }
   ],
   "source": [
    "hypothesis = F.softmax(z, dim=0)\n",
    "# 확률 값으로 볼 수 있음 총합은 1\n",
    "print(hypothesis)"
   ]
  },
  {
   "cell_type": "code",
   "execution_count": 4,
   "metadata": {},
   "outputs": [
    {
     "data": {
      "text/plain": [
       "tensor(1.)"
      ]
     },
     "execution_count": 4,
     "metadata": {},
     "output_type": "execute_result"
    }
   ],
   "source": [
    "hypothesis.sum()"
   ]
  },
  {
   "cell_type": "markdown",
   "metadata": {},
   "source": [
    "## Cross Entropy\n",
    "- ![image](https://user-images.githubusercontent.com/28910538/63824623-c213da80-c992-11e9-9f0c-e56a5500940a.png)\n",
    "- 두 개의 확률분포가 주어졌을때 얼마나 비슷한지\n",
    "- 엔트로피는 어떤 불확실성 값에 대한 척도\n",
    "- 이런 엔트로피 통해 실 값과 예측 값에 대한 곱을 통해 두개의 확률 분포가 얼마나 비슷한지를 비교할 수 있고\n",
    "- 이러한 값이 최소화되도록 학습"
   ]
  },
  {
   "cell_type": "markdown",
   "metadata": {},
   "source": [
    "### Cross Entropy Loss(Low-level)\n",
    "![image](https://user-images.githubusercontent.com/28910538/63824410-f6d36200-c991-11e9-8d59-c324fe1129da.png)\n"
   ]
  },
  {
   "cell_type": "code",
   "execution_count": 5,
   "metadata": {},
   "outputs": [
    {
     "name": "stdout",
     "output_type": "stream",
     "text": [
      "tensor([[0.1900, 0.2319, 0.1614, 0.1556, 0.2611],\n",
      "        [0.2784, 0.1507, 0.1739, 0.2453, 0.1517],\n",
      "        [0.2223, 0.2053, 0.1560, 0.2443, 0.1721]], grad_fn=<SoftmaxBackward>)\n"
     ]
    }
   ],
   "source": [
    "z = torch.rand(3, 5, requires_grad=True)\n",
    "hypothesis = F.softmax(z, dim=1)\n",
    "print(hypothesis)"
   ]
  },
  {
   "cell_type": "code",
   "execution_count": 7,
   "metadata": {},
   "outputs": [
    {
     "name": "stdout",
     "output_type": "stream",
     "text": [
      "tensor([2, 0, 1])\n"
     ]
    }
   ],
   "source": [
    "# 정답을 랜덤하게 가정했을 때, classes : 5 samples : 3\n",
    "y = torch.randint(5, (3,)).long()\n",
    "print(y)"
   ]
  },
  {
   "cell_type": "code",
   "execution_count": 10,
   "metadata": {},
   "outputs": [
    {
     "data": {
      "text/plain": [
       "tensor([[0., 0., 1., 0., 0.],\n",
       "        [1., 0., 0., 0., 0.],\n",
       "        [0., 1., 0., 0., 0.]])"
      ]
     },
     "execution_count": 10,
     "metadata": {},
     "output_type": "execute_result"
    }
   ],
   "source": [
    "# one-hot vector로 표현\n",
    "y_one_hot = torch.zeros_like(hypothesis)\n",
    "y_one_hot.scatter_(1, y.unsqueeze(1), 1)"
   ]
  },
  {
   "cell_type": "code",
   "execution_count": 11,
   "metadata": {},
   "outputs": [
    {
     "name": "stdout",
     "output_type": "stream",
     "text": [
      "tensor(1.5620, grad_fn=<MeanBackward0>)\n"
     ]
    }
   ],
   "source": [
    "# (3,5) -> (3,1) -> scalar\n",
    "cost = (y_one_hot * -torch.log(hypothesis)).sum(dim=1).mean()\n",
    "print(cost)"
   ]
  },
  {
   "cell_type": "markdown",
   "metadata": {},
   "source": [
    "### Cross-entropy Loss with torch.nn.functional"
   ]
  },
  {
   "cell_type": "code",
   "execution_count": 12,
   "metadata": {},
   "outputs": [
    {
     "data": {
      "text/plain": [
       "tensor([[-1.6608, -1.4615, -1.8239, -1.8605, -1.3427],\n",
       "        [-1.2788, -1.8923, -1.7491, -1.4052, -1.8861],\n",
       "        [-1.5038, -1.5833, -1.8577, -1.4092, -1.7599]], grad_fn=<LogBackward>)"
      ]
     },
     "execution_count": 12,
     "metadata": {},
     "output_type": "execute_result"
    }
   ],
   "source": [
    "# Low level\n",
    "torch.log(F.softmax(z, dim=1))"
   ]
  },
  {
   "cell_type": "code",
   "execution_count": 13,
   "metadata": {},
   "outputs": [
    {
     "data": {
      "text/plain": [
       "tensor([[-1.6608, -1.4615, -1.8239, -1.8605, -1.3427],\n",
       "        [-1.2788, -1.8923, -1.7491, -1.4052, -1.8861],\n",
       "        [-1.5038, -1.5833, -1.8577, -1.4092, -1.7599]],\n",
       "       grad_fn=<LogSoftmaxBackward>)"
      ]
     },
     "execution_count": 13,
     "metadata": {},
     "output_type": "execute_result"
    }
   ],
   "source": [
    "# High level\n",
    "F.log_softmax(z, dim=1)"
   ]
  },
  {
   "cell_type": "code",
   "execution_count": 14,
   "metadata": {},
   "outputs": [
    {
     "data": {
      "text/plain": [
       "tensor(1.5620, grad_fn=<MeanBackward0>)"
      ]
     },
     "execution_count": 14,
     "metadata": {},
     "output_type": "execute_result"
    }
   ],
   "source": [
    "# Low level\n",
    "(y_one_hot * -torch.log(F.softmax(z, dim=1))).sum(dim=1).mean()"
   ]
  },
  {
   "cell_type": "code",
   "execution_count": 15,
   "metadata": {},
   "outputs": [
    {
     "data": {
      "text/plain": [
       "tensor(1.5620, grad_fn=<NllLossBackward>)"
      ]
     },
     "execution_count": 15,
     "metadata": {},
     "output_type": "execute_result"
    }
   ],
   "source": [
    "# High Level\n",
    "# NLL = Negative Log Likelyhood\n",
    "F.nll_loss(F.log_softmax(z, dim=1), y)"
   ]
  },
  {
   "cell_type": "code",
   "execution_count": 16,
   "metadata": {},
   "outputs": [
    {
     "data": {
      "text/plain": [
       "tensor(1.5620, grad_fn=<NllLossBackward>)"
      ]
     },
     "execution_count": 16,
     "metadata": {},
     "output_type": "execute_result"
    }
   ],
   "source": [
    "F.cross_entropy(z, y)"
   ]
  },
  {
   "cell_type": "markdown",
   "metadata": {},
   "source": [
    "### Training with Low-level Cross Entropy"
   ]
  },
  {
   "cell_type": "code",
   "execution_count": 17,
   "metadata": {},
   "outputs": [],
   "source": [
    "x_train = [[1,2,1,1],\n",
    "           [2,1,3,2],\n",
    "           [3,1,3,4],\n",
    "           [4,1,5,5],\n",
    "           [1,7,5,5],\n",
    "           [1,2,5,6],\n",
    "           [1,6,6,6],\n",
    "           [1,7,7,7]\n",
    "          ]\n",
    "y_train = [2,2,2,1,1,1,0,0]\n",
    "x_train = torch.FloatTensor(x_train)\n",
    "y_train = torch.LongTensor(y_train)"
   ]
  },
  {
   "cell_type": "code",
   "execution_count": 26,
   "metadata": {},
   "outputs": [
    {
     "name": "stdout",
     "output_type": "stream",
     "text": [
      "Epoch : 0/1000 Cost : 8.788898468017578\n",
      "Epoch : 100/1000 Cost : 7.378445625305176\n",
      "Epoch : 200/1000 Cost : 7.205133438110352\n",
      "Epoch : 300/1000 Cost : 7.114597797393799\n",
      "Epoch : 400/1000 Cost : 7.053747177124023\n",
      "Epoch : 500/1000 Cost : 6.994445323944092\n",
      "Epoch : 600/1000 Cost : 6.897322654724121\n",
      "Epoch : 700/1000 Cost : 6.746909141540527\n",
      "Epoch : 800/1000 Cost : 6.700010776519775\n",
      "Epoch : 900/1000 Cost : 6.672955513000488\n",
      "Epoch : 1000/1000 Cost : 6.650246620178223\n"
     ]
    }
   ],
   "source": [
    "# samples = m\n",
    "# classes = 3\n",
    "# dim = 4\n",
    "\n",
    "# model init\n",
    "W = torch.zeros((4,3), requires_grad=True)\n",
    "b = torch.zeros(1, requires_grad=True)\n",
    "# optimizer\n",
    "optimizer = optim.SGD([W,b], lr=0.1)\n",
    "\n",
    "nb_epochs = 1000\n",
    "for epoch in range(nb_epochs + 1):\n",
    "    # Cost 계산\n",
    "    hypothesis = F.softmax(x_train.matmul(W) + b, dim=1)\n",
    "    y_one_hot = torch.zeros_like(hypothesis)\n",
    "    y_one_hot.scatter_(1, y_train.unsqueeze(1), 1)\n",
    "    cost = (y_one_hot * -torch.log(F.softmax(hypothesis, dim=1))).sum()\n",
    "    # cost로 H(X) 개선\n",
    "    optimizer.zero_grad()\n",
    "    cost.backward()\n",
    "    optimizer.step()\n",
    "    \n",
    "    if epoch % 100 == 0:\n",
    "        print(f'Epoch : {epoch}/{nb_epochs} Cost : {cost.item()}')"
   ]
  },
  {
   "cell_type": "markdown",
   "metadata": {},
   "source": [
    "### Training with F.cross_entropy"
   ]
  },
  {
   "cell_type": "code",
   "execution_count": 28,
   "metadata": {},
   "outputs": [
    {
     "name": "stdout",
     "output_type": "stream",
     "text": [
      "Epoch : 0/1000 Cost : 1.0986123085021973\n",
      "Epoch : 100/1000 Cost : 0.7610501050949097\n",
      "Epoch : 200/1000 Cost : 0.6899910569190979\n",
      "Epoch : 300/1000 Cost : 0.6432290077209473\n",
      "Epoch : 400/1000 Cost : 0.6041170358657837\n",
      "Epoch : 500/1000 Cost : 0.5682553052902222\n",
      "Epoch : 600/1000 Cost : 0.5339219570159912\n",
      "Epoch : 700/1000 Cost : 0.5002909898757935\n",
      "Epoch : 800/1000 Cost : 0.4669080972671509\n",
      "Epoch : 900/1000 Cost : 0.43350696563720703\n",
      "Epoch : 1000/1000 Cost : 0.39996233582496643\n"
     ]
    }
   ],
   "source": [
    "# samples = m\n",
    "# classes = 3\n",
    "# dim = 4\n",
    "\n",
    "# model init\n",
    "W = torch.zeros((4,3), requires_grad=True)\n",
    "b = torch.zeros(1, requires_grad=True)\n",
    "# optimizer\n",
    "optimizer = optim.SGD([W,b], lr=0.1)\n",
    "\n",
    "nb_epochs = 1000\n",
    "for epoch in range(nb_epochs + 1):\n",
    "    # Cost 계산\n",
    "    #hypothesis = F.softmax(x_train.matmul(W) + b, dim=1)\n",
    "    #y_one_hot = torch.zeros_like(hypothesis)\n",
    "    #y_one_hot.scatter_(1, y_train.unsqueeze(1), 1)\n",
    "    z = x_train.matmul(W) + b\n",
    "    # cost = (y_one_hot * -torch.log(F.softmax(hypothesis, dim=1))).sum()\n",
    "    cost = F.cross_entropy(z, y_train)\n",
    "    # cost로 H(X) 개선\n",
    "    optimizer.zero_grad()\n",
    "    cost.backward()\n",
    "    optimizer.step()\n",
    "    \n",
    "    if epoch % 100 == 0:\n",
    "        print(f'Epoch : {epoch}/{nb_epochs} Cost : {cost.item()}')"
   ]
  },
  {
   "cell_type": "markdown",
   "metadata": {},
   "source": [
    "### High-level Implementation with nn.Module"
   ]
  },
  {
   "cell_type": "code",
   "execution_count": 29,
   "metadata": {},
   "outputs": [],
   "source": [
    "class SoftmaxClassifierModel(nn.Module):\n",
    "    def __init__(self):\n",
    "        super().__init__()\n",
    "        self.linear = nn.Linear(4, 3)\n",
    "    \n",
    "    def forward(self, x):\n",
    "        return self.linear(x)"
   ]
  },
  {
   "cell_type": "code",
   "execution_count": 30,
   "metadata": {},
   "outputs": [],
   "source": [
    "model = SoftmaxClassifierModel()"
   ]
  },
  {
   "cell_type": "code",
   "execution_count": 32,
   "metadata": {},
   "outputs": [
    {
     "name": "stdout",
     "output_type": "stream",
     "text": [
      "Epoch : 0/1000 Cost : 4.454987525939941\n",
      "Epoch : 100/1000 Cost : 0.6869468688964844\n",
      "Epoch : 200/1000 Cost : 0.5918329358100891\n",
      "Epoch : 300/1000 Cost : 0.5335536003112793\n",
      "Epoch : 400/1000 Cost : 0.48711204528808594\n",
      "Epoch : 500/1000 Cost : 0.4464019536972046\n",
      "Epoch : 600/1000 Cost : 0.40887588262557983\n",
      "Epoch : 700/1000 Cost : 0.3729875087738037\n",
      "Epoch : 800/1000 Cost : 0.33753448724746704\n",
      "Epoch : 900/1000 Cost : 0.301565021276474\n",
      "Epoch : 1000/1000 Cost : 0.2653934359550476\n"
     ]
    }
   ],
   "source": [
    "# optimizer\n",
    "optimizer = optim.SGD(model.parameters(), lr=0.1)\n",
    "\n",
    "nb_epochs = 1000\n",
    "for epoch in range(nb_epochs + 1):\n",
    "    # z = x_train.matmul(W) + b\n",
    "    # H(X) 게산\n",
    "    prediction = model(x_train)\n",
    "    \n",
    "    # cost = (y_one_hot * -torch.log(F.softmax(hypothesis, dim=1))).sum()\n",
    "    cost = F.cross_entropy(prediction, y_train)\n",
    "    # cost로 H(X) 개선\n",
    "    optimizer.zero_grad()\n",
    "    cost.backward()\n",
    "    optimizer.step()\n",
    "    \n",
    "    if epoch % 100 == 0:\n",
    "        print(f'Epoch : {epoch}/{nb_epochs} Cost : {cost.item()}')"
   ]
  },
  {
   "cell_type": "code",
   "execution_count": null,
   "metadata": {},
   "outputs": [],
   "source": []
  },
  {
   "cell_type": "code",
   "execution_count": null,
   "metadata": {},
   "outputs": [],
   "source": []
  },
  {
   "cell_type": "code",
   "execution_count": null,
   "metadata": {},
   "outputs": [],
   "source": []
  },
  {
   "cell_type": "code",
   "execution_count": null,
   "metadata": {},
   "outputs": [],
   "source": []
  },
  {
   "cell_type": "code",
   "execution_count": null,
   "metadata": {},
   "outputs": [],
   "source": []
  },
  {
   "cell_type": "code",
   "execution_count": null,
   "metadata": {},
   "outputs": [],
   "source": []
  }
 ],
 "metadata": {
  "kernelspec": {
   "display_name": "Python [conda env:pytorch_env] *",
   "language": "python",
   "name": "conda-env-pytorch_env-py"
  },
  "language_info": {
   "codemirror_mode": {
    "name": "ipython",
    "version": 3
   },
   "file_extension": ".py",
   "mimetype": "text/x-python",
   "name": "python",
   "nbconvert_exporter": "python",
   "pygments_lexer": "ipython3",
   "version": "3.6.9"
  },
  "toc": {
   "base_numbering": 1,
   "nav_menu": {},
   "number_sections": true,
   "sideBar": true,
   "skip_h1_title": false,
   "title_cell": "Table of Contents",
   "title_sidebar": "Contents",
   "toc_cell": false,
   "toc_position": {},
   "toc_section_display": true,
   "toc_window_display": false
  }
 },
 "nbformat": 4,
 "nbformat_minor": 2
}
