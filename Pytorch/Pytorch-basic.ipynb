{
 "cells": [
  {
   "cell_type": "markdown",
   "metadata": {},
   "source": [
    "# Pytorch\n",
    "- python 기반의 과학 계산을 위한 package\n",
    "- numpy 연산을 gpu 가속을 사용할 수 있음\n",
    "- 유연하고 빠름\n",
    "\n",
    "## Tensor\n",
    "> pytorch의 자료형\n",
    "\n",
    "- 단일 데이터 타입으로 된 자료들의 다차원 행렬\n",
    "- 간단한 명령어를 통해 GPU 연산 수행 가능\n",
    "    - Tensor 변수 뒤에 .cuda()를 추가하면 가능\n",
    "- 그냥 Tensor로 선언하면 자동으로 FloatTensor\n"
   ]
  },
  {
   "cell_type": "markdown",
   "metadata": {},
   "source": [
    "### Tensor의 선언\n",
    "- torch.Tensor(크기)"
   ]
  },
  {
   "cell_type": "code",
   "execution_count": 2,
   "metadata": {},
   "outputs": [
    {
     "name": "stdout",
     "output_type": "stream",
     "text": [
      "tensor([0.0000e+00, 0.0000e+00, 9.0564e+33])\n"
     ]
    }
   ],
   "source": [
    "import torch\n",
    "x = torch.Tensor(3)\n",
    "print(x)"
   ]
  },
  {
   "cell_type": "code",
   "execution_count": 6,
   "metadata": {},
   "outputs": [
    {
     "name": "stdout",
     "output_type": "stream",
     "text": [
      "tensor([[0., 0., 0.],\n",
      "        [0., 0., 0.],\n",
      "        [0., 0., 0.]])\n"
     ]
    }
   ],
   "source": [
    "x2 = torch.Tensor(3,3)\n",
    "print(x2)"
   ]
  },
  {
   "cell_type": "markdown",
   "metadata": {},
   "source": [
    "### Tensor의 random 선언\n",
    "\n",
    "- `rand`를 통한 0~1 사이의 uniiform distribution random 값으로 선언\n",
    "- `randn`을 통해 평균이 0이고 분산이 1인 normal distribution random 값으로 선언"
   ]
  },
  {
   "cell_type": "code",
   "execution_count": 8,
   "metadata": {
    "scrolled": true
   },
   "outputs": [
    {
     "name": "stdout",
     "output_type": "stream",
     "text": [
      "tensor([[0.5407, 0.6855, 0.0890],\n",
      "        [0.1631, 0.8402, 0.8241],\n",
      "        [0.2190, 0.7920, 0.2552]])\n"
     ]
    }
   ],
   "source": [
    "a = torch.rand(3,3)\n",
    "print(a)"
   ]
  },
  {
   "cell_type": "code",
   "execution_count": 9,
   "metadata": {},
   "outputs": [
    {
     "name": "stdout",
     "output_type": "stream",
     "text": [
      "tensor([[ 0.8629, -0.3507, -0.1826],\n",
      "        [-0.4211, -2.4101,  0.4162],\n",
      "        [-1.0219,  0.4365,  1.0153]])\n"
     ]
    }
   ],
   "source": [
    "a = torch.randn(3,3)\n",
    "print(a)"
   ]
  },
  {
   "cell_type": "markdown",
   "metadata": {},
   "source": [
    "### Numpy 에서 Tensor로"
   ]
  },
  {
   "cell_type": "code",
   "execution_count": 15,
   "metadata": {},
   "outputs": [
    {
     "name": "stdout",
     "output_type": "stream",
     "text": [
      "np : [1 2 3 4], <class 'numpy.ndarray'>\n",
      "tensor : tensor([1., 2., 3., 4.]), <class 'torch.Tensor'>\n"
     ]
    }
   ],
   "source": [
    "import numpy as np \n",
    "a = np.array([1,2,3,4])\n",
    "b = torch.Tensor(a)\n",
    "print(f'np : {a}, {type(a)}')\n",
    "print(f'tensor : {b}, {type(b)}')"
   ]
  },
  {
   "cell_type": "markdown",
   "metadata": {},
   "source": [
    "### Tensor 에서 Numpy로"
   ]
  },
  {
   "cell_type": "code",
   "execution_count": 17,
   "metadata": {},
   "outputs": [
    {
     "name": "stdout",
     "output_type": "stream",
     "text": [
      "tensor : (tensor([[ 1.1500, -0.0283, -0.0091],\n",
      "        [-0.7569, -0.8772, -0.2132],\n",
      "        [-0.9550, -0.6174, -0.3981]]), <class 'torch.Tensor'>)\n",
      "np : [[ 1.1499712  -0.02829299 -0.00906428]\n",
      " [-0.75686234 -0.8772122  -0.21318877]\n",
      " [-0.9550173  -0.6173842  -0.3980513 ]], <class 'numpy.ndarray'>\n"
     ]
    }
   ],
   "source": [
    "a = torch.randn(3,3)\n",
    "b = a.numpy()\n",
    "print(f'tensor : {a, type(a)}')\n",
    "print(f'np : {b}, {type(b)}')"
   ]
  },
  {
   "cell_type": "markdown",
   "metadata": {},
   "source": [
    "### Tensor의 형태 변환(view)"
   ]
  },
  {
   "cell_type": "code",
   "execution_count": 18,
   "metadata": {},
   "outputs": [
    {
     "name": "stdout",
     "output_type": "stream",
     "text": [
      "torch.Size([1, 1, 3, 3])\n"
     ]
    }
   ],
   "source": [
    "a = torch.rand(3,3)\n",
    "a = a.view(1,1,3,3)\n",
    "print(a.shape)"
   ]
  },
  {
   "cell_type": "markdown",
   "metadata": {},
   "source": [
    "### Tensor 합치기\n",
    "- torch.cat((Tensor_A, Tensor_B), dim)\n",
    "- Tensor_A 와 Tensor_B를 dim에 맞춰서 합쳐 줌"
   ]
  },
  {
   "cell_type": "code",
   "execution_count": 20,
   "metadata": {},
   "outputs": [
    {
     "name": "stdout",
     "output_type": "stream",
     "text": [
      "torch.Size([2, 1, 3, 3])\n"
     ]
    }
   ],
   "source": [
    "a = torch.randn(1,1,3,3)\n",
    "b = torch.randn(1,1,3,3)\n",
    "c = torch.cat((a,b), 0)\n",
    "print(c.shape)"
   ]
  },
  {
   "cell_type": "markdown",
   "metadata": {},
   "source": [
    "### Tensor 계산을 GPU로"
   ]
  },
  {
   "cell_type": "code",
   "execution_count": 21,
   "metadata": {},
   "outputs": [
    {
     "name": "stdout",
     "output_type": "stream",
     "text": [
      "tensor([[1.9126, 0.9794, 1.5866],\n",
      "        [1.0962, 1.9305, 1.6977],\n",
      "        [0.5296, 0.7542, 1.0974]], device='cuda:0')\n"
     ]
    }
   ],
   "source": [
    "x = torch.rand(3,3)\n",
    "y = torch.rand(3,3)\n",
    "if torch.cuda.is_available():\n",
    "    x = x.cuda()\n",
    "    y = y.cuda()\n",
    "    sum = x + y\n",
    "print(sum)"
   ]
  },
  {
   "cell_type": "markdown",
   "metadata": {},
   "source": [
    "# Autograd & Variable"
   ]
  },
  {
   "cell_type": "markdown",
   "metadata": {},
   "source": [
    "## Autograd : automatic differentiation \n",
    "- backprop을 위한 미분 값을 자동으로 계산해줌\n",
    "- 자동 계산을 위해서 사용하는 변수는 torch.autograd에 있는 Variable"
   ]
  },
  {
   "cell_type": "markdown",
   "metadata": {},
   "source": [
    "### Variable의 모습\n",
    "- data : Tensor형태의 데이터가 담김\n",
    "- grad : data가 거쳐운 layer에 대한 미분값이 축적됨\n",
    "- gradn_fn : 미분 값을 계산한 함수에 대한 정보"
   ]
  },
  {
   "cell_type": "code",
   "execution_count": 25,
   "metadata": {},
   "outputs": [],
   "source": [
    "from torch.autograd import Variable\n",
    "a = torch.rand(5)\n",
    "a = Variable(a)"
   ]
  },
  {
   "cell_type": "code",
   "execution_count": 26,
   "metadata": {},
   "outputs": [
    {
     "name": "stdout",
     "output_type": "stream",
     "text": [
      "tensor([[1., 1.],\n",
      "        [1., 1.]])\n"
     ]
    }
   ],
   "source": [
    "a = torch.ones(2,2)\n",
    "print(a)"
   ]
  },
  {
   "cell_type": "markdown",
   "metadata": {},
   "source": [
    "### requires_grad = True\n",
    "- gradient 값이 필요하다는 것을 인자로 명시\n",
    "- default는 False"
   ]
  },
  {
   "cell_type": "code",
   "execution_count": 27,
   "metadata": {},
   "outputs": [
    {
     "name": "stdout",
     "output_type": "stream",
     "text": [
      "tensor([[1., 1.],\n",
      "        [1., 1.]], requires_grad=True)\n"
     ]
    }
   ],
   "source": [
    "a = Variable(a, requires_grad=True)\n",
    "print(a)"
   ]
  },
  {
   "cell_type": "markdown",
   "metadata": {},
   "source": [
    "### 아무런 연산 진행하지 않았기 때문에 grad, grad_fn이 None인 것을 확인할 수 있음"
   ]
  },
  {
   "cell_type": "code",
   "execution_count": 28,
   "metadata": {},
   "outputs": [
    {
     "name": "stdout",
     "output_type": "stream",
     "text": [
      "----a.data----\n",
      "tensor([[1., 1.],\n",
      "        [1., 1.]])\n",
      "----a.grad----\n",
      "None\n",
      "----a.grad_fn----\n",
      "None\n"
     ]
    }
   ],
   "source": [
    "print('----a.data----')\n",
    "print(a.data)\n",
    "print('----a.grad----')\n",
    "print(a.grad)\n",
    "print('----a.grad_fn----')\n",
    "print(a.grad_fn)"
   ]
  },
  {
   "cell_type": "code",
   "execution_count": 30,
   "metadata": {},
   "outputs": [
    {
     "name": "stdout",
     "output_type": "stream",
     "text": [
      "tensor([[3., 3.],\n",
      "        [3., 3.]], grad_fn=<AddBackward0>)\n"
     ]
    }
   ],
   "source": [
    "b = a+2\n",
    "print(b)"
   ]
  },
  {
   "cell_type": "code",
   "execution_count": 31,
   "metadata": {},
   "outputs": [
    {
     "name": "stdout",
     "output_type": "stream",
     "text": [
      "tensor([[9., 9.],\n",
      "        [9., 9.]], grad_fn=<PowBackward0>)\n"
     ]
    }
   ],
   "source": [
    "c = b**2\n",
    "print(c)"
   ]
  },
  {
   "cell_type": "code",
   "execution_count": 32,
   "metadata": {},
   "outputs": [
    {
     "name": "stdout",
     "output_type": "stream",
     "text": [
      "tensor(36., grad_fn=<SumBackward0>)\n"
     ]
    }
   ],
   "source": [
    "out = c.sum()\n",
    "print(out)"
   ]
  },
  {
   "cell_type": "markdown",
   "metadata": {},
   "source": [
    "### bacward()\n",
    "- a -> b -> c -> out\n",
    "    - out에 대한 a의 편미분을 통한 값이 담기는 장소는 a.grad\n",
    "    - out.backward를 수행하고나면 grad부분이 채워짐"
   ]
  },
  {
   "cell_type": "code",
   "execution_count": 37,
   "metadata": {},
   "outputs": [
    {
     "name": "stdout",
     "output_type": "stream",
     "text": [
      "tensor(36., grad_fn=<SumBackward0>)\n"
     ]
    }
   ],
   "source": [
    "print(out)\n",
    "out.backward()"
   ]
  },
  {
   "cell_type": "markdown",
   "metadata": {},
   "source": [
    "#### a.gard_fn이 None인 이유는 a가 직접적으로 수행을하는 연산이 없기 때문에 gradient를 계산하는 함수가 없을 수 밖에 없음"
   ]
  },
  {
   "cell_type": "code",
   "execution_count": 38,
   "metadata": {},
   "outputs": [
    {
     "name": "stdout",
     "output_type": "stream",
     "text": [
      "----a.data----\n",
      "tensor([[1., 1.],\n",
      "        [1., 1.]])\n",
      "----a.grad----\n",
      "tensor([[6., 6.],\n",
      "        [6., 6.]])\n",
      "----a.grad_fn----\n",
      "None\n"
     ]
    }
   ],
   "source": [
    "print('----a.data----')\n",
    "print(a.data)\n",
    "print('----a.grad----')\n",
    "print(a.grad)\n",
    "print('----a.grad_fn----')\n",
    "print(a.grad_fn)"
   ]
  },
  {
   "cell_type": "markdown",
   "metadata": {},
   "source": [
    "#### gradient가 필요하지 않기 때문에 b.grad는 None\n",
    "- b = a + 2 add 연산에 대한 back ward"
   ]
  },
  {
   "cell_type": "code",
   "execution_count": 39,
   "metadata": {},
   "outputs": [
    {
     "name": "stdout",
     "output_type": "stream",
     "text": [
      "----b.data----\n",
      "tensor([[3., 3.],\n",
      "        [3., 3.]])\n",
      "----b.grad----\n",
      "None\n",
      "----b.grad_fn----\n",
      "<AddBackward0 object at 0x000001BC19D09240>\n"
     ]
    }
   ],
   "source": [
    "print('----b.data----')\n",
    "print(b.data)\n",
    "print('----b.grad----')\n",
    "print(b.grad)\n",
    "print('----b.grad_fn----')\n",
    "print(b.grad_fn)"
   ]
  },
  {
   "cell_type": "markdown",
   "metadata": {},
   "source": [
    "#### c = b^2\n",
    "- powerbackward"
   ]
  },
  {
   "cell_type": "code",
   "execution_count": 41,
   "metadata": {},
   "outputs": [
    {
     "name": "stdout",
     "output_type": "stream",
     "text": [
      "----c.data----\n",
      "tensor([[9., 9.],\n",
      "        [9., 9.]])\n",
      "----c.grad----\n",
      "None\n",
      "----c.grad_fn----\n",
      "<PowBackward0 object at 0x000001BC19D30C88>\n"
     ]
    }
   ],
   "source": [
    "print('----c.data----')\n",
    "print(c.data)\n",
    "print('----c.grad----')\n",
    "print(c.grad)\n",
    "print('----c.grad_fn----')\n",
    "print(c.grad_fn)"
   ]
  },
  {
   "cell_type": "markdown",
   "metadata": {},
   "source": [
    "#### out = c + sum"
   ]
  },
  {
   "cell_type": "code",
   "execution_count": 42,
   "metadata": {},
   "outputs": [
    {
     "name": "stdout",
     "output_type": "stream",
     "text": [
      "----out.data----\n",
      "tensor(36.)\n",
      "----out.grad----\n",
      "None\n",
      "----v.grad_fn----\n",
      "<SumBackward0 object at 0x000001BC19D30940>\n"
     ]
    }
   ],
   "source": [
    "print('----out.data----')\n",
    "print(out.data)\n",
    "print('----out.grad----')\n",
    "print(out.grad)\n",
    "print('----v.grad_fn----')\n",
    "print(out.grad_fn)"
   ]
  },
  {
   "cell_type": "markdown",
   "metadata": {},
   "source": [
    "#### backward의 인자로 tensor를 넣어주면 (크기를 맞췄을 때) backward된느 값에 각각 곱해져서 채워지게 됨"
   ]
  },
  {
   "cell_type": "code",
   "execution_count": 46,
   "metadata": {},
   "outputs": [
    {
     "name": "stdout",
     "output_type": "stream",
     "text": [
      "tensor([3., 3., 3.], grad_fn=<MulBackward0>)\n"
     ]
    }
   ],
   "source": [
    "x = torch.ones(3)\n",
    "x = Variable(x, requires_grad=True)\n",
    "y = (x**2)\n",
    "z = y*3\n",
    "print(z)\n",
    "grad = torch.Tensor([0.1, 1, 10])\n",
    "z.backward(grad)"
   ]
  },
  {
   "cell_type": "code",
   "execution_count": 47,
   "metadata": {},
   "outputs": [
    {
     "name": "stdout",
     "output_type": "stream",
     "text": [
      "----x.data----\n",
      "tensor([1., 1., 1.])\n",
      "----x.grad----\n",
      "tensor([ 0.6000,  6.0000, 60.0000])\n",
      "----x.grad_fn----\n",
      "None\n"
     ]
    }
   ],
   "source": [
    "print('----x.data----')\n",
    "print(x.data)\n",
    "print('----x.grad----')\n",
    "print(x.grad)\n",
    "print('----x.grad_fn----')\n",
    "print(x.grad_fn)"
   ]
  },
  {
   "cell_type": "markdown",
   "metadata": {},
   "source": [
    "# nn & nn.functional\n",
    "- nn이나 nn.functional이 제공하는 기능이 유사한데 사용하는 방식의 차이가 약간 있음"
   ]
  },
  {
   "cell_type": "code",
   "execution_count": 48,
   "metadata": {},
   "outputs": [],
   "source": [
    "import torch.nn as nn\n",
    "import torch.nn.functional as F"
   ]
  },
  {
   "cell_type": "markdown",
   "metadata": {},
   "source": [
    "## conv2d를 통한 비교\n",
    "- nn.Conv2d(input 채널, output 채널(필터 개수)...)\n",
    "    - weight값을 직접 설정해주지 않음\n",
    "        - weight를 자동으로 설정해줌\n",
    "- nn.functional.conv2d(input 채널, weight...)"
   ]
  },
  {
   "cell_type": "markdown",
   "metadata": {},
   "source": [
    "### nn.functional.Conv2d"
   ]
  },
  {
   "cell_type": "code",
   "execution_count": 49,
   "metadata": {},
   "outputs": [
    {
     "name": "stdout",
     "output_type": "stream",
     "text": [
      "tensor([[[[1., 1., 1.],\n",
      "          [1., 1., 1.],\n",
      "          [1., 1., 1.]]]], requires_grad=True)\n"
     ]
    }
   ],
   "source": [
    "input = torch.ones(1,1,3,3)\n",
    "filter = torch.ones(1,1,3,3)\n",
    "\n",
    "input = Variable(input, requires_grad = True)\n",
    "print(input)"
   ]
  },
  {
   "cell_type": "code",
   "execution_count": 50,
   "metadata": {},
   "outputs": [],
   "source": [
    "filter = Variable(filter)\n",
    "out = F.conv2d(input, filter)"
   ]
  },
  {
   "cell_type": "code",
   "execution_count": 51,
   "metadata": {},
   "outputs": [
    {
     "name": "stdout",
     "output_type": "stream",
     "text": [
      "tensor([[[[9.]]]], grad_fn=<ThnnConv2DBackward>)\n"
     ]
    }
   ],
   "source": [
    "print(out)"
   ]
  },
  {
   "cell_type": "code",
   "execution_count": 52,
   "metadata": {},
   "outputs": [],
   "source": [
    "out.backward()"
   ]
  },
  {
   "cell_type": "code",
   "execution_count": 53,
   "metadata": {},
   "outputs": [
    {
     "name": "stdout",
     "output_type": "stream",
     "text": [
      "<ThnnConv2DBackward object at 0x000001BC6D446FD0>\n"
     ]
    }
   ],
   "source": [
    "print(out.grad_fn)"
   ]
  },
  {
   "cell_type": "code",
   "execution_count": 54,
   "metadata": {},
   "outputs": [
    {
     "name": "stdout",
     "output_type": "stream",
     "text": [
      "tensor([[[[1., 1., 1.],\n",
      "          [1., 1., 1.],\n",
      "          [1., 1., 1.]]]])\n"
     ]
    }
   ],
   "source": [
    "print(input.grad)"
   ]
  },
  {
   "cell_type": "markdown",
   "metadata": {},
   "source": [
    "- filter + 1"
   ]
  },
  {
   "cell_type": "code",
   "execution_count": 55,
   "metadata": {},
   "outputs": [],
   "source": [
    "input = Variable(torch.ones(1,1,3,3), requires_grad = True)\n",
    "filter = filter + 1"
   ]
  },
  {
   "cell_type": "code",
   "execution_count": 56,
   "metadata": {},
   "outputs": [
    {
     "name": "stdout",
     "output_type": "stream",
     "text": [
      "tensor([[[[18.]]]], grad_fn=<ThnnConv2DBackward>)\n",
      "<ThnnConv2DBackward object at 0x000001BC6D446860>\n",
      "----input.grad----\n",
      "tensor([[[[2., 2., 2.],\n",
      "          [2., 2., 2.],\n",
      "          [2., 2., 2.]]]])\n"
     ]
    }
   ],
   "source": [
    "out = F.conv2d(input, filter)\n",
    "print(out)\n",
    "out.backward()\n",
    "print(out.grad_fn)\n",
    "print('----input.grad----')\n",
    "print(input.grad)"
   ]
  },
  {
   "cell_type": "markdown",
   "metadata": {},
   "source": [
    "### nn.Conv2d"
   ]
  },
  {
   "cell_type": "code",
   "execution_count": 58,
   "metadata": {},
   "outputs": [],
   "source": [
    "input = torch.ones(1,1,3,3)\n",
    "input = Variable(input, requires_grad = True)\n",
    "# input 채널, output 채널, 커널 사이즈(3 x 3)\n",
    "func = nn.Conv2d(1,1,3)"
   ]
  },
  {
   "cell_type": "code",
   "execution_count": 59,
   "metadata": {},
   "outputs": [
    {
     "data": {
      "text/plain": [
       "Parameter containing:\n",
       "tensor([[[[ 0.3129,  0.3183, -0.0531],\n",
       "          [ 0.1749,  0.0574, -0.0492],\n",
       "          [ 0.2198,  0.2524, -0.2807]]]], requires_grad=True)"
      ]
     },
     "execution_count": 59,
     "metadata": {},
     "output_type": "execute_result"
    }
   ],
   "source": [
    "func.weight"
   ]
  },
  {
   "cell_type": "code",
   "execution_count": 60,
   "metadata": {},
   "outputs": [
    {
     "name": "stdout",
     "output_type": "stream",
     "text": [
      "tensor([[[[1.0461]]]], grad_fn=<ThnnConv2DBackward>)\n"
     ]
    }
   ],
   "source": [
    "out = func(input)\n",
    "print(out)"
   ]
  },
  {
   "cell_type": "code",
   "execution_count": 61,
   "metadata": {},
   "outputs": [
    {
     "name": "stdout",
     "output_type": "stream",
     "text": [
      "None\n"
     ]
    }
   ],
   "source": [
    "print(input.grad)"
   ]
  },
  {
   "cell_type": "code",
   "execution_count": 62,
   "metadata": {},
   "outputs": [],
   "source": [
    "out.backward()"
   ]
  },
  {
   "cell_type": "code",
   "execution_count": 63,
   "metadata": {},
   "outputs": [
    {
     "name": "stdout",
     "output_type": "stream",
     "text": [
      "tensor([[[[ 0.3129,  0.3183, -0.0531],\n",
      "          [ 0.1749,  0.0574, -0.0492],\n",
      "          [ 0.2198,  0.2524, -0.2807]]]])\n"
     ]
    }
   ],
   "source": [
    "print(input.grad)"
   ]
  },
  {
   "cell_type": "markdown",
   "metadata": {},
   "source": [
    "### 5x5 에 3x3 filter conv"
   ]
  },
  {
   "cell_type": "code",
   "execution_count": 65,
   "metadata": {},
   "outputs": [
    {
     "name": "stdout",
     "output_type": "stream",
     "text": [
      "Parameter containing:\n",
      "tensor([[[[ 0.2651,  0.2781, -0.2381],\n",
      "          [-0.0356, -0.1803,  0.2359],\n",
      "          [-0.1297,  0.2174, -0.2726]]]], requires_grad=True)\n"
     ]
    }
   ],
   "source": [
    "input = torch.ones(1,1,5,5)\n",
    "input = Variable(input, requires_grad=True)\n",
    "\n",
    "filter = nn.Conv2d(1,1,3,bias=None)\n",
    "print(filter.weight)"
   ]
  },
  {
   "cell_type": "markdown",
   "metadata": {},
   "source": [
    "- 직접 weight 설정"
   ]
  },
  {
   "cell_type": "code",
   "execution_count": 66,
   "metadata": {},
   "outputs": [],
   "source": [
    "filter.weight = torch.nn.Parameter(torch.ones(1,1,3,3) + 1)"
   ]
  },
  {
   "cell_type": "code",
   "execution_count": 68,
   "metadata": {},
   "outputs": [
    {
     "data": {
      "text/plain": [
       "Parameter containing:\n",
       "tensor([[[[2., 2., 2.],\n",
       "          [2., 2., 2.],\n",
       "          [2., 2., 2.]]]], requires_grad=True)"
      ]
     },
     "execution_count": 68,
     "metadata": {},
     "output_type": "execute_result"
    }
   ],
   "source": [
    "filter.weight"
   ]
  },
  {
   "cell_type": "code",
   "execution_count": 69,
   "metadata": {},
   "outputs": [],
   "source": [
    "out = filter(input)"
   ]
  },
  {
   "cell_type": "code",
   "execution_count": 75,
   "metadata": {},
   "outputs": [
    {
     "name": "stdout",
     "output_type": "stream",
     "text": [
      "tensor([[[[18., 18., 18.],\n",
      "          [18., 18., 18.],\n",
      "          [18., 18., 18.]]]], grad_fn=<ThnnConv2DBackward>)\n"
     ]
    }
   ],
   "source": [
    "print(out)"
   ]
  },
  {
   "cell_type": "code",
   "execution_count": 86,
   "metadata": {},
   "outputs": [],
   "source": [
    "out = out.sum()"
   ]
  },
  {
   "cell_type": "code",
   "execution_count": 87,
   "metadata": {},
   "outputs": [],
   "source": [
    "out.backward()"
   ]
  },
  {
   "cell_type": "code",
   "execution_count": 88,
   "metadata": {},
   "outputs": [
    {
     "name": "stdout",
     "output_type": "stream",
     "text": [
      "tensor([[[[ 2.,  4.,  6.,  4.,  2.],\n",
      "          [ 4.,  8., 12.,  8.,  4.],\n",
      "          [ 6., 12., 18., 12.,  6.],\n",
      "          [ 4.,  8., 12.,  8.,  4.],\n",
      "          [ 2.,  4.,  6.,  4.,  2.]]]])\n"
     ]
    }
   ],
   "source": [
    "print(input.grad)"
   ]
  },
  {
   "cell_type": "code",
   "execution_count": 97,
   "metadata": {},
   "outputs": [
    {
     "data": {
      "text/plain": [
       "tensor([[[[1., 1., 1., 1., 1.],\n",
       "          [1., 1., 1., 1., 1.],\n",
       "          [1., 1., 1., 1., 1.],\n",
       "          [1., 1., 1., 1., 1.],\n",
       "          [1., 1., 1., 1., 1.]]]], requires_grad=True)"
      ]
     },
     "execution_count": 97,
     "metadata": {},
     "output_type": "execute_result"
    }
   ],
   "source": [
    "input"
   ]
  },
  {
   "cell_type": "code",
   "execution_count": 91,
   "metadata": {},
   "outputs": [
    {
     "data": {
      "text/plain": [
       "Parameter containing:\n",
       "tensor([[[[2., 2., 2.],\n",
       "          [2., 2., 2.],\n",
       "          [2., 2., 2.]]]], requires_grad=True)"
      ]
     },
     "execution_count": 91,
     "metadata": {},
     "output_type": "execute_result"
    }
   ],
   "source": [
    "filter.weight"
   ]
  },
  {
   "cell_type": "code",
   "execution_count": 89,
   "metadata": {},
   "outputs": [
    {
     "data": {
      "text/plain": [
       "tensor([[[[1., 1., 1., 1., 1.],\n",
       "          [1., 1., 1., 1., 1.],\n",
       "          [1., 1., 1., 1., 1.],\n",
       "          [1., 1., 1., 1., 1.],\n",
       "          [1., 1., 1., 1., 1.]]]])"
      ]
     },
     "execution_count": 89,
     "metadata": {},
     "output_type": "execute_result"
    }
   ],
   "source": [
    "input.data"
   ]
  },
  {
   "cell_type": "markdown",
   "metadata": {},
   "source": [
    "### ReLU, sigmoid, tanh, Max Pooling"
   ]
  },
  {
   "cell_type": "code",
   "execution_count": 77,
   "metadata": {},
   "outputs": [
    {
     "name": "stdout",
     "output_type": "stream",
     "text": [
      "tensor([[[[ 0.2947,  1.3136,  0.2224],\n",
      "          [-0.5110, -0.1759,  0.1465],\n",
      "          [ 1.0200, -0.1743,  1.1107]]]])\n",
      "tensor([[[[0.2947, 1.3136, 0.2224],\n",
      "          [0.0000, 0.0000, 0.1465],\n",
      "          [1.0200, 0.0000, 1.1107]]]])\n"
     ]
    }
   ],
   "source": [
    "act_input = Variable(torch.randn(1,1,3,3))\n",
    "print(act_input)\n",
    "\n",
    "act = F.relu(act_input)\n",
    "print(act)"
   ]
  },
  {
   "cell_type": "code",
   "execution_count": 78,
   "metadata": {},
   "outputs": [
    {
     "name": "stdout",
     "output_type": "stream",
     "text": [
      "tensor([[[[1.3136, 1.3136],\n",
      "          [1.0200, 1.1107]]]])\n"
     ]
    }
   ],
   "source": [
    "m = nn.MaxPool2d(2, stride=1)\n",
    "m_out = m(act)\n",
    "\n",
    "print(m_out)"
   ]
  },
  {
   "cell_type": "code",
   "execution_count": 79,
   "metadata": {},
   "outputs": [
    {
     "name": "stdout",
     "output_type": "stream",
     "text": [
      "tensor([[[[0.7881, 0.7881],\n",
      "          [0.7350, 0.7523]]]])\n"
     ]
    },
    {
     "name": "stderr",
     "output_type": "stream",
     "text": [
      "C:\\Users\\ultra\\Anaconda3\\envs\\pytorch_env\\lib\\site-packages\\torch\\nn\\functional.py:1350: UserWarning: nn.functional.sigmoid is deprecated. Use torch.sigmoid instead.\n",
      "  warnings.warn(\"nn.functional.sigmoid is deprecated. Use torch.sigmoid instead.\")\n"
     ]
    }
   ],
   "source": [
    "act2 = F.sigmoid(m_out)\n",
    "print(act2)"
   ]
  },
  {
   "cell_type": "code",
   "execution_count": 80,
   "metadata": {},
   "outputs": [
    {
     "name": "stdout",
     "output_type": "stream",
     "text": [
      "tensor([[[[0.8652, 0.8652],\n",
      "          [0.7699, 0.8043]]]])\n"
     ]
    },
    {
     "name": "stderr",
     "output_type": "stream",
     "text": [
      "C:\\Users\\ultra\\Anaconda3\\envs\\pytorch_env\\lib\\site-packages\\torch\\nn\\functional.py:1339: UserWarning: nn.functional.tanh is deprecated. Use torch.tanh instead.\n",
      "  warnings.warn(\"nn.functional.tanh is deprecated. Use torch.tanh instead.\")\n"
     ]
    }
   ],
   "source": [
    "act3 = F.tanh(m_out)\n",
    "print(act3)"
   ]
  },
  {
   "cell_type": "code",
   "execution_count": 81,
   "metadata": {
    "scrolled": true
   },
   "outputs": [
    {
     "name": "stdout",
     "output_type": "stream",
     "text": [
      "tensor([[[[0.8261]]]])\n"
     ]
    }
   ],
   "source": [
    "avg = nn.AvgPool2d(2, stride=1)\n",
    "avg_out = avg(act3)\n",
    "print(avg_out)"
   ]
  },
  {
   "cell_type": "markdown",
   "metadata": {},
   "source": [
    "## Define the Network\n",
    "- Class 선언으로 사용하고자 하는 Network를 직접 구현\n",
    "- Class로 선언할 Network에 필수 요소\n",
    "- def __init__(self):\n",
    "- def forward(self, x):"
   ]
  },
  {
   "cell_type": "code",
   "execution_count": 92,
   "metadata": {},
   "outputs": [
    {
     "name": "stdout",
     "output_type": "stream",
     "text": [
      "tensor([[[[0.8261]]]])\n"
     ]
    }
   ],
   "source": [
    "avg = nn.AvgPool2d(2, stride=1)\n",
    "avg_out = avg(act3)\n",
    "print(avg_out)"
   ]
  },
  {
   "cell_type": "code",
   "execution_count": 95,
   "metadata": {},
   "outputs": [],
   "source": [
    "class model(nn.Module):\n",
    "    def __init__(self):\n",
    "        super(model, self).__init__()\n",
    "        self.Max_pool = nn.MaxPool2d(2, stride=1)\n",
    "        self.Avg_pool = nn.AvgPool2d(2, stride=1)\n",
    "    def forward(self, x):\n",
    "        x = F.relu(x)\n",
    "        x = self.Max_pool(x)\n",
    "        x = F.tanh(x)\n",
    "        x = self.Avg_pool(x)\n",
    "        return x"
   ]
  },
  {
   "cell_type": "code",
   "execution_count": 96,
   "metadata": {},
   "outputs": [
    {
     "name": "stderr",
     "output_type": "stream",
     "text": [
      "C:\\Users\\ultra\\Anaconda3\\envs\\pytorch_env\\lib\\site-packages\\torch\\nn\\functional.py:1339: UserWarning: nn.functional.tanh is deprecated. Use torch.tanh instead.\n",
      "  warnings.warn(\"nn.functional.tanh is deprecated. Use torch.tanh instead.\")\n"
     ]
    },
    {
     "data": {
      "text/plain": [
       "tensor([[[[0.8261]]]])"
      ]
     },
     "execution_count": 96,
     "metadata": {},
     "output_type": "execute_result"
    }
   ],
   "source": [
    "out = model()\n",
    "out(act_input)"
   ]
  },
  {
   "cell_type": "markdown",
   "metadata": {},
   "source": [
    "__정리__\n",
    "- Pytorch에서 연산을 위한 변수는 모두 Tensor로 선언되어 있어야 함\n",
    "- Autograd 기능을 이용하면 Backprop을 자동으로 수행시킬 수 있음\n",
    "- 그를 위해서는 Backprop 계산을 해야하는 Tensor 형태의 변수를 Variable로 감싸야 함\n",
    "- Pytorch에서 제공하는 nn과 nn.functional을 이용하면 Neural Network위한 함수를 쉽게 사용할 수 있음\n",
    "- nn과 nn.functional의 차이를 알고 쓰는 것이 좋음\n"
   ]
  },
  {
   "cell_type": "markdown",
   "metadata": {},
   "source": [
    "# Data Loader & make NN"
   ]
  },
  {
   "cell_type": "markdown",
   "metadata": {},
   "source": [
    "## DataLoader(input value setting)\n",
    "- 입력은 어떻게 정의하는지\n",
    "- batch나 epoch은 어떻게\n",
    "- 선처리를 어떻게 할 수 있는지\n",
    "- mnist, cifar-10같은 공용 데이터 셋말고 자신의 데이터를 넣고 싶을 때"
   ]
  },
  {
   "cell_type": "code",
   "execution_count": 100,
   "metadata": {},
   "outputs": [],
   "source": [
    "%matplotlib inline\n",
    "import matplotlib\n",
    "import matplotlib.pyplot as plt\n",
    "\n",
    "import torch\n",
    "import torch.nn as nn\n",
    "import torch.nn.functional as F\n",
    "from torch.autograd import Variable\n",
    "from torch.utils.data import Dataset, DataLoader\n",
    "\n",
    "import numpy as np\n",
    "\n",
    "import torchvision\n",
    "import torchvision.transforms as transforms"
   ]
  },
  {
   "cell_type": "markdown",
   "metadata": {},
   "source": [
    "### transforms\n",
    "- 선처리를 위한 함수\n",
    "- Compose를 통해 선처리를 여러개 진행할때 모아주는 역할"
   ]
  },
  {
   "cell_type": "code",
   "execution_count": 64,
   "metadata": {},
   "outputs": [],
   "source": [
    "# transforms.ToTensor() : numpy에서 tensor로 바꿔주고 채널의 변화를 가지고온다\n",
    "# transforms.Normalize() : 정규화 \n",
    "transform = transforms.Compose([transforms.ToTensor(), transforms.Normalize((0.5, 0.5, 0.5), (0.5, 0.5, 0.5))])"
   ]
  },
  {
   "cell_type": "code",
   "execution_count": 65,
   "metadata": {},
   "outputs": [
    {
     "name": "stdout",
     "output_type": "stream",
     "text": [
      "Files already downloaded and verified\n",
      "Files already downloaded and verified\n"
     ]
    }
   ],
   "source": [
    "trainset = torchvision.datasets.CIFAR10(root='./data', train = True, download=True, transform=transform)\n",
    "testset = torchvision.datasets.CIFAR10(root='./data', train = False, download=True, transform=transform)"
   ]
  },
  {
   "cell_type": "code",
   "execution_count": 66,
   "metadata": {},
   "outputs": [],
   "source": [
    "# 이미지를 가지고오는 연산은 cpu에서 처리 cpu 프로세스를 몇개 사용하냐를 : num_woworkers로 \n",
    "trainloader = DataLoader(trainset, batch_size=8, shuffle=True, num_workers=2)\n",
    "testloader = DataLoader(testset, batch_size=8, shuffle=False, num_workers=2)"
   ]
  },
  {
   "cell_type": "code",
   "execution_count": 135,
   "metadata": {},
   "outputs": [],
   "source": [
    "classes = ('plane', 'car', 'bird', 'cat', 'deer', 'dog', 'frog', 'horse', 'ship', 'truck')"
   ]
  },
  {
   "cell_type": "code",
   "execution_count": 136,
   "metadata": {},
   "outputs": [],
   "source": [
    "def imshow(img):\n",
    "    img = img / 2 + 0.5\n",
    "    np_img = img.numpy()\n",
    "    # 선처리 부분의 ToTensor에서 H x W x C 를 C x H x W 로 바꿨었기 때문에 다시 원래대로 바꿔줌\n",
    "    # 0 1 2 를 1 2 0 으로\n",
    "    plt.imshow(np.transpose(np_img, (1,2,0)))\n",
    "    \n",
    "    print(np_img.shape)\n",
    "    print((np.transpose(np_img, (1,2,0))).shape)"
   ]
  },
  {
   "cell_type": "code",
   "execution_count": 137,
   "metadata": {},
   "outputs": [],
   "source": [
    "dataiter = iter(trainloader)\n",
    "images, labels = dataiter.next()"
   ]
  },
  {
   "cell_type": "code",
   "execution_count": 109,
   "metadata": {},
   "outputs": [
    {
     "name": "stdout",
     "output_type": "stream",
     "text": [
      "0 torch.Size([8, 3, 32, 32]) torch.Size([8])\n",
      "1000 torch.Size([8, 3, 32, 32]) torch.Size([8])\n",
      "2000 torch.Size([8, 3, 32, 32]) torch.Size([8])\n",
      "3000 torch.Size([8, 3, 32, 32]) torch.Size([8])\n",
      "4000 torch.Size([8, 3, 32, 32]) torch.Size([8])\n",
      "5000 torch.Size([8, 3, 32, 32]) torch.Size([8])\n",
      "6000 torch.Size([8, 3, 32, 32]) torch.Size([8])\n"
     ]
    }
   ],
   "source": [
    "for n, (img, labels) in enumerate(trainloader):\n",
    "    if n % 1000 == 0:\n",
    "        print(n, img.shape, labels.shape)"
   ]
  },
  {
   "cell_type": "code",
   "execution_count": 139,
   "metadata": {},
   "outputs": [
    {
     "name": "stdout",
     "output_type": "stream",
     "text": [
      "torch.Size([8, 3, 32, 32])\n",
      "(3, 70, 138)\n",
      "(70, 138, 3)\n",
      "torch.Size([8, 3, 32, 32])\n",
      "torch.Size([3, 36, 274])\n",
      " ship   car horse  deer   car   dog plane   car \n"
     ]
    },
    {
     "data": {
      "image/png": "[encoded data removed]",
      "text/plain": [
       "<Figure size 432x288 with 1 Axes>"
      ]
     },
     "metadata": {
      "needs_background": "light"
     },
     "output_type": "display_data"
    }
   ],
   "source": [
    "print(images.shape)\n",
    "imshow(torchvision.utils.make_grid(images, nrow=4))\n",
    "print(images.shape)\n",
    "print((torchvision.utils.make_grid(images)).shape)\n",
    "print(''.join('%5s ' %classes[labels[j]] for j in range(8)))"
   ]
  },
  {
   "cell_type": "markdown",
   "metadata": {},
   "source": [
    "### 자신의 데이터 셋을 넣는 방법\n",
    "- 폴더 구조 유의"
   ]
  },
  {
   "cell_type": "code",
   "execution_count": 9,
   "metadata": {
    "scrolled": true
   },
   "outputs": [],
   "source": [
    "trans = transforms.Compose([transforms.Resize((100,100)), transforms.ToTensor(), transforms.Normalize((0.5, 0.5, 0.5), (0.5, 0.5, 0.5))])\n",
    "trainset = torchvision.datasets.ImageFolder(root='./data/shiba', transform=trans)"
   ]
  },
  {
   "cell_type": "code",
   "execution_count": 10,
   "metadata": {},
   "outputs": [
    {
     "data": {
      "text/plain": [
       "2"
      ]
     },
     "execution_count": 10,
     "metadata": {},
     "output_type": "execute_result"
    }
   ],
   "source": [
    "len(trainset)"
   ]
  },
  {
   "cell_type": "code",
   "execution_count": 11,
   "metadata": {},
   "outputs": [],
   "source": [
    "trainloader = DataLoader(trainset, batch_size=8, shuffle=False, num_workers=2)\n",
    "dataiter = iter(trainloader)\n",
    "images, labels = dataiter.next()"
   ]
  },
  {
   "cell_type": "code",
   "execution_count": 131,
   "metadata": {},
   "outputs": [
    {
     "name": "stdout",
     "output_type": "stream",
     "text": [
      "torch.Size([2, 3, 100, 100])\n",
      "(3, 104, 206)\n",
      "(104, 206, 3)\n",
      "torch.Size([2, 3, 100, 100])\n",
      "torch.Size([3, 104, 206])\n",
      "tensor(0) tensor(1) \n"
     ]
    },
    {
     "data": {
      "image/png": "[encoded data removed]",
      "text/plain": [
       "<Figure size 432x288 with 1 Axes>"
      ]
     },
     "metadata": {
      "needs_background": "light"
     },
     "output_type": "display_data"
    }
   ],
   "source": [
    "print(images.shape)\n",
    "imshow(torchvision.utils.make_grid(images, nrow=4))\n",
    "print(images.shape)\n",
    "print((torchvision.utils.make_grid(images)).shape)\n",
    "print(''.join('%5s ' %labels[j] for j in range(2)))"
   ]
  },
  {
   "cell_type": "markdown",
   "metadata": {},
   "source": [
    "## Define the Network\n",
    "```python\n",
    "    class my_network(nn.Module):\n",
    "        def __init__(self):\n",
    "            super(my_entwork, self).__init__()\n",
    "            (사용할 함수들을 정의할 장소)\n",
    "\n",
    "        # input이 여러개면 x,y,z,...\n",
    "        def forward(self, x):\n",
    "            (함수들을 사용하여 Network의 forward를 정의하는 장소)\n",
    "```\n",
    "    "
   ]
  },
  {
   "cell_type": "code",
   "execution_count": 140,
   "metadata": {},
   "outputs": [
    {
     "name": "stdout",
     "output_type": "stream",
     "text": [
      "0 torch.Size([8, 3, 32, 32]) torch.Size([8])\n"
     ]
    }
   ],
   "source": [
    "imgs = 0\n",
    "for n, (img, labels) in enumerate(trainloader):\n",
    "    print(n, img.shape, labels.shape)\n",
    "    imgs = img\n",
    "    break"
   ]
  },
  {
   "cell_type": "code",
   "execution_count": 141,
   "metadata": {},
   "outputs": [],
   "source": [
    "net = nn.Conv2d(3,5,5)"
   ]
  },
  {
   "cell_type": "code",
   "execution_count": 142,
   "metadata": {},
   "outputs": [
    {
     "name": "stdout",
     "output_type": "stream",
     "text": [
      "torch.Size([8, 5, 28, 28])\n"
     ]
    }
   ],
   "source": [
    "out1 = net(Variable(imgs))\n",
    "print(out1.shape)"
   ]
  },
  {
   "cell_type": "code",
   "execution_count": 143,
   "metadata": {},
   "outputs": [],
   "source": [
    "net2 = nn.Conv2d(5,10,5)"
   ]
  },
  {
   "cell_type": "code",
   "execution_count": 144,
   "metadata": {},
   "outputs": [
    {
     "name": "stdout",
     "output_type": "stream",
     "text": [
      "torch.Size([8, 10, 24, 24])\n"
     ]
    }
   ],
   "source": [
    "out2 = net2(out1)\n",
    "print(out2.shape)"
   ]
  },
  {
   "cell_type": "markdown",
   "metadata": {},
   "source": [
    "__network를 class로 만들어 사용__"
   ]
  },
  {
   "cell_type": "code",
   "execution_count": 145,
   "metadata": {},
   "outputs": [],
   "source": [
    "class my_network(nn.Module):\n",
    "    def __init__(self):\n",
    "        super(my_network, self).__init__()\n",
    "        self.net_1 = nn.Conv2d(3,5,5)\n",
    "        self.net_2 = nn.Conv2d(5,10,5)\n",
    "    def forward(self, x):\n",
    "        x = self.net_1(x)\n",
    "        x = self.net_2(x)\n",
    "        return x"
   ]
  },
  {
   "cell_type": "code",
   "execution_count": 146,
   "metadata": {},
   "outputs": [
    {
     "name": "stdout",
     "output_type": "stream",
     "text": [
      "0 torch.Size([8, 3, 32, 32]) torch.Size([8])\n"
     ]
    }
   ],
   "source": [
    "imgs = 0\n",
    "for n, (img, labels) in enumerate(trainloader):\n",
    "    print(n, img.shape, labels.shape)\n",
    "    imgs = img\n",
    "    break"
   ]
  },
  {
   "cell_type": "code",
   "execution_count": 147,
   "metadata": {},
   "outputs": [],
   "source": [
    "my_net = my_network()"
   ]
  },
  {
   "cell_type": "code",
   "execution_count": 148,
   "metadata": {},
   "outputs": [
    {
     "name": "stdout",
     "output_type": "stream",
     "text": [
      "torch.Size([8, 10, 24, 24])\n"
     ]
    }
   ],
   "source": [
    "out = my_net(Variable(imgs))\n",
    "print(out.shape)"
   ]
  },
  {
   "cell_type": "markdown",
   "metadata": {},
   "source": [
    "# Optim & Criterion\n",
    "- forward 출력으로 loss를 구하고 torch.optim을 통해 update"
   ]
  },
  {
   "cell_type": "markdown",
   "metadata": {},
   "source": [
    "## Loss는 어디서 생기는지\n",
    "- input, output, label\n",
    "- y = Wx + b\n",
    "- d - y가 0이길 희망\n",
    "- Error(=Loss)는 어떻게 계산하는지\n",
    "    - Regression(회귀)\n",
    "        - 출력층에 쓰이는 활성화 함수(항등사항= 나오는대로 쓴다)\n",
    "        - Error Function : 제곱오차\n",
    "    - 이진분류(Binary Classification)\n",
    "        - 출력층에 쓰이는 함수(Logistic Function)\n",
    "        - Error Function : BCELoss\n",
    "    - 다 클래스 분류(Multi class Classification)\n",
    "        - 출력층에 쓰이는 함수(Softmax function)\n",
    "        - Error Function : CrossEntropy\n"
   ]
  },
  {
   "cell_type": "markdown",
   "metadata": {},
   "source": [
    "__요약__\n",
    "1. import torch, torch.nn, torchvision, torch\n",
    "2. Dataset 만들기 - torchvision, torch.utils.data.Dataset\n",
    "3. Model 만들기 - class Mynetwork(nn.Module)\n",
    "4. Optim과 loss계산 함수 결정\n",
    "5. 학습을 위한 반복문 작성\n",
    "6. 평가 및 모델 저장"
   ]
  },
  {
   "cell_type": "code",
   "execution_count": 1,
   "metadata": {},
   "outputs": [],
   "source": [
    "%matplotlib inline\n",
    "import matplotlib\n",
    "import matplotlib.pyplot as plt\n",
    "\n",
    "import torch\n",
    "import torch.nn as nn\n",
    "import torch.nn.functional as F\n",
    "from torch.autograd import Variable\n",
    "from torch.utils.data import Dataset, DataLoader\n",
    "\n",
    "import numpy as np\n",
    "\n",
    "import torchvision\n",
    "import torchvision.transforms as transforms"
   ]
  },
  {
   "cell_type": "code",
   "execution_count": 71,
   "metadata": {},
   "outputs": [],
   "source": [
    "class my_network(nn.Module):\n",
    "    def __init__(self):\n",
    "        super(my_network, self).__init__()\n",
    "        self.conv1 = nn.Conv2d(3,64,5)\n",
    "        self.conv2 = nn.Conv2d(64,30,5)\n",
    "        self.fc1 = nn.Linear(30*5*5,128)\n",
    "        self.fc2 = nn.Linear(128,10)\n",
    "        \n",
    "    def forward(self, x):\n",
    "        x = F.relu(self.conv1(x), inplace=True)\n",
    "        x = F.max_pool2d(x, (2,2))\n",
    "        x = F.relu(self.conv2(x), inplace=True)\n",
    "        x = F.max_pool2d(x, (2,2))\n",
    "        x = x.view(x.shape[0], -1)\n",
    "        x = F.relu(self.fc1(x), inplace=True)\n",
    "        x = F.relu(self.fc2(x), inplace=True)\n",
    "        \n",
    "        return x"
   ]
  },
  {
   "cell_type": "code",
   "execution_count": 72,
   "metadata": {},
   "outputs": [],
   "source": [
    "my_net = my_network()"
   ]
  },
  {
   "cell_type": "code",
   "execution_count": 73,
   "metadata": {},
   "outputs": [],
   "source": [
    "optim = torch.optim.SGD(Net.parameters(), lr=0.01, momentum=0.9)\n",
    "loss_function = nn.CrossEntropyLoss()"
   ]
  },
  {
   "cell_type": "code",
   "execution_count": 75,
   "metadata": {},
   "outputs": [
    {
     "name": "stdout",
     "output_type": "stream",
     "text": [
      "0 = > loss : 2.295288324356079\n",
      "64 = > loss : 2.2778372764587402\n",
      "128 = > loss : 2.3005449771881104\n",
      "192 = > loss : 2.3072192668914795\n",
      "256 = > loss : 2.3083341121673584\n",
      "320 = > loss : 2.279324769973755\n",
      "384 = > loss : 2.2876152992248535\n",
      "448 = > loss : 2.3202266693115234\n",
      "512 = > loss : 2.2992186546325684\n",
      "576 = > loss : 2.31765079498291\n",
      "640 = > loss : 2.3120040893554688\n",
      "704 = > loss : 2.30134916305542\n",
      "768 = > loss : 2.2847769260406494\n",
      "832 = > loss : 2.3222248554229736\n",
      "896 = > loss : 2.2886314392089844\n",
      "960 = > loss : 2.319136381149292\n",
      "1024 = > loss : 2.3085315227508545\n",
      "1088 = > loss : 2.3077101707458496\n",
      "1152 = > loss : 2.309800624847412\n",
      "1216 = > loss : 2.3151540756225586\n",
      "1280 = > loss : 2.2940940856933594\n",
      "1344 = > loss : 2.285729169845581\n",
      "1408 = > loss : 2.2985587120056152\n",
      "1472 = > loss : 2.3045883178710938\n",
      "1536 = > loss : 2.3258848190307617\n",
      "1600 = > loss : 2.299806833267212\n",
      "1664 = > loss : 2.3164663314819336\n",
      "1728 = > loss : 2.3105015754699707\n",
      "1792 = > loss : 2.3171937465667725\n",
      "1856 = > loss : 2.288621664047241\n",
      "1920 = > loss : 2.3130316734313965\n",
      "1984 = > loss : 2.3056983947753906\n",
      "2048 = > loss : 2.308180332183838\n",
      "2112 = > loss : 2.318617820739746\n",
      "2176 = > loss : 2.3215548992156982\n",
      "2240 = > loss : 2.303650379180908\n",
      "2304 = > loss : 2.309663772583008\n",
      "2368 = > loss : 2.2918190956115723\n",
      "2432 = > loss : 2.291069746017456\n",
      "2496 = > loss : 2.3121631145477295\n",
      "2560 = > loss : 2.310828924179077\n",
      "2624 = > loss : 2.3171987533569336\n",
      "2688 = > loss : 2.2814159393310547\n",
      "2752 = > loss : 2.289590835571289\n",
      "2816 = > loss : 2.2986207008361816\n",
      "2880 = > loss : 2.2958385944366455\n",
      "2944 = > loss : 2.304173469543457\n",
      "3008 = > loss : 2.31463623046875\n",
      "3072 = > loss : 2.318775177001953\n",
      "3136 = > loss : 2.2981369495391846\n",
      "3200 = > loss : 2.292495012283325\n",
      "3264 = > loss : 2.321354389190674\n",
      "3328 = > loss : 2.3063743114471436\n",
      "3392 = > loss : 2.309584379196167\n",
      "3456 = > loss : 2.315540075302124\n",
      "3520 = > loss : 2.2974905967712402\n",
      "3584 = > loss : 2.3151066303253174\n",
      "3648 = > loss : 2.3197567462921143\n",
      "3712 = > loss : 2.308051586151123\n",
      "3776 = > loss : 2.304236888885498\n",
      "3840 = > loss : 2.306162118911743\n",
      "3904 = > loss : 2.3045408725738525\n",
      "3968 = > loss : 2.282010078430176\n",
      "4032 = > loss : 2.2911579608917236\n",
      "4096 = > loss : 2.3105993270874023\n",
      "4160 = > loss : 2.302175998687744\n",
      "4224 = > loss : 2.2909364700317383\n",
      "4288 = > loss : 2.2993407249450684\n",
      "4352 = > loss : 2.3052427768707275\n",
      "4416 = > loss : 2.297586679458618\n",
      "4480 = > loss : 2.307074785232544\n",
      "4544 = > loss : 2.2995564937591553\n",
      "4608 = > loss : 2.32067608833313\n",
      "4672 = > loss : 2.300194025039673\n",
      "4736 = > loss : 2.3043935298919678\n",
      "4800 = > loss : 2.3090319633483887\n",
      "4864 = > loss : 2.3093302249908447\n",
      "4928 = > loss : 2.3104922771453857\n",
      "4992 = > loss : 2.309192180633545\n",
      "5056 = > loss : 2.3051300048828125\n",
      "5120 = > loss : 2.328136920928955\n",
      "5184 = > loss : 2.2839269638061523\n",
      "5248 = > loss : 2.308194160461426\n",
      "5312 = > loss : 2.321066379547119\n",
      "5376 = > loss : 2.2988100051879883\n",
      "5440 = > loss : 2.301719903945923\n",
      "5504 = > loss : 2.317869186401367\n",
      "5568 = > loss : 2.296643018722534\n",
      "5632 = > loss : 2.297935724258423\n",
      "5696 = > loss : 2.3041086196899414\n",
      "5760 = > loss : 2.298577070236206\n",
      "5824 = > loss : 2.3075332641601562\n",
      "5888 = > loss : 2.3079137802124023\n",
      "5952 = > loss : 2.271183729171753\n",
      "6016 = > loss : 2.2852377891540527\n",
      "6080 = > loss : 2.3143692016601562\n",
      "6144 = > loss : 2.3281071186065674\n",
      "6208 = > loss : 2.3115315437316895\n",
      "train over\n"
     ]
    }
   ],
   "source": [
    "epoch_num = 1\n",
    "for epoch in range(epoch_num):\n",
    "    for i, data in enumerate(trainloader):\n",
    "        inputs, labels = data\n",
    "        inputs, labels = Variable(inputs), Variable(labels)\n",
    "        \n",
    "        # network가 가지고 있는 각 파라미터는 본인의 gradient를 갖고있는데 0으로 초기화 시켜줌\n",
    "        optim.zero_grad()\n",
    "        out = my_net(inputs)\n",
    "        # out과 label을 넣어주면 loss를 계산해줌\n",
    "        loss = loss_function(out, labels)\n",
    "        # loss의 backward를 통해 자동으로 파라미터들이 gradient값을 갖게되고\n",
    "        loss.backward()\n",
    "        # 그 값을 가지고 weight를 업데이트 해줌 \n",
    "        optim.step()\n",
    "        \n",
    "        if i % 64 == 0:\n",
    "            print(f'{i} = > loss : {loss}')\n",
    "print('train over')"
   ]
  },
  {
   "cell_type": "markdown",
   "metadata": {},
   "source": [
    "## 평가"
   ]
  },
  {
   "cell_type": "code",
   "execution_count": 77,
   "metadata": {},
   "outputs": [
    {
     "name": "stdout",
     "output_type": "stream",
     "text": [
      "Accuracy : 10\n"
     ]
    }
   ],
   "source": [
    "total = 0\n",
    "correct = 0\n",
    "for data in testloader:\n",
    "    images, labels = data\n",
    "    outputs = my_net(Variable(images))\n",
    "    # outputs.data 에대해 ndim = 1을 기준으로 max index를 찾음\n",
    "    _, predicted = torch.max(outputs.data, 1)\n",
    "    total += labels.size(0)\n",
    "    correct += (predicted == labels).sum()\n",
    "\n",
    "print(f'Accuracy : {100*correct/total}')"
   ]
  },
  {
   "cell_type": "markdown",
   "metadata": {},
   "source": [
    "# Custom Dataset"
   ]
  },
  {
   "cell_type": "code",
   "execution_count": 78,
   "metadata": {},
   "outputs": [],
   "source": [
    "import os\n",
    "import torch\n",
    "import torch.nn as nn\n",
    "import torch.nn.functional as F\n",
    "from torch.autograd import Variable\n",
    "import torchvision\n",
    "from torch.utils.data import DataLoader, Dataset\n",
    "import PIL.Image as Image\n",
    "import matplotlib.pyplot as plt\n",
    "import torchvision.transforms as transforms"
   ]
  },
  {
   "cell_type": "code",
   "execution_count": 79,
   "metadata": {},
   "outputs": [
    {
     "name": "stdout",
     "output_type": "stream",
     "text": [
      "Files already downloaded and verified\n",
      "Files already downloaded and verified\n"
     ]
    }
   ],
   "source": [
    "transform = transforms.Compose([transforms.ToTensor(),\n",
    "                                transforms.Normalize((0.5, 0.5, 0.5), (0.5, 0.5, 0.5))])\n",
    "\n",
    "trainset = torchvision.datasets.CIFAR10(root='./data',\n",
    "                                        train=True,\n",
    "                                        download=True,\n",
    "                                        transform=transform)\n",
    "\n",
    "testset = torchvision.datasets.CIFAR10(root='./data',\n",
    "                                       train=False,\n",
    "                                       download=True,\n",
    "                                       transform=transform)"
   ]
  },
  {
   "cell_type": "code",
   "execution_count": 80,
   "metadata": {},
   "outputs": [],
   "source": [
    "trainloader = DataLoader(trainset, batch_size=8, shuffle=True, num_workers=2)\n",
    "testlader = DataLoader(testset, batch_size=8, shuffle=False, num_workers=2)"
   ]
  },
  {
   "cell_type": "markdown",
   "metadata": {},
   "source": [
    "## dataset의 형태는 이렇게 만들어줘야 함\n",
    "\n",
    "```python\n",
    "class my_dataset(torch.utils.data.Dataset):\n",
    "    def __init__(self, x, transforms=None):\n",
    "        [ 데이터 셋을 가져와서 선처리를 해준다 ]\n",
    "    def __len__(self):\n",
    "        [ 데이터 셋의 길이를 적어줌 ]\n",
    "    def __getitem__(self, idx):\n",
    "        [ 데이터 셋에서 한 개의 데이터를 가져오는 함수를 정의 ]\n",
    "```\n",
    "\n",
    "- CIFAR-10, COCO, folder, MNIST들 모두 init, len, getitem의 구조를 갖는 class"
   ]
  },
  {
   "cell_type": "markdown",
   "metadata": {},
   "source": [
    "### Custom Dataset 구성방법\n",
    "- class를 만들고 인자로 torch.utils.data.Dataset을 넣어줌\n",
    "- 3가지 함수(init, len, getitem)을 만들어줌"
   ]
  },
  {
   "cell_type": "markdown",
   "metadata": {},
   "source": [
    "# Network 쉽게만들기 & 저장, 불러오기\n",
    "- model 저장하고 불러오기"
   ]
  },
  {
   "cell_type": "code",
   "execution_count": 84,
   "metadata": {},
   "outputs": [],
   "source": [
    "import os\n",
    "import torch\n",
    "import torch.nn as nn\n",
    "import torch.nn.functional as F\n",
    "from torch.autograd import Variable\n",
    "import visdom\n",
    "import torchvision\n",
    "from torch.utils.data import DataLoader, Dataset\n",
    "import PIL.Image as Image\n",
    "import matplotlib.pyplot as plt\n",
    "import torchvision.transforms as transforms"
   ]
  },
  {
   "cell_type": "code",
   "execution_count": 85,
   "metadata": {},
   "outputs": [
    {
     "name": "stdout",
     "output_type": "stream",
     "text": [
      "Files already downloaded and verified\n",
      "Files already downloaded and verified\n"
     ]
    }
   ],
   "source": [
    "transform = transforms.Compose([transforms.ToTensor(),\n",
    "                                transforms.Normalize((0.5, 0.5, 0.5), (0.5, 0.5, 0.5))])\n",
    "\n",
    "trainset = torchvision.datasets.CIFAR10(root='./data',\n",
    "                                        train=True,\n",
    "                                        download=True,\n",
    "                                        transform=transform)\n",
    "\n",
    "testset = torchvision.datasets.CIFAR10(root='./data',\n",
    "                                       train=False,\n",
    "                                       download=True,\n",
    "                                       transform=transform)"
   ]
  },
  {
   "cell_type": "markdown",
   "metadata": {},
   "source": [
    "- layer 형태로 쉽게 network build"
   ]
  },
  {
   "cell_type": "code",
   "execution_count": 90,
   "metadata": {},
   "outputs": [],
   "source": [
    "class Net(nn.Module):\n",
    "    def __init__(self):\n",
    "        super(Net, self).__init__()\n",
    "        \n",
    "        self.layer1 = nn.Sequential(\n",
    "            nn.Conv2d(3,32,5),\n",
    "            nn.ReLU(inplace=True),\n",
    "            nn.Conv2d(32,64,3),\n",
    "            nn.ReLU(inplace=True),\n",
    "            nn.Conv2d(64,128,3),\n",
    "            nn.Conv2d(128,128,3),\n",
    "            nn.ReLU(inplace=True),\n",
    "            nn.Conv2d(128,256,3),\n",
    "            nn.MaxPool2d(2)\n",
    "        )        \n",
    "        self.layer2_1 = nn.Sequential(\n",
    "            nn.Conv2d(256,512,7,1,2),\n",
    "            nn.Conv2d(512,64,1),\n",
    "            nn.MaxPool2d(2)\n",
    "        )        \n",
    "        self.layer2_2 = nn.Sequential(\n",
    "            nn.Conv2d(256,512,5,1,1),\n",
    "            nn.Conv2d(512,64,1),\n",
    "            nn.MaxPool2d(2)\n",
    "        )        \n",
    "        self.layer2_3 = nn.Sequential(\n",
    "            nn.Conv2d(256,512,3),\n",
    "            nn.Conv2d(512,64,1),\n",
    "            nn.MaxPool2d(2)\n",
    "        )\n",
    "        self.fc = nn.Sequential(\n",
    "            nn.Linear(3*64*4*4, 1024),\n",
    "            nn.ReLU(True),\n",
    "            nn.Linear(1024,10)\n",
    "        )\n",
    "        \n",
    "    def forward(self, x):\n",
    "        print(x.data.shape)\n",
    "        x = self.layer1(x)\n",
    "        x1 = self.layer2_1(x)\n",
    "        x2 = self.layer2_2(x)\n",
    "        x3 = self.layer2_3(x)\n",
    "        x = torch.cat((x1,x2,x3),1)\n",
    "        x = x.view(x.shape[0], -1)\n",
    "        x = self.fc(x)\n",
    "        return x"
   ]
  },
  {
   "cell_type": "code",
   "execution_count": 87,
   "metadata": {},
   "outputs": [
    {
     "name": "stdout",
     "output_type": "stream",
     "text": [
      "torch.Size([1, 3, 32, 32])\n",
      "torch.Size([1, 3, 32, 32])\n"
     ]
    }
   ],
   "source": [
    "a = torch.rand(1,3,32,32)\n",
    "print(a.shape)\n",
    "a = Variable(a)\n",
    "print(a.shape)"
   ]
  },
  {
   "cell_type": "code",
   "execution_count": 92,
   "metadata": {},
   "outputs": [
    {
     "name": "stdout",
     "output_type": "stream",
     "text": [
      "torch.Size([1, 3, 32, 32])\n",
      "torch.Size([1, 10])\n"
     ]
    }
   ],
   "source": [
    "network = Net()\n",
    "out = network(a)\n",
    "print(out.shape)"
   ]
  },
  {
   "cell_type": "code",
   "execution_count": 93,
   "metadata": {},
   "outputs": [
    {
     "name": "stdout",
     "output_type": "stream",
     "text": [
      "tensor([[ 0.0153, -0.0097,  0.0258, -0.0428,  0.0169,  0.0074,  0.0365,  0.0247,\n",
      "          0.0269, -0.0490]], grad_fn=<AddmmBackward>)\n"
     ]
    }
   ],
   "source": [
    "print(out)"
   ]
  },
  {
   "cell_type": "markdown",
   "metadata": {},
   "source": [
    "## network save\n",
    "- torch.save(위치, 파일이름)\n",
    "- 같은 아키텍쳐 model인스턴스를 만들고 . load_state_dict(torch.load(경로 + 파일이름))"
   ]
  },
  {
   "cell_type": "code",
   "execution_count": 94,
   "metadata": {},
   "outputs": [],
   "source": [
    "torch.save(network.state_dict(), './cnn.pth')"
   ]
  },
  {
   "cell_type": "code",
   "execution_count": 95,
   "metadata": {},
   "outputs": [
    {
     "data": {
      "text/plain": [
       "<All keys matched successfully>"
      ]
     },
     "execution_count": 95,
     "metadata": {},
     "output_type": "execute_result"
    }
   ],
   "source": [
    "model = Net()\n",
    "model.load_state_dict(torch.load('./cnn.pth'))"
   ]
  },
  {
   "cell_type": "code",
   "execution_count": 97,
   "metadata": {},
   "outputs": [
    {
     "name": "stdout",
     "output_type": "stream",
     "text": [
      "torch.Size([1, 3, 32, 32])\n",
      "tensor([[ 0.0153, -0.0097,  0.0258, -0.0428,  0.0169,  0.0074,  0.0365,  0.0247,\n",
      "          0.0269, -0.0490]], grad_fn=<AddmmBackward>)\n"
     ]
    }
   ],
   "source": [
    "out = model(a)\n",
    "# 결과 값이 위의 값과 일치하는 것을 통해 save한 모델을 load해서 쓰는 것을 알 수 있음\n",
    "print(out)"
   ]
  },
  {
   "cell_type": "markdown",
   "metadata": {},
   "source": [
    "# Visdom\n",
    "- 프롬프트에서 `python -m visdom.server`"
   ]
  },
  {
   "cell_type": "code",
   "execution_count": 99,
   "metadata": {},
   "outputs": [],
   "source": [
    "import torch\n",
    "import torch.nn as nn\n",
    "import torch.nn.functional as F\n",
    "from torch.autograd import Variable\n",
    "from torch.utils.data import Dataset, DataLoader\n",
    "\n",
    "import numpy as np\n",
    "import visdom"
   ]
  },
  {
   "cell_type": "code",
   "execution_count": 100,
   "metadata": {},
   "outputs": [
    {
     "name": "stderr",
     "output_type": "stream",
     "text": [
      "WARNING:root:Setting up a new session...\n"
     ]
    }
   ],
   "source": [
    "vis = visdom.Visdom()\n",
    "\n",
    "textwindow = vis.text(\"Hello Pytorch\")"
   ]
  },
  {
   "cell_type": "code",
   "execution_count": 101,
   "metadata": {},
   "outputs": [],
   "source": [
    "import torchvision\n",
    "import torchvision.transforms as transforms"
   ]
  },
  {
   "cell_type": "code",
   "execution_count": 102,
   "metadata": {},
   "outputs": [
    {
     "name": "stdout",
     "output_type": "stream",
     "text": [
      "Downloading http://yann.lecun.com/exdb/mnist/train-images-idx3-ubyte.gz to ./data\\MNIST\\raw\\train-images-idx3-ubyte.gz\n"
     ]
    },
    {
     "name": "stderr",
     "output_type": "stream",
     "text": [
      "100.1%"
     ]
    },
    {
     "name": "stdout",
     "output_type": "stream",
     "text": [
      "Extracting ./data\\MNIST\\raw\\train-images-idx3-ubyte.gz to ./data\\MNIST\\raw\n",
      "Downloading http://yann.lecun.com/exdb/mnist/train-labels-idx1-ubyte.gz to ./data\\MNIST\\raw\\train-labels-idx1-ubyte.gz\n"
     ]
    },
    {
     "name": "stderr",
     "output_type": "stream",
     "text": [
      "113.5%"
     ]
    },
    {
     "name": "stdout",
     "output_type": "stream",
     "text": [
      "Extracting ./data\\MNIST\\raw\\train-labels-idx1-ubyte.gz to ./data\\MNIST\\raw\n",
      "Downloading http://yann.lecun.com/exdb/mnist/t10k-images-idx3-ubyte.gz to ./data\\MNIST\\raw\\t10k-images-idx3-ubyte.gz\n"
     ]
    },
    {
     "name": "stderr",
     "output_type": "stream",
     "text": [
      "100.4%"
     ]
    },
    {
     "name": "stdout",
     "output_type": "stream",
     "text": [
      "Extracting ./data\\MNIST\\raw\\t10k-images-idx3-ubyte.gz to ./data\\MNIST\\raw\n",
      "Downloading http://yann.lecun.com/exdb/mnist/t10k-labels-idx1-ubyte.gz to ./data\\MNIST\\raw\\t10k-labels-idx1-ubyte.gz\n"
     ]
    },
    {
     "name": "stderr",
     "output_type": "stream",
     "text": [
      "180.4%"
     ]
    },
    {
     "name": "stdout",
     "output_type": "stream",
     "text": [
      "Extracting ./data\\MNIST\\raw\\t10k-labels-idx1-ubyte.gz to ./data\\MNIST\\raw\n",
      "Processing...\n",
      "Done!\n"
     ]
    }
   ],
   "source": [
    "transform = transforms.Compose([transforms.ToTensor(),\n",
    "                                transforms.Normalize((0.5, 0.5, 0.5), (0.5, 0.5, 0.5))])\n",
    "\n",
    "trainset = torchvision.datasets.MNIST(root='./data',\n",
    "                                        train=True,\n",
    "                                        download=True,\n",
    "                                        transform=transform)\n",
    "\n",
    "testset = torchvision.datasets.MNIST(root='./data',\n",
    "                                       train=False,\n",
    "                                       download=True,\n",
    "                                       transform=transform)"
   ]
  },
  {
   "cell_type": "code",
   "execution_count": 103,
   "metadata": {},
   "outputs": [],
   "source": [
    "trainloader = DataLoader(trainset, batch_size=8, shuffle=True, num_workers=2)\n",
    "testloader = DataLoader(testset, batch_size=8, shuffle=True, num_workers=2)"
   ]
  },
  {
   "cell_type": "code",
   "execution_count": null,
   "metadata": {},
   "outputs": [],
   "source": [
    "iter(trainloader)()"
   ]
  },
  {
   "cell_type": "code",
   "execution_count": 104,
   "metadata": {},
   "outputs": [
    {
     "ename": "RuntimeError",
     "evalue": "Caught RuntimeError in DataLoader worker process 0.\nOriginal Traceback (most recent call last):\n  File \"C:\\Users\\ultra\\Anaconda3\\envs\\pytorch_env\\lib\\site-packages\\torch\\utils\\data\\_utils\\worker.py\", line 178, in _worker_loop\n    data = fetcher.fetch(index)\n  File \"C:\\Users\\ultra\\Anaconda3\\envs\\pytorch_env\\lib\\site-packages\\torch\\utils\\data\\_utils\\fetch.py\", line 44, in fetch\n    data = [self.dataset[idx] for idx in possibly_batched_index]\n  File \"C:\\Users\\ultra\\Anaconda3\\envs\\pytorch_env\\lib\\site-packages\\torch\\utils\\data\\_utils\\fetch.py\", line 44, in <listcomp>\n    data = [self.dataset[idx] for idx in possibly_batched_index]\n  File \"C:\\Users\\ultra\\Anaconda3\\envs\\pytorch_env\\lib\\site-packages\\torchvision\\datasets\\mnist.py\", line 95, in __getitem__\n    img = self.transform(img)\n  File \"C:\\Users\\ultra\\Anaconda3\\envs\\pytorch_env\\lib\\site-packages\\torchvision\\transforms\\transforms.py\", line 61, in __call__\n    img = t(img)\n  File \"C:\\Users\\ultra\\Anaconda3\\envs\\pytorch_env\\lib\\site-packages\\torchvision\\transforms\\transforms.py\", line 166, in __call__\n    return F.normalize(tensor, self.mean, self.std, self.inplace)\n  File \"C:\\Users\\ultra\\Anaconda3\\envs\\pytorch_env\\lib\\site-packages\\torchvision\\transforms\\functional.py\", line 217, in normalize\n    tensor.sub_(mean[:, None, None]).div_(std[:, None, None])\nRuntimeError: output with shape [1, 28, 28] doesn't match the broadcast shape [3, 28, 28]\n",
     "output_type": "error",
     "traceback": [
      "\u001b[1;31m---------------------------------------------------------------------------\u001b[0m",
      "\u001b[1;31mRuntimeError\u001b[0m                              Traceback (most recent call last)",
      "\u001b[1;32m<ipython-input-104-b8299275711d>\u001b[0m in \u001b[0;36m<module>\u001b[1;34m\u001b[0m\n\u001b[1;32m----> 1\u001b[1;33m \u001b[1;32mfor\u001b[0m \u001b[0mi\u001b[0m\u001b[1;33m,\u001b[0m\u001b[0mdata\u001b[0m \u001b[1;32min\u001b[0m \u001b[0menumerate\u001b[0m\u001b[1;33m(\u001b[0m\u001b[0mtrainloader\u001b[0m\u001b[1;33m)\u001b[0m\u001b[1;33m:\u001b[0m\u001b[1;33m\u001b[0m\u001b[1;33m\u001b[0m\u001b[0m\n\u001b[0m\u001b[0;32m      2\u001b[0m     \u001b[0mimg\u001b[0m\u001b[1;33m,\u001b[0m \u001b[0mlabel\u001b[0m \u001b[1;33m=\u001b[0m \u001b[0mdata\u001b[0m\u001b[1;33m\u001b[0m\u001b[1;33m\u001b[0m\u001b[0m\n\u001b[0;32m      3\u001b[0m     \u001b[0mvis\u001b[0m\u001b[1;33m.\u001b[0m\u001b[0mimage\u001b[0m\u001b[1;33m(\u001b[0m\u001b[0mimg\u001b[0m\u001b[1;33m[\u001b[0m\u001b[1;36m0\u001b[0m\u001b[1;33m]\u001b[0m\u001b[1;33m)\u001b[0m\u001b[1;33m\u001b[0m\u001b[1;33m\u001b[0m\u001b[0m\n\u001b[0;32m      4\u001b[0m     \u001b[0mvis\u001b[0m\u001b[1;33m.\u001b[0m\u001b[0mimages\u001b[0m\u001b[1;33m(\u001b[0m\u001b[0mimg\u001b[0m\u001b[1;33m)\u001b[0m\u001b[1;33m\u001b[0m\u001b[1;33m\u001b[0m\u001b[0m\n\u001b[0;32m      5\u001b[0m     \u001b[1;32mbreak\u001b[0m\u001b[1;33m\u001b[0m\u001b[1;33m\u001b[0m\u001b[0m\n",
      "\u001b[1;32m~\\Anaconda3\\envs\\pytorch_env\\lib\\site-packages\\torch\\utils\\data\\dataloader.py\u001b[0m in \u001b[0;36m__next__\u001b[1;34m(self)\u001b[0m\n\u001b[0;32m    817\u001b[0m             \u001b[1;32melse\u001b[0m\u001b[1;33m:\u001b[0m\u001b[1;33m\u001b[0m\u001b[1;33m\u001b[0m\u001b[0m\n\u001b[0;32m    818\u001b[0m                 \u001b[1;32mdel\u001b[0m \u001b[0mself\u001b[0m\u001b[1;33m.\u001b[0m\u001b[0mtask_info\u001b[0m\u001b[1;33m[\u001b[0m\u001b[0midx\u001b[0m\u001b[1;33m]\u001b[0m\u001b[1;33m\u001b[0m\u001b[1;33m\u001b[0m\u001b[0m\n\u001b[1;32m--> 819\u001b[1;33m                 \u001b[1;32mreturn\u001b[0m \u001b[0mself\u001b[0m\u001b[1;33m.\u001b[0m\u001b[0m_process_data\u001b[0m\u001b[1;33m(\u001b[0m\u001b[0mdata\u001b[0m\u001b[1;33m)\u001b[0m\u001b[1;33m\u001b[0m\u001b[1;33m\u001b[0m\u001b[0m\n\u001b[0m\u001b[0;32m    820\u001b[0m \u001b[1;33m\u001b[0m\u001b[0m\n\u001b[0;32m    821\u001b[0m     \u001b[0mnext\u001b[0m \u001b[1;33m=\u001b[0m \u001b[0m__next__\u001b[0m  \u001b[1;31m# Python 2 compatibility\u001b[0m\u001b[1;33m\u001b[0m\u001b[1;33m\u001b[0m\u001b[0m\n",
      "\u001b[1;32m~\\Anaconda3\\envs\\pytorch_env\\lib\\site-packages\\torch\\utils\\data\\dataloader.py\u001b[0m in \u001b[0;36m_process_data\u001b[1;34m(self, data)\u001b[0m\n\u001b[0;32m    844\u001b[0m         \u001b[0mself\u001b[0m\u001b[1;33m.\u001b[0m\u001b[0m_try_put_index\u001b[0m\u001b[1;33m(\u001b[0m\u001b[1;33m)\u001b[0m\u001b[1;33m\u001b[0m\u001b[1;33m\u001b[0m\u001b[0m\n\u001b[0;32m    845\u001b[0m         \u001b[1;32mif\u001b[0m \u001b[0misinstance\u001b[0m\u001b[1;33m(\u001b[0m\u001b[0mdata\u001b[0m\u001b[1;33m,\u001b[0m \u001b[0mExceptionWrapper\u001b[0m\u001b[1;33m)\u001b[0m\u001b[1;33m:\u001b[0m\u001b[1;33m\u001b[0m\u001b[1;33m\u001b[0m\u001b[0m\n\u001b[1;32m--> 846\u001b[1;33m             \u001b[0mdata\u001b[0m\u001b[1;33m.\u001b[0m\u001b[0mreraise\u001b[0m\u001b[1;33m(\u001b[0m\u001b[1;33m)\u001b[0m\u001b[1;33m\u001b[0m\u001b[1;33m\u001b[0m\u001b[0m\n\u001b[0m\u001b[0;32m    847\u001b[0m         \u001b[1;32mreturn\u001b[0m \u001b[0mdata\u001b[0m\u001b[1;33m\u001b[0m\u001b[1;33m\u001b[0m\u001b[0m\n\u001b[0;32m    848\u001b[0m \u001b[1;33m\u001b[0m\u001b[0m\n",
      "\u001b[1;32m~\\Anaconda3\\envs\\pytorch_env\\lib\\site-packages\\torch\\_utils.py\u001b[0m in \u001b[0;36mreraise\u001b[1;34m(self)\u001b[0m\n\u001b[0;32m    367\u001b[0m             \u001b[1;31m# (https://bugs.python.org/issue2651), so we work around it.\u001b[0m\u001b[1;33m\u001b[0m\u001b[1;33m\u001b[0m\u001b[1;33m\u001b[0m\u001b[0m\n\u001b[0;32m    368\u001b[0m             \u001b[0mmsg\u001b[0m \u001b[1;33m=\u001b[0m \u001b[0mKeyErrorMessage\u001b[0m\u001b[1;33m(\u001b[0m\u001b[0mmsg\u001b[0m\u001b[1;33m)\u001b[0m\u001b[1;33m\u001b[0m\u001b[1;33m\u001b[0m\u001b[0m\n\u001b[1;32m--> 369\u001b[1;33m         \u001b[1;32mraise\u001b[0m \u001b[0mself\u001b[0m\u001b[1;33m.\u001b[0m\u001b[0mexc_type\u001b[0m\u001b[1;33m(\u001b[0m\u001b[0mmsg\u001b[0m\u001b[1;33m)\u001b[0m\u001b[1;33m\u001b[0m\u001b[1;33m\u001b[0m\u001b[0m\n\u001b[0m",
      "\u001b[1;31mRuntimeError\u001b[0m: Caught RuntimeError in DataLoader worker process 0.\nOriginal Traceback (most recent call last):\n  File \"C:\\Users\\ultra\\Anaconda3\\envs\\pytorch_env\\lib\\site-packages\\torch\\utils\\data\\_utils\\worker.py\", line 178, in _worker_loop\n    data = fetcher.fetch(index)\n  File \"C:\\Users\\ultra\\Anaconda3\\envs\\pytorch_env\\lib\\site-packages\\torch\\utils\\data\\_utils\\fetch.py\", line 44, in fetch\n    data = [self.dataset[idx] for idx in possibly_batched_index]\n  File \"C:\\Users\\ultra\\Anaconda3\\envs\\pytorch_env\\lib\\site-packages\\torch\\utils\\data\\_utils\\fetch.py\", line 44, in <listcomp>\n    data = [self.dataset[idx] for idx in possibly_batched_index]\n  File \"C:\\Users\\ultra\\Anaconda3\\envs\\pytorch_env\\lib\\site-packages\\torchvision\\datasets\\mnist.py\", line 95, in __getitem__\n    img = self.transform(img)\n  File \"C:\\Users\\ultra\\Anaconda3\\envs\\pytorch_env\\lib\\site-packages\\torchvision\\transforms\\transforms.py\", line 61, in __call__\n    img = t(img)\n  File \"C:\\Users\\ultra\\Anaconda3\\envs\\pytorch_env\\lib\\site-packages\\torchvision\\transforms\\transforms.py\", line 166, in __call__\n    return F.normalize(tensor, self.mean, self.std, self.inplace)\n  File \"C:\\Users\\ultra\\Anaconda3\\envs\\pytorch_env\\lib\\site-packages\\torchvision\\transforms\\functional.py\", line 217, in normalize\n    tensor.sub_(mean[:, None, None]).div_(std[:, None, None])\nRuntimeError: output with shape [1, 28, 28] doesn't match the broadcast shape [3, 28, 28]\n"
     ]
    }
   ],
   "source": [
    "for i,data in enumerate(trainloader):\n",
    "    img, label = data\n",
    "    vis.image(img[0])\n",
    "    vis.images(img)\n",
    "    break"
   ]
  },
  {
   "cell_type": "markdown",
   "metadata": {},
   "source": [
    "# 예제로 배우는 pytorch\n",
    "- https://tutorials.pytorch.kr/beginner/pytorch_with_examples.html"
   ]
  },
  {
   "cell_type": "markdown",
   "metadata": {},
   "source": [
    "> 본질적으로 pytorch에는 2가지 주요한 특징이 있음\n",
    "\n",
    "- numpy와 유사하지만 GPU 상에서 실행 가능한 N차원 Tensor\n",
    "- 신경망을 구성하고 학습하는 과정에서의 자동미분"
   ]
  },
  {
   "cell_type": "markdown",
   "metadata": {},
   "source": [
    "## numpy를 사용하여 신경망 구성\n",
    "- numpy는 과학적 분야의 연산을 위한 포괄적인 프레임워크\n",
    "- numpy는 연산 그래프나 딥러닝, 변화도에 대해서는 알지 못하지만, numpy연산을 사용하여 순전파,역전파 단계를 직접 구현함으로써, 2계층을 갖는 신경망이 무작위 데이터를 맞추도록 할 수 있음"
   ]
  },
  {
   "cell_type": "code",
   "execution_count": 9,
   "metadata": {},
   "outputs": [
    {
     "name": "stdout",
     "output_type": "stream",
     "text": [
      "(64, 1000) (64, 10)\n",
      "(1000, 100) (100, 10)\n",
      "0번째loss : 25574509.579905637\n",
      "100번째loss : 223.6268874296327\n",
      "200번째loss : 0.6113971678913223\n",
      "300번째loss : 0.0030979775354945524\n",
      "400번째loss : 2.003280285395585e-05\n"
     ]
    }
   ],
   "source": [
    "import numpy as np\n",
    "\n",
    "# N : batch_size\n",
    "# D_in : input dimension\n",
    "# H : hidden dimension\n",
    "# D_out : output dimension\n",
    "N, D_in, H, D_out = 64, 1000, 100, 10\n",
    "\n",
    "# 무작위 입력과 출력 데이터 생성\n",
    "x = np.random.randn(N, D_in)\n",
    "y = np.random.randn(N, D_out)\n",
    "\n",
    "print(x.shape, y.shape)\n",
    "\n",
    "# 무작위로 가중치 초기화\n",
    "w1 = np.random.randn(D_in, H)\n",
    "w2 = np.random.randn(H, D_out)\n",
    "\n",
    "print(w1.shape, w2.shape)\n",
    "\n",
    "learning_rate = 1e-6\n",
    "for t in range(500):\n",
    "    # 순전파\n",
    "    h = x.dot(w1)\n",
    "    h_relu = np.maximum(h, 0)\n",
    "    y_pred = h_relu.dot(w2)\n",
    "    \n",
    "    # loss 계산\n",
    "    loss = np.square(y_pred - y).sum()\n",
    "    \n",
    "    # 손실 차로 w1, w2 변화도 계산하고 역전파\n",
    "    grad_y_pred = 2.0 * (y_pred - y)\n",
    "    grad_w2 = h_relu.T.dot(grad_y_pred)\n",
    "    grad_h_relu = grad_y_pred.dot(w2.T)\n",
    "    grad_h = grad_h_relu.copy()\n",
    "    grad_h[h < 0] = 0\n",
    "    grad_w1 = x.T.dot(grad_h)\n",
    "    \n",
    "    # 가중치 갱신\n",
    "    w1 -= learning_rate * grad_w1\n",
    "    w2 -= learning_rate * grad_w2\n",
    "    \n",
    "    if t % 100 == 0:\n",
    "        print(f'{t}번째loss : {loss}')"
   ]
  },
  {
   "cell_type": "markdown",
   "metadata": {},
   "source": [
    "## Pytorch : Tensors\n",
    "- numpy는 훌륭한 프레임워크지만 GPU를 사용하여 수치연산을 가속화할 수는 없음\n",
    "- Pytorch Tensors는 개념적으로 Numpy 배열과 동일\n",
    "    - Tensor는 N차원 배열\n",
    "    - Pytorch는 Tensor 연산을 위한 다양한 함수들을 제공\n",
    "    - Numpy 배열처럼 Pytorch Tensor는 딥러닝이나 연산그래프, 변화도는 알지 못하며, 과학적 분야의 연산을 위한 포괄적인 도구\n",
    "- 그러나 Numpy와는 달리 GPU를 활용하여 수치 연산을 가속화할 수 있음\n",
    "    - GPU에서 Pytorch Tensor를 실행하기 위해서는 단지 새로운 자료형으로 변환해주기만 하면 됨\n",
    " "
   ]
  },
  {
   "cell_type": "code",
   "execution_count": 17,
   "metadata": {},
   "outputs": [
    {
     "data": {
      "text/plain": [
       "torch.Size([1, 2, 3, 4])"
      ]
     },
     "execution_count": 17,
     "metadata": {},
     "output_type": "execute_result"
    }
   ],
   "source": [
    "test.shape"
   ]
  },
  {
   "cell_type": "code",
   "execution_count": 30,
   "metadata": {},
   "outputs": [
    {
     "data": {
      "text/plain": [
       "torch.Size([24, 1])"
      ]
     },
     "execution_count": 30,
     "metadata": {},
     "output_type": "execute_result"
    }
   ],
   "source": [
    "test.view(1,-1).t().shape"
   ]
  },
  {
   "cell_type": "code",
   "execution_count": 25,
   "metadata": {},
   "outputs": [
    {
     "ename": "RuntimeError",
     "evalue": "t() expects a tensor with <= 2 dimensions, but self is 4D",
     "output_type": "error",
     "traceback": [
      "\u001b[1;31m---------------------------------------------------------------------------\u001b[0m",
      "\u001b[1;31mRuntimeError\u001b[0m                              Traceback (most recent call last)",
      "\u001b[1;32m<ipython-input-25-d5c090ceba7e>\u001b[0m in \u001b[0;36m<module>\u001b[1;34m\u001b[0m\n\u001b[1;32m----> 1\u001b[1;33m \u001b[0mtest\u001b[0m\u001b[1;33m.\u001b[0m\u001b[0mt\u001b[0m\u001b[1;33m(\u001b[0m\u001b[1;33m)\u001b[0m\u001b[1;33m\u001b[0m\u001b[1;33m\u001b[0m\u001b[0m\n\u001b[0m",
      "\u001b[1;31mRuntimeError\u001b[0m: t() expects a tensor with <= 2 dimensions, but self is 4D"
     ]
    }
   ],
   "source": [
    "test.t()"
   ]
  },
  {
   "cell_type": "code",
   "execution_count": 32,
   "metadata": {},
   "outputs": [
    {
     "name": "stdout",
     "output_type": "stream",
     "text": [
      "0번째 loss : 30707056.0\n",
      "100번째 loss : 747.1109619140625\n",
      "200번째 loss : 6.620823860168457\n",
      "300번째 loss : 0.09195300936698914\n",
      "400번째 loss : 0.001859804498963058\n"
     ]
    }
   ],
   "source": [
    "import torch\n",
    "\n",
    "dtype = torch.float\n",
    "device = torch.device(\"cpu\")\n",
    "# device = torch.device(\"cuda:0\") # GPU 환경\n",
    "\n",
    "N, D_in, H, D_out = 64, 1000, 100, 10\n",
    "\n",
    "# 무작위 입력과 출력 데이터 생성\n",
    "x = torch.randn(N, D_in, device=device, dtype=dtype)\n",
    "y = torch.randn(N, D_out, device=device, dtype=dtype)\n",
    "\n",
    "# 무작위로 가중치를 초기화\n",
    "w1 = torch.randn(D_in, H, device=device, dtype=dtype)\n",
    "w2 = torch.randn(H, D_out, device=device, dtype=dtype)\n",
    "\n",
    "learning_rate = 1e-6\n",
    "\n",
    "for t in range(500):\n",
    "    # 순전파 단계\n",
    "    h = x.mm(w1)\n",
    "    h_relu = h.clamp(min=0)\n",
    "    y_pred = h_relu.mm(w2)\n",
    "    \n",
    "    # loss 계산\n",
    "    loss = (y_pred - y).pow(2).sum().item()\n",
    "    \n",
    "    # 손실에 따른 w1, w2구하고 역전파\n",
    "    grad_y_pred = 2.0 * (y_pred - y)\n",
    "    grad_w2 = h_relu.t().mm(grad_y_pred)\n",
    "    grad_h_relu = grad_y_pred.mm(w2.t())\n",
    "    grad_h = grad_h_relu.clone()\n",
    "    grad_h[h < 0] = 0\n",
    "    grad_w1 = x.t().mm(grad_h)\n",
    "    \n",
    "    # 가중치 갱신\n",
    "    w1 -= learning_rate * grad_w1\n",
    "    w2 -= learning_rate * grad_w2\n",
    "    if t % 100 == 0:\n",
    "        print(f'{t}번째 loss : {loss}')"
   ]
  },
  {
   "cell_type": "markdown",
   "metadata": {},
   "source": [
    "## Autograd\n",
    "- 역전파 단계의 gradeint를 직접 수식으로 구현했었는데, 자동 미분(Aotugrad)을 사용하여 역전파 단계의 연산을 자동화할 수 있음\n",
    "- Autograd를 사용할 때, 신경망의 순전파 단계는 연산 그래프를 정의하게 됨\n",
    "    - 그래프의 node는 Tensor\n",
    "    - 엣지는 입력 Tensor로 부터 출력 Tensor를 만들어내는 함수\n",
    "    - 그래프를 통해 역전파를 하게 되면 변화도를 쉽게 계산할 수 있음\n",
    "- 각 Tensor는 연산 그래프에서 노드로 표현되는데, `x.requires_grad = True`인 Tensor면 `x.grad`는 어떤 스칼라 값에 대한 x의 변화도를 갖는 또 다른 Tensor"
   ]
  },
  {
   "cell_type": "code",
   "execution_count": null,
   "metadata": {},
   "outputs": [],
   "source": [
    "import torch\n",
    "\n",
    "dtype = torch.float\n",
    "device = torch.device(\"cpu\")\n",
    "# device = torch.device(\"cuda:0\")\n",
    "\n",
    "N, D_in, H, D_out = 64, 1000, 100, 10\n",
    "\n",
    "# 입력과 출력을 저장하기 위한 무작위 값을 갖는 Tensor를 생성\n",
    "x = torch.randn(N, D_in, device=device, dtype=dtype)\n",
    "y = torch.randn(N, D_out, device=device, dtpye=dtype)\n",
    "\n",
    "# 가중치 저장\n",
    "w1 = torch.randn(D_in, H, device=device, dtype=dtype, requires_grad = True)\n",
    "w2 = torch.randn(H, D_out, device=device, dtype=dtype, requires_grad = True)\n",
    "\n",
    "learning_rate = 1e-6\n",
    "\n",
    "for t in range(500):\n",
    "    # Autograd 통해 자동화된 연산 가능\n",
    "    y_pred = x.mm(w1).clamp(min=0).mm(w2)\n",
    "    \n",
    "    # loss는 (1,) 형태의 Tensor이며, loss.item()은 loss의 스칼라 값\n",
    "    loss = (y_pred - y).pow(2).sum()\n",
    "    \n",
    "    # autograd를 사용하여 역전파 단계를 계산\n",
    "    loss.backward()\n",
    "    \n",
    "    # gradient descent를 사용하여 가중치를 수동으로 갱신"
   ]
  },
  {
   "cell_type": "code",
   "execution_count": null,
   "metadata": {},
   "outputs": [],
   "source": []
  },
  {
   "cell_type": "code",
   "execution_count": null,
   "metadata": {},
   "outputs": [],
   "source": []
  },
  {
   "cell_type": "code",
   "execution_count": null,
   "metadata": {},
   "outputs": [],
   "source": []
  }
 ],
 "metadata": {
  "kernelspec": {
   "display_name": "Python [conda env:pytorch_env] *",
   "language": "python",
   "name": "conda-env-pytorch_env-py"
  },
  "language_info": {
   "codemirror_mode": {
    "name": "ipython",
    "version": 3
   },
   "file_extension": ".py",
   "mimetype": "text/x-python",
   "name": "python",
   "nbconvert_exporter": "python",
   "pygments_lexer": "ipython3",
   "version": "3.6.9"
  },
  "toc": {
   "base_numbering": 1,
   "nav_menu": {},
   "number_sections": true,
   "sideBar": true,
   "skip_h1_title": false,
   "title_cell": "Table of Contents",
   "title_sidebar": "Contents",
   "toc_cell": false,
   "toc_position": {},
   "toc_section_display": true,
   "toc_window_display": false
  }
 },
 "nbformat": 4,
 "nbformat_minor": 2
}
