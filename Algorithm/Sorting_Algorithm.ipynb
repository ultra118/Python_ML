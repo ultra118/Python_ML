{
 "cells": [
  {
   "cell_type": "markdown",
   "metadata": {},
   "source": [
    "#  Bubble sort\n",
    "> 연속된 두개 인덱스를 비교해 큰지/작은지의 기준을 통해 값을 뒤로 보냄\n",
    "\n",
    "- $O(n^2)$의 시간복잡도\n",
    "\n",
    "## 로직\n",
    "- 뒤에서 부터 비교한다고 했을때 len-1 의 index 부터 첫 번째 for문 시작\n",
    "- index를 시작 점으로 하는 두 번째 for 문을 통해 index+1과의 값 비교\n",
    "- if index > index+1라면 swap\n",
    "- for문 반복"
   ]
  },
  {
   "cell_type": "code",
   "execution_count": 85,
   "metadata": {},
   "outputs": [],
   "source": [
    "alist = [235,3,52,12,23,69]"
   ]
  },
  {
   "cell_type": "code",
   "execution_count": 2,
   "metadata": {},
   "outputs": [
    {
     "data": {
      "text/plain": [
       "6"
      ]
     },
     "execution_count": 2,
     "metadata": {},
     "output_type": "execute_result"
    }
   ],
   "source": [
    "len(alist)"
   ]
  },
  {
   "cell_type": "code",
   "execution_count": 12,
   "metadata": {},
   "outputs": [],
   "source": [
    "def bubblesort(alist):\n",
    "    sorting_list = alist.copy()\n",
    "    for loop_count in range(len(sorting_list)-1,0,-1):\n",
    "        for idx in range(loop_count):\n",
    "            if sorting_list[idx] > sorting_list[idx+1]:\n",
    "                print(f'{idx}번째 index swap {sorting_list[idx]} <-> {sorting_list[idx+1]}')\n",
    "                tmp = sorting_list[idx]\n",
    "                sorting_list[idx] = sorting_list[idx+1]\n",
    "                sorting_list[idx+1] = tmp\n",
    "    return sorting_list          "
   ]
  },
  {
   "cell_type": "code",
   "execution_count": 11,
   "metadata": {},
   "outputs": [
    {
     "name": "stdout",
     "output_type": "stream",
     "text": [
      "[235, 3, 52, 12, 23, 69]\n"
     ]
    }
   ],
   "source": [
    "print(alist)"
   ]
  },
  {
   "cell_type": "code",
   "execution_count": 13,
   "metadata": {},
   "outputs": [
    {
     "name": "stdout",
     "output_type": "stream",
     "text": [
      "0번째 index swap 235 <-> 3\n",
      "1번째 index swap 235 <-> 52\n",
      "2번째 index swap 235 <-> 12\n",
      "3번째 index swap 235 <-> 23\n",
      "4번째 index swap 235 <-> 69\n",
      "1번째 index swap 52 <-> 12\n",
      "2번째 index swap 52 <-> 23\n"
     ]
    }
   ],
   "source": [
    "sorting_alist = bubblesort(alist)"
   ]
  },
  {
   "cell_type": "code",
   "execution_count": 14,
   "metadata": {},
   "outputs": [
    {
     "name": "stdout",
     "output_type": "stream",
     "text": [
      "[3, 12, 23, 52, 69, 235]\n"
     ]
    }
   ],
   "source": [
    "print(sorting_alist)"
   ]
  },
  {
   "cell_type": "markdown",
   "metadata": {},
   "source": [
    "# 선택 정렬(Selection sort)\n",
    "> 한번 순회를 하면서 가장 작은 수를 찾아서 현재 배열의 idx와 swap\n",
    "\n",
    "- $O(n^2)의 시간 복잡도$\n",
    "\n",
    "## 로직\n",
    "- 첫 번째 for문의 index를 min_value로 설정\n",
    "- 두 번째 for문의 시작점은 index+1로 min_value보다 작다면 min_vlaue 갱신하고 해당 index를 j로 저장\n",
    "- 두 번째 for문이 끝나는 지점에서 min_value가 갱신되어있다면 j위치와 swap\n",
    "- for문 반복"
   ]
  },
  {
   "cell_type": "code",
   "execution_count": 54,
   "metadata": {},
   "outputs": [],
   "source": [
    "def selection_sort(alist):\n",
    "    sorting_list = alist.copy()\n",
    "    for i in range(0,len(sorting_list)-1):\n",
    "        min_value = sorting_list[i]\n",
    "        for j in range(i+1, len(sorting_list)):\n",
    "            # i번째 index보다 작은 값 나오면 그 위치 정보를 idx에 넣고, min_value 갱신\n",
    "             if sorting_list[j] < min_value:\n",
    "                    idx = j\n",
    "                    min_value = alist[j]\n",
    "        # min value 갱신되면 swap\n",
    "        if sorting_list[i] != min_value:\n",
    "            tmp = sorting_list[i]\n",
    "            sorting_list[i] = sorting_list[idx]\n",
    "            sorting_list[idx] = tmp\n",
    "            print(f'{i}번째 index와 {idx}번째 index의 값{sorting_list[i]}/{sorting_list[idx]} swap : {sorting_list}')\n",
    "    return sorting_list\n",
    "            "
   ]
  },
  {
   "cell_type": "code",
   "execution_count": 55,
   "metadata": {},
   "outputs": [
    {
     "data": {
      "text/plain": [
       "[235, 3, 52, 12, 23, 69]"
      ]
     },
     "execution_count": 55,
     "metadata": {},
     "output_type": "execute_result"
    }
   ],
   "source": [
    "alist"
   ]
  },
  {
   "cell_type": "code",
   "execution_count": 56,
   "metadata": {},
   "outputs": [
    {
     "name": "stdout",
     "output_type": "stream",
     "text": [
      "0번째 index와 1번째 index의 값3/235 swap : [3, 235, 52, 12, 23, 69]\n",
      "1번째 index와 3번째 index의 값12/235 swap : [3, 12, 52, 235, 23, 69]\n",
      "2번째 index와 4번째 index의 값23/52 swap : [3, 12, 23, 235, 52, 69]\n",
      "3번째 index와 4번째 index의 값52/235 swap : [3, 12, 23, 52, 235, 69]\n",
      "4번째 index와 5번째 index의 값69/235 swap : [3, 12, 23, 52, 69, 235]\n"
     ]
    },
    {
     "data": {
      "text/plain": [
       "[3, 12, 23, 52, 69, 235]"
      ]
     },
     "execution_count": 56,
     "metadata": {},
     "output_type": "execute_result"
    }
   ],
   "source": [
    "selection_sort(alist)"
   ]
  },
  {
   "cell_type": "markdown",
   "metadata": {},
   "source": [
    "# 삽입 정렬(Insertion Sort)\n",
    "> 1부터 n까지 index를 설정하여 현재 위치보다 아랫쪽으로 순회하며 알맞은 위치에 넣어줌\n",
    "\n",
    "- 정렬되어 있다면 $O(n)$의 시간 복잡도를 갖지만, 최악의 경우 $O(n^2)$의 시간 복잡도\n",
    "\n",
    "## 로직\n",
    "- 첫 번째 for문에서 2번째 idx부터 시작\n",
    "- 두 번째 while문에서 첫 번째 idx보다 크고 첫 번째 value보다 작다면 해당 idx사이에 값을 넣고 idx를 하나 밀어넣는다 "
   ]
  },
  {
   "cell_type": "code",
   "execution_count": 90,
   "metadata": {},
   "outputs": [],
   "source": [
    "def insertion_sort(alist):\n",
    "    sorting_list = alist.copy()\n",
    "    for idx in range(1, len(sorting_list)):\n",
    "        # 현재 index의 값\n",
    "        key = sorting_list[idx]\n",
    "        position = idx\n",
    "        # 이전 index의 값보다 크고 && position이 0 보다 크면\n",
    "        while position > 0 and sorting_list[position-1] > key:\n",
    "            # 이전 position의 값을 현재 position에 밀어 넣음\n",
    "            sorting_list[position] = sorting_list[position-1]\n",
    "            # position은 하나씩 줄여감\n",
    "            position = position-1\n",
    "        # 현재 index의 값으로 보던 key는 position이 멈추는 지점에 값을 넣는다\n",
    "        sorting_list[position] = key\n",
    "    return sorting_list"
   ]
  },
  {
   "cell_type": "code",
   "execution_count": 87,
   "metadata": {},
   "outputs": [
    {
     "data": {
      "text/plain": [
       "[235, 3, 52, 12, 23, 69]"
      ]
     },
     "execution_count": 87,
     "metadata": {},
     "output_type": "execute_result"
    }
   ],
   "source": [
    "alist"
   ]
  },
  {
   "cell_type": "code",
   "execution_count": 91,
   "metadata": {},
   "outputs": [
    {
     "data": {
      "text/plain": [
       "[3, 12, 23, 52, 69, 235]"
      ]
     },
     "execution_count": 91,
     "metadata": {},
     "output_type": "execute_result"
    }
   ],
   "source": [
    "insertion_sort(alist)"
   ]
  },
  {
   "cell_type": "markdown",
   "metadata": {},
   "source": [
    "# 병합정렬\n",
    "> 정렬한 리스트를 반으로 쪼개나가며 좌측과 우측 리스트를 계속하여 분할해나가며 각 리스트내에서 정렬 후 병합\n",
    "\n",
    "- $O(nlogn)$의 시간 복잡도"
   ]
  }
 ],
 "metadata": {
  "kernelspec": {
   "display_name": "Python [conda env:ocr_env] *",
   "language": "python",
   "name": "conda-env-ocr_env-py"
  },
  "language_info": {
   "codemirror_mode": {
    "name": "ipython",
    "version": 3
   },
   "file_extension": ".py",
   "mimetype": "text/x-python",
   "name": "python",
   "nbconvert_exporter": "python",
   "pygments_lexer": "ipython3",
   "version": "3.6.8"
  },
  "toc": {
   "base_numbering": 1,
   "nav_menu": {},
   "number_sections": true,
   "sideBar": true,
   "skip_h1_title": false,
   "title_cell": "Table of Contents",
   "title_sidebar": "Contents",
   "toc_cell": false,
   "toc_position": {},
   "toc_section_display": true,
   "toc_window_display": false
  }
 },
 "nbformat": 4,
 "nbformat_minor": 2
}
