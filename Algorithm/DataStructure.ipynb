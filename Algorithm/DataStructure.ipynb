{
 "cells": [
  {
   "cell_type": "markdown",
   "metadata": {},
   "source": [
    "# 자료구조\n",
    "> 데이터를 효율적으로 다루기 위해 데이터를 저장하는 방법"
   ]
  },
  {
   "cell_type": "markdown",
   "metadata": {},
   "source": [
    "## 스택(Stack)\n",
    "> 먼저 들어간 자료가 나중에 나오는 자료구조, 후입선출 구조\n",
    "\n",
    "### 스택의 ADT\n",
    "- 요소 추가(Push)\n",
    "- 요소 추출/삭제(Pop)\n",
    "- 다음 요소 확인(Peek)\n",
    "![image](https://user-images.githubusercontent.com/28910538/63143365-ebdf1000-c028-11e9-84d2-c0a7e65fb148.png)\n"
   ]
  },
  {
   "cell_type": "code",
   "execution_count": 1,
   "metadata": {},
   "outputs": [],
   "source": [
    "class stack:\n",
    "    def __init__(self):\n",
    "        self.items = []\n",
    "    \n",
    "    def isEmpty(self):\n",
    "        return self.items == []\n",
    "    \n",
    "    def push(self, item):\n",
    "        self.items.append(item)\n",
    "        \n",
    "    def peek(self):\n",
    "        return self.items[-1]\n",
    "    \n",
    "    def size(self):\n",
    "        return len(self.items)\n",
    "    \n",
    "    def pop(self):\n",
    "        return self.items.pop()"
   ]
  },
  {
   "cell_type": "code",
   "execution_count": 17,
   "metadata": {},
   "outputs": [
    {
     "name": "stdout",
     "output_type": "stream",
     "text": [
      "push : 0\n",
      "push : 1\n",
      "push : 2\n",
      "push : 3\n",
      "push : 4\n"
     ]
    }
   ],
   "source": [
    "s = stack()\n",
    "for i in range(5):\n",
    "    print(f'push : {i}')\n",
    "    s.push(i)"
   ]
  },
  {
   "cell_type": "code",
   "execution_count": 19,
   "metadata": {},
   "outputs": [
    {
     "name": "stdout",
     "output_type": "stream",
     "text": [
      "pop : 4\n",
      "pop : 3\n",
      "pop : 2\n",
      "pop : 1\n",
      "pop : 0\n"
     ]
    }
   ],
   "source": [
    "for _ in range(s.size()):\n",
    "    print(f'pop : {s.pop()}')"
   ]
  },
  {
   "cell_type": "markdown",
   "metadata": {},
   "source": [
    "## 큐(Queue)\n",
    "> 먼저 들어간 자료가 먼저나오는 자료구조, 선입선출 구조\n",
    "\n",
    "### 큐의 ADT\n",
    "- 요소 추가(Enqueue)\n",
    "- 요소 추출/삭제(Dequeue)\n",
    "![image](https://user-images.githubusercontent.com/28910538/63143592-0b2a6d00-c02a-11e9-8515-3ae2a1e08742.png)\n"
   ]
  },
  {
   "cell_type": "code",
   "execution_count": 20,
   "metadata": {},
   "outputs": [],
   "source": [
    "class queue:\n",
    "    def __init__(self):\n",
    "        self.items = []\n",
    "        \n",
    "    def enqueue(self, item):\n",
    "        # 0번째 index에 item 삽입\n",
    "        self.items.insert(0, item)\n",
    "        \n",
    "    def dequeue(self):\n",
    "        return self.items.pop()\n",
    "    \n",
    "    def isEmpty(self):\n",
    "        return self.items == []\n",
    "    \n",
    "    def size(self):\n",
    "        return len(self.items)"
   ]
  },
  {
   "cell_type": "code",
   "execution_count": 26,
   "metadata": {},
   "outputs": [
    {
     "name": "stdout",
     "output_type": "stream",
     "text": [
      "enqueue : 0\n",
      "enqueue : 1\n",
      "enqueue : 2\n",
      "enqueue : 3\n",
      "enqueue : 4\n"
     ]
    }
   ],
   "source": [
    "q = queue()\n",
    "for i in range(5):\n",
    "    print(f'enqueue : {i}')\n",
    "    q.enqueue(i)"
   ]
  },
  {
   "cell_type": "code",
   "execution_count": 31,
   "metadata": {},
   "outputs": [
    {
     "name": "stdout",
     "output_type": "stream",
     "text": [
      "dequeue : 0\n",
      "dequeue : 1\n",
      "dequeue : 2\n",
      "dequeue : 3\n",
      "dequeue : 4\n"
     ]
    }
   ],
   "source": [
    "for _ in range(q.size()):\n",
    "    print(f'dequeue : {q.dequeue()}')"
   ]
  },
  {
   "attachments": {},
   "cell_type": "markdown",
   "metadata": {},
   "source": [
    "## 원형 큐(Circular Queue)\n",
    "> 큐와 같은 구조를 가지면서 순환되는 구조\n",
    "- F와 R이라는 커서를 가지며 F는 헤더, R은 꼬리에 해당\n",
    "- 큐가 완전히 비면 F와 R이 동일한 위치를 가리킴, 큐가 완전히 꽉차면 F와 R이 서로 반대의 위치에 도달\n",
    "### 원형 큐의 ADT\n",
    "- 요소 추가(Enqueue)\n",
    "- 요소 삭제(Dequeue)\n",
    "![image](https://user-images.githubusercontent.com/28910538/63143924-98ba8c80-c02b-11e9-9ae0-5bd2d500c61c.png)\n"
   ]
  },
  {
   "cell_type": "code",
   "execution_count": null,
   "metadata": {},
   "outputs": [],
   "source": []
  },
  {
   "cell_type": "code",
   "execution_count": null,
   "metadata": {},
   "outputs": [],
   "source": []
  }
 ],
 "metadata": {
  "kernelspec": {
   "display_name": "Python [conda env:ocr_env] *",
   "language": "python",
   "name": "conda-env-ocr_env-py"
  },
  "language_info": {
   "codemirror_mode": {
    "name": "ipython",
    "version": 3
   },
   "file_extension": ".py",
   "mimetype": "text/x-python",
   "name": "python",
   "nbconvert_exporter": "python",
   "pygments_lexer": "ipython3",
   "version": "3.6.8"
  },
  "toc": {
   "base_numbering": 1,
   "nav_menu": {},
   "number_sections": true,
   "sideBar": true,
   "skip_h1_title": false,
   "title_cell": "Table of Contents",
   "title_sidebar": "Contents",
   "toc_cell": false,
   "toc_position": {},
   "toc_section_display": true,
   "toc_window_display": false
  }
 },
 "nbformat": 4,
 "nbformat_minor": 2
}
