{
 "cells": [
  {
   "cell_type": "code",
   "execution_count": 1,
   "metadata": {},
   "outputs": [],
   "source": [
    "%matplotlib inline"
   ]
  },
  {
   "cell_type": "code",
   "execution_count": 2,
   "metadata": {},
   "outputs": [],
   "source": [
    "import numpy as np\n",
    "import pandas as pd\n",
    "import matplotlib.pyplot as plt\n",
    "\n",
    "df = pd.read_csv('../data/facial/training.csv')"
   ]
  },
  {
   "cell_type": "code",
   "execution_count": 3,
   "metadata": {},
   "outputs": [
    {
     "data": {
      "text/plain": [
       "(7049, 31)"
      ]
     },
     "execution_count": 3,
     "metadata": {},
     "output_type": "execute_result"
    }
   ],
   "source": [
    "df.shape"
   ]
  },
  {
   "cell_type": "markdown",
   "metadata": {},
   "source": [
    "## 얼굴 기울기 찾기"
   ]
  },
  {
   "cell_type": "markdown",
   "metadata": {},
   "source": [
    "### 이미지 96x96으로 바꾸고 x,y 데이터 나눔"
   ]
  },
  {
   "cell_type": "code",
   "execution_count": 4,
   "metadata": {},
   "outputs": [
    {
     "name": "stderr",
     "output_type": "stream",
     "text": [
      "[Parallel(n_jobs=10)]: Using backend ThreadingBackend with 10 concurrent workers.\n",
      "[Parallel(n_jobs=10)]: Done  30 tasks      | elapsed:    0.0s\n",
      "[Parallel(n_jobs=10)]: Done 180 tasks      | elapsed:    0.4s\n",
      "[Parallel(n_jobs=10)]: Done 430 tasks      | elapsed:    1.2s\n",
      "[Parallel(n_jobs=10)]: Done 780 tasks      | elapsed:    2.2s\n",
      "[Parallel(n_jobs=10)]: Done 1230 tasks      | elapsed:    3.4s\n",
      "[Parallel(n_jobs=10)]: Done 1780 tasks      | elapsed:    5.0s\n",
      "[Parallel(n_jobs=10)]: Done 2430 tasks      | elapsed:    6.9s\n",
      "[Parallel(n_jobs=10)]: Done 3180 tasks      | elapsed:    9.1s\n",
      "[Parallel(n_jobs=10)]: Done 4030 tasks      | elapsed:   11.5s\n",
      "[Parallel(n_jobs=10)]: Done 4980 tasks      | elapsed:   15.4s\n",
      "[Parallel(n_jobs=10)]: Done 6030 tasks      | elapsed:   18.9s\n"
     ]
    },
    {
     "name": "stdout",
     "output_type": "stream",
     "text": [
      "(7049, 96, 96, 1)\n"
     ]
    },
    {
     "name": "stderr",
     "output_type": "stream",
     "text": [
      "[Parallel(n_jobs=10)]: Done 7049 out of 7049 | elapsed:   22.0s finished\n"
     ]
    }
   ],
   "source": [
    "from joblib import Parallel, delayed\n",
    "\n",
    "def format_img(x):\n",
    "    return np.asarray([int(e) for e in x.split(' ')], dtype = np.uint8).reshape(96,96)\n",
    "\n",
    "with Parallel(n_jobs = 10, verbose = 1, prefer = 'threads') as ex:\n",
    "    x = ex(delayed(format_img)(e) for e in df.Image)\n",
    "\n",
    "x = np.stack(x)[:,:,:,None]\n",
    "print(x.shape)"
   ]
  },
  {
   "cell_type": "code",
   "execution_count": 5,
   "metadata": {},
   "outputs": [
    {
     "data": {
      "text/plain": [
       "(7049, 30)"
      ]
     },
     "execution_count": 5,
     "metadata": {},
     "output_type": "execute_result"
    }
   ],
   "source": [
    "y = df.iloc[:,:-1].values\n",
    "y.shape"
   ]
  },
  {
   "cell_type": "code",
   "execution_count": 6,
   "metadata": {},
   "outputs": [
    {
     "data": {
      "text/plain": [
       "(7049, 96, 96, 1)"
      ]
     },
     "execution_count": 6,
     "metadata": {},
     "output_type": "execute_result"
    }
   ],
   "source": [
    "x.shape"
   ]
  },
  {
   "cell_type": "code",
   "execution_count": 7,
   "metadata": {},
   "outputs": [
    {
     "name": "stdout",
     "output_type": "stream",
     "text": [
      "814\n"
     ]
    },
    {
     "data": {
      "image/png": "[encoded data removed]",
      "text/plain": [
       "<Figure size 432x288 with 1 Axes>"
      ]
     },
     "metadata": {
      "needs_background": "light"
     },
     "output_type": "display_data"
    }
   ],
   "source": [
    "# 이미지 보여주는 function\n",
    "def show(x, y=None):\n",
    "\n",
    "    plt.imshow(x[:,:,0], 'gray')\n",
    "    if y is not None:\n",
    "        # vertical stack \n",
    "        points = np.stack(np.split(y, 15, axis = 0),axis =0).T\n",
    "        plt.plot(points[0], points[1],'o', color = 'green', alpha = 0.7 )\n",
    "    plt.axis('off')\n",
    "sample_idx = np.random.choice(len(x))\n",
    "show(x[sample_idx], y[sample_idx])\n",
    "print(sample_idx)"
   ]
  },
  {
   "cell_type": "code",
   "execution_count": 8,
   "metadata": {},
   "outputs": [
    {
     "data": {
      "text/plain": [
       "left_eye_center_x                                                      69.7602\n",
       "left_eye_center_y                                                      39.8065\n",
       "right_eye_center_x                                                     37.4787\n",
       "right_eye_center_y                                                     37.3233\n",
       "left_eye_inner_corner_x                                                    NaN\n",
       "left_eye_inner_corner_y                                                    NaN\n",
       "left_eye_outer_corner_x                                                    NaN\n",
       "left_eye_outer_corner_y                                                    NaN\n",
       "right_eye_inner_corner_x                                                   NaN\n",
       "right_eye_inner_corner_y                                                   NaN\n",
       "right_eye_outer_corner_x                                                   NaN\n",
       "right_eye_outer_corner_y                                                   NaN\n",
       "left_eyebrow_inner_end_x                                                   NaN\n",
       "left_eyebrow_inner_end_y                                                   NaN\n",
       "left_eyebrow_outer_end_x                                                   NaN\n",
       "left_eyebrow_outer_end_y                                                   NaN\n",
       "right_eyebrow_inner_end_x                                                  NaN\n",
       "right_eyebrow_inner_end_y                                                  NaN\n",
       "right_eyebrow_outer_end_x                                                  NaN\n",
       "right_eyebrow_outer_end_y                                                  NaN\n",
       "nose_tip_x                                                             52.3778\n",
       "nose_tip_y                                                              67.432\n",
       "mouth_left_corner_x                                                        NaN\n",
       "mouth_left_corner_y                                                        NaN\n",
       "mouth_right_corner_x                                                       NaN\n",
       "mouth_right_corner_y                                                       NaN\n",
       "mouth_center_top_lip_x                                                     NaN\n",
       "mouth_center_top_lip_y                                                     NaN\n",
       "mouth_center_bottom_lip_x                                              47.7219\n",
       "mouth_center_bottom_lip_y                                              81.3999\n",
       "Image                        18 9 14 24 25 9 7 29 26 24 33 23 35 74 72 86 1...\n",
       "Name: 6720, dtype: object"
      ]
     },
     "execution_count": 8,
     "metadata": {},
     "output_type": "execute_result"
    }
   ],
   "source": [
    "df.loc[6720,:]"
   ]
  },
  {
   "cell_type": "markdown",
   "metadata": {},
   "source": [
    "### y 데이터 (눈, 눈썹, 코, 입)를 x,y좌표로 합친 array로"
   ]
  },
  {
   "cell_type": "code",
   "execution_count": 9,
   "metadata": {},
   "outputs": [
    {
     "data": {
      "text/html": [
       "<div>\n",
       "<style scoped>\n",
       "    .dataframe tbody tr th:only-of-type {\n",
       "        vertical-align: middle;\n",
       "    }\n",
       "\n",
       "    .dataframe tbody tr th {\n",
       "        vertical-align: top;\n",
       "    }\n",
       "\n",
       "    .dataframe thead th {\n",
       "        text-align: right;\n",
       "    }\n",
       "</style>\n",
       "<table border=\"1\" class=\"dataframe\">\n",
       "  <thead>\n",
       "    <tr style=\"text-align: right;\">\n",
       "      <th></th>\n",
       "      <th>left_eye_center_x</th>\n",
       "      <th>left_eye_center_y</th>\n",
       "      <th>right_eye_center_x</th>\n",
       "      <th>right_eye_center_y</th>\n",
       "      <th>left_eye_inner_corner_x</th>\n",
       "      <th>left_eye_inner_corner_y</th>\n",
       "      <th>left_eye_outer_corner_x</th>\n",
       "      <th>left_eye_outer_corner_y</th>\n",
       "      <th>right_eye_inner_corner_x</th>\n",
       "      <th>right_eye_inner_corner_y</th>\n",
       "      <th>...</th>\n",
       "      <th>nose_tip_x</th>\n",
       "      <th>nose_tip_y</th>\n",
       "      <th>mouth_left_corner_x</th>\n",
       "      <th>mouth_left_corner_y</th>\n",
       "      <th>mouth_right_corner_x</th>\n",
       "      <th>mouth_right_corner_y</th>\n",
       "      <th>mouth_center_top_lip_x</th>\n",
       "      <th>mouth_center_top_lip_y</th>\n",
       "      <th>mouth_center_bottom_lip_x</th>\n",
       "      <th>mouth_center_bottom_lip_y</th>\n",
       "    </tr>\n",
       "  </thead>\n",
       "  <tbody>\n",
       "    <tr>\n",
       "      <th>0</th>\n",
       "      <td>66.033564</td>\n",
       "      <td>39.002274</td>\n",
       "      <td>30.227008</td>\n",
       "      <td>36.421678</td>\n",
       "      <td>59.582075</td>\n",
       "      <td>39.647423</td>\n",
       "      <td>73.130346</td>\n",
       "      <td>39.969997</td>\n",
       "      <td>36.356571</td>\n",
       "      <td>37.389402</td>\n",
       "      <td>...</td>\n",
       "      <td>44.420571</td>\n",
       "      <td>57.066803</td>\n",
       "      <td>61.195308</td>\n",
       "      <td>79.970165</td>\n",
       "      <td>28.614496</td>\n",
       "      <td>77.388992</td>\n",
       "      <td>43.312602</td>\n",
       "      <td>72.935459</td>\n",
       "      <td>43.130707</td>\n",
       "      <td>84.485774</td>\n",
       "    </tr>\n",
       "  </tbody>\n",
       "</table>\n",
       "<p>1 rows × 30 columns</p>\n",
       "</div>"
      ],
      "text/plain": [
       "   left_eye_center_x  left_eye_center_y  right_eye_center_x  \\\n",
       "0          66.033564          39.002274           30.227008   \n",
       "\n",
       "   right_eye_center_y  left_eye_inner_corner_x  left_eye_inner_corner_y  \\\n",
       "0           36.421678                59.582075                39.647423   \n",
       "\n",
       "   left_eye_outer_corner_x  left_eye_outer_corner_y  right_eye_inner_corner_x  \\\n",
       "0                73.130346                39.969997                 36.356571   \n",
       "\n",
       "   right_eye_inner_corner_y  ...  nose_tip_x  nose_tip_y  mouth_left_corner_x  \\\n",
       "0                 37.389402  ...   44.420571   57.066803            61.195308   \n",
       "\n",
       "   mouth_left_corner_y  mouth_right_corner_x  mouth_right_corner_y  \\\n",
       "0            79.970165             28.614496             77.388992   \n",
       "\n",
       "   mouth_center_top_lip_x  mouth_center_top_lip_y  mouth_center_bottom_lip_x  \\\n",
       "0               43.312602               72.935459                  43.130707   \n",
       "\n",
       "   mouth_center_bottom_lip_y  \n",
       "0                  84.485774  \n",
       "\n",
       "[1 rows x 30 columns]"
      ]
     },
     "execution_count": 9,
     "metadata": {},
     "output_type": "execute_result"
    }
   ],
   "source": [
    "df.iloc[:,:-1].head(1)"
   ]
  },
  {
   "cell_type": "code",
   "execution_count": 10,
   "metadata": {},
   "outputs": [],
   "source": [
    "def xy_to_list(data):\n",
    "    xy_list = []\n",
    "    for d in data:\n",
    "        xy_list.append(np.split(d, 15))\n",
    "    return xy_list"
   ]
  },
  {
   "cell_type": "code",
   "execution_count": 11,
   "metadata": {},
   "outputs": [
    {
     "name": "stdout",
     "output_type": "stream",
     "text": [
      "len(xy_list) : 7049\n",
      "len(xy_list[0]) : 15\n",
      "xy_list[0][0].shape : (2,) \n"
     ]
    },
    {
     "data": {
      "text/plain": [
       "[array([66.03356391, 39.00227368]),\n",
       " array([30.22700752, 36.4216782 ]),\n",
       " array([59.58207519, 39.64742256]),\n",
       " array([73.13034586, 39.96999699]),\n",
       " array([36.35657143, 37.3894015 ]),\n",
       " array([23.45287218, 37.3894015 ]),\n",
       " array([56.95326316, 29.03364812]),\n",
       " array([80.22712782, 32.22813835]),\n",
       " array([40.22760902, 29.0023218 ]),\n",
       " array([16.35637895, 29.64747068]),\n",
       " array([44.42057143, 57.06680301]),\n",
       " array([61.19530827, 79.97016541]),\n",
       " array([28.61449624, 77.38899248]),\n",
       " array([43.3126015 , 72.93545865]),\n",
       " array([43.13070677, 84.48577444])]"
      ]
     },
     "metadata": {},
     "output_type": "display_data"
    }
   ],
   "source": [
    "xy_list = xy_to_list(y)\n",
    "print(\"len(xy_list) : {}\\nlen(xy_list[0]) : {}\\nxy_list[0][0].shape : {} \"\n",
    "      .format(len(xy_list),len(xy_list[0]), xy_list[0][0].shape ))\n",
    "display(xy_list[0])"
   ]
  },
  {
   "cell_type": "code",
   "execution_count": 12,
   "metadata": {},
   "outputs": [
    {
     "data": {
      "text/plain": [
       "[array([66.03356391, 39.00227368]),\n",
       " array([30.22700752, 36.4216782 ]),\n",
       " array([59.58207519, 39.64742256]),\n",
       " array([73.13034586, 39.96999699]),\n",
       " array([36.35657143, 37.3894015 ]),\n",
       " array([23.45287218, 37.3894015 ]),\n",
       " array([56.95326316, 29.03364812]),\n",
       " array([80.22712782, 32.22813835]),\n",
       " array([40.22760902, 29.0023218 ]),\n",
       " array([16.35637895, 29.64747068]),\n",
       " array([44.42057143, 57.06680301]),\n",
       " array([61.19530827, 79.97016541]),\n",
       " array([28.61449624, 77.38899248]),\n",
       " array([43.3126015 , 72.93545865]),\n",
       " array([43.13070677, 84.48577444])]"
      ]
     },
     "execution_count": 12,
     "metadata": {},
     "output_type": "execute_result"
    }
   ],
   "source": [
    "xy_list[0]"
   ]
  },
  {
   "cell_type": "code",
   "execution_count": 13,
   "metadata": {},
   "outputs": [
    {
     "data": {
      "text/plain": [
       "array([44.42057143, 57.06680301])"
      ]
     },
     "execution_count": 13,
     "metadata": {},
     "output_type": "execute_result"
    }
   ],
   "source": [
    "xy_list[0][10]"
   ]
  },
  {
   "cell_type": "code",
   "execution_count": 14,
   "metadata": {},
   "outputs": [
    {
     "data": {
      "text/plain": [
       "left_eye_center_x                                                      66.0336\n",
       "left_eye_center_y                                                      39.0023\n",
       "right_eye_center_x                                                      30.227\n",
       "right_eye_center_y                                                     36.4217\n",
       "left_eye_inner_corner_x                                                59.5821\n",
       "left_eye_inner_corner_y                                                39.6474\n",
       "left_eye_outer_corner_x                                                73.1303\n",
       "left_eye_outer_corner_y                                                  39.97\n",
       "right_eye_inner_corner_x                                               36.3566\n",
       "right_eye_inner_corner_y                                               37.3894\n",
       "right_eye_outer_corner_x                                               23.4529\n",
       "right_eye_outer_corner_y                                               37.3894\n",
       "left_eyebrow_inner_end_x                                               56.9533\n",
       "left_eyebrow_inner_end_y                                               29.0336\n",
       "left_eyebrow_outer_end_x                                               80.2271\n",
       "left_eyebrow_outer_end_y                                               32.2281\n",
       "right_eyebrow_inner_end_x                                              40.2276\n",
       "right_eyebrow_inner_end_y                                              29.0023\n",
       "right_eyebrow_outer_end_x                                              16.3564\n",
       "right_eyebrow_outer_end_y                                              29.6475\n",
       "nose_tip_x                                                             44.4206\n",
       "nose_tip_y                                                             57.0668\n",
       "mouth_left_corner_x                                                    61.1953\n",
       "mouth_left_corner_y                                                    79.9702\n",
       "mouth_right_corner_x                                                   28.6145\n",
       "mouth_right_corner_y                                                    77.389\n",
       "mouth_center_top_lip_x                                                 43.3126\n",
       "mouth_center_top_lip_y                                                 72.9355\n",
       "mouth_center_bottom_lip_x                                              43.1307\n",
       "mouth_center_bottom_lip_y                                              84.4858\n",
       "Image                        238 236 237 238 240 240 239 241 241 243 240 23...\n",
       "Name: 0, dtype: object"
      ]
     },
     "execution_count": 14,
     "metadata": {},
     "output_type": "execute_result"
    }
   ],
   "source": [
    "df.loc[0,:]"
   ]
  },
  {
   "cell_type": "markdown",
   "metadata": {},
   "source": [
    "### 왼쪽 눈 중앙과 오른쪽 눈 중앙의 중점과 기울기를 구함"
   ]
  },
  {
   "cell_type": "code",
   "execution_count": 15,
   "metadata": {},
   "outputs": [],
   "source": [
    "import math \n",
    "# 두 점간의 기울기와 중점 구함\n",
    "def get_gradient_middle(feature1, feature2):\n",
    "    # 사진은 좌우 대칭이기 때문에 왼쪽 - 오른쪽\n",
    "    delta_x = (feature2 - feature1)[0]\n",
    "    delta_y = (feature2 - feature1)[1]\n",
    "    gradient = delta_y / delta_x\n",
    "#   distance = math.sqrt(math.pow(delta_x,2) + math.pow(delta_y,2))\n",
    "    middle_point = get_middlepoint(feature1, feature2)\n",
    "    return gradient, middle_point\n",
    "# 두 점의 중점 구하기\n",
    "def get_middlepoint(feature1, feature2):\n",
    "    return (feature1 + feature2)/2\n",
    "\n",
    "# 기울기와 좌표값으로 y절편 구하기\n",
    "def get_b(gradient, point):\n",
    "    return point[1] - gradient*point[0]\n",
    "\n",
    "# 어떤 직선의 중점을 지나고 직교하는 직선 구하기\n",
    "def get_ppline(gradient):\n",
    "    if gradient == 0:\n",
    "        perpen_gradient = 0\n",
    "    else :\n",
    "        perpen_gradient = (-1/gradient)\n",
    "    return np.float64(perpen_gradient)\n",
    "\n",
    "# 눈 사이 직선에 직교하고 중점을 지나는 직선과 코 사이의 x 변화량\n",
    "def get_nose_ppline_delta_x(middle_point, gradient, nose_point):\n",
    "    perpen_gradient = get_ppline(gradient)\n",
    "    if gradient == 0:\n",
    "        perpen_line_x_point = middle_point[0]\n",
    "    else:\n",
    "        b = get_b(perpen_gradient, middle_point)\n",
    "        perpen_line_x_point = (nose_point[1] - b)/perpen_gradient\n",
    "    # b = y - ax \n",
    "    # y = ax  + b \n",
    "    # x = (y-b)/a\n",
    "    return abs(nose_point[0] - perpen_line_x_point)"
   ]
  },
  {
   "cell_type": "code",
   "execution_count": 16,
   "metadata": {},
   "outputs": [],
   "source": [
    "# 직교하는 직선들을 이미지에 표시\n",
    "def show_ppline(x, y=None, line=None):\n",
    "    # x,y 범위 지정\n",
    "    plt.xlim(96,0)\n",
    "    plt.ylim(96,0)\n",
    "    plt.imshow(x[:,:,0], 'gray')\n",
    "    if y is not None:\n",
    "        # vertical stack \n",
    "        points = np.stack(np.split(y, 15, axis = 0),axis =0).T\n",
    "        plt.plot(points[0], points[1],'o', color = 'green', alpha = 0.7 )\n",
    "    if line is not None:\n",
    "        x = range(0,96)\n",
    "        # pipline[0] 은 gradient\n",
    "        # pipline[1] 은 (x,y)\n",
    "        # y = ax + b\n",
    "        plt.plot(x, line[0]*x + get_b(line[0], line[1]), 'r', label='ppline', alpha = 0.7)\n",
    "        x = range(0,96)\n",
    "        ppline_gradient = get_ppline(line[0])\n",
    "        if ppline_gradient == 0:\n",
    "            plt.plot(np.array([line[1][0]]*96), x, 'r', label='ppline', alpha = 0.7)\n",
    "        else:\n",
    "            plt.plot(x, ppline_gradient*x + get_b(ppline_gradient, line[1]), 'r', label='ppline', alpha = 0.7)\n",
    "\n",
    "    plt.axis('off')"
   ]
  },
  {
   "cell_type": "code",
   "execution_count": 17,
   "metadata": {},
   "outputs": [
    {
     "name": "stdout",
     "output_type": "stream",
     "text": [
      "[66.03356391 39.00227368]\n",
      "[30.22700752 36.4216782 ]\n"
     ]
    }
   ],
   "source": [
    "print(xy_list[0][0])\n",
    "print(xy_list[0][1])"
   ]
  },
  {
   "cell_type": "code",
   "execution_count": 18,
   "metadata": {},
   "outputs": [
    {
     "name": "stdout",
     "output_type": "stream",
     "text": [
      "7049\n",
      "(0.07207047392439651, array([48.13028571, 37.71197594]))\n"
     ]
    }
   ],
   "source": [
    "# 두 점 간의 기울기와 중점을 구함\n",
    "eye_gd_dis = []\n",
    "for i in range(len(xy_list)):\n",
    "    eye_gd_dis.append(get_gradient_middle(xy_list[i][1],xy_list[i][0]))\n",
    "print(len(eye_gd_dis))\n",
    "print(eye_gd_dis[0])"
   ]
  },
  {
   "cell_type": "code",
   "execution_count": 19,
   "metadata": {},
   "outputs": [],
   "source": [
    "### xy_list[:][0] 은 왼쪽 눈 center\n",
    "### xy_list[:][1] 은 오른쪽 눈 center\n",
    "### xy_list[:][10] 은 코 "
   ]
  },
  {
   "cell_type": "code",
   "execution_count": 20,
   "metadata": {},
   "outputs": [
    {
     "name": "stdout",
     "output_type": "stream",
     "text": [
      "7049\n",
      "[0.07207047392439651, array([48.13028571, 37.71197594]), 2.3148027262097415, 0]\n"
     ]
    }
   ],
   "source": [
    "gd_md_delta_list = []\n",
    "for i in range(len(xy_list)):\n",
    "    # 기울기와 중점\n",
    "    gd_md_list = list(get_gradient_middle(xy_list[i][1], xy_list[i][0]))\n",
    "    # 코와 눈 사이 직선간의 거리\n",
    "    gd_md_list.append(get_nose_ppline_delta_x(gd_md_list[1], gd_md_list[0], xy_list[i][10]))\n",
    "    gd_md_delta_list.append(gd_md_list)\n",
    "    gd_md_list.append(i)\n",
    "print(len(gd_md_delta_list))\n",
    "print(gd_md_delta_list[0])\n"
   ]
  },
  {
   "cell_type": "code",
   "execution_count": 21,
   "metadata": {},
   "outputs": [
    {
     "name": "stdout",
     "output_type": "stream",
     "text": [
      "[49.43214953 38.76605607]\n",
      "[52.46848598 58.8       ]\n"
     ]
    }
   ],
   "source": [
    "# 눈 사이 중점\n",
    "print(gd_md_delta_list[5][1])\n",
    "# 코의 위치\n",
    "print(xy_list[5][10])"
   ]
  },
  {
   "cell_type": "code",
   "execution_count": 22,
   "metadata": {},
   "outputs": [
    {
     "data": {
      "image/png": "[encoded data removed]",
      "text/plain": [
       "<Figure size 432x288 with 1 Axes>"
      ]
     },
     "metadata": {
      "needs_background": "light"
     },
     "output_type": "display_data"
    }
   ],
   "source": [
    "show_ppline(x[5], y[5], gd_md_delta_list[5])"
   ]
  },
  {
   "cell_type": "code",
   "execution_count": 23,
   "metadata": {},
   "outputs": [],
   "source": [
    "test_list = gd_md_delta_list[:]"
   ]
  },
  {
   "cell_type": "code",
   "execution_count": 24,
   "metadata": {},
   "outputs": [
    {
     "data": {
      "text/plain": [
       "2.3148027262097415"
      ]
     },
     "execution_count": 24,
     "metadata": {},
     "output_type": "execute_result"
    }
   ],
   "source": [
    "test_list[0][2]"
   ]
  },
  {
   "cell_type": "code",
   "execution_count": 25,
   "metadata": {},
   "outputs": [],
   "source": [
    "test_list.sort(key = lambda x:x[2], reverse = True)"
   ]
  },
  {
   "cell_type": "code",
   "execution_count": 26,
   "metadata": {},
   "outputs": [
    {
     "data": {
      "text/plain": [
       "[0.1289572013203705,\n",
       " array([48.47271837, 37.88419215]),\n",
       " 15.103981116811326,\n",
       " 1776]"
      ]
     },
     "metadata": {},
     "output_type": "display_data"
    }
   ],
   "source": [
    "display(test_list[1])"
   ]
  },
  {
   "cell_type": "code",
   "execution_count": 27,
   "metadata": {},
   "outputs": [
    {
     "data": {
      "text/plain": [
       "[0.07207047392439651, array([48.13028571, 37.71197594]), 2.3148027262097415, 0]"
      ]
     },
     "execution_count": 27,
     "metadata": {},
     "output_type": "execute_result"
    }
   ],
   "source": [
    "gd_md_delta_list[0]"
   ]
  },
  {
   "cell_type": "code",
   "execution_count": 28,
   "metadata": {},
   "outputs": [
    {
     "data": {
      "image/png": "[encoded data removed]",
      "text/plain": [
       "<Figure size 432x288 with 1 Axes>"
      ]
     },
     "metadata": {
      "needs_background": "light"
     },
     "output_type": "display_data"
    }
   ],
   "source": [
    "show_ppline(x[1776], y[1776], test_list[1])"
   ]
  },
  {
   "cell_type": "code",
   "execution_count": 29,
   "metadata": {},
   "outputs": [],
   "source": [
    "# sample_idx = np.random.choice(len(x))\n",
    "# show(x[sample_idx], y[sample_idx])"
   ]
  },
  {
   "cell_type": "markdown",
   "metadata": {},
   "source": [
    "## 결측 값 채우기"
   ]
  },
  {
   "cell_type": "markdown",
   "metadata": {},
   "source": [
    "### 결측 값을 채우는 학습모델 만들기\n",
    "- feature map\n",
    "    - 왼쪽 눈 위치\n",
    "    - 오른쪽 눈 위치\n",
    "    - 코 위치\n",
    "    - 아랫입술 위치\n",
    "    - 추가해야할 feature\n",
    "        - 눈사이의 기울기\n",
    "        - 왼쪽 눈과 코사이의 기울기\n",
    "        - 오른쪽 눈과 코사이의 기울기\n",
    "        - 입술에서 코까지의 거리\n",
    "        - 각 눈의 점과 코의 점을 잇는 삼각형 넓이"
   ]
  },
  {
   "cell_type": "code",
   "execution_count": 645,
   "metadata": {},
   "outputs": [],
   "source": [
    "import numpy as np\n",
    "import pandas as pd\n",
    "import matplotlib.pyplot as plt\n",
    "from sklearn.model_selection import train_test_split\n",
    "from joblib import Parallel, delayed\n",
    "import math"
   ]
  },
  {
   "cell_type": "code",
   "execution_count": 646,
   "metadata": {},
   "outputs": [
    {
     "data": {
      "text/plain": [
       "(7049, 31)"
      ]
     },
     "execution_count": 646,
     "metadata": {},
     "output_type": "execute_result"
    }
   ],
   "source": [
    "df = pd.read_csv('../data/facial/training.csv')\n",
    "df.shape"
   ]
  },
  {
   "cell_type": "markdown",
   "metadata": {},
   "source": [
    "#### 결측값 없는 온전한 데이터 전처리"
   ]
  },
  {
   "cell_type": "code",
   "execution_count": 647,
   "metadata": {},
   "outputs": [
    {
     "name": "stdout",
     "output_type": "stream",
     "text": [
      "(7049, 31)\n",
      "(2140, 31)\n"
     ]
    }
   ],
   "source": [
    "import numpy as np\n",
    "import pandas as pd\n",
    "import matplotlib.pyplot as plt\n",
    "\n",
    "df = pd.read_csv('../data/facial/training.csv')\n",
    "print(df.shape)\n",
    "df.dropna(inplace=True)\n",
    "print(df.shape)"
   ]
  },
  {
   "cell_type": "code",
   "execution_count": 648,
   "metadata": {},
   "outputs": [
    {
     "name": "stdout",
     "output_type": "stream",
     "text": [
      "x_data.shape : (2140, 8)\n",
      "left_eye_center_x\n",
      "left_eye_center_y\n",
      "right_eye_center_x\n",
      "right_eye_center_y\n",
      "nose_tip_x\n",
      "nose_tip_y\n",
      "mouth_center_bottom_lip_x\n",
      "mouth_center_bottom_lip_y\n"
     ]
    }
   ],
   "source": [
    "feature_list = [0,1,2,3,20,21,28,29]\n",
    "x_data = df.iloc[:,feature_list]\n",
    "print(\"x_data.shape : {}\".format(x_data.shape))\n",
    "for c in x_data.columns:\n",
    "    print(c)"
   ]
  },
  {
   "cell_type": "code",
   "execution_count": 649,
   "metadata": {},
   "outputs": [
    {
     "name": "stdout",
     "output_type": "stream",
     "text": [
      "y_data.sahpe : (2140, 22)\n",
      "left_eye_inner_corner_x\n",
      "left_eye_inner_corner_y\n",
      "left_eye_outer_corner_x\n",
      "left_eye_outer_corner_y\n",
      "right_eye_inner_corner_x\n",
      "right_eye_inner_corner_y\n",
      "right_eye_outer_corner_x\n",
      "right_eye_outer_corner_y\n",
      "left_eyebrow_inner_end_x\n",
      "left_eyebrow_inner_end_y\n",
      "left_eyebrow_outer_end_x\n",
      "left_eyebrow_outer_end_y\n",
      "right_eyebrow_inner_end_x\n",
      "right_eyebrow_inner_end_y\n",
      "right_eyebrow_outer_end_x\n",
      "right_eyebrow_outer_end_y\n",
      "mouth_left_corner_x\n",
      "mouth_left_corner_y\n",
      "mouth_right_corner_x\n",
      "mouth_right_corner_y\n",
      "mouth_center_top_lip_x\n",
      "mouth_center_top_lip_y\n"
     ]
    }
   ],
   "source": [
    "y_data = df.drop(x_data.columns ,axis = 1)\n",
    "y_data.drop('Image', axis = 1, inplace = True)\n",
    "print(\"y_data.sahpe : {}\".format(y_data.shape))\n",
    "for c in y_data.columns:\n",
    "    print(c)"
   ]
  },
  {
   "cell_type": "markdown",
   "metadata": {},
   "source": [
    "#### feautre map을 추가시키기\n",
    "- 눈 사이 기울기\n",
    "- 왼쪽눈과 코 사이의 기울기\n",
    "- 오른쪽눈과 코 사이의 기울기\n",
    "- 코와 입 사이의 거리\n",
    "- 각 눈의 점과 코의 점을 잇는 삼각형 넓이"
   ]
  },
  {
   "cell_type": "code",
   "execution_count": 650,
   "metadata": {},
   "outputs": [
    {
     "data": {
      "text/plain": [
       "(2140, 2)"
      ]
     },
     "execution_count": 650,
     "metadata": {},
     "output_type": "execute_result"
    }
   ],
   "source": [
    "x_data_split = np.split(x_data.values, 4, axis = 1)\n",
    "# 0 : 왼쪽 눈 1 : 오른쪽 눈 2 : 코 3 : 입술 아래\n",
    "x_data_split[0].shape"
   ]
  },
  {
   "cell_type": "code",
   "execution_count": 651,
   "metadata": {},
   "outputs": [
    {
     "data": {
      "text/html": [
       "<div>\n",
       "<style scoped>\n",
       "    .dataframe tbody tr th:only-of-type {\n",
       "        vertical-align: middle;\n",
       "    }\n",
       "\n",
       "    .dataframe tbody tr th {\n",
       "        vertical-align: top;\n",
       "    }\n",
       "\n",
       "    .dataframe thead th {\n",
       "        text-align: right;\n",
       "    }\n",
       "</style>\n",
       "<table border=\"1\" class=\"dataframe\">\n",
       "  <thead>\n",
       "    <tr style=\"text-align: right;\">\n",
       "      <th></th>\n",
       "      <th>left_eye_center_x</th>\n",
       "      <th>left_eye_center_y</th>\n",
       "      <th>right_eye_center_x</th>\n",
       "      <th>right_eye_center_y</th>\n",
       "      <th>nose_tip_x</th>\n",
       "      <th>nose_tip_y</th>\n",
       "      <th>mouth_center_bottom_lip_x</th>\n",
       "      <th>mouth_center_bottom_lip_y</th>\n",
       "    </tr>\n",
       "  </thead>\n",
       "  <tbody>\n",
       "    <tr>\n",
       "      <th>0</th>\n",
       "      <td>66.033564</td>\n",
       "      <td>39.002274</td>\n",
       "      <td>30.227008</td>\n",
       "      <td>36.421678</td>\n",
       "      <td>44.420571</td>\n",
       "      <td>57.066803</td>\n",
       "      <td>43.130707</td>\n",
       "      <td>84.485774</td>\n",
       "    </tr>\n",
       "  </tbody>\n",
       "</table>\n",
       "</div>"
      ],
      "text/plain": [
       "   left_eye_center_x  left_eye_center_y  right_eye_center_x  \\\n",
       "0          66.033564          39.002274           30.227008   \n",
       "\n",
       "   right_eye_center_y  nose_tip_x  nose_tip_y  mouth_center_bottom_lip_x  \\\n",
       "0           36.421678   44.420571   57.066803                  43.130707   \n",
       "\n",
       "   mouth_center_bottom_lip_y  \n",
       "0                  84.485774  "
      ]
     },
     "execution_count": 651,
     "metadata": {},
     "output_type": "execute_result"
    }
   ],
   "source": [
    "x_data.head(1)"
   ]
  },
  {
   "cell_type": "code",
   "execution_count": 652,
   "metadata": {},
   "outputs": [],
   "source": [
    "def get_gradient(feature1, feature2):\n",
    "    x_delta = (feature1-feature2)[:,0]\n",
    "    y_delta = (feature1-feature2)[:,1]\n",
    "    return y_delta / x_delta\n",
    "\n",
    "def get_distnace(feature1, feature2):\n",
    "    x_delta = (feature1-feature2)[:,0]\n",
    "    y_delta = (feature1-feature2)[:,1]\n",
    "    return pow(2, (x_delta**2 + y_delta**2))"
   ]
  },
  {
   "cell_type": "code",
   "execution_count": 653,
   "metadata": {},
   "outputs": [
    {
     "name": "stdout",
     "output_type": "stream",
     "text": [
      "(2140, 1)\n",
      "(2140, 1)\n",
      "(2140, 1)\n",
      "(2140, 1)\n",
      "(2140, 12)\n"
     ]
    },
    {
     "name": "stderr",
     "output_type": "stream",
     "text": [
      "C:\\ProgramData\\Anaconda3\\envs\\gpu_env\\lib\\site-packages\\ipykernel_launcher.py:9: RuntimeWarning: overflow encountered in power\n",
      "  if __name__ == '__main__':\n"
     ]
    }
   ],
   "source": [
    "# 0 : 왼쪽 눈 1 : 오른쪽 눈 2 : 코 3 : 입술 아래\n",
    "le2re_gradient = get_gradient(x_data_split[0], x_data_split[1]).reshape(-1, 1)\n",
    "le2n_gradient = get_gradient(x_data_split[0], x_data_split[2]).reshape(-1, 1)\n",
    "re2ne_gradient = get_gradient(x_data_split[1], x_data_split[2]).reshape(-1, 1)\n",
    "n2bm_distnace = get_distnace(x_data_split[2], x_data_split[3]).reshape(-1, 1)\n",
    "\n",
    "print(le2re_gradient.shape)\n",
    "print(le2n_gradient.shape)\n",
    "print(re2ne_gradient.shape)\n",
    "print(n2bm_distnace.shape)\n",
    "\n",
    "for d in [le2re_gradient, le2n_gradient,re2ne_gradient,n2bm_distnace]:\n",
    "    x_data = np.append(x_data, d, axis = 1)\n",
    "print(x_data.shape)"
   ]
  },
  {
   "cell_type": "code",
   "execution_count": 654,
   "metadata": {},
   "outputs": [
    {
     "name": "stderr",
     "output_type": "stream",
     "text": [
      "[Parallel(n_jobs=10)]: Using backend ThreadingBackend with 10 concurrent workers.\n",
      "[Parallel(n_jobs=10)]: Done  30 tasks      | elapsed:    0.0s\n",
      "[Parallel(n_jobs=10)]: Done 180 tasks      | elapsed:    0.4s\n",
      "[Parallel(n_jobs=10)]: Done 430 tasks      | elapsed:    1.2s\n",
      "[Parallel(n_jobs=10)]: Done 780 tasks      | elapsed:    2.3s\n",
      "[Parallel(n_jobs=10)]: Done 1230 tasks      | elapsed:    3.7s\n",
      "[Parallel(n_jobs=10)]: Done 1780 tasks      | elapsed:    5.2s\n"
     ]
    },
    {
     "name": "stdout",
     "output_type": "stream",
     "text": [
      "(2140, 96, 96, 1)\n"
     ]
    },
    {
     "name": "stderr",
     "output_type": "stream",
     "text": [
      "[Parallel(n_jobs=10)]: Done 2140 out of 2140 | elapsed:    6.3s finished\n"
     ]
    }
   ],
   "source": [
    "from joblib import Parallel, delayed\n",
    "\n",
    "def format_img(x):\n",
    "    return np.asarray([int(e) for e in x.split(' ')], dtype = np.uint8).reshape(96,96)\n",
    "\n",
    "with Parallel(n_jobs = 10, verbose = 1, prefer = 'threads') as ex:\n",
    "    img_data = ex(delayed(format_img)(e) for e in df.Image)\n",
    "\n",
    "img_data = np.stack(img_data)[:,:,:,None]\n",
    "print(img_data.shape)"
   ]
  },
  {
   "cell_type": "markdown",
   "metadata": {},
   "source": [
    "#### train / test split"
   ]
  },
  {
   "cell_type": "code",
   "execution_count": 698,
   "metadata": {},
   "outputs": [
    {
     "name": "stdout",
     "output_type": "stream",
     "text": [
      "x_train.shape :(1712, 12)\n",
      "x_val.shape : (428, 12)\n",
      "y_train.shape :(1712, 22)\n",
      "y_val.shape : (428, 22)\n",
      "img_train.shape :(1712, 96, 96, 1)\n",
      "img_val.shape : (428, 96, 96, 1)\n"
     ]
    }
   ],
   "source": [
    "from sklearn.model_selection import train_test_split\n",
    "\n",
    "# random_state는 난수시드\n",
    "x_train, x_test, y_train, y_test = train_test_split(x_data,y_data,test_size = 0.2, random_state = 42)\n",
    "img_train, img_test = train_test_split(img_data,test_size = 0.2, random_state = 42)\n",
    "print(\"x_train.shape :{}\\nx_val.shape : {}\".format(x_train.shape, x_test.shape))\n",
    "print(\"y_train.shape :{}\\ny_val.shape : {}\".format(y_train.shape, y_test.shape))\n",
    "print(\"img_train.shape :{}\\nimg_val.shape : {}\".format(img_train.shape, img_test.shape))"
   ]
  },
  {
   "cell_type": "markdown",
   "metadata": {},
   "source": [
    "#### x,y좌표로 변환"
   ]
  },
  {
   "cell_type": "code",
   "execution_count": 663,
   "metadata": {},
   "outputs": [],
   "source": [
    "def convert_xy(data, feature_size):\n",
    "    data = data[:,:feature_size]\n",
    "    # (batch, feature_size/2 , 2-D shape)\n",
    "    return np.stack(np.split(test, feature_size/2, axis = 1), axis = 1)\n",
    "    "
   ]
  },
  {
   "cell_type": "code",
   "execution_count": 664,
   "metadata": {},
   "outputs": [
    {
     "data": {
      "text/plain": [
       "(1712, 4, 1, 2)"
      ]
     },
     "execution_count": 664,
     "metadata": {},
     "output_type": "execute_result"
    }
   ],
   "source": [
    "test = convert_xy(x_train, 8)\n",
    "test.shape\n",
    "# test[:, 참조하고싶은 colum, :] 와 같은 형태로 indexing해서 사용"
   ]
  },
  {
   "cell_type": "markdown",
   "metadata": {},
   "source": [
    "#### 이미지 보여주는 function"
   ]
  },
  {
   "cell_type": "code",
   "execution_count": 713,
   "metadata": {},
   "outputs": [
    {
     "name": "stdout",
     "output_type": "stream",
     "text": [
      "129\n"
     ]
    },
    {
     "data": {
      "image/png": "[encoded data removed]",
      "text/plain": [
       "<Figure size 432x288 with 1 Axes>"
      ]
     },
     "metadata": {
      "needs_background": "light"
     },
     "output_type": "display_data"
    }
   ],
   "source": [
    "# 이미지 보여주는 function\n",
    "def show(x, y=None, feature_size = None):\n",
    "\n",
    "    plt.imshow(x[:,:,0], 'gray')\n",
    "    if y is not None:\n",
    "        # vertical stack \n",
    "        y = y[:feature_size]\n",
    "        points = np.stack(np.split(y, int(feature_size/2), axis = 0),axis =0).T\n",
    "        plt.plot(points[0], points[1],'o', color = 'green', alpha = 0.7 )\n",
    "    plt.axis('off')\n",
    "sample_idx = np.random.choice(len(x_data))\n",
    "show(img_data[sample_idx], x_data[sample_idx], 8)\n",
    "print(sample_idx)"
   ]
  },
  {
   "cell_type": "markdown",
   "metadata": {},
   "source": [
    "#### NN model 만들기"
   ]
  },
  {
   "cell_type": "code",
   "execution_count": 714,
   "metadata": {},
   "outputs": [
    {
     "name": "stderr",
     "output_type": "stream",
     "text": [
      "Using TensorFlow backend.\n"
     ]
    }
   ],
   "source": [
    "from keras.models import Sequential\n",
    "from keras.layers import Dense, Conv2D, Flatten, AvgPool2D, BatchNormalization, Dropout, Activation, MaxPool2D\n",
    "from keras.optimizers import Adam\n",
    "from keras import regularizers\n",
    "import numpy as np\n",
    "from keras.models import load_model\n",
    "from keras.callbacks import CSVLogger\n",
    "from keras.backend.tensorflow_backend import set_session\n",
    "import tensorflow as tf"
   ]
  },
  {
   "cell_type": "code",
   "execution_count": null,
   "metadata": {},
   "outputs": [],
   "source": [
    "class NNmodel:\n",
    "    def __init__(self, x_train, x_test, y_train, y_test, epoch):\n",
    "        \n",
    "        self.x_train = x_train\n",
    "        self.x_test = x_test\n",
    "        self.y_train = y_train\n",
    "        self.y_test = y_test\n",
    "        self.epoch = epoch\n",
    "        self.build_model()\n",
    "        \n",
    "    def build_model(self):\n",
    "        self.model = Sequential()\n",
    "        self.model.add(Dense(128, input_shape = (12,), kernel_initializer='he_normal',\n",
    "                             use_bias=True, bias_initializer='he_normal',\n",
    "                             kernel_regularizer=regularizers.l2(0.01)))\n",
    "        self.model.add(BatchNormalization(axis=-1))\n",
    "        self.model.add(Activation('relu'))\n",
    "        self.model.add(Dropout(0.5))\n",
    "        self.model.add(Dense(256, kernel_initializer='he_normal',\n",
    "                             use_bias=True, bias_initializer='he_normal',\n",
    "                             kernel_regularizer=regularizers.l2(0.01)))\n",
    "        self.model.add(BatchNormalization(axis=-1))\n",
    "        self.model.add(Activation('relu'))\n",
    "        self.model.add(Dropout(0.5))\n",
    "        self.model.add(Dense(512, kernel_initializer='he_normal',\n",
    "                             use_bias=True, bias_initializer='he_normal',\n",
    "                             kernel_regularizer=regularizers.l2(0.01)))\n",
    "        self.model.add(BatchNormalization(axis=-1))\n",
    "        self.model.add(Activation('relu'))\n",
    "        self.model.add(Dropout(0.5))\n",
    "        self.model.add(Dense(22, kernel_initializer='he_normal',\n",
    "                             use_bias=True, bias_initializer='he_normal',\n",
    "                             kernel_regularizer=regularizers.l2(0.01)))\n",
    "        self.model.compile(optimizer = Adam(0.0001), loss='mse', metrics = ['mae'])\n",
    "        print(self.model.summary())\n",
    "        print(self.model.input, self.model.output)\n",
    "    def training_model(self):\n",
    "        csv_logger = CSVLogger('fillnan_1.log', separator=',', append=True)\n",
    "        log = self.model.fit(self.x_train, self.y_train, epochs=self.epoch, batch_size=50, validation_data=[self.x_test, self.y_test], callbacks=[csv_logger])\n",
    "        self.model.save('fillnan_1.h5')\n",
    "\n"
   ]
  },
  {
   "cell_type": "code",
   "execution_count": null,
   "metadata": {},
   "outputs": [],
   "source": [
    "nnmodel1 = NNmodel(x_train, x_test, y_train, y_test, 300)\n",
    "nnmodel1.training_model()"
   ]
  },
  {
   "cell_type": "code",
   "execution_count": null,
   "metadata": {},
   "outputs": [],
   "source": []
  },
  {
   "cell_type": "markdown",
   "metadata": {},
   "source": [
    "### 눈 코 입도 있는 이미지만 살리기"
   ]
  },
  {
   "cell_type": "code",
   "execution_count": 31,
   "metadata": {},
   "outputs": [
    {
     "data": {
      "text/plain": [
       "left_eye_center_x              10\n",
       "left_eye_center_y              10\n",
       "right_eye_center_x             13\n",
       "right_eye_center_y             13\n",
       "left_eye_inner_corner_x      4778\n",
       "left_eye_inner_corner_y      4778\n",
       "left_eye_outer_corner_x      4782\n",
       "left_eye_outer_corner_y      4782\n",
       "right_eye_inner_corner_x     4781\n",
       "right_eye_inner_corner_y     4781\n",
       "right_eye_outer_corner_x     4781\n",
       "right_eye_outer_corner_y     4781\n",
       "left_eyebrow_inner_end_x     4779\n",
       "left_eyebrow_inner_end_y     4779\n",
       "left_eyebrow_outer_end_x     4824\n",
       "left_eyebrow_outer_end_y     4824\n",
       "right_eyebrow_inner_end_x    4779\n",
       "right_eyebrow_inner_end_y    4779\n",
       "right_eyebrow_outer_end_x    4813\n",
       "right_eyebrow_outer_end_y    4813\n",
       "nose_tip_x                      0\n",
       "nose_tip_y                      0\n",
       "mouth_left_corner_x          4780\n",
       "mouth_left_corner_y          4780\n",
       "mouth_right_corner_x         4779\n",
       "mouth_right_corner_y         4779\n",
       "mouth_center_top_lip_x       4774\n",
       "mouth_center_top_lip_y       4774\n",
       "mouth_center_bottom_lip_x      33\n",
       "mouth_center_bottom_lip_y      33\n",
       "Image                           0\n",
       "dtype: int64"
      ]
     },
     "execution_count": 31,
     "metadata": {},
     "output_type": "execute_result"
    }
   ],
   "source": [
    "df.isnull().sum()"
   ]
  },
  {
   "cell_type": "code",
   "execution_count": 33,
   "metadata": {},
   "outputs": [],
   "source": [
    "notnull_lefteye = df['left_eye_center_x'].notnull().values\n",
    "notnull_righteye = df['right_eye_center_x'].notnull().values\n",
    "notnull_mouth = df['mouth_center_bottom_lip_y'].notnull().values\n",
    "bool_index = notnull_lefteye*notnull_righteye*notnull_mouth\n",
    "\n",
    "df = df[bool_index]"
   ]
  },
  {
   "cell_type": "code",
   "execution_count": null,
   "metadata": {},
   "outputs": [],
   "source": [
    "# 순서가 어긋날 수 있으니 다시 DataFrame을 생성해 index가 초기화될 수 있게한다\n",
    "new_df = pd.DataFrame(new_df.values, columns= new_df.columns)"
   ]
  },
  {
   "cell_type": "code",
   "execution_count": null,
   "metadata": {},
   "outputs": [],
   "source": [
    "new_df.shape"
   ]
  },
  {
   "cell_type": "code",
   "execution_count": null,
   "metadata": {},
   "outputs": [],
   "source": [
    "y_label = new_df.iloc[:,:-1]\n",
    "x_data = new_df.iloc[:,-1]\n",
    "print(y_label.shape)\n",
    "print(x_data.shape)"
   ]
  },
  {
   "cell_type": "code",
   "execution_count": null,
   "metadata": {},
   "outputs": [],
   "source": []
  },
  {
   "cell_type": "code",
   "execution_count": null,
   "metadata": {},
   "outputs": [],
   "source": []
  }
 ],
 "metadata": {
  "kernelspec": {
   "display_name": "[GPU_ENV]",
   "language": "python",
   "name": "gpu_env"
  },
  "language_info": {
   "codemirror_mode": {
    "name": "ipython",
    "version": 3
   },
   "file_extension": ".py",
   "mimetype": "text/x-python",
   "name": "python",
   "nbconvert_exporter": "python",
   "pygments_lexer": "ipython3",
   "version": "3.6.8"
  },
  "toc": {
   "base_numbering": 1,
   "nav_menu": {},
   "number_sections": true,
   "sideBar": true,
   "skip_h1_title": false,
   "title_cell": "Table of Contents",
   "title_sidebar": "Contents",
   "toc_cell": false,
   "toc_position": {
    "height": "calc(100% - 180px)",
    "left": "10px",
    "top": "150px",
    "width": "221.8px"
   },
   "toc_section_display": true,
   "toc_window_display": false
  }
 },
 "nbformat": 4,
 "nbformat_minor": 2
}
