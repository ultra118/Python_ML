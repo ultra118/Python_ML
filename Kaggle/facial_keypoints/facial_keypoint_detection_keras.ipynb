{
 "cells": [
  {
   "cell_type": "code",
   "execution_count": 1,
   "metadata": {},
   "outputs": [
    {
     "data": {
      "text/plain": [
       "(2140, 31)"
      ]
     },
     "execution_count": 1,
     "metadata": {},
     "output_type": "execute_result"
    }
   ],
   "source": [
    "import math\n",
    "import numpy as np\n",
    "import pandas as pd\n",
    "import matplotlib.pyplot as plt\n",
    "%matplotlib inline\n",
    "\n",
    "df = pd.read_csv('../data/facial/training.csv')\n",
    "# 결측값 전부 지우고\n",
    "df.dropna(inplace=True)\n",
    "df.shape"
   ]
  },
  {
   "cell_type": "markdown",
   "metadata": {},
   "source": [
    "### npstack\n",
    "- 사용자가 지정한 차원(축으로) 배열을 연결\n",
    "- axis = 0(defalut) 가장 앞쪽에 차원 생성\n",
    "- 배열 두 개가 겹치게 됨(연결하고자 하는 배열들의 크기가 모두 같아야 함)\n",
    "https://datascienceschool.net/view-notebook/17608f897087478bbeac096438c716f6/"
   ]
  },
  {
   "cell_type": "code",
   "execution_count": 55,
   "metadata": {},
   "outputs": [
    {
     "name": "stderr",
     "output_type": "stream",
     "text": [
      "[Parallel(n_jobs=10)]: Using backend ThreadingBackend with 10 concurrent workers.\n",
      "[Parallel(n_jobs=10)]: Done  30 tasks      | elapsed:    0.0s\n",
      "[Parallel(n_jobs=10)]: Done 180 tasks      | elapsed:    0.5s\n",
      "[Parallel(n_jobs=10)]: Done 430 tasks      | elapsed:    1.2s\n",
      "[Parallel(n_jobs=10)]: Done 780 tasks      | elapsed:    2.2s\n",
      "[Parallel(n_jobs=10)]: Done 1230 tasks      | elapsed:    3.5s\n",
      "[Parallel(n_jobs=10)]: Done 1780 tasks      | elapsed:    5.1s\n"
     ]
    },
    {
     "name": "stdout",
     "output_type": "stream",
     "text": [
      "(2140, 96, 96, 1)\n"
     ]
    },
    {
     "name": "stderr",
     "output_type": "stream",
     "text": [
      "[Parallel(n_jobs=10)]: Done 2140 out of 2140 | elapsed:    6.1s finished\n"
     ]
    }
   ],
   "source": [
    "from joblib import Parallel, delayed\n",
    "# pip install joblib\n",
    "def format_img(x):\n",
    "    return np.asarray([int(e) for e in x.split(' ')], dtype = np.uint8).reshape(96,96)\n",
    "\n",
    "# 분산처리 작업\n",
    "with Parallel(n_jobs=10, verbose=1, prefer ='threads') as ex:\n",
    "    # Image column을 분리해서 list로 만들고 np.array로 바꿈\n",
    "    x = ex(delayed(format_img)(e) for e in df.Image)\n",
    "x = np.stack(x)[:,:,:,None]\n",
    "print(x.shape)"
   ]
  },
  {
   "cell_type": "code",
   "execution_count": 70,
   "metadata": {},
   "outputs": [
    {
     "data": {
      "text/plain": [
       "(2140, 30)"
      ]
     },
     "execution_count": 70,
     "metadata": {},
     "output_type": "execute_result"
    }
   ],
   "source": [
    "y = df.iloc[:, :-1].values\n",
    "y.shape"
   ]
  },
  {
   "cell_type": "markdown",
   "metadata": {},
   "source": [
    "### np.split\n",
    "- 배열을 여러개의 하위배열로 분리\n",
    "- np.split(, axis =0)이면 행으로 분리 vsplit으로 생각\n",
    "- np.split(, axis =1)이면 열로 분리 hsplit으로 생각\n",
    "- np.vsplit : 수직 축으로 배열 분할  \n",
    "https://rfriend.tistory.com/359"
   ]
  },
  {
   "cell_type": "code",
   "execution_count": 95,
   "metadata": {},
   "outputs": [
    {
     "data": {
      "text/plain": [
       "(2, 15)"
      ]
     },
     "execution_count": 95,
     "metadata": {},
     "output_type": "execute_result"
    }
   ],
   "source": [
    "np.stack(np.split(y[0], 15, axis = 0), axis = 0).T"
   ]
  },
  {
   "cell_type": "code",
   "execution_count": 113,
   "metadata": {},
   "outputs": [
    {
     "data": {
      "image/png": "[encoded data removed]",
      "text/plain": [
       "<Figure size 432x288 with 1 Axes>"
      ]
     },
     "metadata": {
      "needs_background": "light"
     },
     "output_type": "display_data"
    }
   ],
   "source": [
    "def show(x, y=None):\n",
    "    plt.imshow(x[:,:,0], 'gray')\n",
    "    if y is not None:\n",
    "        # vertical stack \n",
    "        points = np.stack(np.split(y, 15, axis = 0),axis =0).T\n",
    "        plt.plot(points[0], points[1],'o', color = 'red')\n",
    "    plt.axis('off')\n",
    "sample_idx = np.random.choice(len(x))\n",
    "show(x[sample_idx], y[sample_idx])"
   ]
  },
  {
   "cell_type": "markdown",
   "metadata": {},
   "source": [
    "### train_test_split\n",
    "- 교차검증을 위한 다양한 명령 제공\n",
    "https://datascienceschool.net/view-notebook/266d699d748847b3a3aa7b9805b846ae/"
   ]
  },
  {
   "cell_type": "code",
   "execution_count": 129,
   "metadata": {},
   "outputs": [
    {
     "name": "stdout",
     "output_type": "stream",
     "text": [
      "x_train.shape :(1712, 96, 96, 1)\n",
      "x_val.shape : (428, 96, 96, 1)\n",
      "y_train.shape :(1712, 30)\n",
      "y_val.shape : (428, 30)\n"
     ]
    }
   ],
   "source": [
    "\n",
    "from sklearn.model_selection import train_test_split\n",
    "\n",
    "# random_state는 난수시드\n",
    "x_train, x_val, y_train, y_val = train_test_split(x,y,test_size = 0.2, random_state = 42)\n",
    "print(\"x_train.shape :{}\\nx_val.shape : {}\".format(x_train.shape, x_val.shape))\n",
    "print(\"y_train.shape :{}\\ny_val.shape : {}\".format(y_train.shape, y_val.shape))"
   ]
  },
  {
   "cell_type": "code",
   "execution_count": 137,
   "metadata": {},
   "outputs": [
    {
     "name": "stdout",
     "output_type": "stream",
     "text": [
      "x_train_norm.shape : (1712, 9216)\n",
      "x_val_norm,.shape : (428, 9216)\n"
     ]
    },
    {
     "name": "stderr",
     "output_type": "stream",
     "text": [
      "C:\\ProgramData\\Anaconda3\\envs\\gpu_env\\lib\\site-packages\\sklearn\\utils\\validation.py:595: DataConversionWarning: Data with input dtype uint8 was converted to float64 by MinMaxScaler.\n",
      "  warnings.warn(msg, DataConversionWarning)\n",
      "C:\\ProgramData\\Anaconda3\\envs\\gpu_env\\lib\\site-packages\\sklearn\\utils\\validation.py:595: DataConversionWarning: Data with input dtype uint8 was converted to float64 by MinMaxScaler.\n",
      "  warnings.warn(msg, DataConversionWarning)\n"
     ]
    },
    {
     "name": "stdout",
     "output_type": "stream",
     "text": [
      "x_train_norm.mean : 0.4752519194072296\n",
      "x_train_norm.std : 0.23269733883088617\n"
     ]
    }
   ],
   "source": [
    "from sklearn.preprocessing import MinMaxScaler\n",
    "\n",
    "scaler = MinMaxScaler()\n",
    "# 데이터 정규화\n",
    "x_train_norm = x_train[:,:,:,:]\n",
    "x_val_norm = x_val[:,:,:,:]\n",
    "x_train_norm = x_train_norm.reshape([-1, 96*96])\n",
    "x_val_norm = x_val_norm.reshape([-1,96*96])\n",
    "print(\"x_train_norm.shape : {}\".format(x_train_norm.shape))\n",
    "print(\"x_val_norm,.shape : {}\".format(x_val_norm.shape))\n",
    "\n",
    "x_train_norm = scaler.fit_transform(x_train_norm)\n",
    "x_val_norm = scaler.fit_transform(x_val_norm)\n",
    "print(\"x_train_norm.mean : {}\".format(x_train_norm.mean()))\n",
    "print(\"x_train_norm.std : {}\".format(x_train_norm.std()))\n"
   ]
  },
  {
   "cell_type": "code",
   "execution_count": 138,
   "metadata": {},
   "outputs": [
    {
     "name": "stdout",
     "output_type": "stream",
     "text": [
      "x_train_norm.shape : (1712, 96, 96, 1)\n",
      "x_val_norm,.shape : (428, 96, 96, 1)\n"
     ]
    }
   ],
   "source": [
    "x_train_norm = x_train_norm.reshape([-1,96,96,1])\n",
    "x_val_norm = x_val_norm.reshape([-1,96,96,1])\n",
    "print(\"x_train_norm.shape : {}\".format(x_train_norm.shape))\n",
    "print(\"x_val_norm,.shape : {}\".format(x_val_norm.shape))\n"
   ]
  },
  {
   "cell_type": "markdown",
   "metadata": {},
   "source": [
    "### keras model\n",
    "- pip install Keras\n",
    "- Sequential model\n",
    "    - Conv2D\n",
    "    - AvgPool2D\n",
    "    - BatchNormalization\n",
    "    - Flatten\n",
    "    - Dropout\n",
    "    - Dense\n",
    "- model.compile\n",
    "    - Adam, mse, "
   ]
  },
  {
   "cell_type": "markdown",
   "metadata": {},
   "source": [
    "### L1, L2정규화 / 배치정규화\n",
    "- L1 정규화\n",
    "    - 모델 가중치의 L1 norm(가중치의 각 요소 절대값의 합)에 대해 패널티를 부과\n",
    "        - 불필요한 피처에 대응하는 가중치들을 0으로 만듬\n",
    "        - 변수 선택효과\n",
    "        - L2 정규화와 대조\n",
    "- L2 정규화\n",
    "    - 모델 가중치의 L2 norm(가중치 각 요소 제곱의 합)에 대해 패널티를 부과\n",
    "        - 아주 큰 값이나 작은 값을 가지는 outlier 모델 가중치에 대해 0에 가깝지만 0은 아닌 값으로 만듬\n",
    "        - L1 정규화와 대조\n",
    "\n",
    "https://ratsgo.github.io/machine%20learning/2017/10/12/terms/ \n",
    "\n",
    "https://datascienceschool.net/view-notebook/f18248a467e94c6483783afc93d08af9/"
   ]
  },
  {
   "cell_type": "code",
   "execution_count": 142,
   "metadata": {},
   "outputs": [],
   "source": [
    "from keras.models import Sequential\n",
    "from keras.layers import Dense, Conv2D, Flatten, AvgPool2D, BatchNormalization, Dropout\n",
    "from keras.optimizers import Adam\n",
    "from keras import regularizers\n",
    "\n",
    "model = Sequential()\n",
    "# 첫번째 layer는 input_shape을 줘야함\n",
    "# filter, kernel size, activation, initializers(he_normal은 정규분포로 부터 표본)\n",
    "model.add(Conv2D(16, (3,3), input_shape = (96,96,1), activation ='relu', kernel_initializer='he_normal' ))\n",
    "\n"
   ]
  }
 ],
 "metadata": {
  "kernelspec": {
   "display_name": "[GPU_ENV]",
   "language": "python",
   "name": "gpu_env"
  },
  "language_info": {
   "codemirror_mode": {
    "name": "ipython",
    "version": 3
   },
   "file_extension": ".py",
   "mimetype": "text/x-python",
   "name": "python",
   "nbconvert_exporter": "python",
   "pygments_lexer": "ipython3",
   "version": "3.6.8"
  },
  "toc": {
   "base_numbering": 1,
   "nav_menu": {},
   "number_sections": true,
   "sideBar": true,
   "skip_h1_title": false,
   "title_cell": "Table of Contents",
   "title_sidebar": "Contents",
   "toc_cell": false,
   "toc_position": {},
   "toc_section_display": true,
   "toc_window_display": false
  }
 },
 "nbformat": 4,
 "nbformat_minor": 2
}
