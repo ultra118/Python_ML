{
 "cells": [
  {
   "cell_type": "code",
   "execution_count": 1,
   "metadata": {},
   "outputs": [
    {
     "name": "stderr",
     "output_type": "stream",
     "text": [
      "Using TensorFlow backend.\n"
     ]
    },
    {
     "name": "stdout",
     "output_type": "stream",
     "text": [
      "Train on 1712 samples, validate on 428 samples\n",
      "Epoch 1/2\n",
      "1712/1712 [==============================] - 52s 30ms/step - loss: 511.6017 - mean_absolute_error: 11.3629 - val_loss: 151.9954 - val_mean_absolute_error: 4.2489\n",
      "Epoch 2/2\n",
      "1712/1712 [==============================] - 49s 29ms/step - loss: 107.6215 - mean_absolute_error: 3.9155 - val_loss: 82.3705 - val_mean_absolute_error: 4.5502\n"
     ]
    }
   ],
   "source": [
    "from keras.models import Sequential\n",
    "from keras.layers import Dense, Conv2D, Flatten, AvgPool2D, BatchNormalization, Dropout, Activation, MaxPool2D\n",
    "from keras.optimizers import Adam\n",
    "from keras import regularizers\n",
    "import numpy as np\n",
    "from keras.models import load_model\n",
    "from keras.callbacks import CSVLogger\n",
    "\n",
    "xy_savez_load = np.load('../data/facial/xy_tdata.npz')\n",
    "\n",
    "model = Sequential()\n",
    "# 첫번째 layer는 input_shape을 줘야함\n",
    "# filter, kernel size, activation, initializers(he_normal은 정규분포로 부터 표본)\n",
    "model.add(Conv2D(72, (4,4), input_shape = (96,96,1), use_bias = False, kernel_initializer='he_normal', kernel_regularizer = regularizers.l2(0.01)))\n",
    "model.add(BatchNormalization(axis = -1))\n",
    "model.add(Activation('relu'))\n",
    "model.add(AvgPool2D(pool_size=(2,2)))\n",
    "model.add(Conv2D(48, (2,2), use_bias = False,  kernel_initializer='he_normal', kernel_regularizer = regularizers.l2(0.01)))\n",
    "model.add(BatchNormalization(axis = -1))\n",
    "model.add(Activation('relu'))\n",
    "model.add(Flatten())\n",
    "model.add(Dropout(0.5))\n",
    "model.add(Dense(48, kernel_initializer = 'he_normal', use_bias = True, bias_initializer = 'he_normal', kernel_regularizer = regularizers.l2(0.01)))\n",
    "model.add(BatchNormalization(axis = -1))\n",
    "model.add(Activation('relu'))\n",
    "model.add(Dense(30, kernel_initializer = 'he_normal', use_bias = True, bias_initializer = 'he_normal', kernel_regularizer = regularizers.l2(0.01)))\n",
    "# mae(Mean Absolute Error)\n",
    "model.compile(optimizer = Adam(0.01), loss='mse', metrics=['mae'])\n",
    "\n",
    "csv_logger = CSVLogger('model1.log', separator=',', append=True)\n",
    "log = model.fit(xy_savez_load['xtn'], xy_savez_load['yt'], epochs = 100, batch_size = 5, validation_data= [xy_savez_load['xvn'],xy_savez_load['yv']], callbacks = [csv_logger])\n",
    "\n",
    "\n",
    "model.save('model1.h5')\n",
    "# model = load_model('model1_h5')\n",
    "#keras.callbacks.CSVLogger('model1log.csv', separator=',', append=False)\n",
    "# csv_logger = CSVLogger('training.log')\n",
    "# model.fit(X_train, Y_train, callbacks=[csv_logger])"
   ]
  },
  {
   "cell_type": "code",
   "execution_count": 3,
   "metadata": {},
   "outputs": [
    {
     "data": {
      "text/plain": [
       "<keras.callbacks.History at 0xfce39b0>"
      ]
     },
     "execution_count": 3,
     "metadata": {},
     "output_type": "execute_result"
    }
   ],
   "source": [
    "log"
   ]
  }
 ],
 "metadata": {
  "kernelspec": {
   "display_name": "[GPU_ENV]",
   "language": "python",
   "name": "gpu_env"
  },
  "language_info": {
   "codemirror_mode": {
    "name": "ipython",
    "version": 3
   },
   "file_extension": ".py",
   "mimetype": "text/x-python",
   "name": "python",
   "nbconvert_exporter": "python",
   "pygments_lexer": "ipython3",
   "version": "3.6.8"
  },
  "toc": {
   "base_numbering": 1,
   "nav_menu": {},
   "number_sections": true,
   "sideBar": true,
   "skip_h1_title": false,
   "title_cell": "Table of Contents",
   "title_sidebar": "Contents",
   "toc_cell": false,
   "toc_position": {},
   "toc_section_display": true,
   "toc_window_display": false
  }
 },
 "nbformat": 4,
 "nbformat_minor": 2
}
