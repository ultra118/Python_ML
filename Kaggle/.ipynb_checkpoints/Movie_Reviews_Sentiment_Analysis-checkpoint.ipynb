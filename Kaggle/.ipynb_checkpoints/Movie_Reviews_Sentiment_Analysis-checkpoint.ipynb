{
 "cells": [
  {
   "cell_type": "markdown",
   "metadata": {},
   "source": [
    "[Bag of Words Meets Bags of Popcorn](https://www.kaggle.com/c/word2vec-nlp-tutorial)"
   ]
  },
  {
   "cell_type": "markdown",
   "metadata": {},
   "source": [
    ".csv파일로 제출\n",
    "id와 sentiment(0,1)\n",
    "\n",
    "### word2vec(- [word2vec](https://ratsgo.github.io/from%20frequency%20to%20semantics/2017/03/30/word2vec/))\n",
    "- 계층적 softmax와 같은 특정 알고리즘을 구현\n",
    "- 벡터 공간에서 단어 표현을 효율\n",
    "- \n",
    "\n",
    "### part1 Bag Of Words\n",
    "- NLP\n",
    "\n",
    "### part2 Word Vectors\n",
    "\n",
    "### part3 More Fun With Word Vectors"
   ]
  },
  {
   "cell_type": "code",
   "execution_count": null,
   "metadata": {},
   "outputs": [],
   "source": [
    "import tensorflow as tf\n",
    "import "
   ]
  }
 ],
 "metadata": {
  "kernelspec": {
   "display_name": "data_env",
   "language": "python",
   "name": "data_env"
  },
  "language_info": {
   "codemirror_mode": {
    "name": "ipython",
    "version": 3
   },
   "file_extension": ".py",
   "mimetype": "text/x-python",
   "name": "python",
   "nbconvert_exporter": "python",
   "pygments_lexer": "ipython3",
   "version": "3.6.6"
  }
 },
 "nbformat": 4,
 "nbformat_minor": 2
}
