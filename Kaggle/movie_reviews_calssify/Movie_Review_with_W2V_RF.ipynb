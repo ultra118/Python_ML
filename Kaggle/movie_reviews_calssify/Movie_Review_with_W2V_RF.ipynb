{
 "cells": [
  {
   "attachments": {},
   "cell_type": "markdown",
   "metadata": {},
   "source": [
    "#### 참조\n",
    "- [NNLM](https://shuuki4.wordpress.com/2016/01/27/word2vec-%EA%B4%80%EB%A0%A8-%EC%9D%B4%EB%A1%A0-%EC%A0%95%EB%A6%AC/)\n",
    "- [NNLM](https://brunch.co.kr/@goodvc78/16)\n",
    "- [NNLM](https://lazyer.tistory.com/9)\n",
    "\n",
    "## Word2Vec\n",
    "- 단어를 벡터화 하는 방법 중의 하나\n",
    "- NNLM => RNNLM => CBOW & Skip-gram\n",
    "- 단어의 벡터화를 학습하는 과정에서 가장 중요한 가정\n",
    "    - [Distributional Hpyothesis](https://en.wikipedia.org/wiki/Distributional_semantics#Distributional_Hypothesis)\n",
    "        - 언어 데이터의 대형 샘플에서 분포 속성을 기반으로 언어 항목 간의 의미론적 유사성을 정량화하고 분류하는 이론 및 방법\n",
    "        - 동일한 맥락에서 사용되는 단어가 비슷한 의미를 갖는 경향이 있다는 의미론적 이론으로부터 유도됨\n",
    "\n",
    "<img src = https://user-images.githubusercontent.com/28910538/54747058-2925aa00-4c11-11e9-9892-e50aacd33bf3.png width = 70% hegith = 70% >\n",
    "\n",
    "### 1)NNLM \n",
    "\n",
    "#### 단어를 숫자로 바꾸기 위해 one-hot-vector\n",
    "- 단어수가 많으면 차원수가 너무 커짐\n",
    "- 두 단어의 내적이 0이 됨\n",
    "    - 즉, 두 벡터가 직교한다는 의미 => one-hot-vector는 서로 독립\n",
    "\n",
    "#### 이러한 문제 해결하기 위해 분산표상(distributed representations) 등장\n",
    "- 분산표상이 추구하는 건 듬성듬성한 벡터를 빽빽한 벡터로 바꿔 표현한 것\n",
    "    - 데이터의 차원수를 줄이려는 것이 1차적 목적\n",
    "    - 유사한 단어는 벡터공간에서 가깝게, 반대의 경우는 멀게 배치\n",
    "    \n",
    "#### NNLM 개요\n",
    "- 직전까지 등장한 n-1개 단어들로 n번째 단어를 맞추는 N-gram 모델\n",
    "<img src = https://user-images.githubusercontent.com/28910538/54750523-50817480-4c1b-11e9-89f7-f0c6b21a34b5.png>\n",
    "- 이 값을 최대화 시키는 쪽으로 weight update,, 분자를 크게 분모를 작게\n",
    "\n",
    "\n",
    "- 단어들을 N개의 one-hot encoding으로 벡터화하고\n",
    "- 사전의 크기를 V, Projection Layer의 크기를 P라 할 때\n",
    "- 각각의 벡터들은 V * P크기의 Projection Matrix에 의해 다음 레이어로 넘어가게 됨\n",
    "\n",
    "#### 즉,  V차원의 단어벡터들을 P차원으로 바꿔줌\n",
    "- 그리고 그 뒤는 기존의 NN와 유사(hidden layer 거치고 output layer), 각 단어들이 나올 확률 계산해서 weight 최적화\n",
    "\n",
    "\n",
    "\n",
    "![image](https://user-images.githubusercontent.com/28910538/54740380-91b75b80-4bfe-11e9-9673-f7f2b14df3e7.png)\n",
    "<img src = https://user-images.githubusercontent.com/28910538/54751565-b02d4f00-4c1e-11e9-997a-8dfb64f70da7.png width = 50% hegith = 50%>\n",
    "\n"
   ]
  },
  {
   "cell_type": "code",
   "execution_count": 1,
   "metadata": {},
   "outputs": [],
   "source": [
    "# gensim 설치\n",
    "# pip install gensim\n",
    "from gensim.models.word2vec import Word2Vec"
   ]
  },
  {
   "cell_type": "code",
   "execution_count": null,
   "metadata": {},
   "outputs": [],
   "source": []
  },
  {
   "cell_type": "code",
   "execution_count": null,
   "metadata": {},
   "outputs": [],
   "source": []
  },
  {
   "cell_type": "code",
   "execution_count": null,
   "metadata": {},
   "outputs": [],
   "source": []
  }
 ],
 "metadata": {
  "kernelspec": {
   "display_name": "[GPU_ENV]",
   "language": "python",
   "name": "gpu_env"
  },
  "language_info": {
   "codemirror_mode": {
    "name": "ipython",
    "version": 3
   },
   "file_extension": ".py",
   "mimetype": "text/x-python",
   "name": "python",
   "nbconvert_exporter": "python",
   "pygments_lexer": "ipython3",
   "version": "3.6.8"
  }
 },
 "nbformat": 4,
 "nbformat_minor": 2
}
