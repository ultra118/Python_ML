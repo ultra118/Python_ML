{
 "cells": [
  {
   "cell_type": "markdown",
   "metadata": {},
   "source": [
    "<sup>t</sup>\n",
    "<sub>t</sub>"
   ]
  },
  {
   "cell_type": "markdown",
   "metadata": {
    "heading_collapsed": true
   },
   "source": [
    "### Word2Vec\n"
   ]
  },
  {
   "cell_type": "markdown",
   "metadata": {
    "hidden": true
   },
   "source": [
    "- 단어를 벡터화 하는 방법 중의 하나\n",
    "- NNLM => RNNLM => CBOW & Skip-gram\n",
    "- 단어의 벡터화를 학습하는 과정에서 가장 중요한 가정\n",
    "    - [Distributional Hpyothesis](https://en.wikipedia.org/wiki/Distributional_semantics#Distributional_Hypothesis)\n",
    "        - 언어 데이터의 대형 샘플에서 분포 속성을 기반으로 언어 항목 간의 의미론적 유사성을 정량화하고 분류하는 이론 및 방법\n",
    "        - 동일한 맥락에서 사용되는 단어가 비슷한 의미를 갖는 경향이 있다는 의미론적 이론으로부터 유도됨\n",
    "\n",
    "<img src = https://user-images.githubusercontent.com/28910538/54747058-2925aa00-4c11-11e9-9892-e50aacd33bf3.png width = 70% hegith = 70% >\n"
   ]
  },
  {
   "cell_type": "markdown",
   "metadata": {},
   "source": [
    "### 1)NNLM(Neural Network Language Model)\n",
    "#### 참조 : [NNLM](https://ratsgo.github.io/from%20frequency%20to%20semantics/2017/03/29/NNLM/), [NNLM](https://shuuki4.wordpress.com/2016/01/27/word2vec-%EA%B4%80%EB%A0%A8-%EC%9D%B4%EB%A1%A0-%EC%A0%95%EB%A6%AC/), [NNLM](https://brunch.co.kr/@goodvc78/16), [NNLM](https://lazyer.tistory.com/9), [NNLM](https://www.researchgate.net/figure/Architecture-of-the-continuous-space-NN-LM-The-input-words-are-w-i-n-1-w-i-1_fig1_221417189)"
   ]
  },
  {
   "cell_type": "markdown",
   "metadata": {},
   "source": [
    "\n",
    "#### 단어를 숫자로 바꾸기 위해 one-hot-vector\n",
    "- 단어수가 많으면 차원수가 너무 커짐\n",
    "- 두 단어의 내적이 0이 됨\n",
    "    - 즉, 두 벡터가 직교한다는 의미 => one-hot-vector는 서로 독립\n",
    "\n",
    "#### 이러한 문제 해결하기 위해 분산표상(distributed representations) 등장\n",
    "- 분산표상이 추구하는 건 듬성듬성한 벡터를 빽빽한 벡터로 바꿔 표현한 것\n",
    "    - 데이터의 차원수를 줄이려는 것이 1차적 목적\n",
    "    - 유사한 단어는 벡터공간에서 가깝게, 반대의 경우는 멀게 배치\n",
    "    \n",
    "#### NNLM 개요\n",
    "- 직전까지 등장한 n-1개 단어들로 n번째 단어를 맞추는 N-gram 모델\n",
    "<img src = https://user-images.githubusercontent.com/28910538/54750523-50817480-4c1b-11e9-89f7-f0c6b21a34b5.png>\n",
    "- 이 값을 최대화 시키는 쪽으로 weight update,, 분자를 크게 분모를 작게\n",
    "- 단어들을 N개의 one-hot encoding으로 벡터화함\n",
    "    - 여기서 단어들은 직전까지 등장한 n-1개의 단어들을 말함\n",
    "\n",
    "#####  input\n",
    "<img src= https://user-images.githubusercontent.com/28910538/54796668-76972b00-4c94-11e9-8326-9d901d2df392.png>\n",
    "\n",
    "- C는 m * |V| 크기를 갖는 매트릭스 (모든 요소는 초기에 랜덤 설정)\n",
    "- w<sub>t</sub>는 t번째 단어에 대한 One-hot-Vector\n",
    "- C와 w<sub>t</sub>의 내적은 C라는 행렬에서 t번째 열만 참조(lookup)하는 것과 본질적으로 같음\n",
    "        \n",
    "##### output\n",
    "![image](https://user-images.githubusercontent.com/28910538/54797055-fa9de280-4c95-11e9-8e3d-e1497f8847f2.png)\n",
    "\n",
    "- y<sub>wt</sub>는 w<sub>t</sub>라는 단어에 해당하는 score vector(전체 합 1인)임\n",
    "    - 그 크기는 말뭉치 전체의 단어수(V)차원\n",
    "- 확률값이 가장 높은 요소의 인덱스에 해당하는 단어가 실제 정답 단어와 일치하도록 학습 진행\n",
    "- 정답 인덱스에 해당하는 스코어(분자)를 높이고, 나머지 인덱스에 해당하는 스코어(분모)는 낮춤\n",
    "\n",
    "- 단어사전의 크기를 V, Projection Layer의 크기를 P라 할 때\n",
    "- 각각의 벡터들은 V * P크기의 Projection Matrix에 의해 다음 레이어로 넘어가게 됨\n",
    "\n",
    "#### 즉,  문장에대해서 n-gram으로 나누고,  \n",
    "#### 각 gram n-1개를 통해 n번째(추측하고 싶은)를 예측하고 원래 나와야할 단어와의 오차율을  \n",
    "#### 조건부확률을 통해 구해 weight를 수정하도록 함,   \n",
    "#### 그런데 여기서 각 gram를 그대로 input data로 사용하는게 아닌,  \n",
    "#### m x |V|크기를 갖는 매트릭스 C를 통해 차원을 축소(Projection Layer에 해당)를   해서 input으로 넣어주도록 함\n",
    "- 그리고 그 뒤는 기존의 NN와 유사(hidden layer 거치고 output layer), 각 단어들이 나올 확률 계산해서 weight 최적화\n",
    "<img src = https://user-images.githubusercontent.com/28910538/54740380-91b75b80-4bfe-11e9-9673-f7f2b14df3e7.png align = \"left\" width = 60% height = 60%>\n",
    "\n",
    "<img src = https://user-images.githubusercontent.com/28910538/54751565-b02d4f00-4c1e-11e9-997a-8dfb64f70da7.png width = 60% hegith = 60% align = \"left\">\n",
    "\n",
    "### 단점\n",
    "- 계산복잡도가 크다\n",
    "    - Projection : NxP\n",
    "    - Hidden Layer : NxPxH\n",
    "    - Output Layer : HxV"
   ]
  },
  {
   "cell_type": "markdown",
   "metadata": {
    "heading_collapsed": true
   },
   "source": [
    "### RecursivedNerualNetwork\n",
    "#### 참조 : [RecursiveNeural Network](https://ratsgo.github.io/deep%20learning/2017/04/03/recursive/)\n"
   ]
  },
  {
   "cell_type": "markdown",
   "metadata": {
    "hidden": true
   },
   "source": [
    "\n",
    "#### recurent\n",
    "- 입력값을 순서대로 받아 하나씩 순차적으로 처리\n",
    "- 마지막 히든 노드 이전까지 모든 맥락과 함께 현재 입력값 정보가 모두 반영\n",
    "![image](https://user-images.githubusercontent.com/28910538/54802709-c7684d00-4caf-11e9-84e0-a835349276ca.png)\n",
    "\n",
    "#### convolutional\n",
    "- 필터가 단어 두개씩 읽어들여서 convolution\n",
    "![image](https://user-images.githubusercontent.com/28910538/54802718-d5b66900-4caf-11e9-94e5-98671885b0aa.png)\n",
    "\n",
    "#### recursive\n",
    "- CNN이 모든 지역정보를 생략없이 반영하는데 비해, Recursive Neural Network는 일부 정보는 스킵 \n",
    "![image](https://user-images.githubusercontent.com/28910538/54802726-e4048500-4caf-11e9-89cf-5b450c78294f.png)\n",
    "\n",
    "Recursive(재귀) Nerual Network는 Recurrent(반복) NN 이나 Convolution NN과는 달리 트리 구조의 입력값을 반드시 필요로 함\n",
    "이런 구조의 데이터를 생성하려면 복잡\n",
    "![image](https://user-images.githubusercontent.com/28910538/54802463-be2ab080-4cae-11e9-86a0-38b09c5c1490.png)\n"
   ]
  },
  {
   "cell_type": "markdown",
   "metadata": {},
   "source": [
    "### * RNN(Recurrent Neural Network) 이란"
   ]
  },
  {
   "cell_type": "markdown",
   "metadata": {},
   "source": [
    "- 시퀸스 길이에 관계없이 input과 ouput을 받아들일 수 있는 네트워크 구조\n",
    "![image](https://user-images.githubusercontent.com/28910538/54804899-84f73e00-4cb8-11e9-99da-283e0b5ca405.png)\n",
    "- RNN이 학습하는 parameter\n",
    "    - W<sub>xh</sub> : input에서 hidden 가는 weight\n",
    "    - W<sub>hh</sub> : 이전 hidden에서 다음 hideen 가는 weight\n",
    "    - W<sub>hy</sub> : hideen에서 output가는 weight\n",
    "- 모든 시점의 state에서 이 parameter는 동일하게 적용(shared weights)"
   ]
  },
  {
   "cell_type": "markdown",
   "metadata": {},
   "source": [
    "### 2) RNNLM(Recurrent Neural Network Language Model)\n",
    "- 기본적으로 NNLM을 Recurrent Nerual Network의 형태로 변형 한 것\n",
    "- 기본적으로 Projection Layer 없이 Input, Hidden, Output Layer로만 구성되는 대신, Hidden Layer에 Recurrent한 연결이 있어 이전 시간의 Hidden Layer의 입력이 다시 입력되는 형식으로 구성되어 있음"
   ]
  },
  {
   "cell_type": "code",
   "execution_count": 1,
   "metadata": {},
   "outputs": [],
   "source": [
    "# gensim 설치\n",
    "# pip install gensim\n",
    "from gensim.models.word2vec import Word2Vec"
   ]
  },
  {
   "cell_type": "code",
   "execution_count": null,
   "metadata": {},
   "outputs": [],
   "source": []
  },
  {
   "cell_type": "code",
   "execution_count": null,
   "metadata": {},
   "outputs": [],
   "source": []
  },
  {
   "cell_type": "code",
   "execution_count": null,
   "metadata": {},
   "outputs": [],
   "source": []
  }
 ],
 "metadata": {
  "kernelspec": {
   "display_name": "[GPU_ENV]",
   "language": "python",
   "name": "gpu_env"
  },
  "language_info": {
   "codemirror_mode": {
    "name": "ipython",
    "version": 3
   },
   "file_extension": ".py",
   "mimetype": "text/x-python",
   "name": "python",
   "nbconvert_exporter": "python",
   "pygments_lexer": "ipython3",
   "version": "3.6.8"
  }
 },
 "nbformat": 4,
 "nbformat_minor": 2
}
