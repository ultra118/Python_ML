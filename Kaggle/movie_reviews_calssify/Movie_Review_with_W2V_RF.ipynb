{
 "cells": [
  {
   "cell_type": "markdown",
   "metadata": {},
   "source": [
    "<sup>t</sup>\n",
    "<sub>t</sub>"
   ]
  },
  {
   "cell_type": "markdown",
   "metadata": {
    "heading_collapsed": true
   },
   "source": [
    "### Word2Vec\n"
   ]
  },
  {
   "cell_type": "markdown",
   "metadata": {
    "hidden": true
   },
   "source": [
    "- 단어를 벡터화 하는 방법 중의 하나\n",
    "- NNLM => RNNLM => CBOW & Skip-gram\n",
    "- 단어의 벡터화를 학습하는 과정에서 가장 중요한 가정\n",
    "    - [Distributional Hpyothesis](https://en.wikipedia.org/wiki/Distributional_semantics#Distributional_Hypothesis)\n",
    "        - 언어 데이터의 대형 샘플에서 분포 속성을 기반으로 언어 항목 간의 의미론적 유사성을 정량화하고 분류하는 이론 및 방법\n",
    "        - 동일한 맥락에서 사용되는 단어가 비슷한 의미를 갖는 경향이 있다는 의미론적 이론으로부터 유도됨\n",
    "\n",
    "<img src = https://user-images.githubusercontent.com/28910538/54747058-2925aa00-4c11-11e9-9892-e50aacd33bf3.png width = 70% hegith = 70% >\n"
   ]
  },
  {
   "cell_type": "markdown",
   "metadata": {
    "heading_collapsed": true
   },
   "source": [
    "### 1)NNLM(Neural Network Language Model)\n",
    "#### 참조 : [NNLM](https://ratsgo.github.io/from%20frequency%20to%20semantics/2017/03/29/NNLM/), [NNLM](https://shuuki4.wordpress.com/2016/01/27/word2vec-%EA%B4%80%EB%A0%A8-%EC%9D%B4%EB%A1%A0-%EC%A0%95%EB%A6%AC/), [NNLM](https://brunch.co.kr/@goodvc78/16), [NNLM](https://lazyer.tistory.com/9), [NNLM](https://www.researchgate.net/figure/Architecture-of-the-continuous-space-NN-LM-The-input-words-are-w-i-n-1-w-i-1_fig1_221417189)"
   ]
  },
  {
   "cell_type": "markdown",
   "metadata": {
    "hidden": true
   },
   "source": [
    "\n",
    "#### 단어를 숫자로 바꾸기 위해 one-hot-vector\n",
    "- 단어수가 많으면 차원수가 너무 커짐\n",
    "- 두 단어의 내적이 0이 됨\n",
    "    - 즉, 두 벡터가 직교한다는 의미 => one-hot-vector는 서로 독립\n",
    "\n",
    "#### 이러한 문제 해결하기 위해 분산표상(distributed representations) 등장\n",
    "- 분산표상이 추구하는 건 듬성듬성한 벡터를 빽빽한 벡터로 바꿔 표현한 것\n",
    "    - 데이터의 차원수를 줄이려는 것이 1차적 목적\n",
    "    - 유사한 단어는 벡터공간에서 가깝게, 반대의 경우는 멀게 배치\n",
    "    \n",
    "#### NNLM 개요\n",
    "- 직전까지 등장한 n-1개 단어들로 n번째 단어를 맞추는 N-gram 모델\n",
    "<img src = https://user-images.githubusercontent.com/28910538/54750523-50817480-4c1b-11e9-89f7-f0c6b21a34b5.png>\n",
    "- 이 값을 최대화 시키는 쪽으로 weight update,, 분자를 크게 분모를 작게\n",
    "- 단어들을 N개의 one-hot encoding으로 벡터화함\n",
    "    - 여기서 단어들은 직전까지 등장한 n-1개의 단어들을 말함\n",
    "\n",
    "#####  input\n",
    "<img src= https://user-images.githubusercontent.com/28910538/54796668-76972b00-4c94-11e9-8326-9d901d2df392.png>\n",
    "\n",
    "- C는 m * |V| 크기를 갖는 매트릭스 (모든 요소는 초기에 랜덤 설정)\n",
    "- w<sub>t</sub>는 t번째 단어에 대한 One-hot-Vector\n",
    "- C와 w<sub>t</sub>의 내적은 C라는 행렬에서 t번째 열만 참조(lookup)하는 것과 본질적으로 같음\n",
    "        \n",
    "##### output\n",
    "![image](https://user-images.githubusercontent.com/28910538/54797055-fa9de280-4c95-11e9-8e3d-e1497f8847f2.png)\n",
    "\n",
    "- y<sub>wt</sub>는 w<sub>t</sub>라는 단어에 해당하는 score vector(전체 합 1인)임\n",
    "    - 그 크기는 말뭉치 전체의 단어수(V)차원\n",
    "- 확률값이 가장 높은 요소의 인덱스에 해당하는 단어가 실제 정답 단어와 일치하도록 학습 진행\n",
    "- 정답 인덱스에 해당하는 스코어(분자)를 높이고, 나머지 인덱스에 해당하는 스코어(분모)는 낮춤\n",
    "\n",
    "- 단어사전의 크기를 V, Projection Layer의 크기를 P라 할 때\n",
    "- 각각의 벡터들은 V * P크기의 Projection Matrix에 의해 다음 레이어로 넘어가게 됨\n",
    "\n",
    "#### 즉,  문장에대해서 n-gram으로 나누고,  \n",
    "#### 각 gram n-1개를 통해 n번째(추측하고 싶은)를 예측하고 원래 나와야할 단어와의 오차율을  \n",
    "#### 조건부확률을 통해 구해 weight를 수정하도록 함,   \n",
    "#### 그런데 여기서 각 gram를 그대로 input data로 사용하는게 아닌,  \n",
    "#### m x |V|크기를 갖는 매트릭스 C를 통해 차원을 축소(Projection Layer에 해당)를   해서 input으로 넣어주도록 함\n",
    "- 그리고 그 뒤는 기존의 NN와 유사(hidden layer 거치고 output layer), 각 단어들이 나올 확률 계산해서 weight 최적화\n",
    "<img src = https://user-images.githubusercontent.com/28910538/54740380-91b75b80-4bfe-11e9-9673-f7f2b14df3e7.png align = \"left\" width = 60% height = 60%>\n",
    "\n",
    "<img src = https://user-images.githubusercontent.com/28910538/54751565-b02d4f00-4c1e-11e9-997a-8dfb64f70da7.png width = 60% hegith = 60% align = \"left\">\n",
    "\n",
    "### 단점\n",
    "- 계산복잡도가 크다\n",
    "    - Projection : NxP\n",
    "    - Hidden Layer : NxPxH\n",
    "    - Output Layer : HxV"
   ]
  },
  {
   "cell_type": "markdown",
   "metadata": {
    "heading_collapsed": true
   },
   "source": [
    "### RecursivedNerualNetwork\n",
    "#### 참조 : [RecursiveNeural Network](https://ratsgo.github.io/deep%20learning/2017/04/03/recursive/)\n"
   ]
  },
  {
   "cell_type": "markdown",
   "metadata": {
    "hidden": true
   },
   "source": [
    "\n",
    "#### recurent\n",
    "- 입력값을 순서대로 받아 하나씩 순차적으로 처리\n",
    "- 마지막 히든 노드 이전까지 모든 맥락과 함께 현재 입력값 정보가 모두 반영\n",
    "![image](https://user-images.githubusercontent.com/28910538/54802709-c7684d00-4caf-11e9-84e0-a835349276ca.png)\n",
    "\n",
    "#### convolutional\n",
    "- 필터가 단어 두개씩 읽어들여서 convolution\n",
    "![image](https://user-images.githubusercontent.com/28910538/54802718-d5b66900-4caf-11e9-94e5-98671885b0aa.png)\n",
    "\n",
    "#### recursive\n",
    "- CNN이 모든 지역정보를 생략없이 반영하는데 비해, Recursive Neural Network는 일부 정보는 스킵 \n",
    "![image](https://user-images.githubusercontent.com/28910538/54802726-e4048500-4caf-11e9-89cf-5b450c78294f.png)\n",
    "\n",
    "Recursive(재귀) Nerual Network는 Recurrent(반복) NN 이나 Convolution NN과는 달리 트리 구조의 입력값을 반드시 필요로 함\n",
    "이런 구조의 데이터를 생성하려면 복잡\n",
    "![image](https://user-images.githubusercontent.com/28910538/54802463-be2ab080-4cae-11e9-86a0-38b09c5c1490.png)\n"
   ]
  },
  {
   "cell_type": "markdown",
   "metadata": {},
   "source": [
    "### RNN(Recurrent Neural Network)\n",
    "#### 참조 : [RNN](https://ratsgo.github.io/natural%20language%20processing/2017/03/09/rnnlstm/), [RNN](http://aikorea.org/blog/rnn-tutorial-1/)"
   ]
  },
  {
   "cell_type": "markdown",
   "metadata": {},
   "source": [
    "#### RNN 이란\n",
    "- 기본적인 아이디어는 순차적인 정보를 처리하는데 있음\n",
    "- 기존의 신경망 구조에서는 모든 입력과 출력이 각각 독립적이라고 가정했지만, 많은 경우에 이는 옳지 않음(문장에서 다음에 나올 단어를 추측하고자 할 때 이전에 나온 단어들을 아는 것이 큰 도움)\n",
    "- RNN이 recurrent하다고 불리는 이유는 동일한 태스크를 한 시퀀스의 모든 요소 마다 적용하고, 출력 결과는 이전의 계산 결과에 영향을 받기 때문.\n",
    "![image](https://user-images.githubusercontent.com/28910538/54860941-d4934380-4d64-11e9-977d-7b517d2f179c.png)\n",
    "- s<sub>t</sub> = f(Ux<sub>t</sub> + Ws<sub>t-1</sub>)\n",
    "    - 비선형 함수 f는 주로 tanh나 ReLU 사용\n",
    "    - 첫 hidden state를 계산하기 위한 <sub>s-1</sub>은 보통 0으로 초기화\n",
    "- o<sub>t</sub> = softmax(V<sub>st</sub>)\n",
    "![image](https://user-images.githubusercontent.com/28910538/54862161-da475400-4d79-11e9-94ce-712c29579499.png)\n",
    "    - x<sub>t</sub>가 one-hot 벡터이기 때문에, U와 곱하는 것은 결국 U의 column을 하나 선택하는 것과 마찬가지, 가장 큰 행렬곱은 V<sub>st</sub>가 됨\n",
    "         - 즉, 단어장의 크기를 가능한 줄여야 파라미터 수를 줄일 수 있음\n",
    "- 각 layer마다의 파라미터 값들이 전부 다 다른 기존의 신경망들과는 달리 RNN은 모든 시간 스텝에 대해 파라미터 값을 전부 공유하고 있음\n",
    "    - U, V, W\n",
    "    - 이는 RNN이 각 스텝마다 입력값만 다를 뿐 거의 똑같은 계산을 하고있다는 것을 보여 줌(학습해야하는 파라미터 수를 많이 줄여줌)\n",
    "- hello에 대한 rnn 모델\n",
    "![image](https://user-images.githubusercontent.com/28910538/54804899-84f73e00-4cb8-11e9-99da-283e0b5ca405.png)\n",
    "\n",
    "#### RNN 학습\n",
    "- 네트워크의 각 시간 스텝마다 파라미터들이 공유되기 때문에 펼쳐진 네트워크에서 기존의 backporpagation 알고리즘을 그대로 사용하진 못하고 BPTT(Backpropagation Through Time)사용\n",
    "    - 각 출력 부분에서의 gradient가 현재 시간 스텝에만 의존하지 않고 이전 시간 스텝들에도 의존하기 때문\n",
    "- vanishing/expolding gradient라는 문제 등에 의해 단순한 RNN을 BPTT로 학습시키는 것은 긴 시퀀스를 다루기 어려움 => 해결 위해 다양한 변종(확장된)RNN모델들(LSTM ...) 존재\n",
    "\n",
    "#### 언어 모델링\n",
    "![image](https://user-images.githubusercontent.com/28910538/54861955-5049bc00-4d76-11e9-9fe6-e529bc5d198a.png)\n",
    "- 문장이 나타날 확률은 이전 단어를 알고있을 때 각 단어가 나타날 확률의 곱\n",
    "- 각 단어들의 확률은 이전에 나왔던 모든 단어들에 의존하고 있지만 실제 구현에서는 많은 모델들이 계산량,메모리 문제 등으로 인해 long-term dependecy를 효과적으로 다루지 못해서 긴 시퀀스를 처리하는 것이 힘듬\n",
    "    - 이론적으로는 임의의 길이의 시퀀스를 전부 기억할 수 있지만 실제로는 복잡"
   ]
  },
  {
   "cell_type": "code",
   "execution_count": null,
   "metadata": {},
   "outputs": [],
   "source": [
    "class RNNNumpy:\n",
    "    def __init__ (self, word_dim, hidden_dim = 100, bptt_truncate =4):\n",
    "        self.word_dim = word_dim\n",
    "        self.hidden_dim = hidden_dim\n",
    "        self.bptt_truncate = bptt_truncate\n",
    "        # Random initialize param\n",
    "        self.U = np.random.uniform(-np.sqrt(1./word_dim), np.sqrt(1./word_dim), (hidden_dim, word_dim))\n",
    "        self.V = np.random.uniform(-np.sqrt(1./hidden_dim), np.sqrt(1./hidden_dim), (word_dim, hidden_dim))\n",
    "        self.W = np.random.uniform(-np.sqrt(1./hidden_dim), np.sqrt(1./hidden_dim), (hidden_dim, hidden_dim))\n",
    "        \n",
    "    def forward_porpagation(self, x):\n",
    "        T = len(x)\n",
    "        s = np.zeros((T+1, self.hidden_dim))"
   ]
  },
  {
   "cell_type": "markdown",
   "metadata": {},
   "source": []
  },
  {
   "cell_type": "markdown",
   "metadata": {},
   "source": []
  },
  {
   "cell_type": "markdown",
   "metadata": {},
   "source": [
    "### 2) RNNLM(Recurrent Neural Network Language Model)\n",
    "- 기본적으로 NNLM을 Recurrent Nerual Network의 형태로 변형 한 것\n",
    "- 기본적으로 Projection Layer 없이 Input, Hidden, Output Layer로만 구성되는 대신, Hidden Layer에 Recurrent한 연결이 있어 이전 시간의 Hidden Layer의 입력이 다시 입력되는 형식으로 구성되어 있음"
   ]
  },
  {
   "cell_type": "code",
   "execution_count": 1,
   "metadata": {},
   "outputs": [],
   "source": [
    "# 참조 : https://github.com/golbin/TensorFlow-Tutorials/blob/master/10%20-%20RNN/02%20-%20Autocomplete.py\n",
    "# RNN\n",
    "import tensorflow as tf\n",
    "import numpy as np\n",
    "\n",
    "char_arr = ['a', 'b', 'c', 'd', 'e', 'f', 'g',\n",
    "            'h', 'i', 'j', 'k', 'l', 'm', 'n',\n",
    "            'o', 'p', 'q', 'r', 's', 't', 'u',\n",
    "            'v', 'w', 'x', 'y', 'z']\n",
    "# {'a' : 0 , 'b' : 1 ...}\n",
    "num_dic = {n : i for i,n in enumerate(char_arr)}\n",
    "dic_len = len(num_dic)\n",
    "\n",
    "seq_data = ['word', 'wood', 'deep', 'dive', 'cold', 'cool', 'load', 'love', 'kiss', 'kind']\n",
    "\n",
    "def make_batch(seq_data):\n",
    "    input_batch = []\n",
    "    target_batch = []\n",
    "    \n",
    "    for seq in seq_data:\n",
    "        # 마지막 단어 예측위한 input 단어들\n",
    "        input = [num_dic[n] for n in seq[:-1]]\n",
    "        # 마지막 단어 예측\n",
    "        target = num_dic[seq[-1]]\n",
    "        # np.eyey는 identity matrix를 인자x인자로 만듬\n",
    "        # 단어에대한 one hot array\n",
    "        input_batch.append(np.eye(dic_len)[input])\n",
    "        # sparse_softmax_cross_enropy_wih_logits는 one-hot 인코딩 사용 안함,\n",
    "        # index를 그냥 넘겨줌\n",
    "        target_batch.append(target)\n",
    "    return input_batch, target_batch\n",
    "\n",
    "learning_rate = 0.01\n",
    "n_hidden = 128\n",
    "total_epoch = 5\n",
    "# RNN을 구성하는 시퀀스의 갯수\n",
    "n_step = 3\n",
    "# 알파벳 one-hot 인코딩이므로 26개가 됨\n",
    "n_input = n_class = dic_len\n",
    "\n",
    "X = tf.placeholderl([None, n_step, n_input], tf.float32)\n"
   ]
  },
  {
   "cell_type": "code",
   "execution_count": 22,
   "metadata": {},
   "outputs": [
    {
     "data": {
      "text/plain": [
       "(3, 5)"
      ]
     },
     "execution_count": 22,
     "metadata": {},
     "output_type": "execute_result"
    }
   ],
   "source": [
    "np.eye(5)[[0,1,2]].shape"
   ]
  },
  {
   "cell_type": "code",
   "execution_count": 24,
   "metadata": {},
   "outputs": [
    {
     "data": {
      "text/plain": [
       "(5,)"
      ]
     },
     "execution_count": 24,
     "metadata": {},
     "output_type": "execute_result"
    }
   ],
   "source": [
    "np.eye(5)[3].shape"
   ]
  },
  {
   "cell_type": "code",
   "execution_count": 5,
   "metadata": {},
   "outputs": [
    {
     "data": {
      "text/plain": [
       "'wor'"
      ]
     },
     "execution_count": 5,
     "metadata": {},
     "output_type": "execute_result"
    }
   ],
   "source": [
    "a = 'word'\n",
    "a[:-1]"
   ]
  },
  {
   "cell_type": "code",
   "execution_count": null,
   "metadata": {},
   "outputs": [],
   "source": []
  },
  {
   "cell_type": "code",
   "execution_count": 1,
   "metadata": {
    "code_folding": []
   },
   "outputs": [],
   "source": [
    "# gensim 설치\n",
    "# pip install gensim\n",
    "from gensim.models.word2vec import Word2Vec"
   ]
  },
  {
   "cell_type": "code",
   "execution_count": null,
   "metadata": {},
   "outputs": [],
   "source": []
  },
  {
   "cell_type": "code",
   "execution_count": null,
   "metadata": {},
   "outputs": [],
   "source": []
  },
  {
   "cell_type": "code",
   "execution_count": null,
   "metadata": {},
   "outputs": [],
   "source": []
  }
 ],
 "metadata": {
  "kernelspec": {
   "display_name": "[GPU_ENV]",
   "language": "python",
   "name": "gpu_env"
  },
  "language_info": {
   "codemirror_mode": {
    "name": "ipython",
    "version": 3
   },
   "file_extension": ".py",
   "mimetype": "text/x-python",
   "name": "python",
   "nbconvert_exporter": "python",
   "pygments_lexer": "ipython3",
   "version": "3.6.8"
  }
 },
 "nbformat": 4,
 "nbformat_minor": 2
}
