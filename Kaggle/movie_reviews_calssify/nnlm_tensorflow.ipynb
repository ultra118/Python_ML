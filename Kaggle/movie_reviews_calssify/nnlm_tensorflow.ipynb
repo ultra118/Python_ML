{
 "cells": [
  {
   "cell_type": "code",
   "execution_count": 21,
   "metadata": {},
   "outputs": [
    {
     "name": "stdout",
     "output_type": "stream",
     "text": [
      "['love', 'like', 'coffee', 'hate', 'pizza', 'soju', 'i']\n",
      "{'love': 0, 'like': 1, 'coffee': 2, 'hate': 3, 'pizza': 4, 'soju': 5, 'i': 6}\n",
      "{0: 'love', 1: 'like', 2: 'coffee', 3: 'hate', 4: 'pizza', 5: 'soju', 6: 'i'}\n"
     ]
    }
   ],
   "source": [
    "import tensorflow as tf\n",
    "import numpy as np\n",
    "\n",
    "tf.reset_default_graph()\n",
    "\n",
    "sentences = [\"i like pizza\", \"i love coffee\", \"i hate soju\"]\n",
    "\n",
    "word_list = \" \".join(sentences).split()\n",
    "word_list = list(set(word_list))\n",
    "print(word_list)\n",
    "\n",
    "word_dict = {w: i for i,w in enumerate(word_list)}\n",
    "print(word_dict)\n",
    "number_dict = {i: w for i,w in enumerate(word_list)}\n",
    "print(number_dict)\n",
    "\n",
    "n_class = len(word_dict)\n",
    "\n",
    "#['i like', 'i love', 'i hate']\n",
    "n_step = 2 # 몇개 뽑아서 볼건지\n",
    "n_hidden = 2 # num of hidden unit\n",
    "\n",
    "def make_batch(sentences):\n",
    "    input_batch = []\n",
    "    target_batch = []\n",
    "    # i like piza , i love coffee, i hate soju\n",
    "    for sen in sentences:\n",
    "        word = sen.split()\n",
    "        # input은 target 이전 단어들에 대한 단어들\n",
    "        input = [word_dict[n] for n in word[:-1]]\n",
    "        # target은 마지막으로 나오는 단어\n",
    "        target = [word_dict[word[-1]]]\n",
    "        # one-hot vector로 바꿔주기위해 특정 단어에 해당하는\n",
    "        # identity matrix(단위 행렬)의 행을 뽑도록 한다\n",
    "        input_batch.append(np.eye(n_class)[input])\n",
    "        target_batch.append(np.eye(n_class)[target])\n",
    "    return input_batch, target_batch\n",
    "# 2개의 input word, 각 n_class vector(단위사전 차원 수)\n",
    "X = tf.placeholder(tf.float32, [None, n_step, n_class])\n",
    "Y = tf.placeholder(tf.float32, [None, n_class])\n",
    "\n",
    "input_batch, target_batch = make_batch(sentences)"
   ]
  },
  {
   "cell_type": "code",
   "execution_count": 43,
   "metadata": {},
   "outputs": [
    {
     "data": {
      "text/plain": [
       "array([[1., 0., 0., 0., 0., 0., 0.],\n",
       "       [0., 0., 0., 1., 0., 0., 0.]])"
      ]
     },
     "execution_count": 43,
     "metadata": {},
     "output_type": "execute_result"
    }
   ],
   "source": [
    "np.eye(7)[[0,3]]"
   ]
  },
  {
   "cell_type": "code",
   "execution_count": 12,
   "metadata": {},
   "outputs": [],
   "source": [
    "n_class = len(word_dict)"
   ]
  },
  {
   "cell_type": "code",
   "execution_count": 13,
   "metadata": {},
   "outputs": [
    {
     "name": "stdout",
     "output_type": "stream",
     "text": [
      "7\n"
     ]
    }
   ],
   "source": [
    "print(n_class)"
   ]
  },
  {
   "cell_type": "code",
   "execution_count": 10,
   "metadata": {},
   "outputs": [
    {
     "data": {
      "text/plain": [
       "0"
      ]
     },
     "execution_count": 10,
     "metadata": {},
     "output_type": "execute_result"
    }
   ],
   "source": [
    "word_dict['love']"
   ]
  },
  {
   "cell_type": "code",
   "execution_count": 8,
   "metadata": {},
   "outputs": [
    {
     "data": {
      "text/plain": [
       "7"
      ]
     },
     "execution_count": 8,
     "metadata": {},
     "output_type": "execute_result"
    }
   ],
   "source": [
    "len(word_dict)"
   ]
  },
  {
   "cell_type": "code",
   "execution_count": null,
   "metadata": {},
   "outputs": [],
   "source": []
  }
 ],
 "metadata": {
  "kernelspec": {
   "display_name": "[GPU_ENV]",
   "language": "python",
   "name": "gpu_env"
  },
  "language_info": {
   "codemirror_mode": {
    "name": "ipython",
    "version": 3
   },
   "file_extension": ".py",
   "mimetype": "text/x-python",
   "name": "python",
   "nbconvert_exporter": "python",
   "pygments_lexer": "ipython3",
   "version": "3.6.8"
  },
  "toc": {
   "base_numbering": 1,
   "nav_menu": {},
   "number_sections": true,
   "sideBar": true,
   "skip_h1_title": false,
   "title_cell": "Table of Contents",
   "title_sidebar": "Contents",
   "toc_cell": false,
   "toc_position": {},
   "toc_section_display": true,
   "toc_window_display": false
  }
 },
 "nbformat": 4,
 "nbformat_minor": 2
}
