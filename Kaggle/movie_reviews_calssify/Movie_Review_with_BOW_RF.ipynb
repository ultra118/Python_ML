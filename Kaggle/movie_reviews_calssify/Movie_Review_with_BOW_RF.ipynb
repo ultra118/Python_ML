{
 "cells": [
  {
   "cell_type": "markdown",
   "metadata": {},
   "source": [
    "### [Bag of Words Meets Bags of Popcorn](https://www.kaggle.com/c/word2vec-nlp-tutorial)"
   ]
  },
  {
   "cell_type": "markdown",
   "metadata": {},
   "source": [
    ".csv파일로 제출\n",
    "id와 sentiment(0,1)\n",
    "\n",
    "### [word2vec 참조](https://ratsgo.github.io/from%20frequency%20to%20semantics/2017/03/30/word2vec/)\n",
    "\n",
    "### [nltk 참조](https://datascienceschool.net/view-notebook/118731eec74b4ad3bdd2f89bab077e1b/)\n",
    "- 말뭉치 => 중지단어(뜻 없는 단어)사전 통해 중지단어 제거\n",
    "- 토큰 생성\n",
    "    - 긴 문자열을 작은 단위로 나눠짐(그 단위를 토큰이라 함)\n",
    "- 형태소 분석\n",
    "    - 형태소 : 의미가 있는 가장 작은 말의 단위\n",
    "    - 어간 추출과 원형 복원\n",
    "        - 어간 추출 : 같은 의미를 갖는 형태소의 기본형을 찾음\n",
    "        - 원형 복원 : 같은 의미를 가지는 여러 단어를 사전형으로 통일\n",
    "- 품사 태깅\n",
    "    - 낱말을 문법적인 기능이나 형태, 뜻에 따라 구분\n",
    "\n",
    "### part1 Bag Of Words\n",
    "- HTML태그 제거 - BeautifulSoup\n",
    "- 알파벳만 남김(숫자, 구두점 제거) - re\n",
    "- 소문자로 변환, 공백으로 단어 구분\n",
    "- 중지단어(의미없는 단어들)제거 - nltk\n",
    "\n",
    "### part2 Word Vectors\n",
    "\n",
    "### part3 More Fun With Word Vectors"
   ]
  },
  {
   "cell_type": "code",
   "execution_count": 72,
   "metadata": {},
   "outputs": [],
   "source": [
    "import numpy as np\n",
    "import pandas as pd\n",
    "from bs4 import BeautifulSoup\n",
    "import nltk\n",
    "import re\n",
    "from nltk.corpus import stopwords\n",
    "from sklearn.feature_extraction.text import CountVectorizer\n",
    "from sklearn.ensemble import RandomForestClassifier"
   ]
  },
  {
   "cell_type": "code",
   "execution_count": 2,
   "metadata": {},
   "outputs": [
    {
     "name": "stdout",
     "output_type": "stream",
     "text": [
      "showing info https://raw.githubusercontent.com/nltk/nltk_data/gh-pages/index.xml\n"
     ]
    },
    {
     "data": {
      "text/plain": [
       "True"
      ]
     },
     "execution_count": 2,
     "metadata": {},
     "output_type": "execute_result"
    }
   ],
   "source": [
    "nltk.download()"
   ]
  },
  {
   "cell_type": "markdown",
   "metadata": {},
   "source": [
    "<img src = \"https://user-images.githubusercontent.com/28910538/54673538-cca58a80-4b3d-11e9-9bf1-e017c55a86f0.png\" width = \"500\" height = \"500\" >"
   ]
  },
  {
   "cell_type": "code",
   "execution_count": 3,
   "metadata": {},
   "outputs": [
    {
     "data": {
      "text/html": [
       "<div>\n",
       "<style scoped>\n",
       "    .dataframe tbody tr th:only-of-type {\n",
       "        vertical-align: middle;\n",
       "    }\n",
       "\n",
       "    .dataframe tbody tr th {\n",
       "        vertical-align: top;\n",
       "    }\n",
       "\n",
       "    .dataframe thead th {\n",
       "        text-align: right;\n",
       "    }\n",
       "</style>\n",
       "<table border=\"1\" class=\"dataframe\">\n",
       "  <thead>\n",
       "    <tr style=\"text-align: right;\">\n",
       "      <th></th>\n",
       "      <th>id</th>\n",
       "      <th>sentiment</th>\n",
       "      <th>review</th>\n",
       "    </tr>\n",
       "  </thead>\n",
       "  <tbody>\n",
       "    <tr>\n",
       "      <th>0</th>\n",
       "      <td>\"5814_8\"</td>\n",
       "      <td>1</td>\n",
       "      <td>\"With all this stuff going down at the moment ...</td>\n",
       "    </tr>\n",
       "    <tr>\n",
       "      <th>1</th>\n",
       "      <td>\"2381_9\"</td>\n",
       "      <td>1</td>\n",
       "      <td>\"\\\"The Classic War of the Worlds\\\" by Timothy ...</td>\n",
       "    </tr>\n",
       "    <tr>\n",
       "      <th>2</th>\n",
       "      <td>\"7759_3\"</td>\n",
       "      <td>0</td>\n",
       "      <td>\"The film starts with a manager (Nicholas Bell...</td>\n",
       "    </tr>\n",
       "  </tbody>\n",
       "</table>\n",
       "</div>"
      ],
      "text/plain": [
       "         id  sentiment                                             review\n",
       "0  \"5814_8\"          1  \"With all this stuff going down at the moment ...\n",
       "1  \"2381_9\"          1  \"\\\"The Classic War of the Worlds\\\" by Timothy ...\n",
       "2  \"7759_3\"          0  \"The film starts with a manager (Nicholas Bell..."
      ]
     },
     "metadata": {},
     "output_type": "display_data"
    },
    {
     "name": "stdout",
     "output_type": "stream",
     "text": [
      "(25000, 3)\n",
      "['id' 'sentiment' 'review']\n"
     ]
    }
   ],
   "source": [
    "# header = 0 은 파일의 첫번 째 줄에 열 이름이 있음을 나타냄\n",
    "# quating = 3은 파이썬에서 이중 따옴표를 무시\n",
    "train_data = pd.read_csv(\"../data/movie/labeledTrainData.tsv\", header=0, delimiter = \"\\t\", quoting =3)\n",
    "display(train_data.head(3))\n",
    "print(train_data.shape)\n",
    "print(train_data.columns.values)"
   ]
  },
  {
   "cell_type": "code",
   "execution_count": 4,
   "metadata": {},
   "outputs": [
    {
     "name": "stdout",
     "output_type": "stream",
     "text": [
      "<class 'bs4.BeautifulSoup'>\n",
      "\"With all this stuff going down at the moment with MJ i've started listening to his music, watching the odd documentary here and there, watched The Wiz and watched Moonwalker again. Maybe i just want to get a certain insight into this guy who i thought was really cool in the eighties just to maybe make up my mind whether he is guilty or innocent. Moonwalker is part biography, part feature film which i remember going to see at the cinema when it was originally released. Some of it has subtle messages about MJ's feeling towards the press and also the obvious message of drugs are bad m'kay.Visually impressive but of course this is all about Michael Jackson so unless you remotely like MJ in anyway then you are going to hate this and find it boring. Some may call MJ an egotist for consenting to the making of this movie BUT MJ and most of his fans would say that he made it for the fans which if true is really nice of him.The actual feature film bit when it finally starts is only on for 20 minutes or so excluding the Smooth Criminal sequence and Joe Pesci is convincing as a psychopathic all powerful drug lord. Why he wants MJ dead so bad is beyond me. Because MJ overheard his plans? Nah, Joe Pesci's character ranted that he wanted people to know it is he who is supplying drugs etc so i dunno, maybe he just hates MJ's music.Lots of cool things in this like MJ turning into a car and a robot and the whole Speed Demon sequence. Also, the director must have had the patience of a saint when it came to filming the kiddy Bad sequence as usually directors hate working with one kid let alone a whole bunch of them performing a complex dance scene.Bottom line, this movie is for people who like MJ on one level or another (which i think is most people). If not, then stay away. It does try and give off a wholesome message and ironically MJ's bestest buddy in this movie is a girl! Michael Jackson is truly one of the most talented people ever to grace this planet but is he guilty? Well, with all the attention i've gave this subject....hmmm well i don't know because people can be different behind closed doors, i know this for a fact. He is either an extremely nice but stupid guy or one of the most sickest liars. I hope he is not the latter.\"\n"
     ]
    }
   ],
   "source": [
    "example1 = BeautifulSoup(train_data[\"review\"][0])\n",
    "print(type(example1))\n",
    "# .get_text를 통해 태그나 마크 없애줌\n",
    "print(example1.get_text())"
   ]
  },
  {
   "cell_type": "markdown",
   "metadata": {},
   "source": [
    "### [정규표현식 참조](https://wikidocs.net/4308)\n",
    "![image](https://user-images.githubusercontent.com/28910538/54674482-dcbe6980-4b3f-11e9-9111-9846633bdb4a.png)\n"
   ]
  },
  {
   "cell_type": "code",
   "execution_count": 5,
   "metadata": {},
   "outputs": [
    {
     "name": "stdout",
     "output_type": "stream",
     "text": [
      "<class 'str'>\n",
      " With all this stuff going down at the moment with MJ i ve started listening to his music  watching the odd documentary here and there  watched The Wiz and watched Moonwalker again  Maybe i just want to get a certain insight into this guy who i thought was really cool in the eighties just to maybe make up my mind whether he is guilty or innocent  Moonwalker is part biography  part feature film which i remember going to see at the cinema when it was originally released  Some of it has subtle messages about MJ s feeling towards the press and also the obvious message of drugs are bad m kay Visually impressive but of course this is all about Michael Jackson so unless you remotely like MJ in anyway then you are going to hate this and find it boring  Some may call MJ an egotist for consenting to the making of this movie BUT MJ and most of his fans would say that he made it for the fans which if true is really nice of him The actual feature film bit when it finally starts is only on for    minutes or so excluding the Smooth Criminal sequence and Joe Pesci is convincing as a psychopathic all powerful drug lord  Why he wants MJ dead so bad is beyond me  Because MJ overheard his plans  Nah  Joe Pesci s character ranted that he wanted people to know it is he who is supplying drugs etc so i dunno  maybe he just hates MJ s music Lots of cool things in this like MJ turning into a car and a robot and the whole Speed Demon sequence  Also  the director must have had the patience of a saint when it came to filming the kiddy Bad sequence as usually directors hate working with one kid let alone a whole bunch of them performing a complex dance scene Bottom line  this movie is for people who like MJ on one level or another  which i think is most people   If not  then stay away  It does try and give off a wholesome message and ironically MJ s bestest buddy in this movie is a girl  Michael Jackson is truly one of the most talented people ever to grace this planet but is he guilty  Well  with all the attention i ve gave this subject    hmmm well i don t know because people can be different behind closed doors  i know this for a fact  He is either an extremely nice but stupid guy or one of the most sickest liars  I hope he is not the latter  \n"
     ]
    }
   ],
   "source": [
    "# 감정분석 위해 구두점,숫자 및 중지단어를 처리\n",
    "# 알파벳이 아닌것들은 다 지움\n",
    "letters_only = re.sub(\"[^a-zA-Z]\", \" \", example1.get_text())\n",
    "print(type(letters_only))\n",
    "print(letters_only)"
   ]
  },
  {
   "cell_type": "code",
   "execution_count": 6,
   "metadata": {},
   "outputs": [
    {
     "name": "stdout",
     "output_type": "stream",
     "text": [
      "['i', 'me', 'my', 'myself', 'we', 'our', 'ours', 'ourselves', 'you', \"you're\", \"you've\", \"you'll\", \"you'd\", 'your', 'yours', 'yourself', 'yourselves', 'he', 'him', 'his', 'himself', 'she', \"she's\", 'her', 'hers', 'herself', 'it', \"it's\", 'its', 'itself', 'they', 'them', 'their', 'theirs', 'themselves', 'what', 'which', 'who', 'whom', 'this', 'that', \"that'll\", 'these', 'those', 'am', 'is', 'are', 'was', 'were', 'be', 'been', 'being', 'have', 'has', 'had', 'having', 'do', 'does', 'did', 'doing', 'a', 'an', 'the', 'and', 'but', 'if', 'or', 'because', 'as', 'until', 'while', 'of', 'at', 'by', 'for', 'with', 'about', 'against', 'between', 'into', 'through', 'during', 'before', 'after', 'above', 'below', 'to', 'from', 'up', 'down', 'in', 'out', 'on', 'off', 'over', 'under', 'again', 'further', 'then', 'once', 'here', 'there', 'when', 'where', 'why', 'how', 'all', 'any', 'both', 'each', 'few', 'more', 'most', 'other', 'some', 'such', 'no', 'nor', 'not', 'only', 'own', 'same', 'so', 'than', 'too', 'very', 's', 't', 'can', 'will', 'just', 'don', \"don't\", 'should', \"should've\", 'now', 'd', 'll', 'm', 'o', 're', 've', 'y', 'ain', 'aren', \"aren't\", 'couldn', \"couldn't\", 'didn', \"didn't\", 'doesn', \"doesn't\", 'hadn', \"hadn't\", 'hasn', \"hasn't\", 'haven', \"haven't\", 'isn', \"isn't\", 'ma', 'mightn', \"mightn't\", 'mustn', \"mustn't\", 'needn', \"needn't\", 'shan', \"shan't\", 'shouldn', \"shouldn't\", 'wasn', \"wasn't\", 'weren', \"weren't\", 'won', \"won't\", 'wouldn', \"wouldn't\"]\n"
     ]
    }
   ],
   "source": [
    "# 다 소문자로\n",
    "lower_case = letters_only.lower()\n",
    "# 공백으로 단어 구분 \n",
    "words = lower_case.split()\n",
    "# 의미없는 단어들 (중지단어) 지우기 - nltk 통해\n",
    "from nltk.corpus import stopwords\n",
    "# 의미없는 중지단어들\n",
    "print(stopwords.words(\"english\"))"
   ]
  },
  {
   "cell_type": "code",
   "execution_count": 7,
   "metadata": {},
   "outputs": [],
   "source": [
    "# words는 위까지 전처리 과정 거치고 공백을 통해 단어로 구분된 list타입\n",
    "# words in w => if not (w in stopword) => 이 w들은 wrods에 list로 저장\n",
    "words = [w for w in words if not (w in stopwords.words(\"english\"))]"
   ]
  },
  {
   "cell_type": "code",
   "execution_count": 8,
   "metadata": {},
   "outputs": [
    {
     "name": "stdout",
     "output_type": "stream",
     "text": [
      "['stuff', 'going', 'moment', 'mj', 'started', 'listening', 'music', 'watching', 'odd', 'documentary', 'watched', 'wiz', 'watched', 'moonwalker', 'maybe', 'want', 'get', 'certain', 'insight', 'guy', 'thought', 'really', 'cool', 'eighties', 'maybe', 'make', 'mind', 'whether', 'guilty', 'innocent', 'moonwalker', 'part', 'biography', 'part', 'feature', 'film', 'remember', 'going', 'see', 'cinema', 'originally', 'released', 'subtle', 'messages', 'mj', 'feeling', 'towards', 'press', 'also', 'obvious', 'message', 'drugs', 'bad', 'kay', 'visually', 'impressive', 'course', 'michael', 'jackson', 'unless', 'remotely', 'like', 'mj', 'anyway', 'going', 'hate', 'find', 'boring', 'may', 'call', 'mj', 'egotist', 'consenting', 'making', 'movie', 'mj', 'fans', 'would', 'say', 'made', 'fans', 'true', 'really', 'nice', 'actual', 'feature', 'film', 'bit', 'finally', 'starts', 'minutes', 'excluding', 'smooth', 'criminal', 'sequence', 'joe', 'pesci', 'convincing', 'psychopathic', 'powerful', 'drug', 'lord', 'wants', 'mj', 'dead', 'bad', 'beyond', 'mj', 'overheard', 'plans', 'nah', 'joe', 'pesci', 'character', 'ranted', 'wanted', 'people', 'know', 'supplying', 'drugs', 'etc', 'dunno', 'maybe', 'hates', 'mj', 'music', 'lots', 'cool', 'things', 'like', 'mj', 'turning', 'car', 'robot', 'whole', 'speed', 'demon', 'sequence', 'also', 'director', 'must', 'patience', 'saint', 'came', 'filming', 'kiddy', 'bad', 'sequence', 'usually', 'directors', 'hate', 'working', 'one', 'kid', 'let', 'alone', 'whole', 'bunch', 'performing', 'complex', 'dance', 'scene', 'bottom', 'line', 'movie', 'people', 'like', 'mj', 'one', 'level', 'another', 'think', 'people', 'stay', 'away', 'try', 'give', 'wholesome', 'message', 'ironically', 'mj', 'bestest', 'buddy', 'movie', 'girl', 'michael', 'jackson', 'truly', 'one', 'talented', 'people', 'ever', 'grace', 'planet', 'guilty', 'well', 'attention', 'gave', 'subject', 'hmmm', 'well', 'know', 'people', 'different', 'behind', 'closed', 'doors', 'know', 'fact', 'either', 'extremely', 'nice', 'stupid', 'guy', 'one', 'sickest', 'liars', 'hope', 'latter']\n"
     ]
    }
   ],
   "source": [
    "# 위의 중지단어들이 다 날라감\n",
    "print(words)"
   ]
  },
  {
   "cell_type": "code",
   "execution_count": 9,
   "metadata": {},
   "outputs": [],
   "source": [
    "def review_to_words(raw_review):\n",
    "    # 1. HTML 제거\n",
    "    review_text = BeautifulSoup(raw_review).get_text()\n",
    "    # 2. 알파벳만 남김\n",
    "    letters_only = re.sub(\"[^a-zA-Z]\", \" \", review_text)\n",
    "    # 3. 소문자로 다 바꾸고, 공백통해 단어로 구분\n",
    "    words = letters_only.lower().split()\n",
    "    # 4. 중지단어 제거\n",
    "    stops = set(stopwords.words(\"english\"))\n",
    "    meaningful_words = [w for w in words if not (w in stops)]\n",
    "    # 5. list를 string 타입으로 변환(공백을 준)\n",
    "    return (\" \".join(meaningful_words))"
   ]
  },
  {
   "cell_type": "code",
   "execution_count": 10,
   "metadata": {},
   "outputs": [
    {
     "name": "stdout",
     "output_type": "stream",
     "text": [
      "stuff going moment mj started listening music watching odd documentary watched wiz watched moonwalke\n"
     ]
    }
   ],
   "source": [
    "clean_review = review_to_words(train_data[\"review\"][0])\n",
    "print(clean_review[:100])"
   ]
  },
  {
   "cell_type": "code",
   "execution_count": 11,
   "metadata": {},
   "outputs": [],
   "source": [
    "clean_train_df = pd.DataFrame(columns = [\"clean_review\"])\n",
    "clean_train_df[\"clean_review\"] = train_data[\"review\"]"
   ]
  },
  {
   "cell_type": "code",
   "execution_count": 12,
   "metadata": {},
   "outputs": [
    {
     "name": "stdout",
     "output_type": "stream",
     "text": [
      "Wall time: 18.4 s\n"
     ]
    }
   ],
   "source": [
    "%%time\n",
    "clean_train_df[\"clean_review\"] = clean_train_df[\"clean_review\"].apply(review_to_words)"
   ]
  },
  {
   "cell_type": "code",
   "execution_count": 13,
   "metadata": {},
   "outputs": [
    {
     "data": {
      "text/html": [
       "<div>\n",
       "<style scoped>\n",
       "    .dataframe tbody tr th:only-of-type {\n",
       "        vertical-align: middle;\n",
       "    }\n",
       "\n",
       "    .dataframe tbody tr th {\n",
       "        vertical-align: top;\n",
       "    }\n",
       "\n",
       "    .dataframe thead th {\n",
       "        text-align: right;\n",
       "    }\n",
       "</style>\n",
       "<table border=\"1\" class=\"dataframe\">\n",
       "  <thead>\n",
       "    <tr style=\"text-align: right;\">\n",
       "      <th></th>\n",
       "      <th>clean_review</th>\n",
       "    </tr>\n",
       "  </thead>\n",
       "  <tbody>\n",
       "    <tr>\n",
       "      <th>0</th>\n",
       "      <td>stuff going moment mj started listening music ...</td>\n",
       "    </tr>\n",
       "    <tr>\n",
       "      <th>1</th>\n",
       "      <td>classic war worlds timothy hines entertaining ...</td>\n",
       "    </tr>\n",
       "    <tr>\n",
       "      <th>2</th>\n",
       "      <td>film starts manager nicholas bell giving welco...</td>\n",
       "    </tr>\n",
       "  </tbody>\n",
       "</table>\n",
       "</div>"
      ],
      "text/plain": [
       "                                        clean_review\n",
       "0  stuff going moment mj started listening music ...\n",
       "1  classic war worlds timothy hines entertaining ...\n",
       "2  film starts manager nicholas bell giving welco..."
      ]
     },
     "metadata": {},
     "output_type": "display_data"
    }
   ],
   "source": [
    "display(clean_train_df.head(3))"
   ]
  },
  {
   "cell_type": "markdown",
   "metadata": {},
   "source": [
    "##### [apply 참조] (https://pandas.pydata.org/pandas-docs/stable/reference/api/pandas.DataFrame.apply.html)"
   ]
  },
  {
   "cell_type": "markdown",
   "metadata": {},
   "source": [
    "## [Bag of Words](https://wikidocs.net/22650)\n",
    "- 기계학습을 위한 숫자 표현으로 변환 방법\n",
    "- 단어의 빈도수를 순서없이 카운트\n",
    "![image](https://user-images.githubusercontent.com/28910538/54733522-6cfebc00-4bdd-11e9-87ee-5279a15d9edd.png)\n"
   ]
  },
  {
   "cell_type": "markdown",
   "metadata": {},
   "source": [
    "### [CounterVectorizer](http://theyoonicon.com/scikit-learn%EC%9D%84-%EC%9D%B4%EC%9A%A9%ED%95%9C-%EA%B5%B0%EC%A7%91%ED%99%94%EA%B4%80%EB%A0%A8-%EA%B2%8C%EC%8B%9C%EB%AC%BC-%EC%B0%BE%EA%B8%B0/)사용하기 위해\n",
    "- pip install -U scikit-learn\n",
    "- CounterVectorizer통해서 Bag of Words 가능\n",
    "- 추가로 문장간 벡터거리도 구할 수 있음"
   ]
  },
  {
   "cell_type": "code",
   "execution_count": 15,
   "metadata": {},
   "outputs": [],
   "source": [
    "from sklearn.feature_extraction.text import CountVectorizer\n",
    "\n",
    "vectorizer = CountVectorizer(analyzer= \"word\", \n",
    "                             tokenizer= None, \n",
    "                             preprocessor= None, \n",
    "                             stop_words = None, \n",
    "                             max_features = 5000)"
   ]
  },
  {
   "cell_type": "code",
   "execution_count": 55,
   "metadata": {},
   "outputs": [
    {
     "name": "stdout",
     "output_type": "stream",
     "text": [
      "a is apple\n",
      "b is banana\n",
      "[[1 0 1]\n",
      " [0 1 1]]\n",
      "count하는 단어들 : ['apple', 'banana', 'is']\n"
     ]
    }
   ],
   "source": [
    "sentence_a = \"a is apple\"\n",
    "sentence_b = \"b is banana\"\n",
    "train_sentece = vectorizer.fit_transform([sentence_a,sentence_b])\n",
    "print(sentence_a)\n",
    "print(sentence_b)\n",
    "print(train_sentece.toarray())\n",
    "print(\"count하는 단어들 : {}\".format(vectorizer.get_feature_names()))"
   ]
  },
  {
   "cell_type": "code",
   "execution_count": 70,
   "metadata": {},
   "outputs": [
    {
     "name": "stdout",
     "output_type": "stream",
     "text": [
      "  (0, 2496)\t1\n",
      "  (0, 2122)\t1\n",
      "  (0, 4273)\t1\n",
      "  (0, 1578)\t1\n",
      "  (0, 1399)\t1\n",
      "  (0, 1589)\t1\n",
      "  (0, 1290)\t1\n",
      "  (0, 801)\t1\n",
      "  (0, 386)\t1\n",
      "  (0, 1213)\t1\n",
      "  (0, 4279)\t1\n",
      "  (0, 1849)\t1\n",
      "  (0, 283)\t1\n",
      "  (0, 4861)\t2\n",
      "  (0, 3280)\t1\n",
      "  (0, 1925)\t1\n",
      "  (0, 1503)\t1\n",
      "  (0, 4383)\t1\n",
      "  (0, 4611)\t1\n",
      "  (0, 1883)\t1\n",
      "  (0, 550)\t1\n",
      "  (0, 2322)\t1\n",
      "  (0, 1886)\t1\n",
      "  (0, 4614)\t1\n",
      "  (0, 309)\t1\n",
      "  :\t:\n",
      "  (1, 3358)\t1\n",
      "  (1, 4168)\t1\n",
      "  (1, 220)\t1\n",
      "  (1, 4291)\t1\n",
      "  (1, 2915)\t2\n",
      "  (1, 475)\t2\n",
      "  (1, 4863)\t2\n",
      "  (1, 1394)\t2\n",
      "  (1, 1941)\t1\n",
      "  (1, 1904)\t1\n",
      "  (1, 3060)\t2\n",
      "  (1, 1462)\t2\n",
      "  (1, 4515)\t1\n",
      "  (1, 4952)\t1\n",
      "  (1, 4813)\t1\n",
      "  (1, 782)\t3\n",
      "  (1, 1589)\t1\n",
      "  (1, 1213)\t1\n",
      "  (1, 4468)\t1\n",
      "  (1, 3208)\t1\n",
      "  (1, 2671)\t1\n",
      "  (1, 2912)\t2\n",
      "  (1, 2569)\t1\n",
      "  (1, 1685)\t2\n",
      "  (1, 4832)\t1\n",
      "count하는 단어 총 갯수 : 5000\n",
      "(25000, 5000)\n",
      "[0 0 0 ... 0 0 0]\n"
     ]
    }
   ],
   "source": [
    "train_data_features = vectorizer.fit_transform(clean_train_df[\"clean_review\"])\n",
    "# (sentence_index, feature_index) count 형태로 리턴\n",
    "print(train_data_features[:2])\n",
    "# array타입으로 바꿔 줌\n",
    "train_data_features = train_data_features.toarray()\n",
    "print(\"count하는 단어 총 갯수 : {}\".format(len(vectorizer.get_feature_names())))\n",
    "print(train_data_features.shape)\n",
    "print(train_data_features[1])"
   ]
  },
  {
   "cell_type": "markdown",
   "metadata": {},
   "source": [
    "## [Random Forest](https://medium.com/@williamkoehrsen/random-forest-simple-explanation-377895a60d2d)\n",
    "- 다수의 결정 트리들을 학습하는 앙상블 방법\n",
    "- 다수의 결정 트리로부터 분류 또는 회귀분석\n"
   ]
  },
  {
   "cell_type": "code",
   "execution_count": 71,
   "metadata": {},
   "outputs": [],
   "source": [
    "from sklearn.ensemble import RandomForestClassifier"
   ]
  },
  {
   "cell_type": "code",
   "execution_count": 73,
   "metadata": {},
   "outputs": [],
   "source": [
    "forest = RandomForestClassifier(n_estimators=100)\n",
    "forest = forest.fit(train_data_features, train_data[\"sentiment\"])"
   ]
  },
  {
   "cell_type": "code",
   "execution_count": 79,
   "metadata": {},
   "outputs": [
    {
     "name": "stdout",
     "output_type": "stream",
     "text": [
      "(25000, 2)\n"
     ]
    }
   ],
   "source": [
    "test = pd.read_csv(\"../data/movie/testData.tsv\", header = 0, delimiter = \"\\t\", quoting=3)\n",
    "print(test.shape)\n",
    "\n",
    "num_reviews = len(test[\"review\"])\n",
    "clean_test_reviews = pd.DataFrame()\n",
    "clean_test_reviews[\"clean_review\"] = test[\"review\"].apply(review_to_words)"
   ]
  },
  {
   "cell_type": "code",
   "execution_count": 89,
   "metadata": {},
   "outputs": [
    {
     "name": "stdout",
     "output_type": "stream",
     "text": [
      "(25000,)\n"
     ]
    }
   ],
   "source": [
    "# bag of words 뽑고\n",
    "test_data_features = vectorizer.transform(clean_test_reviews[\"clean_review\"])\n",
    "test_data_features = test_data_features.toarray()\n",
    "\n",
    "# 랜덤포레스트로 예측\n",
    "result = forest.predict(test_data_features)\n",
    "print(result.shape)"
   ]
  },
  {
   "cell_type": "code",
   "execution_count": 90,
   "metadata": {},
   "outputs": [],
   "source": [
    "output = pd.DataFrame(data = {\"id\":test[\"id\"], \"sentiment\":result})\n",
    "output.to_csv(\"../data/movie/Bag_of_Words_model.csv\", index = False, quoting = 3)"
   ]
  },
  {
   "cell_type": "code",
   "execution_count": null,
   "metadata": {},
   "outputs": [],
   "source": []
  }
 ],
 "metadata": {
  "kernelspec": {
   "display_name": "[GPU_ENV]",
   "language": "python",
   "name": "gpu_env"
  },
  "language_info": {
   "codemirror_mode": {
    "name": "ipython",
    "version": 3
   },
   "file_extension": ".py",
   "mimetype": "text/x-python",
   "name": "python",
   "nbconvert_exporter": "python",
   "pygments_lexer": "ipython3",
   "version": "3.6.8"
  }
 },
 "nbformat": 4,
 "nbformat_minor": 2
}
