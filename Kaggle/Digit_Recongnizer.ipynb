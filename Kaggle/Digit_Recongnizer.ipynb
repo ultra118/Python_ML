{
 "cells": [
  {
   "cell_type": "markdown",
   "metadata": {},
   "source": [
    "### ensemble(앙상블)\n",
    "- 모델이 여러개\n",
    "- 각각의 모델을 학습시킴\n",
    "- 각 모델에 입력 parameter(이미지 픽셀)을 넣어서 예측값을 알아냄"
   ]
  },
  {
   "cell_type": "code",
   "execution_count": 32,
   "metadata": {},
   "outputs": [],
   "source": [
    "import tensorflow as tf\n",
    "import pandas as pd\n",
    "import numpy as np\n",
    "import matplotlib\n",
    "import matplotlib.pyplot as plt\n",
    "\n",
    "train_csv = pd.read_csv(\"./data/mnist/train.csv\")\n",
    "n = int(train_csv.shape[0] * 0.8)\n",
    "test_csv = train_csv.loc[n:, :]\n",
    "train_csv = train_csv.loc[:n-1, :]\n",
    "real_test_csv = pd.read_csv(\"./data/mnist/test.csv\")\n",
    "\n"
   ]
  },
  {
   "cell_type": "markdown",
   "metadata": {},
   "source": [
    "### 0. 전처리\n",
    "- 데이터를 test/train으로 나눠준다\n",
    "\n",
    "### 1. NN학습\n",
    "- CNN으로 학습\n",
    "- xaviers init\n",
    "- dropout\n",
    "- adam optimzer\n",
    "\n",
    "### 2. batch / epoch 나눠서 학습\n"
   ]
  },
  {
   "cell_type": "code",
   "execution_count": 33,
   "metadata": {},
   "outputs": [],
   "source": [
    "# real data\n",
    "x_real_test_data = real_test_csv"
   ]
  },
  {
   "cell_type": "code",
   "execution_count": 34,
   "metadata": {},
   "outputs": [
    {
     "name": "stdout",
     "output_type": "stream",
     "text": [
      "x_train_data.shape : (33600, 784), y_train_data.shape : (33600, 10)\n",
      "x_test_data.shape : (8400, 784), y_test_data.shape : (8400, 10)\n"
     ]
    },
    {
     "data": {
      "image/png": "[encoded data removed]",
      "text/plain": [
       "<Figure size 432x288 with 1 Axes>"
      ]
     },
     "metadata": {
      "needs_background": "light"
     },
     "output_type": "display_data"
    }
   ],
   "source": [
    "x_train_data = train_csv.drop(\"label\", axis = 1)\n",
    "y_train_data = pd.get_dummies(train_csv[\"label\"])\n",
    "\n",
    "x_test_data = test_csv.drop(\"label\", axis = 1)\n",
    "y_test_data = pd.get_dummies(test_csv[\"label\"])\n",
    "\n",
    "print(\"x_train_data.shape : {}, y_train_data.shape : {}\".format(x_train_data.shape,y_train_data.shape))\n",
    "print(\"x_test_data.shape : {}, y_test_data.shape : {}\".format(x_test_data.shape,y_test_data.shape))\n",
    "\n",
    "img = (x_train_data.loc[1,:].values).reshape(28,28)\n",
    "# 0번째 행의 숫자 그려보기 \n",
    "plt.imshow(img, cmap=\"Greys\")\n",
    "plt.show()"
   ]
  },
  {
   "cell_type": "code",
   "execution_count": 35,
   "metadata": {},
   "outputs": [],
   "source": [
    "def set_weight(w_name, w_shape):\n",
    "    return tf.get_variable(name =w_name, shape = w_shape,initializer = tf.contrib.layers.xavier_initializer(), dtype = tf.float32)\n",
    "\n",
    "def set_bias(b_name, b_shape):\n",
    "    return tf.Variable(tf.random_normal(b_shape), name = b_name, dtype =tf.float32)\n",
    "\n",
    "def get_total_n(data, batch_size):\n",
    "    return int(data.shape[0] / batch_size)\n"
   ]
  },
  {
   "cell_type": "markdown",
   "metadata": {},
   "source": [
    "### LeNet (28x28 mnist)\n",
    "- layer1\n",
    "    - 1차원의 input 28x28\n",
    "    - 3x3(1차원)필터 32개로 conv, padding = SAME\n",
    "    - relu 후 pooling(2x2, strides = 2)\n",
    "    - 12x12(1차원) 32개가 나옴\n",
    "- layer2\n",
    "    - 12x12(1차원) 32개를 input\n",
    "    - 3x3(32차원)필터 64개로 conv, padding = SAME\n",
    "    - relu 후 pooling(2x2, strides = 2)\n",
    "    - 7x7(1차원)64개가 나옴\n",
    "- fully connected\n",
    "    - 7x7x16 (input)\n",
    "    - 256 (hidden1)\n",
    "    - 256 (hidden2)\n",
    "    - 10 (output)\n"
   ]
  },
  {
   "cell_type": "code",
   "execution_count": 612,
   "metadata": {},
   "outputs": [],
   "source": [
    "import math \n",
    "\n",
    "class CNNModel:\n",
    "    def __init__(self,sess, name):\n",
    "        self.name = name \n",
    "        self.sess = sess\n",
    "        \n",
    "        \n",
    "    def create_network(self,input_x,input_y):\n",
    "        \n",
    "        with tf.variable_scope(self.name):\n",
    "            self.X = tf.placeholder(shape = [None, input_x], dtype = tf.float32)\n",
    "            self.Y = tf.placeholder(shape = [None, input_y], dtype = tf.float32)\n",
    "            self.keep_rate = tf.placeholder(dtype= tf.float32)\n",
    "            \n",
    "            X_img = tf.reshape(self.X, shape = [-1, int(math.sqrt(input_x)), int(math.sqrt(input_x)), 1])\n",
    "            \n",
    "\n",
    "            W1 = tf.Variable(tf.random_normal([3,3,1,32], stddev=0.01))\n",
    "            L1 = self.layer_conv_relu(X_img, W1, [1,1,1,1], \"SAME\")\n",
    "            L1 = tf.nn.max_pool(L1, ksize=[1,2,2,1], strides=[1,2,2,1], padding=\"SAME\")\n",
    "\n",
    "            W2 = set_weight(\"weight2\", [3,3,32,64])\n",
    "            L2 = self.layer_conv_relu(L1, W2, [1,1,1,1], \"SAME\")\n",
    "            L2 = tf.nn.max_pool(L2, ksize=[1,2,2,1], strides=[1,2,2,1], padding=\"SAME\")\n",
    "            \n",
    "            FC = tf.reshape(L2, shape=[-1, 7*7*64])\n",
    "\n",
    "            FC_W1 = set_weight(\"fc_weight1\", [7*7*64, 256])\n",
    "            FC_b1 = set_bias( \"fc_bias1\", [256])\n",
    "            _FC_L1 = tf.nn.relu(tf.matmul(FC,FC_W1) + FC_b1)\n",
    "            FC_L1 = tf.nn.dropout(_FC_L1, keep_prob = self.keep_rate) \n",
    "\n",
    "            FC_W2 = set_weight(\"fc_weight2\", [256, 256])\n",
    "            FC_b2 = set_bias( \"fc_bias2\", [256])\n",
    "            _FC_L2 = tf.nn.relu(tf.matmul(FC_L1,FC_W2) + FC_b2)\n",
    "            FC_L2 = tf.nn.dropout(_FC_L2, keep_prob = self.keep_rate) \n",
    "\n",
    "\n",
    "            FC_W3 = set_weight(\"fc_weight3\", [256, 10])\n",
    "            FC_b3 = set_bias( \"fc_bias3\", [10])\n",
    "\n",
    "            self.logit = tf.matmul(FC_L2, FC_W3) + FC_b3\n",
    "            self.H = tf.nn.softmax(self.logit)\n",
    "\n",
    "            self.cost = tf.reduce_mean(tf.nn.softmax_cross_entropy_with_logits_v2(logits = self.logit, labels = self.Y))\n",
    "            optimizer = tf.train.AdamOptimizer(learning_rate=0.0001)\n",
    "            self.train = optimizer.minimize(self.cost)\n",
    "            \n",
    "            self.sess.run(tf.global_variables_initializer())\n",
    "            \n",
    "    def batch_train(self,epoch_size, batch_size, param, label):\n",
    "        iter_of_num = int(param.shape[0] / batch_size)\n",
    "        #self.sess.run(tf.global_variables_initializer())\n",
    "        for ep in range(epoch_size):\n",
    "            batch_start = 0\n",
    "            for i in range(iter_of_num):\n",
    "                batch_end = batch_start + batch_size\n",
    "                # 마지막 iteration에서는 100개가 딱 안맞을수도 있음\n",
    "                if i == iter_of_num-1:\n",
    "                    x_batch = param.loc[batch_start:, :]\n",
    "                    y_batch = label.loc[batch_start:, :]\n",
    "                    _, self.cost_val = self.sess.run([self.train, self.cost], feed_dict={self.X:x_batch, self.Y:y_batch, self.keep_rate:0.7})\n",
    "                else:\n",
    "                    x_batch = param.loc[batch_start:batch_end-1, :]\n",
    "                    y_batch = label.loc[batch_start:batch_end-1, :]\n",
    "                    _, self.cost_val = self.sess.run([self.train, self.cost], feed_dict={self.X:x_batch, self.Y:y_batch, self.keep_rate:0.7})\n",
    "                    batch_start = batch_end\n",
    "            print(\"cost_val : {}\".format(self.cost_val))\n",
    "            \n",
    "    def out_hypothesis(self,epoch_size, batch_size, param, label):\n",
    "        iter_of_num = int(param.shape[0] / batch_size)\n",
    "        H_np = np.zeros([1,10])\n",
    "        for ep in range(epoch_size):\n",
    "            batch_start = 0\n",
    "            for i in range(iter_of_num):\n",
    "                batch_end = batch_start + batch_size\n",
    "                # 마지막 iteration에서는 100개가 딱 안맞을수도 있음\n",
    "                if i == iter_of_num-1:\n",
    "                    x_batch = param.loc[batch_start:, :]\n",
    "                    y_batch = label.loc[batch_start:, :]\n",
    "                    _, self.h_val = self.sess.run([self.train, self.H], feed_dict={self.X:x_batch, self.Y:y_batch, self.keep_rate:0.7})\n",
    "                else:\n",
    "                    x_batch = param.loc[batch_start:batch_end-1, :]\n",
    "                    y_batch = label.loc[batch_start:batch_end-1, :]\n",
    "                    _, self.h_val = self.sess.run([self.train, self.H], feed_dict={self.X:x_batch, self.Y:y_batch, self.keep_rate:0.7})\n",
    "                    batch_start = batch_end\n",
    "                H_np = np.append(H_np, self.h_val,axis=0)\n",
    "        return H_np\n",
    "    # label이 있는 test\n",
    "    def batch_test_wl(self, ensemble_sum, batch_size, param, label):\n",
    "        \n",
    "        iter_of_num = int(param.shape[0] / batch_size)\n",
    "        \n",
    "        batch_start = 0\n",
    "        accuracy_sum = 0\n",
    "\n",
    "        \n",
    "        for i in range(iter_of_num):\n",
    "            print(batch_start)\n",
    "            batch_end = batch_start + batch_size\n",
    "            if i == iter_of_num-1:\n",
    "                predict = tf.argmax(ensemble_sum[batch_start:], axis = 1)\n",
    "            else:\n",
    "                predict = tf.argmax(ensemble_sum[batch_start:batch_end], axis = 1)\n",
    "            correct = tf.equal(predict, tf.argmax(self.Y, axis = 1))\n",
    "            accuracy = tf.reduce_sum(tf.cast(correct, dtype = tf.float32))\n",
    "\n",
    "            # 마지막 iteration에서는 100개가 딱 안맞을수도 있음\n",
    "            if i == iter_of_num-1:\n",
    "                x_batch = param.loc[batch_start:, :]\n",
    "                y_batch = label.loc[batch_start:, :]\n",
    "                batch_sum = self.sess.run(accuracy, feed_dict={self.X:x_batch, self.Y:y_batch, self.keep_rate:1.0})\n",
    "            else:\n",
    "                x_batch = param.loc[batch_start:batch_end-1, :]\n",
    "                y_batch = label.loc[batch_start:batch_end-1, :]\n",
    "                \n",
    "                batch_sum = self.sess.run(accuracy, feed_dict={self.X:x_batch, self.Y:y_batch, self.keep_rate:1.0})\n",
    "                batch_start = batch_end\n",
    "            accuracy_sum += batch_sum\n",
    "        print(\"accuracy : {}\".format((accuracy_sum/param.shape[0])))\n",
    "     \n",
    "        \n",
    "#     # label없이 뽑음\n",
    "#     def batch_test_nl(self, batch_size, param):\n",
    "#         iter_of_num = int(param.shape[0] / batch_size)\n",
    "#         batch_start = 0\n",
    "#         for i in range(iter_of_num):\n",
    "#             batch_end = batch_start + batch_size\n",
    "            \n",
    "    \n",
    "    def create_weight(self, w_name, w_shape):\n",
    "        return tf.get_variable(name =w_name, shape = w_shape,initializer = tf.contrib.layers.xavier_initializer(), dtype = tf.float32)\n",
    "    \n",
    "    def create_bias(self, b_name, b_shape):\n",
    "        return tf.Variable(tf.random_normal(b_shape), name = b_name, dtype =tf.float32)\n",
    "    \n",
    "    def layer_conv_relu(self, input_x, input_w, strides_shape, padding_val):\n",
    "        layer = tf.nn.conv2d(input_x, input_w, strides=strides_shape, padding=padding_val)\n",
    "        return tf.nn.relu(layer)\n",
    "    \n",
    "    def layer_max_pool(self, layer, ksize_shape, strides_shape, padding_val):\n",
    "        return tf.nn.max_pool(layer, ksize = ksize_shape, strides = strides_shape,padding= padding_val)\n",
    "\n"
   ]
  },
  {
   "cell_type": "code",
   "execution_count": 589,
   "metadata": {},
   "outputs": [
    {
     "data": {
      "text/plain": [
       "(8400, 10)"
      ]
     },
     "execution_count": 589,
     "metadata": {},
     "output_type": "execute_result"
    }
   ],
   "source": [
    "x_test_data.shape\n",
    "y_test_data.shape"
   ]
  },
  {
   "cell_type": "code",
   "execution_count": 615,
   "metadata": {},
   "outputs": [
    {
     "name": "stdout",
     "output_type": "stream",
     "text": [
      "x_batch.shape : (100, 784), y_batch.shape : (100, 10)\n",
      "x_batch.shape : (100, 784), y_batch.shape : (100, 10)\n",
      "x_batch.shape : (100, 784), y_batch.shape : (100, 10)\n",
      "x_batch.shape : (100, 784), y_batch.shape : (100, 10)\n",
      "x_batch.shape : (100, 784), y_batch.shape : (100, 10)\n",
      "x_batch.shape : (100, 784), y_batch.shape : (100, 10)\n",
      "x_batch.shape : (100, 784), y_batch.shape : (100, 10)\n",
      "x_batch.shape : (100, 784), y_batch.shape : (100, 10)\n",
      "x_batch.shape : (100, 784), y_batch.shape : (100, 10)\n",
      "x_batch.shape : (100, 784), y_batch.shape : (100, 10)\n",
      "x_batch.shape : (100, 784), y_batch.shape : (100, 10)\n",
      "x_batch.shape : (100, 784), y_batch.shape : (100, 10)\n",
      "x_batch.shape : (100, 784), y_batch.shape : (100, 10)\n",
      "x_batch.shape : (100, 784), y_batch.shape : (100, 10)\n",
      "x_batch.shape : (100, 784), y_batch.shape : (100, 10)\n",
      "x_batch.shape : (100, 784), y_batch.shape : (100, 10)\n",
      "x_batch.shape : (100, 784), y_batch.shape : (100, 10)\n",
      "x_batch.shape : (100, 784), y_batch.shape : (100, 10)\n",
      "x_batch.shape : (100, 784), y_batch.shape : (100, 10)\n",
      "x_batch.shape : (100, 784), y_batch.shape : (100, 10)\n",
      "x_batch.shape : (100, 784), y_batch.shape : (100, 10)\n",
      "x_batch.shape : (100, 784), y_batch.shape : (100, 10)\n",
      "x_batch.shape : (100, 784), y_batch.shape : (100, 10)\n",
      "x_batch.shape : (100, 784), y_batch.shape : (100, 10)\n",
      "x_batch.shape : (100, 784), y_batch.shape : (100, 10)\n",
      "x_batch.shape : (100, 784), y_batch.shape : (100, 10)\n",
      "x_batch.shape : (100, 784), y_batch.shape : (100, 10)\n",
      "x_batch.shape : (100, 784), y_batch.shape : (100, 10)\n",
      "x_batch.shape : (100, 784), y_batch.shape : (100, 10)\n",
      "x_batch.shape : (100, 784), y_batch.shape : (100, 10)\n",
      "x_batch.shape : (100, 784), y_batch.shape : (100, 10)\n",
      "x_batch.shape : (100, 784), y_batch.shape : (100, 10)\n",
      "x_batch.shape : (100, 784), y_batch.shape : (100, 10)\n",
      "x_batch.shape : (100, 784), y_batch.shape : (100, 10)\n",
      "x_batch.shape : (100, 784), y_batch.shape : (100, 10)\n",
      "x_batch.shape : (100, 784), y_batch.shape : (100, 10)\n",
      "x_batch.shape : (100, 784), y_batch.shape : (100, 10)\n",
      "x_batch.shape : (100, 784), y_batch.shape : (100, 10)\n",
      "x_batch.shape : (100, 784), y_batch.shape : (100, 10)\n",
      "x_batch.shape : (100, 784), y_batch.shape : (100, 10)\n",
      "x_batch.shape : (100, 784), y_batch.shape : (100, 10)\n",
      "x_batch.shape : (100, 784), y_batch.shape : (100, 10)\n",
      "x_batch.shape : (100, 784), y_batch.shape : (100, 10)\n",
      "x_batch.shape : (100, 784), y_batch.shape : (100, 10)\n",
      "x_batch.shape : (100, 784), y_batch.shape : (100, 10)\n",
      "x_batch.shape : (100, 784), y_batch.shape : (100, 10)\n",
      "x_batch.shape : (100, 784), y_batch.shape : (100, 10)\n",
      "x_batch.shape : (100, 784), y_batch.shape : (100, 10)\n",
      "x_batch.shape : (100, 784), y_batch.shape : (100, 10)\n",
      "x_batch.shape : (100, 784), y_batch.shape : (100, 10)\n",
      "x_batch.shape : (100, 784), y_batch.shape : (100, 10)\n",
      "x_batch.shape : (100, 784), y_batch.shape : (100, 10)\n",
      "x_batch.shape : (100, 784), y_batch.shape : (100, 10)\n",
      "x_batch.shape : (100, 784), y_batch.shape : (100, 10)\n",
      "x_batch.shape : (100, 784), y_batch.shape : (100, 10)\n",
      "x_batch.shape : (100, 784), y_batch.shape : (100, 10)\n",
      "x_batch.shape : (100, 784), y_batch.shape : (100, 10)\n",
      "x_batch.shape : (100, 784), y_batch.shape : (100, 10)\n",
      "x_batch.shape : (100, 784), y_batch.shape : (100, 10)\n",
      "x_batch.shape : (100, 784), y_batch.shape : (100, 10)\n",
      "x_batch.shape : (100, 784), y_batch.shape : (100, 10)\n",
      "x_batch.shape : (100, 784), y_batch.shape : (100, 10)\n",
      "x_batch.shape : (100, 784), y_batch.shape : (100, 10)\n",
      "x_batch.shape : (100, 784), y_batch.shape : (100, 10)\n",
      "x_batch.shape : (100, 784), y_batch.shape : (100, 10)\n",
      "x_batch.shape : (100, 784), y_batch.shape : (100, 10)\n",
      "x_batch.shape : (100, 784), y_batch.shape : (100, 10)\n",
      "x_batch.shape : (100, 784), y_batch.shape : (100, 10)\n",
      "x_batch.shape : (100, 784), y_batch.shape : (100, 10)\n",
      "x_batch.shape : (100, 784), y_batch.shape : (100, 10)\n",
      "x_batch.shape : (100, 784), y_batch.shape : (100, 10)\n",
      "x_batch.shape : (100, 784), y_batch.shape : (100, 10)\n",
      "x_batch.shape : (100, 784), y_batch.shape : (100, 10)\n",
      "x_batch.shape : (100, 784), y_batch.shape : (100, 10)\n",
      "x_batch.shape : (100, 784), y_batch.shape : (100, 10)\n",
      "x_batch.shape : (100, 784), y_batch.shape : (100, 10)\n",
      "x_batch.shape : (100, 784), y_batch.shape : (100, 10)\n",
      "x_batch.shape : (100, 784), y_batch.shape : (100, 10)\n",
      "x_batch.shape : (100, 784), y_batch.shape : (100, 10)\n",
      "x_batch.shape : (100, 784), y_batch.shape : (100, 10)\n",
      "x_batch.shape : (100, 784), y_batch.shape : (100, 10)\n",
      "x_batch.shape : (100, 784), y_batch.shape : (100, 10)\n",
      "x_batch.shape : (100, 784), y_batch.shape : (100, 10)\n",
      "x_batch.shape : (100, 784), y_batch.shape : (100, 10)\n",
      "x_batch.shape : (100, 784), y_batch.shape : (100, 10)\n",
      "x_batch.shape : (100, 784), y_batch.shape : (100, 10)\n",
      "x_batch.shape : (100, 784), y_batch.shape : (100, 10)\n",
      "x_batch.shape : (100, 784), y_batch.shape : (100, 10)\n",
      "x_batch.shape : (100, 784), y_batch.shape : (100, 10)\n",
      "x_batch.shape : (100, 784), y_batch.shape : (100, 10)\n",
      "x_batch.shape : (100, 784), y_batch.shape : (100, 10)\n",
      "x_batch.shape : (100, 784), y_batch.shape : (100, 10)\n",
      "x_batch.shape : (100, 784), y_batch.shape : (100, 10)\n",
      "x_batch.shape : (100, 784), y_batch.shape : (100, 10)\n",
      "x_batch.shape : (100, 784), y_batch.shape : (100, 10)\n",
      "x_batch.shape : (100, 784), y_batch.shape : (100, 10)\n",
      "x_batch.shape : (100, 784), y_batch.shape : (100, 10)\n",
      "x_batch.shape : (100, 784), y_batch.shape : (100, 10)\n",
      "x_batch.shape : (100, 784), y_batch.shape : (100, 10)\n",
      "x_batch.shape : (100, 784), y_batch.shape : (100, 10)\n",
      "x_batch.shape : (100, 784), y_batch.shape : (100, 10)\n",
      "x_batch.shape : (100, 784), y_batch.shape : (100, 10)\n",
      "x_batch.shape : (100, 784), y_batch.shape : (100, 10)\n",
      "x_batch.shape : (100, 784), y_batch.shape : (100, 10)\n",
      "x_batch.shape : (100, 784), y_batch.shape : (100, 10)\n",
      "x_batch.shape : (100, 784), y_batch.shape : (100, 10)\n",
      "x_batch.shape : (100, 784), y_batch.shape : (100, 10)\n",
      "x_batch.shape : (100, 784), y_batch.shape : (100, 10)\n",
      "x_batch.shape : (100, 784), y_batch.shape : (100, 10)\n",
      "x_batch.shape : (100, 784), y_batch.shape : (100, 10)\n",
      "x_batch.shape : (100, 784), y_batch.shape : (100, 10)\n",
      "x_batch.shape : (100, 784), y_batch.shape : (100, 10)\n",
      "x_batch.shape : (100, 784), y_batch.shape : (100, 10)\n",
      "x_batch.shape : (100, 784), y_batch.shape : (100, 10)\n",
      "x_batch.shape : (100, 784), y_batch.shape : (100, 10)\n",
      "x_batch.shape : (100, 784), y_batch.shape : (100, 10)\n",
      "x_batch.shape : (100, 784), y_batch.shape : (100, 10)\n",
      "x_batch.shape : (100, 784), y_batch.shape : (100, 10)\n",
      "x_batch.shape : (100, 784), y_batch.shape : (100, 10)\n",
      "x_batch.shape : (100, 784), y_batch.shape : (100, 10)\n",
      "x_batch.shape : (100, 784), y_batch.shape : (100, 10)\n",
      "x_batch.shape : (100, 784), y_batch.shape : (100, 10)\n",
      "x_batch.shape : (100, 784), y_batch.shape : (100, 10)\n",
      "x_batch.shape : (100, 784), y_batch.shape : (100, 10)\n",
      "x_batch.shape : (100, 784), y_batch.shape : (100, 10)\n",
      "x_batch.shape : (100, 784), y_batch.shape : (100, 10)\n",
      "x_batch.shape : (100, 784), y_batch.shape : (100, 10)\n",
      "x_batch.shape : (100, 784), y_batch.shape : (100, 10)\n",
      "x_batch.shape : (100, 784), y_batch.shape : (100, 10)\n",
      "x_batch.shape : (100, 784), y_batch.shape : (100, 10)\n",
      "x_batch.shape : (100, 784), y_batch.shape : (100, 10)\n",
      "x_batch.shape : (100, 784), y_batch.shape : (100, 10)\n",
      "x_batch.shape : (100, 784), y_batch.shape : (100, 10)\n",
      "x_batch.shape : (100, 784), y_batch.shape : (100, 10)\n",
      "x_batch.shape : (100, 784), y_batch.shape : (100, 10)\n",
      "x_batch.shape : (100, 784), y_batch.shape : (100, 10)\n",
      "x_batch.shape : (100, 784), y_batch.shape : (100, 10)\n",
      "x_batch.shape : (100, 784), y_batch.shape : (100, 10)\n",
      "x_batch.shape : (100, 784), y_batch.shape : (100, 10)\n",
      "x_batch.shape : (100, 784), y_batch.shape : (100, 10)\n",
      "x_batch.shape : (100, 784), y_batch.shape : (100, 10)\n",
      "x_batch.shape : (100, 784), y_batch.shape : (100, 10)\n",
      "x_batch.shape : (100, 784), y_batch.shape : (100, 10)\n",
      "x_batch.shape : (100, 784), y_batch.shape : (100, 10)\n",
      "x_batch.shape : (100, 784), y_batch.shape : (100, 10)\n",
      "x_batch.shape : (100, 784), y_batch.shape : (100, 10)\n",
      "x_batch.shape : (100, 784), y_batch.shape : (100, 10)\n",
      "x_batch.shape : (100, 784), y_batch.shape : (100, 10)\n",
      "x_batch.shape : (100, 784), y_batch.shape : (100, 10)\n",
      "x_batch.shape : (100, 784), y_batch.shape : (100, 10)\n",
      "x_batch.shape : (100, 784), y_batch.shape : (100, 10)\n",
      "x_batch.shape : (100, 784), y_batch.shape : (100, 10)\n"
     ]
    },
    {
     "name": "stdout",
     "output_type": "stream",
     "text": [
      "x_batch.shape : (100, 784), y_batch.shape : (100, 10)\n",
      "x_batch.shape : (100, 784), y_batch.shape : (100, 10)\n",
      "x_batch.shape : (100, 784), y_batch.shape : (100, 10)\n",
      "x_batch.shape : (100, 784), y_batch.shape : (100, 10)\n",
      "x_batch.shape : (100, 784), y_batch.shape : (100, 10)\n",
      "x_batch.shape : (100, 784), y_batch.shape : (100, 10)\n",
      "x_batch.shape : (100, 784), y_batch.shape : (100, 10)\n",
      "x_batch.shape : (100, 784), y_batch.shape : (100, 10)\n",
      "x_batch.shape : (100, 784), y_batch.shape : (100, 10)\n",
      "x_batch.shape : (100, 784), y_batch.shape : (100, 10)\n",
      "x_batch.shape : (100, 784), y_batch.shape : (100, 10)\n",
      "x_batch.shape : (100, 784), y_batch.shape : (100, 10)\n",
      "x_batch.shape : (100, 784), y_batch.shape : (100, 10)\n",
      "x_batch.shape : (100, 784), y_batch.shape : (100, 10)\n",
      "x_batch.shape : (100, 784), y_batch.shape : (100, 10)\n",
      "x_batch.shape : (100, 784), y_batch.shape : (100, 10)\n",
      "x_batch.shape : (100, 784), y_batch.shape : (100, 10)\n",
      "x_batch.shape : (100, 784), y_batch.shape : (100, 10)\n",
      "x_batch.shape : (100, 784), y_batch.shape : (100, 10)\n",
      "x_batch.shape : (100, 784), y_batch.shape : (100, 10)\n",
      "x_batch.shape : (100, 784), y_batch.shape : (100, 10)\n",
      "x_batch.shape : (100, 784), y_batch.shape : (100, 10)\n",
      "x_batch.shape : (100, 784), y_batch.shape : (100, 10)\n",
      "x_batch.shape : (100, 784), y_batch.shape : (100, 10)\n",
      "x_batch.shape : (100, 784), y_batch.shape : (100, 10)\n",
      "x_batch.shape : (100, 784), y_batch.shape : (100, 10)\n",
      "x_batch.shape : (100, 784), y_batch.shape : (100, 10)\n",
      "x_batch.shape : (100, 784), y_batch.shape : (100, 10)\n",
      "x_batch.shape : (100, 784), y_batch.shape : (100, 10)\n",
      "x_batch.shape : (100, 784), y_batch.shape : (100, 10)\n",
      "x_batch.shape : (100, 784), y_batch.shape : (100, 10)\n",
      "x_batch.shape : (100, 784), y_batch.shape : (100, 10)\n",
      "x_batch.shape : (100, 784), y_batch.shape : (100, 10)\n",
      "x_batch.shape : (100, 784), y_batch.shape : (100, 10)\n",
      "x_batch.shape : (100, 784), y_batch.shape : (100, 10)\n",
      "x_batch.shape : (100, 784), y_batch.shape : (100, 10)\n",
      "x_batch.shape : (100, 784), y_batch.shape : (100, 10)\n",
      "x_batch.shape : (100, 784), y_batch.shape : (100, 10)\n",
      "x_batch.shape : (100, 784), y_batch.shape : (100, 10)\n",
      "x_batch.shape : (100, 784), y_batch.shape : (100, 10)\n",
      "x_batch.shape : (100, 784), y_batch.shape : (100, 10)\n",
      "x_batch.shape : (100, 784), y_batch.shape : (100, 10)\n",
      "x_batch.shape : (100, 784), y_batch.shape : (100, 10)\n",
      "x_batch.shape : (100, 784), y_batch.shape : (100, 10)\n",
      "x_batch.shape : (100, 784), y_batch.shape : (100, 10)\n",
      "x_batch.shape : (100, 784), y_batch.shape : (100, 10)\n",
      "x_batch.shape : (100, 784), y_batch.shape : (100, 10)\n",
      "x_batch.shape : (100, 784), y_batch.shape : (100, 10)\n",
      "x_batch.shape : (100, 784), y_batch.shape : (100, 10)\n",
      "x_batch.shape : (100, 784), y_batch.shape : (100, 10)\n",
      "x_batch.shape : (100, 784), y_batch.shape : (100, 10)\n",
      "x_batch.shape : (100, 784), y_batch.shape : (100, 10)\n",
      "x_batch.shape : (100, 784), y_batch.shape : (100, 10)\n",
      "x_batch.shape : (100, 784), y_batch.shape : (100, 10)\n",
      "x_batch.shape : (100, 784), y_batch.shape : (100, 10)\n",
      "x_batch.shape : (100, 784), y_batch.shape : (100, 10)\n",
      "x_batch.shape : (100, 784), y_batch.shape : (100, 10)\n",
      "x_batch.shape : (100, 784), y_batch.shape : (100, 10)\n",
      "x_batch.shape : (100, 784), y_batch.shape : (100, 10)\n",
      "x_batch.shape : (100, 784), y_batch.shape : (100, 10)\n",
      "x_batch.shape : (100, 784), y_batch.shape : (100, 10)\n",
      "x_batch.shape : (100, 784), y_batch.shape : (100, 10)\n",
      "x_batch.shape : (100, 784), y_batch.shape : (100, 10)\n",
      "x_batch.shape : (100, 784), y_batch.shape : (100, 10)\n",
      "x_batch.shape : (100, 784), y_batch.shape : (100, 10)\n",
      "x_batch.shape : (100, 784), y_batch.shape : (100, 10)\n",
      "x_batch.shape : (100, 784), y_batch.shape : (100, 10)\n",
      "x_batch.shape : (100, 784), y_batch.shape : (100, 10)\n",
      "x_batch.shape : (100, 784), y_batch.shape : (100, 10)\n",
      "x_batch.shape : (100, 784), y_batch.shape : (100, 10)\n",
      "x_batch.shape : (100, 784), y_batch.shape : (100, 10)\n",
      "x_batch.shape : (100, 784), y_batch.shape : (100, 10)\n",
      "x_batch.shape : (100, 784), y_batch.shape : (100, 10)\n",
      "x_batch.shape : (100, 784), y_batch.shape : (100, 10)\n",
      "x_batch.shape : (100, 784), y_batch.shape : (100, 10)\n",
      "x_batch.shape : (100, 784), y_batch.shape : (100, 10)\n",
      "x_batch.shape : (100, 784), y_batch.shape : (100, 10)\n",
      "x_batch.shape : (100, 784), y_batch.shape : (100, 10)\n",
      "x_batch.shape : (100, 784), y_batch.shape : (100, 10)\n",
      "x_batch.shape : (100, 784), y_batch.shape : (100, 10)\n",
      "x_batch.shape : (100, 784), y_batch.shape : (100, 10)\n",
      "x_batch.shape : (100, 784), y_batch.shape : (100, 10)\n",
      "x_batch.shape : (100, 784), y_batch.shape : (100, 10)\n",
      "x_batch.shape : (100, 784), y_batch.shape : (100, 10)\n",
      "x_batch.shape : (100, 784), y_batch.shape : (100, 10)\n",
      "x_batch.shape : (100, 784), y_batch.shape : (100, 10)\n",
      "x_batch.shape : (100, 784), y_batch.shape : (100, 10)\n",
      "x_batch.shape : (100, 784), y_batch.shape : (100, 10)\n",
      "x_batch.shape : (100, 784), y_batch.shape : (100, 10)\n",
      "x_batch.shape : (100, 784), y_batch.shape : (100, 10)\n",
      "x_batch.shape : (100, 784), y_batch.shape : (100, 10)\n",
      "x_batch.shape : (100, 784), y_batch.shape : (100, 10)\n",
      "x_batch.shape : (100, 784), y_batch.shape : (100, 10)\n",
      "x_batch.shape : (100, 784), y_batch.shape : (100, 10)\n",
      "x_batch.shape : (100, 784), y_batch.shape : (100, 10)\n",
      "x_batch.shape : (100, 784), y_batch.shape : (100, 10)\n",
      "x_batch.shape : (100, 784), y_batch.shape : (100, 10)\n",
      "x_batch.shape : (100, 784), y_batch.shape : (100, 10)\n",
      "x_batch.shape : (100, 784), y_batch.shape : (100, 10)\n",
      "x_batch.shape : (100, 784), y_batch.shape : (100, 10)\n",
      "x_batch.shape : (100, 784), y_batch.shape : (100, 10)\n",
      "x_batch.shape : (100, 784), y_batch.shape : (100, 10)\n",
      "x_batch.shape : (100, 784), y_batch.shape : (100, 10)\n",
      "x_batch.shape : (100, 784), y_batch.shape : (100, 10)\n",
      "x_batch.shape : (100, 784), y_batch.shape : (100, 10)\n",
      "x_batch.shape : (100, 784), y_batch.shape : (100, 10)\n",
      "x_batch.shape : (100, 784), y_batch.shape : (100, 10)\n",
      "x_batch.shape : (100, 784), y_batch.shape : (100, 10)\n",
      "x_batch.shape : (100, 784), y_batch.shape : (100, 10)\n",
      "x_batch.shape : (100, 784), y_batch.shape : (100, 10)\n",
      "x_batch.shape : (100, 784), y_batch.shape : (100, 10)\n",
      "x_batch.shape : (100, 784), y_batch.shape : (100, 10)\n",
      "x_batch.shape : (100, 784), y_batch.shape : (100, 10)\n",
      "x_batch.shape : (100, 784), y_batch.shape : (100, 10)\n",
      "x_batch.shape : (100, 784), y_batch.shape : (100, 10)\n",
      "x_batch.shape : (100, 784), y_batch.shape : (100, 10)\n",
      "x_batch.shape : (100, 784), y_batch.shape : (100, 10)\n",
      "x_batch.shape : (100, 784), y_batch.shape : (100, 10)\n",
      "x_batch.shape : (100, 784), y_batch.shape : (100, 10)\n",
      "x_batch.shape : (100, 784), y_batch.shape : (100, 10)\n",
      "x_batch.shape : (100, 784), y_batch.shape : (100, 10)\n",
      "x_batch.shape : (100, 784), y_batch.shape : (100, 10)\n",
      "x_batch.shape : (100, 784), y_batch.shape : (100, 10)\n",
      "x_batch.shape : (100, 784), y_batch.shape : (100, 10)\n",
      "x_batch.shape : (100, 784), y_batch.shape : (100, 10)\n",
      "x_batch.shape : (100, 784), y_batch.shape : (100, 10)\n",
      "x_batch.shape : (100, 784), y_batch.shape : (100, 10)\n",
      "x_batch.shape : (100, 784), y_batch.shape : (100, 10)\n",
      "x_batch.shape : (100, 784), y_batch.shape : (100, 10)\n",
      "x_batch.shape : (100, 784), y_batch.shape : (100, 10)\n",
      "x_batch.shape : (100, 784), y_batch.shape : (100, 10)\n",
      "x_batch.shape : (100, 784), y_batch.shape : (100, 10)\n",
      "x_batch.shape : (100, 784), y_batch.shape : (100, 10)\n",
      "x_batch.shape : (100, 784), y_batch.shape : (100, 10)\n",
      "x_batch.shape : (100, 784), y_batch.shape : (100, 10)\n",
      "x_batch.shape : (100, 784), y_batch.shape : (100, 10)\n",
      "x_batch.shape : (100, 784), y_batch.shape : (100, 10)\n",
      "x_batch.shape : (100, 784), y_batch.shape : (100, 10)\n",
      "x_batch.shape : (100, 784), y_batch.shape : (100, 10)\n",
      "x_batch.shape : (100, 784), y_batch.shape : (100, 10)\n",
      "x_batch.shape : (100, 784), y_batch.shape : (100, 10)\n",
      "x_batch.shape : (100, 784), y_batch.shape : (100, 10)\n",
      "x_batch.shape : (100, 784), y_batch.shape : (100, 10)\n",
      "x_batch.shape : (100, 784), y_batch.shape : (100, 10)\n",
      "x_batch.shape : (100, 784), y_batch.shape : (100, 10)\n",
      "x_batch.shape : (100, 784), y_batch.shape : (100, 10)\n",
      "x_batch.shape : (100, 784), y_batch.shape : (100, 10)\n",
      "x_batch.shape : (100, 784), y_batch.shape : (100, 10)\n",
      "x_batch.shape : (100, 784), y_batch.shape : (100, 10)\n",
      "x_batch.shape : (100, 784), y_batch.shape : (100, 10)\n",
      "x_batch.shape : (100, 784), y_batch.shape : (100, 10)\n",
      "x_batch.shape : (100, 784), y_batch.shape : (100, 10)\n"
     ]
    },
    {
     "name": "stdout",
     "output_type": "stream",
     "text": [
      "x_batch.shape : (100, 784), y_batch.shape : (100, 10)\n",
      "x_batch.shape : (100, 784), y_batch.shape : (100, 10)\n",
      "x_batch.shape : (100, 784), y_batch.shape : (100, 10)\n",
      "x_batch.shape : (100, 784), y_batch.shape : (100, 10)\n",
      "x_batch.shape : (100, 784), y_batch.shape : (100, 10)\n",
      "x_batch.shape : (100, 784), y_batch.shape : (100, 10)\n",
      "x_batch.shape : (100, 784), y_batch.shape : (100, 10)\n",
      "x_batch.shape : (100, 784), y_batch.shape : (100, 10)\n",
      "x_batch.shape : (100, 784), y_batch.shape : (100, 10)\n",
      "x_batch.shape : (100, 784), y_batch.shape : (100, 10)\n",
      "x_batch.shape : (100, 784), y_batch.shape : (100, 10)\n",
      "x_batch.shape : (100, 784), y_batch.shape : (100, 10)\n",
      "x_batch.shape : (100, 784), y_batch.shape : (100, 10)\n",
      "x_batch.shape : (100, 784), y_batch.shape : (100, 10)\n",
      "x_batch.shape : (100, 784), y_batch.shape : (100, 10)\n",
      "x_batch.shape : (100, 784), y_batch.shape : (100, 10)\n",
      "x_batch.shape : (100, 784), y_batch.shape : (100, 10)\n",
      "x_batch.shape : (100, 784), y_batch.shape : (100, 10)\n",
      "x_batch.shape : (100, 784), y_batch.shape : (100, 10)\n",
      "x_batch.shape : (100, 784), y_batch.shape : (100, 10)\n",
      "x_batch.shape : (100, 784), y_batch.shape : (100, 10)\n",
      "x_batch.shape : (100, 784), y_batch.shape : (100, 10)\n",
      "x_batch.shape : (100, 784), y_batch.shape : (100, 10)\n",
      "x_batch.shape : (100, 784), y_batch.shape : (100, 10)\n",
      "x_batch.shape : (100, 784), y_batch.shape : (100, 10)\n",
      "x_batch.shape : (100, 784), y_batch.shape : (100, 10)\n",
      "x_batch.shape : (100, 784), y_batch.shape : (100, 10)\n",
      "x_batch.shape : (100, 784), y_batch.shape : (100, 10)\n",
      "x_batch.shape : (100, 784), y_batch.shape : (100, 10)\n",
      "x_batch.shape : (100, 784), y_batch.shape : (100, 10)\n",
      "x_batch.shape : (100, 784), y_batch.shape : (100, 10)\n"
     ]
    },
    {
     "ename": "InvalidArgumentError",
     "evalue": "Incompatible shapes: [770] vs. [100]\n\t [[node Equal_421 (defined at <ipython-input-612-39f88d6da513>:105)  = Equal[T=DT_INT64, _device=\"/job:localhost/replica:0/task:0/device:GPU:0\"](ArgMax_842, ArgMax_843)]]\n\nCaused by op 'Equal_421', defined at:\n  File \"C:\\ProgramData\\Anaconda3\\envs\\gpu_env\\lib\\runpy.py\", line 193, in _run_module_as_main\n    \"__main__\", mod_spec)\n  File \"C:\\ProgramData\\Anaconda3\\envs\\gpu_env\\lib\\runpy.py\", line 85, in _run_code\n    exec(code, run_globals)\n  File \"C:\\ProgramData\\Anaconda3\\envs\\gpu_env\\lib\\site-packages\\ipykernel_launcher.py\", line 16, in <module>\n    app.launch_new_instance()\n  File \"C:\\ProgramData\\Anaconda3\\envs\\gpu_env\\lib\\site-packages\\traitlets\\config\\application.py\", line 658, in launch_instance\n    app.start()\n  File \"C:\\ProgramData\\Anaconda3\\envs\\gpu_env\\lib\\site-packages\\ipykernel\\kernelapp.py\", line 505, in start\n    self.io_loop.start()\n  File \"C:\\ProgramData\\Anaconda3\\envs\\gpu_env\\lib\\site-packages\\tornado\\platform\\asyncio.py\", line 132, in start\n    self.asyncio_loop.run_forever()\n  File \"C:\\ProgramData\\Anaconda3\\envs\\gpu_env\\lib\\asyncio\\base_events.py\", line 438, in run_forever\n    self._run_once()\n  File \"C:\\ProgramData\\Anaconda3\\envs\\gpu_env\\lib\\asyncio\\base_events.py\", line 1451, in _run_once\n    handle._run()\n  File \"C:\\ProgramData\\Anaconda3\\envs\\gpu_env\\lib\\asyncio\\events.py\", line 145, in _run\n    self._callback(*self._args)\n  File \"C:\\ProgramData\\Anaconda3\\envs\\gpu_env\\lib\\site-packages\\tornado\\ioloop.py\", line 758, in _run_callback\n    ret = callback()\n  File \"C:\\ProgramData\\Anaconda3\\envs\\gpu_env\\lib\\site-packages\\tornado\\stack_context.py\", line 300, in null_wrapper\n    return fn(*args, **kwargs)\n  File \"C:\\ProgramData\\Anaconda3\\envs\\gpu_env\\lib\\site-packages\\tornado\\gen.py\", line 1233, in inner\n    self.run()\n  File \"C:\\ProgramData\\Anaconda3\\envs\\gpu_env\\lib\\site-packages\\tornado\\gen.py\", line 1147, in run\n    yielded = self.gen.send(value)\n  File \"C:\\ProgramData\\Anaconda3\\envs\\gpu_env\\lib\\site-packages\\ipykernel\\kernelbase.py\", line 357, in process_one\n    yield gen.maybe_future(dispatch(*args))\n  File \"C:\\ProgramData\\Anaconda3\\envs\\gpu_env\\lib\\site-packages\\tornado\\gen.py\", line 326, in wrapper\n    yielded = next(result)\n  File \"C:\\ProgramData\\Anaconda3\\envs\\gpu_env\\lib\\site-packages\\ipykernel\\kernelbase.py\", line 267, in dispatch_shell\n    yield gen.maybe_future(handler(stream, idents, msg))\n  File \"C:\\ProgramData\\Anaconda3\\envs\\gpu_env\\lib\\site-packages\\tornado\\gen.py\", line 326, in wrapper\n    yielded = next(result)\n  File \"C:\\ProgramData\\Anaconda3\\envs\\gpu_env\\lib\\site-packages\\ipykernel\\kernelbase.py\", line 534, in execute_request\n    user_expressions, allow_stdin,\n  File \"C:\\ProgramData\\Anaconda3\\envs\\gpu_env\\lib\\site-packages\\tornado\\gen.py\", line 326, in wrapper\n    yielded = next(result)\n  File \"C:\\ProgramData\\Anaconda3\\envs\\gpu_env\\lib\\site-packages\\ipykernel\\ipkernel.py\", line 294, in do_execute\n    res = shell.run_cell(code, store_history=store_history, silent=silent)\n  File \"C:\\ProgramData\\Anaconda3\\envs\\gpu_env\\lib\\site-packages\\ipykernel\\zmqshell.py\", line 536, in run_cell\n    return super(ZMQInteractiveShell, self).run_cell(*args, **kwargs)\n  File \"C:\\ProgramData\\Anaconda3\\envs\\gpu_env\\lib\\site-packages\\IPython\\core\\interactiveshell.py\", line 2843, in run_cell\n    raw_cell, store_history, silent, shell_futures)\n  File \"C:\\ProgramData\\Anaconda3\\envs\\gpu_env\\lib\\site-packages\\IPython\\core\\interactiveshell.py\", line 2869, in _run_cell\n    return runner(coro)\n  File \"C:\\ProgramData\\Anaconda3\\envs\\gpu_env\\lib\\site-packages\\IPython\\core\\async_helpers.py\", line 67, in _pseudo_sync_runner\n    coro.send(None)\n  File \"C:\\ProgramData\\Anaconda3\\envs\\gpu_env\\lib\\site-packages\\IPython\\core\\interactiveshell.py\", line 3044, in run_cell_async\n    interactivity=interactivity, compiler=compiler, result=result)\n  File \"C:\\ProgramData\\Anaconda3\\envs\\gpu_env\\lib\\site-packages\\IPython\\core\\interactiveshell.py\", line 3215, in run_ast_nodes\n    if (yield from self.run_code(code, result)):\n  File \"C:\\ProgramData\\Anaconda3\\envs\\gpu_env\\lib\\site-packages\\IPython\\core\\interactiveshell.py\", line 3291, in run_code\n    exec(code_obj, self.user_global_ns, self.user_ns)\n  File \"<ipython-input-615-35249c4fd9a3>\", line 5, in <module>\n    cnn_test.batch_test_wl(sum_hypothesis[1:],100, x_train_data, y_train_data)\n  File \"<ipython-input-612-39f88d6da513>\", line 105, in batch_test_wl\n    correct = tf.equal(predict, tf.argmax(self.Y, axis = 1))\n  File \"C:\\ProgramData\\Anaconda3\\envs\\gpu_env\\lib\\site-packages\\tensorflow\\python\\ops\\gen_math_ops.py\", line 2734, in equal\n    \"Equal\", x=x, y=y, name=name)\n  File \"C:\\ProgramData\\Anaconda3\\envs\\gpu_env\\lib\\site-packages\\tensorflow\\python\\framework\\op_def_library.py\", line 787, in _apply_op_helper\n    op_def=op_def)\n  File \"C:\\ProgramData\\Anaconda3\\envs\\gpu_env\\lib\\site-packages\\tensorflow\\python\\util\\deprecation.py\", line 488, in new_func\n    return func(*args, **kwargs)\n  File \"C:\\ProgramData\\Anaconda3\\envs\\gpu_env\\lib\\site-packages\\tensorflow\\python\\framework\\ops.py\", line 3274, in create_op\n    op_def=op_def)\n  File \"C:\\ProgramData\\Anaconda3\\envs\\gpu_env\\lib\\site-packages\\tensorflow\\python\\framework\\ops.py\", line 1770, in __init__\n    self._traceback = tf_stack.extract_stack()\n\nInvalidArgumentError (see above for traceback): Incompatible shapes: [770] vs. [100]\n\t [[node Equal_421 (defined at <ipython-input-612-39f88d6da513>:105)  = Equal[T=DT_INT64, _device=\"/job:localhost/replica:0/task:0/device:GPU:0\"](ArgMax_842, ArgMax_843)]]\n",
     "output_type": "error",
     "traceback": [
      "\u001b[1;31m---------------------------------------------------------------------------\u001b[0m",
      "\u001b[1;31mInvalidArgumentError\u001b[0m                      Traceback (most recent call last)",
      "\u001b[1;32mC:\\ProgramData\\Anaconda3\\envs\\gpu_env\\lib\\site-packages\\tensorflow\\python\\client\\session.py\u001b[0m in \u001b[0;36m_do_call\u001b[1;34m(self, fn, *args)\u001b[0m\n\u001b[0;32m   1333\u001b[0m     \u001b[1;32mtry\u001b[0m\u001b[1;33m:\u001b[0m\u001b[1;33m\u001b[0m\u001b[1;33m\u001b[0m\u001b[0m\n\u001b[1;32m-> 1334\u001b[1;33m       \u001b[1;32mreturn\u001b[0m \u001b[0mfn\u001b[0m\u001b[1;33m(\u001b[0m\u001b[1;33m*\u001b[0m\u001b[0margs\u001b[0m\u001b[1;33m)\u001b[0m\u001b[1;33m\u001b[0m\u001b[1;33m\u001b[0m\u001b[0m\n\u001b[0m\u001b[0;32m   1335\u001b[0m     \u001b[1;32mexcept\u001b[0m \u001b[0merrors\u001b[0m\u001b[1;33m.\u001b[0m\u001b[0mOpError\u001b[0m \u001b[1;32mas\u001b[0m \u001b[0me\u001b[0m\u001b[1;33m:\u001b[0m\u001b[1;33m\u001b[0m\u001b[1;33m\u001b[0m\u001b[0m\n",
      "\u001b[1;32mC:\\ProgramData\\Anaconda3\\envs\\gpu_env\\lib\\site-packages\\tensorflow\\python\\client\\session.py\u001b[0m in \u001b[0;36m_run_fn\u001b[1;34m(feed_dict, fetch_list, target_list, options, run_metadata)\u001b[0m\n\u001b[0;32m   1318\u001b[0m       return self._call_tf_sessionrun(\n\u001b[1;32m-> 1319\u001b[1;33m           options, feed_dict, fetch_list, target_list, run_metadata)\n\u001b[0m\u001b[0;32m   1320\u001b[0m \u001b[1;33m\u001b[0m\u001b[0m\n",
      "\u001b[1;32mC:\\ProgramData\\Anaconda3\\envs\\gpu_env\\lib\\site-packages\\tensorflow\\python\\client\\session.py\u001b[0m in \u001b[0;36m_call_tf_sessionrun\u001b[1;34m(self, options, feed_dict, fetch_list, target_list, run_metadata)\u001b[0m\n\u001b[0;32m   1406\u001b[0m         \u001b[0mself\u001b[0m\u001b[1;33m.\u001b[0m\u001b[0m_session\u001b[0m\u001b[1;33m,\u001b[0m \u001b[0moptions\u001b[0m\u001b[1;33m,\u001b[0m \u001b[0mfeed_dict\u001b[0m\u001b[1;33m,\u001b[0m \u001b[0mfetch_list\u001b[0m\u001b[1;33m,\u001b[0m \u001b[0mtarget_list\u001b[0m\u001b[1;33m,\u001b[0m\u001b[1;33m\u001b[0m\u001b[1;33m\u001b[0m\u001b[0m\n\u001b[1;32m-> 1407\u001b[1;33m         run_metadata)\n\u001b[0m\u001b[0;32m   1408\u001b[0m \u001b[1;33m\u001b[0m\u001b[0m\n",
      "\u001b[1;31mInvalidArgumentError\u001b[0m: Incompatible shapes: [770] vs. [100]\n\t [[{{node Equal_421}} = Equal[T=DT_INT64, _device=\"/job:localhost/replica:0/task:0/device:GPU:0\"](ArgMax_842, ArgMax_843)]]",
      "\nDuring handling of the above exception, another exception occurred:\n",
      "\u001b[1;31mInvalidArgumentError\u001b[0m                      Traceback (most recent call last)",
      "\u001b[1;32m<ipython-input-615-35249c4fd9a3>\u001b[0m in \u001b[0;36m<module>\u001b[1;34m\u001b[0m\n\u001b[0;32m      3\u001b[0m \u001b[0mcnn_test\u001b[0m \u001b[1;33m=\u001b[0m \u001b[0mCNNModel\u001b[0m\u001b[1;33m(\u001b[0m\u001b[0msess\u001b[0m\u001b[1;33m,\u001b[0m\u001b[1;34m\"cnn_test4\"\u001b[0m\u001b[1;33m)\u001b[0m\u001b[1;33m\u001b[0m\u001b[1;33m\u001b[0m\u001b[0m\n\u001b[0;32m      4\u001b[0m \u001b[0mcnn_test\u001b[0m\u001b[1;33m.\u001b[0m\u001b[0mcreate_network\u001b[0m\u001b[1;33m(\u001b[0m\u001b[1;36m784\u001b[0m\u001b[1;33m,\u001b[0m\u001b[1;36m10\u001b[0m\u001b[1;33m)\u001b[0m\u001b[1;33m\u001b[0m\u001b[1;33m\u001b[0m\u001b[0m\n\u001b[1;32m----> 5\u001b[1;33m \u001b[0mcnn_test\u001b[0m\u001b[1;33m.\u001b[0m\u001b[0mbatch_test_wl\u001b[0m\u001b[1;33m(\u001b[0m\u001b[0msum_hypothesis\u001b[0m\u001b[1;33m[\u001b[0m\u001b[1;36m1\u001b[0m\u001b[1;33m:\u001b[0m\u001b[1;33m]\u001b[0m\u001b[1;33m,\u001b[0m\u001b[1;36m100\u001b[0m\u001b[1;33m,\u001b[0m \u001b[0mx_train_data\u001b[0m\u001b[1;33m,\u001b[0m \u001b[0my_train_data\u001b[0m\u001b[1;33m)\u001b[0m\u001b[1;33m\u001b[0m\u001b[1;33m\u001b[0m\u001b[0m\n\u001b[0m",
      "\u001b[1;32m<ipython-input-612-39f88d6da513>\u001b[0m in \u001b[0;36mbatch_test_wl\u001b[1;34m(self, ensemble_sum, batch_size, param, label)\u001b[0m\n\u001b[0;32m    110\u001b[0m                 \u001b[0mx_batch\u001b[0m \u001b[1;33m=\u001b[0m \u001b[0mparam\u001b[0m\u001b[1;33m.\u001b[0m\u001b[0mloc\u001b[0m\u001b[1;33m[\u001b[0m\u001b[0mbatch_start\u001b[0m\u001b[1;33m:\u001b[0m\u001b[1;33m,\u001b[0m \u001b[1;33m:\u001b[0m\u001b[1;33m]\u001b[0m\u001b[1;33m\u001b[0m\u001b[1;33m\u001b[0m\u001b[0m\n\u001b[0;32m    111\u001b[0m                 \u001b[0my_batch\u001b[0m \u001b[1;33m=\u001b[0m \u001b[0mlabel\u001b[0m\u001b[1;33m.\u001b[0m\u001b[0mloc\u001b[0m\u001b[1;33m[\u001b[0m\u001b[0mbatch_start\u001b[0m\u001b[1;33m:\u001b[0m\u001b[1;33m,\u001b[0m \u001b[1;33m:\u001b[0m\u001b[1;33m]\u001b[0m\u001b[1;33m\u001b[0m\u001b[1;33m\u001b[0m\u001b[0m\n\u001b[1;32m--> 112\u001b[1;33m                 \u001b[0mbatch_sum\u001b[0m \u001b[1;33m=\u001b[0m \u001b[0mself\u001b[0m\u001b[1;33m.\u001b[0m\u001b[0msess\u001b[0m\u001b[1;33m.\u001b[0m\u001b[0mrun\u001b[0m\u001b[1;33m(\u001b[0m\u001b[0maccuracy\u001b[0m\u001b[1;33m,\u001b[0m \u001b[0mfeed_dict\u001b[0m\u001b[1;33m=\u001b[0m\u001b[1;33m{\u001b[0m\u001b[0mself\u001b[0m\u001b[1;33m.\u001b[0m\u001b[0mX\u001b[0m\u001b[1;33m:\u001b[0m\u001b[0mx_batch\u001b[0m\u001b[1;33m,\u001b[0m \u001b[0mself\u001b[0m\u001b[1;33m.\u001b[0m\u001b[0mY\u001b[0m\u001b[1;33m:\u001b[0m\u001b[0my_batch\u001b[0m\u001b[1;33m,\u001b[0m \u001b[0mself\u001b[0m\u001b[1;33m.\u001b[0m\u001b[0mkeep_rate\u001b[0m\u001b[1;33m:\u001b[0m\u001b[1;36m1.0\u001b[0m\u001b[1;33m}\u001b[0m\u001b[1;33m)\u001b[0m\u001b[1;33m\u001b[0m\u001b[1;33m\u001b[0m\u001b[0m\n\u001b[0m\u001b[0;32m    113\u001b[0m             \u001b[1;32melse\u001b[0m\u001b[1;33m:\u001b[0m\u001b[1;33m\u001b[0m\u001b[1;33m\u001b[0m\u001b[0m\n\u001b[0;32m    114\u001b[0m                 \u001b[0mx_batch\u001b[0m \u001b[1;33m=\u001b[0m \u001b[0mparam\u001b[0m\u001b[1;33m.\u001b[0m\u001b[0mloc\u001b[0m\u001b[1;33m[\u001b[0m\u001b[0mbatch_start\u001b[0m\u001b[1;33m:\u001b[0m\u001b[0mbatch_end\u001b[0m\u001b[1;33m-\u001b[0m\u001b[1;36m1\u001b[0m\u001b[1;33m,\u001b[0m \u001b[1;33m:\u001b[0m\u001b[1;33m]\u001b[0m\u001b[1;33m\u001b[0m\u001b[1;33m\u001b[0m\u001b[0m\n",
      "\u001b[1;32mC:\\ProgramData\\Anaconda3\\envs\\gpu_env\\lib\\site-packages\\tensorflow\\python\\client\\session.py\u001b[0m in \u001b[0;36mrun\u001b[1;34m(self, fetches, feed_dict, options, run_metadata)\u001b[0m\n\u001b[0;32m    927\u001b[0m     \u001b[1;32mtry\u001b[0m\u001b[1;33m:\u001b[0m\u001b[1;33m\u001b[0m\u001b[1;33m\u001b[0m\u001b[0m\n\u001b[0;32m    928\u001b[0m       result = self._run(None, fetches, feed_dict, options_ptr,\n\u001b[1;32m--> 929\u001b[1;33m                          run_metadata_ptr)\n\u001b[0m\u001b[0;32m    930\u001b[0m       \u001b[1;32mif\u001b[0m \u001b[0mrun_metadata\u001b[0m\u001b[1;33m:\u001b[0m\u001b[1;33m\u001b[0m\u001b[1;33m\u001b[0m\u001b[0m\n\u001b[0;32m    931\u001b[0m         \u001b[0mproto_data\u001b[0m \u001b[1;33m=\u001b[0m \u001b[0mtf_session\u001b[0m\u001b[1;33m.\u001b[0m\u001b[0mTF_GetBuffer\u001b[0m\u001b[1;33m(\u001b[0m\u001b[0mrun_metadata_ptr\u001b[0m\u001b[1;33m)\u001b[0m\u001b[1;33m\u001b[0m\u001b[1;33m\u001b[0m\u001b[0m\n",
      "\u001b[1;32mC:\\ProgramData\\Anaconda3\\envs\\gpu_env\\lib\\site-packages\\tensorflow\\python\\client\\session.py\u001b[0m in \u001b[0;36m_run\u001b[1;34m(self, handle, fetches, feed_dict, options, run_metadata)\u001b[0m\n\u001b[0;32m   1150\u001b[0m     \u001b[1;32mif\u001b[0m \u001b[0mfinal_fetches\u001b[0m \u001b[1;32mor\u001b[0m \u001b[0mfinal_targets\u001b[0m \u001b[1;32mor\u001b[0m \u001b[1;33m(\u001b[0m\u001b[0mhandle\u001b[0m \u001b[1;32mand\u001b[0m \u001b[0mfeed_dict_tensor\u001b[0m\u001b[1;33m)\u001b[0m\u001b[1;33m:\u001b[0m\u001b[1;33m\u001b[0m\u001b[1;33m\u001b[0m\u001b[0m\n\u001b[0;32m   1151\u001b[0m       results = self._do_run(handle, final_targets, final_fetches,\n\u001b[1;32m-> 1152\u001b[1;33m                              feed_dict_tensor, options, run_metadata)\n\u001b[0m\u001b[0;32m   1153\u001b[0m     \u001b[1;32melse\u001b[0m\u001b[1;33m:\u001b[0m\u001b[1;33m\u001b[0m\u001b[1;33m\u001b[0m\u001b[0m\n\u001b[0;32m   1154\u001b[0m       \u001b[0mresults\u001b[0m \u001b[1;33m=\u001b[0m \u001b[1;33m[\u001b[0m\u001b[1;33m]\u001b[0m\u001b[1;33m\u001b[0m\u001b[1;33m\u001b[0m\u001b[0m\n",
      "\u001b[1;32mC:\\ProgramData\\Anaconda3\\envs\\gpu_env\\lib\\site-packages\\tensorflow\\python\\client\\session.py\u001b[0m in \u001b[0;36m_do_run\u001b[1;34m(self, handle, target_list, fetch_list, feed_dict, options, run_metadata)\u001b[0m\n\u001b[0;32m   1326\u001b[0m     \u001b[1;32mif\u001b[0m \u001b[0mhandle\u001b[0m \u001b[1;32mis\u001b[0m \u001b[1;32mNone\u001b[0m\u001b[1;33m:\u001b[0m\u001b[1;33m\u001b[0m\u001b[1;33m\u001b[0m\u001b[0m\n\u001b[0;32m   1327\u001b[0m       return self._do_call(_run_fn, feeds, fetches, targets, options,\n\u001b[1;32m-> 1328\u001b[1;33m                            run_metadata)\n\u001b[0m\u001b[0;32m   1329\u001b[0m     \u001b[1;32melse\u001b[0m\u001b[1;33m:\u001b[0m\u001b[1;33m\u001b[0m\u001b[1;33m\u001b[0m\u001b[0m\n\u001b[0;32m   1330\u001b[0m       \u001b[1;32mreturn\u001b[0m \u001b[0mself\u001b[0m\u001b[1;33m.\u001b[0m\u001b[0m_do_call\u001b[0m\u001b[1;33m(\u001b[0m\u001b[0m_prun_fn\u001b[0m\u001b[1;33m,\u001b[0m \u001b[0mhandle\u001b[0m\u001b[1;33m,\u001b[0m \u001b[0mfeeds\u001b[0m\u001b[1;33m,\u001b[0m \u001b[0mfetches\u001b[0m\u001b[1;33m)\u001b[0m\u001b[1;33m\u001b[0m\u001b[1;33m\u001b[0m\u001b[0m\n",
      "\u001b[1;32mC:\\ProgramData\\Anaconda3\\envs\\gpu_env\\lib\\site-packages\\tensorflow\\python\\client\\session.py\u001b[0m in \u001b[0;36m_do_call\u001b[1;34m(self, fn, *args)\u001b[0m\n\u001b[0;32m   1346\u001b[0m           \u001b[1;32mpass\u001b[0m\u001b[1;33m\u001b[0m\u001b[1;33m\u001b[0m\u001b[0m\n\u001b[0;32m   1347\u001b[0m       \u001b[0mmessage\u001b[0m \u001b[1;33m=\u001b[0m \u001b[0merror_interpolation\u001b[0m\u001b[1;33m.\u001b[0m\u001b[0minterpolate\u001b[0m\u001b[1;33m(\u001b[0m\u001b[0mmessage\u001b[0m\u001b[1;33m,\u001b[0m \u001b[0mself\u001b[0m\u001b[1;33m.\u001b[0m\u001b[0m_graph\u001b[0m\u001b[1;33m)\u001b[0m\u001b[1;33m\u001b[0m\u001b[1;33m\u001b[0m\u001b[0m\n\u001b[1;32m-> 1348\u001b[1;33m       \u001b[1;32mraise\u001b[0m \u001b[0mtype\u001b[0m\u001b[1;33m(\u001b[0m\u001b[0me\u001b[0m\u001b[1;33m)\u001b[0m\u001b[1;33m(\u001b[0m\u001b[0mnode_def\u001b[0m\u001b[1;33m,\u001b[0m \u001b[0mop\u001b[0m\u001b[1;33m,\u001b[0m \u001b[0mmessage\u001b[0m\u001b[1;33m)\u001b[0m\u001b[1;33m\u001b[0m\u001b[1;33m\u001b[0m\u001b[0m\n\u001b[0m\u001b[0;32m   1349\u001b[0m \u001b[1;33m\u001b[0m\u001b[0m\n\u001b[0;32m   1350\u001b[0m   \u001b[1;32mdef\u001b[0m \u001b[0m_extend_graph\u001b[0m\u001b[1;33m(\u001b[0m\u001b[0mself\u001b[0m\u001b[1;33m)\u001b[0m\u001b[1;33m:\u001b[0m\u001b[1;33m\u001b[0m\u001b[1;33m\u001b[0m\u001b[0m\n",
      "\u001b[1;31mInvalidArgumentError\u001b[0m: Incompatible shapes: [770] vs. [100]\n\t [[node Equal_421 (defined at <ipython-input-612-39f88d6da513>:105)  = Equal[T=DT_INT64, _device=\"/job:localhost/replica:0/task:0/device:GPU:0\"](ArgMax_842, ArgMax_843)]]\n\nCaused by op 'Equal_421', defined at:\n  File \"C:\\ProgramData\\Anaconda3\\envs\\gpu_env\\lib\\runpy.py\", line 193, in _run_module_as_main\n    \"__main__\", mod_spec)\n  File \"C:\\ProgramData\\Anaconda3\\envs\\gpu_env\\lib\\runpy.py\", line 85, in _run_code\n    exec(code, run_globals)\n  File \"C:\\ProgramData\\Anaconda3\\envs\\gpu_env\\lib\\site-packages\\ipykernel_launcher.py\", line 16, in <module>\n    app.launch_new_instance()\n  File \"C:\\ProgramData\\Anaconda3\\envs\\gpu_env\\lib\\site-packages\\traitlets\\config\\application.py\", line 658, in launch_instance\n    app.start()\n  File \"C:\\ProgramData\\Anaconda3\\envs\\gpu_env\\lib\\site-packages\\ipykernel\\kernelapp.py\", line 505, in start\n    self.io_loop.start()\n  File \"C:\\ProgramData\\Anaconda3\\envs\\gpu_env\\lib\\site-packages\\tornado\\platform\\asyncio.py\", line 132, in start\n    self.asyncio_loop.run_forever()\n  File \"C:\\ProgramData\\Anaconda3\\envs\\gpu_env\\lib\\asyncio\\base_events.py\", line 438, in run_forever\n    self._run_once()\n  File \"C:\\ProgramData\\Anaconda3\\envs\\gpu_env\\lib\\asyncio\\base_events.py\", line 1451, in _run_once\n    handle._run()\n  File \"C:\\ProgramData\\Anaconda3\\envs\\gpu_env\\lib\\asyncio\\events.py\", line 145, in _run\n    self._callback(*self._args)\n  File \"C:\\ProgramData\\Anaconda3\\envs\\gpu_env\\lib\\site-packages\\tornado\\ioloop.py\", line 758, in _run_callback\n    ret = callback()\n  File \"C:\\ProgramData\\Anaconda3\\envs\\gpu_env\\lib\\site-packages\\tornado\\stack_context.py\", line 300, in null_wrapper\n    return fn(*args, **kwargs)\n  File \"C:\\ProgramData\\Anaconda3\\envs\\gpu_env\\lib\\site-packages\\tornado\\gen.py\", line 1233, in inner\n    self.run()\n  File \"C:\\ProgramData\\Anaconda3\\envs\\gpu_env\\lib\\site-packages\\tornado\\gen.py\", line 1147, in run\n    yielded = self.gen.send(value)\n  File \"C:\\ProgramData\\Anaconda3\\envs\\gpu_env\\lib\\site-packages\\ipykernel\\kernelbase.py\", line 357, in process_one\n    yield gen.maybe_future(dispatch(*args))\n  File \"C:\\ProgramData\\Anaconda3\\envs\\gpu_env\\lib\\site-packages\\tornado\\gen.py\", line 326, in wrapper\n    yielded = next(result)\n  File \"C:\\ProgramData\\Anaconda3\\envs\\gpu_env\\lib\\site-packages\\ipykernel\\kernelbase.py\", line 267, in dispatch_shell\n    yield gen.maybe_future(handler(stream, idents, msg))\n  File \"C:\\ProgramData\\Anaconda3\\envs\\gpu_env\\lib\\site-packages\\tornado\\gen.py\", line 326, in wrapper\n    yielded = next(result)\n  File \"C:\\ProgramData\\Anaconda3\\envs\\gpu_env\\lib\\site-packages\\ipykernel\\kernelbase.py\", line 534, in execute_request\n    user_expressions, allow_stdin,\n  File \"C:\\ProgramData\\Anaconda3\\envs\\gpu_env\\lib\\site-packages\\tornado\\gen.py\", line 326, in wrapper\n    yielded = next(result)\n  File \"C:\\ProgramData\\Anaconda3\\envs\\gpu_env\\lib\\site-packages\\ipykernel\\ipkernel.py\", line 294, in do_execute\n    res = shell.run_cell(code, store_history=store_history, silent=silent)\n  File \"C:\\ProgramData\\Anaconda3\\envs\\gpu_env\\lib\\site-packages\\ipykernel\\zmqshell.py\", line 536, in run_cell\n    return super(ZMQInteractiveShell, self).run_cell(*args, **kwargs)\n  File \"C:\\ProgramData\\Anaconda3\\envs\\gpu_env\\lib\\site-packages\\IPython\\core\\interactiveshell.py\", line 2843, in run_cell\n    raw_cell, store_history, silent, shell_futures)\n  File \"C:\\ProgramData\\Anaconda3\\envs\\gpu_env\\lib\\site-packages\\IPython\\core\\interactiveshell.py\", line 2869, in _run_cell\n    return runner(coro)\n  File \"C:\\ProgramData\\Anaconda3\\envs\\gpu_env\\lib\\site-packages\\IPython\\core\\async_helpers.py\", line 67, in _pseudo_sync_runner\n    coro.send(None)\n  File \"C:\\ProgramData\\Anaconda3\\envs\\gpu_env\\lib\\site-packages\\IPython\\core\\interactiveshell.py\", line 3044, in run_cell_async\n    interactivity=interactivity, compiler=compiler, result=result)\n  File \"C:\\ProgramData\\Anaconda3\\envs\\gpu_env\\lib\\site-packages\\IPython\\core\\interactiveshell.py\", line 3215, in run_ast_nodes\n    if (yield from self.run_code(code, result)):\n  File \"C:\\ProgramData\\Anaconda3\\envs\\gpu_env\\lib\\site-packages\\IPython\\core\\interactiveshell.py\", line 3291, in run_code\n    exec(code_obj, self.user_global_ns, self.user_ns)\n  File \"<ipython-input-615-35249c4fd9a3>\", line 5, in <module>\n    cnn_test.batch_test_wl(sum_hypothesis[1:],100, x_train_data, y_train_data)\n  File \"<ipython-input-612-39f88d6da513>\", line 105, in batch_test_wl\n    correct = tf.equal(predict, tf.argmax(self.Y, axis = 1))\n  File \"C:\\ProgramData\\Anaconda3\\envs\\gpu_env\\lib\\site-packages\\tensorflow\\python\\ops\\gen_math_ops.py\", line 2734, in equal\n    \"Equal\", x=x, y=y, name=name)\n  File \"C:\\ProgramData\\Anaconda3\\envs\\gpu_env\\lib\\site-packages\\tensorflow\\python\\framework\\op_def_library.py\", line 787, in _apply_op_helper\n    op_def=op_def)\n  File \"C:\\ProgramData\\Anaconda3\\envs\\gpu_env\\lib\\site-packages\\tensorflow\\python\\util\\deprecation.py\", line 488, in new_func\n    return func(*args, **kwargs)\n  File \"C:\\ProgramData\\Anaconda3\\envs\\gpu_env\\lib\\site-packages\\tensorflow\\python\\framework\\ops.py\", line 3274, in create_op\n    op_def=op_def)\n  File \"C:\\ProgramData\\Anaconda3\\envs\\gpu_env\\lib\\site-packages\\tensorflow\\python\\framework\\ops.py\", line 1770, in __init__\n    self._traceback = tf_stack.extract_stack()\n\nInvalidArgumentError (see above for traceback): Incompatible shapes: [770] vs. [100]\n\t [[node Equal_421 (defined at <ipython-input-612-39f88d6da513>:105)  = Equal[T=DT_INT64, _device=\"/job:localhost/replica:0/task:0/device:GPU:0\"](ArgMax_842, ArgMax_843)]]\n"
     ]
    }
   ],
   "source": [
    "\n",
    "sess = tf.Session()\n",
    "cnn_test = CNNModel(sess,\"cnn_test4\")\n",
    "cnn_test.create_network(784,10)\n",
    "cnn_test.batch_test_wl(sum_hypothesis[1:],100, x_train_data, y_train_data)"
   ]
  },
  {
   "cell_type": "code",
   "execution_count": 600,
   "metadata": {},
   "outputs": [],
   "source": [
    "sh =sum_hypothesis[1:]"
   ]
  },
  {
   "cell_type": "code",
   "execution_count": 567,
   "metadata": {},
   "outputs": [],
   "source": [
    "tf.reset_default_graph()"
   ]
  },
  {
   "cell_type": "code",
   "execution_count": 568,
   "metadata": {},
   "outputs": [],
   "source": [
    "cnn_list = []\n",
    "sess = tf.Session()\n",
    "for d in range(3):\n",
    "    cnn = CNNModel(sess, \"cnn\"+str(d))\n",
    "    cnn.create_network(784,10)\n",
    "    cnn_list.append(cnn)"
   ]
  },
  {
   "cell_type": "code",
   "execution_count": 569,
   "metadata": {},
   "outputs": [],
   "source": [
    "sum_hypothesis = 0 \n",
    "for cnn in cnn_list:\n",
    "    sum_hypothesis += cnn.out_hypothesis(1,100,x_train_data,y_train_data)\n"
   ]
  },
  {
   "cell_type": "code",
   "execution_count": 577,
   "metadata": {},
   "outputs": [
    {
     "data": {
      "text/plain": [
       "array([0.        , 3.        , 2.99999982, ..., 3.00000006, 2.9999999 ,\n",
       "       2.99999997])"
      ]
     },
     "execution_count": 577,
     "metadata": {},
     "output_type": "execute_result"
    }
   ],
   "source": [
    "sum_hypothesis.sum(axis=1)"
   ]
  },
  {
   "cell_type": "code",
   "execution_count": null,
   "metadata": {},
   "outputs": [],
   "source": [
    "predict = tf.argmax(sum_hypothesis[1:], axis = 1)\n",
    "correct = tf.eqaul(predict, y_train_data)"
   ]
  },
  {
   "cell_type": "code",
   "execution_count": 582,
   "metadata": {},
   "outputs": [
    {
     "data": {
      "text/plain": [
       "array([[3.67460895e-01, 9.58108129e-01, 3.79768602e-02, ...,\n",
       "        1.90135606e-01, 3.49145957e-02, 2.91410901e-02],\n",
       "       [9.40426067e-03, 6.58369636e-02, 9.13267788e-02, ...,\n",
       "        3.27687317e-02, 1.99866069e-01, 1.04633949e-01],\n",
       "       [1.12332345e-01, 1.23979345e+00, 1.92003176e-02, ...,\n",
       "        5.39303079e-01, 1.17040006e-01, 1.02978544e-01],\n",
       "       ...,\n",
       "       [2.99966234e+00, 9.48877538e-06, 6.59326446e-06, ...,\n",
       "        2.18883593e-05, 1.33738191e-05, 4.12156834e-07],\n",
       "       [4.75947304e-05, 1.10842538e-02, 2.96664339e+00, ...,\n",
       "        2.61867118e-03, 6.68773406e-04, 2.58414810e-05],\n",
       "       [2.32777905e-09, 1.20729299e-04, 2.99986494e+00, ...,\n",
       "        4.38986020e-06, 4.82021109e-06, 1.80301239e-06]])"
      ]
     },
     "execution_count": 582,
     "metadata": {},
     "output_type": "execute_result"
    }
   ],
   "source": [
    "sum_hypothesis[1:]"
   ]
  },
  {
   "cell_type": "code",
   "execution_count": 575,
   "metadata": {},
   "outputs": [
    {
     "data": {
      "text/plain": [
       "array([1, 3, 1, ..., 0, 2, 2], dtype=int64)"
      ]
     },
     "execution_count": 575,
     "metadata": {},
     "output_type": "execute_result"
    }
   ],
   "source": [
    "# 맨 앞 0행은 np.append 원할하게하기위해 그냥 넣어준 값이니 빼고\n",
    "ensemble_argmax = tf.argmax(sum_hypothesis[1:],axis=1)\n",
    "sess = tf.Session()\n",
    "sess.run(ensemble_argmax)"
   ]
  },
  {
   "cell_type": "code",
   "execution_count": 505,
   "metadata": {},
   "outputs": [],
   "source": [
    "sess.run(tf.global_variables_initializer())\n",
    "ccx = cnn1.out_hypothesis(1,100,x_train_data,y_train_data)\n"
   ]
  },
  {
   "cell_type": "code",
   "execution_count": 473,
   "metadata": {},
   "outputs": [],
   "source": [
    "zz0 = np.zeros([1,10])"
   ]
  },
  {
   "cell_type": "code",
   "execution_count": 477,
   "metadata": {},
   "outputs": [
    {
     "name": "stdout",
     "output_type": "stream",
     "text": [
      "(1, 10)\n"
     ]
    }
   ],
   "source": [
    "print(zz0.shape)"
   ]
  },
  {
   "cell_type": "code",
   "execution_count": 470,
   "metadata": {},
   "outputs": [],
   "source": [
    "zz0 = np.array([-1,10])\n",
    "zz1 = cnn1.sess.run(cnn1.H, feed_dict={cnn1.X:a, cnn1.Y:b, cnn1.keep_rate:1.0})\n",
    "zz2 = cnn1.sess.run(cnn1.H, feed_dict={cnn1.X:a, cnn1.Y:b, cnn1.keep_rate:1.0})"
   ]
  },
  {
   "cell_type": "code",
   "execution_count": 471,
   "metadata": {},
   "outputs": [
    {
     "name": "stdout",
     "output_type": "stream",
     "text": [
      "(2,)\n",
      "(3, 10)\n",
      "(3, 10)\n"
     ]
    }
   ],
   "source": [
    "print(zz0.shape)\n",
    "print(zz1.shape)\n",
    "print(zz2.shape)"
   ]
  },
  {
   "cell_type": "code",
   "execution_count": 478,
   "metadata": {},
   "outputs": [],
   "source": [
    "cc = np.append(zz0,zz2, axis = 0)"
   ]
  },
  {
   "cell_type": "code",
   "execution_count": 479,
   "metadata": {},
   "outputs": [
    {
     "data": {
      "text/plain": [
       "(4, 10)"
      ]
     },
     "execution_count": 479,
     "metadata": {},
     "output_type": "execute_result"
    }
   ],
   "source": [
    "cc.shape"
   ]
  },
  {
   "cell_type": "code",
   "execution_count": 443,
   "metadata": {},
   "outputs": [
    {
     "data": {
      "text/plain": [
       "array([0, 1, 4], dtype=int64)"
      ]
     },
     "execution_count": 443,
     "metadata": {},
     "output_type": "execute_result"
    }
   ],
   "source": [
    "xx = tf.argmax(zz, axis=1)\n",
    "cnn1.sess.run(xx, feed_dict={cnn1.X:a, cnn1.Y:b, cnn1.keep_rate:1.0})\n"
   ]
  },
  {
   "cell_type": "code",
   "execution_count": 416,
   "metadata": {},
   "outputs": [
    {
     "data": {
      "text/plain": [
       "336.0"
      ]
     },
     "execution_count": 416,
     "metadata": {},
     "output_type": "execute_result"
    }
   ],
   "source": [
    "x_train_data.shape[0]/ 100"
   ]
  },
  {
   "cell_type": "code",
   "execution_count": 417,
   "metadata": {},
   "outputs": [
    {
     "data": {
      "text/html": [
       "<div>\n",
       "<style scoped>\n",
       "    .dataframe tbody tr th:only-of-type {\n",
       "        vertical-align: middle;\n",
       "    }\n",
       "\n",
       "    .dataframe tbody tr th {\n",
       "        vertical-align: top;\n",
       "    }\n",
       "\n",
       "    .dataframe thead th {\n",
       "        text-align: right;\n",
       "    }\n",
       "</style>\n",
       "<table border=\"1\" class=\"dataframe\">\n",
       "  <thead>\n",
       "    <tr style=\"text-align: right;\">\n",
       "      <th></th>\n",
       "      <th>pixel0</th>\n",
       "      <th>pixel1</th>\n",
       "      <th>pixel2</th>\n",
       "      <th>pixel3</th>\n",
       "      <th>pixel4</th>\n",
       "      <th>pixel5</th>\n",
       "      <th>pixel6</th>\n",
       "      <th>pixel7</th>\n",
       "      <th>pixel8</th>\n",
       "      <th>pixel9</th>\n",
       "      <th>...</th>\n",
       "      <th>pixel774</th>\n",
       "      <th>pixel775</th>\n",
       "      <th>pixel776</th>\n",
       "      <th>pixel777</th>\n",
       "      <th>pixel778</th>\n",
       "      <th>pixel779</th>\n",
       "      <th>pixel780</th>\n",
       "      <th>pixel781</th>\n",
       "      <th>pixel782</th>\n",
       "      <th>pixel783</th>\n",
       "    </tr>\n",
       "  </thead>\n",
       "  <tbody>\n",
       "    <tr>\n",
       "      <th>1</th>\n",
       "      <td>0</td>\n",
       "      <td>0</td>\n",
       "      <td>0</td>\n",
       "      <td>0</td>\n",
       "      <td>0</td>\n",
       "      <td>0</td>\n",
       "      <td>0</td>\n",
       "      <td>0</td>\n",
       "      <td>0</td>\n",
       "      <td>0</td>\n",
       "      <td>...</td>\n",
       "      <td>0</td>\n",
       "      <td>0</td>\n",
       "      <td>0</td>\n",
       "      <td>0</td>\n",
       "      <td>0</td>\n",
       "      <td>0</td>\n",
       "      <td>0</td>\n",
       "      <td>0</td>\n",
       "      <td>0</td>\n",
       "      <td>0</td>\n",
       "    </tr>\n",
       "    <tr>\n",
       "      <th>2</th>\n",
       "      <td>0</td>\n",
       "      <td>0</td>\n",
       "      <td>0</td>\n",
       "      <td>0</td>\n",
       "      <td>0</td>\n",
       "      <td>0</td>\n",
       "      <td>0</td>\n",
       "      <td>0</td>\n",
       "      <td>0</td>\n",
       "      <td>0</td>\n",
       "      <td>...</td>\n",
       "      <td>0</td>\n",
       "      <td>0</td>\n",
       "      <td>0</td>\n",
       "      <td>0</td>\n",
       "      <td>0</td>\n",
       "      <td>0</td>\n",
       "      <td>0</td>\n",
       "      <td>0</td>\n",
       "      <td>0</td>\n",
       "      <td>0</td>\n",
       "    </tr>\n",
       "    <tr>\n",
       "      <th>3</th>\n",
       "      <td>0</td>\n",
       "      <td>0</td>\n",
       "      <td>0</td>\n",
       "      <td>0</td>\n",
       "      <td>0</td>\n",
       "      <td>0</td>\n",
       "      <td>0</td>\n",
       "      <td>0</td>\n",
       "      <td>0</td>\n",
       "      <td>0</td>\n",
       "      <td>...</td>\n",
       "      <td>0</td>\n",
       "      <td>0</td>\n",
       "      <td>0</td>\n",
       "      <td>0</td>\n",
       "      <td>0</td>\n",
       "      <td>0</td>\n",
       "      <td>0</td>\n",
       "      <td>0</td>\n",
       "      <td>0</td>\n",
       "      <td>0</td>\n",
       "    </tr>\n",
       "  </tbody>\n",
       "</table>\n",
       "<p>3 rows × 784 columns</p>\n",
       "</div>"
      ],
      "text/plain": [
       "   pixel0  pixel1  pixel2  pixel3  pixel4  pixel5  pixel6  pixel7  pixel8  \\\n",
       "1       0       0       0       0       0       0       0       0       0   \n",
       "2       0       0       0       0       0       0       0       0       0   \n",
       "3       0       0       0       0       0       0       0       0       0   \n",
       "\n",
       "   pixel9  ...  pixel774  pixel775  pixel776  pixel777  pixel778  pixel779  \\\n",
       "1       0  ...         0         0         0         0         0         0   \n",
       "2       0  ...         0         0         0         0         0         0   \n",
       "3       0  ...         0         0         0         0         0         0   \n",
       "\n",
       "   pixel780  pixel781  pixel782  pixel783  \n",
       "1         0         0         0         0  \n",
       "2         0         0         0         0  \n",
       "3         0         0         0         0  \n",
       "\n",
       "[3 rows x 784 columns]"
      ]
     },
     "execution_count": 417,
     "metadata": {},
     "output_type": "execute_result"
    }
   ],
   "source": [
    "a"
   ]
  },
  {
   "cell_type": "code",
   "execution_count": 418,
   "metadata": {},
   "outputs": [
    {
     "data": {
      "text/html": [
       "<div>\n",
       "<style scoped>\n",
       "    .dataframe tbody tr th:only-of-type {\n",
       "        vertical-align: middle;\n",
       "    }\n",
       "\n",
       "    .dataframe tbody tr th {\n",
       "        vertical-align: top;\n",
       "    }\n",
       "\n",
       "    .dataframe thead th {\n",
       "        text-align: right;\n",
       "    }\n",
       "</style>\n",
       "<table border=\"1\" class=\"dataframe\">\n",
       "  <thead>\n",
       "    <tr style=\"text-align: right;\">\n",
       "      <th></th>\n",
       "      <th>0</th>\n",
       "      <th>1</th>\n",
       "      <th>2</th>\n",
       "      <th>3</th>\n",
       "      <th>4</th>\n",
       "      <th>5</th>\n",
       "      <th>6</th>\n",
       "      <th>7</th>\n",
       "      <th>8</th>\n",
       "      <th>9</th>\n",
       "    </tr>\n",
       "  </thead>\n",
       "  <tbody>\n",
       "    <tr>\n",
       "      <th>1</th>\n",
       "      <td>1</td>\n",
       "      <td>0</td>\n",
       "      <td>0</td>\n",
       "      <td>0</td>\n",
       "      <td>0</td>\n",
       "      <td>0</td>\n",
       "      <td>0</td>\n",
       "      <td>0</td>\n",
       "      <td>0</td>\n",
       "      <td>0</td>\n",
       "    </tr>\n",
       "    <tr>\n",
       "      <th>2</th>\n",
       "      <td>0</td>\n",
       "      <td>1</td>\n",
       "      <td>0</td>\n",
       "      <td>0</td>\n",
       "      <td>0</td>\n",
       "      <td>0</td>\n",
       "      <td>0</td>\n",
       "      <td>0</td>\n",
       "      <td>0</td>\n",
       "      <td>0</td>\n",
       "    </tr>\n",
       "    <tr>\n",
       "      <th>3</th>\n",
       "      <td>0</td>\n",
       "      <td>0</td>\n",
       "      <td>0</td>\n",
       "      <td>0</td>\n",
       "      <td>1</td>\n",
       "      <td>0</td>\n",
       "      <td>0</td>\n",
       "      <td>0</td>\n",
       "      <td>0</td>\n",
       "      <td>0</td>\n",
       "    </tr>\n",
       "  </tbody>\n",
       "</table>\n",
       "</div>"
      ],
      "text/plain": [
       "   0  1  2  3  4  5  6  7  8  9\n",
       "1  1  0  0  0  0  0  0  0  0  0\n",
       "2  0  1  0  0  0  0  0  0  0  0\n",
       "3  0  0  0  0  1  0  0  0  0  0"
      ]
     },
     "execution_count": 418,
     "metadata": {},
     "output_type": "execute_result"
    }
   ],
   "source": [
    "b"
   ]
  },
  {
   "cell_type": "code",
   "execution_count": 410,
   "metadata": {},
   "outputs": [
    {
     "data": {
      "text/plain": [
       "array([[1.85274296e-02, 4.37102839e-02, 1.01411929e-02, 9.44328058e-05,\n",
       "        3.68489861e-03, 1.26980450e-02, 1.91677898e-01, 1.49447257e-02,\n",
       "        5.28089881e-01, 1.76431194e-01],\n",
       "       [9.18082148e-03, 7.42701069e-02, 2.50383466e-02, 2.58514221e-04,\n",
       "        3.98048246e-03, 4.89071906e-02, 9.98629928e-02, 4.84301865e-01,\n",
       "        1.81765169e-01, 7.24345371e-02],\n",
       "       [1.33641930e-02, 9.49082896e-02, 2.22598258e-02, 2.88022857e-04,\n",
       "        2.02309638e-02, 4.86913994e-02, 3.49116147e-01, 1.30001739e-01,\n",
       "        2.14486182e-01, 1.06653266e-01]], dtype=float32)"
      ]
     },
     "execution_count": 410,
     "metadata": {},
     "output_type": "execute_result"
    }
   ],
   "source": [
    "cnn1.sess.run(tf.global_variables_initializer())\n",
    "cnn1.sess.run(cnn1.H, feed_dict={cnn1.X:a, cnn1.Y:b, cnn1.keep_rate:1.0})"
   ]
  },
  {
   "cell_type": "markdown",
   "metadata": {},
   "source": [
    "# 앙상블 전 99%"
   ]
  },
  {
   "cell_type": "code",
   "execution_count": 595,
   "metadata": {},
   "outputs": [
    {
     "name": "stdout",
     "output_type": "stream",
     "text": [
      "Tensor(\"MaxPool_1:0\", shape=(?, 7, 7, 64), dtype=float32)\n",
      "cost_val : 0.4273631274700165\n"
     ]
    }
   ],
   "source": [
    "# tensorflow 초기화\n",
    "tf.reset_default_graph()\n",
    "\n",
    "\n",
    "# placeholder \n",
    "X = tf.placeholder(shape = [None, 784], dtype = tf.float32)\n",
    "Y = tf.placeholder(shape = [None, 10], dtype = tf.float32)\n",
    "keep_rate = tf.placeholder(dtype= tf.float32)\n",
    "\n",
    "# input conv img\n",
    "X_img = tf.reshape(X, shape = [-1, 28,28,1])\n",
    "\n",
    "W1 = tf.Variable(tf.random_normal([3,3,1,32], stddev=0.01))\n",
    "L1 = tf.nn.conv2d(X_img, W1, strides = [1,1,1,1], padding=\"SAME\")\n",
    "L1 = tf.nn.relu(L1)\n",
    "L1 = tf.nn.max_pool(L1, ksize=[1,2,2,1], strides=[1,2,2,1], padding=\"SAME\")\n",
    "\n",
    "W2 = set_weight(\"weight2\", [3,3,32,64])\n",
    "L2 = tf.nn.conv2d(L1, W2, strides=[1,1,1,1], padding=\"SAME\")\n",
    "L2 = tf.nn.relu(L2)\n",
    "L2 = tf.nn.max_pool(L2, ksize=[1,2,2,1], strides=[1,2,2,1], padding=\"SAME\")\n",
    "print(L2)\n",
    "FC = tf.reshape(L2, shape=[-1, 7*7*64])\n",
    "\n",
    "FC_W1 = set_weight(\"fc_weight1\", [7*7*64, 256])\n",
    "FC_b1 = set_bias( \"fc_bias1\", [256])\n",
    "_FC_L1 = tf.nn.relu(tf.matmul(FC,FC_W1) + FC_b1)\n",
    "FC_L1 = tf.nn.dropout(_FC_L1, keep_prob = keep_rate) \n",
    "\n",
    "FC_W2 = set_weight(\"fc_weight2\", [256, 256])\n",
    "FC_b2 = set_bias( \"fc_bias2\", [256])\n",
    "_FC_L2 = tf.nn.relu(tf.matmul(FC_L1,FC_W2) + FC_b2)\n",
    "FC_L2 = tf.nn.dropout(_FC_L2, keep_prob = keep_rate) \n",
    "\n",
    "\n",
    "FC_W3 = set_weight(\"fc_weight3\", [256, 10])\n",
    "FC_b3 = set_bias( \"fc_bias3\", [10])\n",
    "\n",
    "logit = tf.matmul(FC_L2, FC_W3) + FC_b3\n",
    "H = tf.nn.softmax(logit)\n",
    "\n",
    "cost = tf.reduce_mean(tf.nn.softmax_cross_entropy_with_logits_v2(logits = logit, labels = Y))\n",
    "optimizer = tf.train.AdamOptimizer(learning_rate=0.0001)\n",
    "train = optimizer.minimize(cost)\n",
    "\n",
    "sess = tf.Session()\n",
    "sess.run(tf.global_variables_initializer())\n",
    "\n",
    "train_epoch = 1\n",
    "batch_size = 100\n",
    "\n",
    "# loc는 이상,이하로 범위 슬라이싱 \n",
    "for step in range(train_epoch):\n",
    "    num_of_iter = get_total_n(x_train_data, batch_size)\n",
    "    batch_start = 0\n",
    "    for i in range(num_of_iter):\n",
    "        batch_next = batch_start + batch_size\n",
    "        if i ==  num_of_iter-1:\n",
    "            xtd = x_train_data.loc[batch_start:,:]\n",
    "            ytd = y_train_data.loc[batch_start:,:]\n",
    "            _, cost_val = sess.run([train,cost], feed_dict={X: xtd, Y: ytd, keep_rate: 0.7})\n",
    "        else:\n",
    "            xtd = x_train_data.loc[batch_start:batch_next-1,:]\n",
    "            ytd = y_train_data.loc[batch_start:batch_next-1,:]\n",
    "            _, cost_val = sess.run([train,cost], feed_dict={X: xtd, Y: ytd, keep_rate: 0.7})\n",
    "            batch_start = batch_next\n",
    "    if step % 5 == 0:\n",
    "        print(\"cost_val : {}\".format(cost_val))\n",
    "           \n"
   ]
  },
  {
   "cell_type": "code",
   "execution_count": 596,
   "metadata": {},
   "outputs": [],
   "source": [
    "x_test_data = pd.DataFrame(x_test_data.values, columns=x_test_data.columns)\n",
    "y_test_data = pd.DataFrame(y_test_data.values, columns=y_test_data.columns)"
   ]
  },
  {
   "cell_type": "code",
   "execution_count": 598,
   "metadata": {},
   "outputs": [
    {
     "name": "stdout",
     "output_type": "stream",
     "text": [
      "<class 'tensorflow.python.framework.ops.Tensor'>\n",
      "accuracy : 0.9557142857142857\n",
      "(100,)\n"
     ]
    }
   ],
   "source": [
    "predict = tf.argmax(H, axis = 1)\n",
    "\n",
    "correct = tf.equal(predict, tf.argmax(Y, axis = 1))\n",
    "accuracy = tf.reduce_sum(tf.cast(correct, dtype = tf.float32))\n",
    "\n",
    "num_iter = get_total_n(x_test_data, batch_size)\n",
    "batch_start = 0\n",
    "accuracy_sum = 0\n",
    "\n",
    "for i in range(num_iter):\n",
    "    batch_next = batch_start + batch_size\n",
    "    if i ==  num_of_iter-1:\n",
    "        xtd = x_test_data.loc[batch_start:,:]\n",
    "        ytd = y_test_data.loc[batch_start:,:]\n",
    "        batch_sum = sess.run(accuracy, feed_dict={X: xtd, Y: ytd, keep_rate: 1.0})\n",
    "    else:\n",
    "        xtd = x_test_data.loc[batch_start:batch_next-1,:]\n",
    "        ytd = y_test_data.loc[batch_start:batch_next-1,:]\n",
    "        #print(\"xtd.shape : {}, ytd.shape : {}\".format(xtd.shape, ytd.shape))\n",
    "        batch_sum = sess.run(accuracy, feed_dict={X: xtd, Y: ytd, keep_rate: 1.0})\n",
    "        a = sess.run(predict, feed_dict={X: xtd, Y: ytd, keep_rate: 1.0})\n",
    "        #print(\"batch_sum : {}, start : {}, end : {}\".format(batch_sum,batch_start, batch_next))\n",
    "        batch_start = batch_next\n",
    "        \n",
    "    accuracy_sum += batch_sum\n",
    "print(\"accuracy : {}\".format((accuracy_sum/x_test_data.shape[0])))\n",
    "print(a.shape)"
   ]
  },
  {
   "cell_type": "markdown",
   "metadata": {},
   "source": [
    "### test data 예측"
   ]
  },
  {
   "cell_type": "code",
   "execution_count": 39,
   "metadata": {},
   "outputs": [],
   "source": [
    "accuracy_list = []\n",
    "result = []\n",
    "num_iter = x_real_test_data.shape[0]\n",
    "batch_size = 100\n",
    "batch_start = 0\n",
    "for i in range(num_iter):\n",
    "    batch_next = batch_start + batch_size\n",
    "    if i ==  num_of_iter-1:\n",
    "        xtd = x_real_test_data.loc[batch_start:,:]\n",
    "        ytd = x_real_test_data.loc[batch_start:,:]\n",
    "        accuracy_list = sess.run(predict, feed_dict={X: xtd, keep_rate: 1.0})\n",
    "    else:\n",
    "        xtd = x_real_test_data.loc[batch_start:batch_next-1,:]\n",
    "        ytd = x_real_test_data.loc[batch_start:batch_next-1,:]\n",
    "        #print(\"xtd.shape : {}, ytd.shape : {}\".format(xtd.shape, ytd.shape))\n",
    "        accuracy_list = sess.run(predict, feed_dict={X: xtd, keep_rate: 1.0})\n",
    "        #print(\"batch_sum : {}, start : {}, end : {}\".format(batch_sum,batch_start, batch_next))\n",
    "        batch_start = batch_next\n",
    "    for r in accuracy_list:\n",
    "        result.append(r)"
   ]
  },
  {
   "cell_type": "code",
   "execution_count": 40,
   "metadata": {},
   "outputs": [
    {
     "name": "stdout",
     "output_type": "stream",
     "text": [
      "(28000, 785)\n"
     ]
    }
   ],
   "source": [
    "df_predict = pd.DataFrame(result, columns = [\"label\"])\n",
    "digit_predict = pd.concat([df_predict, x_real_test_data], axis = 1)\n",
    "print(digit_predict.shape)\n",
    "digit_predict.to_csv(\"digit_predict.csv\", sep = ',',index=False)\n"
   ]
  },
  {
   "cell_type": "code",
   "execution_count": 41,
   "metadata": {},
   "outputs": [],
   "source": [
    "data = pd.read_csv(\"./digit_predict.csv\",sep=\",\")\n",
    "label_ = data[\"label\"]\n",
    "ImageId_ = np.arange(1,28001)"
   ]
  },
  {
   "cell_type": "code",
   "execution_count": 42,
   "metadata": {},
   "outputs": [],
   "source": [
    "digit_pd = pd.DataFrame(ImageId_,columns=[\"ImageId\"])\n",
    "digit_pd[\"Label\"] = label_"
   ]
  },
  {
   "cell_type": "code",
   "execution_count": 43,
   "metadata": {},
   "outputs": [],
   "source": [
    "digit_pd.to_csv(\"digit_pd.csv\", sep = ',',index=False)"
   ]
  },
  {
   "cell_type": "markdown",
   "metadata": {},
   "source": []
  },
  {
   "cell_type": "code",
   "execution_count": null,
   "metadata": {},
   "outputs": [],
   "source": []
  },
  {
   "cell_type": "code",
   "execution_count": null,
   "metadata": {},
   "outputs": [],
   "source": []
  }
 ],
 "metadata": {
  "kernelspec": {
   "display_name": "[GPU_ENV]",
   "language": "python",
   "name": "gpu_env"
  }
 },
 "nbformat": 4,
 "nbformat_minor": 2
}
