{
 "cells": [
  {
   "cell_type": "markdown",
   "metadata": {},
   "source": [
    "링크참조 : https://docs.aws.amazon.com/ko_kr/rekognition/latest/dg/faces-comparefaces.html"
   ]
  },
  {
   "cell_type": "markdown",
   "metadata": {},
   "source": [
    "# AWS계정 설정 및 IAM사용자를 만듬\n",
    "- https://docs.aws.amazon.com/ko_kr/IAM/latest/UserGuide/getting-started_create-admin-group.html"
   ]
  },
  {
   "cell_type": "markdown",
   "metadata": {},
   "source": [
    "\n",
    "# AWS CLI와 AWS SDK를 설치하고 구성\n",
    "- https://docs.aws.amazon.com/ko_kr/rekognition/latest/dg/setup-awscli-sdk.html\n",
    "![image](https://user-images.githubusercontent.com/28910538/56871760-da173400-6a5c-11e9-8dee-bb00965571d3.png)\n",
    "\n",
    "- Python용 AWS SDK(Boto3)\n",
    "    - pip install boto3\n",
    "    \n",
    "- anaconda에 AWS CLI\n",
    "    - conda install -c conda-forge awscli\n",
    "    - aws configure\n",
    "        - key를 설정해줘야함\n",
    "        ![image](https://user-images.githubusercontent.com/28910538/56871886-b1dc0500-6a5d-11e9-9f05-c8246ecb1a02.png)\n",
    "\n",
    "        - aws configure list\n",
    "        ![image](https://user-images.githubusercontent.com/28910538/56871905-e9e34800-6a5d-11e9-9d76-dbb70d327619.png)\n"
   ]
  },
  {
   "cell_type": "markdown",
   "metadata": {},
   "source": [
    "# 얼굴 검색 api 기능\n",
    "- https://docs.aws.amazon.com/ko_kr/rekognition/latest/dg/collections.html"
   ]
  },
  {
   "cell_type": "code",
   "execution_count": 4,
   "metadata": {},
   "outputs": [
    {
     "name": "stdout",
     "output_type": "stream",
     "text": [
      "matching...\n",
      "The face at 0.3465575575828552 0.21935047209262848 matches with 99.99880981445312% confidence\n"
     ]
    }
   ],
   "source": [
    "#Copyright 2018 Amazon.com, Inc. or its affiliates. All Rights Reserved.\n",
    "#PDX-License-Identifier: MIT-0 (For details, see https://github.com/awsdocs/amazon-rekognition-developer-guide/blob/master/LICENSE-SAMPLECODE.)\n",
    "\n",
    "import boto3\n",
    "\n",
    "if __name__ == \"__main__\":\n",
    "\n",
    "    sourceFile='C:/python_ML/aws_api/images/input1.png'\n",
    "    targetFile='C:/python_ML/aws_api/images/output2.jpg'\n",
    "    client=boto3.client('rekognition')\n",
    "   \n",
    "    imageSource=open(sourceFile,'rb')\n",
    "    imageTarget=open(targetFile,'rb')\n",
    "\n",
    "    response=client.compare_faces(SimilarityThreshold=70,\n",
    "                                  SourceImage={'Bytes': imageSource.read()},\n",
    "                                  TargetImage={'Bytes': imageTarget.read()})\n",
    "    \n",
    "    for faceMatch in response['FaceMatches']:\n",
    "        print(\"matching...\")\n",
    "        position = faceMatch['Face']['BoundingBox']\n",
    "        confidence = str(faceMatch['Face']['Confidence'])\n",
    "        print('The face at ' +\n",
    "               str(position['Left']) + ' ' +\n",
    "               str(position['Top']) +\n",
    "               ' matches with ' + confidence + '% confidence')\n",
    "\n",
    "    imageSource.close()\n",
    "    imageTarget.close()               \n",
    "\n",
    "  "
   ]
  },
  {
   "cell_type": "code",
   "execution_count": null,
   "metadata": {},
   "outputs": [],
   "source": []
  },
  {
   "cell_type": "code",
   "execution_count": null,
   "metadata": {},
   "outputs": [],
   "source": []
  }
 ],
 "metadata": {
  "kernelspec": {
   "display_name": "[GPU_ENV]",
   "language": "python",
   "name": "gpu_env"
  },
  "language_info": {
   "codemirror_mode": {
    "name": "ipython",
    "version": 3
   },
   "file_extension": ".py",
   "mimetype": "text/x-python",
   "name": "python",
   "nbconvert_exporter": "python",
   "pygments_lexer": "ipython3",
   "version": "3.6.8"
  },
  "toc": {
   "base_numbering": 1,
   "nav_menu": {},
   "number_sections": true,
   "sideBar": true,
   "skip_h1_title": false,
   "title_cell": "Table of Contents",
   "title_sidebar": "Contents",
   "toc_cell": false,
   "toc_position": {},
   "toc_section_display": true,
   "toc_window_display": false
  }
 },
 "nbformat": 4,
 "nbformat_minor": 2
}
