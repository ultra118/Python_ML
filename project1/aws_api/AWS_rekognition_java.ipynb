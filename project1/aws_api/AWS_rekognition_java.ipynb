{
 "cells": [
  {
   "cell_type": "markdown",
   "metadata": {},
   "source": [
    "# 이미지에 있는 얼굴 비교\n",
    "- 소스 이미지에 있는 얼굴을 대상 이미지에 있는 각 얼굴과 비교하려면 [CompareFaces](https://docs.aws.amazon.com/ko_kr/rekognition/latest/dg/API_CompareFaces.html)작업을 사용\n",
    "\n",
    "## IAM 사용자 만들고 AWS CLI 및 SDK 설정\n",
    "- [AWS계정 설정 및 IAM 사용자 만들기](https://docs.aws.amazon.com/ko_kr/IAM/latest/UserGuide/getting-started_create-admin-group.html)\n",
    "- [AWS CLI 및 AWS SDK 설정](https://docs.aws.amazon.com/ko_kr/rekognition/latest/dg/setup-awscli-sdk.html)\n",
    "    - IAM 사용자의 보안 자격 증명 탭을 선택하고 액세스 키를 생성해서 .csv파일을 다운로드 한다\n",
    "    - aws cil를 다운받고\n",
    "    - aws configure을 셋팅해준다\n",
    "        ![image](https://user-images.githubusercontent.com/28910538/56959360-24e19a80-6b88-11e9-82ef-9ae695232054.png)\n",
    "    - [pom.xml 설정](https://docs.aws.amazon.com/ko_kr/sdk-for-java/v1/developer-guide/setup-project-maven.html)\n",
    "        ![image](https://user-images.githubusercontent.com/28910538/56959686-3c6d5300-6b89-11e9-8e3a-62aa07fb3a27.png)\n",
    "\n",
    "\n",
    "## java open api\n",
    "- 왼쪽이 input 오른쪽이 target\n",
    "    ![image](https://user-images.githubusercontent.com/28910538/56959803-b998c800-6b89-11e9-8906-d5c1b629a233.png)\n",
    "- 두 값 모두 찾아냄\n",
    "    ![image](https://user-images.githubusercontent.com/28910538/56959863-e8af3980-6b89-11e9-9b85-b28a6b5501b7.png)\n",
    "    - 정규화된 x,y좌표"
   ]
  }
 ],
 "metadata": {
  "kernelspec": {
   "display_name": "data_env",
   "language": "python",
   "name": "data_env"
  },
  "language_info": {
   "codemirror_mode": {
    "name": "ipython",
    "version": 3
   },
   "file_extension": ".py",
   "mimetype": "text/x-python",
   "name": "python",
   "nbconvert_exporter": "python",
   "pygments_lexer": "ipython3",
   "version": "3.6.6"
  },
  "toc": {
   "base_numbering": 1,
   "nav_menu": {},
   "number_sections": true,
   "sideBar": true,
   "skip_h1_title": false,
   "title_cell": "Table of Contents",
   "title_sidebar": "Contents",
   "toc_cell": false,
   "toc_position": {},
   "toc_section_display": true,
   "toc_window_display": false
  }
 },
 "nbformat": 4,
 "nbformat_minor": 2
}
