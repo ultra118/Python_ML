{
 "cells": [
  {
   "cell_type": "markdown",
   "metadata": {},
   "source": [
    "# Pycharm 설치\n",
    "- https://enant.tistory.com/10\n",
    "![image](https://user-images.githubusercontent.com/28910538/57113865-7f921680-6d81-11e9-9070-30e5dc472912.png)\n"
   ]
  },
  {
   "cell_type": "markdown",
   "metadata": {},
   "source": [
    "# Anaconda 설치\n",
    "- [이대로 진행해서 설치](https://enant.tistory.com/10)\n",
    "- [conda 명령어가 없다고 하면 ](https://starseeker711.tistory.com/182)\n",
    "- https://m.blog.naver.com/PostView.nhn?blogId=radii26omg&logNo=220752257115&proxyReferer=https%3A%2F%2Fwww.google.com%2F"
   ]
  },
  {
   "cell_type": "markdown",
   "metadata": {},
   "source": [
    "## 가상환경 셋팅\n",
    "- conda create --name 가상환경명 python=3.6\n",
    "    - 위 명령  통해 가상환경을 만듬\n",
    "    - conda create --name test1 python=3.6\n",
    "- conda info --envs\n",
    "    - 설치 된 가상환경 리스트 확인\n",
    "- source activate 가상환경명\n",
    "    - 가상환경 활성화\n",
    "\n",
    "### tensorflow - cpu\n",
    "- conda create --name tf_cpu_env python=3.6\n",
    "- source activate tf_cpu_env\n",
    "- [python 버전별 설치](https://artiward.tistory.com/48)\n",
    "\n",
    "### tensorflow - gpu\n",
    "- https://red-pulse.tistory.com/226\n",
    "- https://develop-fpga.tistory.com/9\n",
    "- http://blog.naver.com/PostView.nhn?blogId=schmacher&logNo=221383173685&parentCategoryNo=&categoryNo=18&viewDate=&isShowPopularPosts=true&from=search"
   ]
  },
  {
   "cell_type": "markdown",
   "metadata": {},
   "source": [
    "### computer vision\n",
    "- conda create --name cv_env python=3.6\n"
   ]
  },
  {
   "cell_type": "code",
   "execution_count": null,
   "metadata": {},
   "outputs": [],
   "source": []
  }
 ],
 "metadata": {
  "kernelspec": {
   "display_name": "[GPU_ENV]",
   "language": "python",
   "name": "gpu_env"
  },
  "language_info": {
   "codemirror_mode": {
    "name": "ipython",
    "version": 3
   },
   "file_extension": ".py",
   "mimetype": "text/x-python",
   "name": "python",
   "nbconvert_exporter": "python",
   "pygments_lexer": "ipython3",
   "version": "3.6.8"
  },
  "toc": {
   "base_numbering": 1,
   "nav_menu": {},
   "number_sections": true,
   "sideBar": true,
   "skip_h1_title": false,
   "title_cell": "Table of Contents",
   "title_sidebar": "Contents",
   "toc_cell": false,
   "toc_position": {},
   "toc_section_display": true,
   "toc_window_display": false
  }
 },
 "nbformat": 4,
 "nbformat_minor": 2
}
