{
 "cells": [
  {
   "cell_type": "markdown",
   "metadata": {},
   "source": [
    "# MultiVariable LinearRegression\n",
    "- Linear Regression\n",
    "    - 1. Hypothesis\n",
    "        - H(x) = Wx + b\n",
    "    - 2. Cost function\n",
    "        - cost(W,b) = tf.reduce_mean(tf.square(H(x)-y))\n",
    "            - 예측값과 실제값의 차이 제곱의 평균\n",
    "    - 3. Gradient descent algorithm\n",
    "        - cost가 최소값이 되는 부분\n",
    "            - W = W - (cost를 w로 미분)\n",
    "- 1. Hypothesis\n",
    "    - H(x1,x2,x3) = w1x1 + w2x2 + w3x3\n",
    "    - using matrix \n",
    "\n",
    "![image](https://user-images.githubusercontent.com/28910538/53856761-c4fec580-4016-11e9-95a0-f04fe8cbb4aa.png)\n",
    "\n",
    "![image](https://user-images.githubusercontent.com/28910538/53865761-4bc19b80-4033-11e9-8836-352f2f9908f3.png)\n"
   ]
  },
  {
   "cell_type": "code",
   "execution_count": 7,
   "metadata": {},
   "outputs": [
    {
     "name": "stdout",
     "output_type": "stream",
     "text": [
      "0 Cost:  99262.97 \n",
      "Prediction:\n",
      " [-134.05586 -147.11923 -152.19379 -166.32718 -108.10003]\n",
      "500 Cost:  15.32958 \n",
      "Prediction:\n",
      " [146.27509 188.29591 179.08748 194.34784 147.42659]\n",
      "1000 Cost:  11.748597 \n",
      "Prediction:\n",
      " [146.97838 187.81299 179.30196 194.51079 146.78627]\n",
      "1500 Cost:  9.017145 \n",
      "Prediction:\n",
      " [147.59213 187.39145 179.489   194.65382 146.2266 ]\n",
      "2000 Cost:  6.9335527 \n",
      "Prediction:\n",
      " [148.12772 187.0235  179.65211 194.77942 145.73735]\n"
     ]
    }
   ],
   "source": [
    "import tensorflow as tf\n",
    "\n",
    "x1_data = [73., 93., 89., 96., 73.]\n",
    "x2_data = [80., 88., 91., 98., 66.]\n",
    "x3_data = [75., 93., 90., 100., 70.]\n",
    "\n",
    "y_data = [152., 185., 180., 196., 142.]\n",
    "\n",
    "# placeholders for a tensor that will be always fed.\n",
    "x1 = tf.placeholder(tf.float32)\n",
    "x2 = tf.placeholder(tf.float32)\n",
    "x3 = tf.placeholder(tf.float32)\n",
    "\n",
    "Y = tf.placeholder(tf.float32)\n",
    "\n",
    "w1 = tf.Variable(tf.random_normal([1]), name='weight1')\n",
    "w2 = tf.Variable(tf.random_normal([1]), name='weight2')\n",
    "w3 = tf.Variable(tf.random_normal([1]), name='weight3')\n",
    "b = tf.Variable(tf.random_normal([1]), name='bias')\n",
    "\n",
    "hypothesis = x1 * w1 + x2 * w2 + x3 * w3 + b\n",
    "\n",
    "# cost/loss function\n",
    "cost = tf.reduce_mean(tf.square(hypothesis - Y))\n",
    "\n",
    "# Minimize. Need a very small learning rate for this data set\n",
    "optimizer = tf.train.GradientDescentOptimizer(learning_rate=1e-5)\n",
    "train = optimizer.minimize(cost)\n",
    "\n",
    "# Launch the graph in a session.\n",
    "sess = tf.Session()\n",
    "# Initializes global variables in the graph.\n",
    "sess.run(tf.global_variables_initializer())\n",
    "\n",
    "for step in range(2001):\n",
    "    cost_val, hy_val, _ = sess.run([cost, hypothesis, train],\n",
    "                                   feed_dict={x1: x1_data, x2: x2_data, x3: x3_data, Y: y_data})\n",
    "    if step % 500 == 0:\n",
    "        print(step, \"Cost: \", cost_val, \"\\nPrediction:\\n\", hy_val)"
   ]
  },
  {
   "cell_type": "code",
   "execution_count": 17,
   "metadata": {},
   "outputs": [
    {
     "name": "stdout",
     "output_type": "stream",
     "text": [
      "x_data shape : (5, 3), y_data shape : (5, 1)\n",
      "cost val : 49360.0078125\n",
      "cost val : 3.5923104286193848\n",
      "cost val : 3.0280368328094482\n",
      "cost val : 2.591874122619629\n",
      "cost val : 2.2535483837127686\n",
      "cost val : 1.9899667501449585\n"
     ]
    }
   ],
   "source": [
    "import tensorflow as tf\n",
    "import numpy as np\n",
    "\n",
    "x1_data = [73., 93., 89., 96., 73.]\n",
    "x2_data = [80., 88., 91., 98., 66.]\n",
    "x3_data = [75., 93., 90., 100., 70.]\n",
    "\n",
    "y_data = [152., 185., 180., 196., 142.]\n",
    "y_data = np.array(y_data).reshape(-1,1)\n",
    "x_data = np.vstack((x1_data,x2_data,x3_data))\n",
    "x_data = np.transpose(x_data)\n",
    "print(\"x_data shape : {}, y_data shape : {}\".format(x_data.shape, y_data.shape))\n",
    "\n",
    "X = tf.placeholder(shape = [None, 3], dtype = tf.float32)\n",
    "Y = tf.placeholder(shape = [None, 1], dtype = tf.float32)\n",
    "\n",
    "#W = tf.get_variable(\"weight\", shape = [3,1], initializer=tf.contrib.layers.xavier_initializer())\n",
    "W = tf.Variable(tf.random_normal([3,1]),dtype = tf.float32, name = \"weight\")\n",
    "b = tf.Variable(tf.random_normal([1]),dtype = tf.float32,name = \"bias\")\n",
    "\n",
    "hypothesis = tf.matmul(X, W) + b\n",
    "cost = tf.reduce_mean(tf.square(hypothesis-Y))\n",
    "\n",
    "optimize = tf.train.GradientDescentOptimizer(learning_rate=0.00001)\n",
    "train = optimize.minimize(cost)\n",
    "\n",
    "sess = tf.Session()\n",
    "sess.run(tf.global_variables_initializer())\n",
    "\n",
    "for step in range(3000):\n",
    "    _, cost_val = sess.run([train, cost], feed_dict={X:x_data, Y:y_data})\n",
    "    if step % 500 == 0:\n",
    "        print(\"cost val : {}\".format(cost_val))\n"
   ]
  },
  {
   "cell_type": "markdown",
   "metadata": {},
   "source": [
    "### read to csv"
   ]
  },
  {
   "cell_type": "code",
   "execution_count": 20,
   "metadata": {},
   "outputs": [
    {
     "name": "stdout",
     "output_type": "stream",
     "text": [
      "x_data.shape : (25, 3), y_data.shape : (25, 1)\n",
      "cost value : 4.412680149078369\n",
      "cost value : 0.028226913884282112\n",
      "cost value : 0.009903226979076862\n",
      "cost value : 0.005220097955316305\n"
     ]
    }
   ],
   "source": [
    "import tensorflow as tf\n",
    "import numpy as np\n",
    "import pandas as pd\n",
    "from sklearn.preprocessing import MinMaxScaler\n",
    "import warnings\n",
    "\n",
    "warnings.filterwarnings(action=\"ignore\")\n",
    "\n",
    "score_csv = pd.read_csv(\"./data/data-01-test-score.csv\", sep=\",\", header=None)\n",
    "\n",
    "x_data = score_csv[[0,1,2]].values\n",
    "y_data = score_csv[3].values\n",
    "y_data = y_data.reshape(-1,1)\n",
    "scaler = MinMaxScaler()\n",
    "x_data = scaler.fit_transform(x_data)\n",
    "y_data = scaler.fit_transform(y_data)\n",
    "print(\"x_data.shape : {}, y_data.shape : {}\".format(x_data.shape, y_data.shape))\n",
    "\n",
    "X = tf.placeholder(shape = [None, 3], dtype = tf.float32)\n",
    "Y = tf.placeholder(shape = [None, 1], dtype = tf.float32)\n",
    "\n",
    "W = tf.Variable(tf.random_normal([3,1]), dtype = tf.float32)\n",
    "b = tf.Variable(tf.random_normal([1]), dtype = tf.float32)\n",
    "\n",
    "hypothesis = tf.matmul(X,W) + b\n",
    "cost = tf.reduce_mean(tf.square(hypothesis-Y))\n",
    "\n",
    "optimizer = tf.train.GradientDescentOptimizer(learning_rate=0.01)\n",
    "train = optimizer.minimize(cost)\n",
    "\n",
    "sess = tf.Session()\n",
    "sess.run(tf.global_variables_initializer())\n",
    "\n",
    "for step in range(2000):\n",
    "    _, cost_val = sess.run([train, cost], feed_dict={X:x_data, Y:y_data})\n",
    "    if step % 500 == 0:\n",
    "        print(\"cost value : {}\".format(cost_val))\n",
    "\n",
    "        "
   ]
  },
  {
   "cell_type": "markdown",
   "metadata": {},
   "source": [
    "### Queue Runners\n",
    "- 파일들을 어떤 batch만큼 읽어오는\n",
    "    - 1. tf.train.string_input_producer\n",
    "    - 2. tf.TextLineReadere()\n",
    "        - reader.read\n",
    "    - 3. tf.decode_csv()"
   ]
  },
  {
   "cell_type": "code",
   "execution_count": null,
   "metadata": {},
   "outputs": [],
   "source": []
  },
  {
   "cell_type": "code",
   "execution_count": null,
   "metadata": {},
   "outputs": [],
   "source": []
  },
  {
   "cell_type": "code",
   "execution_count": null,
   "metadata": {},
   "outputs": [],
   "source": []
  },
  {
   "cell_type": "code",
   "execution_count": null,
   "metadata": {},
   "outputs": [],
   "source": []
  }
 ],
 "metadata": {
  "kernelspec": {
   "display_name": "[GPU_ENV]",
   "language": "python",
   "name": "gpu_env"
  },
  "language_info": {
   "codemirror_mode": {
    "name": "ipython",
    "version": 3
   },
   "file_extension": ".py",
   "mimetype": "text/x-python",
   "name": "python",
   "nbconvert_exporter": "python",
   "pygments_lexer": "ipython3",
   "version": "3.6.8"
  }
 },
 "nbformat": 4,
 "nbformat_minor": 2
}
