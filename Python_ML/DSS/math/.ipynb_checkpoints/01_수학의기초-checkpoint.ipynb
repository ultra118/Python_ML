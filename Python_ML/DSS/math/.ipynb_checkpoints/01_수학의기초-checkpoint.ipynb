{
 "cells": [
  {
   "cell_type": "markdown",
   "metadata": {},
   "source": [
    "# 1.1 [그리스문자](https://datascienceschool.net/view-notebook/e943c350244842a99ab4503fa50b8a6b/)"
   ]
  },
  {
   "cell_type": "markdown",
   "metadata": {},
   "source": [
    "$$ \\alpha = \\beta $$"
   ]
  },
  {
   "cell_type": "markdown",
   "metadata": {},
   "source": [
    "# 1.2 [수열과 집합의 합과 곱](https://datascienceschool.net/view-notebook/f4e77fde0de64b0ab1001810881544e1/)\n",
    "- 수열의 순서가 중요하지 않은 경우에는 집합으로 표시하기도 함\n",
    "    - 1,2,3,4,5 -> {1,2,3,4,5}\n",
    "    - 생략기호는 {xi}\n",
    "- 시그마, 파이는 sum, product라고 읽음 index는 i,j,k,l,m,n등을 주로 사용"
   ]
  }
 ],
 "metadata": {
  "kernelspec": {
   "display_name": "data_env",
   "language": "python",
   "name": "data_env"
  },
  "language_info": {
   "codemirror_mode": {
    "name": "ipython",
    "version": 3
   },
   "file_extension": ".py",
   "mimetype": "text/x-python",
   "name": "python",
   "nbconvert_exporter": "python",
   "pygments_lexer": "ipython3",
   "version": "3.6.6"
  }
 },
 "nbformat": 4,
 "nbformat_minor": 2
}
