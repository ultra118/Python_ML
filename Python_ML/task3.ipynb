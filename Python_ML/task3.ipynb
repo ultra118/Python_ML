{
 "cells": [
  {
   "cell_type": "code",
   "execution_count": 106,
   "metadata": {},
   "outputs": [
    {
     "name": "stdout",
     "output_type": "stream",
     "text": [
      "(116, 2)\n",
      "(116, 2)\n",
      "cost_value : 1.656806468963623, weight_value : [-0.709326], bias_value : [-0.61831915]\n",
      "cost_value : 0.022777212783694267, weight_value : [0.3540583], bias_value : [0.06949429]\n",
      "cost_value : 0.01988827995955944, weight_value : [0.546398], bias_value : [-0.03757682]\n",
      "cost_value : 0.01981690712273121, weight_value : [0.5805369], bias_value : [-0.05658038]\n",
      "cost_value : 0.019816827028989792, weight_value : [0.5817219], bias_value : [-0.05724007]\n",
      "62도일때 ozone : [3.5842187]\n"
     ]
    }
   ],
   "source": [
    "# 문제1 ) simple linear regression\n",
    "# 온도에 따른 ozone량 예측하는 프로그램을 TensorFlow를 이용하여 작성한다.\n",
    "# 제공된 CSV 파일로 부터 온도와 온도에 따른 ozone량 데이터를 loading후 학습과정을 진행하고 \n",
    "# 특정 온도(화씨 62도)에 따른 ozone량을 예측한다.\n",
    "\n",
    "import numpy as np\n",
    "import pandas as pd\n",
    "import tensorflow as tf\n",
    "import matplotlib\n",
    "import matplotlib.pyplot as plt\n",
    "import warnings\n",
    "\n",
    "warnings.filterwarnings(action=\"ignore\")\n",
    "\n",
    "file_path = \"./data/ozone/ozone.csv\"\n",
    "pd_ozone = pd.read_csv(file_path, sep=\",\")\n",
    "# Ozone Temp 속성만을 갖는 df\n",
    "pd_ozone_temp_orig = pd_ozone[[\"Ozone\",\"Temp\"]]\n",
    "print(pd_ozone_temp.shape)\n",
    "# 두 속성 중 결측 값 하나라도 있으면 행을 지움\n",
    "pd_ozone_temp_orig.dropna(how=\"any\", inplace=True)\n",
    "print(pd_ozone_temp_orig.shape)\n",
    "\n",
    "\n",
    "# 단위가 다르기때문에 일반화 시켜줌\n",
    "# 0~1 사이의 값으로 나타냄\n",
    "pd_ozone_temp = pd_ozone_temp_orig.apply(lambda x: (x - np.min(x))/(np.max(x) - np.min(x)), axis = 0)\n",
    "\n",
    "# tensor graph\n",
    "X = tf.placeholder(dtype = tf.float32)\n",
    "Y = tf.placeholder(dtype = tf.float32)\n",
    "\n",
    "W = tf.Variable(tf.random_normal([1,], dtype=tf.float32), name = \"weight1\")\n",
    "b = tf.Variable(tf.random_normal([1,], dtype=tf.float32), name = \"bias1\")\n",
    "\n",
    "H = W*X+b\n",
    "cost = tf.reduce_mean(tf.square(H-Y))\n",
    "\n",
    "optimizer = tf.train.AdamOptimizer(learning_rate=0.005)\n",
    "train = optimizer.minimize(cost)\n",
    "\n",
    "sess = tf.Session()\n",
    "sess.run(tf.global_variables_initializer())\n",
    "\n",
    "\n",
    "for step in range(5000):\n",
    "    _, cost_value, weight_value, bias_value= sess.run([train,cost, W, b], feed_dict={X:pd_ozone_temp[\"Temp\"], Y:pd_ozone_temp[\"Ozone\"]})\n",
    "    if step % 1000 == 0:\n",
    "        print(\"cost_value : {}, weight_value : {}, bias_value : {}\".format(cost_value,weight_value,bias_value))\n",
    "\n",
    "\n",
    "#62도 일때 ozone  \n",
    "predict_x = 62\n",
    "x = pd_ozone_temp_orig[\"Temp\"]\n",
    "y = pd_ozone_temp_orig[\"Ozone\"]\n",
    "# temp를 일반화 시켜서 넣고\n",
    "x_temp = (62 -  x.min(axis = 0))/(x.max(axis = 0) - x.min(axis = 0))\n",
    "# y는 일반화의 역으로 뽑아봄\n",
    "predict_y = (W * x_temp + b)*(y.max(axis=0)- y.min(axis=0))+y.min(axis=0)\n",
    "print(\"{}도일때 ozone : {}\".format(predict_x, sess.run(predict_y)))\n"
   ]
  }
 ],
 "metadata": {
  "kernelspec": {
   "display_name": "data_env",
   "language": "python",
   "name": "data_env"
  },
  "language_info": {
   "codemirror_mode": {
    "name": "ipython",
    "version": 3
   },
   "file_extension": ".py",
   "mimetype": "text/x-python",
   "name": "python",
   "nbconvert_exporter": "python",
   "pygments_lexer": "ipython3",
   "version": "3.6.6"
  }
 },
 "nbformat": 4,
 "nbformat_minor": 2
}
