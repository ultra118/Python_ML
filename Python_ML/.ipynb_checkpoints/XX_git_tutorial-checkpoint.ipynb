{
 "cells": [
  {
   "cell_type": "markdown",
   "metadata": {},
   "source": [
    "출처 : [지옥에서 온 Git](https://opentutorials.org/course/2708/15170)"
   ]
  },
  {
   "cell_type": "markdown",
   "metadata": {},
   "source": [
    "### 0. 저장소 설정\n",
    "- 특정 폴더 안으로 깃을 통해 접근하고\n",
    "    - mkdir 파일명 : 파일명으로 폴더 만듬\n",
    "    - cd 경로 : 경로로 들어감\n",
    "    - git init : 현재 디렉토리를 git의 (버전)저장소로 만듬\n",
    "\n",
    "### 1. 파일추적\n",
    "- 파일 생성은 vim ~\n",
    "- git add 파일명 : git이 파일을 추적하도록 명령\n",
    "    - git add . 은 모든 변경된 파일을 추적하도록 명령\n",
    "- gits status : 프로젝트 폴더의 상태를 확인\n",
    "\n",
    "### 2. 버전 만들기(commit)\n",
    "- 작업이 완결된 상태가 버전\n",
    "- git config --global user.name 이름\n",
    "- git config --global user.eamil 이메일\n"
   ]
  },
  {
   "cell_type": "code",
   "execution_count": null,
   "metadata": {},
   "outputs": [],
   "source": []
  },
  {
   "cell_type": "code",
   "execution_count": null,
   "metadata": {},
   "outputs": [],
   "source": []
  },
  {
   "cell_type": "code",
   "execution_count": null,
   "metadata": {},
   "outputs": [],
   "source": []
  }
 ],
 "metadata": {
  "kernelspec": {
   "display_name": "data_env",
   "language": "python",
   "name": "data_env"
  },
  "language_info": {
   "codemirror_mode": {
    "name": "ipython",
    "version": 3
   },
   "file_extension": ".py",
   "mimetype": "text/x-python",
   "name": "python",
   "nbconvert_exporter": "python",
   "pygments_lexer": "ipython3",
   "version": "3.6.8"
  }
 },
 "nbformat": 4,
 "nbformat_minor": 2
}
