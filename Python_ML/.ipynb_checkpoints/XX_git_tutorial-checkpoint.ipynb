{
 "cells": [
  {
   "cell_type": "markdown",
   "metadata": {},
   "source": [
    "출처 : [지옥에서 온 Git](https://opentutorials.org/course/2708/15170)"
   ]
  },
  {
   "cell_type": "markdown",
   "metadata": {},
   "source": [
    "### 0. 저장소 설정\n",
    "- 특정 폴더 안으로 깃을 통해 접근하고\n",
    "    - mkdir 파일명 : 파일명으로 폴더 만듬\n",
    "    - cd 경로 : 경로로 들어감\n",
    "    - git init : 현재 디렉토리를 git의 (버전)저장소로 만듬\n",
    "\n",
    "### 1. 파일추적\n",
    "- 파일 생성은 vim ~\n",
    "- git add 파일명 : git이 파일을 추적하도록 명령\n",
    "    - git add . 은 모든 변경된 파일을 추적하도록 명령\n",
    "- gits status : 프로젝트 폴더의 상태를 확인\n",
    "\n",
    "### 2. 버전 만들기(commit)\n",
    "- 작업이 완결된 상태가 버전\n",
    "- git config --global user.name 이름\n",
    "- git config --global user.eamil 이메일\n",
    "- vim 파일명 통해 파일 수정 가능\n",
    "    - I : 수정 단축키\n",
    "    - ESC누른후 :wq를 입력하면 저장하고 나가기\n",
    "- git commit 쓰고 맨윗줄 버전쓰고 저장하고 나가기\n",
    "\n",
    "### 3. Stage area(commit 대기할 파일들의 stage)\n",
    "git log에서 나가려면 q\n",
    "- commit하기 전에 왜 꼭 add를 해줘야 하는가\n",
    "- commit하나는 하나의 작업을 담는게 원칙\n",
    "- commit할 시기를 놓치면 다 묶어서 commit해야하는데 이러한 상황을 해결하기위해 add를 사용해 구분해서 commit(add한 파일만 commit되기 때문)\n",
    "    - commit할 애들만 add로 추가해서 따로 commit할 수 있음\n",
    "    - git add 파일면 : 파일을 commit 대기상태로 만듬\n",
    "    - git commit : commit 대기상태인 파일들만을 버전에 포함시킴\n",
    "    \n",
    "### 4. 변경사항 확인하기\n",
    "- git log -p : commit 과 commit 사이의 차이점이 무엇인지를 보여주는 정보가 나타남\n",
    "    ![image](https://user-images.githubusercontent.com/28910538/54174551-66c85b80-44ca-11e9-8696-7a7519ff6c76.png)\n",
    "    - +++ 파일은 위쪽 commit의 파일변경사항\n",
    "    - --- 파일은 아래쪽 commit의 파일변경사항\n",
    "    - f2.txt가 commit 3에서 생성되고 그 내용은 source 2 였다\n",
    "- commit 고유의 ID를 통해 \n",
    "    - git commit ID를 통해 그 commit 이전의 log만 볼 수 있음\n",
    "    - git diff ID .. ID 를 통해 커밋 사의의 차이점 만 볼 수 있음\n",
    "    - git diff : 이전 commit과의 차이점"
   ]
  },
  {
   "cell_type": "code",
   "execution_count": null,
   "metadata": {},
   "outputs": [],
   "source": []
  },
  {
   "cell_type": "code",
   "execution_count": null,
   "metadata": {},
   "outputs": [],
   "source": []
  },
  {
   "cell_type": "code",
   "execution_count": null,
   "metadata": {},
   "outputs": [],
   "source": []
  }
 ],
 "metadata": {
  "kernelspec": {
   "display_name": "data_env",
   "language": "python",
   "name": "data_env"
  },
  "language_info": {
   "codemirror_mode": {
    "name": "ipython",
    "version": 3
   },
   "file_extension": ".py",
   "mimetype": "text/x-python",
   "name": "python",
   "nbconvert_exporter": "python",
   "pygments_lexer": "ipython3",
   "version": "3.6.6"
  }
 },
 "nbformat": 4,
 "nbformat_minor": 2
}
