{
 "cells": [
  {
   "cell_type": "markdown",
   "metadata": {},
   "source": [
    "출처 : [쉽게 이해할 수 있는 Git입문](https://backlog.com/git-tutorial/kr/intro/intro1_4.html)"
   ]
  },
  {
   "cell_type": "markdown",
   "metadata": {},
   "source": [
    "### 00. Git의 기본\n",
    "- 원격 저장소와 로컬 저장소\n",
    "    - 원경 저장소 : 파일이 원격 저장소 전용 서버에서 관리\n",
    "    - 로컬 저장소 : 내 PC에 파일이 저장(개인 전용 저장소)\n",
    "- 커밋 \n",
    "    - 파일 및 폴더의 추가/변경 사항을 저장소에 기록\n",
    "    - 이전 커밋 상태부터 현재 상태까지의 변경 이력이 기록\n",
    "    ![image](https://user-images.githubusercontent.com/28910538/54108454-61620700-441f-11e9-86c1-702699b625c7.png)\n",
    "    - 각 커밋에는 영문/숫자로 이뤄진 40자리 고유 이름이 붙음\n",
    "    - 이력을 남기는 중요한 작업이기 때문에 반드시 메시지를 넣어줘야 함\n",
    "    - 주로 1번째 줄에는 변경내용을 요약, 2번째 줄은 빈 칸, 3번째 줄은 변경한 이유를 적어줌\n",
    "- 작업 트리(Work tree)와 인덱스(Index)\n",
    "    - 흔히 말하는 폴더를 '작업 트리'라고 함\n",
    "    - 인덱스 : 커밋 실행 전 저장소와 작업 트리 사이에 존재하는 공간\n",
    "    ![image](https://user-images.githubusercontent.com/28910538/54108629-cd446f80-441f-11e9-93c8-058fecf21d55.png)\n"
   ]
  },
  {
   "cell_type": "code",
   "execution_count": null,
   "metadata": {},
   "outputs": [],
   "source": []
  },
  {
   "cell_type": "code",
   "execution_count": null,
   "metadata": {},
   "outputs": [],
   "source": []
  },
  {
   "cell_type": "code",
   "execution_count": null,
   "metadata": {},
   "outputs": [],
   "source": []
  },
  {
   "cell_type": "code",
   "execution_count": null,
   "metadata": {},
   "outputs": [],
   "source": []
  },
  {
   "cell_type": "code",
   "execution_count": null,
   "metadata": {},
   "outputs": [],
   "source": []
  }
 ],
 "metadata": {
  "kernelspec": {
   "display_name": "data_env",
   "language": "python",
   "name": "data_env"
  },
  "language_info": {
   "codemirror_mode": {
    "name": "ipython",
    "version": 3
   },
   "file_extension": ".py",
   "mimetype": "text/x-python",
   "name": "python",
   "nbconvert_exporter": "python",
   "pygments_lexer": "ipython3",
   "version": "3.6.6"
  }
 },
 "nbformat": 4,
 "nbformat_minor": 2
}
