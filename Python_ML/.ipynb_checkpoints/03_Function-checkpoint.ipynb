{
 "cells": [
  {
   "cell_type": "markdown",
   "metadata": {},
   "source": [
    "### Function"
   ]
  },
  {
   "cell_type": "code",
   "execution_count": 1,
   "metadata": {},
   "outputs": [
    {
     "data": {
      "text/plain": [
       "7"
      ]
     },
     "execution_count": 1,
     "metadata": {},
     "output_type": "execute_result"
    }
   ],
   "source": [
    "# python은 독립적인 함수를 사용자가 정의해서 사용\n",
    "# define의 약자\n",
    "# 절차적 언어와 객체지향적 언어가 혼합되어 있는 형태\n",
    "def my_sum(a, b):\n",
    "    return a+b;\n",
    "my_sum(3,4)"
   ]
  },
  {
   "cell_type": "code",
   "execution_count": 3,
   "metadata": {},
   "outputs": [],
   "source": [
    "#아무런 일도 하지않는 함수\n",
    "def nothing():\n",
    "    pass\n",
    "nothing()"
   ]
  },
  {
   "cell_type": "markdown",
   "metadata": {},
   "source": [
    "### Function - 내장함수 / user define 함수"
   ]
  },
  {
   "cell_type": "markdown",
   "metadata": {},
   "source": [
    "#### abs() / all() / any() / eval() / int() / str() / len() / list() / tuple() / type()"
   ]
  },
  {
   "cell_type": "code",
   "execution_count": 46,
   "metadata": {
    "scrolled": true
   },
   "outputs": [
    {
     "name": "stdout",
     "output_type": "stream",
     "text": [
      "3\n",
      "True\n",
      "False\n",
      "True\n",
      "False\n",
      "31\n",
      "['__add__', '__class__', '__contains__', '__delattr__', '__dir__', '__doc__', '__eq__', '__format__', '__ge__', '__getattribute__', '__getitem__', '__getnewargs__', '__gt__', '__hash__', '__init__', '__init_subclass__', '__iter__', '__le__', '__len__', '__lt__', '__mod__', '__mul__', '__ne__', '__new__', '__reduce__', '__reduce_ex__', '__repr__', '__rmod__', '__rmul__', '__setattr__', '__sizeof__', '__str__', '__subclasshook__', 'capitalize', 'casefold', 'center', 'count', 'encode', 'endswith', 'expandtabs', 'find', 'format', 'format_map', 'index', 'isalnum', 'isalpha', 'isdecimal', 'isdigit', 'isidentifier', 'islower', 'isnumeric', 'isprintable', 'isspace', 'istitle', 'isupper', 'join', 'ljust', 'lower', 'lstrip', 'maketrans', 'partition', 'replace', 'rfind', 'rindex', 'rjust', 'rpartition', 'rsplit', 'rstrip', 'split', 'splitlines', 'startswith', 'strip', 'swapcase', 'title', 'translate', 'upper', 'zfill']\n",
      "47960840\n"
     ]
    }
   ],
   "source": [
    "# python 함수는 내장함수와 사용자 정의 함수로 나뉨\n",
    "# python의 내장함수\n",
    "# abs(x) : x의 절대값을 구하는 함수\n",
    "print(abs(-3))\n",
    "# all(x) : 반복 가능한 대상에 대해 모든것이 True면 True\n",
    "print(all([1,2,3,4,5]))\n",
    "print(all([1,2,3,4,None]))\n",
    "# any(x) : 반복 가능한 대상에 대해 True가 하나라도 있으면 True\n",
    "print(any([0,None,\"aa\"]))\n",
    "print(any([0,None,1==2, \"\", []]))\n",
    "# eval(x) : 문자열로 입력된 수식을 직접 계산, 문자열만 인자로 받음\n",
    "print(eval(\"3+4*7\"))\n",
    "# int(x) : 입력값을 정수로 변환\n",
    "# str(x) : 입력값을 문자열로 변환\n",
    "# len(x) : 입력 parameter에 대한 길이를 구하는 함수\n",
    "# list(x) : 리스트를 생성하거나 리스트로 변환시키는 함수\n",
    "# tuple(x) : tuple로 변환시키는 함수\n",
    "# type(x) : x의 데이터 타입을 알아내는 함수\n",
    "# dir(x) : 사용가능한 변수와 함수를 list로 return\n",
    "print(dir(\"Hello\"))\n",
    "# id(x) : 입력 객체의 고유 주소값(reference)을 return\n",
    "print(id(\"zz\"))\n",
    "\n"
   ]
  },
  {
   "cell_type": "code",
   "execution_count": 47,
   "metadata": {},
   "outputs": [
    {
     "name": "stdout",
     "output_type": "stream",
     "text": [
      "(3, 3)\n",
      "Hello World !!\n",
      "523\n",
      "9\n",
      "None\n",
      "[1, 2, 4, 5, 7, 8]\n",
      "[1, 2, 4, 5, 7, 8]\n",
      "[7, 4, 5, 8, 2, 1]\n"
     ]
    }
   ],
   "source": [
    "# divmod(a,b) : a를 b로 나눠서 몫과 나머지를 tuple로 리턴\n",
    "print(divmod(18,5))\n",
    "# join() : 문자열이 갖고있는 함수,,리스트를 문자열로 변환할때 많이 이용\n",
    "my_list = [\"Hello\",\"World\",\"!!\"]\n",
    "print(\" \".join(my_list))\n",
    "# max(), min(), pow() : 최대값, 최소값, 제곱값\n",
    "print(max([9,5,23,523,1]))\n",
    "print(pow(3,2))\n",
    "# list의 sort는 리턴 값이 없고 원본이 정렬\n",
    "my_list = [7,4,5,8,2,1]\n",
    "result = my_list.sort()\n",
    "print(result)\n",
    "print(my_list)\n",
    "# sorted() 는 정렬된 값 리턴, 원본은 바뀌지 않음\n",
    "my_list = [7,4,5,8,2,1]\n",
    "print(sorted(my_list))\n",
    "print(my_list)"
   ]
  },
  {
   "cell_type": "markdown",
   "metadata": {},
   "source": [
    "### user-define function\n",
    "#### 정해진 인자 / 인자 여러개 / 두개 이상의 값 return"
   ]
  },
  {
   "cell_type": "code",
   "execution_count": 11,
   "metadata": {},
   "outputs": [
    {
     "name": "stdout",
     "output_type": "stream",
     "text": [
      "7\n",
      "33\n",
      "(30, 200)\n"
     ]
    }
   ],
   "source": [
    "# 사용자 정의함수 (user-define function)\n",
    "# 1. 정해진 인자\n",
    "def my_calc(a,b):\n",
    "    return a+b\n",
    "print(my_calc(3,4))\n",
    "# 2 .인자의 개수에 영향을 받지 않도록 지정\n",
    "# *args는 tuple로 처리\n",
    "def my_calc2(*args):\n",
    "    result = 0\n",
    "    for tmp in args:\n",
    "        result += tmp\n",
    "    return result\n",
    "print(my_calc2(3,4,5,6,7,8))\n",
    "# 3. 두개 이상의 값을 return\n",
    "def my_calc3(a,b):\n",
    "    result1 = a+b\n",
    "    result2 = a*b\n",
    "    # 실제로는 값을 하나 return\n",
    "    # tuple의 괄호 생략에 의해 여러 값 리턴하는 것 처럼 보임\n",
    "    # 사실은 return (result1, result2)\n",
    "    return result1, result2 \n",
    "print(my_calc3(10,20))"
   ]
  },
  {
   "cell_type": "code",
   "execution_count": 20,
   "metadata": {},
   "outputs": [
    {
     "name": "stdout",
     "output_type": "stream",
     "text": [
      "7\n",
      "12\n"
     ]
    }
   ],
   "source": [
    "# 4. default값을 이용할 수 있음\n",
    "# 맨 끝 인자는 값을 넣어도, 안넣어도 됨\n",
    "# 안넣으면 c = True\n",
    "# default 인자는 무조건 뒤에서부터 채워야함\n",
    "# def my_calc4(a=3,b,c=True)는 안됨\n",
    "def my_calc4(a,b,c=True):\n",
    "    if c:\n",
    "        return a+b\n",
    "    else:\n",
    "        return a*b\n",
    "print(my_calc4(3,4))\n",
    "print(my_calc4(3,4, 0))"
   ]
  },
  {
   "cell_type": "code",
   "execution_count": 29,
   "metadata": {},
   "outputs": [
    {
     "name": "stdout",
     "output_type": "stream",
     "text": [
      "7\n"
     ]
    }
   ],
   "source": [
    "# 5. 외부변수 사용 가능 (scope)\n",
    "result = 0\n",
    "def my_calc5(a,b):\n",
    "    # 전역변수 result를 사용하겠다고 명시\n",
    "    global result \n",
    "    result += (a+b)\n",
    "    return result\n",
    "\n",
    "print(my_calc5(3,4))"
   ]
  },
  {
   "cell_type": "code",
   "execution_count": null,
   "metadata": {},
   "outputs": [],
   "source": []
  },
  {
   "cell_type": "code",
   "execution_count": null,
   "metadata": {},
   "outputs": [],
   "source": []
  },
  {
   "cell_type": "code",
   "execution_count": null,
   "metadata": {},
   "outputs": [],
   "source": []
  },
  {
   "cell_type": "code",
   "execution_count": null,
   "metadata": {},
   "outputs": [],
   "source": []
  },
  {
   "cell_type": "code",
   "execution_count": null,
   "metadata": {},
   "outputs": [],
   "source": []
  },
  {
   "cell_type": "code",
   "execution_count": null,
   "metadata": {},
   "outputs": [],
   "source": []
  },
  {
   "cell_type": "code",
   "execution_count": null,
   "metadata": {},
   "outputs": [],
   "source": []
  },
  {
   "cell_type": "code",
   "execution_count": null,
   "metadata": {},
   "outputs": [],
   "source": []
  },
  {
   "cell_type": "code",
   "execution_count": null,
   "metadata": {},
   "outputs": [],
   "source": []
  },
  {
   "cell_type": "code",
   "execution_count": null,
   "metadata": {},
   "outputs": [],
   "source": []
  },
  {
   "cell_type": "code",
   "execution_count": null,
   "metadata": {},
   "outputs": [],
   "source": []
  }
 ],
 "metadata": {
  "kernelspec": {
   "display_name": "data_env",
   "language": "python",
   "name": "data_env"
  },
  "language_info": {
   "codemirror_mode": {
    "name": "ipython",
    "version": 3
   },
   "file_extension": ".py",
   "mimetype": "text/x-python",
   "name": "python",
   "nbconvert_exporter": "python",
   "pygments_lexer": "ipython3",
   "version": "3.6.8"
  }
 },
 "nbformat": 4,
 "nbformat_minor": 2
}
