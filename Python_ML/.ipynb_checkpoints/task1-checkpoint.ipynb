{
 "cells": [
  {
   "cell_type": "code",
   "execution_count": 4,
   "metadata": {},
   "outputs": [
    {
     "name": "stdout",
     "output_type": "stream",
     "text": [
      "임계값은 : 151.968, 임의의 직원 100명 올해 평균 월급 : 152\n",
      "올해 평균 월급은 지난해보다 높다.\n"
     ]
    }
   ],
   "source": [
    "### 문제 1) 다음과 같은 내용을 이용하여 통계적 가설 검정을 수행하세요\n",
    "# 어떤 회사 A의 지난 해 평균 월급은 150만원이고, 표준편차는 12만원이다.  \n",
    "# 올해는 임금이 인상되어 그보다 높을 것이라 예상되어 임의의 직원 100명을 뽑아 평균을 조사했더니 152만원 이었다.  \n",
    "# 이 때, 올해 평균 월급이 150만원보다 높다고 할 수 있는가? ( 유의 수준 0.05에서 결정하세요 ) 실행결과예) 올해 평균 월급은 지난해보다 높다.\n",
    "import numpy as np\n",
    "\n",
    "# 모집단의 평균 연봉 : 150\n",
    "# 모집단의 표준편차 : 12\n",
    "# 표본 : 100\n",
    "# 표본의 평균 연봉 : 152\n",
    "# 유의 수준 : 0.05 => z값은 1.64\n",
    "# 대립가설 : 올해 평균 월급은 임금이 인상되어 지난해보다 높다.\n",
    "# 귀무가설 : 올해 평균 월급과 임금인상은 상관없어 지난해보다 높지 않다.\n",
    "last_mean = 150\n",
    "last_std = 12\n",
    "sample_num = 100\n",
    "sample_mean = 152\n",
    "z = 1.64\n",
    "# z = (임계값 - 모집단의 평균)/ ( (모집단의 표준편차)/(표본의 수 제곱근) )\n",
    "# 임계값 = z * (모집단의 표준편차 / 표본의 수 제곱근) + 모집단의 평균\n",
    "cv = z*(last_std/np.sqrt(sample_num)) + last_mean\n",
    "# 임계값을 기준으로 표본평균이 더 크면 귀무가설 기각, 대립가설 채택\n",
    "if sample_mean > cv:\n",
    "    print(\"임계값은 : {}, 임의의 직원 100명 올해 평균 월급 : {}\".format(cv, sample_mean))\n",
    "    print(\"올해 평균 월급은 지난해보다 높다.\")\n",
    "# 임계값을 기준으로 표본평균이 더 작으면 귀무가설 채택, 대립가설 기각\n",
    "else:\n",
    "    print(\"임계값은 : {}, 임의의 직원 100명 올해 평균 월급 : {}\".format(cv, sample_mean))\n",
    "    print(\"올해 평균 월급은 지난해보다 높지않다.\")"
   ]
  }
 ],
 "metadata": {
  "kernelspec": {
   "display_name": "data_env",
   "language": "python",
   "name": "data_env"
  },
  "language_info": {
   "codemirror_mode": {
    "name": "ipython",
    "version": 3
   },
   "file_extension": ".py",
   "mimetype": "text/x-python",
   "name": "python",
   "nbconvert_exporter": "python",
   "pygments_lexer": "ipython3",
   "version": "3.6.6"
  }
 },
 "nbformat": 4,
 "nbformat_minor": 2
}
