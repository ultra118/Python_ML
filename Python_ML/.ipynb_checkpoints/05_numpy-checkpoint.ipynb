{
 "cells": [
  {
   "cell_type": "markdown",
   "metadata": {},
   "source": [
    "### Numpy(Numerical Python)\n",
    "- 데이터 분석에 가장 기본이되는 라이브러리\n",
    "- 수치계산에 특화되어 있는 라이브러리\n",
    "    - Vector, Matrix연산에 상당한 편의성 제공\n",
    "   \n",
    "- numpy 라이브러리를 추가하기위해 anaconda prompt에서 \n",
    "    - pip install numpy 로 설치, 혹은 anaconda에서는 conda install numpy\n",
    "- Pandas와 matplotlib의 기반이 되는 library\n",
    "    - Pandas : EDA(Exploratory Data Analysis)탐색적 데이터 분석할때 사용하는데 이 때 자료구조로 numpy 사용\n",
    "    - matplotlib : 데이터를 그림으로 표현하기위해 라이브러리 \n",
    "\n",
    "### Numpy의 자료구조는 딱 하나\n",
    "- ndarray라는 배열을 사용\n",
    "    - 다차원 배열을 ndarray라 함(n-dimension array)\n",
    "    - 배열이기때문에 모든 요소가 같은 데이터 타입을 가짐\n",
    "    - 사용방법은 list와 거의 비슷하지만\n",
    "        - 실행속도, 메모리용량 등에서 비교할 수 가 없이 월등함\n",
    "        - python list는 범용적으로 사용되고 numpy는 수치계산에 특화된 계산"
   ]
  },
  {
   "cell_type": "code",
   "execution_count": 18,
   "metadata": {},
   "outputs": [
    {
     "name": "stdout",
     "output_type": "stream",
     "text": [
      "[1, 2, 3, 4]\n",
      "a[0] : 1\n",
      "type(a) : <class 'list'>\n",
      "type(a[0]) : <class 'int'>\n",
      "***************************************************\n",
      "[1 2 3 4]\n",
      "arr[0] : 1\n",
      "type(arr) : <class 'numpy.ndarray'>\n",
      "type(arr[0]) : <class 'numpy.int32'>\n",
      "int32\n"
     ]
    }
   ],
   "source": [
    "import numpy as np\n",
    "\n",
    "a = [1,2,3,4] \n",
    "print(a)\n",
    "print(\"a[0] : {}\\ntype(a) : {}\\ntype(a[0]) : {}\".format(a[0], type(a),type(a[0])))\n",
    "print(\"***************************************************\")\n",
    "# 안에 인자로 tuple이나 list를 넣을 수 있음\n",
    "arr = np.array(a)\n",
    "print(arr)\n",
    "print(\"arr[0] : {}\\ntype(arr) : {}\\ntype(arr[0]) : {}\".format(arr[0], type(arr),type(arr[0])))\n",
    "# numpy array는 같은 데이터타입만 저장되기때문에 dtype 통해 어떤 datatype이 np array를 구성하는지 볼 수 있음\n",
    "print(arr.dtype) # dtype : data type을 지칭\n"
   ]
  },
  {
   "cell_type": "markdown",
   "metadata": {},
   "source": [
    "### 2차원 Numpy"
   ]
  },
  {
   "cell_type": "code",
   "execution_count": 22,
   "metadata": {},
   "outputs": [
    {
     "name": "stdout",
     "output_type": "stream",
     "text": [
      "[[1, 2, 3], [4, 5, 6]]\n",
      "**********************************************\n",
      "[[1 2 3]\n",
      " [4 5 6]]\n"
     ]
    }
   ],
   "source": [
    "my_list = [[1,2,3],[4,5,6]]\n",
    "print(my_list)\n",
    "arr = np.array(my_list)\n",
    "print(\"**********************************************\")\n",
    "# 2차원 matrix 형태로 표현\n",
    "print(arr)"
   ]
  },
  {
   "cell_type": "markdown",
   "metadata": {},
   "source": [
    "### list를 이용해서 numpy array를 생성할 수 있음\n",
    "- data type이 가지각색인 list를 이용해서 numpy를 만들면?\n",
    "    - 전부 포괄하는 type으로 바뀌게됨"
   ]
  },
  {
   "cell_type": "code",
   "execution_count": 31,
   "metadata": {},
   "outputs": [
    {
     "name": "stdout",
     "output_type": "stream",
     "text": [
      "[1, 3.141592, 'Hello']\n",
      "my_np : ['1' '3.141592' 'Hello']\n",
      "my_np dtype : <U32\n",
      "*******************************************************\n",
      "my_np : [ 1.       -3.141592]\n",
      "my_np dtype : float64\n"
     ]
    }
   ],
   "source": [
    "my_list = [1,3.141592, \"Hello\"]\n",
    "print(my_list)\n",
    "my_np = np.array(my_list)\n",
    "print(\"my_np : {}\\nmy_np dtype : {}\".format(my_np, my_np.dtype))\n",
    "# <U32 => Unicode type\n",
    "print(\"*******************************************************\")\n",
    "my_list = [1,-3.141592]\n",
    "my_np = np.array(my_list)\n",
    "print(\"my_np : {}\\nmy_np dtype : {}\".format(my_np, my_np.dtype))"
   ]
  },
  {
   "cell_type": "markdown",
   "metadata": {},
   "source": [
    "### numpy indexing "
   ]
  },
  {
   "cell_type": "code",
   "execution_count": 40,
   "metadata": {},
   "outputs": [
    {
     "name": "stdout",
     "output_type": "stream",
     "text": [
      "[[1, 2, 3], [4, 5, 6]]\n",
      "5\n",
      "****************************************************\n",
      "[[1 2 3]\n",
      " [4 5 6]]\n",
      "5\n"
     ]
    }
   ],
   "source": [
    "my_list = [[1,2,3],[4,5,6]]\n",
    "print(my_list)\n",
    "print(my_list[1][1]) # list의 indexing\n",
    "print(\"****************************************************\")\n",
    "my_np = np.array(my_list)\n",
    "print(my_np)\n",
    "# 1행 1열, list의 indexing과 다름 \n",
    "print(my_np[1,1])"
   ]
  },
  {
   "cell_type": "markdown",
   "metadata": {},
   "source": [
    "### nump dtype 지정\n",
    "- 2번째 인자로 dtype 지정\n",
    "- 정수형 -> 실수형으로 바꾸거나 실수형 -> 정수형\n",
    "- dtpye 지정을 안하면 data를 살펴보고 dtype 알아서 지정\n",
    "    - 실수가 하나라도 있으면 전부다 실수타입으로"
   ]
  },
  {
   "cell_type": "code",
   "execution_count": 45,
   "metadata": {},
   "outputs": [
    {
     "name": "stdout",
     "output_type": "stream",
     "text": [
      "[[1. 2. 3.]\n",
      " [4. 5. 6.]]\n",
      "float64\n",
      "************************************\n",
      "[[1 2 3]\n",
      " [4 5 6]]\n",
      "int64\n"
     ]
    }
   ],
   "source": [
    "my_list = [[1,2,3],[4,5,6]]\n",
    "my_np = np.array(my_list, dtype=np.float64)\n",
    "print(my_np)\n",
    "print(my_np.dtype)\n",
    "print(\"************************************\")\n",
    "my_list = [[1.3423,2,3.141592],[4,5,6]]\n",
    "my_np = np.array(my_list, dtype=np.int64)\n",
    "print(my_np)\n",
    "print(my_np.dtype)"
   ]
  },
  {
   "cell_type": "markdown",
   "metadata": {},
   "source": [
    "### numpy array의 dimension(차원)의 개수, 크기 , axis\n",
    "- ndim ( n - demension) : 차원 수를 알려줌\n",
    "- shape : numpy array의 형태(행,열)를 tuple 형태로 return\n",
    "- len : 1차원 형태의 길이를 return, 맨 앞의 차원의 수를 return\n",
    "    - numpy array에서 사용하기 껄끄러움 => size 사용\n",
    "- size : numpy array 요소 총 개수를 return\n",
    "- axis(축) : 이 값이 0,1,2,3 숫자 값을 떨어짐, 축은 차원에 영향을 받음 \n",
    "    - 1차원이면 0을 사용할 수 있고, 2차원은 0,1을 사용 3차원은 0,1,2을 사용할 수 있음\n",
    "        - [1 2 3 4 5 6 ] 의 축은 열 방향의 축 밖에 없음 1~6의 직선방향을 지칭하는 axis = 1 \n",
    "        - 1차원일 때 0 이면 방향은 하나뿐이니까 차원 의미 가없는데\n",
    "        - [[1 2 3]  \n",
    "          [4 5 6]]\n",
    "        - nparray가 2차원이면 axis = 0, axis = 1 \n",
    "            - 방향이 행 방향 열방향 이 생기는데 이러한 방향을 지정하기위해 축이라는 개념 사용\n",
    "                - 0은 행 방향 1은 열 방향\n",
    "    - 기준이 되는 선, 축, x축 y축 으로 생각\n"
   ]
  },
  {
   "cell_type": "code",
   "execution_count": 70,
   "metadata": {},
   "outputs": [
    {
     "name": "stdout",
     "output_type": "stream",
     "text": [
      "[[1 2 3]\n",
      " [4 5 6]]\n",
      "my_np demension : 2\n",
      "my_np shape : (2, 3)\n",
      "my_np len : 2\n",
      "my_np size : 6\n",
      "***************************************************\n",
      "[1 2 3 4 5 6]\n",
      "(6,)\n"
     ]
    }
   ],
   "source": [
    "my_list = [[1,2,3],[4,5,6]]\n",
    "my_np = np.array(my_list)\n",
    "print(my_np)\n",
    "# n-dimension, shape, \n",
    "print(\"my_np demension : {}\\nmy_np shape : {}\\nmy_np len : {}\\\n",
    "\\nmy_np size : {}\".format(my_np.ndim, my_np.shape, len(my_np), my_np.size))\n",
    "print(\"***************************************************\")\n",
    "my_list = [1,2,3,4,5,6]\n",
    "my_np = np.array(my_list)\n",
    "print(my_np)\n",
    "print(my_np.shape)"
   ]
  },
  {
   "cell_type": "markdown",
   "metadata": {},
   "source": [
    "### numpy array는 형태를 내가 원하는 차원으로 변환시킬 수 있음\n",
    "- numpy array의 shape 의 값을 바꿔 줌\n",
    "    - 하지만 reshape하고자 하는 형태와 개수가 맞지 않으면 error"
   ]
  },
  {
   "cell_type": "code",
   "execution_count": 84,
   "metadata": {},
   "outputs": [
    {
     "name": "stdout",
     "output_type": "stream",
     "text": [
      "np_array : \n",
      "[ 1  2  3  4  5  6  7  8  9 10 11 12]\n",
      "np_array.ndim : 1\n",
      "np_array.shape : (12,)\n",
      "np_array.size : 12\n",
      "shape을 임의로 변환*******************************\n",
      "np_array : \n",
      "[[[ 1  2]\n",
      "  [ 3  4]]\n",
      "\n",
      " [[ 5  6]\n",
      "  [ 7  8]]\n",
      "\n",
      " [[ 9 10]\n",
      "  [11 12]]]\n",
      "np_array.ndim : 3\n",
      "np_array.shape : (3, 2, 2)\n",
      "np_array.size : 12\n"
     ]
    }
   ],
   "source": [
    "np_array = np.array([1,2,3,4,5,6,7,8,9,10,11,12])\n",
    "\n",
    "print(\"np_array : \\n{}\\nnp_array.ndim : {}\\nnp_array.shape : {}\\nnp_array.size : {}\"\\\n",
    "      .format(np_array,np_array.ndim, np_array.shape, np_array.size))\n",
    "print(\"shape을 임의로 변환*******************************\")\n",
    "np_array.shape = (3,2,2)\n",
    "#tuple 은 소괄호 생략가능하기때문에\n",
    "# np_array.shape = 3,4 이렇게 써도 됨\n",
    "print(\"np_array : \\n{}\\nnp_array.ndim : {}\\nnp_array.shape : {}\\nnp_array.size : {}\"\\\n",
    "      .format(np_array,np_array.ndim, np_array.shape, np_array.size))\n"
   ]
  },
  {
   "cell_type": "code",
   "execution_count": 101,
   "metadata": {},
   "outputs": [
    {
     "name": "stdout",
     "output_type": "stream",
     "text": [
      "my_np[0,0] = 1\n",
      "my_np[0,1] = 2\n",
      "my_np[0,2] = 3\n",
      "my_np[1,0] = 4\n",
      "my_np[1,1] = 5\n",
      "my_np[1,2] = 6\n",
      "my_np[2,0] = 7\n",
      "my_np[2,1] = 8\n",
      "my_np[2,2] = 9\n",
      "my_np[3,0] = 10\n",
      "my_np[3,1] = 11\n",
      "my_np[3,2] = 12\n",
      "********************************************\n",
      "my_np[0,0] = 1\n",
      "my_np[0,1] = 2\n",
      "my_np[0,2] = 3\n",
      "my_np[1,0] = 4\n",
      "my_np[1,1] = 5\n",
      "my_np[1,2] = 6\n",
      "my_np[2,0] = 7\n",
      "my_np[2,1] = 8\n",
      "my_np[2,2] = 9\n",
      "my_np[3,0] = 10\n",
      "my_np[3,1] = 11\n",
      "my_np[3,2] = 12\n"
     ]
    }
   ],
   "source": [
    "my_np = np.array([[1,2,3],\n",
    "                  [4,5,6],\n",
    "                  [7,8,9],\n",
    "                  [10,11,12]])\n",
    "# 출력을\n",
    "# my_np[0,0] = 1 my_np[0,1] = 2 my_np[0,2] = 3\n",
    "# my_np[1,0] = 4 my_np[1,1] = 5 my_np[1,2] = 6\n",
    "# my_np[2,0] = 7 my_np[2,1] = 8 my_np[2,2] = 9\n",
    "# my_np[3,0] = 10 my_np[3,1] = 11 my_np[3,2] = 12\n",
    "\n",
    "for d1,i in enumerate(my_np):\n",
    "    for d2,j in enumerate(i):\n",
    "        print(\"my_np[{},{}] = {}\".format(d1,d2,j))\n",
    "print(\"********************************************\")        \n",
    "for i in range(my_np.shape[0]):\n",
    "    for j in range(my_np.shape[1]):\n",
    "        print(\"my_np[{},{}] = {}\".format(i,j,my_np[i,j]))"
   ]
  },
  {
   "cell_type": "markdown",
   "metadata": {},
   "source": [
    "### numpy array의 type을 다른 type으로 변환\n",
    "- astype() : np의 dtype을 넣어 바꿔줌"
   ]
  },
  {
   "cell_type": "code",
   "execution_count": 110,
   "metadata": {},
   "outputs": [
    {
     "name": "stdout",
     "output_type": "stream",
     "text": [
      "[1 2 3 4 5]\n",
      "int32\n",
      "************************************************\n",
      "[1. 2. 3. 4. 5.]\n",
      "float32\n",
      "************************************************\n",
      "['1.0' '2.0' '3.0' '4.0' '5.0']\n",
      "<U32\n"
     ]
    }
   ],
   "source": [
    "my_np = np.array([1,2,3,4,5]) # dtype : int32 ,, 명시를 안했으니 1,2,3,4,5 보고 type 자동으로 지정\n",
    "print(my_np)\n",
    "print(my_np.dtype)\n",
    "print(\"************************************************\")\n",
    "my_np2 = my_np.astype(np.float32)\n",
    "print(my_np2)\n",
    "print(my_np2.dtype)\n",
    "print(\"************************************************\")\n",
    "my_np3 = my_np2.astype(np.str)\n",
    "print(my_np3)\n",
    "print(my_np3.dtype)\n"
   ]
  },
  {
   "cell_type": "markdown",
   "metadata": {},
   "source": [
    "### np_zeros \n",
    "- numpy array을 0으로 채우는데 shape을 지정해줘야 함\n",
    "- default dtype : float64"
   ]
  },
  {
   "cell_type": "code",
   "execution_count": 117,
   "metadata": {},
   "outputs": [
    {
     "name": "stdout",
     "output_type": "stream",
     "text": [
      "my_np :\n",
      "[[0. 0. 0. 0.]\n",
      " [0. 0. 0. 0.]\n",
      " [0. 0. 0. 0.]]\n",
      "my_np.dtype : float64\n",
      "**************************************\n",
      "my_np :\n",
      "[[0 0 0 0]\n",
      " [0 0 0 0]\n",
      " [0 0 0 0]]\n",
      "my_np.dtype : int32\n"
     ]
    }
   ],
   "source": [
    "my_np = np.zeros((3,4))\n",
    "print(\"my_np :\\n{}\\nmy_np.dtype : {}\".format(my_np, my_np.dtype))\n",
    "print(\"**************************************\")\n",
    "my_np = np.zeros((3,4), dtype = np.int32)\n",
    "print(\"my_np :\\n{}\\nmy_np.dtype : {}\".format(my_np, my_np.dtype))"
   ]
  },
  {
   "cell_type": "markdown",
   "metadata": {},
   "source": [
    "### np array practice\n"
   ]
  },
  {
   "cell_type": "code",
   "execution_count": 183,
   "metadata": {},
   "outputs": [
    {
     "name": "stdout",
     "output_type": "stream",
     "text": [
      "[[[ 0.  1.  2.  3.]\n",
      "  [ 4.  5.  6.  7.]\n",
      "  [ 8.  9. 10. 11.]]\n",
      "\n",
      " [[12. 13. 14. 15.]\n",
      "  [16. 17. 18. 19.]\n",
      "  [20. 21. 22. 23.]]]\n",
      "****************************************\n",
      "0.0\n",
      "1.0\n",
      "2.0\n",
      "3.0\n",
      "4.0\n",
      "5.0\n",
      "6.0\n",
      "7.0\n",
      "8.0\n",
      "9.0\n",
      "10.0\n",
      "11.0\n",
      "12.0\n",
      "13.0\n",
      "14.0\n",
      "15.0\n",
      "16.0\n",
      "17.0\n",
      "18.0\n",
      "19.0\n",
      "20.0\n",
      "21.0\n",
      "22.0\n",
      "23.0\n"
     ]
    }
   ],
   "source": [
    "import random\n",
    "my_np = np.zeros((2,3,4), dtype = np.float32)\n",
    "\n",
    "num = 0\n",
    "for d in range (my_np.shape[0]):\n",
    "    for x in range (my_np.shape[1]):\n",
    "        for y in range (my_np.shape[2]):\n",
    "            my_np[d,x,y] = num\n",
    "            num += 1\n",
    "            \n",
    "print(my_np)\n",
    "print(\"****************************************\")\n",
    "for x in my_np:\n",
    "    for y in x:\n",
    "        for z in y:\n",
    "            print(z)\n"
   ]
  },
  {
   "cell_type": "markdown",
   "metadata": {},
   "source": [
    "### 다양한 생성함수\n",
    "- ones : 1로 채워줌\n",
    "- empty : 쓰레기값으로 채워줌 => 굉장히 빠르게 공간을 확보할 수 있음\n",
    "- full : 원하는 값으로 채움\n",
    "- full_like : 원하는 형태와 같은 것을 새롭게 만듬"
   ]
  },
  {
   "cell_type": "code",
   "execution_count": 190,
   "metadata": {},
   "outputs": [
    {
     "name": "stdout",
     "output_type": "stream",
     "text": [
      "[[1 1 1]\n",
      " [1 1 1]]\n",
      "[[6.36598737e-314 6.36598737e-314 6.36598737e-314]\n",
      " [6.36598737e-314 6.36598737e-314 6.36598737e-314]]\n",
      "[[3 3 3 3]\n",
      " [3 3 3 3]\n",
      " [3 3 3 3]]\n",
      "[[20 20 20 20]\n",
      " [20 20 20 20]\n",
      " [20 20 20 20]]\n"
     ]
    }
   ],
   "source": [
    "my_np = np.ones((2,3), dtype = np.int32)\n",
    "print(my_np)\n",
    "\n",
    "my_np = np.empty((2,3))\n",
    "print(my_np)\n",
    "\n",
    "my_np = np.full((3,4),3)\n",
    "print(my_np)\n",
    "\n",
    "my_np2 = np.full_like(my_np,20)\n",
    "print(my_np2)"
   ]
  },
  {
   "cell_type": "markdown",
   "metadata": {},
   "source": [
    "### python => range(), numpy => arange()\n",
    "- range는 범위만 지정해주는 반면, arange는 영역을 잡아서 그 값을 가지고 numpy array를 만들어줌"
   ]
  },
  {
   "cell_type": "code",
   "execution_count": 193,
   "metadata": {},
   "outputs": [
    {
     "name": "stdout",
     "output_type": "stream",
     "text": [
      "[0 1 2 3 4 5 6 7 8 9]\n"
     ]
    }
   ],
   "source": [
    "# 0 이상 10 미만의 1의 크기로 증가하는 요소를 가지는 numpy array 생성\n",
    "my_np = np.arange(0,10,1)\n",
    "print(my_np)"
   ]
  },
  {
   "cell_type": "markdown",
   "metadata": {},
   "source": [
    "### numpy array를 만드는 또 다른 방법 - linspace\n",
    "- np.linspace(start, stop, num)\n",
    "    - start부터 시작해서 stop까지 num개를 균일한 간격으로 데이터를 생성"
   ]
  },
  {
   "cell_type": "code",
   "execution_count": 202,
   "metadata": {},
   "outputs": [
    {
     "name": "stdout",
     "output_type": "stream",
     "text": [
      "[ 0. 15.]\n",
      "[ 0.  5. 10. 15.]\n",
      "[ 0.   2.5  5.   7.5 10.  12.5 15. ]\n",
      "[ 0.  1.  2.  3.  4.  5.  6.  7.  8.  9. 10. 11. 12. 13. 14. 15.]\n"
     ]
    }
   ],
   "source": [
    "my_np = np.linspace(0, 15, 2)\n",
    "print(my_np)\n",
    "my_np = np.linspace(0, 15, 4)\n",
    "print(my_np)\n",
    "my_np = np.linspace(0, 15, 7)\n",
    "print(my_np)\n",
    "my_np = np.linspace(0, 15, 16)\n",
    "print(my_np)"
   ]
  },
  {
   "cell_type": "markdown",
   "metadata": {},
   "source": [
    "### mtaplotlib\n",
    "- anaconda propmpt에서 설치\n",
    "    - conda install matplitlib\n",
    "- plt.plot(x,y) : 어떤 x를 그릴지, 어떤 모양 y로"
   ]
  },
  {
   "cell_type": "code",
   "execution_count": 2,
   "metadata": {},
   "outputs": [
    {
     "data": {
      "image/png": "[encoded data removed]",
      "text/plain": [
       "<Figure size 432x288 with 1 Axes>"
      ]
     },
     "metadata": {
      "needs_background": "light"
     },
     "output_type": "display_data"
    }
   ],
   "source": [
    "import numpy as np\n",
    "import matplotlib.pyplot as plt\n",
    "\n",
    "my_np = np.linspace(0,10,6)\n",
    "# 뒤 쪽의 인자를 기준으로 찍음\n",
    "plt.plot(my_np, \"o\")\n",
    "plt.show()"
   ]
  },
  {
   "attachments": {
    "image.png": {
     "image/png": "[encoded data removed]"
    }
   },
   "cell_type": "markdown",
   "metadata": {},
   "source": [
    "### random하게 numpy array를 생성하는 방법\n",
    "- 정규분포\n",
    "![image.png](attachment:image.png)\n",
    "\n",
    "\n",
    "- 평균을 기준으로 분포되어 있음\n",
    "- 정규분포에서 난수 값을 추출해서 array를 생성하는 방법\n",
    "- 추출된 난수값들이 다시 정규분포를 띔\n",
    "    - 한 쪽에 치우쳐서 뽑는게 아니고 골고루 뽑음\n",
    "\n"
   ]
  },
  {
   "cell_type": "markdown",
   "metadata": {},
   "source": [
    "### 정규분포, 균등분포, 표준정규분포\n",
    "- 모두 난수를 추출해서 -> np.array화하는데 어떤 분포로 뽑을지, 그리고 어떤 값들을 뽑을지(실수,정수)\n",
    "- np.random.normal(mean, std, shape) : 정규분포\n",
    "- np.random.rand(shape(not tuple)) : 균등분포\n",
    "- np.random.randn(shape(not tuple)) : 표준 정규분포\n",
    "- np.random.randint(head,tail,shape) : 랜덤 정수 \n",
    "\n",
    "### 정규분포 : 어떤 분포(조사결과를 나열한 것)를  수학적으로 만든 것\n",
    "- Normal distribution\n",
    "- N(평균, 표준편차의제곱)\n",
    "- 평균과 표준편차로 생기는 분포\n",
    "- np.random.normal(평균,표준편차, shape)\n",
    "    - 인자의 편균과 표준편차를 갖는 정규분포에서 shape형태의 값을 랜덤하게 뽑아냄\n",
    "    - shape은 tuple형태로 넘겨준다\n"
   ]
  },
  {
   "cell_type": "code",
   "execution_count": 153,
   "metadata": {},
   "outputs": [
    {
     "data": {
      "image/png": "[encoded data removed]",
      "text/plain": [
       "<Figure size 432x288 with 1 Axes>"
      ]
     },
     "metadata": {
      "needs_background": "light"
     },
     "output_type": "display_data"
    }
   ],
   "source": [
    "# 랜덤하게 numpy array를 생성\n",
    "mean = 10 #평균\n",
    "std = 2 #표준편차\n",
    "# 평균 mean과 표준편차 std를 갖는 정규분포에서 shape = (1000,) 인 값을 랜덤하게 뽑아냄\n",
    "my_np = np.random.normal(mean,std,(1000,))\n",
    "# my_np에 대해 ,간격을 100개로 잡고 각 구간에 난수가 몇개 존재하는지 히스토그램을 그림\n",
    "plt.hist(my_np, bins=100)\n",
    "plt.show()"
   ]
  },
  {
   "cell_type": "markdown",
   "metadata": {},
   "source": [
    "### 균등분포 : 히스토그램을 그리면 각 구간의 빈도가 거의 유사한 경우\n",
    "- np.random.rand(shape)\n",
    "    -  균등분포에서 shape 형태로 난수를 추출\n",
    "        - 단, shpae은 tuple형태로 주면 안되고 인자 여러개를 주어야함\n",
    "            - (100,2)라고 치면np.random.rand(100,2)"
   ]
  },
  {
   "cell_type": "code",
   "execution_count": 154,
   "metadata": {},
   "outputs": [
    {
     "data": {
      "image/png": "[encoded data removed]",
      "text/plain": [
       "<Figure size 432x288 with 1 Axes>"
      ]
     },
     "metadata": {
      "needs_background": "light"
     },
     "output_type": "display_data"
    }
   ],
   "source": [
    "# 균등분포 : 히스토그램을 그리면 각 구간의 빈도가 거의 유사한 경우\n",
    "# 균등분포에서 난수 값을 실수로 추출해서 array를 생성하는 방법\n",
    "# 인자로 shape이 들어가면 안됨\n",
    "# [0,1) : 0이상 1미만의 구간에서 균등하게 난수 발생\n",
    "my_np = np.random.rand(1000) # 1차원 형태로 10000개 난수 추출\n",
    "plt.hist(my_np, bins=100)\n",
    "plt.show()"
   ]
  },
  {
   "cell_type": "markdown",
   "metadata": {},
   "source": [
    "### 표준정규 분포 : 평균이 0이고 표준편차가 1인 정규분포\n",
    "- np.random.randn(shape)\n",
    "    - 표준 정규분포에서 난수 값을 추출함\n",
    "    - shape은 tuple형태로 받지 못함"
   ]
  },
  {
   "cell_type": "code",
   "execution_count": 159,
   "metadata": {},
   "outputs": [
    {
     "data": {
      "image/png": "[encoded data removed]",
      "text/plain": [
       "<Figure size 432x288 with 1 Axes>"
      ]
     },
     "metadata": {
      "needs_background": "light"
     },
     "output_type": "display_data"
    }
   ],
   "source": [
    "# 표준정규분포에서 난수값을 추출해서 array를 생성\n",
    "my_np = np.random.randn(10000) # 1차원 형태로 10000개 난수 추출\n",
    "plt.hist(my_np, bins = 100)\n",
    "plt.show()"
   ]
  },
  {
   "cell_type": "markdown",
   "metadata": {},
   "source": [
    "### 균등분포에서 정수형 난수를 추출\n",
    "- np.random.randint(st,ed, shape)\n",
    "    - [st,ed) st이상 ed미만 범위에서 shape만큼 뽑음\n",
    "    - shape은 tuple형태로 받을 수 있음"
   ]
  },
  {
   "cell_type": "code",
   "execution_count": 164,
   "metadata": {},
   "outputs": [
    {
     "data": {
      "image/png": "[encoded data removed]",
      "text/plain": [
       "<Figure size 432x288 with 1 Axes>"
      ]
     },
     "metadata": {
      "needs_background": "light"
     },
     "output_type": "display_data"
    }
   ],
   "source": [
    "# 주어진 범위에서 균등분포로 정수형 난수를 추출해서 numpy array로 생성하는 함수\n",
    "my_np = np.random.randint(0,100,(50,)) # 0이상 100미만에서 (50,)뽑음\n",
    "plt.hist(my_np, bins = 10)\n",
    "plt.show()"
   ]
  },
  {
   "cell_type": "markdown",
   "metadata": {},
   "source": [
    "### 균등분포에서 실수형 난수를 추출\n",
    "- np.random.random(shape)\n",
    "    - shape 형태로 실수형 난수 추출 - tuple형태\n",
    "    - np.random.rand()와 같은데 인자로 shape을 넣어줌 - tuple형태"
   ]
  },
  {
   "cell_type": "code",
   "execution_count": 165,
   "metadata": {},
   "outputs": [
    {
     "data": {
      "image/png": "[encoded data removed]",
      "text/plain": [
       "<Figure size 432x288 with 1 Axes>"
      ]
     },
     "metadata": {
      "needs_background": "light"
     },
     "output_type": "display_data"
    }
   ],
   "source": [
    "# 균등분포에서 난수값을 실수로 추출해서 array 생성하는 건\n",
    "# np.random.rand()와 같은데 인자로 shape을 넣어줌\n",
    "# np.random.rand()는 np.random.rand(10000)방식으로 넣어줌\n",
    "my_np = np.random.random((10000,)) # 1차원 형태로 10000개 난수 추출\n",
    "plt.hist(my_np, bins=100)\n",
    "plt.show()"
   ]
  },
  {
   "cell_type": "markdown",
   "metadata": {},
   "source": [
    "### 평균\n",
    "- 나올 수 있는 값들 == 예측 값 == 기대 값\n",
    "\n",
    "### 편차\n",
    "- 특정 값들과 평균과의 거리/차이\n",
    "    - 값이 평균과 어느정도 떨어져 있냐는 지표\n",
    "    - 편차의 절대 값이 크다는 건 평균을 기점으로 멀리 떨어져 있는 <-> 평균 절대 값이 작으면 오밀조밀\n",
    "- 어떤 자료들의 평균에서 각각의 값을 뺀 값이 편차인데 이 값은 수치화 하기가 힘듬(하나의 값으로 만들기 힘듬)\n",
    "    - 싹 다 더하면 0으로 떨어지기 때문에 이를 해결하기 위한게 분산\n",
    "\n",
    "### 분산 : 편차의 제곱\n",
    "- 그 편차들을 다 제곱해서 더한 값의 평균을 낸 것이 분산이다\n",
    "- 제곱 값이다 보니 단위에 대한 문제가 생기고 (음수/양수)이를 해결하기위해 분산의 제곱근을 구하는데 이를 표준편차\n",
    "\n",
    "### 표준편차 : 분산의 제곱근\n",
    "\n",
    "### histogram : 빈도를 나타내는 그래프\n",
    "\n",
    "### 정규분포 : 종 모양의 띔\n",
    "\n",
    "### 균등분포 : 히스토그램을 그리면 각 구간의 빈도가 거의 유사\n",
    "- 똑같은 모양의 그래프가 그려짐"
   ]
  },
  {
   "cell_type": "markdown",
   "metadata": {},
   "source": [
    "### random함수는 실행시킬 때 마다 다른 값을 추출함\n",
    "- random함수는 실행시킬 때 마다 다른 값을 추출 함\n",
    "- random값 도출도 하나의 알고리즘을 이용한 순열을 프로그램적으로 뽑아내는 것\n",
    "- 이 알고리즘을 사용할 때 특정 초기 값을 이용해서 알고리즘을 돌림(seed 값) - 씨앗 값\n",
    "    - 만약 이 seed값이 동일하다면 random 알고리즘은 당연히 같은 난수를 도출(난수의 재연)"
   ]
  },
  {
   "cell_type": "code",
   "execution_count": 78,
   "metadata": {},
   "outputs": [
    {
     "name": "stdout",
     "output_type": "stream",
     "text": [
      "[[15 53 80 27]\n",
      " [44 77 75 65]\n",
      " [47 30 84 86]]\n",
      "[[99 78 61 16]\n",
      " [73  8 62 27]\n",
      " [30 80  7 76]]\n"
     ]
    }
   ],
   "source": [
    "# 0~100 랜덤 값을 뽑는데 (3,4)shpae으로 뽑음\n",
    "my_np = np.random.seed(5) # seed 값 고정 통해 난수 재연\n",
    "my_np = np.random.randint(0,100,(3,4))\n",
    "print(my_np)\n"
   ]
  },
  {
   "cell_type": "markdown",
   "metadata": {},
   "source": [
    "### numpy의 파일 입출력은 크게 2가지로 나뉨\n",
    "- 1. binary 형태로 저장하고 불러올 수 있음\n",
    "    - text형태가 아니라 확인 불가 => 대신 속도가 조금 빠름\n",
    "- 2. text형태로 저장하고 불러올 수 있음"
   ]
  },
  {
   "cell_type": "markdown",
   "metadata": {},
   "source": [
    "### numpy 파일저장 - binary 형태\n",
    "- 배열 1개를 파일 1개에 저장\n",
    "    - 확장자가 정해져 있음(.npy)\n",
    "- 배열 2개이상을 파일 1개에 저장\n",
    "    - 확장자가 정해져 있음(.npz)"
   ]
  },
  {
   "cell_type": "code",
   "execution_count": 88,
   "metadata": {},
   "outputs": [],
   "source": [
    "my_np = np.random.randint(0,100,(5,4))\n",
    "my_np2 = np.random.randint(0,100,(2,7))\n",
    "\n",
    "# 1. 배열 1개를 파일 1개에 저장( binary형태로 )\n",
    "# 파일의 확장자가 정해져 있음 (.npy)\n",
    "# path + 파일명 (확장자는 정해져있으니까 파일명만 쓰면 됨) , 어떤 배열을\n",
    "np.save(\"./save_bin\",my_np) \n",
    "#\"./ 는 현재폴더\"\n",
    "# 2. 배열 2개 이상을 파일 1개에 저장( binary형태로 )\n",
    "# 파일의 확장자가 정해져 있음 (.npz)\n",
    "np.savez(\"./savez_bin\",my_np,my_np2)"
   ]
  },
  {
   "cell_type": "markdown",
   "metadata": {},
   "source": [
    "###  binary 형태파일에서 numpy array를 읽어들이기"
   ]
  },
  {
   "cell_type": "code",
   "execution_count": 100,
   "metadata": {},
   "outputs": [
    {
     "name": "stdout",
     "output_type": "stream",
     "text": [
      "[[16 22 84 78]\n",
      " [ 2 10 67 44]\n",
      " [11 74 75 56]\n",
      " [44 89 41 94]\n",
      " [21 24 24 92]]\n",
      "***********************\n",
      "['arr_0', 'arr_1']\n",
      "[[16 22 84 78]\n",
      " [ 2 10 67 44]\n",
      " [11 74 75 56]\n",
      " [44 89 41 94]\n",
      " [21 24 24 92]]\n",
      "***********************\n",
      "[[73  8 52 14 14 52 84]\n",
      " [46 30 43 46 25 84 90]]\n"
     ]
    }
   ],
   "source": [
    "# 3. binary형태의 파일에서 numpy array를 읽어들이기\n",
    "new_my_np1 = np.load(\"./save_bin.npy\")\n",
    "print(new_my_np1)\n",
    "print(\"***********************\")\n",
    "# 배열을 여러개 저장하고 있는 파일을 읽어들였을 때 각각의 배열에 대한 reference리턴함\n",
    "new_my_np2 = np.load(\"./savez_bin.npz\")\n",
    "print(new_my_np2.files)\n",
    "print(new_my_np2[\"arr_0\"])\n",
    "print(\"***********************\")\n",
    "print(new_my_np2[\"arr_1\"])"
   ]
  },
  {
   "cell_type": "markdown",
   "metadata": {},
   "source": [
    "### numpy 파일 저장 - text형태"
   ]
  },
  {
   "cell_type": "code",
   "execution_count": 103,
   "metadata": {},
   "outputs": [
    {
     "name": "stdout",
     "output_type": "stream",
     "text": [
      "[[-0.161 -0.997 -1.553  0.877]\n",
      " [ 0.195  0.585  0.302 -0.514]\n",
      " [ 0.512 -1.448 -0.729 -2.928]\n",
      " [-2.244 -1.363 -0.735  1.39 ]\n",
      " [-2.142 -0.099  1.204 -0.137]]\n"
     ]
    }
   ],
   "source": [
    "my_np = np.random.randn(5,4)\n",
    "# csv(comma seperated value)파일에 저장\n",
    "# 확장자가 지정되어 있지 않기 때문에 지정해줘야함\n",
    "# 1: path, 2: 저장할 data, \n",
    "# 3: 어떻게 구분(delimiter)지어 저장할지 4: fmt으로 소수점도 지정가능\n",
    "np.savetxt(\"./savetxt.csv\", my_np,delimiter=\",\", fmt=\"%.3f\") # 소수점 3째 자리까지 \n",
    "\n",
    "# text file에서 데이터를 불러오기 위해서는\n",
    "# 1: path, 2: 구분할 delimiter, 3: dtype을 지정해서 타입변환\n",
    "new_my_np = np.loadtxt(\"./savetxt.csv\", delimiter=\",\", dtype=np.float64)\n",
    "print(new_my_np)"
   ]
  },
  {
   "attachments": {
    "image.png": {
     "image/png": "[encoded data removed]"
    }
   },
   "cell_type": "markdown",
   "metadata": {},
   "source": [
    "### 이러한 데이터 타입을 load\n",
    "![image.png](attachment:image.png)"
   ]
  },
  {
   "cell_type": "code",
   "execution_count": 139,
   "metadata": {},
   "outputs": [
    {
     "name": "stdout",
     "output_type": "stream",
     "text": [
      "[(b'\"Lee\"', b'\"CS\"', 3, 3.7) (b'\"Park\"', b'\"MECHANIC\"', 1, 2.2)\n",
      " (b'\"Kim\"', b'\"MATH\"', 2, 4.1)]\n",
      "\"MECHANIC\"\n",
      "<class 'numpy.ndarray'>\n",
      "(3,)\n",
      "\"MECHANIC\"\n"
     ]
    },
    {
     "data": {
      "text/plain": [
       "dtype([('name', 'S10'), ('dept', 'S10'), ('year', '<i4'), ('grade', '<f4')])"
      ]
     },
     "execution_count": 139,
     "metadata": {},
     "output_type": "execute_result"
    }
   ],
   "source": [
    "# 첫줄 생략 : skiprows = 1, dtype은 dictionary로 저장\n",
    "# 파일로부터 tuple로 읽어옴 포맷은 문자열10개,문자열10개,int,float\n",
    "new_my_np2 = np.loadtxt(\"./savetxt.csv\", \\\n",
    "                        delimiter=\",\", skiprows=1, dtype={ \"names\" :(\"name\",\"dept\",\"year\",\"grade\") , \"formats\" : (\"S10\",\"S10\",\"i\",\"f\")})\n",
    "print(new_my_np2)\n",
    "#문자열 앞의 b는 bite string의 약자 => decoding필요\n",
    "print(new_my_np2[1][1].decode())\n",
    "print(type(new_my_np2))\n",
    "print(new_my_np2.shape)\n",
    "print(new_my_np2[1,][\"dept\"].decode())\n",
    "new_my_np2.dtype\n"
   ]
  },
  {
   "cell_type": "markdown",
   "metadata": {},
   "source": [
    "## numpy array의 형태변환\n",
    "- reshape() : View 생성\n",
    "- ravel() : View를 생성\n",
    "- resize() : 새로운 배열 생성, 원소의 개수가 달라도 변환 가능, 원본을 변환, 새로운 배열생성\n",
    "\n",
    "## numpy array의 결합\n",
    "- vstack(), hstack() : 두개의 array를 결합\n",
    "\n",
    "## numpy array의 참조\n",
    "- indexing\n",
    "- slicing : View를 생성\n",
    "- boolean indxing\n",
    "- fancy indxing"
   ]
  },
  {
   "cell_type": "markdown",
   "metadata": {},
   "source": [
    "### numpy array의 shape조절\n",
    "- reshape : numpy array의 shape을 바꿔주는데 이때 만들어지는 배열은 View로 생성됨\n",
    "    - View는 데이터를 공유하는 형태인데, 보여지는 형태만 달라지는 것 뿐\n",
    "    - View는 원본 배열과 데이터를 공유하기 때문에 원본이나 View가 변하면 둘 다 데이터에 영향을 미침\n",
    "- base : 데이터를 어디서 가지고 오는지 그 값을 return"
   ]
  },
  {
   "cell_type": "code",
   "execution_count": 31,
   "metadata": {},
   "outputs": [
    {
     "name": "stdout",
     "output_type": "stream",
     "text": [
      "[ 0  1  2  3  4  5  6  7  8  9 10 11]\n",
      "(12,)\n",
      "====================================================================================================\n",
      "[[ 0  1  2]\n",
      " [ 3  4  5]\n",
      " [ 6  7  8]\n",
      " [ 9 10 11]]\n",
      "(4, 3)\n",
      "====================================================================================================\n",
      "[100   1   2   3   4   5   6   7   8   9  10  11]\n",
      "====================================================================================================\n",
      "[[100   1   2]\n",
      " [  3   4   5]\n",
      " [  6   7   8]\n",
      " [  9  10  11]]\n",
      "====================================================================================================\n",
      "[[300 300 300]\n",
      " [  3   4   5]\n",
      " [  6   7   8]\n",
      " [  9  10  11]]\n",
      "====================================================================================================\n",
      "[300 300 300   3   4   5   6   7   8   9  10  11]\n",
      "데이터가 같음\n",
      "arr1.base = [300 300 300   3   4   5   6   7   8   9  10  11]\n"
     ]
    }
   ],
   "source": [
    "import numpy as np\n",
    "# 영역을 잡아서 생성, 뒤쪽은 증감량\n",
    "arr = np.arange(0,12,1)\n",
    "print(arr)\n",
    "print(arr.shape)\n",
    "print(\"=\"*100)\n",
    "# reshape로 만들어지는 배열은 view로 생성됨\n",
    "# 즉 arr1은 arr의 데이터와 같음, 데이터를 공유하게되는 개념\n",
    "# 데이터는 같은데 보여지는 형태만 달라지는것 뿐 \n",
    "arr1 = arr.reshape(4,3)\n",
    "print(arr1)\n",
    "print(arr1.shape)\n",
    "arr[0] = 100\n",
    "print(\"=\"*100)\n",
    "print(arr)\n",
    "# arr의 데이터를 공유하기때문에 arr1의 값도 달라짐\n",
    "# View는 원본 배열과 데이터를 공유하기 때문에 원본이나 view가 변하면 둘 다 데이터에 영향 미침\n",
    "print(\"=\"*100)\n",
    "print(arr1)\n",
    "arr1[0] = 300\n",
    "print(\"=\"*100)\n",
    "print(arr1)\n",
    "print(\"=\"*100)\n",
    "print(arr)\n",
    "# base는 데이터를 어디서 가지고 왔는지\n",
    "if arr1.base is arr:\n",
    "    print(\"데이터가 같음\")\n",
    "else:\n",
    "    print(\"데이터가 다름\")\n",
    "print(\"arr1.base = {}\".format(arr1.base))\n"
   ]
  },
  {
   "cell_type": "markdown",
   "metadata": {},
   "source": [
    "### numpy array reshape\n",
    "- copy : 해당 데이터를 copy해서 별도의 데이터를 갖고있는 새로운 배열생성"
   ]
  },
  {
   "cell_type": "code",
   "execution_count": 35,
   "metadata": {},
   "outputs": [
    {
     "name": "stdout",
     "output_type": "stream",
     "text": [
      "[ 0  1  2  3  4  5  6  7  8  9 10 11]\n",
      "====================================================================================================\n",
      "[[ 0  1  2  3  4  5]\n",
      " [ 6  7  8  9 10 11]]\n",
      "None\n"
     ]
    }
   ],
   "source": [
    "arr = np.arange(0,12,1)\n",
    "# 해당 데이터를 copy해서 별도의 데이터를 갖고있는 새로운 배열생성\n",
    "arr2 = arr.reshape(2,6).copy()\n",
    "print(arr)\n",
    "print(\"=\"*100)\n",
    "arr[0] = 100\n",
    "print(arr2)\n",
    "print(arr2.base)"
   ]
  },
  {
   "cell_type": "markdown",
   "metadata": {},
   "source": [
    "### numpy array reshape\n",
    "- 차원의 원소의 개수를 -1로 지정하면 배열의 전체 원소 개수와 확정된 차원 크기를 기반으로 계산을 통해서 배열을 생성\n",
    "- ravel() : 다차원을 1차원 배열로 변환하는데 View를 return"
   ]
  },
  {
   "cell_type": "code",
   "execution_count": 61,
   "metadata": {},
   "outputs": [
    {
     "name": "stdout",
     "output_type": "stream",
     "text": [
      "[[ 0  1  2  3]\n",
      " [ 4  5  6  7]\n",
      " [ 8  9 10 11]]\n",
      "====================================================================================================\n",
      "[[ 7  9  4  4]\n",
      " [ 2  7  9  5]\n",
      " [10  3  1  3]]\n",
      "====================================================================================================\n",
      "[ 7  9  4  4  2  7  9  5 10  3  1  3]\n",
      "====================================================================================================\n",
      "[100 100 100 100   2   7   9   5  10   3   1   3]\n",
      "====================================================================================================\n",
      "[100 100 100 100   2   7   9   5  10   3   1   3]\n"
     ]
    }
   ],
   "source": [
    "arr = np.arange(0,12,1)\n",
    "# 차원의 원소개수를 -1로 지정하면\n",
    "# 일단 비워두고 열은 4열로 고정 => 행은 자동적으로 3행이 될 수 밖에 없음\n",
    "arr1 = arr.reshape(-1,4)\n",
    "print(arr1)\n",
    "arr = np.arange(0,12,1)\n",
    "print(\"=\"*100)\n",
    "# 0부터 12사이 int값 랜덤으로 (3,4)형태로 뽑음\n",
    "arr2 = np.random.randint(0,12,(3,4))\n",
    "print(arr2)\n",
    "print(\"=\"*100)\n",
    "# 다차원을 1차원배열로 변환\n",
    "arr3 = arr2.ravel()\n",
    "print(arr3)\n",
    "print(\"=\"*100)\n",
    "arr2[0] = 100\n",
    "print(arr3)\n",
    "print(\"=\"*100)"
   ]
  },
  {
   "cell_type": "markdown",
   "metadata": {},
   "source": [
    "### numpy array resize\n",
    "- resize : 배열에 대해서 원본을 변경함\n",
    "    - return값은 없음\n",
    "    - 모자란 원소는 0으로, 넘치는 원소는 버림\n",
    "- np.resize : 원본의 데이터를 가지고와서 수정(View 타입은 아님)\n",
    "    - return값 존재\n",
    "    - 원본이 변하지 않음 \n",
    "    - 원본이나 복사본 데이터가 변해도 서로 영향 X\n",
    "   "
   ]
  },
  {
   "cell_type": "code",
   "execution_count": 86,
   "metadata": {},
   "outputs": [
    {
     "name": "stdout",
     "output_type": "stream",
     "text": [
      "[[ 0  1  2  3  4  5  6]\n",
      " [ 7  8  9 10 11  0  0]\n",
      " [ 0  0  0  0  0  0  0]]\n",
      "====================================================================================================\n",
      "[[0 1 2]\n",
      " [3 4 5]]\n",
      "====================================================================================================\n"
     ]
    }
   ],
   "source": [
    "arr = np.arange(0,12,1)\n",
    "# reshape되지 않는다 요소의 개수가 맞지 않기 때문\n",
    "# arr1 = arr.reshape(3,5)\n",
    "# 하지만 resize는 됨\n",
    "# 모자란 원소는 0으로 채우고, 넘치는 원소는 나머지를 버림\n",
    "arr.resize(3,7)\n",
    "print(arr)\n",
    "print(\"=\"*100)\n",
    "arr.resize(2,3)\n",
    "print(arr)\n",
    "print(\"=\"*100)"
   ]
  },
  {
   "cell_type": "code",
   "execution_count": 140,
   "metadata": {},
   "outputs": [
    {
     "name": "stdout",
     "output_type": "stream",
     "text": [
      "[ 0  1  2  3  4  5  6  7  8  9 10 11]\n",
      "====================================================================================================\n",
      "None\n",
      "====================================================================================================\n",
      "[[ 0  1  2  3  4  5]\n",
      " [ 6  7  8  9 10 11]]\n",
      "====================================================================================================\n"
     ]
    }
   ],
   "source": [
    "arr = np.arange(0,12,1)\n",
    "# reshape되지 않는다 요소의 개수가 맞지 않기 때문\n",
    "# arr1 = arr.reshape(3,5)\n",
    "# 하지만 resize는 됨\n",
    "print(arr)\n",
    "print(\"=\"*100)\n",
    "arr2 = arr.resize(2,6)\n",
    "# resize는 원본 배열을 바꿈(return type 없음)\n",
    "print(arr2)\n",
    "print(\"=\"*100)\n",
    "print(arr)\n",
    "print(\"=\"*100)\n"
   ]
  },
  {
   "cell_type": "code",
   "execution_count": 141,
   "metadata": {},
   "outputs": [
    {
     "name": "stdout",
     "output_type": "stream",
     "text": [
      "[ 3  1  2  3  4  5  6  7  8  9 10 11]\n",
      "====================================================================================================\n",
      "[[ 0  1  2  3  4  5]\n",
      " [ 6  7  8  9 10 11]]\n"
     ]
    }
   ],
   "source": [
    "arr = np.arange(0,12,1)\n",
    "# np 의 resize는 View return\n",
    "arr2 = np.resize(arr,(2,6))\n",
    "arr[0] = 3\n",
    "print(arr)\n",
    "print(\"=\"*100)\n",
    "print(arr2)\n"
   ]
  },
  {
   "cell_type": "markdown",
   "metadata": {},
   "source": [
    "### numpy array의 연결(2개의 array를 행,열 방향으로 연결)\n",
    "- 행 방향으로 연결하려면 두 배열의 열의 개수가 맞아야함(행 개수는 상관 없음)\n",
    "- vstack(vertical stack) : 수직(행방향)으로 array를 붙임, 새로운 배열 리턴\n",
    "    - tuple 형태로 합칠 배열들 넘겨줘야함\n",
    "- hstack(horizontal stack) : 수평(열방향)으로 array를 붙임, 새로운 배열 리턴\n",
    "    - tuple 형태로 합칠 배열들 넘겨줘야함"
   ]
  },
  {
   "cell_type": "code",
   "execution_count": 101,
   "metadata": {},
   "outputs": [
    {
     "name": "stdout",
     "output_type": "stream",
     "text": [
      "[[1 2 3]\n",
      " [4 5 6]]\n",
      "====================================================================================================\n",
      "[[1 1 1]\n",
      " [2 2 2]\n",
      " [3 3 3]\n",
      " [4 4 4]]\n",
      "====================================================================================================\n",
      "[[1 2 3]\n",
      " [4 5 6]\n",
      " [1 1 1]\n",
      " [2 2 2]\n",
      " [3 3 3]\n",
      " [4 4 4]]\n",
      "====================================================================================================\n",
      "[[1 2 3 1 1 1 1 1 1]\n",
      " [4 5 6 2 2 2 2 2 2]]\n"
     ]
    }
   ],
   "source": [
    "# numpy array 연결(2개의 array를 행, 열 방향으로 연결)\n",
    "arr1 = np.array([[1,2,3],\n",
    "                 [4,5,6]])\n",
    "arr2 = np.array([[1,1,1],\n",
    "                 [2,2,2],\n",
    "                 [3,3,3],\n",
    "                 [4,4,4]])\n",
    "print(arr1)\n",
    "print(\"=\"*100)\n",
    "print(arr2)\n",
    "# hstack - vstack : horizontalstack(수평): 열방향 - verticalstack(수직): 행방향\n",
    "# 위에서 아래(행방향)-수직방향 vertical\n",
    "result = np.vstack((arr1,arr2))\n",
    "print(\"=\"*100)\n",
    "print(result)\n",
    "arr1 = np.array([[1,2,3],\n",
    "                 [4,5,6]])\n",
    "arr2 = np.array([[1,1,1,1,1,1],\n",
    "                 [2,2,2,2,2,2]])\n",
    "# 열방향으로 붙임\n",
    "result = np.hstack((arr1,arr2))\n",
    "print(\"=\"*100)\n",
    "print(result)\n"
   ]
  },
  {
   "cell_type": "code",
   "execution_count": 94,
   "metadata": {},
   "outputs": [
    {
     "name": "stdout",
     "output_type": "stream",
     "text": [
      "[[ 0  1  2  3]\n",
      " [ 4  5  6  7]\n",
      " [ 8  9 10  0]]\n",
      "[[ 0  0  0  0]\n",
      " [ 4  5  6  7]\n",
      " [ 8  9 10  0]]\n",
      "[ 0  1  2  3  4  5  6  7  8  9 10]\n"
     ]
    }
   ],
   "source": [
    "arr = np.arange(0,11,1)\n",
    "arr2 = np.resize(arr,(3,4))\n",
    "print(arr2)\n",
    "arr2[0] = 0\n",
    "print(arr2)\n",
    "print(arr)"
   ]
  },
  {
   "cell_type": "markdown",
   "metadata": {},
   "source": [
    "### numpy array의 indexing, slicing\n",
    "- numpy의 slicing은 view를 만듬(원본 데이터 공유)"
   ]
  },
  {
   "cell_type": "code",
   "execution_count": 122,
   "metadata": {},
   "outputs": [
    {
     "name": "stdout",
     "output_type": "stream",
     "text": [
      "index : 0, value : 10\n",
      "index : 1, value : 11\n",
      "index : 2, value : 12\n",
      "index : 3, value : 13\n",
      "index : 4, value : 14\n",
      "index : 5, value : 15\n",
      "index : 6, value : 16\n",
      "index : 7, value : 17\n",
      "index : 8, value : 18\n",
      "index : 9, value : 19\n"
     ]
    }
   ],
   "source": [
    "arr = np.arange(10,20,1)\n",
    "# enumerate : for문 사용시 idx와 value가 같이나옴(tuple 형태로)\n",
    "for idx,item in enumerate(arr):\n",
    "    print(\"index : {}, value : {}\".format(idx,item))"
   ]
  },
  {
   "cell_type": "code",
   "execution_count": 131,
   "metadata": {},
   "outputs": [
    {
     "name": "stdout",
     "output_type": "stream",
     "text": [
      "[10 11 12]\n",
      "[1000   11   12]\n",
      "[1000   11   12   13   14   15   16   17   18   19]\n"
     ]
    }
   ],
   "source": [
    "arr = np.arange(10,20,1)\n",
    "#numpy의 slicing은 view를 만듬\n",
    "tmp = arr[0:3]\n",
    "print(tmp)\n",
    "tmp[0] = 1000\n",
    "print(tmp)\n",
    "print(arr)"
   ]
  },
  {
   "cell_type": "code",
   "execution_count": 137,
   "metadata": {},
   "outputs": [
    {
     "name": "stdout",
     "output_type": "stream",
     "text": [
      "[10 12 14 16 18]\n",
      "[10 12 14 16 18]\n",
      "[19 18 17 16 15 14 13 12 11 10]\n"
     ]
    }
   ],
   "source": [
    "arr = np.arange(10,20,1)\n",
    "# 2씩 건너뜀\n",
    "print(arr[0:-1:2])\n",
    "print(arr[::2])\n",
    "print(arr[::-1])"
   ]
  },
  {
   "cell_type": "code",
   "execution_count": 145,
   "metadata": {},
   "outputs": [
    {
     "name": "stdout",
     "output_type": "stream",
     "text": [
      "[[4 5]\n",
      " [7 8]]\n"
     ]
    }
   ],
   "source": [
    "arr = np.array([[1,2,3],\n",
    "                [4,5,6],\n",
    "                [7,8,9]])\n",
    "# [[4,5]\n",
    "# ,[7,8]]\n",
    "print(arr[1:3,0:2])"
   ]
  },
  {
   "cell_type": "markdown",
   "metadata": {},
   "source": [
    "### mask와 boolean indexing\n",
    "- numpy는 기본적으로 boolean indexing을 지원"
   ]
  },
  {
   "cell_type": "code",
   "execution_count": 159,
   "metadata": {},
   "outputs": [
    {
     "name": "stdout",
     "output_type": "stream",
     "text": [
      "[5 8 9 5 0 0 1 7 6 9]\n",
      "[False  True False False  True  True False False  True False]\n",
      "[8 0 0 6]\n"
     ]
    }
   ],
   "source": [
    "# index : 특정 index 요소만 뽑\n",
    "# slicing : 특정 범위 요소만 뽑\n",
    "# boolean indexing : True에 해당하는 요소만 뽑\n",
    "np.random.seed(1)\n",
    "arr = np.random.randint(0,10,(10,))\n",
    "print(arr)\n",
    "# boolean mask\n",
    "bm_arr = (arr%2 == 0)\n",
    "print(bm_arr)\n",
    "print(arr[bm_arr])"
   ]
  },
  {
   "cell_type": "code",
   "execution_count": 165,
   "metadata": {},
   "outputs": [
    {
     "data": {
      "text/plain": [
       "array([[ 0.95008842, -0.15135721, -0.10321885],\n",
       "       [ 0.76103773,  0.12167502,  0.44386323]])"
      ]
     },
     "execution_count": 165,
     "metadata": {},
     "output_type": "execute_result"
    }
   ],
   "source": [
    "np.random.seed(0)\n",
    "name_arr = np.array([\"KIM\", \"MOON\", \"LEE\", \"KIM\",\"LEE\",\"KIM\"])\n",
    "data_arr = np.random.randn(6,3)\n",
    "\n",
    "# name_arr의 각 사람 정보는 data의 각 행과 mapping\n",
    "# name_arr[0] => data_arr[0,:]\n",
    "# 이름이 \"Lee\"인 사람의 data\n",
    "data_arr[name_arr == \"LEE\",:]\n",
    "    \n"
   ]
  },
  {
   "cell_type": "markdown",
   "metadata": {},
   "source": [
    "### Fancy indexing\n",
    "- 배열에 index배열을 전달해서 배열요소를 참조하는 방식"
   ]
  },
  {
   "cell_type": "code",
   "execution_count": 185,
   "metadata": {},
   "outputs": [
    {
     "name": "stdout",
     "output_type": "stream",
     "text": [
      "[[5 0 3 3 7]\n",
      " [9 3 5 2 4]\n",
      " [7 6 8 8 1]\n",
      " [6 7 7 8 1]]\n",
      "====================================================================================================\n",
      "[7 1]\n"
     ]
    }
   ],
   "source": [
    "np.random.seed(0)\n",
    "arr = np.random.randint(0,10,(4,5))\n",
    "print(arr)\n",
    "print(\"=\"*100)\n",
    "# 행은 3행, 그 행 에서 열의 idx 1과 idx4\n",
    "print(arr[3,[1,4]])"
   ]
  },
  {
   "cell_type": "markdown",
   "metadata": {},
   "source": [
    "### 배열 사용 시 총 4가지 방식\n",
    "- 1. indexing : 그냥 숫자넣어서 그 index의 요소\n",
    "- 2. slicing : 범위안 요소들\n",
    "- 3. booelan index : true,false 형식에서 true에 해당하는 요소들\n",
    "- 4. fancy indexing : 배열안에 배열을 넣어 그 요소들"
   ]
  },
  {
   "cell_type": "code",
   "execution_count": 200,
   "metadata": {},
   "outputs": [
    {
     "name": "stdout",
     "output_type": "stream",
     "text": [
      "[[ 0  1  2]\n",
      " [ 3  4  5]\n",
      " [ 6  7  8]\n",
      " [ 9 10 11]]\n"
     ]
    }
   ],
   "source": [
    "arr = np.arange(0,12)\n",
    "arr2 = arr.reshape((3,4))\n",
    "arr3 = arr2.resize((4,3))\n",
    "print(arr2)"
   ]
  },
  {
   "cell_type": "markdown",
   "metadata": {},
   "source": [
    "###### 랜덤한 값의 shape형태 2개를 받아서 첫번째 shape 형태에 맞게 hstack, 2번째 형태에 맞게 vstack"
   ]
  },
  {
   "cell_type": "code",
   "execution_count": 214,
   "metadata": {},
   "outputs": [],
   "source": [
    "import numpy as np\n",
    "\n",
    "def np_func(arr1,arr2):\n",
    "    hori_arr = np.hstack((arr1,arr2.reshape(arr1.shape[0],-1).copy()))\n",
    "    vorti_arr = np.vstack((arr2, arr1.reshape(-1,arr2.shape[1]).copy()))\n",
    "    return (hori_arr,vorti_arr)\n",
    "    \n",
    "np_arr1 = np.random.randint(1,300,(3,2))\n",
    "np_arr2 = np.random.randint(1,300,(4,6))\n",
    "\n",
    "h_arr, v_arr = np_func(np_arr1, np_arr2)"
   ]
  },
  {
   "cell_type": "code",
   "execution_count": 217,
   "metadata": {},
   "outputs": [
    {
     "name": "stdout",
     "output_type": "stream",
     "text": [
      "[[215 190  12 105 213 139 183 126 157 112]\n",
      " [198 216 259  28 218 152 175 149  30  68]\n",
      " [ 44  33  36 296  74 298 219 260 288 266]]\n",
      "====================================================================================================\n",
      "[[ 12 105 213 139 183 126]\n",
      " [157 112 259  28 218 152]\n",
      " [175 149  30  68  36 296]\n",
      " [ 74 298 219 260 288 266]\n",
      " [215 190 198 216  44  33]]\n"
     ]
    }
   ],
   "source": [
    "print(h_arr)\n",
    "print(\"=\"*100)\n",
    "print(v_arr)"
   ]
  },
  {
   "cell_type": "code",
   "execution_count": 244,
   "metadata": {},
   "outputs": [
    {
     "name": "stdout",
     "output_type": "stream",
     "text": [
      "[[5 0 3]\n",
      " [3 7 9]]\n",
      "[[3 5 2]\n",
      " [4 7 6]]\n",
      "+연산 : \n",
      "[[ 8  5  5]\n",
      " [ 7 14 15]]\n",
      "-연산 : \n",
      "[[ 2 -5  1]\n",
      " [-1  0  3]]\n",
      "*연산 : \n",
      "[[15  0  6]\n",
      " [12 49 54]]\n",
      "/연산 : \n",
      "[[1.66666667 0.         1.5       ]\n",
      " [0.75       1.         1.5       ]]\n"
     ]
    }
   ],
   "source": [
    "np.random.seed(0)\n",
    "arr1 = np.random.randint(0,10,(2,3))\n",
    "arr2 = np.random.randint(0,10,(2,3))\n",
    "print(arr1)\n",
    "print(arr2)\n",
    "# shape이 같아야 이항연산 가능\n",
    "print(\"+연산 : \\n{}\".format(arr1+arr2))\n",
    "print(\"-연산 : \\n{}\".format(arr1-arr2))\n",
    "print(\"*연산 : \\n{}\".format(arr1*arr2))\n",
    "print(\"/연산 : \\n{}\".format(arr1/arr2))\n"
   ]
  },
  {
   "cell_type": "code",
   "execution_count": 246,
   "metadata": {},
   "outputs": [
    {
     "name": "stdout",
     "output_type": "stream",
     "text": [
      "[[36 43]\n",
      " [86 97]]\n"
     ]
    }
   ],
   "source": [
    "np.random.seed(0)\n",
    "arr1 = np.random.randint(0,10,(2,3))\n",
    "arr2 = np.random.randint(0,10,(3,2))\n",
    "# 행렬 곱 : dot product\n",
    "# 내적 \n",
    "print(np.dot(arr1,arr2))"
   ]
  },
  {
   "cell_type": "markdown",
   "metadata": {},
   "source": [
    "### 브로드 캐스팅(broadcasting)\n",
    "- 사칙연산은 shape의 형태가 맞아야 하는데\n",
    "- 브로드캐스팅을 통해 한쪽 형태에 맞출 수 있으면 강제로 맞춰주고 연산\n",
    "    - 형태를 맞춰 줄 수 있을때만 발생"
   ]
  },
  {
   "cell_type": "code",
   "execution_count": 257,
   "metadata": {},
   "outputs": [
    {
     "name": "stdout",
     "output_type": "stream",
     "text": [
      "[[4 7]\n",
      " [5 0]\n",
      " [3 3]\n",
      " [3 7]]\n",
      "====================================================================================================\n",
      "[[1 3]]\n",
      "====================================================================================================\n",
      "[[ 5 10]\n",
      " [ 6  3]\n",
      " [ 4  6]\n",
      " [ 4 10]]\n",
      "====================================================================================================\n",
      "[[ 5 10]\n",
      " [ 6  3]\n",
      " [ 4  6]\n",
      " [ 4 10]]\n"
     ]
    }
   ],
   "source": [
    "# 더하기 연산을 하려면 shape의 형태가 같아야할 것 같은데\n",
    "# 2x4 와 1x2의 플러스 연산은?\n",
    "# 앞의 형태를 만들 수 있으면 그 형태에 바꿔서 더함\n",
    "np.random.seed(0)\n",
    "arr2 = np.random.randint(0,8,(4,2))\n",
    "arr1 = np.random.randint(0,6,(1,2))\n",
    "print(arr2)\n",
    "print(\"=\"*100)\n",
    "print(arr1)\n",
    "print(\"=\"*100)\n",
    "print(arr1+arr2)\n",
    "print(\"=\"*100)\n",
    "print(arr2+arr1)"
   ]
  },
  {
   "cell_type": "markdown",
   "metadata": {},
   "source": [
    "### 두개의 배열의 내용이 같은지 전체 비교\n",
    "- 배열안의 내용이 같은지를 비교"
   ]
  },
  {
   "cell_type": "code",
   "execution_count": 261,
   "metadata": {},
   "outputs": [
    {
     "name": "stdout",
     "output_type": "stream",
     "text": [
      "[0 1 2 3 4 5 6 7 8 9]\n",
      "[0 1 2 3 4 5 6 7 8 9]\n",
      "다름\n",
      "True\n"
     ]
    }
   ],
   "source": [
    "arr1 = np.arange(10)\n",
    "arr2 = np.arange(10)\n",
    "\n",
    "print(arr1)\n",
    "print(arr2)\n",
    "\n",
    "if arr is arr2:\n",
    "    print(\"같음\")\n",
    "else : \n",
    "    print(\"다름\")\n",
    "# 배열안의 내용비교    \n",
    "print(np.array_equal(arr1,arr2))    "
   ]
  },
  {
   "cell_type": "markdown",
   "metadata": {},
   "source": [
    "### numpy array의 집계함수\n",
    "- sum : 전체 합\n",
    "- mean : 평균\n",
    "- max : 최대값\n",
    "- min : 최소값\n",
    "- np.~ 형태로 써서 인자로 numpy array를 넘겨줘도 됨\n",
    "    "
   ]
  },
  {
   "cell_type": "markdown",
   "metadata": {},
   "source": [
    "### 집계함수가 필요한 이유\n",
    "- for문 같은 반복문을 사용하면 대용량의 데이터를 다루는데 비효율적임, 오래걸림\n",
    "    - 집계함수를 사용하면 빠름"
   ]
  },
  {
   "cell_type": "code",
   "execution_count": 273,
   "metadata": {},
   "outputs": [
    {
     "name": "stdout",
     "output_type": "stream",
     "text": [
      "arr1 전체 합 : 18\n",
      "arr1,arr2 전체 합 : 41\n",
      "arr1 전체 평균 : 3.6\n",
      "arr1 최대값 : 7\n",
      "arr1 최소값 : 0\n",
      "0\n"
     ]
    }
   ],
   "source": [
    "np.random.seed(0)\n",
    "arr1 = np.random.randint(0,10,(5,))\n",
    "arr2 = np.random.randint(0,10,(5,))\n",
    "print(\"arr1 전체 합 : {}\".format(arr1.sum()))\n",
    "print(\"arr1,arr2 전체 합 : {}\".format(np.sum((arr1,arr2))))\n",
    "print(\"arr1 전체 평균 : {}\".format(arr1.mean()))\n",
    "print(\"arr1 최대값 : {}\".format(arr1.max()))\n",
    "print(\"arr1 최소값 : {}\".format(arr1.min()))"
   ]
  },
  {
   "cell_type": "markdown",
   "metadata": {},
   "source": [
    "### 1차원은 문제가 없지만 차원이 증가하면 축을 고려해야함\n",
    "- 만약 인자로 axis가 없다면 None 으로 간주, 축이 없기때문에 배열 전체를 더함\n",
    "- 2차원 배열에서 axis=0 은 행방향\n",
    "- 2차원 배열에서 axis=1 은 열방향\n",
    "- 1차원 배열의 aixs=0은 행이 없기 때문에 열방향으로 진행\n",
    "- 3차원 배열에서 axis=0은 depth, axis=1은 행방향, axis=2는 열방향"
   ]
  },
  {
   "cell_type": "code",
   "execution_count": 279,
   "metadata": {},
   "outputs": [
    {
     "name": "stdout",
     "output_type": "stream",
     "text": [
      "[[5 0 3 3]\n",
      " [7 9 3 5]\n",
      " [2 4 7 6]\n",
      " [8 8 1 6]\n",
      " [7 7 8 1]]\n",
      "100\n",
      "[29 28 22 21]\n",
      "[11 24 19 23 23]\n"
     ]
    }
   ],
   "source": [
    "np.random.seed(0)\n",
    "arr = np.random.randint(0,10,(5,4))\n",
    "print(arr)\n",
    "print(arr.sum()) # 만약 인자로 axis가 없다면 None 으로 간주, 축이 없기때문에 배열 전체를 더함\n",
    "print(arr.sum(axis=0)) # 2차원 배열에서 axis=0 => 행방향\n",
    "print(arr.sum(axis=1)) # 2차원 배열에서 axis=1 => 열방향"
   ]
  },
  {
   "cell_type": "code",
   "execution_count": 286,
   "metadata": {},
   "outputs": [
    {
     "name": "stdout",
     "output_type": "stream",
     "text": [
      "[[[5 0 3 3]\n",
      "  [7 9 3 5]\n",
      "  [2 4 7 6]]\n",
      "\n",
      " [[8 8 1 6]\n",
      "  [7 7 8 1]\n",
      "  [5 9 8 9]]]\n",
      "131\n",
      "====================================================================================================\n",
      "[[13  8  4  9]\n",
      " [14 16 11  6]\n",
      " [ 7 13 15 15]]\n",
      "====================================================================================================\n",
      "[[14 13 13 14]\n",
      " [20 24 17 16]]\n",
      "====================================================================================================\n",
      "[[11 24 19]\n",
      " [23 23 31]]\n"
     ]
    }
   ],
   "source": [
    "np.random.seed(0)\n",
    "arr = np.random.randint(0,10,(2,3,4))\n",
    "print(arr)\n",
    "print(arr.sum())\n",
    "print(\"=\"*100)\n",
    "print(arr.sum(axis=0))\n",
    "print(\"=\"*100)\n",
    "print(arr.sum(axis=1))\n",
    "print(\"=\"*100)\n",
    "print(arr.sum(axis=2))"
   ]
  },
  {
   "cell_type": "markdown",
   "metadata": {},
   "source": [
    "### Mask활용"
   ]
  },
  {
   "cell_type": "code",
   "execution_count": 298,
   "metadata": {},
   "outputs": [
    {
     "name": "stdout",
     "output_type": "stream",
     "text": [
      "[ True False  True False False]\n",
      "2\n",
      "8\n"
     ]
    }
   ],
   "source": [
    "import numpy as np\n",
    "\n",
    "arr = np.array([True,False,True,False,False])\n",
    "print(arr)\n",
    "print(arr.sum()) # 배열안에 True가 몇개인지 개수를 계산\n",
    "\n",
    "arr = np.random.normal(3,1,(4,5))\n",
    "# arr중 3.0 이상인 값들의 개수\n",
    "print((arr>3.0).sum())"
   ]
  },
  {
   "cell_type": "markdown",
   "metadata": {},
   "source": [
    "### 정렬관련 함수\n",
    "- numpy.sort(배열, axis=) : 원본은 변화 X 정렬된 결과가 return\n",
    "- 배열.sort(axis=) : 원본이 정렬되고, return None\n",
    "- axis를 인자로 주지않으면 axis= -1이고 sort는 전체의 sort를 할 수 없기 때문에 axis=-1은 마지막 축 의미\n",
    "    - 즉 axis=1을 뜻함\n",
    "- 기본적으로 오름차순 정렬 수행"
   ]
  },
  {
   "cell_type": "code",
   "execution_count": 309,
   "metadata": {},
   "outputs": [
    {
     "name": "stdout",
     "output_type": "stream",
     "text": [
      "[[5 0 3]\n",
      " [3 7 9]\n",
      " [3 5 2]]\n",
      "====================================================================================================\n",
      "[[0 3 5]\n",
      " [3 7 9]\n",
      " [2 3 5]]\n",
      "====================================================================================================\n",
      "[[0 3 5]\n",
      " [2 3 5]\n",
      " [3 7 9]]\n"
     ]
    }
   ],
   "source": [
    "#numpy.sort(배열, axis=) : 원본은 변화 X 정렬된 결과가 return\n",
    "#배열.sort(axis=) : 원본이 정렬되고, return None\n",
    "np.random.seed(0)\n",
    "arr = np.random.randint(0,10,(3,3))\n",
    "print(arr)\n",
    "print(\"=\"*100)\n",
    "# axis를 명시하지 않으면 axis 값은 -1,, 맨 마지막 축 즉 2차원 배열에서는 axis=1을 뜻함\n",
    "arr.sort()\n",
    "print(arr)\n",
    "print(\"=\"*100)\n",
    "arr.sort(axis=0)\n",
    "print(arr)"
   ]
  },
  {
   "cell_type": "code",
   "execution_count": 315,
   "metadata": {},
   "outputs": [
    {
     "name": "stdout",
     "output_type": "stream",
     "text": [
      "[[1 1 1]\n",
      " [1 1 1]\n",
      " [1 1 2]\n",
      " [2 1 2]]\n"
     ]
    }
   ],
   "source": [
    "arr = np.array([[1,1,1],\n",
    "                [1,1,2],\n",
    "                [2,1,1],\n",
    "                [1,1,2]\n",
    "               ])\n",
    "arr.sort(axis=0)\n",
    "print(arr)"
   ]
  },
  {
   "cell_type": "markdown",
   "metadata": {},
   "source": [
    "### unique() 함수\n",
    "- 중복배제, 중복되지 않는 유일한 값들을 뽑음"
   ]
  },
  {
   "cell_type": "code",
   "execution_count": 313,
   "metadata": {},
   "outputs": [
    {
     "name": "stdout",
     "output_type": "stream",
     "text": [
      "[5 0 3 3 7 3 5]\n",
      "[0 3 5 7]\n"
     ]
    }
   ],
   "source": [
    "np.random.seed(0)\n",
    "arr = np.random.randint(0,9,(7,))\n",
    "print(arr)\n",
    "print(np.unique(arr))"
   ]
  },
  {
   "cell_type": "markdown",
   "metadata": {},
   "source": [
    "## MovieLens Data set"
   ]
  },
  {
   "cell_type": "code",
   "execution_count": 1,
   "metadata": {},
   "outputs": [
    {
     "name": "stdout",
     "output_type": "stream",
     "text": [
      "3.501556983616962\n"
     ]
    }
   ],
   "source": [
    "import numpy as np \n",
    "ratings = np.loadtxt(\"./data/movie/ratings.csv\", delimiter=\",\", skiprows=1)\n",
    "\n",
    "# 1. 전체 영화에 대한 평균 평점\n",
    "print(ratings[:, 2].mean())"
   ]
  },
  {
   "cell_type": "code",
   "execution_count": 2,
   "metadata": {},
   "outputs": [
    {
     "data": {
      "text/plain": [
       "232"
      ]
     },
     "execution_count": 2,
     "metadata": {},
     "output_type": "execute_result"
    }
   ],
   "source": [
    "# ratings의 0번째 요소가 1인 애들\n",
    "len(ratings[ratings[:,0] == 1,0])"
   ]
  },
  {
   "cell_type": "code",
   "execution_count": 5,
   "metadata": {},
   "outputs": [
    {
     "name": "stdout",
     "output_type": "stream",
     "text": [
      "1의 평균 평점 : 4.366379310344827\n",
      "2의 평균 평점 : 3.9482758620689653\n",
      "3의 평균 평점 : 2.4358974358974357\n",
      "4의 평균 평점 : 3.5555555555555554\n",
      "5의 평균 평점 : 3.6363636363636362\n",
      "6의 평균 평점 : 3.4936305732484074\n",
      "7의 평균 평점 : 3.2302631578947367\n"
     ]
    }
   ],
   "source": [
    "# 2. 각 사용자별 평균 평점 ,, 1000개까지만\n",
    "for d in np.unique(ratings[:1000,0]):\n",
    "    print(\"{}의 평균 평점 : {}\".format(int(d),ratings[ratings[:,0] == d,2].mean()))"
   ]
  },
  {
   "cell_type": "code",
   "execution_count": 15,
   "metadata": {},
   "outputs": [
    {
     "data": {
      "text/plain": [
       "9724"
      ]
     },
     "execution_count": 15,
     "metadata": {},
     "output_type": "execute_result"
    }
   ],
   "source": [
    "# 영화 개수는 9724개\n",
    "len(np.unique(ratings[:,1]))"
   ]
  },
  {
   "cell_type": "code",
   "execution_count": 6,
   "metadata": {},
   "outputs": [
    {
     "name": "stdout",
     "output_type": "stream",
     "text": [
      "영화1의 평균 평점 : 3.9209302325581397\n",
      "영화3의 평균 평점 : 3.2596153846153846\n",
      "영화6의 평균 평점 : 3.946078431372549\n",
      "영화47의 평균 평점 : 3.9753694581280787\n",
      "영화50의 평균 평점 : 4.237745098039215\n"
     ]
    }
   ],
   "source": [
    "# 3. 각 영화별 평균 평점 ,, 5개 까지만\n",
    "for d in np.unique(ratings[:5,1]):\n",
    "    print(\"영화{}의 평균 평점 : {}\".format(int(d),ratings[ratings[:,1] == d,2].mean()))"
   ]
  },
  {
   "cell_type": "code",
   "execution_count": 8,
   "metadata": {},
   "outputs": [
    {
     "name": "stdout",
     "output_type": "stream",
     "text": [
      "5.0\n",
      "13211\n",
      "[5. 5. 5. ... 5. 5. 5.]\n",
      "[4.70000e+01 5.00000e+01 1.01000e+02 ... 1.68248e+05 1.68250e+05\n",
      " 1.68252e+05]\n"
     ]
    }
   ],
   "source": [
    "# 4. 가장 평균평점이 높은 영화의 제목(동률이 있으면 모두 출력)\n",
    "# 가장 높은 평점\n",
    "print(ratings[:,2].max())\n",
    "# 가장 높은 평점인 영화 len, True 개수 count\n",
    "print((ratings[:,2] == ratings[:,2].max()).sum())\n",
    "# 5점인지 출력\n",
    "print(ratings[ratings[:,2] == ratings[:,2].max(),2])\n",
    "# 영화 id값들 \n",
    "print(ratings[ratings[:,2] == ratings[:,2].max(),1])\n",
    "###################################################################\n",
    "# 영화 개수만큼의 행을 갖는 \n",
    "np_arr = np.zeros((len(np.unique(ratings[:,1])),2))\n",
    "for idx,d in enumerate(np.unique(ratings[:,1])):\n",
    "    # 영화 제목\n",
    "    np_arr[idx,0] = d\n",
    "    # 영화 평점\n",
    "    np_arr[idx,1] = ratings[ratings[:,1] == d,2].mean()\n",
    "\n",
    "#movies = np.loadtxt(\"./data/movie/movies.csv\", delimiter=\",\", skiprows=1, )"
   ]
  },
  {
   "cell_type": "code",
   "execution_count": 9,
   "metadata": {},
   "outputs": [
    {
     "data": {
      "text/plain": [
       "296"
      ]
     },
     "execution_count": 9,
     "metadata": {},
     "output_type": "execute_result"
    }
   ],
   "source": [
    "# 평점 max인 영화 296개\n",
    "(np_arr[:,1] == np_arr[:,1].max()).sum()"
   ]
  },
  {
   "cell_type": "code",
   "execution_count": 10,
   "metadata": {},
   "outputs": [
    {
     "data": {
      "text/plain": [
       "(296, 2)"
      ]
     },
     "execution_count": 10,
     "metadata": {},
     "output_type": "execute_result"
    }
   ],
   "source": [
    "mov_np2 = np.zeros(((np_arr[:,1] == np_arr[:,1].max()).sum(),2))\n",
    "\n",
    "mov_np2.shape"
   ]
  },
  {
   "cell_type": "code",
   "execution_count": 60,
   "metadata": {},
   "outputs": [
    {
     "name": "stdout",
     "output_type": "stream",
     "text": [
      "[[5 0 3]\n",
      " [3 7 9]]\n",
      "[5 0 3]\n",
      "[3 7 9]\n",
      "0\n",
      "7\n"
     ]
    }
   ],
   "source": [
    "np.random.seed(0)\n",
    "my_np1 = np.random.randint(0,10,(2,3))\n",
    "print(my_np1)\n",
    "for x in my_np1:\n",
    "for idx,d in enumerate(my_np1[:,1]):\n",
    "    print(d)\n",
    "    #print(idx , d)"
   ]
  },
  {
   "cell_type": "code",
   "execution_count": 31,
   "metadata": {},
   "outputs": [
    {
     "name": "stdout",
     "output_type": "stream",
     "text": [
      "[[5 0 3 3]\n",
      " [7 9 3 5]\n",
      " [2 4 7 6]]\n",
      "====================================================================================================\n",
      "[[8 8 1 6 7]\n",
      " [7 8 1 5 9]\n",
      " [8 9 4 3 0]]\n",
      "[ True False False]\n",
      "[[5 5 5 6 7]\n",
      " [7 8 1 5 9]\n",
      " [8 9 4 3 0]]\n"
     ]
    }
   ],
   "source": [
    "np.random.seed(0)\n",
    "my_np1 = np.random.randint(0,10,(3,4))\n",
    "my_np2 = np.random.randint(0,10,(3,5))\n",
    "print(my_np1)\n",
    "print(\"=\"*100)\n",
    "print(my_np2)\n",
    "print(my_np1[:,0] == 5)\n",
    "my_np2[my_np1[:,0] == 5, 0:3] = 5\n",
    "print(my_np2)"
   ]
  },
  {
   "cell_type": "code",
   "execution_count": 33,
   "metadata": {},
   "outputs": [],
   "source": [
    "mov_np2[:,0] = np_arr[(np_arr[:,1] == np_arr[:,1].max()), 0]\n",
    "mov_np2[:,1] = np_arr[(np_arr[:,1] == np_arr[:,1].max()),1]"
   ]
  },
  {
   "cell_type": "code",
   "execution_count": 36,
   "metadata": {},
   "outputs": [
    {
     "name": "stdout",
     "output_type": "stream",
     "text": [
      "[[ 99.   5.]\n",
      " [148.   5.]]\n",
      "[  53.   99.  148.  467.  495.  496.  626.  633.  876. 1140. 1151. 1310.\n",
      " 1349. 1631. 1759. 2075. 2196. 2512. 2824. 2969. 2972. 3073. 3086. 3096.\n",
      " 3303. 3473. 3496. 3531. 3567. 3637.]\n"
     ]
    }
   ],
   "source": [
    "#영화 제목, 평점\n",
    "print(mov_np2[1:3])\n",
    "print(mov_np2[:30,0])"
   ]
  },
  {
   "cell_type": "code",
   "execution_count": 37,
   "metadata": {},
   "outputs": [],
   "source": [
    "# 평점 max인 영화 296의 id\n",
    "#print(np_arr[(np_arr[:,1] == np_arr[:,1].max()), 0])\n",
    "# 새로운 np_arr에\n",
    "#mov_np = np_arr[(np_arr[:,1] == np_arr[:,1].max()), 0]"
   ]
  },
  {
   "cell_type": "markdown",
   "metadata": {},
   "source": [
    "### conda install pandas 설치"
   ]
  },
  {
   "cell_type": "code",
   "execution_count": 38,
   "metadata": {},
   "outputs": [
    {
     "name": "stdout",
     "output_type": "stream",
     "text": [
      "[[1 'Toy Story (1995)' 'Adventure|Animation|Children|Comedy|Fantasy']\n",
      " [2 'Jumanji (1995)' 'Adventure|Children|Fantasy']\n",
      " [3 'Grumpier Old Men (1995)' 'Comedy|Romance']\n",
      " ...\n",
      " [193585 'Flint (2017)' 'Drama']\n",
      " [193587 'Bungo Stray Dogs: Dead Apple (2018)' 'Action|Animation']\n",
      " [193609 'Andrew Dice Clay: Dice Rules (1991)' 'Comedy']]\n",
      "(9742, 3)\n"
     ]
    }
   ],
   "source": [
    "import pandas as pd\n",
    "movies = pd.read_csv(\"./data/movie/movies.csv\")\n",
    "movies = movies.values\n",
    "print(movies)\n",
    "print(movies.shape)"
   ]
  },
  {
   "cell_type": "code",
   "execution_count": 40,
   "metadata": {},
   "outputs": [
    {
     "data": {
      "text/plain": [
       "(9742, 3)"
      ]
     },
     "execution_count": 40,
     "metadata": {},
     "output_type": "execute_result"
    }
   ],
   "source": [
    "movies.shape"
   ]
  },
  {
   "cell_type": "code",
   "execution_count": 63,
   "metadata": {
    "scrolled": false
   },
   "outputs": [
    {
     "name": "stdout",
     "output_type": "stream",
     "text": [
      "movies id : 53.0, movies name : ['Lamerica (1994)']\n",
      "movies id : 99.0, movies name : ['Heidi Fleiss: Hollywood Madam (1995)']\n",
      "movies id : 148.0, movies name : ['Awfully Big Adventure, An (1995)']\n",
      "movies id : 467.0, movies name : ['Live Nude Girls (1995)']\n",
      "movies id : 495.0, movies name : ['In the Realm of the Senses (Ai no corrida) (1976)']\n"
     ]
    }
   ],
   "source": [
    "# 5개만 출력\n",
    "for d in mov_np2[:5]:\n",
    "    print(\"movies id : {}, movies name : {}\".format(d[0],movies[(movies[:,0] == d[0]),1]))\n"
   ]
  },
  {
   "cell_type": "code",
   "execution_count": null,
   "metadata": {},
   "outputs": [],
   "source": []
  },
  {
   "cell_type": "code",
   "execution_count": null,
   "metadata": {},
   "outputs": [],
   "source": []
  },
  {
   "cell_type": "code",
   "execution_count": null,
   "metadata": {},
   "outputs": [],
   "source": []
  },
  {
   "cell_type": "code",
   "execution_count": null,
   "metadata": {},
   "outputs": [],
   "source": []
  },
  {
   "cell_type": "code",
   "execution_count": null,
   "metadata": {},
   "outputs": [],
   "source": []
  },
  {
   "cell_type": "code",
   "execution_count": null,
   "metadata": {},
   "outputs": [],
   "source": []
  },
  {
   "cell_type": "code",
   "execution_count": null,
   "metadata": {},
   "outputs": [],
   "source": []
  },
  {
   "cell_type": "code",
   "execution_count": null,
   "metadata": {},
   "outputs": [],
   "source": []
  },
  {
   "cell_type": "code",
   "execution_count": null,
   "metadata": {},
   "outputs": [],
   "source": []
  },
  {
   "cell_type": "code",
   "execution_count": null,
   "metadata": {},
   "outputs": [],
   "source": []
  },
  {
   "cell_type": "code",
   "execution_count": null,
   "metadata": {},
   "outputs": [],
   "source": []
  },
  {
   "cell_type": "code",
   "execution_count": null,
   "metadata": {},
   "outputs": [],
   "source": []
  },
  {
   "cell_type": "code",
   "execution_count": null,
   "metadata": {},
   "outputs": [],
   "source": []
  }
 ],
 "metadata": {
  "kernelspec": {
   "display_name": "data_env",
   "language": "python",
   "name": "data_env"
  },
  "language_info": {
   "codemirror_mode": {
    "name": "ipython",
    "version": 3
   },
   "file_extension": ".py",
   "mimetype": "text/x-python",
   "name": "python",
   "nbconvert_exporter": "python",
   "pygments_lexer": "ipython3",
   "version": "3.6.6"
  }
 },
 "nbformat": 4,
 "nbformat_minor": 2
}
