{
 "cells": [
  {
   "cell_type": "markdown",
   "metadata": {},
   "source": [
    "#### 절차적 언어\n",
    "- 기능을 기준으로 큰 문제를 작은 문제로 세분화\n",
    "- 더 이상 세분화 할 수 없을 때 까지 기능을 세분화 시키고 코드로 구현하고 하나로 합침\n",
    "- 장점 : 설계가 쉽고 빨리 쉽게 만들 수 있음 => 비용절감\n",
    "- 단점 : 유지보수가 힘듬 => 유지보수 강점이 있는 객체지향방식이 대두\n",
    "\n",
    "#### 객체지향언어\n",
    "- 현실세계에서 해결해야하는 문제를 프로그램적으로 modeling하는 프로그래밍 기법이 객체지향방식 => 해결해야할 문제를 구성하고 있는 구성요소를 파악하고(개체) 이 구성요소들간의 상호관계(정보전달관계)를 파악\n",
    "- 단점 : 프로그램을 설계하기가 어려움\n",
    "- 장점 : 프로그램의 유지보수 강점이 있음\n",
    "- 추상화(abstraction) : 현실세계의 개체들 중 필요한 것만 뽑아내서 프로그램으로 표현하는 것\n",
    "- 클래스\n",
    "    - 개체를 프로그램으로 표현하기 위한 객체 모델링의 수단\n",
    "    - 새로운 data type을 만드는 것(ADT : abstract data type, 추상 데이터 타입)\n",
    "- 클래스의 기능\n",
    "    - 캡슐화(encapsulation) : 관련이 있는 특성(field)과 기능(method)을 class라는 하나의 단위로 묶는 역할\n",
    "\n",
    "#### python의 module\n",
    "- python의 변수, 함수, 클래스를 모아놓은 파일\n",
    "- 다른 python program에서 불러다 사용할 수 있는 파일\n",
    "- import : python의 module을 사용할 수 있도록 만들어 주는 keyword\n",
    "- import 모듈이름(파일명)\n",
    "- import 모듈이름 as 별명\n",
    "- from 모듈이름 import 함수,변수,클래스"
   ]
  },
  {
   "cell_type": "markdown",
   "metadata": {},
   "source": [
    "#### import module - from / as"
   ]
  },
  {
   "cell_type": "code",
   "execution_count": 4,
   "metadata": {},
   "outputs": [
    {
     "name": "stdout",
     "output_type": "stream",
     "text": [
      "3.141592\n"
     ]
    }
   ],
   "source": [
    "# python의 module\n",
    "import module1\n",
    "\n",
    "print(module1.PI)"
   ]
  },
  {
   "cell_type": "code",
   "execution_count": 5,
   "metadata": {},
   "outputs": [
    {
     "name": "stdout",
     "output_type": "stream",
     "text": [
      "3.141592\n"
     ]
    }
   ],
   "source": [
    "# 축약해서 표현 가능\n",
    "import module1 as m1\n",
    "\n",
    "print(m1.PI)"
   ]
  },
  {
   "cell_type": "code",
   "execution_count": 9,
   "metadata": {},
   "outputs": [
    {
     "name": "stdout",
     "output_type": "stream",
     "text": [
      "7\n",
      "3.141592\n"
     ]
    }
   ],
   "source": [
    "# from 모듈이름 import 함수,변수,클래스\n",
    "# module1 안붙이고 함수를 읽을 수 있음(혹은 변수, 클래스)\n",
    "from module1 import my_sum, PI\n",
    "\n",
    "print(my_sum(3,4))\n",
    "print(PI)"
   ]
  },
  {
   "cell_type": "markdown",
   "metadata": {},
   "source": [
    "#### module이 들어갈 폴더 지정"
   ]
  },
  {
   "cell_type": "code",
   "execution_count": 10,
   "metadata": {},
   "outputs": [
    {
     "data": {
      "text/plain": [
       "['',\n",
       " 'c:\\\\python_ML\\\\Python_ML',\n",
       " 'C:\\\\ProgramData\\\\Anaconda3\\\\python37.zip',\n",
       " 'C:\\\\ProgramData\\\\Anaconda3\\\\DLLs',\n",
       " 'C:\\\\ProgramData\\\\Anaconda3\\\\lib',\n",
       " 'C:\\\\ProgramData\\\\Anaconda3',\n",
       " 'C:\\\\ProgramData\\\\Anaconda3\\\\lib\\\\site-packages',\n",
       " 'C:\\\\ProgramData\\\\Anaconda3\\\\lib\\\\site-packages\\\\win32',\n",
       " 'C:\\\\ProgramData\\\\Anaconda3\\\\lib\\\\site-packages\\\\win32\\\\lib',\n",
       " 'C:\\\\ProgramData\\\\Anaconda3\\\\lib\\\\site-packages\\\\Pythonwin',\n",
       " 'C:\\\\ProgramData\\\\Anaconda3\\\\lib\\\\site-packages\\\\IPython\\\\extensions',\n",
       " 'C:\\\\Users\\\\student\\\\.ipython']"
      ]
     },
     "execution_count": 10,
     "metadata": {},
     "output_type": "execute_result"
    }
   ],
   "source": [
    "# module을 불러올 수 있는 폴더들이 있음\n",
    "# 아무데나 모듈을 만들어 놓고 불러오는건 아님\n",
    "# sys라는 내장모듈\n",
    "import sys\n",
    "sys.path #list\n",
    "# library 폴더들, 이 폴더안에 없으면 불러올 수 없음\n",
    "# 때문에 이 sys.path에 내가 원하는 경로를 붙여주면 그 폴더에서\n",
    "# 모듈들을 불러올 수 있음\n",
    "sys.path.append(\"\") # 경로 지정\n",
    "\n",
    "# 환경변수 PYTHONPATH를 생성해서 \n",
    "# 여기에 폴더를 지정해도 module을 사용할 수 있는 폴더가 됨"
   ]
  },
  {
   "cell_type": "markdown",
   "metadata": {},
   "source": [
    "#### python module을 관리 하기 위한 방안\n",
    "- 가장 일반적으로 쉽게 생각할 수 있는 방안\n",
    "    - 관련있는 module끼리 묶어 폴더구조로 저장 - package : 관련있는 moduel을 묶어놓은 논리적인 집합\n",
    "        - pakcage는 결국 폴더로 표현\n",
    "        - package 만들기 위해서는\n",
    "            - 폴더를 만들고\n",
    "            - 그 폴더에 __init__.py를 둬야 pacakage로 인식(Python 2.X 버전만) -> 지금은 안만들어도됨"
   ]
  },
  {
   "cell_type": "code",
   "execution_count": 7,
   "metadata": {},
   "outputs": [
    {
     "name": "stdout",
     "output_type": "stream",
     "text": [
      "300\n",
      "300\n",
      "300\n"
     ]
    }
   ],
   "source": [
    "# import할 때 module이 package안에 포함되어 있으면\n",
    "# package명을 다 써줘야함\n",
    "import myPackage.inner.myModule\n",
    "\n",
    "print(myPackage.inner.myModule.my_variable)\n",
    "# 축약해서 표현\n",
    "import myPackage.inner.myModule as ss\n",
    "print(ss.my_variable)\n",
    "\n",
    "#package로 부터 myModule을 import\n",
    "from myPackage.inner import myModule\n",
    "print(myModule.my_variable)"
   ]
  },
  {
   "cell_type": "code",
   "execution_count": null,
   "metadata": {},
   "outputs": [],
   "source": []
  },
  {
   "cell_type": "code",
   "execution_count": null,
   "metadata": {},
   "outputs": [],
   "source": []
  },
  {
   "cell_type": "code",
   "execution_count": null,
   "metadata": {},
   "outputs": [],
   "source": []
  },
  {
   "cell_type": "code",
   "execution_count": null,
   "metadata": {},
   "outputs": [],
   "source": []
  },
  {
   "cell_type": "code",
   "execution_count": null,
   "metadata": {},
   "outputs": [],
   "source": []
  },
  {
   "cell_type": "code",
   "execution_count": null,
   "metadata": {},
   "outputs": [],
   "source": []
  },
  {
   "cell_type": "code",
   "execution_count": null,
   "metadata": {},
   "outputs": [],
   "source": []
  },
  {
   "cell_type": "code",
   "execution_count": null,
   "metadata": {},
   "outputs": [],
   "source": []
  },
  {
   "cell_type": "code",
   "execution_count": null,
   "metadata": {},
   "outputs": [],
   "source": []
  }
 ],
 "metadata": {
  "kernelspec": {
   "display_name": "Python [conda env:root]",
   "language": "python",
   "name": "conda-root-py"
  },
  "language_info": {
   "codemirror_mode": {
    "name": "ipython",
    "version": 3
   },
   "file_extension": ".py",
   "mimetype": "text/x-python",
   "name": "python",
   "nbconvert_exporter": "python",
   "pygments_lexer": "ipython3",
   "version": "3.7.0"
  }
 },
 "nbformat": 4,
 "nbformat_minor": 2
}
