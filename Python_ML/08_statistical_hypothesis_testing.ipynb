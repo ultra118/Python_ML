{
 "cells": [
  {
   "cell_type": "markdown",
   "metadata": {},
   "source": [
    "### 통계의 목적에 따른 분류\n",
    "\n",
    "#### 1. 기술통계( Descriptive statistics )\n",
    "- 우리에게 주어진 데이터를 요약, 설명, 분석하는 통계기법을 의미\n",
    "- pandas ( EDA - 탐색적 데이터 분석 )\n",
    "- 2가지의 초점\n",
    "    - 평균(대표값)\n",
    "    - 분산(데이터의 분포)\n",
    "    \n",
    "#### 2. 추론통계( Inferential statistics )\n",
    "- 수집한 데이터를 기반으로 어떠한 사실을 예측하고 검정하는 통계기법을 의미\n",
    "- 통계적 가설 검증\n",
    "    - 표본으로 부터 얻은 어떠한 사실을 근간으로 가설이 맞는지를 통계적으로 검증하는 방법\n",
    "    - 제일먼저 할일은 가설을 정의하는 것\n",
    "        - 귀무가설(null hypothesis) => H0\n",
    "            - 내가 원하는 가설이 아닌, reject가 되는것을 기대하는 가설 \n",
    "            - 관계가 없다. 영향력이 없다. 관련이 없다.\n",
    "            - 우리가 채택되기 원하는 가설이 아님\n",
    "            ![image](https://user-images.githubusercontent.com/28910538/53317646-d3125f00-390f-11e9-8f08-438386aab98e.png)\n",
    "        - 대립가설 (alternative hypothesis) => H1\n",
    "            - 관계가 있다. 영향력이 있다. 관계가 있다\n",
    "            - 통계에 근거해서 채택되기를 원하는 가설\n",
    "\n",
    "\n",
    "             "
   ]
  },
  {
   "cell_type": "markdown",
   "metadata": {},
   "source": [
    "![image](https://user-images.githubusercontent.com/28910538/53316320-cb9c8700-390a-11e9-9827-5ae3f078cac1.png)\n"
   ]
  },
  {
   "cell_type": "markdown",
   "metadata": {},
   "source": [
    "#### 모집단에 대해서 예측"
   ]
  },
  {
   "cell_type": "code",
   "execution_count": 20,
   "metadata": {},
   "outputs": [
    {
     "name": "stdout",
     "output_type": "stream",
     "text": [
      "임계값은 : 79.2539785299568 귀무가설 채택, 평균 수명은 변화가 없다\n"
     ]
    }
   ],
   "source": [
    "# import math\n",
    "import numpy as np\n",
    "\n",
    "# 모집단 평균 수명 : 75\n",
    "# 모집단의 표준편차 : 10\n",
    "# 대립가설 : 의학기술 발달로 평균 수명이 더 높아졌을 것이다\n",
    "# 귀무가설 : 의학기술 발달이랑 평균수명은 관계없다, 안높아졌을 것이다\n",
    "# 표본 : 30명\n",
    "# 표본의 평균수명 : 79\n",
    "# 유의수준 : 0.1(신뢰도 90%)\n",
    "last_mean = 75\n",
    "last_std = 10\n",
    "num_of_sample = 30\n",
    "#z = 1.28\n",
    "z = 2.33\n",
    "# Z = (CV - 모집단의 평균)/((모집단의 표준편차)/(표본의 수 제곱근))\n",
    "def Hypo_returnCV(last_mean, last_std, num_of_sample, z):\n",
    "    return z*(last_std/np.sqrt(num_of_sample))+last_mean\n",
    "cv = Hypo_returnCV(mo_life_m,mo_life_a,s_num,z)\n",
    "if  cv > 79:\n",
    "    # H0\n",
    "    print(\"임계값은 : {} 귀무가설 채택, 평균 수명은 변화가 없다\".format(cv))\n",
    "else:\n",
    "    # H1\n",
    "    print(\"임계값은 : {} 귀무가설 기각, 평균 수명은 높아 졌다\".format(cv))"
   ]
  },
  {
   "cell_type": "markdown",
   "metadata": {},
   "source": [
    "### 통계적 가설 검증\n",
    "- 1. 표본을 통해서 모집단의 특성을 유추\n",
    "- 2. machine learning을 할 때 필요한 parameter를 분류해서 사용할 필요가 있음\n",
    "    - 필요없는건 버리고, 서로 연관성이 있는 parameter만 machine learning의 입력으로 넣어줘야 함"
   ]
  },
  {
   "cell_type": "markdown",
   "metadata": {},
   "source": [
    "##### 카이제곱 검정(Chi-squared Test)"
   ]
  },
  {
   "cell_type": "markdown",
   "metadata": {},
   "source": [
    "##### 카이제곱 분포표\n",
    "![image](https://user-images.githubusercontent.com/28910538/53323474-97809080-3921-11e9-9fd7-60852ab78f9c.png)\n"
   ]
  },
  {
   "cell_type": "markdown",
   "metadata": {},
   "source": [
    "![image](https://user-images.githubusercontent.com/28910538/53323523-b8e17c80-3921-11e9-877b-976787ab3475.png)\n"
   ]
  },
  {
   "cell_type": "code",
   "execution_count": 171,
   "metadata": {},
   "outputs": [
    {
     "name": "stdout",
     "output_type": "stream",
     "text": [
      "[[ 23  21  63   0]\n",
      " [ 31  48 159   0]\n",
      " [ 13  23 119   0]\n",
      " [  0   0   0   0]]\n",
      "[107 238 155   0]\n",
      "[ 67  92 341 500]\n",
      "[[ 23  21  63 107]\n",
      " [ 31  48 159 238]\n",
      " [ 13  23 119 155]\n",
      " [ 67  92 341 500]]\n",
      "=============================여기까지 dataframe만들기 위한 작업\n"
     ]
    },
    {
     "data": {
      "text/html": [
       "<div>\n",
       "<style scoped>\n",
       "    .dataframe tbody tr th:only-of-type {\n",
       "        vertical-align: middle;\n",
       "    }\n",
       "\n",
       "    .dataframe tbody tr th {\n",
       "        vertical-align: top;\n",
       "    }\n",
       "\n",
       "    .dataframe thead th {\n",
       "        text-align: right;\n",
       "    }\n",
       "</style>\n",
       "<table border=\"1\" class=\"dataframe\">\n",
       "  <thead>\n",
       "    <tr style=\"text-align: right;\">\n",
       "      <th></th>\n",
       "      <th>1갑 이상</th>\n",
       "      <th>1갑 이하</th>\n",
       "      <th>안피움</th>\n",
       "      <th>계</th>\n",
       "    </tr>\n",
       "  </thead>\n",
       "  <tbody>\n",
       "    <tr>\n",
       "      <th>반병 이상</th>\n",
       "      <td>23</td>\n",
       "      <td>21</td>\n",
       "      <td>63</td>\n",
       "      <td>107</td>\n",
       "    </tr>\n",
       "    <tr>\n",
       "      <th>반병 이하</th>\n",
       "      <td>31</td>\n",
       "      <td>48</td>\n",
       "      <td>159</td>\n",
       "      <td>238</td>\n",
       "    </tr>\n",
       "    <tr>\n",
       "      <th>못마심</th>\n",
       "      <td>13</td>\n",
       "      <td>23</td>\n",
       "      <td>119</td>\n",
       "      <td>155</td>\n",
       "    </tr>\n",
       "    <tr>\n",
       "      <th>계</th>\n",
       "      <td>67</td>\n",
       "      <td>92</td>\n",
       "      <td>341</td>\n",
       "      <td>500</td>\n",
       "    </tr>\n",
       "  </tbody>\n",
       "</table>\n",
       "</div>"
      ],
      "text/plain": [
       "       1갑 이상  1갑 이하  안피움    계\n",
       "반병 이상     23     21   63  107\n",
       "반병 이하     31     48  159  238\n",
       "못마심       13     23  119  155\n",
       "계         67     92  341  500"
      ]
     },
     "metadata": {},
     "output_type": "display_data"
    },
    {
     "name": "stdout",
     "output_type": "stream",
     "text": [
      "모든 범주에 대한 기대값 계산 ===================\n",
      "[ 14.338  19.688  72.974  31.892  43.792 162.316  20.77   28.52  105.71 ]\n",
      "관측값 - 기대값 ===============================\n",
      "[[ 8.662  1.312 -9.974]\n",
      " [-0.892  4.208 -3.316]\n",
      " [-7.77  -5.52  13.29 ]]\n",
      "(관측값 - 기대값)의 제곱 ======================\n",
      "[[ 75.030244   1.721344  99.480676]\n",
      " [  0.795664  17.707264  10.995856]\n",
      " [ 60.3729    30.4704   176.6241  ]]\n",
      "(관측값 - 기대값)의 제곱 / 기대값 ==============\n",
      "[[5.23296443 0.08743113 1.36323452]\n",
      " [0.0249487  0.40434929 0.06774351]\n",
      " [2.90673568 1.0683871  1.67083625]]\n",
      "카이제곱 합은 ==============\n",
      "12.826630603041853\n",
      "전체 자유도는 =============\n",
      "4\n",
      "카이제곱 합은 12.826630603041853, 카이제곱 분포표의 값은 9.49\n",
      "따라서 귀무가설은 기각하고 대립가설을 채택, 흡연과 주량은 연관이 있다\n"
     ]
    }
   ],
   "source": [
    "import numpy as np\n",
    "import pandas as pd\n",
    "np_zero = np.zeros((4,4), dtype = np.int32)\n",
    "chi_np_o = np.array([[23,21,63],[31,48,159],[13,23,119]])\n",
    "\n",
    "for r in range(chi_np_o.shape[0]):\n",
    "    for c in range(chi_np_o.shape[1]):\n",
    "        np_zero[r][c] = chi_np_o[r][c]\n",
    "print(np_zero)\n",
    "\n",
    "\n",
    "sum_row = np.array([np_zero[r,:].sum() for r in range(np_zero.shape[0])])\n",
    "sum_col = np.array([np_zero[:,c].sum() for c in range(np_zero.shape[1])])\n",
    "print(sum_row)\n",
    "sum_col[-1] = sum_col.sum()\n",
    "print(sum_col)\n",
    "# row 의 합을 넣어주고\n",
    "np_zero[:,-1] = sum_row[:,]\n",
    "# column의 합을 넣어줌\n",
    "np_zero[-1,:] = sum_col[:,]\n",
    "chi_np_o = np_zero\n",
    "print(chi_np_o)\n",
    "print(\"=============================여기까지 dataframe만들기 위한 작업\")\n",
    "\n",
    "df = pd.DataFrame(chi_np_o,\n",
    "                  index = [\"반병 이상\", \"반병 이하\", \"못마심\", \"계\"],\n",
    "                  columns=[\"1갑 이상\", \"1갑 이하\",\"안피움\", \"계\"])\n",
    "display(df)\n",
    "chi_list_e = []\n",
    "for r in range(df.shape[0]-1):\n",
    "    for c in range(df.shape[1]-1):\n",
    "        chi_list_e.append(((df.iloc[3][c]/(df.iloc[3][3])) * (df.iloc[r][3]/(df.iloc[3][3])))*df.iloc[3][3])\n",
    "chi_np_e = np.array(chi_list_e)\n",
    "print(\"모든 범주에 대한 기대값 계산 ===================\")\n",
    "print(chi_np_e)\n",
    "print(\"관측값 - 기대값 ===============================\")\n",
    "chi_np_ome = chi_np_o[:3,:3] - chi_np_e.reshape((3,3))\n",
    "print(chi_np_ome)\n",
    "print(\"(관측값 - 기대값)의 제곱 ======================\")\n",
    "print(chi_np_ome**2)\n",
    "print(\"(관측값 - 기대값)의 제곱 / 기대값 ==============\")\n",
    "chi_np_squared = chi_np_ome**2/chi_np_e.reshape((3,3))\n",
    "print(chi_np_squared)\n",
    "print(\"카이제곱 합은 ==============\")\n",
    "print(chi_np_squared.sum())\n",
    "print(\"전체 자유도는 =============\")\n",
    "print((chi_np_o.shape[0]-2) * (chi_np_o.shape[1]-2))\n",
    "if chi_np_squared.sum() > 9.49:\n",
    "    print(\"카이제곱 합은 {}, 카이제곱 분포표의 값은 {}\".format(chi_np_squared.sum(), 9.49))\n",
    "    print(\"따라서 귀무가설은 기각하고 대립가설을 채택, 흡연과 주량은 연관이 있다\")\n",
    "else :\n",
    "    print(\"카이제곱 합은 {}, 카이제곱 분포표의 값은 {}\".format(chi_np_squared.sum(), 9.49))\n",
    "    print(\"따라서 귀무가설을 채택하고 대립가설은 기각, 흡연과 주량은 연관이 없다\")"
   ]
  },
  {
   "cell_type": "markdown",
   "metadata": {},
   "source": [
    "#### matplotlib을 이용한 graph 그리기\n",
    "- data간의 관계, 방향성등을 눈으로 파악하기 위해서 사용\n",
    "\n",
    "#### 통계\n",
    "- 통계는 목적에 따라서 크게 두가지 분류로 구분\n",
    "    - 1. 기술통계 \n",
    "        - 가지고 있는 데이터를 분석해서 해당 데이터를 요약, 특정한 사실을 이끌어내는 통계 기법\n",
    "        - EDA같은 \n",
    "    - 2. 추론통계\n",
    "        - 수집한 데이터를 기반으로 모집단의 특성을 유추 독립변수에 따른 종속변수의 변화를 예측하기 위해서 사용하는 통계기법\n",
    "        - 통계적 가설 검정\n",
    "            - 1. 표본에 대한 내용을 근거로 모집단의 특성을 유추 (통계적 관점으로의 통계적 가설 검정)\n",
    "                - 가설 : 귀무가설(연관이없다, 영향이 없다, 효과없다), 대립가설(귀무가설에 반대되는 목표)\n",
    "            - 2. 또 다른 목적으로 통계적 가설 검정을 이용함(기계학습 관점으로의 통계적 가설 검정)\n",
    "                - 머신러닝을 위해 여러가지 입력 parameter들이 들어 가는데, 어떤 parameter는 학습하는데 필요하고, 또 어떤 parameter는 필요가 없음, parameter간의 관계성을 고려해서 입력 parameter를 설정해주는 작업이 필요 통계적 가설 검정을 통해 parameter간의 관련성을 검증하고 필요한 parameter만을 뽑아 입력값으로 사용\n",
    "                - 의미 있는 변수 찾기 위해 여러 검정 방법이 있는데 그 중\n",
    "                    - 카이제곱 검정(Chi-squared Test)\n",
    "                        - 범주형으로 되어있고 밀도값이 데이터로 사용될 때 사용되는 검정\n",
    "                    "
   ]
  },
  {
   "cell_type": "markdown",
   "metadata": {},
   "source": [
    "### 독립표본 t검정\n",
    "- 두 집단의 평균을 이용해서 두 집단이 서로 차이가 있는지를 판단하는 검정방법\n",
    "    - 그룹 1과 그룹2의 평균키를 조사해서 그 차이가 있는지(의미가 있는지) 혹은 차이를 무시할 정도인지를 판별 \n",
    "    - 1. 통계적 가설검정은 가설검정부터\n",
    "        - 귀무가설 : 두 그룹간의 평균키의 차이는 의미가 없다\n",
    "        - 대립가설 : 두 그룹간의 평균키의 차이는 의미가 있다\n",
    "- scipy에서 status 사용\n",
    "    - 독립 표본, 독립관계니까 independent의 stats.ttest_ind 사용"
   ]
  },
  {
   "cell_type": "code",
   "execution_count": 30,
   "metadata": {},
   "outputs": [
    {
     "name": "stdout",
     "output_type": "stream",
     "text": [
      "Group1의 평균 : 172.0992799810142\n",
      "Group2의 평균 : 174.70893470067097\n",
      "0.0002454479376783881\n",
      "대립가설 채택 : 평균키의 차이는 의미가 있다.\n"
     ]
    }
   ],
   "source": [
    "import numpy as np\n",
    "from scipy import stats\n",
    "\n",
    "# 일반적으로 사용하지 않는 변수는 \"_\"\n",
    "group1 = [170+ np.random.normal(2,1) for _ in range(10)]\n",
    "group2 = [174+ np.random.normal(0,3) for _ in range(10)]\n",
    "\n",
    "print(\"Group1의 평균 : {}\".format(np.mean(group1)))\n",
    "print(\"Group2의 평균 : {}\".format(np.mean(group2)))\n",
    "\n",
    "\n",
    "# t-검정\n",
    "_, pvalue = stats.ttest_ind(group1, group2)\n",
    "print(pvalue)\n",
    "# pvalue 값으로 판단, 0.05보다 작다면 95% 신뢰도에서 귀무가설 기각, 대립가설 채택\n",
    "if pvalue < 0.05:\n",
    "    print(\"대립가설 채택 : 평균키의 차이는 의미가 있다.\")\n",
    "else:\n",
    "    print(\"귀무가설 채택 : 평균키의 차이는 의미가 없다.\")"
   ]
  },
  {
   "cell_type": "markdown",
   "metadata": {},
   "source": [
    "### 대응표본 t검정\n",
    "- 다이어트약의 복용전과 복용후의 값을 통계적으로 검증하여 약의 효과를 알아보기 위해서 사용\n",
    "- 귀무가설 : 복용전후의 체중의 차이가 없다\n",
    "- 대립가설 : 복용전후의 체중의 차이가 있다\n",
    "- 표본간 독립하지않고 서로 관계를 갖고 있기 때문에 relation, scipy의 status.ttest_rel 사용"
   ]
  },
  {
   "cell_type": "code",
   "execution_count": 65,
   "metadata": {},
   "outputs": [
    {
     "name": "stdout",
     "output_type": "stream",
     "text": [
      "2.792741462822641e-06\n",
      "대립가설이 채택 : 다이어트 약이 효과가 있음\n"
     ]
    }
   ],
   "source": [
    "import numpy as np\n",
    "from scipy import stats\n",
    "\n",
    "before = [60 + np.random.normal(0,5) for _ in range(20)]\n",
    "after = [w - np.random.normal(2,1) for w in before]\n",
    "\n",
    "\n",
    "_, pvalue = stats.ttest_rel(before,after)\n",
    "\n",
    "print(pvalue)\n",
    "if pvalue < 0.05:\n",
    "    print(\"대립가설이 채택 : 다이어트 약이 효과가 있음\")\n",
    "else :\n",
    "    print(\"귀무가설이 채택 : 다이어트 약이 효과가 없음\")"
   ]
  },
  {
   "cell_type": "markdown",
   "metadata": {},
   "source": [
    "### ANOVA 검정\n",
    "- 비교대상이 3개 이상일 경우 ttest대신 사용\n",
    "- 대응표본 t-검정의 연장선"
   ]
  },
  {
   "cell_type": "code",
   "execution_count": 68,
   "metadata": {},
   "outputs": [
    {
     "name": "stdout",
     "output_type": "stream",
     "text": [
      "0.7688091788784993\n"
     ]
    }
   ],
   "source": [
    "from scipy import stats\n",
    "\n",
    "a = [67,45,98,67,34,22]\n",
    "b = [56,48,80,37,34,31]\n",
    "c = [80,61,71,67,44,15]\n",
    "d = [79,31,61,80,70,47]\n",
    "\n",
    "_, pvalue = stats.f_oneway(a,b,c,d)\n",
    "print(pvalue)"
   ]
  },
  {
   "cell_type": "code",
   "execution_count": null,
   "metadata": {},
   "outputs": [],
   "source": []
  },
  {
   "cell_type": "code",
   "execution_count": null,
   "metadata": {},
   "outputs": [],
   "source": []
  },
  {
   "cell_type": "code",
   "execution_count": null,
   "metadata": {},
   "outputs": [],
   "source": []
  },
  {
   "cell_type": "code",
   "execution_count": null,
   "metadata": {},
   "outputs": [],
   "source": []
  },
  {
   "cell_type": "code",
   "execution_count": null,
   "metadata": {},
   "outputs": [],
   "source": []
  },
  {
   "cell_type": "code",
   "execution_count": null,
   "metadata": {},
   "outputs": [],
   "source": []
  },
  {
   "cell_type": "code",
   "execution_count": null,
   "metadata": {},
   "outputs": [],
   "source": []
  },
  {
   "cell_type": "code",
   "execution_count": null,
   "metadata": {},
   "outputs": [],
   "source": []
  },
  {
   "cell_type": "code",
   "execution_count": null,
   "metadata": {},
   "outputs": [],
   "source": []
  },
  {
   "cell_type": "code",
   "execution_count": null,
   "metadata": {},
   "outputs": [],
   "source": []
  },
  {
   "cell_type": "code",
   "execution_count": null,
   "metadata": {},
   "outputs": [],
   "source": []
  },
  {
   "cell_type": "code",
   "execution_count": null,
   "metadata": {},
   "outputs": [],
   "source": []
  },
  {
   "cell_type": "code",
   "execution_count": null,
   "metadata": {},
   "outputs": [],
   "source": []
  },
  {
   "cell_type": "code",
   "execution_count": null,
   "metadata": {},
   "outputs": [],
   "source": []
  }
 ],
 "metadata": {
  "kernelspec": {
   "display_name": "data_env",
   "language": "python",
   "name": "data_env"
  },
  "language_info": {
   "codemirror_mode": {
    "name": "ipython",
    "version": 3
   },
   "file_extension": ".py",
   "mimetype": "text/x-python",
   "name": "python",
   "nbconvert_exporter": "python",
   "pygments_lexer": "ipython3",
   "version": "3.6.6"
  }
 },
 "nbformat": 4,
 "nbformat_minor": 2
}
