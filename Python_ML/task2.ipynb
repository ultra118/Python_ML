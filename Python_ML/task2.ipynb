{
 "cells": [
  {
   "cell_type": "code",
   "execution_count": 73,
   "metadata": {},
   "outputs": [
    {
     "name": "stdout",
     "output_type": "stream",
     "text": [
      "카이제곱 합 : 12.826630603041849\n",
      "음주량과 흡연량은 관련성이 있다.\n"
     ]
    }
   ],
   "source": [
    "# 문제 2) 다음과 같은 내용을 이용하여 카이제곱 검정을 수행하세요.\n",
    "# 총 500명을 대상으로 흡연량과 음주량 사이에 관계를 조사한 내용은 다음과 같다. ( 단위 : 명 )\n",
    "# 흡연 1갑이상, 음주 반병이상 : 23\n",
    "# 흡연 1갑이상, 음주 반병이하 : 31\n",
    "# 흡연 1갑이상, 음주 못마심 : 13\n",
    "\n",
    "# 흡연 1갑이하, 음주 반병이상 : 21\n",
    "# 흡연 1갑이하, 음주 반병이하 : 48\n",
    "# 흡연 1갑이하, 음주 못마심 : 23\n",
    "\n",
    "# 흡연 안피움, 음주 반병이상 : 63\n",
    "# 흡연 안피움, 음주 반병이하 : 159\n",
    "# 흡연 안피움, 음주 못마심 : 119\n",
    "\n",
    "# 실행결과예) 음주량과 흡연량은 관련성이 있다.\n",
    "\n",
    "# 귀무가설 : 음주량과 흡연량은 관련성이 없다.\n",
    "# 대립가설 : 음주량과 흡연량은 관련성이 있다.\n",
    "import numpy as np\n",
    "import pandas as pd\n",
    "# 각 범주별 카이제곱값을 구함\n",
    "# 기대값은 각 범주의 확률 값 끼리 곱하고 해당 사건의 총 수를 곱해줌 \n",
    "# x^2 = (관측값 - 기대값)^2 / 기대값\n",
    "# 전체 카이제곱 값을 합함\n",
    "# 카이제곱 분포표 기준(자유도, 유의수준)의 값과 전체 카이제곱 값의 합 비교\n",
    "# 전체 카이제곱합이 분포표 수보다 크면 귀무가설 기각, 대립 가설 채택\n",
    "# 전체 카이제곱합이 분포표 수보다 작으면 귀무가설 채택, 대립 가설 기각\n",
    "df = pd.DataFrame([[23,21,63],[31,48,159],[13,23,119]],columns=[\"1갑 이상\", \"1갑 이하\", \"안피움\"],index = [\"반병 이상\", \"반병 이하\", \"못마심\"])\n",
    "# 맨 아래 행을 0으로 채워둠\n",
    "df.loc[3] = 0\n",
    "# 각 열을 행으로 더 해서 맨 아래 행에 추가\n",
    "df.loc[3] = df.values.sum(axis=0)\n",
    "# 3이라는 행을 '계'로 바꿔줌\n",
    "df = df.rename(index={3:\"계\"})\n",
    "# 각 행을 열로 더해서 맨 오른쪽 열에 추가\n",
    "df[\"계\"] = df.values.sum(axis=1)\n",
    "\n",
    "chi_mean = np.zeros([3,3], dtype = np.float)\n",
    "# 기대값 : 각 범주 확률 값끼리 곱하고 해당 사건 총 수를 곱합 \n",
    "for i in range(3):\n",
    "    for j in range(3):\n",
    "        chi_mean[i][j]= (df.iloc[3,j]/df.iloc[3,3] * df.iloc[i,3]/df.iloc[3,3] * df.iloc[3,3])\n",
    "\n",
    "# (관측값 - 기대값)^2 / 기대값\n",
    "chi_squared = ((chi_mean - df.iloc[:3, :3].values)**2)/chi_mean\n",
    "\n",
    "chi_squared_sum = chi_squared.sum()\n",
    "print(\"카이제곱 합 : {}\".format(chi_squared_sum))\n",
    "\n",
    "# 흡연 자유도 : 2, 주량 자유도 : 2 => 전체 자유도 : 4\n",
    "# 자유도(4)와 유의수준 0.05\n",
    "# 카이제곱 분포표에 의하면 검정값은 9.49\n",
    "\n",
    "if chi_squared_sum > 9.49:\n",
    "    print(\"음주량과 흡연량은 관련성이 있다.\")\n",
    "else: \n",
    "    print(\"음주량과 흡연량은 관련성이 없다.\")"
   ]
  }
 ],
 "metadata": {
  "kernelspec": {
   "display_name": "data_env",
   "language": "python",
   "name": "data_env"
  },
  "language_info": {
   "codemirror_mode": {
    "name": "ipython",
    "version": 3
   },
   "file_extension": ".py",
   "mimetype": "text/x-python",
   "name": "python",
   "nbconvert_exporter": "python",
   "pygments_lexer": "ipython3",
   "version": "3.6.6"
  }
 },
 "nbformat": 4,
 "nbformat_minor": 2
}
