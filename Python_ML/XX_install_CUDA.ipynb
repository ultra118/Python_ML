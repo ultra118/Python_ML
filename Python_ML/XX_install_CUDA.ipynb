{
 "cells": [
  {
   "cell_type": "markdown",
   "metadata": {},
   "source": [
    "- 1. 해당 버전 cuda 설치\n",
    "\n",
    "![image](https://user-images.githubusercontent.com/28910538/53863561-e0c19600-402d-11e9-9f46-7cca3b37f3a3.png)\n",
    "- 2. cudnn 해당 버전 설치\n",
    "\n",
    "![image](https://user-images.githubusercontent.com/28910538/53863718-3b5af200-402e-11e9-9447-f66539f85bc8.png)\n",
    "- 3. 만약 visual studio 에러 뜨면 빠른 설치 말고 사용자 설치로 visual studio 빼고 설치(visual studio는 따로 설치)\n",
    "    - NVIDIA 싹 다 지우고나서 하긴 했음\n",
    "- 4. anaconda에서 tensorflow-gpu 설치\n",
    "    - activate gpu_env\n",
    "    - conda install -c anaconda nb_conda\n",
    "    - python -m ipykernel install --user --name=gpu_env --display-name=[GPU_ENV]\n",
    "    - conda install tensorflow-gpu\n",
    "    - jupyter notebook\n",
    "    - 그리고 kernel change하면서 tf.test.is_gpu_available()확인\n"
   ]
  },
  {
   "cell_type": "code",
   "execution_count": null,
   "metadata": {},
   "outputs": [],
   "source": []
  },
  {
   "cell_type": "code",
   "execution_count": null,
   "metadata": {},
   "outputs": [],
   "source": []
  },
  {
   "cell_type": "code",
   "execution_count": null,
   "metadata": {},
   "outputs": [],
   "source": []
  },
  {
   "cell_type": "code",
   "execution_count": null,
   "metadata": {},
   "outputs": [],
   "source": []
  },
  {
   "cell_type": "code",
   "execution_count": null,
   "metadata": {},
   "outputs": [],
   "source": []
  }
 ],
 "metadata": {
  "kernelspec": {
   "display_name": "[GPU_ENV]",
   "language": "python",
   "name": "gpu_env"
  },
  "language_info": {
   "codemirror_mode": {
    "name": "ipython",
    "version": 3
   },
   "file_extension": ".py",
   "mimetype": "text/x-python",
   "name": "python",
   "nbconvert_exporter": "python",
   "pygments_lexer": "ipython3",
   "version": "3.6.8"
  }
 },
 "nbformat": 4,
 "nbformat_minor": 2
}
