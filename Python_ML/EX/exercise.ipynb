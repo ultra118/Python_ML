{
 "cells": [
  {
   "cell_type": "markdown",
   "metadata": {},
   "source": [
    "### EX1\n",
    "####  홀수개의 숫자로 구성된 숫자문열을 입력으로 사용(개수는 7~11)"
   ]
  },
  {
   "cell_type": "code",
   "execution_count": 1,
   "metadata": {},
   "outputs": [
    {
     "name": "stdout",
     "output_type": "stream",
     "text": [
      "홀수개의 숫자 입력(7~11) : 1234560\n",
      "f_num : 321\n",
      "b_num : 65\n",
      "f_num - b_num : 256\n"
     ]
    }
   ],
   "source": [
    "\n",
    "num = input(\"홀수개의 숫자 입력(7~11) : \")\n",
    "if len(num) < 7 or len(num) >11:\n",
    "    print(\"범위는 7~11개 사이 숫자\")\n",
    "center_num = int(len(num)/2)\n",
    "\n",
    "f_list = []\n",
    "b_list = []\n",
    "\n",
    "for i in range(0, center_num):\n",
    "    f_list.append(num[i])\n",
    "for j in range(center_num+1, len(num)):\n",
    "    b_list.append(num[j])\n",
    "\n",
    "f_list.reverse()\n",
    "b_list.reverse()\n",
    "# join은 문자열 타입에서만 사용가능\n",
    "# f_list의 각 요소는 문자열 타입\n",
    "f_num = int(\"\".join(f_list))\n",
    "b_num = int(\"\".join(b_list))\n",
    "\n",
    "print(\"f_num : {}\\nb_num : {}\".format(f_num, b_num))\n",
    "if f_num > b_num:\n",
    "    diff = f_num - b_num\n",
    "    print(\"f_num - b_num : {}\".format(diff))\n",
    "else:\n",
    "    diff = b_num - f_num\n",
    "    print(\"b_num - f_num: {}\".format(diff))\n",
    "\n",
    "        "
   ]
  },
  {
   "cell_type": "markdown",
   "metadata": {},
   "source": [
    "### EX2\n",
    "\n",
    "#### 입력된 숫자열 뒤에서부터 2개씩 끊어서 읽는데, 끊어 읽은 두자리가 모두 짝수인 수를 찾아 개수를 계산함\n",
    "- 0은 짝수가 아니고\n",
    "- 마지막에 끊어 읽은 수가 두 자리가 아니면 계산에서 제외\n",
    "\n",
    "\n",
    "#### 그리고 여러개 의 숫자열을 받아 짝수가 가장 많은 걸 구함"
   ]
  },
  {
   "cell_type": "code",
   "execution_count": 63,
   "metadata": {},
   "outputs": [
    {
     "name": "stdout",
     "output_type": "stream",
     "text": [
      "['93', '30', '28', '66', '82', '11', '6']\n"
     ]
    }
   ],
   "source": [
    "# other\n",
    "m = \"6118266283093\"\n",
    "m += \"l\"\n",
    "\n",
    "m_list = []\n",
    "\n",
    "for i in range(-1, -(len(m)+1), -2):\n",
    "    m_list.append(m[i-2:i])\n",
    "if '' in m_list:\n",
    "    m_list.remove('')\n",
    "    \n",
    "print(m_list)"
   ]
  },
  {
   "cell_type": "code",
   "execution_count": 3,
   "metadata": {},
   "outputs": [],
   "source": [
    "def count_num(num):\n",
    "    num_list = []\n",
    "    count = 0\n",
    "    for i in range(len(num),0,-2):\n",
    "        if(i-1 == 0):\n",
    "            num_list.append(num[i-1:i])\n",
    "        else:\n",
    "            num_list.append(num[i-2:i])\n",
    "    \n",
    "    for i in num_list:\n",
    "        if len(i) == 2:\n",
    "            if int(i[1]) != 0:\n",
    "                if int(i)%2 == 0:\n",
    "                    count += 1\n",
    "    print(\"숫자 리스트 : {} 의 짝수 개수는 : {}\".format(num_list,count))\n",
    "    return count\n",
    "                    "
   ]
  },
  {
   "cell_type": "code",
   "execution_count": 4,
   "metadata": {},
   "outputs": [
    {
     "name": "stdout",
     "output_type": "stream",
     "text": [
      "숫자열 입력(6개)654654684\n",
      "숫자열 입력(6개)3854684\n",
      "숫자열 입력(6개)65413218546\n",
      "숫자열 입력(6개)32134654\n",
      "숫자열 입력(6개)068460165\n",
      "숫자열 입력(6개)648987840\n",
      "숫자 리스트 : ['84', '46', '65', '54', '6'] 의 짝수 개수는 : 3\n",
      "숫자 리스트 : ['84', '46', '85', '3'] 의 짝수 개수는 : 2\n",
      "숫자 리스트 : ['46', '85', '21', '13', '54', '6'] 의 짝수 개수는 : 2\n",
      "숫자 리스트 : ['54', '46', '13', '32'] 의 짝수 개수는 : 3\n",
      "숫자 리스트 : ['65', '01', '46', '68', '0'] 의 짝수 개수는 : 2\n",
      "숫자 리스트 : ['40', '78', '98', '48', '6'] 의 짝수 개수는 : 3\n",
      "가장 많은 짝수 개수 : 3\n"
     ]
    }
   ],
   "source": [
    "num = []\n",
    "count = []\n",
    "for i in range(0,6):\n",
    "    num.append(input(\"숫자열 입력(6개)\"))\n",
    "for i in num:\n",
    "    count.append(count_num(i))\n",
    "\n",
    "\n",
    "print(\"가장 많은 짝수 개수 : {}\".format(max(count)))"
   ]
  },
  {
   "cell_type": "markdown",
   "metadata": {},
   "source": [
    "### EX03\n",
    "#### 문자열에서 숫자 추출하고 가장 많은 숫자 출력\n",
    "- 단, 개수가 동일한 경우 작은 수 선택"
   ]
  },
  {
   "cell_type": "code",
   "execution_count": 6,
   "metadata": {},
   "outputs": [],
   "source": [
    "def find_num(num):\n",
    "    score_list = [\"0\",\"1\",\"2\",\"3\",\"4\",\"5\",\"6\",\"7\",\"8\",\"9\"]\n",
    "    num_orign = []\n",
    "    num_count = []\n",
    "    \n",
    "    for i in num:\n",
    "        if i in score_list:\n",
    "            num_orign.append(i)\n",
    "    print(\"[숫자 추출] {}\".format(\"\".join(num_orign)))\n",
    "    num_orign.sort()\n",
    "    for i in range(len(score_list)):\n",
    "        num_count.append(num_orign.count(score_list[i]))\n",
    "    for i in range(len(num_count)):\n",
    "        if int(num_count[i]) == max(num_count):\n",
    "            print(\"[개수가 가장 많은 숫자]{}({}번)\".format(i,num_count[i]))\n",
    "            break\n",
    "    "
   ]
  },
  {
   "cell_type": "code",
   "execution_count": 8,
   "metadata": {},
   "outputs": [
    {
     "name": "stdout",
     "output_type": "stream",
     "text": [
      "최대 100자의 문자열 입력 : 6283456s21df325r8hw92q112412r0004t5\n",
      "[숫자 추출] 62834562132589211241200045\n",
      "[개수가 가장 많은 숫자]2(6번)\n"
     ]
    }
   ],
   "source": [
    "num_string = input(\"최대 100자의 문자열 입력 : \")\n",
    "if len(num_string) > 100:\n",
    "    print(\"100자 이내의 문자열을 입력하시오\")\n",
    "else:\n",
    "    find_num(num_string)"
   ]
  },
  {
   "cell_type": "markdown",
   "metadata": {},
   "source": [
    "### EX04\n",
    "#### (x,y)숫자 2개를 입력 받고 그 사이에서 5의 배수 count"
   ]
  },
  {
   "cell_type": "code",
   "execution_count": 9,
   "metadata": {},
   "outputs": [],
   "source": [
    "def find_m5(start,end):\n",
    "    count = 0\n",
    "    for num in range(int(start)+1, int(end)):\n",
    "        sum = 0\n",
    "        for i in str(num):\n",
    "            sum += int(i)\n",
    "        if(sum%5 == 0):\n",
    "            count += 1\n",
    "    return count"
   ]
  },
  {
   "cell_type": "code",
   "execution_count": 10,
   "metadata": {},
   "outputs": [
    {
     "name": "stdout",
     "output_type": "stream",
     "text": [
      "두개의 숫자(x,y)입력(,로 구분) : 5,500\n",
      "[총 개수]98\n"
     ]
    }
   ],
   "source": [
    "num = []\n",
    "num_str = input(\"두개의 숫자(x,y)입력(,로 구분) : \")\n",
    "num = num_str.split(\",\")\n",
    "if len(num) != 2:\n",
    "    print(\"두개의 숫자 입력\")\n",
    "elif int(num[0]) <0 or int(num[1]) < 0:\n",
    "    print(\"양수 입력\")\n",
    "else:\n",
    "    \n",
    "    print(\"[총 개수]{}\".format(find_m5(num[0], num[1])))\n",
    "    "
   ]
  },
  {
   "cell_type": "markdown",
   "metadata": {},
   "source": [
    "### EX05\n",
    "#### 홀수를 짝수로, 홀수인 수에 2 곱하고 짝수로 만드는데 10이상이면 일의 자리 수 선택\n",
    "\n",
    "#### 그리고 앞에서 부터 두자리씩 덧셈 연산 반복인데 10자리수 넘는건 일의자리수"
   ]
  },
  {
   "cell_type": "code",
   "execution_count": 11,
   "metadata": {},
   "outputs": [],
   "source": [
    "def convert_odd(num):\n",
    "    num_list = []\n",
    "    for i in num:\n",
    "        if(int(i)%2 == 1):\n",
    "            num_list.append(str((int(i)*2)%10))\n",
    "        else:\n",
    "            num_list.append(i)\n",
    "    return num_list"
   ]
  },
  {
   "cell_type": "code",
   "execution_count": 12,
   "metadata": {},
   "outputs": [],
   "source": [
    "def sum_two(num):\n",
    "    num_list = []\n",
    "    while len(num)>1:\n",
    "        for i in range(0,len(num),2):\n",
    "            if i+1 < len(num):\n",
    "                num_list.append(str((int(num[i])+int(num[i+1]))%10))\n",
    "            else:\n",
    "                num_list.append(num[i])\n",
    "        print(num_list)\n",
    "        num = num_list[:]\n",
    "        num_list = []\n",
    "    return int(num[0])"
   ]
  },
  {
   "cell_type": "code",
   "execution_count": 13,
   "metadata": {},
   "outputs": [
    {
     "name": "stdout",
     "output_type": "stream",
     "text": [
      "[주어진 수]1684684684\n",
      "[주어진 수의 숫자 중 홀수를 짝수로 변환]2684684684\n",
      "['8', '2', '4', '0', '2']\n",
      "['0', '4', '2']\n",
      "['4', '2']\n",
      "['6']\n",
      "[덧셈 연산 결과]6\n"
     ]
    }
   ],
   "source": [
    "num = input(\"[주어진 수]\")\n",
    "num = \"\".join(convert_odd(num))\n",
    "print(\"[주어진 수의 숫자 중 홀수를 짝수로 변환]{}\"\\\n",
    "      .format(num))\n",
    "print(\"[덧셈 연산 결과]{}\".format(sum_two(num)))"
   ]
  },
  {
   "cell_type": "markdown",
   "metadata": {},
   "source": [
    "### EX06\n",
    "#### 6자리 이상 9자리 미만 수의 중앙을 기 준으로 두수로 분리하고 큰 수 선택\n",
    "- 홀수면 가운데수는 사라지게"
   ]
  },
  {
   "cell_type": "code",
   "execution_count": 14,
   "metadata": {},
   "outputs": [],
   "source": [
    "def check_overlap(num):\n",
    "    for n in num:\n",
    "        if \"\".join(num).count(n) > 1:\n",
    "            return False\n",
    "        if n is \"0\":\n",
    "            return False\n",
    "    return True"
   ]
  },
  {
   "cell_type": "code",
   "execution_count": 15,
   "metadata": {},
   "outputs": [],
   "source": [
    "def detach_num(num):\n",
    "    new_num = []\n",
    "    while len(num)>1:\n",
    "        print(\"{} ->\".format(\"\".join(num)), end = \" \")\n",
    "        if len(num)%2 == 1:\n",
    "            f_num = num[0:len(num)//2]\n",
    "            b_num = num[len(num)//2+1:len(num)]\n",
    "            print(\"({},{}) ->\".format(\"\".join(f_num),\"\".join(b_num)), end = \" \")\n",
    "            # list형태의 수를 문자열로 바꾸고 다시 정수형으로 바꿔 큰 수를\n",
    "            # 리스트 형태로 new_num에 집어넣는다\n",
    "            new_num = list(str((max(int(\"\".join(f_num)),int(\"\".join(b_num))))))\n",
    "        else:\n",
    "            f_num = num[0:len(num)//2]\n",
    "            b_num = num[len(num)//2:len(num)]\n",
    "            print(\"({},{}) ->\".format(\"\".join(f_num),\"\".join(b_num)), end = \" \")\n",
    "            new_num = list(str((max(int(\"\".join(f_num)),int(\"\".join(b_num))))))\n",
    "        num = new_num[:]\n",
    "        new_num = []\n",
    "    return \"\".join(num)\n",
    "        \n",
    "    "
   ]
  },
  {
   "cell_type": "code",
   "execution_count": 22,
   "metadata": {},
   "outputs": [
    {
     "name": "stdout",
     "output_type": "stream",
     "text": [
      "[6자리 이상 9자리 미만의 수가 입력]123456\n",
      "123456 -> (123,456) -> 456 -> (4,6) -> (6)\n"
     ]
    }
   ],
   "source": [
    "num = input(\"[6자리 이상 9자리 미만의 수가 입력]\")\n",
    "if len(num) > 5 and len(num) < 9 and check_overlap(num):\n",
    "    print(\"({})\".format(detach_num(num)))"
   ]
  },
  {
   "cell_type": "code",
   "execution_count": null,
   "metadata": {},
   "outputs": [],
   "source": []
  },
  {
   "cell_type": "code",
   "execution_count": null,
   "metadata": {},
   "outputs": [],
   "source": []
  }
 ],
 "metadata": {
  "kernelspec": {
   "display_name": "data_env",
   "language": "python",
   "name": "data_env"
  },
  "language_info": {
   "codemirror_mode": {
    "name": "ipython",
    "version": 3
   },
   "file_extension": ".py",
   "mimetype": "text/x-python",
   "name": "python",
   "nbconvert_exporter": "python",
   "pygments_lexer": "ipython3",
   "version": "3.6.6"
  }
 },
 "nbformat": 4,
 "nbformat_minor": 2
}
