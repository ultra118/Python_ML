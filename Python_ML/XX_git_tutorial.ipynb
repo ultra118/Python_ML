{
 "cells": [
  {
   "cell_type": "markdown",
   "metadata": {},
   "source": [
    "출처 : [지옥에서 온 Git](https://opentutorials.org/course/2708/15170)"
   ]
  },
  {
   "cell_type": "markdown",
   "metadata": {},
   "source": [
    "### 0. 저장소 설정\n",
    "- 특정 폴더 안으로 깃을 통해 접근하고\n",
    "    - mkdir 파일명 : 파일명으로 폴더 만듬\n",
    "    - cd 경로 : 경로로 들어감\n",
    "    - git init : 현재 디렉토리를 git의 (버전)저장소로 만듬\n",
    "\n",
    "### 1. 파일추적\n",
    "- 파일 생성은 vim ~\n",
    "- git add 파일명 : git이 파일을 추적하도록 명령\n",
    "    - git add . 은 모든 변경된 파일을 추적하도록 명령\n",
    "- gits status : 프로젝트 폴더의 상태를 확인\n",
    "\n",
    "### 2. 버전 만들기(commit)\n",
    "- 작업이 완결된 상태가 버전\n",
    "- git config --global user.name 이름\n",
    "- git config --global user.eamil 이메일\n",
    "- vim 파일명 통해 파일 수정 가능\n",
    "    - I : 수정 단축키\n",
    "    - ESC누른후 :wq를 입력하면 저장하고 나가기\n",
    "- git commit 쓰고 맨윗줄 버전쓰고 저장하고 나가기\n",
    "\n",
    "### 3. Stage area(commit 대기할 파일들의 stage)\n",
    "git log에서 나가려면 q\n",
    "- commit하기 전에 왜 꼭 add를 해줘야 하는가\n",
    "- commit하나는 하나의 작업을 담는게 원칙\n",
    "- commit할 시기를 놓치면 다 묶어서 commit해야하는데 이러한 상황을 해결하기위해 add를 사용해 구분해서 commit(add한 파일만 commit되기 때문)\n",
    "    - commit할 애들만 add로 추가해서 따로 commit할 수 있음\n",
    "    - git add 파일면 : 파일을 commit 대기상태로 만듬\n",
    "    - git commit : commit 대기상태인 파일들만을 버전에 포함시킴\n",
    "    \n",
    "### 4. 변경사항 확인하기\n",
    "- git log -p : commit 과 commit 사이의 차이점이 무엇인지를 보여주는 정보가 나타남\n",
    "    ![image](https://user-images.githubusercontent.com/28910538/54174551-66c85b80-44ca-11e9-8696-7a7519ff6c76.png)\n",
    "    - +++ 파일은 위쪽 commit의 파일변경사항\n",
    "    - --- 파일은 아래쪽 commit의 파일변경사항\n",
    "    - f2.txt가 commit 3에서 생성되고 그 내용은 source 2 였다\n",
    "- commit 고유의 ID를 통해 \n",
    "    - git commit ID를 통해 그 commit 이전의 log만 볼 수 있음\n",
    "    - git diff ID .. ID 를 통해 커밋 사의의 차이점 만 볼 수 있음\n",
    "    - git diff : 이전 commit과의 차이점\n",
    "        - add하기전에 이전 commit과 의 차이점?\n",
    "        \n",
    "### 5. 과거의 버전으로 돌아가기\n",
    "- reset\n",
    "    - git reset commitid --hard\n",
    "        - commitid의 위 log들 다 지우고 commitid상태로 돌아감\n",
    "- revert\n",
    "    - commit을 취소하면서 새로운 버전을 생성\n",
    "        \n",
    "### 6. 명령의 빈도와 메뉴얼 보는 방법\n",
    "- git commit --help\n",
    "    - commit 메뉴얼\n",
    "- git commit -a \n",
    "    - 수정이나 삭제된거 자동으로 commit\n",
    "- git commit -m 'msg'\n",
    "    - editor를 안키고도 커밋가능\n",
    "- git commit -am \"11\"\n",
    "    - editor를 키지않고 수정이나 삭제된거 자동으로 commit"
   ]
  },
  {
   "cell_type": "markdown",
   "metadata": {},
   "source": [
    "# git의 원리\n",
    "\n",
    "- add를 하기전에는 index에 올라가지 않음\n",
    "- git은 어떤 파일을 저장할때 내용이 같으면 같은 오브젝트를 가리킴\n",
    "- commit은 주요한 정보 2가지를 갖고 있음\n",
    "    - 1. parent : 이전 커밋이 누군인지 부모를 나타내는 값\n",
    "    - 2. commit이 일어난 시점에 작업 디렉토리에 있는 파일의 이름과 그 파일의 이름이 담고있는 내용사이의 정보가 tree에 담겨 있음\n",
    "        - 각각의 버전마다 서로 다른 tree를 가리키고 있는데, 그 버전이 만들어진 시점의 폴더상태를 얻어낼 수 있음\n",
    "            - 사진을 찍었다 : 스냅샷\n",
    "                - 각각의 버전은 스냅샷을 통해서 트리라는 정보구조를 갖고 있다\n",
    "- 오브젝트는 크게 3개의 형태\n",
    "    - 1. blob : 파일의 내용을 담고있는\n",
    "    - 2. tree : 어떤 디렉토리의 파일명과 그 파일명에 해당하는 blob에 대한 정보\n",
    "    - 3. commit\n",
    "- index란\n",
    "    - 최신 commit과 index가 일치하면 현재 commit할 것이 없는 것임\n",
    "    - commit 대기상태의 파일(add 파일 후)\n",
    "- status란 어떻게 동작하는가"
   ]
  },
  {
   "cell_type": "code",
   "execution_count": null,
   "metadata": {},
   "outputs": [],
   "source": []
  },
  {
   "cell_type": "code",
   "execution_count": null,
   "metadata": {},
   "outputs": [],
   "source": []
  },
  {
   "cell_type": "code",
   "execution_count": null,
   "metadata": {},
   "outputs": [],
   "source": []
  }
 ],
 "metadata": {
  "kernelspec": {
   "display_name": "data_env",
   "language": "python",
   "name": "data_env"
  },
  "language_info": {
   "codemirror_mode": {
    "name": "ipython",
    "version": 3
   },
   "file_extension": ".py",
   "mimetype": "text/x-python",
   "name": "python",
   "nbconvert_exporter": "python",
   "pygments_lexer": "ipython3",
   "version": "3.6.6"
  }
 },
 "nbformat": 4,
 "nbformat_minor": 2
}
