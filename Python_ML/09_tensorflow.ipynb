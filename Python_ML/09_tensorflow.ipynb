{
 "cells": [
  {
   "cell_type": "markdown",
   "metadata": {},
   "source": [
    "#### pip install tensorflow\n",
    "#### dll 에러 뜨면, pip install tensorflow==1.5\n",
    "- windows 10 은 1.6 error "
   ]
  },
  {
   "cell_type": "markdown",
   "metadata": {},
   "source": [
    "### tensorflow\n",
    "- google이 만든 머신러닝을 위한 library\n",
    "- 데이터가 흐르는 그래프\n",
    "\n",
    "### 구성요소\n",
    "- 1. node : 수학적인 연산을 담당, 데이터의 입출력\n",
    "- 2. Tensor : 다차원 array(matrix)\n",
    "- 3. edge : 한 node가 가지고있는 tensor를 다른 node로 이동\n",
    "- node, tensor, edge로 하나의 그래프를 만들 수 있다\n",
    "- 그래프를 실행시키기위해서는 실행자가 있어야함\n",
    "    - runner(session)를 통해 실행"
   ]
  },
  {
   "cell_type": "markdown",
   "metadata": {},
   "source": [
    "#### 자료타입\n",
    "- 상수(Constant)\n",
    "- 변수(Veriable)\n",
    "- 심볼릭변수(placeholder)"
   ]
  },
  {
   "cell_type": "code",
   "execution_count": 1,
   "metadata": {},
   "outputs": [
    {
     "name": "stdout",
     "output_type": "stream",
     "text": [
      "b'Hello World'\n",
      "Hello World\n",
      "Tensor(\"Const:0\", shape=(), dtype=string)\n"
     ]
    }
   ],
   "source": [
    "import tensorflow as tf\n",
    "\n",
    "\n",
    "my_node =tf.constant(\"Hello World\")\n",
    "\n",
    "sess = tf.Session() # session, runner(node를 실행시키는 실행자)\n",
    "print(sess.run(my_node)) # 실행시켜줌\n",
    "\n",
    "# 앞의 b는 문자열이 byte계열임을 지칭, 일반 문자열로 바꿔주기위해서는 decode\n",
    "print(sess.run(my_node).decode())\n",
    "\n",
    "#shpae => ()이면 scalar값임을 알려줌\n",
    "print(my_node)"
   ]
  },
  {
   "cell_type": "code",
   "execution_count": 8,
   "metadata": {},
   "outputs": [
    {
     "name": "stdout",
     "output_type": "stream",
     "text": [
      "cost : -0.2839032709598541, weight : [-0.50569904]\n",
      "cost : -0.2839032709598541, weight : [-0.50569904]\n",
      "cost : -0.2839032709598541, weight : [-0.50569904]\n",
      "cost : -0.2839032709598541, weight : [-0.50569904]\n",
      "cost : -0.2839032709598541, weight : [-0.50569904]\n",
      "cost : -0.2839032709598541, weight : [-0.50569904]\n",
      "cost : -0.2839032709598541, weight : [-0.50569904]\n",
      "cost : -0.2839032709598541, weight : [-0.50569904]\n",
      "cost : -0.2839032709598541, weight : [-0.50569904]\n",
      "cost : -0.2839032709598541, weight : [-0.50569904]\n"
     ]
    }
   ],
   "source": [
    "import tensorflow as tf\n",
    "import numpy as np\n",
    "import pandas as pd\n",
    "\n",
    "x_data = [1,2,3]\n",
    "y_data = [1,2,3]\n",
    "\n",
    "m = len(x_data)\n",
    "\n",
    "x = tf.placeholder(dtype=tf.float32)\n",
    "y = tf.placeholder(dtype=tf.float32)\n",
    "\n",
    "W = tf.Variable(tf.random_normal([1,]), tf.float32)\n",
    "#b = tf.Variable(tf.random_normalom([1,]), tf.float32)\n",
    "# Hypothiesis\n",
    "H = tf.multiply(x,W)\n",
    "# cost function\n",
    "cost = 0.05*((tf.reduce_sum((W-y)*x))/m)\n",
    "train = W - cost\n",
    "W.assign(train)\n",
    "sess = tf.Session()\n",
    "sess.run(tf.global_variables_initializer())\n",
    "\n",
    "for step in range(3000):\n",
    "    _,cost_value, weight_value = sess.run([train,cost,W], feed_dict = {x:x_data, y:y_data})\n",
    "    if step % 300 == 0:\n",
    "        print(\"cost : {}, weight : {}\".format(cost_value, weight_value))"
   ]
  },
  {
   "cell_type": "markdown",
   "metadata": {},
   "source": [
    "##### 간단한 수학 연산"
   ]
  },
  {
   "cell_type": "code",
   "execution_count": 17,
   "metadata": {},
   "outputs": [
    {
     "name": "stdout",
     "output_type": "stream",
     "text": [
      "20.0\n",
      "[10.0, 10.0, 20.0]\n"
     ]
    }
   ],
   "source": [
    "\n",
    "import tensorflow as tf\n",
    "import numpy as np\n",
    "\n",
    "node1 = tf.constant(10, dtype=tf.float32) # np.float32넣으면 내부적으로 tensor타입으로 바꿔주긴함\n",
    "node2 = tf.constant(10, dtype=tf.float32)\n",
    "\n",
    "#node3에 node1,node2 edge가 연결\n",
    "node3 = node1+node2 # tf.add(node1,node2)\n",
    "\n",
    "sess = tf.Session()\n",
    "\n",
    "print(sess.run(node3))\n",
    "print(sess.run([node1,node2,node3]))\n"
   ]
  },
  {
   "cell_type": "markdown",
   "metadata": {},
   "source": [
    "##### placeholder (데이터를 받아들이는 그릇) - 변수는 아님"
   ]
  },
  {
   "cell_type": "code",
   "execution_count": 25,
   "metadata": {},
   "outputs": [
    {
     "data": {
      "text/plain": [
       "array([5., 7., 9.], dtype=float32)"
      ]
     },
     "execution_count": 25,
     "metadata": {},
     "output_type": "execute_result"
    }
   ],
   "source": [
    "import tensorflow as tf\n",
    "\n",
    "node1 = tf.placeholder(dtype=tf.float32)\n",
    "node2 = tf.placeholder(dtype=tf.float32)\n",
    "node3 = node1 + node2\n",
    "\n",
    "sess = tf.Session()\n",
    "# dictinoary 형태로 값을 placeholder에 넘겨줌\n",
    "sess.run(node3, feed_dict={node1:[1,2,3], node2:[4,5,6]})"
   ]
  },
  {
   "cell_type": "code",
   "execution_count": 29,
   "metadata": {},
   "outputs": [
    {
     "data": {
      "text/plain": [
       "<tf.Tensor 'Const_21:0' shape=() dtype=float32>"
      ]
     },
     "metadata": {},
     "output_type": "display_data"
    },
    {
     "data": {
      "text/plain": [
       "<tf.Tensor 'Const_22:0' shape=(3,) dtype=float32>"
      ]
     },
     "metadata": {},
     "output_type": "display_data"
    }
   ],
   "source": [
    "import tensorflow as tf\n",
    "\n",
    "node1 = tf.constant(3, dtype=tf.float32)\n",
    "# Const_~는 몇번째 상수인지, shape=()이기때문에 scalar\n",
    "display(node1)\n",
    "node2 = tf.constant([1,2,3], dtype=tf.float32)\n",
    "display(node2)"
   ]
  },
  {
   "cell_type": "markdown",
   "metadata": {},
   "source": [
    "#### 간단한 linear regression을 이용한 machine learning\n",
    "- 1. training data set\n",
    "- 2. Hypothesis : H(x) = Wx + b\n",
    "- 3. Cost function정의\n",
    "- 4. Cost function의 minimize"
   ]
  },
  {
   "cell_type": "code",
   "execution_count": 49,
   "metadata": {},
   "outputs": [
    {
     "name": "stdout",
     "output_type": "stream",
     "text": [
      "weight : [0.04396537], bias : [0.6151161], cost : 23.55230140686035\n",
      "weight : [1.8778049], bias : [1.2777784], cost : 0.01109583955258131\n",
      "weight : [1.9148157], bias : [1.1936436], cost : 0.005392236169427633\n",
      "weight : [1.9406171], bias : [1.1349912], cost : 0.0026204362511634827\n",
      "weight : [1.9586031], bias : [1.0941044], cost : 0.0012734606862068176\n",
      "weight : [1.9711416], bias : [1.0656018], cost : 0.0006188668194226921\n",
      "weight : [1.9798825], bias : [1.045732], cost : 0.00030074629466980696\n",
      "weight : [1.9859755], bias : [1.0318809], cost : 0.0001461611973354593\n",
      "weight : [1.9902234], bias : [1.0222244], cost : 7.10252279532142e-05\n",
      "weight : [1.9931844], bias : [1.0154932], cost : 3.451972588663921e-05\n"
     ]
    },
    {
     "data": {
      "text/plain": [
       "array([20.963242], dtype=float32)"
      ]
     },
     "execution_count": 49,
     "metadata": {},
     "output_type": "execute_result"
    }
   ],
   "source": [
    "import tensorflow as tf\n",
    "\n",
    "# 1. training data set\n",
    "x_data = [1,2,3] # 독립변수, 입력데이터\n",
    "y_data = [3,5,7] # 종속변수, 입력데이터의 label\n",
    "\n",
    "# placeholder \n",
    "x = tf.placeholder(dtype=tf.float32)\n",
    "y = tf.placeholder(dtype=tf.float32)\n",
    "\n",
    "# 2. Hypothesis(가설) H(x) = Wx + b 를 프로그램적으로 표현하기 위해\n",
    "# Weight 와 bias 를 정의\n",
    "# 처음에는 랜덤한 값을 넣어줌 - tensorflow의 random_normal 사용,, 정규분포에서 랜덤 값 추출, default \n",
    "# tf.random_normal() 안에 배열형태로 몇개 뽑을지 , name = 내부적으로 사용할 이름\n",
    "W = tf.Variable(tf.random_normal([1]), name =\"weight\")\n",
    "b = tf.Variable(tf.random_normal([1]), name =\"bias\")\n",
    "# Hypothesis ( 최종적으로 알아내야 하는 직선), 데이터에 가장 인접한 직선 예측모델이 만들어지면 예측 가능\n",
    "H = W * x + b\n",
    "\n",
    "# 3. Cost function(= Loss function, 비용함수)\n",
    "# Const function이 최소가되는 W와 b값을 구하는게 목표\n",
    "# tf.square 는 제곱\n",
    "# tf.reduce_mean 은 평균\n",
    "cost = tf.reduce_mean(tf.square((H - y)))\n",
    "\n",
    "# cost function의 minimize\n",
    "# 경사하강기법 사용\n",
    "optimizer = tf.train.GradientDescentOptimizer(learning_rate=0.005)\n",
    "# optimizer가지고 현재 cost값에서 그거보다 작은형태로 한단계 줄임\n",
    "train = optimizer.minimize(cost)\n",
    "\n",
    "# 그래프를 실행시키기 위한 session\n",
    "sess = tf.Session()\n",
    "# Variable을 사용할 경우 초기화를 시켜줘야함\n",
    "sess.run(tf.global_variables_initializer())\n",
    "\n",
    "for step in range(3000):\n",
    "    _, w_val, b_val, cost_val = sess.run([train,W,b,cost],feed_dict={x:x_data, y:y_data})\n",
    "    if step % 300 == 0:\n",
    "        print(\"weight : {}, bias : {}, cost : {}\".format(w_val,b_val,cost_val))\n",
    "        \n",
    "### Prediction\n",
    "sess.run(H, feed_dict={x:10})"
   ]
  },
  {
   "cell_type": "markdown",
   "metadata": {},
   "source": [
    "#### ml 정리\n",
    "- Explicit programmin으로 해결 못하는 - (경우의 수가 너무 많은)문제들을 해결\n",
    "- 두 가지로 기준이 나뉨 \n",
    "    - Supervised Learning(지도 학습)\n",
    "        - (입력 parameter + label 데이터)를 통해 학습\n",
    "        - 3가지 정도로 나뉨\n",
    "            - Linear Regression\n",
    "                - y축 label이 이산값이 아니라 연속적인 값\n",
    "                - 통계에서 들고 온 것\n",
    "            - Logistic Regression ( Binary Classification)\n",
    "                - 회귀 중에 분류를 함\n",
    "            - Multinomial Classification\n",
    "                - 여러 범주중에서 분류\n",
    "                \n",
    "    - Unsupervised Learning(비지도 학습)\n",
    "        - label화 되지 않은 데이터를 통해 학습\n",
    "- 회귀분석 ( Regression Analysis )\n",
    "    - 통계적 가설 검정 일반적으로 2개의 파라미터가 서로 연관이 있는지에 대해 검정을 했었는데 Regression 또한 같은개념\n",
    "    - 검정 종류의 하나 일 뿐 \n",
    "        - 두 개의 파라미터가 서로 연관이 있는지\n",
    "    - 예측이 가능함\n",
    "    \n",
    "- Linear Regression \n",
    "    - 데이터가 주어졌을때 해당 데이터를 가장 잘 표현하는 선을 그음\n",
    "    - 선을 찾기위한 1차함수의 기울기와 절편을 구함\n",
    "    - Hypothesis(가설) : H(x) = Wx + b\n",
    "    - 직선이 가장 잘 맞는 걸 찾기 위해\n",
    "        - 1. 기대값,공분산을 이용하는 방식\n",
    "        - 2. 최소제곱법\n",
    "            - 선과 실 데이터간의 차이를 구해 제곱을해서 평균을 냄\n",
    "            - 그 차가 가장 작은 선을 찾음\n",
    "            - Cost(W,b)"
   ]
  },
  {
   "cell_type": "markdown",
   "metadata": {},
   "source": [
    "#### 기본적인 Linear Regression 예제"
   ]
  },
  {
   "cell_type": "markdown",
   "metadata": {},
   "source": [
    "- 표준화 or 일반화 필요"
   ]
  },
  {
   "cell_type": "code",
   "execution_count": 42,
   "metadata": {},
   "outputs": [
    {
     "name": "stdout",
     "output_type": "stream",
     "text": [
      "cost_value : 1295.1763916015625, w_value : [-0.5137321]\n",
      "cost_value : 4.517247200012207, w_value : [2.0956378]\n",
      "cost_value : 3.860111713409424, w_value : [2.0588408]\n",
      "cost_value : 3.40836763381958, w_value : [2.028331]\n",
      "cost_value : 3.0978164672851562, w_value : [2.003035]\n",
      "cost_value : 2.8843283653259277, w_value : [1.9820611]\n",
      "cost_value : 2.737567186355591, w_value : [1.9646711]\n",
      "cost_value : 2.6366755962371826, w_value : [1.9502529]\n",
      "cost_value : 2.5673179626464844, w_value : [1.9382983]\n",
      "cost_value : 2.5196380615234375, w_value : [1.9283864]\n"
     ]
    },
    {
     "data": {
      "image/png": "[encoded data removed]",
      "text/plain": [
       "<Figure size 432x288 with 1 Axes>"
      ]
     },
     "metadata": {
      "needs_background": "light"
     },
     "output_type": "display_data"
    }
   ],
   "source": [
    "import tensorflow as tf\n",
    "import numpy as np \n",
    "import matplotlib\n",
    "import matplotlib.pyplot as plt\n",
    "\n",
    "np.random.seed(0)\n",
    "# training data set - 입력 파라미터 + label\n",
    "x_data = np.arange(0,20,1)\n",
    "y_data = [t*2+(np.random.normal(2,2)) for t in x_data]\n",
    "\n",
    "#plt.scatter(x_data,y_data)\n",
    "#plt.show()\n",
    "\n",
    "# placeholder\n",
    "X = tf.placeholder(dtype=tf.float32)\n",
    "Y = tf.placeholder(dtype=tf.float32)\n",
    "\n",
    "# Weight * bias\n",
    "# 값이 변하니까 Variable\n",
    "# shape을 대괄호로 표현, 몇차원으로 만들건지를 안에 넣어줌\n",
    "W = tf.Variable(tf.random_normal([1,], dtype=tf.float32), name = \"weight\")\n",
    "b = tf.Variable(tf.random_normal([1,], dtype=tf.float32), name = \"bias\")\n",
    "\n",
    "# Hypothesis\n",
    "H = W*X+b\n",
    "\n",
    "# Cost Function\n",
    "cost = tf.reduce_mean(tf.square(H-Y))\n",
    "\n",
    "# train\n",
    "train = tf.train.GradientDescentOptimizer(learning_rate=0.0007).minimize(cost)\n",
    "\n",
    "# Session 초기화\n",
    "sess = tf.Session()\n",
    "# 변수 초기화\n",
    "sess.run(tf.global_variables_initializer())\n",
    "\n",
    "# 트레이닝 한번 트레이닝 시키면 1 epoch\n",
    "for step in range(5000):\n",
    "    _, cost_value, w_value = sess.run([train, cost, W], feed_dict={X:x_data, Y:y_data})\n",
    "    if step % 500 == 0 :\n",
    "        print(\"cost_value : {}, w_value : {}\".format(cost_value,w_value))\n",
    "\n",
    "# 입력 데이터에 대한 처리가 이루어져야 정상적으로 학습이 진행\n",
    "x_line = np.arange(0,20,1)\n",
    "y_line = np.array([sess.run(W)*t+sess.run(b) for t in x_line])\n",
    "\n",
    "plt.plot(x_line, y_line, \"r\")\n",
    "plt.scatter(x_data, y_data)\n",
    "plt.show()"
   ]
  },
  {
   "cell_type": "markdown",
   "metadata": {},
   "source": [
    "### cost functino wieght로 미분\n",
    "- costfunction이 0 이되는 값의 weight를 찾아야하는데 weight로 미분하면 0이 되는 값인 기울기가 0인 지점을 찾을 수 있음 \n",
    "- 미분은 어떤 함수의 정의역 속 각 점에서의 함숫값의 변화량과 독립 변숫값의 변화량의 비의 극한 혹은 극한들로 치역이 구성되는 새로운 함수이다\n",
    "- 즉, 그래프의 접선을 구할 수 있고 그 접선의 기울기를 알 수  있다 \n",
    "- W = W - a(learning rate)*cost접선의 기울기 로 weight를 갱신해준다\n",
    "![image](https://user-images.githubusercontent.com/28910538/53535356-dbec7600-3b45-11e9-8027-af74d974b3bc.png)\n"
   ]
  },
  {
   "cell_type": "code",
   "execution_count": 55,
   "metadata": {},
   "outputs": [
    {
     "name": "stdout",
     "output_type": "stream",
     "text": [
      "cost_value : 0.0009046575869433582, weight_value : [1.8722186]\n",
      "cost_value : 0.00022235697542782873, weight_value : [1.7266937]\n",
      "cost_value : 5.4653966799378395e-05, weight_value : [1.6909251]\n",
      "cost_value : 1.3434173524728976e-05, weight_value : [1.6821334]\n",
      "cost_value : 3.301779543107841e-06, weight_value : [1.6799723]\n",
      "cost_value : 8.120537131617311e-07, weight_value : [1.6794413]\n",
      "cost_value : 2.0066897832293762e-07, weight_value : [1.6793109]\n",
      "cost_value : 5.912781020356306e-08, weight_value : [1.6792808]\n",
      "cost_value : 5.912781020356306e-08, weight_value : [1.6792808]\n",
      "cost_value : 5.912781020356306e-08, weight_value : [1.6792808]\n"
     ]
    },
    {
     "data": {
      "image/png": "[encoded data removed]",
      "text/plain": [
       "<Figure size 432x288 with 1 Axes>"
      ]
     },
     "metadata": {
      "needs_background": "light"
     },
     "output_type": "display_data"
    }
   ],
   "source": [
    "x_data = [1.,2.,3.]\n",
    "y_data = [2.,4.,6.]\n",
    "\n",
    "X = tf.placeholder(dtype=tf.float32)\n",
    "Y = tf.placeholder(dtype=tf.float32)\n",
    "\n",
    "W = tf.Variable(tf.random_normal([1], dtype=tf.float32))\n",
    "b = tf.Variable(tf.random_normal([1], dtype=tf.float32))\n",
    "\n",
    "h = W*X\n",
    "n = len(x_data)\n",
    "cost = 0.0005 * tf.reduce_sum(X*((W*X)+b-Y))*(2/n)\n",
    "\n",
    "train = tf.assign(W, W-cost)\n",
    "\n",
    "sess = tf.Session()\n",
    "sess.run(tf.global_variables_initializer())\n",
    "\n",
    "for step in range(3000): \n",
    "    _, cost_value, w_value = sess.run([train,cost, W], feed_dict={X:x_data, Y:y_data})\n",
    "    if step % 300 == 0:\n",
    "        print(\"cost_value : {}, weight_value : {}\".format(cost_value, w_value))\n",
    "\n",
    "plt.plot(x_data, sess.run(W)*x_data+sess.run(b),\"r\")\n",
    "plt.scatter(x_data, y_data)\n",
    "plt.show()\n"
   ]
  },
  {
   "cell_type": "markdown",
   "metadata": {},
   "source": [
    "### 하지만 gradient descent의 문제점\n",
    "- Global Minima를 못찾을 수도 있음\n",
    "\n",
    "### Cost Function은 반드시 Convex Function의 형태를 띄도록해야함"
   ]
  },
  {
   "cell_type": "markdown",
   "metadata": {},
   "source": [
    "##### 온도에 따른 ozone량 예측\n",
    "- Simple Linear Regression은 독립변수가 하나\n",
    "- 독립변수와 종속변수가 같은 단위의 데이터면 상관이 없지만, 다른 값과 다른 단위면 학습하는데 문제가 있음\n",
    "    - 어떤 경우에는 표준화가 더 잘되고, 어떤 경우에는 일반화가 학습이 더 잘 됨\n",
    "    - 표준화 (standardization) \n",
    "![image](https://user-images.githubusercontent.com/28910538/53537777-6e911300-3b4e-11e9-87fe-2df49a782ecf.png)\n",
    "\n",
    "    - 일반화 (normalization)\n",
    "![image](https://user-images.githubusercontent.com/28910538/53537751-57522580-3b4e-11e9-813c-f7ca0c60df73.png)\n",
    "\n",
    "\n"
   ]
  },
  {
   "cell_type": "code",
   "execution_count": 171,
   "metadata": {},
   "outputs": [
    {
     "data": {
      "text/html": [
       "<div>\n",
       "<style scoped>\n",
       "    .dataframe tbody tr th:only-of-type {\n",
       "        vertical-align: middle;\n",
       "    }\n",
       "\n",
       "    .dataframe tbody tr th {\n",
       "        vertical-align: top;\n",
       "    }\n",
       "\n",
       "    .dataframe thead th {\n",
       "        text-align: right;\n",
       "    }\n",
       "</style>\n",
       "<table border=\"1\" class=\"dataframe\">\n",
       "  <thead>\n",
       "    <tr style=\"text-align: right;\">\n",
       "      <th></th>\n",
       "      <th>Ozone</th>\n",
       "      <th>Solar.R</th>\n",
       "      <th>Wind</th>\n",
       "      <th>Temp</th>\n",
       "      <th>Month</th>\n",
       "      <th>Day</th>\n",
       "    </tr>\n",
       "  </thead>\n",
       "  <tbody>\n",
       "    <tr>\n",
       "      <th>0</th>\n",
       "      <td>41.0</td>\n",
       "      <td>190.0</td>\n",
       "      <td>7.4</td>\n",
       "      <td>67</td>\n",
       "      <td>5</td>\n",
       "      <td>1</td>\n",
       "    </tr>\n",
       "    <tr>\n",
       "      <th>1</th>\n",
       "      <td>36.0</td>\n",
       "      <td>118.0</td>\n",
       "      <td>8.0</td>\n",
       "      <td>72</td>\n",
       "      <td>5</td>\n",
       "      <td>2</td>\n",
       "    </tr>\n",
       "    <tr>\n",
       "      <th>2</th>\n",
       "      <td>12.0</td>\n",
       "      <td>149.0</td>\n",
       "      <td>12.6</td>\n",
       "      <td>74</td>\n",
       "      <td>5</td>\n",
       "      <td>3</td>\n",
       "    </tr>\n",
       "    <tr>\n",
       "      <th>3</th>\n",
       "      <td>18.0</td>\n",
       "      <td>313.0</td>\n",
       "      <td>11.5</td>\n",
       "      <td>62</td>\n",
       "      <td>5</td>\n",
       "      <td>4</td>\n",
       "    </tr>\n",
       "    <tr>\n",
       "      <th>4</th>\n",
       "      <td>NaN</td>\n",
       "      <td>NaN</td>\n",
       "      <td>14.3</td>\n",
       "      <td>56</td>\n",
       "      <td>5</td>\n",
       "      <td>5</td>\n",
       "    </tr>\n",
       "    <tr>\n",
       "      <th>5</th>\n",
       "      <td>28.0</td>\n",
       "      <td>NaN</td>\n",
       "      <td>14.9</td>\n",
       "      <td>66</td>\n",
       "      <td>5</td>\n",
       "      <td>6</td>\n",
       "    </tr>\n",
       "  </tbody>\n",
       "</table>\n",
       "</div>"
      ],
      "text/plain": [
       "   Ozone  Solar.R  Wind  Temp  Month  Day\n",
       "0   41.0    190.0   7.4    67      5    1\n",
       "1   36.0    118.0   8.0    72      5    2\n",
       "2   12.0    149.0  12.6    74      5    3\n",
       "3   18.0    313.0  11.5    62      5    4\n",
       "4    NaN      NaN  14.3    56      5    5\n",
       "5   28.0      NaN  14.9    66      5    6"
      ]
     },
     "metadata": {},
     "output_type": "display_data"
    },
    {
     "name": "stdout",
     "output_type": "stream",
     "text": [
      "(153, 6)\n"
     ]
    },
    {
     "data": {
      "text/html": [
       "<div>\n",
       "<style scoped>\n",
       "    .dataframe tbody tr th:only-of-type {\n",
       "        vertical-align: middle;\n",
       "    }\n",
       "\n",
       "    .dataframe tbody tr th {\n",
       "        vertical-align: top;\n",
       "    }\n",
       "\n",
       "    .dataframe thead th {\n",
       "        text-align: right;\n",
       "    }\n",
       "</style>\n",
       "<table border=\"1\" class=\"dataframe\">\n",
       "  <thead>\n",
       "    <tr style=\"text-align: right;\">\n",
       "      <th></th>\n",
       "      <th>Ozone</th>\n",
       "      <th>Temp</th>\n",
       "    </tr>\n",
       "  </thead>\n",
       "  <tbody>\n",
       "    <tr>\n",
       "      <th>0</th>\n",
       "      <td>41.0</td>\n",
       "      <td>67</td>\n",
       "    </tr>\n",
       "    <tr>\n",
       "      <th>1</th>\n",
       "      <td>36.0</td>\n",
       "      <td>72</td>\n",
       "    </tr>\n",
       "    <tr>\n",
       "      <th>2</th>\n",
       "      <td>12.0</td>\n",
       "      <td>74</td>\n",
       "    </tr>\n",
       "    <tr>\n",
       "      <th>3</th>\n",
       "      <td>18.0</td>\n",
       "      <td>62</td>\n",
       "    </tr>\n",
       "    <tr>\n",
       "      <th>5</th>\n",
       "      <td>28.0</td>\n",
       "      <td>66</td>\n",
       "    </tr>\n",
       "    <tr>\n",
       "      <th>6</th>\n",
       "      <td>23.0</td>\n",
       "      <td>65</td>\n",
       "    </tr>\n",
       "  </tbody>\n",
       "</table>\n",
       "</div>"
      ],
      "text/plain": [
       "   Ozone  Temp\n",
       "0   41.0    67\n",
       "1   36.0    72\n",
       "2   12.0    74\n",
       "3   18.0    62\n",
       "5   28.0    66\n",
       "6   23.0    65"
      ]
     },
     "metadata": {},
     "output_type": "display_data"
    },
    {
     "name": "stdout",
     "output_type": "stream",
     "text": [
      "(116, 2)\n"
     ]
    }
   ],
   "source": [
    "import tensorflow as tf\n",
    "import pandas as pd\n",
    "import numpy as np\n",
    "import matplotlib \n",
    "import matplotlib.pyplot as plt\n",
    "\n",
    "file_path = \"./data/ozone/ozone.csv\"\n",
    "# sep를 안주면 default로 \",\"\n",
    "pd_ozone = pd.read_csv(file_path, sep=\",\")\n",
    "display(pd_ozone.head(6))\n",
    "print(pd_ozone.shape)\n",
    "# drop na\n",
    "pd_oz_tp = pd_ozone[[\"Ozone\",\"Temp\"]].copy()\n",
    "pd_oz_tp.dropna(how=\"any\", inplace=True)\n",
    "display(pd_oz_tp.head(6))\n",
    "print(pd_oz_tp.shape)\n",
    "\n",
    "temp_data = pd_oz_tp[\"Temp\"]\n",
    "ozone_data = pd_oz_tp[\"Ozone\"]\n"
   ]
  },
  {
   "cell_type": "code",
   "execution_count": 175,
   "metadata": {},
   "outputs": [
    {
     "name": "stdout",
     "output_type": "stream",
     "text": [
      "0   -1.151006\n",
      "1   -0.621598\n",
      "2   -0.409835\n",
      "3   -1.680414\n",
      "5   -1.256888\n",
      "Name: Temp, dtype: float64\n",
      "0    0.250\n",
      "1    0.375\n",
      "2    0.425\n",
      "3    0.125\n",
      "5    0.225\n",
      "Name: Temp, dtype: float64\n"
     ]
    }
   ],
   "source": [
    "########################################################################\n",
    "def std(data):\n",
    "    a = np.sqrt(np.mean((data - np.mean(data))**2))\n",
    "    return (data - np.mean(data))/a\n",
    "def nor(data):\n",
    "    return (data - np.min(data))/(np.max(data)-np.min(data))\n",
    "####################### Standardization\n",
    "temp_data_std = std(temp_data)\n",
    "print(temp_data_std.head())\n",
    "ozone_data_std = std(ozone_data)\n",
    "######################## Normalization\n",
    "temp_data_nor = nor(temp_data)\n",
    "print(temp_data_nor.head())\n",
    "ozone_data_nor = nor(ozone_data)\n"
   ]
  },
  {
   "cell_type": "markdown",
   "metadata": {},
   "source": [
    "##### 표준화 (standardization)"
   ]
  },
  {
   "cell_type": "code",
   "execution_count": 179,
   "metadata": {},
   "outputs": [
    {
     "name": "stdout",
     "output_type": "stream",
     "text": [
      "cost_value : 3.7957870960235596, weight_value : [-0.94531167]\n",
      "cost_value : 0.5122928023338318, weight_value : [0.69828945]\n",
      "cost_value : 0.5122928023338318, weight_value : [0.6983574]\n",
      "cost_value : 0.5122928023338318, weight_value : [0.6983574]\n",
      "cost_value : 0.5122928023338318, weight_value : [0.6983574]\n"
     ]
    },
    {
     "data": {
      "image/png": "[encoded data removed]",
      "text/plain": [
       "<Figure size 432x288 with 1 Axes>"
      ]
     },
     "metadata": {
      "needs_background": "light"
     },
     "output_type": "display_data"
    }
   ],
   "source": [
    "X = tf.placeholder(dtype=tf.float32)\n",
    "Y = tf.placeholder(dtype=tf.float32)\n",
    "\n",
    "W = tf.Variable(tf.random_normal([1,],dtype=tf.float32),name=\"weight\")\n",
    "b = tf.Variable(tf.random_normal([1,],dtype=tf.float32),name=\"bias\")\n",
    "\n",
    "h = W*X+b\n",
    "cost = tf.reduce_mean(tf.square(h-Y))\n",
    "\n",
    "train = tf.train.GradientDescentOptimizer(learning_rate=0.005).minimize(cost)\n",
    "\n",
    "sess = tf.Session()\n",
    "sess.run(tf.global_variables_initializer())\n",
    "\n",
    "for step in range(5000):\n",
    "    _, cost_value, weight_value = sess.run([train,cost, W], feed_dict={X:temp_data_std, Y:ozone_data_std})\n",
    "    if step % 1000 == 0:\n",
    "        print(\"cost_value : {}, weight_value : {}\".format(cost_value,weight_value))\n",
    "\n",
    "\n",
    "x_line = temp_data_std\n",
    "y_line = sess.run(W)*x_line+sess.run(b)\n",
    "plt.plot(x_line,y_line,\"r\" )\n",
    "plt.scatter( temp_data_std,ozone_data_std)\n",
    "plt.xlabel(\"Temp\")\n",
    "plt.ylabel(\"Ozone\")\n",
    "\n",
    "plt.show()\n"
   ]
  },
  {
   "cell_type": "markdown",
   "metadata": {},
   "source": [
    "##### 일반화 ( Normalization )"
   ]
  },
  {
   "cell_type": "code",
   "execution_count": 178,
   "metadata": {},
   "outputs": [
    {
     "name": "stdout",
     "output_type": "stream",
     "text": [
      "cost_value : 0.03452238813042641, weight_value : [0.6915479]\n",
      "cost_value : 0.019816868007183075, weight_value : [0.5825721]\n",
      "cost_value : 0.019816827028989792, weight_value : [0.5817373]\n",
      "cost_value : 0.019816827028989792, weight_value : [0.5817308]\n",
      "cost_value : 0.019816827028989792, weight_value : [0.5817308]\n"
     ]
    },
    {
     "data": {
      "image/png": "[encoded data removed]",
      "text/plain": [
       "<Figure size 432x288 with 1 Axes>"
      ]
     },
     "metadata": {
      "needs_background": "light"
     },
     "output_type": "display_data"
    }
   ],
   "source": [
    "for step in range(5000):\n",
    "    _, cost_value, weight_value = sess.run([train,cost, W], feed_dict={X:temp_data_nor, Y:ozone_data_nor})\n",
    "    if step % 1000 == 0:\n",
    "        print(\"cost_value : {}, weight_value : {}\".format(cost_value,weight_value))\n",
    "\n",
    "\n",
    "x_line = temp_data_nor\n",
    "y_line = sess.run(W)*x_line+sess.run(b)\n",
    "plt.plot(x_line,y_line,\"r\" )\n",
    "plt.scatter( temp_data_nor,ozone_data_nor)\n",
    "plt.xlabel(\"Temp\")\n",
    "plt.ylabel(\"Ozone\")\n",
    "\n",
    "plt.show()"
   ]
  },
  {
   "cell_type": "markdown",
   "metadata": {},
   "source": [
    "##### scipy"
   ]
  },
  {
   "cell_type": "code",
   "execution_count": 185,
   "metadata": {},
   "outputs": [
    {
     "data": {
      "image/png": "[encoded data removed]",
      "text/plain": [
       "<Figure size 432x288 with 1 Axes>"
      ]
     },
     "metadata": {
      "needs_background": "light"
     },
     "output_type": "display_data"
    }
   ],
   "source": [
    "%matplotlib inline\n",
    "import numpy as np\n",
    "import pandas as pd\n",
    "import matplotlib\n",
    "import matplotlib.pyplot as plt\n",
    "from scipy import stats\n",
    "\n",
    "# Data load\n",
    "data = pd.read_csv(\"./data/ozone/ozone.csv\", sep = \",\")\n",
    "df = data.dropna(how = \"any\", inplace=False)\n",
    "\n",
    "# 독립변수와 종속변수 뽑\n",
    "x_data = df[\"Temp\"]\n",
    "y_data = df[\"Ozone\"]\n",
    "\n",
    "# linear regression\n",
    "# slope : 기울기\n",
    "# interecept : y절편(b)상\n",
    "# ravlue = 상관계수(-1과 ~ 1 사이의 실수 0에가까우면 두개의 변수가 서로 관련이 없, 절대값이 1로 워 질 수록 관련이 있음)\n",
    " \n",
    "result = stats.linregress(x_data,y_data)\n",
    "w = result[0]\n",
    "b = result[1]\n",
    "plt.scatter(x_data,y_data)\n",
    "plt.plot(x_data, w * x_data + b, \"r\")\n",
    "plt.show()"
   ]
  },
  {
   "cell_type": "markdown",
   "metadata": {},
   "source": [
    "### Multi-variable(multiple) linear regression 다중 선형 회귀\n",
    "- 여러 개의 input을 이용한 linear regression\n",
    "- 변수가 여러개이기 때문에 Hypothesis도 바뀜\n",
    "- H(x) = Wx + b => H(x1,x2,x3) = w1x1 + w2x2 + w3x3 + b\n",
    "    - 다항시이 될 뿐(bias 즉 y절편은 하나)\n",
    "- 데이터가 많아졌으니 Matrix 이용해서 해결\n",
    "    - 이 전에는 1차원 배열이면 됐는데 3개로 늘어났\n",
    "        - 2차원으로 늘어났음 (Matrix)\n",
    "- H(X) = XW + b "
   ]
  },
  {
   "cell_type": "markdown",
   "metadata": {},
   "source": [
    "### matrix는 반드시 shape을 잡아줘야 함\n",
    "- placeholder선언시\n",
    "    - 대괄호로 표현, 행과 열의 갯수"
   ]
  },
  {
   "cell_type": "code",
   "execution_count": 401,
   "metadata": {},
   "outputs": [
    {
     "data": {
      "text/plain": [
       "array([[1, 1, 2, 2, 7, 2],\n",
       "       [3, 1, 2, 4, 1, 3],\n",
       "       [5, 8, 3, 6, 1, 1]])"
      ]
     },
     "execution_count": 401,
     "metadata": {},
     "output_type": "execute_result"
    }
   ],
   "source": [
    "b = np.array([[1,1,2],\n",
    "             [2,7,2],\n",
    "             [3,1,2],\n",
    "             [4,1,3],\n",
    "             [5,8,3],\n",
    "             [6,1,1],])\n",
    "b.reshape((3,6))"
   ]
  },
  {
   "cell_type": "code",
   "execution_count": 417,
   "metadata": {},
   "outputs": [
    {
     "name": "stdout",
     "output_type": "stream",
     "text": [
      "\n"
     ]
    },
    {
     "data": {
      "text/plain": [
       "array([[0., 0., 0.],\n",
       "       [0., 0., 0.],\n",
       "       [0., 0., 0.],\n",
       "       [1., 0., 0.],\n",
       "       [0., 1., 0.],\n",
       "       [0., 0., 1.],\n",
       "       [0., 0., 0.]])"
      ]
     },
     "execution_count": 417,
     "metadata": {},
     "output_type": "execute_result"
    }
   ],
   "source": [
    "a = np.array([[1,2,3],\n",
    "             [1,2,3],\n",
    "             [1,2,3],\n",
    "             [5,2,3],\n",
    "             [1,5,3],\n",
    "             [1,2,5],\n",
    "             [1,2,3]])\n",
    "print()\n"
   ]
  },
  {
   "cell_type": "code",
   "execution_count": 80,
   "metadata": {},
   "outputs": [],
   "source": [
    "def mul_std_2d(data):\n",
    "    m = np.mean(data, axis=0)\n",
    "    s = np.sqrt(np.mean((np.square(data - m)), axis=0))\n",
    "    return (data-m)/s\n",
    "##############\n",
    "def mul_nor_2d(data):\n",
    "    return (data - np.min(data, axis=0))/(np.max(data, axis=0)- np.min(data, axis=0))"
   ]
  },
  {
   "cell_type": "code",
   "execution_count": 81,
   "metadata": {},
   "outputs": [
    {
     "name": "stdout",
     "output_type": "stream",
     "text": [
      "cost_value : 1.9174716472625732, weight_value : [[ 0.9433931 ]\n",
      " [ 1.8015107 ]\n",
      " [-0.36262497]]\n",
      "cost_value : 0.06282375007867813, weight_value : [[ 0.68373156]\n",
      " [ 1.1312819 ]\n",
      " [-0.760058  ]]\n",
      "cost_value : 0.03278673067688942, weight_value : [[ 0.808009 ]\n",
      " [ 0.9653284]\n",
      " [-0.7217332]]\n",
      "cost_value : 0.018130524083971977, weight_value : [[ 0.89337933]\n",
      " [ 0.8487645 ]\n",
      " [-0.69279104]]\n",
      "cost_value : 0.010958519764244556, weight_value : [[ 0.9515457]\n",
      " [ 0.7666431]\n",
      " [-0.670464 ]]\n",
      "cost_value : 0.007435424719005823, weight_value : [[ 0.9907275]\n",
      " [ 0.7085753]\n",
      " [-0.6527702]]\n",
      "cost_value : 0.005691510625183582, weight_value : [[ 1.0166633]\n",
      " [ 0.6673067]\n",
      " [-0.6383252]]\n",
      "cost_value : 0.004815266467630863, weight_value : [[ 1.0333611 ]\n",
      " [ 0.63777196]\n",
      " [-0.62616295]]\n",
      "cost_value : 0.004362369887530804, weight_value : [[ 1.0436177 ]\n",
      " [ 0.616435  ]\n",
      " [-0.61560833]]\n",
      "cost_value : 0.0041162059642374516, weight_value : [[ 1.0493869 ]\n",
      " [ 0.600827  ]\n",
      " [-0.60619056]]\n"
     ]
    }
   ],
   "source": [
    "import tensorflow as tf\n",
    "\n",
    "x_data = [[73,80,75],\n",
    "          [93,88,93],\n",
    "          [89,91,90],\n",
    "          [96,98,100],\n",
    "          [73,66,70]]\n",
    "# std\n",
    "x_data_std = mul_std_2d(x_data)\n",
    "#nor\n",
    "x_data_nor = mul_nor_2d(x_data)\n",
    "y_data = [[152],\n",
    "          [185],\n",
    "          [180],\n",
    "          [196],\n",
    "          [142]]\n",
    "y_data_std = mul_std_2d(y_data)\n",
    "y_data_nor = mul_nor_2d(y_data)\n",
    "# 행의 개수는 고려하지 않겠다, 대신 열은 무조건 3개여야함\n",
    "X = tf.placeholder(shape = [None,3], dtype=tf.float32)\n",
    "Y = tf.placeholder(shape = [None,1], dtype=tf.float32)\n",
    "\n",
    "W = tf.Variable(tf.random_normal([3,1]), dtype =tf.float32)\n",
    "b = tf.Variable(tf.random_normal([1]),dtype=tf.float32)\n",
    "\n",
    "#matrix multiple\n",
    "H = tf.matmul(X,W) + b\n",
    "# H = X*W + b\n",
    "cost = tf.reduce_mean(tf.square(H-Y))\n",
    "\n",
    "# train\n",
    "train = tf.train.GradientDescentOptimizer(learning_rate=0.005).minimize(cost)\n",
    "\n",
    "sess = tf.Session()\n",
    "sess.run(tf.global_variables_initializer())\n",
    "\n",
    "\n",
    "for step in range(3000):\n",
    "    _, cost_value, weight_value = sess.run([train, cost, W], feed_dict={X:x_data_std, Y:y_data_std})\n",
    "    if step % 300 == 0:\n",
    "        print(\"cost_value : {}, weight_value : {}\".format(cost_value, weight_value))\n",
    "        \n"
   ]
  },
  {
   "cell_type": "markdown",
   "metadata": {},
   "source": [
    "### Multi-Variable Regression ,, ozone에 대해 3개의 future"
   ]
  },
  {
   "cell_type": "code",
   "execution_count": 237,
   "metadata": {},
   "outputs": [
    {
     "data": {
      "text/html": [
       "<div>\n",
       "<style scoped>\n",
       "    .dataframe tbody tr th:only-of-type {\n",
       "        vertical-align: middle;\n",
       "    }\n",
       "\n",
       "    .dataframe tbody tr th {\n",
       "        vertical-align: top;\n",
       "    }\n",
       "\n",
       "    .dataframe thead th {\n",
       "        text-align: right;\n",
       "    }\n",
       "</style>\n",
       "<table border=\"1\" class=\"dataframe\">\n",
       "  <thead>\n",
       "    <tr style=\"text-align: right;\">\n",
       "      <th></th>\n",
       "      <th>Ozone</th>\n",
       "      <th>Solar.R</th>\n",
       "      <th>Wind</th>\n",
       "      <th>Temp</th>\n",
       "      <th>Month</th>\n",
       "      <th>Day</th>\n",
       "    </tr>\n",
       "  </thead>\n",
       "  <tbody>\n",
       "    <tr>\n",
       "      <th>0</th>\n",
       "      <td>41.0</td>\n",
       "      <td>190.0</td>\n",
       "      <td>7.4</td>\n",
       "      <td>67</td>\n",
       "      <td>5</td>\n",
       "      <td>1</td>\n",
       "    </tr>\n",
       "    <tr>\n",
       "      <th>1</th>\n",
       "      <td>36.0</td>\n",
       "      <td>118.0</td>\n",
       "      <td>8.0</td>\n",
       "      <td>72</td>\n",
       "      <td>5</td>\n",
       "      <td>2</td>\n",
       "    </tr>\n",
       "    <tr>\n",
       "      <th>2</th>\n",
       "      <td>12.0</td>\n",
       "      <td>149.0</td>\n",
       "      <td>12.6</td>\n",
       "      <td>74</td>\n",
       "      <td>5</td>\n",
       "      <td>3</td>\n",
       "    </tr>\n",
       "    <tr>\n",
       "      <th>3</th>\n",
       "      <td>18.0</td>\n",
       "      <td>313.0</td>\n",
       "      <td>11.5</td>\n",
       "      <td>62</td>\n",
       "      <td>5</td>\n",
       "      <td>4</td>\n",
       "    </tr>\n",
       "    <tr>\n",
       "      <th>4</th>\n",
       "      <td>NaN</td>\n",
       "      <td>NaN</td>\n",
       "      <td>14.3</td>\n",
       "      <td>56</td>\n",
       "      <td>5</td>\n",
       "      <td>5</td>\n",
       "    </tr>\n",
       "    <tr>\n",
       "      <th>5</th>\n",
       "      <td>28.0</td>\n",
       "      <td>NaN</td>\n",
       "      <td>14.9</td>\n",
       "      <td>66</td>\n",
       "      <td>5</td>\n",
       "      <td>6</td>\n",
       "    </tr>\n",
       "  </tbody>\n",
       "</table>\n",
       "</div>"
      ],
      "text/plain": [
       "   Ozone  Solar.R  Wind  Temp  Month  Day\n",
       "0   41.0    190.0   7.4    67      5    1\n",
       "1   36.0    118.0   8.0    72      5    2\n",
       "2   12.0    149.0  12.6    74      5    3\n",
       "3   18.0    313.0  11.5    62      5    4\n",
       "4    NaN      NaN  14.3    56      5    5\n",
       "5   28.0      NaN  14.9    66      5    6"
      ]
     },
     "metadata": {},
     "output_type": "display_data"
    },
    {
     "name": "stdout",
     "output_type": "stream",
     "text": [
      "(153, 6)\n"
     ]
    },
    {
     "data": {
      "text/html": [
       "<div>\n",
       "<style scoped>\n",
       "    .dataframe tbody tr th:only-of-type {\n",
       "        vertical-align: middle;\n",
       "    }\n",
       "\n",
       "    .dataframe tbody tr th {\n",
       "        vertical-align: top;\n",
       "    }\n",
       "\n",
       "    .dataframe thead th {\n",
       "        text-align: right;\n",
       "    }\n",
       "</style>\n",
       "<table border=\"1\" class=\"dataframe\">\n",
       "  <thead>\n",
       "    <tr style=\"text-align: right;\">\n",
       "      <th></th>\n",
       "      <th>Ozone</th>\n",
       "      <th>Solar.R</th>\n",
       "      <th>Wind</th>\n",
       "      <th>Temp</th>\n",
       "    </tr>\n",
       "  </thead>\n",
       "  <tbody>\n",
       "    <tr>\n",
       "      <th>0</th>\n",
       "      <td>41.0</td>\n",
       "      <td>190.0</td>\n",
       "      <td>7.4</td>\n",
       "      <td>67</td>\n",
       "    </tr>\n",
       "    <tr>\n",
       "      <th>1</th>\n",
       "      <td>36.0</td>\n",
       "      <td>118.0</td>\n",
       "      <td>8.0</td>\n",
       "      <td>72</td>\n",
       "    </tr>\n",
       "    <tr>\n",
       "      <th>2</th>\n",
       "      <td>12.0</td>\n",
       "      <td>149.0</td>\n",
       "      <td>12.6</td>\n",
       "      <td>74</td>\n",
       "    </tr>\n",
       "    <tr>\n",
       "      <th>3</th>\n",
       "      <td>18.0</td>\n",
       "      <td>313.0</td>\n",
       "      <td>11.5</td>\n",
       "      <td>62</td>\n",
       "    </tr>\n",
       "    <tr>\n",
       "      <th>6</th>\n",
       "      <td>23.0</td>\n",
       "      <td>299.0</td>\n",
       "      <td>8.6</td>\n",
       "      <td>65</td>\n",
       "    </tr>\n",
       "    <tr>\n",
       "      <th>7</th>\n",
       "      <td>19.0</td>\n",
       "      <td>99.0</td>\n",
       "      <td>13.8</td>\n",
       "      <td>59</td>\n",
       "    </tr>\n",
       "  </tbody>\n",
       "</table>\n",
       "</div>"
      ],
      "text/plain": [
       "   Ozone  Solar.R  Wind  Temp\n",
       "0   41.0    190.0   7.4    67\n",
       "1   36.0    118.0   8.0    72\n",
       "2   12.0    149.0  12.6    74\n",
       "3   18.0    313.0  11.5    62\n",
       "6   23.0    299.0   8.6    65\n",
       "7   19.0     99.0  13.8    59"
      ]
     },
     "metadata": {},
     "output_type": "display_data"
    },
    {
     "name": "stdout",
     "output_type": "stream",
     "text": [
      "(111, 4)\n"
     ]
    }
   ],
   "source": [
    "import tensorflow as tf\n",
    "import pandas as pd\n",
    "import numpy as np\n",
    "import matplotlib \n",
    "import matplotlib.pyplot as plt\n",
    "\n",
    "file_path = \"./data/ozone/ozone.csv\"\n",
    "# sep를 안주면 default로 \",\"\n",
    "pd_ozone = pd.read_csv(file_path, sep=\",\")\n",
    "display(pd_ozone.head(6))\n",
    "print(pd_ozone.shape)\n",
    "# drop na\n",
    "pd_oz_tp = pd_ozone[[\"Ozone\",\"Solar.R\",\"Wind\",\"Temp\"]].copy()\n",
    "pd_oz_tp.dropna(how=\"any\", inplace=True)\n",
    "display(pd_oz_tp.head(6))\n",
    "print(pd_oz_tp.shape)\n"
   ]
  },
  {
   "cell_type": "markdown",
   "metadata": {},
   "source": [
    "##### std로"
   ]
  },
  {
   "cell_type": "code",
   "execution_count": 357,
   "metadata": {},
   "outputs": [
    {
     "name": "stdout",
     "output_type": "stream",
     "text": [
      "x_data shape : (111, 3)\n",
      "y_data shape : (111, 1)\n"
     ]
    }
   ],
   "source": [
    "def std(data):\n",
    "    a = np.sqrt(np.mean((data - np.mean(data))**2))\n",
    "    return np.array((data - np.mean(data))/a)\n",
    "def nor(data):\n",
    "    return np.array((data - np.min(data))/(np.max(data)-np.min(data)))\n",
    "\n",
    "oz_std = std(pd_oz_tp[\"Ozone\"])\n",
    "solar_std = std(pd_oz_tp[\"Solar.R\"])\n",
    "wind_std = std(pd_oz_tp[\"Wind\"])\n",
    "temp_std = std(pd_oz_tp[\"Temp\"])\n",
    "\n",
    "future_size = 3\n",
    "target_value_size = 1\n",
    "\n",
    "np_df = pd.DataFrame([solar_std,wind_std,temp_std]).values\n",
    "input_data = np.zeros((pd_oz_tp.shape[0],future_size))\n",
    "for i in range(future_size):\n",
    "    input_data[:,i] = np_df[i,:]\n",
    "print(\"x_data shape : {}\".format(input_data.shape))\n",
    "#################################\n",
    "oz_std = oz_std.reshape((pd_oz_tp.shape[0],target_value_size))\n",
    "print(\"y_data shape : {}\".format(oz_std.shape))"
   ]
  },
  {
   "cell_type": "markdown",
   "metadata": {},
   "source": [
    "##### nor로"
   ]
  },
  {
   "cell_type": "code",
   "execution_count": null,
   "metadata": {},
   "outputs": [],
   "source": [
    "\n",
    "oz_nor = nor(pd_oz_tp[\"Ozone\"])\n",
    "solar_nor = nor(pd_oz_tp[\"Solar.R\"])\n",
    "wind_nor = nor(pd_oz_tp[\"Wind\"])\n",
    "temp_nor = nor(pd_oz_tp[\"Temp\"])\n",
    "\n",
    "future_size = 3\n",
    "target_value_size = 1\n",
    "\n",
    "np_df = pd.DataFrame([solar_nor,wind_nor,temp_nor]).values\n",
    "input_data = np.zeros((pd_oz_tp.shape[0],future_size))\n",
    "for i in range(future_size):\n",
    "    input_data[:,i] = np_df[i,:]\n",
    "print(\"x_data shape : {}\".format(input_data.shape))\n",
    "#################################\n",
    "oz_nor = oz_nor.reshape((pd_oz_tp.shape[0],target_value_size))\n",
    "print(\"y_data shape : {}\".format(oz_nor.shape))"
   ]
  },
  {
   "cell_type": "code",
   "execution_count": 358,
   "metadata": {},
   "outputs": [
    {
     "name": "stdout",
     "output_type": "stream",
     "text": [
      "cost_value : 7.607851505279541, weight-value : [[-1.6751682]\n",
      " [-2.1324887]\n",
      " [-0.6515036]]\n",
      "cost_value : 4.679989337921143, weight-value : [[-1.1746548 ]\n",
      " [-1.8542956 ]\n",
      " [-0.45045236]]\n",
      "cost_value : 2.9859812259674072, weight-value : [[-0.80851096]\n",
      " [-1.6119347 ]\n",
      " [-0.30059448]]\n",
      "cost_value : 1.9883286952972412, weight-value : [[-0.53992444]\n",
      " [-1.4052196 ]\n",
      " [-0.18460666]]\n",
      "cost_value : 1.3913958072662354, weight-value : [[-0.34260607]\n",
      " [-1.2312368 ]\n",
      " [-0.09178887]]\n",
      "cost_value : 1.0287890434265137, weight-value : [[-0.19760808]\n",
      " [-1.0860087 ]\n",
      " [-0.01545038]]\n",
      "cost_value : 0.8051542639732361, weight-value : [[-0.0911653 ]\n",
      " [-0.9653715 ]\n",
      " [ 0.04866958]]\n",
      "cost_value : 0.6650468707084656, weight-value : [[-0.01320987]\n",
      " [-0.86541444]\n",
      " [ 0.10335533]]\n",
      "cost_value : 0.5758185386657715, weight-value : [[ 0.04366403]\n",
      " [-0.7826623 ]\n",
      " [ 0.1504892 ]]\n",
      "cost_value : 0.5180196762084961, weight-value : [[ 0.0849283 ]\n",
      " [-0.7141297 ]\n",
      " [ 0.19139685]]\n"
     ]
    }
   ],
   "source": [
    "\n",
    "X = tf.placeholder(shape= [None, 3], dtype=tf.float32)\n",
    "Y = tf.placeholder(shape= [None, 1], dtype=tf.float32)\n",
    "\n",
    "W = tf.Variable(tf.random_normal(shape = [3,1]), dtype=tf.float32)\n",
    "b = tf.Variable(tf.random_normal(shape = [1,]), dtype=tf.float32)\n",
    "\n",
    "H = tf.matmul(X,W) + b\n",
    "cost = tf.reduce_mean(tf.square(H-Y))\n",
    "\n",
    "train = tf.train.GradientDescentOptimizer(learning_rate=0.0005).minimize(cost)\n",
    "\n",
    "sess = tf.Session()\n",
    "sess.run(tf.global_variables_initializer())\n",
    "\n",
    "for step in range(3000):\n",
    "    _, cost_value, weight_value = sess.run([train, cost, W], feed_dict = {X:input_data, Y:oz_std})\n",
    "    if step % 300 == 0 :\n",
    "        print(\"cost_value : {}, weight-value : {}\".format(cost_value, weight_value))"
   ]
  },
  {
   "cell_type": "markdown",
   "metadata": {},
   "source": [
    "sklearn MinMaxScaler().fit_transform\n",
    "- pip install sklearn"
   ]
  },
  {
   "cell_type": "markdown",
   "metadata": {},
   "source": [
    "### Logostic regression\n",
    "- Binary Classification\n",
    "    - y축 label이 두가지 중의 하나"
   ]
  },
  {
   "cell_type": "markdown",
   "metadata": {},
   "source": [
    "#### 시험공부 시간을 기준으로 한 Pass, Fail을 Linear Regression으로"
   ]
  },
  {
   "cell_type": "code",
   "execution_count": 16,
   "metadata": {},
   "outputs": [
    {
     "name": "stdout",
     "output_type": "stream",
     "text": [
      "cost_value : 62.323211669921875, weight_value : [-0.75652933], bias_value : [0.62476563]\n",
      "cost_value : 0.05895094946026802, weight_value : [0.09888796], bias_value : [-0.04728695]\n",
      "cost_value : 0.04431914538145065, weight_value : [0.12241363], bias_value : [-0.22147778]\n",
      "cost_value : 0.04357706755399704, weight_value : [0.12771171], bias_value : [-0.26070634]\n",
      "cost_value : 0.04353942349553108, weight_value : [0.1289049], bias_value : [-0.26954097]\n",
      "cost_value : 0.04353751987218857, weight_value : [0.12917359], bias_value : [-0.27153042]\n"
     ]
    },
    {
     "data": {
      "image/png": "[encoded data removed]",
      "text/plain": [
       "<Figure size 432x288 with 1 Axes>"
      ]
     },
     "metadata": {
      "needs_background": "light"
     },
     "output_type": "display_data"
    },
    {
     "name": "stdout",
     "output_type": "stream",
     "text": [
      "중간이 되는 x좌표 [5.9734883]\n"
     ]
    }
   ],
   "source": [
    "import matplotlib\n",
    "import matplotlib.pyplot as plt\n",
    "\n",
    "x_data = [10,8,5,2,1]\n",
    "y_data = [1,1,0,0,0]\n",
    "\n",
    "X = tf.placeholder(dtype=tf.float32)\n",
    "Y = tf.placeholder(dtype=tf.float32)\n",
    "\n",
    "W = tf.Variable(tf.random_normal([1,]), np.float32)\n",
    "b = tf.Variable(tf.random_normal([1,]), np.float32)\n",
    "\n",
    "H = X*W+b\n",
    "# Cost(Loss)function - 최소 제곱법\n",
    "# Cost 함수의 값이 최소가 되는 W,b를 찾는게 목적\n",
    "cost = tf.reduce_mean(tf.square(Y-H))\n",
    "# 기존 cost값에서 한단계 줄임\n",
    "train = tf.train.GradientDescentOptimizer(learning_rate=0.005).minimize(cost)\n",
    "\n",
    "# session & 초기화\n",
    "sess = tf.Session()\n",
    "sess.run(tf.global_variables_initializer())\n",
    "\n",
    "for step in range(3000):\n",
    "    _, cost_value, weight_value, bias_value = sess.run([train,cost,W,b], feed_dict = {X:x_data, Y:y_data})\n",
    "    if step % 500 == 0 :\n",
    "        print(\"cost_value : {}, weight_value : {}, bias_value : {}\".format(cost_value, weight_value, bias_value))\n",
    "\n",
    "\n",
    "plt.plot(x_data, sess.run(W)*x_data+sess.run(b),\"r\")\n",
    "plt.scatter(x_data,y_data)\n",
    "plt.show()\n",
    "print(\"중간이 되는 x좌표 {}\".format((0.5-sess.run(b))/sess.run(W)))"
   ]
  },
  {
   "cell_type": "markdown",
   "metadata": {},
   "source": [
    "#### Linear Regression으로 해결 되는 것 같지만 엄한 데이터가 하나 끼어들게 되면 그 점에 대해 Linear를 표현하기 때문에 이상한 그래프가 나오게 됨, 학습이 제대로 되긴하지만 결과가 이상\n",
    "- 즉 분류문제는 Linear Regression으로 해결할 수 없음"
   ]
  },
  {
   "cell_type": "markdown",
   "metadata": {},
   "source": [
    "## Sigmoid function 응용\n",
    "- H의 값이 0과 1사이의 값으로 바인딩 되어야 함\n",
    "![image](https://user-images.githubusercontent.com/28910538/53705087-4e6e9600-3e65-11e9-8e08-eea8f9bf7169.png)\n"
   ]
  },
  {
   "cell_type": "markdown",
   "metadata": {},
   "source": [
    "### Linear Regression의 가설인 XW + b를 시그모이드 에 넣어주면 Logistic Regression\n",
    "- Linear Regression의 가설에 기반한 cost function을 사용하면 cost(W,b)의 모양이 Convex가 아님, 즉 Gradient descent알고리즘으로 global minima 못찾고 local minima 찾음\n",
    "- 그 이유는 시그모이드가 지수함수기 때문에 구불구불해짐\n",
    "\n",
    "### 결론적으로 Hypothesis가 바뀌면 cost함수도 바뀌어야함 \n",
    "- log함수를 이용해서 costfunction을 바꿔줌\n",
    "![image](https://user-images.githubusercontent.com/28910538/53705221-259ad080-3e66-11e9-82c6-d7ed45a571d3.png)\n"
   ]
  },
  {
   "cell_type": "code",
   "execution_count": 34,
   "metadata": {},
   "outputs": [
    {
     "data": {
      "image/png": "[encoded data removed]",
      "text/plain": [
       "<Figure size 432x288 with 1 Axes>"
      ]
     },
     "metadata": {},
     "output_type": "display_data"
    }
   ],
   "source": [
    "%matplotlib inline\n",
    "import numpy as np\n",
    "import matplotlib\n",
    "import matplotlib.pyplot as plt\n",
    "import mglearn # Sample Data를 가져오기 위한 utility module\n",
    "# pip install mglearn\n",
    "from sklearn.linear_model import LogisticRegression\n",
    "# warning을 무시하는 필터 적용\n",
    "import warnings\n",
    "\n",
    "warnings.filterwarnings(action=\"ignore\")\n",
    "\n",
    "# random하게 데이터를 만들어 줌\n",
    "# x : x parameter( 2개)\n",
    "# y : label (0 or 1)\n",
    "x,y = mglearn.datasets.make_forge()\n",
    "model = LogisticRegression()\n",
    "clf = model.fit(x,y)\n",
    "\n",
    "# 0이면 동그리마, 1이면 세모\n",
    "mglearn.discrete_scatter(x[:,0], x[:,1],  y)\n",
    "# 분류하는 초평면을 그음(하나의 직선) 초평면은 구분지으려는 차원이 n일때 n-1차원의 선\n",
    "# 로지스틱의 목적은 초평면을 찾는 것, 두개의 데이터를 어떻게 잘 분류하는지 \n",
    "mglearn.plots.plot_2d_separator(clf, x, fill=False, eps = 0.5)"
   ]
  },
  {
   "cell_type": "markdown",
   "metadata": {},
   "source": [
    "### Tesorflow를 이용한 Logistic Regression"
   ]
  },
  {
   "cell_type": "code",
   "execution_count": 98,
   "metadata": {},
   "outputs": [
    {
     "name": "stdout",
     "output_type": "stream",
     "text": [
      "x_data shape : (7, 2), y_data shape : (7, 1)\n",
      "cost : 0.64541095495224, W : [[0.0131311 ]\n",
      " [0.33732712]], b : [0.6457558]\n",
      "cost : 0.5702019333839417, W : [[0.06114362]\n",
      " [0.47376835]], b : [0.23742045]\n",
      "cost : 0.5107024312019348, W : [[0.10337517]\n",
      " [0.5846275 ]], b : [-0.1292463]\n",
      "cost : 0.46378061175346375, W : [[0.1418172]\n",
      " [0.6789118]], b : [-0.45598474]\n",
      "cost : 0.42662641406059265, W : [[0.17638701]\n",
      " [0.7610333 ]], b : [-0.7472113]\n",
      "cost : 0.3969159722328186, W : [[0.20739463]\n",
      " [0.8336691 ]], b : [-1.0078671]\n",
      "정확도 : 0.8571428656578064\n",
      "예측값 : [[1.]]\n"
     ]
    }
   ],
   "source": [
    "x_data = np.transpose(np.array([[10,8,3,2,5,2,1],[0,1,3,3,1,0,0]]))\n",
    "y_data = np.array([1,1,1,1,0,0,0]).reshape((7,1))\n",
    "\n",
    "print(\"x_data shape : {}, y_data shape : {}\".format(x_data.shape, y_data.shape))\n",
    "\n",
    "X = tf.placeholder(shape = [None, 2], dtype= tf.float32)\n",
    "Y = tf.placeholder(shape = [None, 1], dtype= tf.float32)\n",
    "\n",
    "W = tf.Variable(tf.random_normal([2,1]), dtype=tf.float32)\n",
    "b = tf.Variable(tf.random_normal([1,]), dtype=tf.float32)\n",
    "\n",
    "logit = tf.matmul(X,W) + b\n",
    "H = tf.sigmoid(logit)\n",
    "\n",
    "#cost = -tf.reduce_mean(Y*tf.log(H) - (1-Y)*tf.log(1-H))\n",
    "# logits에 시그모이드에 들어가기전 logit들어가고 labels에 Y축 데이터가 들어가야함\n",
    "cost = tf.reduce_mean(tf.nn.sigmoid_cross_entropy_with_logits(logits=logit, labels=Y))\n",
    "\n",
    "train = tf.train.GradientDescentOptimizer(learning_rate=0.005).minimize(cost)\n",
    "\n",
    "sess = tf.Session()\n",
    "sess.run(tf.global_variables_initializer())\n",
    "\n",
    "for step in range(3000):\n",
    "    _, cost_value, weight_value, bias_value = sess.run([train, cost, W, b], feed_dict = {X:x_data, Y:y_data})\n",
    "    if step % 500 == 0:\n",
    "        print(\"cost : {}, W : {}, b : {}\".format(cost_value,weight_value,bias_value))\n",
    "    # 모델이 얼마나 정확한지를 측정\n",
    "    # accuracy\n",
    "    # Hypothesis는 0과1사이의 값으로 떨어지게 됨 => 그 숫자를 가지고 1이랑 가까우면 1, 0이랑가까우면 0\n",
    "# 논리값을 실수로 변환 \n",
    "predict = tf.cast(H > 0.5, dtype=tf.float32)\n",
    "# 실 데이터와 예측 비교해서 \n",
    "correct = tf.equal(predict, Y)\n",
    "accuracy = tf.reduce_mean(tf.cast(correct, dtype=tf.float32))\n",
    "\n",
    "print(\"정확도 : {}\".format(sess.run(accuracy, feed_dict={X:x_data, Y:y_data})))\n",
    "\n",
    "#predcition\n",
    "print(\"예측값 : {}\".format(sess.run(predict, feed_dict = {X:[[3,1]]})))"
   ]
  },
  {
   "cell_type": "markdown",
   "metadata": {},
   "source": [
    "### [Cross Entropy](https://icim.nims.re.kr/post/easyMath/550)"
   ]
  },
  {
   "cell_type": "code",
   "execution_count": null,
   "metadata": {},
   "outputs": [],
   "source": []
  },
  {
   "cell_type": "code",
   "execution_count": 103,
   "metadata": {},
   "outputs": [
    {
     "name": "stdout",
     "output_type": "stream",
     "text": [
      "0.7310585786300049\n"
     ]
    }
   ],
   "source": [
    "x_data = np.transpose(np.array([[10,8,3,2,5,2,1],[0,1,3,3,1,0,0]]))\n",
    "y_data = np.array([1,1,1,1,0,0,0]).reshape((7,1))\n",
    "\n",
    "X = tf.placeholder(shape = [None, 2], dtype = tf.float32)\n",
    "Y = tf.placeholder(shape = [None, 1], dtype = tf.float32)\n",
    "\n",
    "W = tf.Variable(tf.random_normal([2,1]), dtype = tf.float32)\n",
    "b = tf.Variable(tf.random_normal([1,]), dtype = tf.float32)\n",
    "\n",
    "\n",
    "\n",
    "#Hypothesis -> sigmoid function\n",
    "def sigmoid(data):\n",
    "    return 1/(1+np.exp(-data))\n"
   ]
  },
  {
   "cell_type": "code",
   "execution_count": 99,
   "metadata": {},
   "outputs": [
    {
     "data": {
      "text/plain": [
       "2.718281828459045"
      ]
     },
     "execution_count": 99,
     "metadata": {},
     "output_type": "execute_result"
    }
   ],
   "source": [
    "np.exp(1)"
   ]
  },
  {
   "cell_type": "markdown",
   "metadata": {},
   "source": [
    "## 1. Titanic"
   ]
  },
  {
   "cell_type": "code",
   "execution_count": 130,
   "metadata": {},
   "outputs": [
    {
     "name": "stdout",
     "output_type": "stream",
     "text": [
      "(891, 5)\n",
      "(891, 5)\n"
     ]
    },
    {
     "data": {
      "text/html": [
       "<div>\n",
       "<style scoped>\n",
       "    .dataframe tbody tr th:only-of-type {\n",
       "        vertical-align: middle;\n",
       "    }\n",
       "\n",
       "    .dataframe tbody tr th {\n",
       "        vertical-align: top;\n",
       "    }\n",
       "\n",
       "    .dataframe thead th {\n",
       "        text-align: right;\n",
       "    }\n",
       "</style>\n",
       "<table border=\"1\" class=\"dataframe\">\n",
       "  <thead>\n",
       "    <tr style=\"text-align: right;\">\n",
       "      <th></th>\n",
       "      <th>Pclass_1</th>\n",
       "      <th>Pclass_2</th>\n",
       "      <th>Pclass_3</th>\n",
       "    </tr>\n",
       "  </thead>\n",
       "  <tbody>\n",
       "    <tr>\n",
       "      <th>0</th>\n",
       "      <td>0</td>\n",
       "      <td>0</td>\n",
       "      <td>1</td>\n",
       "    </tr>\n",
       "    <tr>\n",
       "      <th>1</th>\n",
       "      <td>1</td>\n",
       "      <td>0</td>\n",
       "      <td>0</td>\n",
       "    </tr>\n",
       "    <tr>\n",
       "      <th>2</th>\n",
       "      <td>0</td>\n",
       "      <td>0</td>\n",
       "      <td>1</td>\n",
       "    </tr>\n",
       "    <tr>\n",
       "      <th>3</th>\n",
       "      <td>1</td>\n",
       "      <td>0</td>\n",
       "      <td>0</td>\n",
       "    </tr>\n",
       "    <tr>\n",
       "      <th>4</th>\n",
       "      <td>0</td>\n",
       "      <td>0</td>\n",
       "      <td>1</td>\n",
       "    </tr>\n",
       "  </tbody>\n",
       "</table>\n",
       "</div>"
      ],
      "text/plain": [
       "   Pclass_1  Pclass_2  Pclass_3\n",
       "0         0         0         1\n",
       "1         1         0         0\n",
       "2         0         0         1\n",
       "3         1         0         0\n",
       "4         0         0         1"
      ]
     },
     "metadata": {},
     "output_type": "display_data"
    },
    {
     "data": {
      "text/html": [
       "<div>\n",
       "<style scoped>\n",
       "    .dataframe tbody tr th:only-of-type {\n",
       "        vertical-align: middle;\n",
       "    }\n",
       "\n",
       "    .dataframe tbody tr th {\n",
       "        vertical-align: top;\n",
       "    }\n",
       "\n",
       "    .dataframe thead th {\n",
       "        text-align: right;\n",
       "    }\n",
       "</style>\n",
       "<table border=\"1\" class=\"dataframe\">\n",
       "  <thead>\n",
       "    <tr style=\"text-align: right;\">\n",
       "      <th></th>\n",
       "      <th>Sex</th>\n",
       "      <th>Age</th>\n",
       "      <th>Pclass</th>\n",
       "      <th>Fare</th>\n",
       "      <th>Pclass_1</th>\n",
       "      <th>Pclass_2</th>\n",
       "      <th>Pclass_3</th>\n",
       "    </tr>\n",
       "  </thead>\n",
       "  <tbody>\n",
       "    <tr>\n",
       "      <th>0</th>\n",
       "      <td>male</td>\n",
       "      <td>22.0</td>\n",
       "      <td>3</td>\n",
       "      <td>7.2500</td>\n",
       "      <td>0</td>\n",
       "      <td>0</td>\n",
       "      <td>1</td>\n",
       "    </tr>\n",
       "    <tr>\n",
       "      <th>1</th>\n",
       "      <td>female</td>\n",
       "      <td>38.0</td>\n",
       "      <td>1</td>\n",
       "      <td>71.2833</td>\n",
       "      <td>1</td>\n",
       "      <td>0</td>\n",
       "      <td>0</td>\n",
       "    </tr>\n",
       "    <tr>\n",
       "      <th>2</th>\n",
       "      <td>female</td>\n",
       "      <td>26.0</td>\n",
       "      <td>3</td>\n",
       "      <td>7.9250</td>\n",
       "      <td>0</td>\n",
       "      <td>0</td>\n",
       "      <td>1</td>\n",
       "    </tr>\n",
       "    <tr>\n",
       "      <th>3</th>\n",
       "      <td>female</td>\n",
       "      <td>35.0</td>\n",
       "      <td>1</td>\n",
       "      <td>53.1000</td>\n",
       "      <td>1</td>\n",
       "      <td>0</td>\n",
       "      <td>0</td>\n",
       "    </tr>\n",
       "    <tr>\n",
       "      <th>4</th>\n",
       "      <td>male</td>\n",
       "      <td>35.0</td>\n",
       "      <td>3</td>\n",
       "      <td>8.0500</td>\n",
       "      <td>0</td>\n",
       "      <td>0</td>\n",
       "      <td>1</td>\n",
       "    </tr>\n",
       "  </tbody>\n",
       "</table>\n",
       "</div>"
      ],
      "text/plain": [
       "      Sex   Age  Pclass     Fare  Pclass_1  Pclass_2  Pclass_3\n",
       "0    male  22.0       3   7.2500         0         0         1\n",
       "1  female  38.0       1  71.2833         1         0         0\n",
       "2  female  26.0       3   7.9250         0         0         1\n",
       "3  female  35.0       1  53.1000         1         0         0\n",
       "4    male  35.0       3   8.0500         0         0         1"
      ]
     },
     "metadata": {},
     "output_type": "display_data"
    },
    {
     "data": {
      "text/html": [
       "<div>\n",
       "<style scoped>\n",
       "    .dataframe tbody tr th:only-of-type {\n",
       "        vertical-align: middle;\n",
       "    }\n",
       "\n",
       "    .dataframe tbody tr th {\n",
       "        vertical-align: top;\n",
       "    }\n",
       "\n",
       "    .dataframe thead th {\n",
       "        text-align: right;\n",
       "    }\n",
       "</style>\n",
       "<table border=\"1\" class=\"dataframe\">\n",
       "  <thead>\n",
       "    <tr style=\"text-align: right;\">\n",
       "      <th></th>\n",
       "      <th>Sex</th>\n",
       "      <th>Age</th>\n",
       "      <th>Fare</th>\n",
       "      <th>Pclass_1</th>\n",
       "      <th>Pclass_2</th>\n",
       "      <th>Pclass_3</th>\n",
       "    </tr>\n",
       "  </thead>\n",
       "  <tbody>\n",
       "    <tr>\n",
       "      <th>0</th>\n",
       "      <td>male</td>\n",
       "      <td>22.0</td>\n",
       "      <td>7.2500</td>\n",
       "      <td>0</td>\n",
       "      <td>0</td>\n",
       "      <td>1</td>\n",
       "    </tr>\n",
       "    <tr>\n",
       "      <th>1</th>\n",
       "      <td>female</td>\n",
       "      <td>38.0</td>\n",
       "      <td>71.2833</td>\n",
       "      <td>1</td>\n",
       "      <td>0</td>\n",
       "      <td>0</td>\n",
       "    </tr>\n",
       "    <tr>\n",
       "      <th>2</th>\n",
       "      <td>female</td>\n",
       "      <td>26.0</td>\n",
       "      <td>7.9250</td>\n",
       "      <td>0</td>\n",
       "      <td>0</td>\n",
       "      <td>1</td>\n",
       "    </tr>\n",
       "    <tr>\n",
       "      <th>3</th>\n",
       "      <td>female</td>\n",
       "      <td>35.0</td>\n",
       "      <td>53.1000</td>\n",
       "      <td>1</td>\n",
       "      <td>0</td>\n",
       "      <td>0</td>\n",
       "    </tr>\n",
       "    <tr>\n",
       "      <th>4</th>\n",
       "      <td>male</td>\n",
       "      <td>35.0</td>\n",
       "      <td>8.0500</td>\n",
       "      <td>0</td>\n",
       "      <td>0</td>\n",
       "      <td>1</td>\n",
       "    </tr>\n",
       "  </tbody>\n",
       "</table>\n",
       "</div>"
      ],
      "text/plain": [
       "      Sex   Age     Fare  Pclass_1  Pclass_2  Pclass_3\n",
       "0    male  22.0   7.2500         0         0         1\n",
       "1  female  38.0  71.2833         1         0         0\n",
       "2  female  26.0   7.9250         0         0         1\n",
       "3  female  35.0  53.1000         1         0         0\n",
       "4    male  35.0   8.0500         0         0         1"
      ]
     },
     "metadata": {},
     "output_type": "display_data"
    },
    {
     "data": {
      "text/html": [
       "<div>\n",
       "<style scoped>\n",
       "    .dataframe tbody tr th:only-of-type {\n",
       "        vertical-align: middle;\n",
       "    }\n",
       "\n",
       "    .dataframe tbody tr th {\n",
       "        vertical-align: top;\n",
       "    }\n",
       "\n",
       "    .dataframe thead th {\n",
       "        text-align: right;\n",
       "    }\n",
       "</style>\n",
       "<table border=\"1\" class=\"dataframe\">\n",
       "  <thead>\n",
       "    <tr style=\"text-align: right;\">\n",
       "      <th></th>\n",
       "      <th>Age</th>\n",
       "      <th>Fare</th>\n",
       "      <th>Pclass_1</th>\n",
       "      <th>Pclass_2</th>\n",
       "      <th>Pclass_3</th>\n",
       "      <th>Sex_female</th>\n",
       "      <th>Sex_male</th>\n",
       "    </tr>\n",
       "  </thead>\n",
       "  <tbody>\n",
       "    <tr>\n",
       "      <th>0</th>\n",
       "      <td>22.0</td>\n",
       "      <td>7.2500</td>\n",
       "      <td>0</td>\n",
       "      <td>0</td>\n",
       "      <td>1</td>\n",
       "      <td>0</td>\n",
       "      <td>1</td>\n",
       "    </tr>\n",
       "    <tr>\n",
       "      <th>1</th>\n",
       "      <td>38.0</td>\n",
       "      <td>71.2833</td>\n",
       "      <td>1</td>\n",
       "      <td>0</td>\n",
       "      <td>0</td>\n",
       "      <td>1</td>\n",
       "      <td>0</td>\n",
       "    </tr>\n",
       "    <tr>\n",
       "      <th>2</th>\n",
       "      <td>26.0</td>\n",
       "      <td>7.9250</td>\n",
       "      <td>0</td>\n",
       "      <td>0</td>\n",
       "      <td>1</td>\n",
       "      <td>1</td>\n",
       "      <td>0</td>\n",
       "    </tr>\n",
       "    <tr>\n",
       "      <th>3</th>\n",
       "      <td>35.0</td>\n",
       "      <td>53.1000</td>\n",
       "      <td>1</td>\n",
       "      <td>0</td>\n",
       "      <td>0</td>\n",
       "      <td>1</td>\n",
       "      <td>0</td>\n",
       "    </tr>\n",
       "    <tr>\n",
       "      <th>4</th>\n",
       "      <td>35.0</td>\n",
       "      <td>8.0500</td>\n",
       "      <td>0</td>\n",
       "      <td>0</td>\n",
       "      <td>1</td>\n",
       "      <td>0</td>\n",
       "      <td>1</td>\n",
       "    </tr>\n",
       "  </tbody>\n",
       "</table>\n",
       "</div>"
      ],
      "text/plain": [
       "    Age     Fare  Pclass_1  Pclass_2  Pclass_3  Sex_female  Sex_male\n",
       "0  22.0   7.2500         0         0         1           0         1\n",
       "1  38.0  71.2833         1         0         0           1         0\n",
       "2  26.0   7.9250         0         0         1           1         0\n",
       "3  35.0  53.1000         1         0         0           1         0\n",
       "4  35.0   8.0500         0         0         1           0         1"
      ]
     },
     "metadata": {},
     "output_type": "display_data"
    }
   ],
   "source": [
    "### titanic\n",
    "import pandas as pd\n",
    "import tensorflow as tf\n",
    "import numpy as np\n",
    "\n",
    "file_path = \"./data/titanic/titanic_data.csv\"\n",
    "titanic_csv = pd.read_csv(file_path, sep =\",\")\n",
    "titanic_csv.head()\n",
    "# Survived - 생존여부(1이 생존) Pclass - 객실등급(1-3) 1등급이 좋음 Fare - 요금\n",
    "\n",
    "titanic_csv = titanic_csv[[\"Pclass\", \"Sex\", \"Age\",\"Fare\",\"Survived\"]]\n",
    "print(titanic_csv.shape)\n",
    "titanic_csv = titanic_csv.dropna(how=\"any\")\n",
    "print(titanic_csv.shape)\n",
    "data_x = titanic_csv[[\"Sex\", \"Age\", \"Pclass\", \"Fare\"]]\n",
    "data_y = titanic_csv[\"Survived\"]\n",
    "data_x.head()\n",
    "# 문자열타입을 숫자로 바꾸고, Pclass를 3개로 쪼개줌\n",
    "# PClass를 3개로 쪼개주는 작업\n",
    "# 안에 있는 값으로 분할을 해줌 prefix의 이름으로\n",
    "# 하나의 컬럼을 안에있는 값을 분할해서 더미를 만들어 줌 \n",
    "Pclass_dummies = pd.get_dummies(data_x[\"Pclass\"], prefix=\"Pclass\")\n",
    "display(Pclass_dummies.head())\n",
    "# 붙여줌\n",
    "data_x = data_x.join(Pclass_dummies)\n",
    "display(data_x.head())\n",
    "data_x.drop(\"Pclass\", axis = 1, inplace = True)\n",
    "display(data_x.head())\n",
    "# male과 female 분리\n",
    "Sex_dummies = pd.get_dummies(data_x[\"Sex\"], prefix=\"Sex\")\n",
    "data_x = data_x.join(Sex_dummies)\n",
    "data_x.drop(\"Sex\",axis=1, inplace = True)\n",
    "display(data_x.head())\n",
    "# 범위 단위로 묶는 것이 좀 더 정확한 학습이 이뤄질 수 있음(나이를 10대 20대~로)"
   ]
  },
  {
   "cell_type": "code",
   "execution_count": 146,
   "metadata": {},
   "outputs": [
    {
     "name": "stdout",
     "output_type": "stream",
     "text": [
      "cost : 1.0868809223175049, W : [[ 1.5924071 ]\n",
      " [ 0.6015989 ]\n",
      " [-1.1613861 ]\n",
      " [ 0.04605121]\n",
      " [ 1.3449289 ]\n",
      " [-1.1103749 ]\n",
      " [-1.4564322 ]], b : [0.9647376]\n",
      "cost : 0.468779057264328, W : [[ 0.50628126]\n",
      " [ 0.9208515 ]\n",
      " [ 0.84220105]\n",
      " [ 0.20707281]\n",
      " [-0.8087892 ]\n",
      " [ 0.03467776]\n",
      " [-2.5905895 ]], b : [0.9756294]\n",
      "cost : 0.46066197752952576, W : [[-0.34715882]\n",
      " [ 0.9454647 ]\n",
      " [ 0.99402976]\n",
      " [ 0.24315305]\n",
      " [-0.8150368 ]\n",
      " [ 0.11459317]\n",
      " [-2.4888573 ]], b : [1.1572934]\n",
      "cost : 0.45652952790260315, W : [[-0.958086  ]\n",
      " [ 0.94526035]\n",
      " [ 1.0931245 ]\n",
      " [ 0.27495542]\n",
      " [-0.8164133 ]\n",
      " [ 0.17193542]\n",
      " [-2.4166799 ]], b : [1.2868181]\n",
      "cost : 0.4543876647949219, W : [[-1.3972468 ]\n",
      " [ 0.9306798 ]\n",
      " [ 1.1672212 ]\n",
      " [ 0.2973455 ]\n",
      " [-0.8191814 ]\n",
      " [ 0.21650952]\n",
      " [-2.3675356 ]], b : [1.3805432]\n",
      "정확도 : 0.7878788113594055\n"
     ]
    }
   ],
   "source": [
    "from sklearn.preprocessing import MinMaxScaler\n",
    "\n",
    "# training data set \n",
    "# min-max scale을 통해 정규화\n",
    "x_data = MinMaxScaler().fit_transform(data_x.values)\n",
    "# 몇갠지 알 수 없을때는 -1을 넣어 줌\n",
    "y_data = data_y.values.reshape(-1,1)\n",
    "\n",
    "X = tf.placeholder(shape = [None, 7], dtype=tf.float32)\n",
    "Y = tf.placeholder(shape = [None, 1], dtype=tf.float32)\n",
    "\n",
    "W = tf.Variable(tf.random_normal([7,1]), dtype=tf.float32)\n",
    "b = tf.Variable(tf.random_normal([1,]), dtype=tf.float32)\n",
    "\n",
    "logit = tf.matmul(X,W) + b\n",
    "H = tf.sigmoid(logit)\n",
    "\n",
    "cost = tf.reduce_mean(tf.nn.sigmoid_cross_entropy_with_logits(logits=logit, labels=Y))\n",
    "\n",
    "train = tf.train.GradientDescentOptimizer(learning_rate=0.05).minimize(cost)\n",
    "\n",
    "sess = tf.Session()\n",
    "sess.run(tf.global_variables_initializer())\n",
    "\n",
    "for step in range(10000):\n",
    "    _, cost_value, weight_value, bias_value = sess.run([train, cost, W, b], feed_dict = {X:x_data, Y:y_data})\n",
    "    if step % 2000 == 0:\n",
    "        print(\"cost : {}, W : {}, b : {}\".format(cost_value, weight_value, bias_value))\n",
    "\n",
    "predict = tf.cast(H > 0.5, dtype=tf.float32)\n",
    "# 실 데이터와 예측 비교해서 \n",
    "correct = tf.equal(predict, Y)\n",
    "accuracy = tf.reduce_mean(tf.cast(correct, dtype=tf.float32))\n",
    "\n",
    "print(\"정확도 : {}\".format(sess.run(accuracy, feed_dict={X:x_data, Y:y_data})))\n"
   ]
  },
  {
   "cell_type": "markdown",
   "metadata": {},
   "source": [
    "## 2. Admission\n",
    "- 70프로를 training용으로 사용\n",
    "- 나머지 30프로를 test용으로 사용"
   ]
  },
  {
   "cell_type": "code",
   "execution_count": 199,
   "metadata": {},
   "outputs": [
    {
     "name": "stdout",
     "output_type": "stream",
     "text": [
      "training set shape x,y: (280, 6),(280, 1) test set shape x,y : (120, 6),(120, 1)\n",
      "cost : 0.6269745826721191, weight : [[-0.45814824]\n",
      " [ 0.68744576]\n",
      " [ 0.571154  ]\n",
      " [-0.5333933 ]\n",
      " [ 0.23823152]\n",
      " [-0.7123617 ]], bias = [-0.96285427]\n",
      "cost : 0.5563417077064514, weight : [[ 0.5954013 ]\n",
      " [ 1.1184121 ]\n",
      " [ 0.79085445]\n",
      " [ 0.00561967]\n",
      " [-0.83178824]\n",
      " [-1.0497302 ]], bias = [-1.6115267]\n",
      "cost : 0.5507782697677612, weight : [[ 1.1430627 ]\n",
      " [ 1.3101953 ]\n",
      " [ 0.6804746 ]\n",
      " [-0.07815063]\n",
      " [-0.9426115 ]\n",
      " [-1.1491104 ]], bias = [-2.0158792]\n",
      "cost : 0.5489241480827332, weight : [[ 1.4687641 ]\n",
      " [ 1.4028236 ]\n",
      " [ 0.61524916]\n",
      " [-0.12593421]\n",
      " [-1.0063133 ]\n",
      " [-1.2024832 ]], bias = [-2.245964]\n",
      "cost : 0.5482715368270874, weight : [[ 1.6668828 ]\n",
      " [ 1.4478099 ]\n",
      " [ 0.5787051 ]\n",
      " [-0.15390223]\n",
      " [-1.0439361 ]\n",
      " [-1.2345194 ]], bias = [-2.3801353]\n",
      "accuracy : 0.6833333373069763\n"
     ]
    }
   ],
   "source": [
    "import pandas as pd\n",
    "import numpy as np\n",
    "import tensorflow as tf\n",
    "from sklearn.preprocessing import MinMaxScaler\n",
    "\n",
    "file_path = \"./data/admission/admission.csv\"\n",
    "admission_csv = pd.read_csv(file_path, sep=\",\")\n",
    "admission_csv.head()\n",
    "# drop na\n",
    "admission_csv = admission_csv[[\"gre\",\"gpa\",\"rank\",\"admit\"]]\n",
    "admission_csv = admission_csv.dropna(how=\"any\")\n",
    "\n",
    "# x y 나누고 랭크를 의미있는 값으로 만들기 위해 더미로 분할하고 열에 추가\n",
    "data_x = admission_csv[[\"gre\",\"gpa\",\"rank\"]]\n",
    "data_y = admission_csv[\"admit\"]\n",
    "rank_dummie = pd.get_dummies(data_x[\"rank\"], prefix=\"rank\")\n",
    "data_x = data_x.join(rank_dummie)\n",
    "data_x.drop(\"rank\", axis=1, inplace = True)\n",
    "\n",
    "# min_max 정규화\n",
    "x_data = MinMaxScaler().fit_transform(data_x.values)\n",
    "y_data = data_y.values.reshape(-1,1)\n",
    "\n",
    "train_x_data = x_data[:int((x_data.shape[0])*0.7),]\n",
    "train_y_data = y_data[:int((x_data.shape[0])*0.7),]\n",
    "test_x_data = x_data[int((x_data.shape[0])*0.7):,]\n",
    "test_y_data = y_data[int((x_data.shape[0])*0.7):,]\n",
    "print(\"training set shape x,y: {},{} test set shape x,y : {},{}\"\n",
    "      .format(train_x_data.shape, train_y_data.shape, test_x_data.shape, test_y_data.shape))\n",
    "\n",
    "X = tf.placeholder(shape = [None, 6], dtype = tf.float32)\n",
    "Y = tf.placeholder(shape = [None, 1], dtype = tf.float32)\n",
    "\n",
    "W = tf.Variable(tf.random_normal([6,1]), dtype = tf.float32)\n",
    "b = tf.Variable(tf.random_normal([1,]), dtype = tf.float32)\n",
    "\n",
    "logit = tf.matmul(X,W) + b\n",
    "H = tf.sigmoid(logit)\n",
    "\n",
    "cost = tf.reduce_mean(tf.nn.sigmoid_cross_entropy_with_logits(logits= logit, labels=Y))\n",
    "train = tf.train.GradientDescentOptimizer(learning_rate=0.05).minimize(cost)\n",
    "\n",
    "sess = tf.Session()\n",
    "sess.run(tf.global_variables_initializer())\n",
    "\n",
    "for step in range(10000):\n",
    "    _, cost_value, weight_value, bias_value = sess.run([train, cost, W, b], feed_dict = {X:train_x_data, Y:train_y_data})\n",
    "    if step % 2000 == 0:\n",
    "        print(\"cost : {}, weight : {}, bias = {}\".format(cost_value, weight_value, bias_value))\n",
    "\n",
    "predict = tf.cast(H > 0.5, dtype = tf.float32)\n",
    "correct = tf.equal(predict, Y)\n",
    "accuracy = tf.reduce_mean(tf.cast(correct, dtype=tf.float32))\n",
    "print(\"accuracy : {}\".format(sess.run(accuracy, feed_dict = {X:test_x_data, Y:test_y_data})))\n",
    "\n"
   ]
  },
  {
   "cell_type": "markdown",
   "metadata": {},
   "source": [
    "#### conda install statsmodels\n",
    "- 통해서 통계적으로 해결 가능"
   ]
  },
  {
   "cell_type": "markdown",
   "metadata": {},
   "source": [
    "### ML 정리\n",
    "- 학습의 순서\n",
    "    - 1. 데이터를 load하고\n",
    "    - 2. 필요한 데이터만을 추출\n",
    "    - 3. 필요한 파라미터만 추출\n",
    "    - 3.1 범주 데이터를 정제, 의미있는 데이터로 변환(pd.dummies)\n",
    "    - 4. 값의 단위를 맞춰주기위한 정규화,표준화\n",
    "    - 5. 적절한 학습모델을 선정하고 학습\n",
    "    - 5-1. 분류 모델을 사용했을 때 정확도를 측정\n",
    "        - 경향을 예측한다든지, 분류를 한다든지\n",
    "- Supervised Learning (지도 학습)\n",
    "    - 학습 데이터셋에 결과 label이 있는 데이터를 다룰 때\n",
    "    - Regression :  파라미터 간 관계를 통해 어떤 경향을 예측, Logistic은 예외적으로 분류가 가능\n",
    "        - 1. Simple Linear Regression\n",
    "            - 독립변수(입력 parameter)가 1개인 것을 지칭\n",
    "            - Hypothesis => H = W * x + b\n",
    "        - 2. Multiple Linear Regression\n",
    "            - 독립변수가 2개 이상인 것을 지칭\n",
    "            - Hypothesis => H = XW + b \n",
    "                - Matrix 형태로 표현 tf.matmul로 연산(행렬 곱)\n",
    "        - 3. Logistic Regression\n",
    "            - 회귀모델에서 예외적으로 값을 예측하는 것이 아닌 분류가 가능\n",
    "                - binary classification : 둘 중 하나로 분류\n",
    "            - Hypothesis => sigmoid(XW + b)\n",
    "            - 정확도를 측정할 수 있음\n",
    "- Unsupervised Learning (비지도 학습)\n",
    "    - 학습 데이터셋에 결과 label이 없는 데이터를 다룰 때 "
   ]
  },
  {
   "cell_type": "markdown",
   "metadata": {},
   "source": [
    "### Multinomial Classification\n",
    "- logistic은 둘 중 하나로 분류하는 거였지만 Multinomail Classification은 여러개로 분류하는, 여러 개 중의 하나를 찾는\n",
    "- 분포되어 있는 데이터를 구분 짓는 가상의 선(hyperplane)을 찾는 것이 logistic classification이 하의 목적이고 목표\n",
    "- hyperplane은 둘 중에 하나를 선택하는 선\n",
    "    - A냐 A가 아니냐\n",
    "    - B냐 B가 아니냐\n",
    "    - C냐 C가 아니냐\n",
    "- 즉 Multinomial Classfication은 Logistic이 여러개 합쳐져 있는 것임 => 그 선 하나하나를 찾는게 각 Logistic hyperplane을 찾는 것\n",
    "- 3개의 Logistic을 합쳐서 matrix 하나로 표현\n",
    "![image](https://user-images.githubusercontent.com/28910538/53772242-044ee880-3f29-11e9-8076-68cf93085eca.png)\n",
    "- 근데 Multinomial은 확률적으로 생각해서 접근해야함\n",
    "    - Logistic은 인지 아닌지\n",
    "    - Multinomial은 어떤 값이 될 확률이 높은지\n",
    "- 때문에 sigmoid를 사용하지 않고 softmax 사용\n"
   ]
  },
  {
   "cell_type": "code",
   "execution_count": 33,
   "metadata": {},
   "outputs": [
    {
     "name": "stdout",
     "output_type": "stream",
     "text": [
      "x_data.shape : (7, 4), y_data.shape : (7, 3)\n",
      "cost : 2.287501096725464, W : [[ 0.5513545   0.7679173   0.12720793]\n",
      " [ 0.39638987  0.11603027  0.7041354 ]\n",
      " [ 0.39199615  0.68154055 -0.01868953]\n",
      " [ 1.1348362  -0.02498883  1.4697698 ]], b : [ 0.2403025   1.9340199  -0.56199384]\n",
      "cost : 0.16442953050136566, W : [[ 1.8151956   1.8005291  -2.1692448 ]\n",
      " [-0.16405211 -0.8715387   2.2521467 ]\n",
      " [ 0.30472693 -0.18561292  0.9357351 ]\n",
      " [ 1.0243059   0.89594626  0.6593688 ]], b : [-3.7848468   4.9313188   0.46585763]\n",
      "cost : 0.10006435960531235, W : [[ 2.2782516   1.8119246  -2.6436975 ]\n",
      " [-0.32029736 -1.133885    2.6707385 ]\n",
      " [ 0.33951908 -0.29639003  1.0117176 ]\n",
      " [ 0.86638904  1.2540704   0.45916003]], b : [-5.5490093   6.418152    0.74318415]\n",
      "cost : 0.0708198994398117, W : [[ 2.5642803   1.8291277  -2.946929  ]\n",
      " [-0.41047537 -1.3104359   2.9374664 ]\n",
      " [ 0.36381614 -0.37435675  1.0653818 ]\n",
      " [ 0.78176594  1.4681526   0.32970086]], b : [-6.75321    7.4437885  0.9217517]\n",
      "cost : 0.05444733425974846, W : [[ 2.7705212   1.8474054  -3.1714606 ]\n",
      " [-0.474538   -1.443627    3.134723  ]\n",
      " [ 0.38196734 -0.43354598  1.1064175 ]\n",
      " [ 0.72820485  1.6183044   0.23310938]], b : [-7.6584845  8.21634    1.0544705]\n",
      "[[9.1975379e-01 8.0246180e-02 7.0810337e-11]\n",
      " [9.5944095e-01 3.7124652e-02 3.4344730e-03]\n",
      " [5.1478297e-02 9.4759732e-01 9.2433271e-04]\n",
      " [4.8886307e-02 9.5111328e-01 4.4220153e-07]\n",
      " [6.6164389e-02 9.3383533e-01 3.0597690e-07]\n",
      " [1.9151830e-06 5.7523232e-04 9.9942291e-01]\n",
      " [8.7783650e-07 1.0469620e-02 9.8952955e-01]]\n",
      "accuracy = 1.0\n",
      "B\n"
     ]
    }
   ],
   "source": [
    "import tensorflow as tf\n",
    "import pandas as pd\n",
    "import numpy as np\n",
    "\n",
    "data_x1 = [10,8,7,6,7,3,2]\n",
    "data_x2 = [7,8,8,3,5,5,4]\n",
    "data_x3 = [8,9,2,9,7,6,3]\n",
    "data_x4 = [5,4,3,3,4,2,1]\n",
    "data_y = [\"A\",\"A\",\"B\",\"B\",\"B\",\"C\",\"C\"]\n",
    "# one hot encoding\n",
    "y_data = pd.get_dummies(pd.DataFrame(data_y), prefix=\"y\").values\n",
    "data_x = np.vstack((data_x1,data_x2,data_x3,data_x4))\n",
    "x_data = np.transpose(data_x)\n",
    "print(\"x_data.shape : {}, y_data.shape : {}\".format(x_data.shape, y_data.shape))\n",
    "\n",
    "X = tf.placeholder(shape = [None, 4], dtype= tf.float32)\n",
    "Y = tf.placeholder(shape = [None, 3], dtype = tf.float32)\n",
    "\n",
    "W = tf.Variable(tf.random_normal([4,3]), dtype = tf.float32)\n",
    "b = tf.Variable(tf.random_normal([3,]), dtype = tf.float32)\n",
    "\n",
    "logit = tf.matmul(X,W) + b\n",
    "H = tf.nn.softmax(logit)\n",
    "\n",
    "cost = tf.reduce_mean(tf.nn.softmax_cross_entropy_with_logits_v2(logits = logit, labels = Y))\n",
    "train = tf.train.GradientDescentOptimizer(learning_rate=0.05).minimize(cost)\n",
    "\n",
    "sess = tf.Session()\n",
    "sess.run(tf.global_variables_initializer())\n",
    "\n",
    "for step in range(10000):\n",
    "    _, cost_value, weight_value, bias_value = sess.run([train, cost, W, b], feed_dict={X:x_data, Y:y_data})\n",
    "    if step % 2000 == 0:\n",
    "        print(\"cost : {}, W : {}, b : {}\".format(cost_value, weight_value, bias_value))\n",
    "# H => [[0.3 0.6 0.1 ]] 이런 형태로 나옴\n",
    "print(sess.run(H,feed_dict ={X:x_data, Y:y_data}))\n",
    "# 가장 큰 값이 몇번째인지 index를 알려줌\n",
    "# 어떤 축을 기준으로 뽑는지 - 열 방향을 기준으로 큰 값을 뽑아줘야 함\n",
    "predict = tf.argmax(H, axis = 1)\n",
    "# Y데이터도 argmax로 집어줘야 비교 가능\n",
    "correct = tf.equal(predict, tf.argmax(Y, axis = 1))\n",
    "# true false를 숫자로 바꿔주기 위해 cast를 하고 그 평균을 냄\n",
    "accuracy = tf.reduce_mean(tf.cast(correct, dtype=tf.float32))\n",
    "\n",
    "print(\"accuracy = {}\".format(sess.run(accuracy, feed_dict={X:x_data, Y:y_data})))\n",
    "\n",
    "result = sess.run(predict, feed_dict = {X:[[5,3,2,9]]})\n",
    "if result[0] == 0:\n",
    "    print(\"A\")\n",
    "elif result[0] == 1:\n",
    "    print(\"B\")\n",
    "else:\n",
    "    print(\"C\")\n"
   ]
  },
  {
   "cell_type": "markdown",
   "metadata": {},
   "source": [
    "### bmi\n",
    "- label 0은 마른체형\n",
    "- label 1은 정상\n",
    "- label 2는 비만\n",
    "- label, 키, 몸무게"
   ]
  },
  {
   "cell_type": "code",
   "execution_count": 91,
   "metadata": {},
   "outputs": [
    {
     "data": {
      "text/html": [
       "<div>\n",
       "<style scoped>\n",
       "    .dataframe tbody tr th:only-of-type {\n",
       "        vertical-align: middle;\n",
       "    }\n",
       "\n",
       "    .dataframe tbody tr th {\n",
       "        vertical-align: top;\n",
       "    }\n",
       "\n",
       "    .dataframe thead th {\n",
       "        text-align: right;\n",
       "    }\n",
       "</style>\n",
       "<table border=\"1\" class=\"dataframe\">\n",
       "  <thead>\n",
       "    <tr style=\"text-align: right;\">\n",
       "      <th></th>\n",
       "      <th>label</th>\n",
       "      <th>height</th>\n",
       "      <th>weight</th>\n",
       "    </tr>\n",
       "  </thead>\n",
       "  <tbody>\n",
       "    <tr>\n",
       "      <th>0</th>\n",
       "      <td>1</td>\n",
       "      <td>188</td>\n",
       "      <td>71</td>\n",
       "    </tr>\n",
       "    <tr>\n",
       "      <th>1</th>\n",
       "      <td>2</td>\n",
       "      <td>161</td>\n",
       "      <td>68</td>\n",
       "    </tr>\n",
       "    <tr>\n",
       "      <th>2</th>\n",
       "      <td>0</td>\n",
       "      <td>178</td>\n",
       "      <td>52</td>\n",
       "    </tr>\n",
       "    <tr>\n",
       "      <th>3</th>\n",
       "      <td>2</td>\n",
       "      <td>136</td>\n",
       "      <td>63</td>\n",
       "    </tr>\n",
       "    <tr>\n",
       "      <th>4</th>\n",
       "      <td>1</td>\n",
       "      <td>145</td>\n",
       "      <td>52</td>\n",
       "    </tr>\n",
       "  </tbody>\n",
       "</table>\n",
       "</div>"
      ],
      "text/plain": [
       "   label  height  weight\n",
       "0      1     188      71\n",
       "1      2     161      68\n",
       "2      0     178      52\n",
       "3      2     136      63\n",
       "4      1     145      52"
      ]
     },
     "metadata": {},
     "output_type": "display_data"
    },
    {
     "name": "stdout",
     "output_type": "stream",
     "text": [
      "x_data.shape : (20000, 2), y_data.shape : (20000, 3)\n",
      "cost : 2.2703378200531006, W : [[0.00271652 0.10096955 0.8963139 ]\n",
      " [0.00631808 0.11205374 0.8816282 ]\n",
      " [0.00634119 0.14585413 0.8478046 ]\n",
      " ...\n",
      " [0.00802377 0.17331438 0.8186618 ]\n",
      " [0.00331152 0.1040233  0.8926652 ]\n",
      " [0.01054598 0.12758102 0.861873  ]], b : [-2.2606046 -0.8520236  0.3634667]\n",
      "cost : 0.41480886936187744, W : [[0.27892488 0.59730417 0.12377091]\n",
      " [0.05537765 0.40279204 0.54183036]\n",
      " [0.6665262  0.3063569  0.02711692]\n",
      " ...\n",
      " [0.87810487 0.11812655 0.00376848]\n",
      " [0.22056375 0.59721845 0.1822178 ]\n",
      " [0.04195669 0.31254897 0.64549434]], b : [-1.5937132  -0.91911197 -0.23633528]\n",
      "cost : 0.3280487656593323, W : [[2.47161970e-01 6.75162435e-01 7.76755959e-02]\n",
      " [2.29402017e-02 4.06964153e-01 5.70095658e-01]\n",
      " [7.28664041e-01 2.63426781e-01 7.90919177e-03]\n",
      " ...\n",
      " [9.37074661e-01 6.24989197e-02 4.26406303e-04]\n",
      " [1.75683513e-01 6.91428125e-01 1.32888302e-01]\n",
      " [1.46419145e-02 2.93803453e-01 6.91554666e-01]], b : [-2.0243669  -0.62468517 -0.10010669]\n",
      "cost : 0.2844645380973816, W : [[2.2308534e-01 7.2174662e-01 5.5167995e-02]\n",
      " [1.2147461e-02 3.9978164e-01 5.8807093e-01]\n",
      " [7.6669681e-01 2.3006117e-01 3.2419709e-03]\n",
      " ...\n",
      " [9.6169043e-01 3.8221601e-02 8.8046057e-05]\n",
      " [1.4674976e-01 7.4845898e-01 1.0479119e-01]\n",
      " [6.8663224e-03 2.7231470e-01 7.2081906e-01]], b : [-2.311459  -0.442028   0.0043311]\n",
      "cost : 0.2566539943218231, W : [[2.0411082e-01 7.5421321e-01 4.1675985e-02]\n",
      " [7.2975107e-03 3.9057878e-01 6.0212368e-01]\n",
      " [7.9452676e-01 2.0389472e-01 1.5785499e-03]\n",
      " ...\n",
      " [9.7459304e-01 2.5382254e-02 2.4695701e-05]\n",
      " [1.2604195e-01 7.8800148e-01 8.5956618e-02]\n",
      " [3.7401340e-03 2.5295374e-01 7.4330610e-01]], b : [-2.5332243  -0.30899534  0.09306797]\n",
      "accuracy = 0.9783333539962769\n"
     ]
    }
   ],
   "source": [
    "import tensorflow as tf\n",
    "import pandas as pd\n",
    "import numpy as np\n",
    "from sklearn.preprocessing import MinMaxScaler\n",
    "import warnings\n",
    "\n",
    "warnings.filterwarnings(action=\"ignore\")\n",
    "file_path = \"./data/bmi/bmi.csv\"\n",
    "# 3줄 건너서\n",
    "bmi_csv = pd.read_csv(file_path, sep=\",\", skiprows=3)\n",
    "# dropna\n",
    "bmi_csv = bmi_csv.dropna(how=\"any\")\n",
    "# one-hot encoding\n",
    "# tf.one_hot(data_y, 3) 범주 지정해주고 찍으면 one-hot encoding\n",
    "data_y = pd.get_dummies(bmi_csv[\"label\"], prefix=\"label\")\n",
    "y_data = data_y.values\n",
    "display(bmi_csv.head())\n",
    "data_x = bmi_csv[[\"height\",\"weight\"]]\n",
    "\n",
    "scaler = MinMaxScaler()\n",
    "# scaler.fit_transform~ 데이터에 맞춰서 최대값 최소값을 맞춰서 값을 바꿨는데\n",
    "# 이렇게 하면 그 최대갑 최소값을 scaler가 갖고있음\n",
    "# scaler.transform~은 scaler가 갖고있는 최대 최소로 데이터를 바꿈\n",
    "x_data = scaler.fit_transform(data_x.values)\n",
    "print(\"x_data.shape : {}, y_data.shape : {}\".format(x_data.shape, y_data.shape))\n",
    "\n",
    "count = int(x_data.shape[0]*0.7)\n",
    "train_x = x_data[:count,:]\n",
    "train_y = y_data[:count,:]\n",
    "test_x = x_data[count:,:]\n",
    "test_y = y_data[count:,:]\n",
    "\n",
    "X = tf.placeholder(shape = [None, 2], dtype = tf.float32)\n",
    "Y = tf.placeholder(shape = [None, 3], dtype = tf.float32)\n",
    "\n",
    "W = tf.Variable(tf.random_normal([2,3]), dtype = tf.float32)\n",
    "b = tf.Variable(tf.random_normal([3,]), dtype = tf.float32)\n",
    "\n",
    "logit = tf.matmul(X,W) + b\n",
    "H = tf.nn.softmax(logit)\n",
    "\n",
    "cost = tf.reduce_mean(tf.nn.softmax_cross_entropy_with_logits_v2(logits = logit, labels = Y))\n",
    "train = tf.train.GradientDescentOptimizer(learning_rate=0.1).minimize(cost)\n",
    "\n",
    "sess = tf.Session()\n",
    "sess.run(tf.global_variables_initializer())\n",
    "\n",
    "for step in range(10000):\n",
    "    _, cost_value, weight_value, bias_value = sess.run([train, cost, H, b], feed_dict={X:train_x, Y:train_y})\n",
    "    if step % 2000 == 0:\n",
    "        print(\"cost : {}, W : {}, b : {}\".format(cost_value, weight_value, bias_value))\n",
    "\n",
    "\n",
    "predict = tf.argmax(H, axis = 1)\n",
    "correct = tf.equal(predict, tf.argmax(Y, axis = 1))\n",
    "accuracy = tf.reduce_mean(tf.cast(correct, dtype=tf.float32))\n",
    "        \n",
    "print(\"accuracy = {}\".format(sess.run(accuracy, feed_dict = {X:test_x, Y:test_y})))\n",
    "\n",
    "\n"
   ]
  },
  {
   "cell_type": "markdown",
   "metadata": {},
   "source": [
    "sess = tf.Session()  \n",
    "session return하기때문에 eval 통해 값   \n",
    "tf.one_hot(train, 범주갯수).eval(session=sess)  \n",
    "= sess.run(tf.one_hot(train, 범주갯수))  "
   ]
  },
  {
   "cell_type": "code",
   "execution_count": 94,
   "metadata": {},
   "outputs": [
    {
     "name": "stdout",
     "output_type": "stream",
     "text": [
      "[2]\n"
     ]
    }
   ],
   "source": [
    "print(sess.run(predict, feed_dict = {X:scaler.transform([[184,94]])}))"
   ]
  },
  {
   "cell_type": "markdown",
   "metadata": {},
   "source": [
    "### MNIST - Multinomial Classification\n",
    "- 약 5만 5천개의 28x28 이미지를 입력으로 받음\n",
    "- x parameter의 shape => (55000, 784)\n",
    "- y label의 shape은 => (55000, 10)"
   ]
  },
  {
   "cell_type": "code",
   "execution_count": 111,
   "metadata": {},
   "outputs": [
    {
     "name": "stdout",
     "output_type": "stream",
     "text": [
      "Extracting ./data/mnist\\train-images-idx3-ubyte.gz\n",
      "Extracting ./data/mnist\\train-labels-idx1-ubyte.gz\n",
      "Extracting ./data/mnist\\t10k-images-idx3-ubyte.gz\n",
      "Extracting ./data/mnist\\t10k-labels-idx1-ubyte.gz\n",
      "[0. 0. 0. 0. 0. 0. 0. 1. 0. 0.]\n"
     ]
    },
    {
     "data": {
      "image/png": "[encoded data removed]",
      "text/plain": [
       "<Figure size 432x288 with 1 Axes>"
      ]
     },
     "metadata": {
      "needs_background": "light"
     },
     "output_type": "display_data"
    },
    {
     "data": {
      "text/plain": [
       "array([7], dtype=int64)"
      ]
     },
     "execution_count": 111,
     "metadata": {},
     "output_type": "execute_result"
    }
   ],
   "source": [
    "import tensorflow as tf\n",
    "from tensorflow.examples.tutorials.mnist import input_data\n",
    "import matplotlib \n",
    "import matplotlib.pyplot as plt\n",
    "import numpy as np\n",
    "\n",
    "#1. Data Loading\n",
    "# y쪽 lable을 one-hot형태로 불러들임\n",
    "mnist = input_data.read_data_sets(\"./data/mnist\", one_hot=True)\n",
    "# mnist.train.num_examples\n",
    "# mnist.train.images.shape\n",
    "print(mnist.train.labels[0])\n",
    "plt.imshow(mnist.train.images[0].reshape(28,28), cmap=\"Greys\", interpolation=\"nearest\")\n",
    "plt.show()\n",
    "# argmax는 2차원 이상이여야 가능?\n",
    "sess = tf.Session()\n",
    "sess.run(tf.argmax(mnist.train.labels[0].reshape(-1,10), 1))"
   ]
  },
  {
   "cell_type": "code",
   "execution_count": 116,
   "metadata": {},
   "outputs": [
    {
     "data": {
      "text/plain": [
       "array([0., 0., 0., 0., 0., 0., 0., 1., 0., 0.])"
      ]
     },
     "execution_count": 116,
     "metadata": {},
     "output_type": "execute_result"
    }
   ],
   "source": [
    "mnist.train.labels[0]"
   ]
  },
  {
   "cell_type": "code",
   "execution_count": 129,
   "metadata": {},
   "outputs": [
    {
     "name": "stdout",
     "output_type": "stream",
     "text": [
      "cost : 0.7262434363365173\n",
      "cost : 0.44190797209739685\n",
      "cost : 0.33254939317703247\n",
      "cost : 0.3848639726638794\n",
      "cost : 0.3176891803741455\n",
      "cost : 0.344063401222229\n",
      "accuracy : 0.9168000221252441\n"
     ]
    }
   ],
   "source": [
    "X = tf.placeholder(shape=[None, 28*28], dtype = tf.float32)\n",
    "Y = tf.placeholder(shape=[None, 10], dtype = tf.float32)\n",
    "\n",
    "W = tf.Variable(tf.random_normal([28*28,10]), dtype = tf.float32, name = \"weight\")\n",
    "b = tf.Variable(tf.random_normal([10,]), dtype = tf.float32, name = \"bias\")\n",
    "\n",
    "logit = tf.matmul(X,W) + b\n",
    "H = tf.nn.softmax(logit)\n",
    "\n",
    "cost = tf.reduce_mean(tf.nn.softmax_cross_entropy_with_logits_v2(logits=logit, labels=Y))\n",
    "train = tf.train.GradientDescentOptimizer(learning_rate=0.5).minimize(cost)\n",
    "\n",
    "sess = tf.Session()\n",
    "sess.run(tf.global_variables_initializer())\n",
    "\n",
    "# 너무 큰 데이터는 한번에 읽어들일 수 없음, 배치 처리\n",
    "# 1 epoch은 가지고있는 학습데이터 전체를 한번 학습시키는 것 몇번을 학습할 건가\n",
    "train_epoch = 30\n",
    "# 한번에 읽어들일 데이터의 크기\n",
    "batch_size = 100\n",
    "\n",
    "for step in range(train_epoch):\n",
    "    num_of_iter = int(mnist.train.num_examples / batch_size)\n",
    "    for i in range(num_of_iter):\n",
    "        # next batch 실제로 구현해야 함\n",
    "        batch_x, batch_y = mnist.train.next_batch(batch_size)\n",
    "        _, cost_value, weight_value = sess.run([train,cost,W], feed_dict={X:batch_x, Y:batch_y})\n",
    "    if step % 5 == 0:\n",
    "        print(\"cost : {}\".format(cost_value))\n",
    "\n",
    "predict = tf.argmax(H, axis = 1)\n",
    "correct = tf.equal(predict, tf.argmax(Y, axis = 1))\n",
    "accuracy = tf.reduce_mean(tf.cast(correct, dtype = tf.float32))\n",
    "print(\"accuracy : {}\".format(sess.run(accuracy, feed_dict={X:mnist.test.images, Y:mnist.test.labels})))"
   ]
  },
  {
   "cell_type": "code",
   "execution_count": null,
   "metadata": {},
   "outputs": [],
   "source": []
  },
  {
   "cell_type": "code",
   "execution_count": null,
   "metadata": {},
   "outputs": [],
   "source": []
  },
  {
   "cell_type": "code",
   "execution_count": null,
   "metadata": {},
   "outputs": [],
   "source": []
  },
  {
   "cell_type": "code",
   "execution_count": null,
   "metadata": {},
   "outputs": [],
   "source": []
  },
  {
   "cell_type": "code",
   "execution_count": null,
   "metadata": {},
   "outputs": [],
   "source": []
  },
  {
   "cell_type": "code",
   "execution_count": null,
   "metadata": {},
   "outputs": [],
   "source": []
  },
  {
   "cell_type": "code",
   "execution_count": null,
   "metadata": {},
   "outputs": [],
   "source": []
  },
  {
   "cell_type": "code",
   "execution_count": null,
   "metadata": {},
   "outputs": [],
   "source": []
  },
  {
   "cell_type": "code",
   "execution_count": null,
   "metadata": {},
   "outputs": [],
   "source": []
  },
  {
   "cell_type": "code",
   "execution_count": null,
   "metadata": {},
   "outputs": [],
   "source": []
  },
  {
   "cell_type": "code",
   "execution_count": null,
   "metadata": {},
   "outputs": [],
   "source": []
  },
  {
   "cell_type": "code",
   "execution_count": null,
   "metadata": {},
   "outputs": [],
   "source": []
  },
  {
   "cell_type": "code",
   "execution_count": null,
   "metadata": {},
   "outputs": [],
   "source": []
  }
 ],
 "metadata": {
  "kernelspec": {
   "display_name": "data_env",
   "language": "python",
   "name": "data_env"
  },
  "language_info": {
   "codemirror_mode": {
    "name": "ipython",
    "version": 3
   },
   "file_extension": ".py",
   "mimetype": "text/x-python",
   "name": "python",
   "nbconvert_exporter": "python",
   "pygments_lexer": "ipython3",
   "version": "3.6.6"
  }
 },
 "nbformat": 4,
 "nbformat_minor": 2
}
