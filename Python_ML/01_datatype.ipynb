{
 "cells": [
  {
   "cell_type": "markdown",
   "metadata": {},
   "source": [
    "#### 1. 숫자형 ( number )\n",
    "#### 2. 문자형 ( string )\n",
    "#### 3. 리스트 ( list )\n",
    "#### 4. 튜플 ( tuple )\n",
    "#### 5. 딕셔너리 ( dictionary )\n",
    "#### 6. 집합 ( set )\n",
    "#### 7. 논리형 ( bool )\n",
    "#### 8. 날짜 (date)"
   ]
  },
  {
   "cell_type": "markdown",
   "metadata": {},
   "source": [
    "### number - 제곱 / 나머지 / 몫"
   ]
  },
  {
   "cell_type": "code",
   "execution_count": 10,
   "metadata": {},
   "outputs": [
    {
     "name": "stdout",
     "output_type": "stream",
     "text": [
      "정수 :  100 \n",
      "실수 :  3141.592 \n",
      "복소수 :  (1+2j) \n",
      "8진수 :  28 \n",
      "16진수 :  170\n",
      "0.75\n",
      "32\n",
      "1\n",
      "3\n"
     ]
    }
   ],
   "source": [
    "# 1. 숫자형 ( number )\n",
    "# 정수, 실수, 복소수, 8진수, 16진수\n",
    "a = 100\n",
    "b = 3.141592E3\n",
    "c = 1 + 2j\n",
    "d = 0o34 #숫자0 영문자o\n",
    "e = 0xAA\n",
    "print(\"정수 : \", a,\"\\n실수 : \", b, \"\\n복소수 : \", c, \"\\n8진수 : \",d,\"\\n16진수 : \", e)\n",
    "\n",
    "div = 3/4\n",
    "# 정수/정수도 실수로 변환 , python 2.x -> 0이나오고 python 3.x -> 실수로 떨어짐\n",
    "print(div)\n",
    "# 제곱표현\n",
    "print(2**5)\n",
    "# 나머지 연산\n",
    "print(10 % 3)\n",
    "# 나눗셈의 수행 후 몫만 취하는 연산\n",
    "print(10 // 3)\n",
    "\n"
   ]
  },
  {
   "cell_type": "markdown",
   "metadata": {},
   "source": [
    "### String"
   ]
  },
  {
   "cell_type": "code",
   "execution_count": 19,
   "metadata": {},
   "outputs": [
    {
     "name": "stdout",
     "output_type": "stream",
     "text": [
      "Hello \n",
      "World\n",
      "여러줄에 걸친 문자열\n",
      "Hello\n",
      "World\n",
      "마찬가지로\n",
      "여러줄에 걸친\n",
      "문자열\n"
     ]
    }
   ],
   "source": [
    "# 2. 문자열 ( string )\n",
    "a = \"Hello World\"\n",
    "b = \"Hello \\nWorld\" #Java Style (개행문자를 이용)\n",
    "c = \"\"\"여러줄에 걸친 문자열\n",
    "Hello\n",
    "World\"\"\"\n",
    "d = '''마찬가지로\n",
    "여러줄에 걸친\n",
    "문자열'''\n",
    "print(b)\n",
    "print(c)\n",
    "print(d)"
   ]
  },
  {
   "cell_type": "markdown",
   "metadata": {},
   "source": [
    "### String - concetination"
   ]
  },
  {
   "cell_type": "code",
   "execution_count": 28,
   "metadata": {},
   "outputs": [
    {
     "name": "stdout",
     "output_type": "stream",
     "text": [
      "this is a sample Text\n",
      "this is a 100\n"
     ]
    }
   ],
   "source": [
    "# 일반적인 문자열의 연결은 '+'\n",
    "first = \"this is a\"\n",
    "middle = \" sample\"\n",
    "last = \" Text\"\n",
    "\n",
    "print(first+middle+last)\n",
    "#print(first + 100) # error , 문자열과 숫자를 '+' 할 수 없음\n",
    "print(first + \" \" + str(100)) # str() 문자열로 변환\n",
    "\n"
   ]
  },
  {
   "cell_type": "markdown",
   "metadata": {},
   "source": [
    "### String - indexing / slicing"
   ]
  },
  {
   "cell_type": "code",
   "execution_count": 46,
   "metadata": {},
   "outputs": [
    {
     "name": "stdout",
     "output_type": "stream",
     "text": [
      "pythonpythonpython\n",
      "T\n",
      "e\n",
      "Talk\n",
      "is a cheap. Show me the Code\n",
      "Talk is a \n",
      "Talk is a cheap. Show me the Code\n"
     ]
    }
   ],
   "source": [
    "# 문자열에 대한 '*' 연산\n",
    "text = \"python\"\n",
    "print(text * 3)\n",
    "# 문자열 indexing \n",
    "str = \"Talk is a cheap. Show me the Code\"\n",
    "print(str[0]) # 0번째 index의 값을 알아오는 것\n",
    "print(str[-1]) # index에 -가 붙으면 뒤에서부터 indexing\n",
    "# 문자열 slicing ( 문자열 자르기 ) -> 결과는 문자열로 떨어짐\n",
    "print(str[0:4]) # 0번째에서 4번째 앞까지 => 즉 0 1 2 3 \n",
    "# [idx1:idx2] idx1는 inclusive 뒤의 idx2는 exclusive\n",
    "print(str[5:]) #idx2가 없으면 끝까지\n",
    "print(str[:10]) #idx1가 없으면 처음부터\n",
    "print(str[:]) # 처음부터 끝까지"
   ]
  },
  {
   "cell_type": "markdown",
   "metadata": {},
   "source": [
    "### in 연산자"
   ]
  },
  {
   "cell_type": "code",
   "execution_count": 51,
   "metadata": {},
   "outputs": [
    {
     "name": "stdout",
     "output_type": "stream",
     "text": [
      "True\n",
      "False\n",
      "True\n"
     ]
    }
   ],
   "source": [
    "# in 연산자\n",
    "str = \"Talk is a cheap. Show me the Code\"\n",
    "\n",
    "print(\"cheap\" in str)\n",
    "print(\"Cheap\" in str)\n",
    "print(\"Cheap\" not in str)"
   ]
  },
  {
   "cell_type": "markdown",
   "metadata": {},
   "source": [
    "### 문자열 formatting"
   ]
  },
  {
   "cell_type": "code",
   "execution_count": 84,
   "metadata": {},
   "outputs": [
    {
     "name": "stdout",
     "output_type": "stream",
     "text": [
      "나는 사과 3개를 갖고 있다\n",
      "나는 사과 10개를 갖고 있다\n",
      "나는 귤 10개를 갖고 있다\n",
      "나는 사과 다섯개를 갖고 있다\n",
      "나는 사과 3개, 참외 5개를 갖고 있다\n",
      "공장 가동률은 95%입니다. \n",
      "나는 사과         10개가 있다\n",
      "나는 사과 10        개가 있다\n",
      "원주율은 3.141592입니다.\n",
      "원주율은 3.142입니다.\n"
     ]
    }
   ],
   "source": [
    "# 문자열 formatting (%d, %s, %f)\n",
    "# parameter를 주고 argument를 줘서 원하는 문자열로 채우는\n",
    "str = \"나는 사과 %d개를 갖고 있다\"\n",
    "#print 구문이 아님\n",
    "print(str %3)\n",
    "amount = 10\n",
    "print(str %amount)\n",
    "str = \"나는 귤 %d개를 갖고 있다\" %amount\n",
    "print(str)\n",
    "str = \"나는 사과 %s개를 갖고 있다\"\n",
    "print(str %\"다섯\")\n",
    "str = \"나는 사과 %d개, 참외 %d개를 갖고 있다\"\n",
    "print(str %(3,5))\n",
    "str = \"공장 가동률은 %d%%입니다. \" # %쓰려면 %%\n",
    "print(str %95)\n",
    "str = \"나는 사과 %10d개가 있다\" %10 # 10개의 자릿수로 오른쪽 정렬\n",
    "print(str)\n",
    "str = \"나는 사과 %-10d개가 있다\" %10 # 10개의 자릿수로 왼쪽 정렬\n",
    "print(str)\n",
    "str = \"원주율은 %f입니다.\" %3.141592\n",
    "print(str)\n",
    "str = \"원주율은 %.3f입니다.\" %3.141592 # 소수점 둘째자리까지 반올림처리\n",
    "print(str)"
   ]
  },
  {
   "cell_type": "markdown",
   "metadata": {},
   "source": [
    "### String - dir / count / find / index"
   ]
  },
  {
   "cell_type": "code",
   "execution_count": 107,
   "metadata": {},
   "outputs": [
    {
     "name": "stdout",
     "output_type": "stream",
     "text": [
      "<class 'str'>\n",
      "['__add__', '__class__', '__contains__', '__delattr__', '__dir__', '__doc__', '__eq__', '__format__', '__ge__', '__getattribute__', '__getitem__', '__getnewargs__', '__gt__', '__hash__', '__init__', '__init_subclass__', '__iter__', '__le__', '__len__', '__lt__', '__mod__', '__mul__', '__ne__', '__new__', '__reduce__', '__reduce_ex__', '__repr__', '__rmod__', '__rmul__', '__setattr__', '__sizeof__', '__str__', '__subclasshook__', 'capitalize', 'casefold', 'center', 'count', 'encode', 'endswith', 'expandtabs', 'find', 'format', 'format_map', 'index', 'isalnum', 'isalpha', 'isdecimal', 'isdigit', 'isidentifier', 'islower', 'isnumeric', 'isprintable', 'isspace', 'istitle', 'isupper', 'join', 'ljust', 'lower', 'lstrip', 'maketrans', 'partition', 'replace', 'rfind', 'rindex', 'rjust', 'rpartition', 'rsplit', 'rstrip', 'split', 'splitlines', 'startswith', 'strip', 'swapcase', 'title', 'translate', 'upper', 'zfill']\n",
      "8\n",
      "3\n",
      "1\n",
      "1\n"
     ]
    }
   ],
   "source": [
    "# 문자열 함수\n",
    "str = \"hello\"\n",
    "print(type(str)) # str의 데이터 타입을 출력\n",
    "# 내장함수 중 dir() : 해당 객체가 어떤 필드 혹은 어떤 메서드를 사용할 수 있는지를 list로 return\n",
    "print(dir(str))\n",
    "\n",
    "str = \"cocacola\"\n",
    "# len() : 인자로 들어오는 것의 개수를 count\n",
    "print(len(str))\n",
    "print(str.count(\"c\")) #\"c\"가 몇개있는지를 count\n",
    "print(str.find(\"o\")) #\"o\"가 제일 처음에 나오는 위치, 못찾으면 -1을 return\n",
    "print(str.index(\"o\")) #find와 동일한데 못찾으면 error 발생\n"
   ]
  },
  {
   "cell_type": "markdown",
   "metadata": {},
   "source": [
    "### String - join / upper / lower / strip"
   ]
  },
  {
   "cell_type": "code",
   "execution_count": 108,
   "metadata": {},
   "outputs": [
    {
     "name": "stdout",
     "output_type": "stream",
     "text": [
      "a-b-c-d-e-f\n",
      "a b c d e f\n",
      "    HELLO    WORLD\n",
      "    hello    world\n",
      "Hello    World\n"
     ]
    }
   ],
   "source": [
    "# 문자열 함수\n",
    "a = \"-\"\n",
    "b = \"abcdef\" # \"abcdef\" => \"a-b-c-d-e-f\"\n",
    "print(a.join(b))\n",
    "print(\" \".join(b))\n",
    "\n",
    "str = \"    Hello    World\"\n",
    "print(str.upper()) #대문자\n",
    "print(str.lower()) #소문자\n",
    "print(str.strip()) #양쪽 공백날림"
   ]
  },
  {
   "cell_type": "markdown",
   "metadata": {},
   "source": [
    "### String - replace / split"
   ]
  },
  {
   "cell_type": "code",
   "execution_count": 114,
   "metadata": {
    "scrolled": true
   },
   "outputs": [
    {
     "name": "stdout",
     "output_type": "stream",
     "text": [
      "Show me the Money\n",
      "Show me the Code\n",
      "['Show', 'me', 'the', 'Code']\n",
      "['a', 'b', 'c', 'd']\n"
     ]
    }
   ],
   "source": [
    "# 문자열 함수\n",
    "str = \"Show me the Code\"\n",
    "result = str.replace(\"Code\", \"Money\")\n",
    "print(result)\n",
    "# 문자열은 기본적으로 immutable(불멸의) 특성이 있음\n",
    "# 함수를 적용해도 원본 문자열은 변하지 않음\n",
    "print(str) \n",
    "print(str.split()) \n",
    "str = \"a::b::c::d\"\n",
    "print(str.split(\"::\")) #구분자로 쪼개서 list로 return"
   ]
  },
  {
   "cell_type": "markdown",
   "metadata": {},
   "source": [
    "### String - formatting method"
   ]
  },
  {
   "cell_type": "code",
   "execution_count": 139,
   "metadata": {},
   "outputs": [
    {
     "name": "stdout",
     "output_type": "stream",
     "text": [
      "나는 사과5개가 있다\n",
      "나는 사과5개, 귤 3개가 있다\n",
      "나는 사과3개, 귤 5개가 있다\n",
      "원주율은 3.142이고 반지름은 2.126입니다\n",
      "1,234,567,899\n",
      "87.36%\n"
     ]
    }
   ],
   "source": [
    "# python에서 일반적으로 사용되는 문자열 \n",
    "# formatting method \n",
    "str = \"나는 사과{}개가 있다\".format(5)\n",
    "print(str)\n",
    "#0이나 1은 순서를 명시해주는 것일 뿐 안넣으면 그냥 순서대로 숫자가 들어감\n",
    "str = \"나는 사과{0}개, 귤 {1}개가 있다\".format(5,3)\n",
    "print(str)\n",
    "str = \"나는 사과{num1}개, 귤 {num2}개가 있다\".format(num1 = 3, num2 = 5)\n",
    "print(str)\n",
    "str = \"원주율은 {0:0.3f}이고 반지름은 {1:0.3f}입니다\".format(3.141592, 2.1256) \n",
    "#:뒤는 format 3번째 짜리까지 반올림\n",
    "print(str)\n",
    "#천단위마다 \",\"출력\n",
    "num = 1234567899\n",
    "str = \"{0:,}\".format(num) #3자리마다\n",
    "print(str)\n",
    "#백분율 처리\n",
    "num = 0.87356\n",
    "str = \"{0:.2%}\".format(num) #소수점 둘째자리까지 백분율표시\n",
    "print(str)"
   ]
  },
  {
   "cell_type": "markdown",
   "metadata": {},
   "source": [
    "### List"
   ]
  },
  {
   "cell_type": "code",
   "execution_count": 55,
   "metadata": {},
   "outputs": [
    {
     "name": "stdout",
     "output_type": "stream",
     "text": [
      "<class 'list'>\n",
      "[1, 2, 3, 4]\n",
      "[35, 'Hello~!!', [True, 'Bye', 3.141592]]\n",
      "<class 'int'>\n",
      "<class 'list'>\n",
      "!!\n"
     ]
    }
   ],
   "source": [
    "# 3. 리스트 ( List ) => Java ArrayList\n",
    "# python의 자료구조\n",
    "# List ( 기본 python에는 배열이 없음 (library를 사용하지 않는 순수 python))\n",
    "# Java의 ArrayList와 상당히 유사\n",
    "# 임의의 객체를 순서대로 저장하는 집합 자료형 (index)\n",
    "# 표현방법은 [ ] 를 이용 ( 대괄호 )\n",
    "my_list = list() # list() 내장함수를 이용해서 list 생성\n",
    "print(type(my_list)) # type() 내장함수를 이용해서 데이터 타입확인\n",
    "my_list = [1,2,3,4]\n",
    "print(my_list) \n",
    "# list는 배열이 아님 -> 각 요소가 다른 데이터 타입을 가질 수 있음\n",
    "my_list = [35,\"Hello~!!\",[True,\"Bye\",3.141592]]\n",
    "print(my_list)\n",
    "print(type(my_list[0]))\n",
    "print(type(my_list[0:1])) # list 형식으로 slicing\n",
    "# !! 두개만 출력하기 위해서는\n",
    "print(my_list[1][6:])\n"
   ]
  },
  {
   "cell_type": "markdown",
   "metadata": {},
   "source": [
    "### range"
   ]
  },
  {
   "cell_type": "code",
   "execution_count": 56,
   "metadata": {},
   "outputs": [
    {
     "name": "stdout",
     "output_type": "stream",
     "text": [
      "range(0, 10)\n",
      "<class 'range'>\n",
      "<class 'range'>\n",
      "<class 'int'>\n",
      "[0, 1, 2, 3, 4, 5, 6, 7, 8, 9]\n",
      "[0, 1, 2]\n",
      "[1, 4, 7]\n",
      "<class 'range'>\n"
     ]
    }
   ],
   "source": [
    "#list와 같이 많이 사용되는 내장 함수 range() \n",
    "my_range = range(10) # 0부터 9까지 1씩 증가하는 range라는 영역을 갖는 객체\n",
    "print(my_range)\n",
    "print(type(my_range))\n",
    "print(type(my_range[0:3]))\n",
    "print(type(my_range[1]))\n",
    "my_list = list(my_range)\n",
    "print(my_list)\n",
    "my_list = list(my_range[0:3])\n",
    "print(my_list)\n",
    "my_range = range(1,10,3) # 3씩 증가하는 range\n",
    "print(list(my_range))\n",
    "my_list = []\n",
    "my_list = my_range\n",
    "print(type(my_list))"
   ]
  },
  {
   "cell_type": "markdown",
   "metadata": {},
   "source": [
    "### List의 기본 연산"
   ]
  },
  {
   "cell_type": "code",
   "execution_count": 74,
   "metadata": {},
   "outputs": [
    {
     "name": "stdout",
     "output_type": "stream",
     "text": [
      "[1, 2, 3, 4, 5, 6]\n",
      "[1, 2, 3, 1, 2, 3, 1, 2, 3]\n",
      "<class 'list'>\n",
      "[[9, 9, 9], 2, 3, 4, 5]\n",
      "[9, 9, 9, 2, 3, 4, 5]\n",
      "[5]\n",
      "[5]\n"
     ]
    }
   ],
   "source": [
    "# list의 기본 연산\n",
    "a = [1,2,3]\n",
    "b = [4,5,6]\n",
    "result = a + b # '+'연산은 concatenation(연결)\n",
    "print(result)\n",
    "print(a*3) # '*'연산은 concatenation\n",
    "\n",
    "#indexing 과 slicing은 다름\n",
    "a = [1,2,3,4,5]\n",
    "a[0] = [9,9,9]\n",
    "print(type(a[0]))\n",
    "print(a)\n",
    "a = [1,2,3,4,5]\n",
    "# 값이 하나뿐이지만 영역으로 잡히고 그 영역안에 리스트가 들어감\n",
    "a[0:1] = [9,9,9] \n",
    "print(a)\n",
    "a = [1,2,3,4,5]\n",
    "a[0:-1] = [] # list안의 요소를 삭제\n",
    "print(a)\n",
    "# 혹은 del 키워드 통해 삭제\n",
    "a = [1,2,3,4,5]\n",
    "del a[0:-1]\n",
    "print(a)"
   ]
  },
  {
   "cell_type": "markdown",
   "metadata": {},
   "source": [
    "### List - append / extend / sort / reverse"
   ]
  },
  {
   "cell_type": "code",
   "execution_count": 80,
   "metadata": {},
   "outputs": [
    {
     "name": "stdout",
     "output_type": "stream",
     "text": [
      "[1, 2, 3, 4]\n",
      "[1, 2, 3, 4, [9, 9, 9]]\n",
      "[1, 2, 3, 4, [9, 9, 9], 9, 9, 9]\n",
      "None\n",
      "[2, 4, 5, 7, 8, 9]\n",
      "[9, 8, 7, 5, 4, 2]\n"
     ]
    }
   ],
   "source": [
    "# list가 가지고 있는 함수들\n",
    "my_list = [1,2,3]\n",
    "# append / extend\n",
    "my_list.append(4) # list의 마지막 요소에 추가\n",
    "print(my_list)\n",
    "my_list.append([9,9,9])\n",
    "print(my_list)\n",
    "my_list.extend([9,9,9]) # list를 확장시킬 때 사용\n",
    "print(my_list)\n",
    "# sort / reverse\n",
    "my_list = [5,8,2,9,4,7]\n",
    "result = my_list.sort() # 오름차순 정렬\n",
    "print(result) # sorting된 결과를 return하지 않음\n",
    "print(my_list) # 원본이 정렬됨\n",
    "#list요소 역순으로 배치, 마찬가지로 리턴하지 않고 원본 변경\n",
    "my_list.reverse()\n",
    "print(my_list)\n"
   ]
  },
  {
   "cell_type": "markdown",
   "metadata": {},
   "source": [
    "### List - index / insert / remove / pop"
   ]
  },
  {
   "cell_type": "code",
   "execution_count": 108,
   "metadata": {},
   "outputs": [
    {
     "name": "stdout",
     "output_type": "stream",
     "text": [
      "3\n",
      "[1, 100, 2, 3, 1, 2, 3]\n",
      "[1, 100, 2, 1, 2, 3]\n",
      "3\n",
      "[1, 2]\n"
     ]
    }
   ],
   "source": [
    "# list가 가지고 있는 함수들\n",
    "# index\n",
    "my_list = [5,8,2,9,4,7]\n",
    "# 위치를 알아내는 함수\n",
    "print(my_list.index(9))\n",
    "\n",
    "a = [1,2,3,1,2,3]\n",
    "# insert 원하는 위치에 삽입\n",
    "a.insert(1,100)\n",
    "print(a)\n",
    "# remove 처음 발견된 것만 삭제\n",
    "a.remove(3)\n",
    "print(a)\n",
    "# pop 맨 끝의 요소를 뜯어 옴\n",
    "# 원본또한 바뀜\n",
    "a = [1,2,3]\n",
    "print(a.pop())\n",
    "print(a)"
   ]
  },
  {
   "cell_type": "markdown",
   "metadata": {},
   "source": [
    "### Reference type"
   ]
  },
  {
   "cell_type": "code",
   "execution_count": 187,
   "metadata": {},
   "outputs": [
    {
     "name": "stdout",
     "output_type": "stream",
     "text": [
      "89349512\n",
      "89349512\n",
      "True\n",
      "False\n",
      "True\n",
      "False\n"
     ]
    }
   ],
   "source": [
    "a = [1,2,3] # [1,2,3] => list 객체\n",
    "# heap 영역에 저장 list객체의 시작 메모리주소는 a가 갖고 있음\n",
    "# a라는 변수의 역할은 객체가 어디에있는지 레퍼런싱\n",
    "# a = reference variable\n",
    "print(id(a))\n",
    "# id() 내장함수 reference 값을 알아내는 함수\n",
    "# 메모리주소가 같다는건 같은 변수\n",
    "b = a\n",
    "print(id(b)) #a와 b가 같은 객체를 가르킴(reference)\n",
    "print(a is b) #reference 비교는 equal대신 is 사용\n",
    "\n",
    "\n",
    "b = a[:] # a와 b가 서로 다른 객체 reference\n",
    "# slicing하게 되면 다른 메모리에 위치하게 됨\n",
    "print(a is b)\n",
    "#equal은 값이 같은지 보는것\n",
    "print(a == b)\n",
    "\n",
    "from copy import copy\n",
    "a = [1,2,3]\n",
    "b = copy(a)\n",
    "# 값만 복사하기때문에 서로 다른 객체 reference\n",
    "print(a is b)"
   ]
  },
  {
   "cell_type": "markdown",
   "metadata": {},
   "source": [
    "### Tuple"
   ]
  },
  {
   "cell_type": "code",
   "execution_count": 214,
   "metadata": {},
   "outputs": [
    {
     "name": "stdout",
     "output_type": "stream",
     "text": [
      "(1, 2)\n",
      "<class 'tuple'>\n",
      "<class 'int'>\n",
      "<class 'tuple'>\n",
      "2\n",
      "<class 'tuple'>\n",
      "(1, 2, 3, 4, 5, 6, 9, 9, 9)\n"
     ]
    }
   ],
   "source": [
    "# 4. 튜플 ( tuple )\n",
    "# list와 거의 유사하지만 () => 소괄호 사용\n",
    "# 가장 큰 차이\n",
    "# list는 list안의 값의 수정과 삭제가 가능하지만\n",
    "# tuple은 tuple안의 값의 수정과 삭제가 불가능\n",
    "my_tuple = (1,2,3) # tuple의 literal \n",
    "print(my_tuple[0:2])\n",
    "print(type(my_tuple))\n",
    "my_tuple = (1) \n",
    "print(type(my_tuple)) # 정수로 간주하기때문에\n",
    "#원소가 1개있는 튜플의 literal은 뒤에 ',' 를 붙여줌\n",
    "my_tuple = (1,)\n",
    "print(type(my_tuple))\n",
    "\n",
    "my_tuple = 1,2,3,4,5,6\n",
    "print(my_tuple[1])\n",
    "#tuple에 대한 slicing 그 결과도 tuple\n",
    "print(type(my_tuple[1:3]))\n",
    "# concetination 연산이나 곱하기연산으로 확장하는건 가능\n",
    "result = my_tuple + (9,9,9)\n",
    "# tuple 자체가 변경이되는건 아님\n",
    "print(result)\n"
   ]
  },
  {
   "cell_type": "markdown",
   "metadata": {},
   "source": [
    "### tuple의 소괄호 생략"
   ]
  },
  {
   "cell_type": "code",
   "execution_count": 209,
   "metadata": {},
   "outputs": [
    {
     "name": "stdout",
     "output_type": "stream",
     "text": [
      "(1, 3.141592, 'Hello')\n",
      "<class 'tuple'>\n",
      "<class 'tuple'>\n",
      "10 20\n"
     ]
    }
   ],
   "source": [
    "# tuple은 소괄호를 생략할 수 있음\n",
    "my_tuple = 1,3.141592,\"Hello\"\n",
    "print(my_tuple)\n",
    "print(type(my_tuple))\n",
    "my_tuple = 1,\n",
    "print(type(my_tuple))\n",
    "a, b = 10,20 # 이 것은 사실 tuple -> 원래 표현은\n",
    "(a,b) = (10, 20)\n",
    "print(a,b)"
   ]
  },
  {
   "cell_type": "markdown",
   "metadata": {},
   "source": [
    "### list와 tuple간의 변환"
   ]
  },
  {
   "cell_type": "code",
   "execution_count": 216,
   "metadata": {},
   "outputs": [
    {
     "name": "stdout",
     "output_type": "stream",
     "text": [
      "(1, 2, 3)\n",
      "['Hello', 'world', '!!']\n"
     ]
    }
   ],
   "source": [
    "my_list = [1,2,3]\n",
    "my_tuple = tuple(my_list)\n",
    "print(my_tuple)\n",
    "\n",
    "my_tuple = (\"Hello\", \"world\", \"!!\")\n",
    "my_list = list(my_tuple)\n",
    "print(my_list)"
   ]
  },
  {
   "cell_type": "markdown",
   "metadata": {},
   "source": [
    "### Dictionary"
   ]
  },
  {
   "cell_type": "code",
   "execution_count": 270,
   "metadata": {},
   "outputs": [
    {
     "name": "stdout",
     "output_type": "stream",
     "text": [
      "<class 'dict'>\n",
      "{'name': '홍길동', 'address': '서울', 'age': 50}\n",
      "{'name': '홍길동', 'age': 50}\n",
      "{'name': '홍길동', 'age': 40}\n"
     ]
    }
   ],
   "source": [
    "# 5. 딕셔너리 ( dictionary ) => Java Map\n",
    "# dictionary는 {}로 표현하고 key와 value의 쌍으로 표현\n",
    "# 앞의 list나 tuple과는 다르게 순서가 없음\n",
    "# literal의 형태가 => 'JSON'처럼 생김\n",
    "my_dict = {\"name\":\"홍길동\", \"address\":\"서울\"}\n",
    "print(type(my_dict))\n",
    "# 내부 자료구조는 배열로 구성되어있어서 배열 처럼 사용\n",
    "my_dict[\"name\"]\n",
    "# 없는 값은 추가해줌\n",
    "my_dict[\"age\"] = 50\n",
    "print(my_dict)\n",
    "# key 삭제\n",
    "del my_dict[\"address\"]\n",
    "print(my_dict)\n",
    "# key는 중복될 수 없고 하나는 무시하게됨\n",
    "# dictionary는 순서가 없기 때문에 어떤걸 무시할지는 모름\n",
    "my_dict = {\"name\":\"홍길동\",\"age\":20, \"age\":40}\n",
    "print(my_dict)\n"
   ]
  },
  {
   "cell_type": "code",
   "execution_count": 275,
   "metadata": {},
   "outputs": [
    {
     "data": {
      "text/plain": [
       "dict_keys"
      ]
     },
     "execution_count": 275,
     "metadata": {},
     "output_type": "execute_result"
    }
   ],
   "source": [
    "type(my_dict.keys())"
   ]
  },
  {
   "cell_type": "markdown",
   "metadata": {},
   "source": [
    "### dictinoary의 일반적인 사용법 - 3가지 method를 이용해서 사용"
   ]
  },
  {
   "cell_type": "code",
   "execution_count": 273,
   "metadata": {},
   "outputs": [
    {
     "name": "stdout",
     "output_type": "stream",
     "text": [
      "dict_keys(['name', 'age'])\n",
      "<class 'dict_keys'>\n",
      "name\n",
      "age\n",
      "홍길동\n",
      "40\n",
      "('name', '홍길동')\n",
      "('age', 40)\n"
     ]
    }
   ],
   "source": [
    "print(my_dict.keys())\n",
    "# => 실제로 list type은 아님 => dict_keys type\n",
    "# list와 상당히 유사\n",
    "print(type(my_dict.keys()))\n",
    "# keys() => dictionary 의 key들을 list로 return\n",
    "for tmp in my_dict.keys():\n",
    "    print(\"{}\".format(tmp))\n",
    "# values() => dictionary 의 values들을 추출\n",
    "for tmp in my_dict.values():\n",
    "    print(\"{}\".format(tmp))\n",
    "# itmes() => dictionary 의 (key,value)추출\n",
    "for tmp in my_dict.items():\n",
    "    print(\"{}\".format(tmp))\n",
    "    "
   ]
  },
  {
   "cell_type": "markdown",
   "metadata": {},
   "source": [
    "### dictionary에서 값 추출 - 2가지 방식"
   ]
  },
  {
   "cell_type": "code",
   "execution_count": 261,
   "metadata": {},
   "outputs": [
    {
     "name": "stdout",
     "output_type": "stream",
     "text": [
      "홍길동\n",
      "홍길동\n",
      "default name\n",
      "True\n",
      "{}\n"
     ]
    }
   ],
   "source": [
    "my_dict = {\"name\":\"홍길동\", \"age\":20, \"address\":\"서울\"}\n",
    "print(my_dict[\"name\"]) # 홍길동\n",
    "print(my_dict.get(\"name\")) # 함수를 이용해서 사용\n",
    "print(my_dict.get(\"name1\", \"default name\")) # 값이 없으면 default 값 지정 가능\n",
    "print(\"age\" in my_dict) # dictionary key 중 내가 찾고자 하는게 있는지\n",
    "my_dict.clear() # 모두 삭제\n",
    "print(my_dict)"
   ]
  },
  {
   "cell_type": "markdown",
   "metadata": {},
   "source": [
    "### Set"
   ]
  },
  {
   "cell_type": "code",
   "execution_count": 9,
   "metadata": {},
   "outputs": [
    {
     "name": "stdout",
     "output_type": "stream",
     "text": [
      "3\n",
      "{1, 2, 3}\n",
      "<class 'set'>\n",
      "{'o', 'H', 'e', 'l'}\n"
     ]
    }
   ],
   "source": [
    "# 6. 집합 ( Set ) => Java Set\n",
    "# { } : 중괄호를 이용해서 set 표현\n",
    "# { 1,5,8,\"Hello\"} key-value 쌍이 아닌 구조\n",
    "# 중복을 배제, 순서가 없는 집합형 자료구조\n",
    "s = set()\n",
    "s = {1,2,2,3}\n",
    "# list를 이용해서 set을 만들 수 있음 위와 같음 \n",
    "s = set([1,2,2,3])\n",
    "print(len(s))\n",
    "print(s)\n",
    "print(type(s))\n",
    "s = set(\"Hello\")\n",
    "print(s)"
   ]
  },
  {
   "cell_type": "markdown",
   "metadata": {},
   "source": [
    "### Set - intersection / union / difference"
   ]
  },
  {
   "cell_type": "code",
   "execution_count": 374,
   "metadata": {},
   "outputs": [
    {
     "name": "stdout",
     "output_type": "stream",
     "text": [
      "{3, 4, 5, 6}\n",
      "{1, 2, 3, 4, 5, 6, 7, 8, 9}\n",
      "{1, 2}\n"
     ]
    }
   ],
   "source": [
    "s1 = {1,2,3,4,5,6}\n",
    "s2 = {3,4,5,6,7,8,9}\n",
    "# 집합연산의 교집합\n",
    "s3  = s1 & s2 # s1 과 s2의 교집합\n",
    "s3 = s1.intersection(s2) # s1 과 s2의 교집합\n",
    "print(s3)\n",
    "s3 = s1 | s2 # s1 과 s2의 합집합\n",
    "s3 = s1.union(s2) # s1 과 s2의 합집합\n",
    "print(s3)\n",
    "s3 = s1 - s2 # s1 - s2 차집합\n",
    "s3 = s1.difference(s2) # s1 - s2 차집합\n",
    "print(s3)"
   ]
  },
  {
   "cell_type": "markdown",
   "metadata": {},
   "source": [
    "### Set - add / update / remove"
   ]
  },
  {
   "cell_type": "code",
   "execution_count": 373,
   "metadata": {},
   "outputs": [
    {
     "name": "stdout",
     "output_type": "stream",
     "text": [
      "{1, 2, 3, 40, 10, 20}\n"
     ]
    }
   ],
   "source": [
    "s = {1,2,3}\n",
    "s.add(10) # set에 요소1개를 추가\n",
    "s.update([10,20,30,40]) # set에 요소 여러개를 추가\n",
    "# list형태로 인자를 줘야함\n",
    "s.remove(30) #삭제\n",
    "print(s)"
   ]
  },
  {
   "cell_type": "markdown",
   "metadata": {},
   "source": [
    "### bool"
   ]
  },
  {
   "cell_type": "code",
   "execution_count": 383,
   "metadata": {},
   "outputs": [
    {
     "name": "stdout",
     "output_type": "stream",
     "text": [
      "False\n",
      "False\n",
      "False\n"
     ]
    }
   ],
   "source": [
    "# 빈 문자열 (\"\") => False로 간주 \"2aa\" => True\n",
    "# 빈 list( [] ) => False로 간주 뭐라도 있으면 True\n",
    "# 빈 tuple( () ), 빈 dict( { } ) => False 뭐라도 있으면 True\n",
    "# 숫자 0은 False 나머지 숫자는 True\n",
    "# None => False로 간주\n",
    "print(bool(\"\"))\n",
    "print(bool([]))\n",
    "print(bool(None))"
   ]
  },
  {
   "cell_type": "markdown",
   "metadata": {},
   "source": [
    "### if문의 형식"
   ]
  },
  {
   "cell_type": "code",
   "execution_count": 385,
   "metadata": {},
   "outputs": [
    {
     "name": "stdout",
     "output_type": "stream",
     "text": [
      "부산은 있음\n"
     ]
    }
   ],
   "source": [
    "area = [\"서울\", \"인천\", \"부산\"]\n",
    "if \"제주\" in  area:\n",
    "    pass\n",
    "#else if\n",
    "elif \"부산\" in area:\n",
    "    print(\"부산은 있음\")\n",
    "else:\n",
    "    print(\"부산은 없음\")"
   ]
  },
  {
   "cell_type": "markdown",
   "metadata": {},
   "source": [
    "### input"
   ]
  },
  {
   "cell_type": "code",
   "execution_count": 387,
   "metadata": {},
   "outputs": [
    {
     "name": "stdout",
     "output_type": "stream",
     "text": [
      "사용자 입력 : 19 02 13 2 26\n"
     ]
    }
   ],
   "source": [
    "a = input(\"사용자 입력 : \")\n",
    "# 입력받은 내용은 무조건 문자열로 처리"
   ]
  },
  {
   "cell_type": "markdown",
   "metadata": {},
   "source": [
    "### 1~46난수 중복없이 발생 - Set 사용"
   ]
  },
  {
   "cell_type": "code",
   "execution_count": 7,
   "metadata": {},
   "outputs": [
    {
     "name": "stdout",
     "output_type": "stream",
     "text": [
      "lotto_set : {34, 39, 10, 46, 15, 20}\n",
      "로또 번호 6개 중복없이 ','를 구분자로 입력 : 34,39,10,46,15,3\n",
      "user_num : {34, 3, 39, 10, 46, 15}\n",
      "lotto_set : {34, 39, 10, 46, 15, 20}\n",
      "user num : {34, 3, 39, 10, 46, 15}\n",
      "len(hitnum): 5\n",
      "2등\n"
     ]
    }
   ],
   "source": [
    "import random\n",
    "\n",
    "lotto_set = set()\n",
    "while len(lotto_set) != 6:\n",
    "    lotto_set.add(random.randint(1,47))\n",
    "    \n",
    "# 로또 번호 출력\n",
    "print(\"lotto_set : {}\".format(lotto_set))\n",
    "\n",
    "user_input = input(\"로또 번호 6개 중복없이 ','를 구분자로 입력 : \")\n",
    "user_input_list = user_input.split(\",\")\n",
    "# \",\"로 구분 하고 새로운 리스트에 int로 변환해서 넣어줌\n",
    "num_list = []\n",
    "for x in user_input_list:\n",
    "    num_list.append(int(x))\n",
    "user_num = set(num_list)\n",
    "#로또번호와 사용자입력의 교집합 개수\n",
    "hitnum = len(user_num & lotto_set)\n",
    "\n",
    "print(\"user_num : {}\".format(user_num))\n",
    "print(\"lotto_set : {}\".format(lotto_set))      \n",
    "print(\"user num : {}\\nlen(hitnum): {}\".format(user_num, hitnum))\n",
    "if hitnum == 6:\n",
    "    print(\"1등\")\n",
    "elif hitnum == 5:\n",
    "    print(\"2등\")\n",
    "elif hitnum == 4:\n",
    "    print(\"3등\")\n",
    "else:\n",
    "    print(\"꽝\")\n",
    "\n",
    "    "
   ]
  },
  {
   "cell_type": "markdown",
   "metadata": {},
   "source": [
    "### 1 ~ 46까지의 수를 랜덤으로 발생\n",
    "#### 입력으로 6개의 수를 \",\"를 구분으로 입력받고 당첨확인"
   ]
  },
  {
   "cell_type": "code",
   "execution_count": 349,
   "metadata": {},
   "outputs": [],
   "source": [
    "import random\n",
    "def lotto(lotto_max):\n",
    "    lotto = []\n",
    "    count = 0\n",
    "    while True:\n",
    "        random_num = random.randrange(0,lotto_max)\n",
    "        if random_num not in lotto:\n",
    "            lotto.append(random_num)\n",
    "            count += 1\n",
    "        if count == 6:\n",
    "            break\n",
    "    return lotto\n",
    "def input_lottonum():\n",
    "    print(\"중복되지않는 숫자6개를 입력\")\n",
    "    lotto_num = input()\n",
    "    f_lotto_num = lotto_num.split(\",\")\n",
    "    if len(f_lotto_num) != 6:\n",
    "        print(\"숫자는 6개 입력\")\n",
    "        return 0\n",
    "    for tmp in range(0, len(f_lotto_num)):\n",
    "        if f_lotto_num[tmp] in f_lotto_num[tmp+1:]:\n",
    "            print(\"중복 입력은 안됨\")\n",
    "            return 0\n",
    "        \n",
    "    return f_lotto_num"
   ]
  },
  {
   "cell_type": "code",
   "execution_count": 350,
   "metadata": {},
   "outputs": [
    {
     "data": {
      "text/plain": [
       "[32, 25, 30, 7, 37, 17]"
      ]
     },
     "execution_count": 350,
     "metadata": {},
     "output_type": "execute_result"
    }
   ],
   "source": [
    "lotto(46)\n",
    "\n"
   ]
  },
  {
   "cell_type": "markdown",
   "metadata": {},
   "source": [
    "### date"
   ]
  },
  {
   "cell_type": "code",
   "execution_count": 60,
   "metadata": {},
   "outputs": [
    {
     "name": "stdout",
     "output_type": "stream",
     "text": [
      "<class 'datetime.date'>\n",
      "2019-02-13\n",
      "연도 : 2019, 월 : 2, 일 : 13\n",
      "2019-02-13 15:42:28.228930\n"
     ]
    }
   ],
   "source": [
    "# 8. 날짜 ( date )\n",
    "from datetime import date, datetime\n",
    "\n",
    "today = date.today()\n",
    "print(type(today))\n",
    "print(today)\n",
    "\n",
    "print(\"연도 : {}, 월 : {}, 일 : {}\"\\\n",
    "      .format(today.year, today.month, today.day))\n",
    "# 시간까지 필요하면 datetime\n",
    "today = datetime.today()\n",
    "print(today)"
   ]
  },
  {
   "cell_type": "markdown",
   "metadata": {},
   "source": [
    "### 날짜 연산"
   ]
  },
  {
   "cell_type": "code",
   "execution_count": 69,
   "metadata": {},
   "outputs": [
    {
     "name": "stdout",
     "output_type": "stream",
     "text": [
      "2019-02-12\n",
      "2019-02-13 09:13:40.890041\n",
      "2018-12-13 16:13:40.890041\n",
      "2014-02-13 16:13:40.890041\n"
     ]
    }
   ],
   "source": [
    "from datetime import date, datetime, timedelta\n",
    "\n",
    "today = date.today()\n",
    "# 차이를 지정해줌\n",
    "# 일자를 기준으로 -1(즉, 하루전)\n",
    "days = timedelta(days=-1)\n",
    "print(today + days)\n",
    "# days, hours, minutes, seconds, weeks\n",
    "days = timedelta(hours=-7)\n",
    "today = datetime.today()\n",
    "print(today+days)\n",
    "# years, months는 relativedelta라는 별도의 패키지\n",
    "# 월단위나 년단위 계산은 조금 다르기 때문에\n",
    "from dateutil.relativedelta import relativedelta\n",
    "month = relativedelta(months=-2)\n",
    "print(today+month)\n",
    "year = relativedelta(years=-5)\n",
    "print(today+year)"
   ]
  },
  {
   "cell_type": "markdown",
   "metadata": {},
   "source": [
    "### 날짜 formatting"
   ]
  },
  {
   "cell_type": "code",
   "execution_count": 77,
   "metadata": {},
   "outputs": [
    {
     "name": "stdout",
     "output_type": "stream",
     "text": [
      "현재 시간은 : 2019-02-13- 16.21.01\n"
     ]
    }
   ],
   "source": [
    "from datetime import datetime\n",
    "\n",
    "today = datetime.today()\n",
    "#string format time 통해 포맷을 지정함\n",
    "print(\"현재 시간은 : {}\".format(today.strftime(\"%Y-%m-%d- %H.%M.%S\")))"
   ]
  },
  {
   "cell_type": "markdown",
   "metadata": {},
   "source": [
    "### print 함수의 특징\n"
   ]
  },
  {
   "cell_type": "code",
   "execution_count": 79,
   "metadata": {},
   "outputs": [
    {
     "name": "stdout",
     "output_type": "stream",
     "text": [
      "이것은 소리없는\n",
      "아우성\n"
     ]
    }
   ],
   "source": [
    "# end가 없으면 줄바꿈, end가 있으면 지정된 문자\n",
    "print(\"이것은\", end =\" \")\n",
    "print(\"소리없는\")\n",
    "print(\"아우성\")"
   ]
  },
  {
   "cell_type": "code",
   "execution_count": null,
   "metadata": {},
   "outputs": [],
   "source": []
  },
  {
   "cell_type": "code",
   "execution_count": null,
   "metadata": {},
   "outputs": [],
   "source": []
  },
  {
   "cell_type": "code",
   "execution_count": null,
   "metadata": {},
   "outputs": [],
   "source": []
  },
  {
   "cell_type": "code",
   "execution_count": null,
   "metadata": {},
   "outputs": [],
   "source": []
  },
  {
   "cell_type": "code",
   "execution_count": null,
   "metadata": {},
   "outputs": [],
   "source": []
  },
  {
   "cell_type": "code",
   "execution_count": null,
   "metadata": {},
   "outputs": [],
   "source": []
  },
  {
   "cell_type": "code",
   "execution_count": null,
   "metadata": {},
   "outputs": [],
   "source": []
  },
  {
   "cell_type": "code",
   "execution_count": null,
   "metadata": {},
   "outputs": [],
   "source": []
  },
  {
   "cell_type": "code",
   "execution_count": null,
   "metadata": {},
   "outputs": [],
   "source": []
  },
  {
   "cell_type": "code",
   "execution_count": null,
   "metadata": {},
   "outputs": [],
   "source": []
  },
  {
   "cell_type": "code",
   "execution_count": null,
   "metadata": {},
   "outputs": [],
   "source": []
  },
  {
   "cell_type": "code",
   "execution_count": null,
   "metadata": {},
   "outputs": [],
   "source": []
  },
  {
   "cell_type": "code",
   "execution_count": null,
   "metadata": {},
   "outputs": [],
   "source": []
  },
  {
   "cell_type": "code",
   "execution_count": null,
   "metadata": {},
   "outputs": [],
   "source": []
  },
  {
   "cell_type": "code",
   "execution_count": null,
   "metadata": {},
   "outputs": [],
   "source": []
  },
  {
   "cell_type": "code",
   "execution_count": null,
   "metadata": {},
   "outputs": [],
   "source": []
  },
  {
   "cell_type": "code",
   "execution_count": null,
   "metadata": {},
   "outputs": [],
   "source": []
  },
  {
   "cell_type": "code",
   "execution_count": null,
   "metadata": {},
   "outputs": [],
   "source": []
  },
  {
   "cell_type": "code",
   "execution_count": null,
   "metadata": {},
   "outputs": [],
   "source": []
  },
  {
   "cell_type": "code",
   "execution_count": null,
   "metadata": {},
   "outputs": [],
   "source": []
  }
 ],
 "metadata": {
  "kernelspec": {
   "display_name": "data_env",
   "language": "python",
   "name": "data_env"
  },
  "language_info": {
   "codemirror_mode": {
    "name": "ipython",
    "version": 3
   },
   "file_extension": ".py",
   "mimetype": "text/x-python",
   "name": "python",
   "nbconvert_exporter": "python",
   "pygments_lexer": "ipython3",
   "version": "3.6.6"
  }
 },
 "nbformat": 4,
 "nbformat_minor": 2
}
