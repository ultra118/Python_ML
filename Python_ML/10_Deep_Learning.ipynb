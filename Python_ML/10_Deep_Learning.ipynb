{
 "cells": [
  {
   "cell_type": "markdown",
   "metadata": {},
   "source": [
    "### AND 연산과 OR연산 학습이 가능한지"
   ]
  },
  {
   "cell_type": "code",
   "execution_count": 8,
   "metadata": {},
   "outputs": [
    {
     "name": "stdout",
     "output_type": "stream",
     "text": [
      "cost : 1.1717188358306885, W : [[-2.1944666]\n",
      " [-1.1163056]]\n",
      "cost : 0.3871822953224182, W : [[0.7348619]\n",
      " [1.0511891]]\n",
      "cost : 0.25197702646255493, W : [[1.7701083]\n",
      " [1.8644004]]\n",
      "cost : 0.18956831097602844, W : [[2.4184332]\n",
      " [2.4519506]]\n",
      "cost : 0.15224851667881012, W : [[2.9028447]\n",
      " [2.916587 ]]\n",
      "cost : 0.12711101770401, W : [[3.2946079]\n",
      " [3.3009164]]\n",
      "accuracy : 1.0\n",
      "[[0.]]\n"
     ]
    }
   ],
   "source": [
    "import tensorflow as tf\n",
    "import numpy as np\n",
    "# AND\n",
    "x_data = np.array([[0,0],[0,1],[1,0],[1,1]])\n",
    "y_data = np.array([[0],[0],[0],[1]])\n",
    "# OR\n",
    "# y_data = np.array([[0],[1],[1],[1]])\n",
    "# XOR\n",
    "# y_data = np.array([[0],[1],[1],[0]])\n",
    "\n",
    "# Logistic Regression\n",
    "X = tf.placeholder(shape=[None,2], dtype = tf.float32)\n",
    "Y = tf.placeholder(shape=[None,1], dtype = tf.float32)\n",
    "\n",
    "W = tf.Variable(tf.random_normal([2,1]), dtype = tf.float32)\n",
    "b = tf.Variable(tf.random_normal([1,]), dtype = tf.float32)\n",
    "\n",
    "logit= tf.matmul(X,W) + b\n",
    "H = tf.sigmoid(logit)\n",
    "\n",
    "cost = tf.reduce_mean(tf.nn.sigmoid_cross_entropy_with_logits(logits = logit, labels = Y))\n",
    "train = tf.train.GradientDescentOptimizer(learning_rate=0.05).minimize(cost)\n",
    "\n",
    "sess = tf.Session()\n",
    "sess.run(tf.global_variables_initializer())\n",
    "\n",
    "for step in range(3000):\n",
    "    _, cost_value, weight_value = sess.run([train,cost,W], feed_dict={X:x_data, Y:y_data})\n",
    "    if step % 500 == 0:\n",
    "        print(\"cost : {}, W : {}\".format(cost_value, weight_value))\n",
    "\n",
    "        \n",
    "predict = tf.cast(H>0.5, dtype = tf.float32)        \n",
    "correct = tf.equal(predict, Y)\n",
    "accuracy = tf.reduce_mean(tf.cast(correct, dtype = tf.float32))\n",
    "\n",
    "print(\"accuracy : {}\".format(sess.run(accuracy, feed_dict={X:x_data, Y:y_data})))\n",
    "print(\"{}\".format(sess.run(predict, feed_dict={X:[[1,0]]})))\n",
    "\n"
   ]
  },
  {
   "cell_type": "markdown",
   "metadata": {},
   "source": [
    "### Multiple layer를 이용한 XOR문제 해결"
   ]
  },
  {
   "cell_type": "markdown",
   "metadata": {},
   "source": [
    "![image](https://user-images.githubusercontent.com/28910538/53850029-4d706c80-3ffd-11e9-84d1-36fbe636a08c.png)\n"
   ]
  },
  {
   "cell_type": "markdown",
   "metadata": {},
   "source": [
    "![image](https://user-images.githubusercontent.com/28910538/53849515-7d1e7500-3ffb-11e9-8064-ddb6f9436943.png)\n"
   ]
  },
  {
   "cell_type": "code",
   "execution_count": 17,
   "metadata": {},
   "outputs": [
    {
     "name": "stdout",
     "output_type": "stream",
     "text": [
      "cost : 1.6183271408081055, W : [[-0.99545586]\n",
      " [-0.61006016]]\n",
      "cost : 0.0008342807414010167, W : [[-0.99545586]\n",
      " [-0.61006016]]\n",
      "cost : 0.00045081679127179086, W : [[-0.99545586]\n",
      " [-0.61006016]]\n",
      "cost : 0.000311503914417699, W : [[-0.99545586]\n",
      " [-0.61006016]]\n",
      "cost : 0.00023920151579659432, W : [[-0.99545586]\n",
      " [-0.61006016]]\n",
      "accuracy : 1.0\n"
     ]
    }
   ],
   "source": [
    "import tensorflow as tf\n",
    "\n",
    "x_data = [[0,0],[0,1],[1,0],[1,1]]\n",
    "y_data = [[0],[1],[1],[0]]\n",
    "\n",
    "X = tf.placeholder(shape = [None, 2], dtype = tf.float32)\n",
    "Y = tf.placeholder(shape = [None, 1], dtype = tf.float32)\n",
    "# Weight & bias\n",
    "W1 = tf.Variable(tf.random_normal([2,256]), dtype= tf.float32, name = \"weight1\")\n",
    "b1 = tf.Variable(tf.random_normal([256]), dtype= tf.float32, name = \"bias1\")\n",
    "layer1 = tf.sigmoid(tf.matmul(X,W1) + b1)\n",
    "\n",
    "W2 = tf.Variable(tf.random_normal([256,512]), dtype= tf.float32, name = \"weight2\")\n",
    "b2 = tf.Variable(tf.random_normal([512]), dtype= tf.float32, name = \"bias2\")\n",
    "layer2 = tf.sigmoid(tf.matmul(layer1, W2) + b2)\n",
    "\n",
    "\n",
    "W3 = tf.Variable(tf.random_normal([512,1]), dtype=tf.float32, name = \"weight3\")\n",
    "b3 = tf.Variable(tf.random_normal([1]), dtype=tf.float32, name = \"bias3\")\n",
    "# Hpyothesis\n",
    "logit = tf.matmul(layer2, W3) + b3\n",
    "H = tf.sigmoid(logit)\n",
    "\n",
    "cost = tf.reduce_mean(tf.nn.sigmoid_cross_entropy_with_logits(logits = logit, labels = Y))\n",
    "train = tf.train.GradientDescentOptimizer(learning_rate=0.05).minimize(cost)\n",
    "\n",
    "sess = tf.Session()\n",
    "sess.run(tf.global_variables_initializer())\n",
    "\n",
    "for step in range(10000):\n",
    "    _, cost_value, weight_value = sess.run([train, cost, W], feed_dict={X:x_data, Y:y_data})\n",
    "    if step % 2000 == 0:\n",
    "        print(\"cost : {}, W : {}\".format(cost_value, weight_value))\n",
    "        \n",
    "predict = tf.cast(H>0.5, dtype = tf.float32)\n",
    "correct = tf.equal(predict, Y)\n",
    "accuracy = tf.reduce_mean(tf.cast(correct, dtype = tf.float32))\n",
    "\n",
    "print(\"accuracy : {}\".format(sess.run(accuracy, feed_dict={X:x_data, Y:y_data})))\n"
   ]
  },
  {
   "cell_type": "code",
   "execution_count": 34,
   "metadata": {},
   "outputs": [
    {
     "name": "stdout",
     "output_type": "stream",
     "text": [
      "Extracting ./data/mnist\\train-images-idx3-ubyte.gz\n",
      "Extracting ./data/mnist\\train-labels-idx1-ubyte.gz\n",
      "Extracting ./data/mnist\\t10k-images-idx3-ubyte.gz\n",
      "Extracting ./data/mnist\\t10k-labels-idx1-ubyte.gz\n",
      "mnist.train.images.shape : (55000, 784), mnist.train.labels.shape : (55000, 10)\n",
      "cost : 1.4041918516159058\n",
      "cost : 0.3303096294403076\n",
      "cost : 0.2625373303890228\n",
      "cost : 0.12134835869073868\n",
      "cost : 0.1898123025894165\n",
      "cost : 0.3836968243122101\n",
      "cost : 0.1858980506658554\n",
      "cost : 0.08060447871685028\n",
      "cost : 0.03632713854312897\n",
      "cost : 0.02304166741669178\n",
      "accuracy : 0.9176999926567078\n"
     ]
    }
   ],
   "source": [
    "import tensorflow as tf\n",
    "from tensorflow.examples.tutorials.mnist import input_data\n",
    "import matplotlib\n",
    "import matplotlib.pyplot as plt\n",
    "import numpy as np\n",
    "\n",
    "mnist = input_data.read_data_sets(\"./data/mnist\", one_hot =True)\n",
    "\n",
    "print(\"mnist.train.images.shape : {}, mnist.train.labels.shape : {}\".format(mnist.train.images.shape, mnist.train.labels.shape))\n",
    "\n",
    "X = tf.placeholder(shape = [None, 784], dtype = tf.float32)\n",
    "Y = tf.placeholder(shape = [None, 10], dtype = tf.float32)\n",
    "\n",
    "W1 = tf.Variable(tf.random_normal([784, 256]), dtype = tf.float32, name = \"weight1\")\n",
    "b1 = tf.Variable(tf.random_normal([256]), dtype = tf.float32, name = \"bias1\")\n",
    "h_layer1 = tf.sigmoid(tf.matmul(X,W1) + b1)\n",
    "\n",
    "W2 = tf.Variable(tf.random_normal([256, 512]), dtype = tf.float32, name = \"weight2\")\n",
    "b2 = tf.Variable(tf.random_normal([512]), dtype = tf.float32, name = \"bias2\")\n",
    "h_layer2 = tf.sigmoid(tf.matmul(h_layer1,W2) + b2)\n",
    "\n",
    "W3 = tf.Variable(tf.random_normal([512, 10]), dtype = tf.float32, name = \"weight3\")\n",
    "b3 = tf.Variable(tf.random_normal([10]), dtype = tf.float32, name = \"bias3\")\n",
    "logit = tf.matmul(h_layer2, W3) + b3\n",
    "H = tf.nn.softmax(logit)\n",
    "\n",
    "cost = tf.reduce_mean(tf.nn.softmax_cross_entropy_with_logits_v2(logits= logit, labels= Y))\n",
    "train = tf.train.GradientDescentOptimizer(learning_rate=0.1).minimize(cost)\n",
    "\n",
    "sess = tf.Session()\n",
    "sess.run(tf.global_variables_initializer())\n",
    "\n",
    "train_epoch = 30\n",
    "batch_size = 100\n",
    "\n",
    "for step in range(train_epoch):\n",
    "    num_of_iter = int(mnist.train.num_examples/batch_size)\n",
    "    for i in range(num_of_iter):\n",
    "        batch_x, batch_y = mnist.train.next_batch(batch_size)\n",
    "        _, cost_value = sess.run([train, cost], feed_dict = {X:batch_x, Y:batch_y})\n",
    "    if step % 6 == 0:\n",
    "        print(\"cost : {}\".format(cost_value))\n",
    "\n",
    "predict = tf.argmax(H, axis = 1)\n",
    "correct = tf.equal(predict, tf.argmax(Y, axis = 1))\n",
    "accuracy = tf.reduce_mean(tf.cast(correct, dtype = tf.float32))\n",
    "    \n",
    "print(\"accuracy : {}\".format(sess.run(accuracy, feed_dict = {X:mnist.test.images, Y:mnist.test.labels})))\n",
    "\n"
   ]
  },
  {
   "cell_type": "markdown",
   "metadata": {},
   "source": [
    "### 학습률을 높이기 위해\n",
    "- 1. sigmoid 대신 Relu\n",
    "- 2. Xavier initialization\n",
    "    - 초기 weight 설정을 0으로주거나 랜덤으로 주지않고 => weight 초기화\n",
    "    - W = np.random.randn(num_of_input, num_of_output) / np.sqrt(num_of_input / 2)\n",
    "- 3. Dropout\n",
    "    - overfitting 방지하기 위함\n",
    "    - 학습할때는 어느정도의 노드를 dropout"
   ]
  },
  {
   "cell_type": "markdown",
   "metadata": {},
   "source": [
    "### vanishing gradient problem \n",
    "- sigmoid는 0~1 값 리턴, 근데 값이 크거나 작을때의 sigmoid의 기울기는 0에 가까움\n",
    "- 역전파 오류가 반복되면 이러한 0에 가까운 값이 곱해짐으로써 학습이 더 안됨\n",
    "- 때문에 sigmoid 대신 relu를 사용\n",
    "    - relu는 음수일때는 0 양수일때는 그대로의 값 즉 기울기1"
   ]
  },
  {
   "cell_type": "markdown",
   "metadata": {},
   "source": [
    "#### tf graph 싹 다 초기화  \n",
    "- tf.reset_default_graph()"
   ]
  },
  {
   "cell_type": "code",
   "execution_count": 2,
   "metadata": {},
   "outputs": [
    {
     "name": "stdout",
     "output_type": "stream",
     "text": [
      "WARNING:tensorflow:From <ipython-input-2-2575ade6330a>:9: read_data_sets (from tensorflow.contrib.learn.python.learn.datasets.mnist) is deprecated and will be removed in a future version.\n",
      "Instructions for updating:\n",
      "Please use alternatives such as official/mnist/dataset.py from tensorflow/models.\n",
      "WARNING:tensorflow:From C:\\ProgramData\\Anaconda3\\envs\\gpu_env\\lib\\site-packages\\tensorflow\\contrib\\learn\\python\\learn\\datasets\\mnist.py:260: maybe_download (from tensorflow.contrib.learn.python.learn.datasets.base) is deprecated and will be removed in a future version.\n",
      "Instructions for updating:\n",
      "Please write your own downloading logic.\n",
      "WARNING:tensorflow:From C:\\ProgramData\\Anaconda3\\envs\\gpu_env\\lib\\site-packages\\tensorflow\\contrib\\learn\\python\\learn\\datasets\\mnist.py:262: extract_images (from tensorflow.contrib.learn.python.learn.datasets.mnist) is deprecated and will be removed in a future version.\n",
      "Instructions for updating:\n",
      "Please use tf.data to implement this functionality.\n",
      "Extracting ./data/mnist\\train-images-idx3-ubyte.gz\n",
      "WARNING:tensorflow:From C:\\ProgramData\\Anaconda3\\envs\\gpu_env\\lib\\site-packages\\tensorflow\\contrib\\learn\\python\\learn\\datasets\\mnist.py:267: extract_labels (from tensorflow.contrib.learn.python.learn.datasets.mnist) is deprecated and will be removed in a future version.\n",
      "Instructions for updating:\n",
      "Please use tf.data to implement this functionality.\n",
      "Extracting ./data/mnist\\train-labels-idx1-ubyte.gz\n",
      "WARNING:tensorflow:From C:\\ProgramData\\Anaconda3\\envs\\gpu_env\\lib\\site-packages\\tensorflow\\contrib\\learn\\python\\learn\\datasets\\mnist.py:110: dense_to_one_hot (from tensorflow.contrib.learn.python.learn.datasets.mnist) is deprecated and will be removed in a future version.\n",
      "Instructions for updating:\n",
      "Please use tf.one_hot on tensors.\n",
      "Extracting ./data/mnist\\t10k-images-idx3-ubyte.gz\n",
      "Extracting ./data/mnist\\t10k-labels-idx1-ubyte.gz\n",
      "WARNING:tensorflow:From C:\\ProgramData\\Anaconda3\\envs\\gpu_env\\lib\\site-packages\\tensorflow\\contrib\\learn\\python\\learn\\datasets\\mnist.py:290: DataSet.__init__ (from tensorflow.contrib.learn.python.learn.datasets.mnist) is deprecated and will be removed in a future version.\n",
      "Instructions for updating:\n",
      "Please use alternatives such as official/mnist/dataset.py from tensorflow/models.\n",
      "mnist.train.images.shape : (55000, 784), mnist.train.labels.shape : (55000, 10)\n",
      "cost : 0.2899751365184784\n",
      "cost : 0.07781501114368439\n",
      "cost : 0.06655004620552063\n",
      "cost : 0.04430902376770973\n",
      "cost : 0.0968281477689743\n",
      "accuracy : 0.9815000295639038\n"
     ]
    }
   ],
   "source": [
    "import tensorflow as tf\n",
    "from tensorflow.examples.tutorials.mnist import input_data\n",
    "# import matplotlib\n",
    "# import matplotlib.pyplot as plt\n",
    "# import numpy as np\n",
    "\n",
    "tf.reset_default_graph()\n",
    "\n",
    "mnist = input_data.read_data_sets(\"./data/mnist\", one_hot =True)\n",
    "\n",
    "print(\"mnist.train.images.shape : {}, mnist.train.labels.shape : {}\".format(mnist.train.images.shape, mnist.train.labels.shape))\n",
    "\n",
    "X = tf.placeholder(shape = [None, 784], dtype = tf.float32)\n",
    "Y = tf.placeholder(shape = [None, 10], dtype = tf.float32)\n",
    "# 살릴 확률\n",
    "keep_prob = tf.placeholder(dtype = tf.float32)\n",
    "# Xavier_initialization\n",
    "W1 = tf.get_variable(\"weight1\", shape=[784, 256], initializer=tf.contrib.layers.xavier_initializer())\n",
    "b1 = tf.Variable(tf.random_normal([256]), dtype = tf.float32, name = \"bias1\")\n",
    "# relu , dropout\n",
    "_h_layer1 = tf.nn.relu(tf.matmul(X,W1) + b1)\n",
    "h_layer1 = tf.nn.dropout(_h_layer1, keep_prob=keep_prob)\n",
    "\n",
    "W2 = tf.get_variable(\"weight2\", shape=[256, 512], initializer=tf.contrib.layers.xavier_initializer())\n",
    "b2 = tf.Variable(tf.random_normal([512]), dtype = tf.float32, name = \"bias2\")\n",
    "_h_layer2 = tf.nn.relu(tf.matmul(h_layer1,W2) + b2)\n",
    "h_layer2 = tf.nn.dropout(_h_layer2, keep_prob=keep_prob)\n",
    "\n",
    "W3 = tf.Variable(tf.random_normal([512, 10]), dtype = tf.float32, name = \"weight3\")\n",
    "W3 = tf.get_variable(\"weight3\", shape=[512, 10], initializer=tf.contrib.layers.xavier_initializer())\n",
    "b3 = tf.Variable(tf.random_normal([10]), dtype = tf.float32, name = \"bias3\")\n",
    "\n",
    "# logit = tf.matmul(h_layer2, W3) + b3\n",
    "# H = tf.nn.softmax(logit)\n",
    "H = tf.matmul(h_layer2, W3) + b3\n",
    "\n",
    "cost = tf.reduce_mean(tf.nn.softmax_cross_entropy_with_logits_v2(logits= H, labels= Y))\n",
    "train = tf.train.GradientDescentOptimizer(learning_rate=0.1).minimize(cost)\n",
    "\n",
    "sess = tf.Session()\n",
    "sess.run(tf.global_variables_initializer())\n",
    "\n",
    "train_epoch = 30\n",
    "batch_size = 100\n",
    "\n",
    "for step in range(train_epoch):\n",
    "    num_of_iter = int(mnist.train.num_examples/batch_size)\n",
    "    for i in range(num_of_iter):\n",
    "        batch_x, batch_y = mnist.train.next_batch(batch_size)\n",
    "        _, cost_value = sess.run([train, cost], feed_dict = {X:batch_x, Y:batch_y, keep_prob:0.7})\n",
    "    if step % 6 == 0:\n",
    "        print(\"cost : {}\".format(cost_value))\n",
    "\n",
    "predict = tf.argmax(H, axis = 1)\n",
    "correct = tf.equal(predict, tf.argmax(Y, axis = 1))\n",
    "accuracy = tf.reduce_mean(tf.cast(correct, dtype = tf.float32))\n",
    "    \n",
    "print(\"accuracy : {}\".format(sess.run(accuracy, feed_dict = {X:mnist.test.images, Y:mnist.test.labels, keep_prob:1.0})))\n",
    "\n"
   ]
  },
  {
   "cell_type": "markdown",
   "metadata": {},
   "source": [
    "# CNN(Convolutional Neural Netowrks)\n",
    "- 이전의 NN와 차이는  fully connected\n",
    "- CNN은 이미지 일부만을 일단 처리(Filter 이용)\n",
    "- Output size : (N-F)/stride + 1\n",
    "- activation map으로 가기전에 relu 적용\n",
    "- 그리고 사이즈 줄여주기위해 Pooling\n"
   ]
  },
  {
   "cell_type": "code",
   "execution_count": 11,
   "metadata": {},
   "outputs": [
    {
     "name": "stdout",
     "output_type": "stream",
     "text": [
      "input의 shape : (1, 3, 3, 1), filter의 shape : (2, 2, 1, 3)\n"
     ]
    },
    {
     "data": {
      "text/plain": [
       "array([[[[ 12., 120.,   0.],\n",
       "         [ 16., 160.,   0.]],\n",
       "\n",
       "        [[ 24., 240.,   0.],\n",
       "         [ 28., 280.,   0.]]]], dtype=float32)"
      ]
     },
     "execution_count": 11,
     "metadata": {},
     "output_type": "execute_result"
    }
   ],
   "source": [
    "import tensorflow as tf\n",
    "import numpy as np\n",
    "# (1,3,3,1) 이미지개수, 가로,세로, color\n",
    "# 맨 앞에꺼를 행으로 생각하면서 풀어가면 됨\n",
    "# 1을 행으로생각 3,3,1열\n",
    "# 3을 행으로 생각 3,1열\n",
    "# 3을 행으로 생각 1열\n",
    "input_img = np.array([[[[1],[2],[3]],\n",
    "                       [[4],[5],[6]],\n",
    "                       [[7],[8],[9]]]], dtype = np.float32)\n",
    "# (1,2,2,1)\n",
    "# W = np.array([[[[1]],[[1]]],\n",
    "#               [[[1]],[[1]]]],dtype = np.float32)\n",
    "# (2,2,1,3) => 가로 세로 color 필터 개수\n",
    "W = np.array([[[[1,10,-1]],[[1,10,-1]]],[[[1,10,-1]],[[1,10,-1]]]])\n",
    "# ()\n",
    "print(\"input의 shape : {}, filter의 shape : {}\".format(input_img.shape, W.shape))\n",
    "# strides를 4차원으로 적어줌 => 앞의 shape처럼\n",
    "# 앞과 뒤는 4차원 맞추기위한 패딩 중간 1,1이 행으로1 열로1씩 stride를 적용\n",
    "# VALID는 패딩을 안한다는거 SAME은 원본과 아웃풋 크기 같게하겠다는(패딩을 하겠다는)\n",
    "\n",
    "conv2d = tf.nn.conv2d(input_img, W, strides =[1,1,1,1], padding=\"VALID\")\n",
    "conv2d = tf.nn.relu(conv2d)\n",
    "# 위 두줄을 아래 한줄로 표현\n",
    "# conv2d = tf.layers.conv2d(inputs=input_img, filters=32, kernel_size = [2,2], padding=\"VALID\", strides=1, activation = tf.nn.relu)\n",
    "\n",
    "\n",
    "sess = tf.Session()\n",
    "sess.run(conv2d)"
   ]
  },
  {
   "cell_type": "code",
   "execution_count": 21,
   "metadata": {},
   "outputs": [
    {
     "name": "stdout",
     "output_type": "stream",
     "text": [
      "(1, 2, 2, 1)\n"
     ]
    },
    {
     "data": {
      "text/plain": [
       "array([[[[4.],\n",
       "         [3.]],\n",
       "\n",
       "        [[2.],\n",
       "         [1.]]]], dtype=float32)"
      ]
     },
     "execution_count": 21,
     "metadata": {},
     "output_type": "execute_result"
    }
   ],
   "source": [
    "import tensorflow as tf\n",
    "import numpy as np\n",
    "\n",
    "# image = > (1,2,2,1)\n",
    "images = np.array([[[[4],[3]],[[2],[1]]]], dtype = np.float32)\n",
    "print(images.shape)\n",
    "pool = tf.nn.max_pool(images, ksize=[1,2,2,1], strides =[1,1,1,1], padding=\"SAME\")\n",
    "sess.run(pool)\n"
   ]
  },
  {
   "cell_type": "markdown",
   "metadata": {},
   "source": [
    "### np.swapaxes(reulst, sh1, sh2)\n",
    "- sh1과 sh2축을 바꿈"
   ]
  },
  {
   "cell_type": "code",
   "execution_count": 54,
   "metadata": {},
   "outputs": [
    {
     "name": "stdout",
     "output_type": "stream",
     "text": [
      "Extracting ./data/mnist\\train-images-idx3-ubyte.gz\n",
      "Extracting ./data/mnist\\train-labels-idx1-ubyte.gz\n",
      "Extracting ./data/mnist\\t10k-images-idx3-ubyte.gz\n",
      "Extracting ./data/mnist\\t10k-labels-idx1-ubyte.gz\n"
     ]
    },
    {
     "data": {
      "image/png": "[encoded data removed]",
      "text/plain": [
       "<Figure size 432x288 with 1 Axes>"
      ]
     },
     "metadata": {
      "needs_background": "light"
     },
     "output_type": "display_data"
    },
    {
     "name": "stdout",
     "output_type": "stream",
     "text": [
      "(1, 28, 28, 1)\n",
      "(1, 14, 14, 5)\n"
     ]
    },
    {
     "data": {
      "image/png": "[encoded data removed]",
      "text/plain": [
       "<Figure size 432x288 with 5 Axes>"
      ]
     },
     "metadata": {
      "needs_background": "light"
     },
     "output_type": "display_data"
    }
   ],
   "source": [
    "from tensorflow.examples.tutorials.mnist import input_data\n",
    "import tensorflow as tf\n",
    "import matplotlib\n",
    "import matplotlib.pyplot as plt\n",
    "\n",
    "mnist = input_data.read_data_sets(\"./data/mnist\", one_hot=True)\n",
    "\n",
    "img = mnist.train.images[0]\n",
    "plt.imshow(img.reshape(28,28), cmap=\"Greys\")\n",
    "plt.show()\n",
    "# 1깊이의 28x28짜리 1개\n",
    "img = img.reshape((1,28,28,1))\n",
    "print(img.shape)\n",
    "# 3x3짜리 1깊이 5개\n",
    "W = tf.Variable(tf.random_normal([3,3,1,5]), dtype = tf.float32)\n",
    "# strides가 1x1일 때 padding이 SAME, Strides가 2x2면 줄어들게 됨 padding이 SAME이여도\n",
    "conv2d = tf.nn.conv2d(img, W, strides=[1,2,2,1], padding=\"SAME\")\n",
    "\n",
    "sess = tf.Session()\n",
    "sess.run(tf.global_variables_initializer())\n",
    "result = sess.run(conv2d)\n",
    "print(result.shape)\n",
    "## 1,14,14,5의 shape으로 이미지 뽑기 위해  axis 변경 해서 (5,14,14,1) 의 형태로 변형\n",
    "# 0번째와 3번째를 바꿈\n",
    "result = np.swapaxes(result, 0,3)\n",
    "# 1행5열 짜리 axes에 넣어줌\n",
    "fig, axes = plt.subplots(1,5)\n",
    "\n",
    "for idx, t_img in enumerate(result):\n",
    "    axes[idx].imshow(t_img.reshape(14,14), cmap=\"Greys\")\n",
    "plt.show()"
   ]
  },
  {
   "cell_type": "code",
   "execution_count": 61,
   "metadata": {},
   "outputs": [
    {
     "name": "stdout",
     "output_type": "stream",
     "text": [
      "Extracting ./data/mnist\\train-images-idx3-ubyte.gz\n",
      "Extracting ./data/mnist\\train-labels-idx1-ubyte.gz\n",
      "Extracting ./data/mnist\\t10k-images-idx3-ubyte.gz\n",
      "Extracting ./data/mnist\\t10k-labels-idx1-ubyte.gz\n"
     ]
    },
    {
     "data": {
      "image/png": "[encoded data removed]",
      "text/plain": [
       "<Figure size 432x288 with 1 Axes>"
      ]
     },
     "metadata": {
      "needs_background": "light"
     },
     "output_type": "display_data"
    },
    {
     "name": "stdout",
     "output_type": "stream",
     "text": [
      "(1, 28, 28, 1)\n",
      "(1, 7, 7, 5)\n"
     ]
    },
    {
     "data": {
      "image/png": "[encoded data removed]",
      "text/plain": [
       "<Figure size 432x288 with 5 Axes>"
      ]
     },
     "metadata": {
      "needs_background": "light"
     },
     "output_type": "display_data"
    }
   ],
   "source": [
    "from tensorflow.examples.tutorials.mnist import input_data\n",
    "import tensorflow as tf\n",
    "import matplotlib\n",
    "import matplotlib.pyplot as plt\n",
    "\n",
    "mnist = input_data.read_data_sets(\"./data/mnist\", one_hot=True)\n",
    "\n",
    "img = mnist.train.images[0]\n",
    "plt.imshow(img.reshape(28,28), cmap=\"Greys\")\n",
    "plt.show()\n",
    "# 1깊이의 28x28짜리 1개\n",
    "img = img.reshape((1,28,28,1))\n",
    "print(img.shape)\n",
    "# 3x3짜리 1깊이 5개 필터\n",
    "W = tf.Variable(tf.random_normal([3,3,1,5]), dtype = tf.float32)\n",
    "# strides가 1x1일 때 padding이 SAME, Strides가 2x2면 줄어들게 됨 padding이 SAME이여도\n",
    "conv2d = tf.nn.conv2d(img, W, strides=[1,2,2,1], padding=\"SAME\")\n",
    "# tf.nn.relu\n",
    "conv2d = tf.nn.relu(conv2d)\n",
    "# Max Pooling (sub sampling)\n",
    "pool = tf.nn.max_pool(conv2d, ksize = [1,2,2,1], strides=[1,2,2,1], padding=\"SAME\")\n",
    "\n",
    "sess = tf.Session()\n",
    "sess.run(tf.global_variables_initializer())\n",
    "result = sess.run(pool)\n",
    "print(result.shape)\n",
    "\n",
    "result = np.swapaxes(result, 0,3)\n",
    "# 1행5열 짜리 axes에 넣어줌\n",
    "fig, axes = plt.subplots(1,5)\n",
    "\n",
    "for idx, t_img in enumerate(result):\n",
    "    axes[idx].imshow(t_img.reshape(7,7), cmap=\"Greys\")\n",
    "plt.show()"
   ]
  },
  {
   "cell_type": "markdown",
   "metadata": {},
   "source": [
    "# MNIST CNN"
   ]
  },
  {
   "cell_type": "code",
   "execution_count": 84,
   "metadata": {},
   "outputs": [
    {
     "data": {
      "text/plain": [
       "(55000, 784)"
      ]
     },
     "execution_count": 84,
     "metadata": {},
     "output_type": "execute_result"
    }
   ],
   "source": [
    "mnist.train.images.shape"
   ]
  },
  {
   "cell_type": "code",
   "execution_count": 142,
   "metadata": {},
   "outputs": [
    {
     "name": "stdout",
     "output_type": "stream",
     "text": [
      "Extracting ./data/mnist\\train-images-idx3-ubyte.gz\n",
      "Extracting ./data/mnist\\train-labels-idx1-ubyte.gz\n",
      "Extracting ./data/mnist\\t10k-images-idx3-ubyte.gz\n",
      "Extracting ./data/mnist\\t10k-labels-idx1-ubyte.gz\n",
      "(55000, 784)\n",
      "(55000, 10)\n",
      "(?, 28, 28, 32)\n",
      "(?, 7, 7, 64)\n",
      "cost_val : 0.10161174088716507\n",
      "cost_val : 0.18134351074695587\n",
      "cost_val : 0.06131645664572716\n",
      "cost_val : 0.06951934844255447\n",
      "cost_val : 0.15346868336200714\n",
      "accuracy : 0.9831\n"
     ]
    }
   ],
   "source": [
    "import tensorflow as tf\n",
    "import pandas as pd\n",
    "from tensorflow.examples.tutorials.mnist import input_data\n",
    "\n",
    "tf.reset_default_graph()\n",
    "\n",
    "# 0. Data load\n",
    "mnist = input_data.read_data_sets(\"./data/mnist\", one_hot=True)\n",
    "\n",
    "# 1. CNN - 특징 추출\n",
    "print(mnist.train.images.shape)\n",
    "print(mnist.train.labels.shape)\n",
    "\n",
    "# placeholder\n",
    "X = tf.placeholder(shape = [None, 784], dtype= tf.float32)\n",
    "Y = tf.placeholder(shape = [None, 10], dtype= tf.float32)\n",
    "# input conv image\n",
    "X_img = tf.reshape(X, shape = [-1, 28,28,1])\n",
    "# drop out\n",
    "keep_rate = tf.placeholder(dtype = tf.float32)\n",
    "\n",
    "# 표준편차를 작게 줘서 비슷한 값 뽑히게\n",
    "# 3x3 필터(1차원) 32개\n",
    "W1 = tf.Variable(tf.random_normal([3,3,1,32], stddev=0.01))\n",
    "# conv ~ 28*28(1d) 32개\n",
    "L1 = tf.nn.conv2d(X_img, W1, strides=[1,1,1,1], padding=\"SAME\")\n",
    "# relu\n",
    "L1 = tf.nn.relu(L1)\n",
    "print(L1.shape)\n",
    "# 2x2 Pooling 14*14(1d) 32개 \n",
    "L1 = tf.nn.max_pool(L1, ksize=[1,2,2,1], strides=[1,2,2,1], padding=\"SAME\")\n",
    "#\n",
    "L2 = tf.layers.conv2d(inputs=L1, filters=64, kernel_size =[3,3], padding=\"SAME\", strides = 1, activation=tf.nn.relu)\n",
    "L2 = tf.layers.max_pooling2d(inputs = L2, pool_size=[2,2],padding=\"SAME\",strides = 2)\n",
    "\n",
    "print(L2.shape)\n",
    "\n",
    "###FC\n",
    "L2 = tf.reshape(L2, shape=[-1,7*7*64])\n",
    "\n",
    "W2 = tf.get_variable(\"weight2\", shape=[7*7*64,256], initializer= tf.contrib.layers.xavier_initializer())\n",
    "b2 = tf.Variable(tf.random_normal([256]), name = \"bias2\")\n",
    "_layer1 = tf.nn.relu(tf.matmul(L2,W2)+b2)\n",
    "layer1 = tf.nn.dropout(_layer1, keep_prob = keep_rate)\n",
    "\n",
    "W3 = tf.get_variable(\"weight3\", shape=[256,256], initializer= tf.contrib.layers.xavier_initializer())\n",
    "b3 = tf.Variable(tf.random_normal([256]), name = \"bias3\")\n",
    "_layer2 = tf.nn.relu(tf.matmul(layer1,W3)+b2)\n",
    "layer2 = tf.nn.dropout(_layer2, keep_prob = keep_rate)\n",
    "\n",
    "W4 = tf.get_variable(\"weight4\", shape=[256,10], initializer= tf.contrib.layers.xavier_initializer())\n",
    "b4 = tf.Variable(tf.random_normal([10]), name = \"bias4\")\n",
    "\n",
    "H = tf.matmul(layer2, W4) + b4\n",
    "\n",
    "cost = tf.reduce_mean(tf.nn.softmax_cross_entropy_with_logits_v2(logits=H, labels=Y))\n",
    "train = tf.train.AdamOptimizer(learning_rate=0.01).minimize(cost)\n",
    "\n",
    "sess = tf.Session()\n",
    "sess.run(tf.global_variables_initializer())\n",
    "\n",
    "train_epoch = 10\n",
    "batch_size = 100\n",
    "for step in range(train_epoch):\n",
    "    num_of_iter = int(mnist.train.num_examples/batch_size)\n",
    "    for i in range(num_of_iter):\n",
    "        batch_x, batch_y = mnist.train.next_batch(batch_size)\n",
    "        _, cost_val = sess.run([train, cost], feed_dict = {X:batch_x, Y:batch_y,keep_rate:0.7})\n",
    "    if step%2 == 0:\n",
    "        print(\"cost_val : {}\".format(cost_val))\n",
    "\n",
    "predict = tf.argmax(H,axis = 1)\n",
    "correct = tf.equal(predict, tf.argmax(Y,1))\n",
    "accuracy = tf.reduce_sum(tf.cast(correct, dtype = tf.float32))\n",
    "\n",
    "result_sum = 0\n",
    "\n",
    "num_of_iter = int(mnist.test.num_examples/batch_size)\n",
    "for i in range(num_of_iter):\n",
    "    batch_x, batch_y = mnist.test.next_batch(batch_size)\n",
    "    correct_num = sess.run(accuracy, feed_dict={X:batch_x,\n",
    "                                             Y:batch_y,\n",
    "                                             keep_rate : 1.0})\n",
    "    result_sum += correct_num\n",
    "result = result_sum/mnist.test.num_examples\n",
    "\n",
    "print(\"accuracy : {}\".format(result))"
   ]
  },
  {
   "cell_type": "code",
   "execution_count": 152,
   "metadata": {},
   "outputs": [
    {
     "name": "stdout",
     "output_type": "stream",
     "text": [
      "Extracting ./data/mnist\\train-images-idx3-ubyte.gz\n",
      "Extracting ./data/mnist\\train-labels-idx1-ubyte.gz\n",
      "Extracting ./data/mnist\\t10k-images-idx3-ubyte.gz\n",
      "Extracting ./data/mnist\\t10k-labels-idx1-ubyte.gz\n",
      "(?, 28, 28, 1)\n",
      "(?, 24, 24, 10)\n",
      "(?, 12, 12, 10)\n",
      "(?, 8, 8, 20)\n",
      "(?, 4, 4, 20)\n"
     ]
    },
    {
     "ename": "AttributeError",
     "evalue": "module 'tensorflow.contrib.layers' has no attribute 'xaviers_initializer'",
     "output_type": "error",
     "traceback": [
      "\u001b[1;31m---------------------------------------------------------------------------\u001b[0m",
      "\u001b[1;31mAttributeError\u001b[0m                            Traceback (most recent call last)",
      "\u001b[1;32m<ipython-input-152-f715bbf2edaa>\u001b[0m in \u001b[0;36m<module>\u001b[1;34m\u001b[0m\n\u001b[0;32m     31\u001b[0m \u001b[1;33m\u001b[0m\u001b[0m\n\u001b[0;32m     32\u001b[0m W1 = tf.get_variable(\"weight1\", shape = [4*4*20, 100],\n\u001b[1;32m---> 33\u001b[1;33m                     initializer=tf.contrib.layers.xaviers_initializer())\n\u001b[0m\u001b[0;32m     34\u001b[0m \u001b[0mb1\u001b[0m \u001b[1;33m=\u001b[0m \u001b[0mtf\u001b[0m\u001b[1;33m.\u001b[0m\u001b[0mVariable\u001b[0m\u001b[1;33m(\u001b[0m\u001b[1;34m\"bias1\"\u001b[0m\u001b[1;33m,\u001b[0m \u001b[0mtf\u001b[0m\u001b[1;33m.\u001b[0m\u001b[0mrandom_normal\u001b[0m\u001b[1;33m(\u001b[0m\u001b[1;33m[\u001b[0m\u001b[1;36m100\u001b[0m\u001b[1;33m]\u001b[0m\u001b[1;33m)\u001b[0m\u001b[1;33m,\u001b[0m \u001b[0mdtype\u001b[0m \u001b[1;33m=\u001b[0m \u001b[0mtf\u001b[0m\u001b[1;33m.\u001b[0m\u001b[0mfloat32\u001b[0m\u001b[1;33m)\u001b[0m\u001b[1;33m\u001b[0m\u001b[1;33m\u001b[0m\u001b[0m\n\u001b[0;32m     35\u001b[0m \u001b[0m_fc_layer1\u001b[0m \u001b[1;33m=\u001b[0m \u001b[0mtf\u001b[0m\u001b[1;33m.\u001b[0m\u001b[0mnn\u001b[0m\u001b[1;33m.\u001b[0m\u001b[0mrelu\u001b[0m\u001b[1;33m(\u001b[0m\u001b[0mtf\u001b[0m\u001b[1;33m.\u001b[0m\u001b[0mmatmul\u001b[0m\u001b[1;33m(\u001b[0m\u001b[0mflatten_X\u001b[0m\u001b[1;33m,\u001b[0m \u001b[0mW1\u001b[0m\u001b[1;33m)\u001b[0m\u001b[1;33m+\u001b[0m\u001b[0mb\u001b[0m\u001b[1;33m)\u001b[0m\u001b[1;33m\u001b[0m\u001b[1;33m\u001b[0m\u001b[0m\n",
      "\u001b[1;31mAttributeError\u001b[0m: module 'tensorflow.contrib.layers' has no attribute 'xaviers_initializer'"
     ]
    }
   ],
   "source": [
    "import tensorflow as tf\n",
    "import pandas as pd\n",
    "from tensorflow.examples.tutorials.mnist import input_data\n",
    "################ 0. data load\n",
    "tf.reset_default_graph()\n",
    "mnist = input_data.read_data_sets(\"./data/mnist\", one_hot=True)\n",
    "# mnist (55000, 28*28)\n",
    "################ 1. placeholder\n",
    "X = tf.placeholder(shape = [None, 28*28], dtype = tf.float32)\n",
    "Y = tf.placeholder(shape = [None, 10], dtype = tf.float32)\n",
    "# drop oout\n",
    "set_prob = tf.placeholder(dtype = tf.float32)\n",
    "X_img = tf.reshape(X, [-1, 28, 28, 1])\n",
    "################ conv_layer 1\n",
    "print(X_img.shape)\n",
    "filter_1 = tf.Variable(tf.random_normal([5,5,1,10], stddev=0.1), dtype = tf.float32)\n",
    "conv_layer1 = tf.nn.conv2d(X_img, filter_1, strides=[1,1,1,1], padding=\"VALID\")\n",
    "print(conv_layer1.shape)\n",
    "conv_layer1 = tf.nn.relu(conv_layer1)\n",
    "conv_layer1 = tf.nn.max_pool(conv_layer1,ksize = [1,2,2,1],strides= [1,2,2,1], padding=\"SAME\")\n",
    "print(conv_layer1.shape)\n",
    "################ conv_layer 2\n",
    "filter_2 = tf.Variable(tf.random_normal([5,5,10,20], stddev=0.1), dtype = tf.float32)\n",
    "conv_layer2 = tf.nn.conv2d(conv_layer1, filter_2, strides=[1,1,1,1], padding=\"VALID\")\n",
    "print(conv_layer2.shape)\n",
    "conv_layer2 = tf.nn.relu(conv_layer2)\n",
    "conv_layer2 = tf.nn.max_pool(conv_layer2, ksize=[1,2,2,1], strides=[1,2,2,1], padding=\"SAME\")\n",
    "print(conv_layer2.shape)\n",
    "################ Fully Connected layer\n",
    "flatten_X = tf.reshape(conv_layer2, [-1, 4*4*20])\n",
    "\n",
    "W1 = tf.get_variable(\"weight1\", shape = [4*4*20, 100],\n",
    "                    initializer=tf.contrib.layers.xavier_initializer())\n",
    "b1 = tf.Variable(\"bias1\", tf.random_normal([100]), dtype = tf.float32)\n",
    "_fc_layer1 = tf.nn.relu(tf.matmul(flatten_X, W1)+b)\n",
    "fc_layer1 = tf.nn.dropout(_fc_layer1, keep_prob=set_prob)\n",
    "\n",
    "W2 = tf.get_variable(\"weight2\", shape = [100, 10],\n",
    "                    initializer=tf.contrib.layers.xavier_initializer())\n",
    "b2 = tf.Variable(\"bias2\", tf.random_normal([10]), dtype = tf.float32)\n",
    "\n",
    "logit = tf.matmul(fc_layer1, W2)+b\n",
    "H = tf.nn.softmax(logit)\n",
    "cost = tf.reduce_mean(tf.nn.softmax_cross_entropy_with_logits_v2(logits = logit, labels = Y))\n",
    "\n",
    "\n",
    "\n",
    "\n",
    "\n"
   ]
  },
  {
   "cell_type": "code",
   "execution_count": null,
   "metadata": {},
   "outputs": [],
   "source": []
  },
  {
   "cell_type": "code",
   "execution_count": null,
   "metadata": {},
   "outputs": [],
   "source": []
  },
  {
   "cell_type": "code",
   "execution_count": null,
   "metadata": {},
   "outputs": [],
   "source": []
  }
 ],
 "metadata": {
  "kernelspec": {
   "display_name": "[GPU_ENV]",
   "language": "python",
   "name": "gpu_env"
  },
  "language_info": {
   "codemirror_mode": {
    "name": "ipython",
    "version": 3
   },
   "file_extension": ".py",
   "mimetype": "text/x-python",
   "name": "python",
   "nbconvert_exporter": "python",
   "pygments_lexer": "ipython3",
   "version": "3.6.8"
  }
 },
 "nbformat": 4,
 "nbformat_minor": 2
}
