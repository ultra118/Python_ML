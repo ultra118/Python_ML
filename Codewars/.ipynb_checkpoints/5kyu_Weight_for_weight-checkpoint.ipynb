{
 "cells": [
  {
   "cell_type": "markdown",
   "metadata": {},
   "source": [
    "https://www.codewars.com/kata/weight-for-weight/train/python"
   ]
  },
  {
   "cell_type": "markdown",
   "metadata": {},
   "source": [
    "## 숫자에 weight를 부여(자릿수 합이 가장큰 순으로 오름차순 정렬)\n",
    "## 자릿수의 합이 같다면 숫자 본연이 큰 수를 앞으로"
   ]
  },
  {
   "cell_type": "code",
   "execution_count": 12,
   "metadata": {},
   "outputs": [],
   "source": [
    "string = '2000 11 10003 1234000 44444444 11 22 123 9999'\n",
    "string2 = '11 11 2000 10003 22 123 1234000 44444444 9999'"
   ]
  },
  {
   "cell_type": "code",
   "execution_count": 60,
   "metadata": {},
   "outputs": [
    {
     "name": "stdout",
     "output_type": "stream",
     "text": [
      "li2[h]값은 : [10003, 4], li2[j]값은 : [11, 2], h값은 : 2, j값은 : 5\n",
      "FFFFFFFFFFFFFFF\n",
      "li2[h]값은 : [1234000, 10], li2[j]값은 : [11, 2], h값은 : 3, j값은 : 2\n",
      "FFFFFFFFFFFFFFF\n",
      "li2[h]값은 : [44444444, 32], li2[j]값은 : [1234000, 10], h값은 : 4, j값은 : 2\n",
      "FFFFFFFFFFFFFFF\n",
      "li2[h]값은 : [1234000, 10], li2[j]값은 : [11, 2], h값은 : 4, j값은 : 3\n",
      "FFFFFFFFFFFFFFF\n",
      "li2[h]값은 : [10003, 4], li2[j]값은 : [11, 2], h값은 : 5, j값은 : 4\n",
      "FFFFFFFFFFFFFFF\n",
      "같을떄 :: li2[h]값은 : [22, 4], li2[j]값은 : [10003, 4], h값은 : 6, j값은 : 4\n",
      "FFFFFFFFFFFFFFF\n",
      "li2[h]값은 : [10003, 4], li2[j]값은 : [11, 2], h값은 : 6, j값은 : 5\n",
      "FFFFFFFFFFFFFFF\n",
      "li2[h]값은 : [123, 6], li2[j]값은 : [22, 4], h값은 : 7, j값은 : 4\n",
      "FFFFFFFFFFFFFFF\n",
      "같을떄 :: li2[h]값은 : [22, 4], li2[j]값은 : [10003, 4], h값은 : 7, j값은 : 5\n",
      "FFFFFFFFFFFFFFF\n",
      "li2[h]값은 : [10003, 4], li2[j]값은 : [11, 2], h값은 : 7, j값은 : 6\n",
      "FFFFFFFFFFFFFFF\n",
      "2000 11 44444444 1234000 123 22 10003 11 9999\n"
     ]
    }
   ],
   "source": [
    "print(order_weight(string))\n"
   ]
  },
  {
   "cell_type": "code",
   "execution_count": 59,
   "metadata": {},
   "outputs": [],
   "source": [
    "def order_weight(string):\n",
    "    li = string.split(\" \")\n",
    "    li2 = []\n",
    "    str_list = []\n",
    "    for value in (li):\n",
    "        c_sum = 0\n",
    "        for c in value:\n",
    "            c_sum += int(c)\n",
    "        li2.append([int(value),c_sum])\n",
    "    h,k = 0,1\n",
    "    while h < len(li2)-1:\n",
    "        uncheck = True\n",
    "        for j in range(k+1, len(li2)):\n",
    "            if li2[h][1] > li2[j][1]:\n",
    "                #print(\"li2[h]값은 : {}, li2[j]값은 : {}, h값은 : {}, j값은 : {}\".format(li2[h], li2[j],h,j))\n",
    "                temp = li2[h]\n",
    "                li2[h] = li2[j]\n",
    "                li2[j] = temp\n",
    "                #\n",
    "                if j != (len(li2)-1):\n",
    "                 #   print(\"FFFFFFFFFFFFFFF\")\n",
    "                    k = j\n",
    "                    uncheck = False\n",
    "                else :\n",
    "                  #  print(\"TTTTTTTTTTTTTTT\")\n",
    "                    uncheck = True\n",
    "                break\n",
    "            elif li2[h][1] == li2[j][1]:\n",
    "                if li2[h][0] < li2[j][0]:\n",
    "                    print(\"같을떄 :: li2[h]값은 : {}, li2[j]값은 : {}, h값은 : {}, j값은 : {}\".format(li2[h], li2[j],h,j))\n",
    "                    temp = li2[h]\n",
    "                    li2[h] = li2[j]\n",
    "                    li2[j] = temp\n",
    "                    #\n",
    "                    if j != (len(li2)-1):\n",
    "                        print(\"FFFFFFFFFFFFFFF\")\n",
    "                        k = j\n",
    "                        uncheck = False\n",
    "                    else :\n",
    "                        print(\"TTTTTTTTTTTTTTT\")\n",
    "                        uncheck = True\n",
    "                    break                \n",
    "        if uncheck:\n",
    "            h += 1\n",
    "            k = 1\n",
    "    for l in li2:\n",
    "        str_list.append(str(l[0]))\n",
    "    return \" \".join(str_list)"
   ]
  },
  {
   "cell_type": "code",
   "execution_count": 40,
   "metadata": {},
   "outputs": [
    {
     "ename": "TypeError",
     "evalue": "'bool' object is not subscriptable",
     "output_type": "error",
     "traceback": [
      "\u001b[1;31m---------------------------------------------------------------------------\u001b[0m",
      "\u001b[1;31mTypeError\u001b[0m                                 Traceback (most recent call last)",
      "\u001b[1;32m<ipython-input-40-d553d750a437>\u001b[0m in \u001b[0;36m<module>\u001b[1;34m\u001b[0m\n\u001b[1;32m----> 1\u001b[1;33m \u001b[1;32mTrue\u001b[0m\u001b[1;33m[\u001b[0m\u001b[1;36m3\u001b[0m\u001b[1;33m]\u001b[0m\u001b[1;33m\u001b[0m\u001b[0m\n\u001b[0m",
      "\u001b[1;31mTypeError\u001b[0m: 'bool' object is not subscriptable"
     ]
    }
   ],
   "source": [
    "True[3]"
   ]
  },
  {
   "cell_type": "code",
   "execution_count": 14,
   "metadata": {},
   "outputs": [
    {
     "data": {
      "text/plain": [
       "'200006 8000 242 332 55'"
      ]
     },
     "execution_count": 14,
     "metadata": {},
     "output_type": "execute_result"
    }
   ],
   "source": [
    "string = \"55 332 200006 242 8000\"\n",
    "order_weight(string)"
   ]
  },
  {
   "cell_type": "code",
   "execution_count": 3,
   "metadata": {},
   "outputs": [],
   "source": [
    "str1 = \"55 332 200006 242 8000\"\n",
    "li = str1.split(\" \")\n",
    "li2 = []\n",
    "for value in (li):\n",
    "    c_sum = 0\n",
    "    for c in value:\n",
    "        c_sum += int(c)\n",
    "    li2.append([int(value),c_sum])\n",
    "\n",
    "h = 0\n",
    "k = 1\n",
    "while h < len(li2):\n",
    "    uncheck = True\n",
    "    for j in range(h+k, len(li2)):\n",
    "        if li2[h][1] > li2[j][1]:\n",
    "            temp = li2[h]\n",
    "            li2[h] = li2[j]\n",
    "            li2[j] = temp\n",
    "            #\n",
    "            if k != (len(li2)-1):\n",
    "                 k = j+1\n",
    "            uncheck = False\n",
    "            break\n",
    "        elif li2[h][1] == li2[j][1]:\n",
    "            if li2[h][0] < li2[j][0]:\n",
    "                temp = li2[h]\n",
    "                li2[h] = li2[j]\n",
    "                li2[j] = temp\n",
    "                #\n",
    "                if k != (len(li2)-1):\n",
    "                     k = j+1\n",
    "                uncheck = False\n",
    "                break                \n",
    "    if uncheck:\n",
    "        h += 1\n",
    "        k = 1\n",
    "      "
   ]
  },
  {
   "cell_type": "code",
   "execution_count": 11,
   "metadata": {},
   "outputs": [
    {
     "ename": "TypeError",
     "evalue": "can only join an iterable",
     "output_type": "error",
     "traceback": [
      "\u001b[1;31m---------------------------------------------------------------------------\u001b[0m",
      "\u001b[1;31mTypeError\u001b[0m                                 Traceback (most recent call last)",
      "\u001b[1;32m<ipython-input-11-784d53cba181>\u001b[0m in \u001b[0;36m<module>\u001b[1;34m\u001b[0m\n\u001b[1;32m----> 1\u001b[1;33m \u001b[1;34m\"\"\u001b[0m\u001b[1;33m.\u001b[0m\u001b[0mjoin\u001b[0m\u001b[1;33m(\u001b[0m\u001b[1;33m[\u001b[0m\u001b[1;33m]\u001b[0m\u001b[1;33m.\u001b[0m\u001b[0mappend\u001b[0m\u001b[1;33m(\u001b[0m\u001b[0mstr\u001b[0m\u001b[1;33m(\u001b[0m\u001b[1;36m3\u001b[0m\u001b[1;33m)\u001b[0m\u001b[1;33m)\u001b[0m\u001b[1;33m)\u001b[0m\u001b[1;33m\u001b[0m\u001b[0m\n\u001b[0m",
      "\u001b[1;31mTypeError\u001b[0m: can only join an iterable"
     ]
    }
   ],
   "source": [
    "\"\".join([].append(str(3)))"
   ]
  },
  {
   "cell_type": "code",
   "execution_count": 99,
   "metadata": {},
   "outputs": [],
   "source": []
  },
  {
   "cell_type": "code",
   "execution_count": null,
   "metadata": {},
   "outputs": [],
   "source": []
  }
 ],
 "metadata": {
  "kernelspec": {
   "display_name": "data_env",
   "language": "python",
   "name": "data_env"
  },
  "language_info": {
   "codemirror_mode": {
    "name": "ipython",
    "version": 3
   },
   "file_extension": ".py",
   "mimetype": "text/x-python",
   "name": "python",
   "nbconvert_exporter": "python",
   "pygments_lexer": "ipython3",
   "version": "3.6.6"
  }
 },
 "nbformat": 4,
 "nbformat_minor": 2
}
