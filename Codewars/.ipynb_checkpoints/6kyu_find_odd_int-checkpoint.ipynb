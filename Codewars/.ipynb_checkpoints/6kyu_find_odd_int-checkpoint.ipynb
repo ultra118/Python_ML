{
 "cells": [
  {
   "cell_type": "markdown",
   "metadata": {},
   "source": [
    "## 홀수 개수의 숫자 찾기"
   ]
  },
  {
   "cell_type": "code",
   "execution_count": null,
   "metadata": {},
   "outputs": [],
   "source": [
    "def find_it(seq):\n",
    "    num_list = []\n",
    "    for idx1 in range(0, len(seq)):\n",
    "        num1 = seq[idx1]\n",
    "        count = 0\n",
    "        if num1 not in num_list:\n",
    "            num_list.append(num1)\n",
    "            for idx2 in range(idx1, len(seq)):\n",
    "                num2 = seq[idx2]\n",
    "                if num1 == num2:\n",
    "                    count += 1\n",
    "            if(count % 2 == 1):\n",
    "                return num1\n",
    "    return None"
   ]
  }
 ],
 "metadata": {
  "kernelspec": {
   "display_name": "data_env",
   "language": "python",
   "name": "data_env"
  },
  "language_info": {
   "codemirror_mode": {
    "name": "ipython",
    "version": 3
   },
   "file_extension": ".py",
   "mimetype": "text/x-python",
   "name": "python",
   "nbconvert_exporter": "python",
   "pygments_lexer": "ipython3",
   "version": "3.6.8"
  }
 },
 "nbformat": 4,
 "nbformat_minor": 2
}
