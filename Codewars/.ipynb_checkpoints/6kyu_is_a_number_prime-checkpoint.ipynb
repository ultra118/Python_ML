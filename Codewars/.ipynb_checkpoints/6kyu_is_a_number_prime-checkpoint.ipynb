{
 "cells": [
  {
   "cell_type": "markdown",
   "metadata": {},
   "source": [
    "### 음수 또는 양수의 정수값 입력으로 부터 소수인지 -> Ture or False"
   ]
  },
  {
   "cell_type": "code",
   "execution_count": 4,
   "metadata": {},
   "outputs": [],
   "source": [
    "def is_prime(num):\n",
    "    count = 0\n",
    "    if num > 1:\n",
    "        for i in range(1,num+1):\n",
    "            if int(num%i) == 0:\n",
    "                count += 1\n",
    "        if count == 2:\n",
    "            return True\n",
    "    return False"
   ]
  },
  {
   "cell_type": "code",
   "execution_count": null,
   "metadata": {},
   "outputs": [],
   "source": [
    "# other\n",
    "def is_prime(num):\n",
    "    return num > 1 and not any(num % n == 0 for n in range(2,num))"
   ]
  }
 ],
 "metadata": {
  "kernelspec": {
   "display_name": "data_env",
   "language": "python",
   "name": "data_env"
  },
  "language_info": {
   "codemirror_mode": {
    "name": "ipython",
    "version": 3
   },
   "file_extension": ".py",
   "mimetype": "text/x-python",
   "name": "python",
   "nbconvert_exporter": "python",
   "pygments_lexer": "ipython3",
   "version": "3.6.8"
  }
 },
 "nbformat": 4,
 "nbformat_minor": 2
}
