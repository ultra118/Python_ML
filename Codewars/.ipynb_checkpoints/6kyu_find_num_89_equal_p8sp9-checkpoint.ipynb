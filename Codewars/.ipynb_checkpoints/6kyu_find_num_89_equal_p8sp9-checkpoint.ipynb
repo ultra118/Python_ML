{
 "cells": [
  {
   "cell_type": "markdown",
   "metadata": {},
   "source": [
    "### 각자리수자리를 n이라 할때 특정 범위내의 자리의 수^n이 자리의 수와 같아지는 수\n",
    "### 125 => 1^1 2^2 5^3\n",
    "###  3 => 3^1"
   ]
  },
  {
   "cell_type": "code",
   "execution_count": null,
   "metadata": {},
   "outputs": [],
   "source": [
    "import math\n",
    "def sum_dig_pow(a, b): # range(a, b + 1) will be studied by the function\n",
    "    # your code here\n",
    "    num_list = []\n",
    "    for i in range(a,b+1):\n",
    "        num = str(i)\n",
    "        sum = 0\n",
    "        for size in range(1,len(num)+1):\n",
    "            sum += int(math.pow(int(num[size-1]), size))\n",
    "        if(i == sum):\n",
    "            num_list.append(i)\n",
    "    return num_list"
   ]
  }
 ],
 "metadata": {
  "kernelspec": {
   "display_name": "data_env",
   "language": "python",
   "name": "data_env"
  },
  "language_info": {
   "codemirror_mode": {
    "name": "ipython",
    "version": 3
   },
   "file_extension": ".py",
   "mimetype": "text/x-python",
   "name": "python",
   "nbconvert_exporter": "python",
   "pygments_lexer": "ipython3",
   "version": "3.6.8"
  }
 },
 "nbformat": 4,
 "nbformat_minor": 2
}
