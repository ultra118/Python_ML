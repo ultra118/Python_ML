{
 "cells": [
  {
   "cell_type": "markdown",
   "metadata": {},
   "source": [
    "### num 미만의 3,5의 배수의 합(중복되는 부분은 한번만 합)"
   ]
  },
  {
   "cell_type": "code",
   "execution_count": null,
   "metadata": {},
   "outputs": [],
   "source": [
    "def solution(number):\n",
    "    num = number-1\n",
    "    multiple_3 = int(num/3)\n",
    "    multiple_5 = int(num/5)\n",
    "\n",
    "    sum = 0\n",
    "    for i in range(1, multiple_3 + 1):\n",
    "        multiple = 3 * i\n",
    "        if multiple%5 != 0:\n",
    "            sum += multiple\n",
    "    for j in range(1, multiple_5 + 1):\n",
    "        multiple = 5 * j\n",
    "        sum += multiple\n",
    "    return sum"
   ]
  }
 ],
 "metadata": {
  "kernelspec": {
   "display_name": "data_env",
   "language": "python",
   "name": "data_env"
  },
  "language_info": {
   "codemirror_mode": {
    "name": "ipython",
    "version": 3
   },
   "file_extension": ".py",
   "mimetype": "text/x-python",
   "name": "python",
   "nbconvert_exporter": "python",
   "pygments_lexer": "ipython3",
   "version": "3.6.8"
  }
 },
 "nbformat": 4,
 "nbformat_minor": 2
}
