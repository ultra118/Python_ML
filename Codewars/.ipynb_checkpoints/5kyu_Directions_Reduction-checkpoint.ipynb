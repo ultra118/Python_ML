{
 "cells": [
  {
   "cell_type": "markdown",
   "metadata": {},
   "source": [
    "https://www.codewars.com/kata/directions-reduction/train/python"
   ]
  },
  {
   "cell_type": "markdown",
   "metadata": {},
   "source": [
    "### 동 서 남 북의 경로가 주어졌을때 최단거리 계산\n",
    "- 제자리가 나올때는 순서대로 하나씩만 이동\n",
    "    - 서 - 동 - 북 - 남 => 그대로"
   ]
  },
  {
   "cell_type": "code",
   "execution_count": 4,
   "metadata": {},
   "outputs": [],
   "source": [
    "# 이 경우에 일정한 순서로만 나오게됨 [\"E\",\"W\"] => \"E\",\"W\" and [\"W\", \"E\"] => \"E\",\"W\"\n",
    "def dircalcu(check_list):\n",
    "    list_dir = [\"NORTH\", \"SOUTH\",\"WEST\",\"EAST\"]\n",
    "    optimization_list = []\n",
    "    if check_list[0] < 0:\n",
    "        for x in range(abs(check_list[0])):\n",
    "            optimization_list.append(list_dir[0])\n",
    "    else:\n",
    "        for x in range(check_list[0]):\n",
    "            optimization_list.append(list_dir[1])\n",
    "            \n",
    "    if check_list[1] < 0:\n",
    "        for x in range(abs(check_list[1])):\n",
    "            optimization_list.append(list_dir[2])\n",
    "    else:\n",
    "        for x in range(check_list[1]):\n",
    "            optimization_list.append(list_dir[3])\n",
    "    \n",
    "    return optimization_list\n",
    "            \n",
    "def dirReduc2(arr):\n",
    "    dic_dir = {\"NORTH\":[-1,0], \"SOUTH\":[1,0],\"WEST\":[0,-1],\"EAST\":[0,1]}\n",
    "    check_list = [0,0]\n",
    "    optimization_list = []\n",
    "\n",
    "    for d in arr:\n",
    "        for c in range(len(check_list)):\n",
    "            # north와 south는 1번째 요소\n",
    "            # north와 south는 2번째 요소\n",
    "            check_list[c] += dic_dir[d][c]\n",
    "    if len(arr) == 4:\n",
    "        # dcitionary의 키값을 이용해서 그렇게 다 더한게 0이면 그대로나오게\n",
    "        if check_list[0] == 0 and check_list[1] == 0:\n",
    "            return arr\n",
    "    else:\n",
    "        optimization_list = dircalcu(check_list)\n",
    "    return optimization_list    \n",
    "        "
   ]
  },
  {
   "cell_type": "code",
   "execution_count": 33,
   "metadata": {},
   "outputs": [],
   "source": [
    "def dirReduc(arr):\n",
    "    dic_dir = {\"NORTH\":[-1,0], \"SOUTH\":[1,0],\"WEST\":[0,-1],\"EAST\":[0,1]}\n",
    "    remove_list = []\n",
    "    new_list = []\n",
    "    # idx ~ arr\n",
    "    for idx,d in enumerate(arr):\n",
    "        # idx+1 ~ len(arr)\n",
    "        for c in range(idx+1,len(arr)):\n",
    "            # idx, c가 remove_list에 없을 때\n",
    "            if idx not in remove_list and c not in remove_list:\n",
    "                if ((dic_dir[d][0] + dic_dir[arr[c]][0]) == 0) and ((dic_dir[d][1] + dic_dir[arr[c]][1]) == 0):\n",
    "                    remove_list.append(idx)\n",
    "                    remove_list.append(c)\n",
    "                    break\n",
    "    for d in range(len(arr)):\n",
    "        if d not in remove_list:\n",
    "            new_list.append(arr[d])\n",
    "    return new_list\n",
    "                "
   ]
  },
  {
   "cell_type": "code",
   "execution_count": 52,
   "metadata": {},
   "outputs": [
    {
     "data": {
      "text/plain": [
       "['EAST', 'NORTH']"
      ]
     },
     "execution_count": 52,
     "metadata": {},
     "output_type": "execute_result"
    }
   ],
   "source": [
    "x =['EAST', 'NORTH']\n",
    "x2 = ['NORTH', 'WEST', 'SOUTH', 'EAST']\n",
    "x3 = ['NORTH', 'NORTH', 'EAST', 'SOUTH', 'EAST', 'EAST', 'SOUTH', 'SOUTH']\n",
    "dirReduc(x)\n"
   ]
  },
  {
   "cell_type": "code",
   "execution_count": 46,
   "metadata": {},
   "outputs": [
    {
     "name": "stdout",
     "output_type": "stream",
     "text": [
      "['SOUTH', 'WEST', 'WEST', 'WEST', 'WEST', 'WEST']\n",
      "['SOUTH', 'WEST', 'WEST', 'WEST', 'WEST', 'WEST']\n"
     ]
    }
   ],
   "source": [
    "arr1 = ['SOUTH', 'WEST', 'WEST', 'WEST', 'WEST', 'WEST']\n",
    "\n",
    "print(dirReduc(arr1))\n",
    "arr2 = ['WEST', 'SOUTH', 'WEST', 'WEST', 'NORTH', 'WEST', 'WEST', 'WEST', 'NORTH', 'EAST', 'EAST', 'SOUTH', 'SOUTH', 'WEST']\n",
    "print(dirReduc(arr2))"
   ]
  }
 ],
 "metadata": {
  "kernelspec": {
   "display_name": "data_env",
   "language": "python",
   "name": "data_env"
  },
  "language_info": {
   "codemirror_mode": {
    "name": "ipython",
    "version": 3
   },
   "file_extension": ".py",
   "mimetype": "text/x-python",
   "name": "python",
   "nbconvert_exporter": "python",
   "pygments_lexer": "ipython3",
   "version": "3.6.6"
  }
 },
 "nbformat": 4,
 "nbformat_minor": 2
}
