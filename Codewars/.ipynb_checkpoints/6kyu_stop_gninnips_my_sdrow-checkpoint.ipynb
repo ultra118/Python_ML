{
 "cells": [
  {
   "cell_type": "markdown",
   "metadata": {},
   "source": [
    "### 공백으로 단어 구분하는 문자열 받아서\n",
    "### 5개이상의 단어 문자열은 뒤집어서 return"
   ]
  },
  {
   "cell_type": "code",
   "execution_count": 45,
   "metadata": {},
   "outputs": [],
   "source": [
    "def spin_words(sentence):\n",
    "    # 문장으 인단 공백으로 구분\n",
    "    sentence_list = sentence.split(\" \")\n",
    "    new_sentence_list = []\n",
    "    reverse_list = []\n",
    "    for st in sentence_list:\n",
    "        if len(st) > 4:\n",
    "            # 5단어 이상이면 리스트로 저장해서 뒤집어줌\n",
    "            reverse_list = list(st)\n",
    "            reverse_list.reverse()\n",
    "            # 뒤집어준 각 음절로 이뤄진 리스트를 한 단어로 붙여주고\n",
    "            # 새로운 리스트에 추가\n",
    "            new_sentence_list.append(\"\".join(reverse_list))\n",
    "        else:\n",
    "            # 5단어 이하는 그냥 새로운 리스트에 추가\n",
    "            new_sentence_list.append(st)\n",
    "            # 새로운 리스트들은 각 단어들로 이루어져 있는데\n",
    "            # 공백으로 문장을 구성해서 리턴\n",
    "    return \" \".join(new_sentence_list)"
   ]
  },
  {
   "cell_type": "code",
   "execution_count": 47,
   "metadata": {},
   "outputs": [
    {
     "name": "stdout",
     "output_type": "stream",
     "text": [
      "Stop Spinning My Words!\n"
     ]
    }
   ],
   "source": [
    "print(spin_words(\"Stop gninnipS My !sdroW\"))"
   ]
  },
  {
   "cell_type": "code",
   "execution_count": null,
   "metadata": {},
   "outputs": [],
   "source": [
    "# other\n",
    "def spin_words(sentence):\n",
    "    # Your code goes here\n",
    "    return \" \".join([x[::-1] if len(x) >= 5 else x for x in sentence.split(\" \")])"
   ]
  }
 ],
 "metadata": {
  "kernelspec": {
   "display_name": "data_env",
   "language": "python",
   "name": "data_env"
  },
  "language_info": {
   "codemirror_mode": {
    "name": "ipython",
    "version": 3
   },
   "file_extension": ".py",
   "mimetype": "text/x-python",
   "name": "python",
   "nbconvert_exporter": "python",
   "pygments_lexer": "ipython3",
   "version": "3.6.8"
  }
 },
 "nbformat": 4,
 "nbformat_minor": 2
}
