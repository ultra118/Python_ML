{
 "cells": [
  {
   "cell_type": "code",
   "execution_count": null,
   "metadata": {},
   "outputs": [],
   "source": [
    "def solution(n):\n",
    "    symbol_num = [1000, 500, 100, 50, 10, 5, 1]\n",
    "    symbol_char = [\"M\",\"D\",\"C\",\"L\",\"X\",\"V\",\"I\"]\n",
    "    count = []\n",
    "    convert_symbol = []\n",
    "    for sb in symbol_num:\n",
    "        count.append(n // sb)\n",
    "        n = n % sb\n",
    "    for sb_n, sb_c in enumerate(count):\n",
    "        convert_symbol.append(symbol_char[sb_n]*sb_c)\n",
    "    new_str = \"\".join(convert_symbol)\n",
    "    new_str = new_str.replace(\"IIII\",\"IV\")\n",
    "    new_str = new_str.replace(\"VIV\", \"IX\")\n",
    "    new_str = new_str.replace(\"XXXX\", \"XL\")\n",
    "    new_str = new_str.replace(\"LXL\", \"XC\")\n",
    "    new_str = new_str.replace(\"CCCC\", \"CD\")\n",
    "    new_str = new_str.replace(\"DCD\", \"CM\")\n",
    "    return new_str"
   ]
  }
 ],
 "metadata": {
  "kernelspec": {
   "display_name": "data_env",
   "language": "python",
   "name": "data_env"
  },
  "language_info": {
   "codemirror_mode": {
    "name": "ipython",
    "version": 3
   },
   "file_extension": ".py",
   "mimetype": "text/x-python",
   "name": "python",
   "nbconvert_exporter": "python",
   "pygments_lexer": "ipython3",
   "version": "3.6.8"
  }
 },
 "nbformat": 4,
 "nbformat_minor": 2
}
