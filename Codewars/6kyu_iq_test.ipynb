{
 "cells": [
  {
   "cell_type": "code",
   "execution_count": null,
   "metadata": {},
   "outputs": [],
   "source": [
    "def iq_test(numbers):\n",
    "    num_list = numbers.split()\n",
    "    even = 0\n",
    "    odd = 0\n",
    "    even_list = []\n",
    "    odd_list = []\n",
    "    for i in range(0, len(num_list)):\n",
    "        if (int(num_list[i]) % 2 == 0):\n",
    "            even += 1\n",
    "            even_list.append(i)\n",
    "        else:\n",
    "            odd += 1\n",
    "            odd_list.append(i)\n",
    "    if (even == 1):\n",
    "        return even_list[0]+1\n",
    "    if (odd == 1):\n",
    "        return odd_list[0]+1"
   ]
  }
 ],
 "metadata": {
  "kernelspec": {
   "display_name": "data_env",
   "language": "python",
   "name": "data_env"
  },
  "language_info": {
   "codemirror_mode": {
    "name": "ipython",
    "version": 3
   },
   "file_extension": ".py",
   "mimetype": "text/x-python",
   "name": "python",
   "nbconvert_exporter": "python",
   "pygments_lexer": "ipython3",
   "version": "3.6.8"
  }
 },
 "nbformat": 4,
 "nbformat_minor": 2
}
