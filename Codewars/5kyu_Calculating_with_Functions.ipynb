{
 "cells": [
  {
   "cell_type": "markdown",
   "metadata": {},
   "source": [
    "https://www.codewars.com/kata/525f3eda17c7cd9f9e000b39/train/python\n"
   ]
  },
  {
   "cell_type": "markdown",
   "metadata": {},
   "source": [
    "seven(times(five())); // must return 35  \n",
    "four(plus(nine())); // must return 13  \n",
    "eight(minus(three())); // must return 5  \n",
    "six(dividedBy(two())); // must return 3  "
   ]
  },
  {
   "cell_type": "code",
   "execution_count": 18,
   "metadata": {},
   "outputs": [
    {
     "data": {
      "text/plain": [
       "False"
      ]
     },
     "execution_count": 18,
     "metadata": {},
     "output_type": "execute_result"
    }
   ],
   "source": [
    "\"*0\" in [\"0\",\"1\",\"2\"]"
   ]
  },
  {
   "cell_type": "code",
   "execution_count": 21,
   "metadata": {},
   "outputs": [
    {
     "data": {
      "text/plain": [
       "False"
      ]
     },
     "execution_count": 21,
     "metadata": {},
     "output_type": "execute_result"
    }
   ],
   "source": [
    "type(3) == str"
   ]
  },
  {
   "cell_type": "code",
   "execution_count": 27,
   "metadata": {},
   "outputs": [
    {
     "data": {
      "text/plain": [
       "True"
      ]
     },
     "execution_count": 27,
     "metadata": {},
     "output_type": "execute_result"
    }
   ],
   "source": [
    "\"*\" is \"*35\"[0]"
   ]
  },
  {
   "cell_type": "code",
   "execution_count": 24,
   "metadata": {},
   "outputs": [
    {
     "data": {
      "text/plain": [
       "['', '35']"
      ]
     },
     "execution_count": 24,
     "metadata": {},
     "output_type": "execute_result"
    }
   ],
   "source": [
    "\"*35\".split(\"*\")"
   ]
  },
  {
   "cell_type": "code",
   "execution_count": 9,
   "metadata": {},
   "outputs": [
    {
     "data": {
      "text/plain": [
       "0"
      ]
     },
     "execution_count": 9,
     "metadata": {},
     "output_type": "execute_result"
    }
   ],
   "source": [
    "zero()"
   ]
  },
  {
   "cell_type": "code",
   "execution_count": 34,
   "metadata": {},
   "outputs": [
    {
     "data": {
      "text/plain": [
       "'*5'"
      ]
     },
     "execution_count": 34,
     "metadata": {},
     "output_type": "execute_result"
    }
   ],
   "source": [
    "times(five())"
   ]
  },
  {
   "cell_type": "code",
   "execution_count": 44,
   "metadata": {},
   "outputs": [
    {
     "data": {
      "text/plain": [
       "10"
      ]
     },
     "execution_count": 44,
     "metadata": {},
     "output_type": "execute_result"
    }
   ],
   "source": [
    "five(plus(five()))"
   ]
  },
  {
   "cell_type": "code",
   "execution_count": 40,
   "metadata": {},
   "outputs": [],
   "source": [
    "def calcu(a,num):\n",
    "    if num[0] is \"*\":\n",
    "        return a * int(num.split(\"*\")[1])\n",
    "    elif num[0] is \"+\":\n",
    "        return a + int(num.split(\"+\")[1])\n",
    "    elif num[0] is \"-\":\n",
    "        return a - int(num.split(\"-\")[1])\n",
    "    elif num[0] is \"/\":\n",
    "        if num.split(\"/\")[1] :\n",
    "            return int(a / int(num.split(\"/\")[1]))\n",
    "        else :\n",
    "            return 0\n",
    "def zero(num = 0): #your code here\n",
    "    if type(num) != int:\n",
    "        return calcu(0,num)\n",
    "    else :\n",
    "        return num\n",
    "def one(num = 1): #your code here\n",
    "    if type(num) != int:\n",
    "        return calcu(1,num)\n",
    "    else :\n",
    "        return num\n",
    "def two(num = 2): #your code here\n",
    "    if type(num) != int:\n",
    "        return calcu(2,num)\n",
    "    else :\n",
    "        return num\n",
    "def three(num = 3): #your code here\n",
    "    if type(num) != int:\n",
    "        return calcu(3,num)\n",
    "    else :\n",
    "        return num\n",
    "def four(num = 4): #your code here\n",
    "    if type(num) != int:\n",
    "        return calcu(4,num)\n",
    "    else :\n",
    "        return num\n",
    "def five(num = 5): #your code here\n",
    "    if type(num) != int:\n",
    "        return calcu(5,num)\n",
    "    else :\n",
    "        return num\n",
    "def six(num = 6): #your code here\n",
    "    if type(num) != int:\n",
    "        return calcu(6,num)\n",
    "    else :\n",
    "        return num\n",
    "def seven(num = 7): #your code here\n",
    "    if type(num) != int:\n",
    "        return calcu(7,num)\n",
    "    else :\n",
    "        return num\n",
    "def eight(num = 8): #your code here\n",
    "    if type(num) != int:\n",
    "        return calcu(8,num)\n",
    "    else :\n",
    "        return num\n",
    "def nine(num = 9): #your code here\n",
    "    if type(num) != int:\n",
    "        return calcu(9,num)\n",
    "    else :\n",
    "        return num\n",
    "\n",
    "def plus(num): #your code here\n",
    "    return \"+\"+str(num)\n",
    "def minus(num): #your code here\n",
    "    return \"-\"+str(num)\n",
    "def times(num): #your code here\n",
    "    return \"*\"+str(num)\n",
    "def divided_by(num): #your code here\n",
    "    return \"/\"+str(num)"
   ]
  },
  {
   "cell_type": "code",
   "execution_count": null,
   "metadata": {},
   "outputs": [],
   "source": []
  }
 ],
 "metadata": {
  "kernelspec": {
   "display_name": "data_env",
   "language": "python",
   "name": "data_env"
  },
  "language_info": {
   "codemirror_mode": {
    "name": "ipython",
    "version": 3
   },
   "file_extension": ".py",
   "mimetype": "text/x-python",
   "name": "python",
   "nbconvert_exporter": "python",
   "pygments_lexer": "ipython3",
   "version": "3.6.6"
  }
 },
 "nbformat": 4,
 "nbformat_minor": 2
}
