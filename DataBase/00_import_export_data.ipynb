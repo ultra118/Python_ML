{
 "cells": [
  {
   "cell_type": "markdown",
   "metadata": {},
   "source": [
    "## 0). Database"
   ]
  },
  {
   "cell_type": "markdown",
   "metadata": {},
   "source": [
    "### db 용어 정리 및 분산 프로그래밍 활용\n",
    "- Relational Database = SQL DB\n",
    "    - 자료구조는 표만 지원, 입출력 명령은 SQL만 가능한 DB\n",
    "- Non-Relational Database = NoSQL DB\n",
    "    - 자료구조는 표 + ... 파일 등 지원, 입출력 명령은 SQL + ... 각 제품군에 맞는 명령 지원 가능한 DB\n",
    "- Distrubuted Programming Framework\n",
    "    - Hadoop, Spark\n",
    "- 네이버 블로그 통계분석의 예로 볼 수 있는 분산 프로그래밍 활용(구조~흐름)\n",
    "    1) DB(여기서 DB는 SQL DB.. 즉, 유저들의 유용한 정보들을 저장하고 있음)\n",
    "    2) 데이터가 hadoop에 보내지고 hadoop에서 특정 결과를 처리 함\n",
    "    3) NoSQL DB에 처리된 결과를 집계(haddop은 즉답으로 결과를 받을 수 없음, 이 결과 데이터들은 굳이 SQL DB에 저장할 필요가 없는 데이터들)\n",
    "- Data vs Information\n",
    "    - data 중 유의미한 것 => information"
   ]
  },
  {
   "cell_type": "markdown",
   "metadata": {},
   "source": []
  },
  {
   "cell_type": "markdown",
   "metadata": {},
   "source": [
    "## 0). Oracle SQL Developer"
   ]
  },
  {
   "cell_type": "markdown",
   "metadata": {},
   "source": [
    "### client로 서버 접속\n",
    "- client 로 서버 oralce 서버 접속\n",
    "- user id : ace14 , pw : me , ip : 70.12.114.184\n",
    "\n",
    "### data exprot / import\n",
    "- .csv .json 같은 파일 형식들을 읽어서 db에 저장할 수 있고 반대로 꺼내서 파일화 시킬 수 도 있음"
   ]
  },
  {
   "cell_type": "markdown",
   "metadata": {},
   "source": []
  },
  {
   "cell_type": "markdown",
   "metadata": {},
   "source": []
  },
  {
   "cell_type": "markdown",
   "metadata": {},
   "source": []
  },
  {
   "cell_type": "markdown",
   "metadata": {},
   "source": []
  },
  {
   "cell_type": "markdown",
   "metadata": {},
   "source": []
  }
 ],
 "metadata": {
  "kernelspec": {
   "display_name": "data_env",
   "language": "python",
   "name": "data_env"
  },
  "language_info": {
   "codemirror_mode": {
    "name": "ipython",
    "version": 3
   },
   "file_extension": ".py",
   "mimetype": "text/x-python",
   "name": "python",
   "nbconvert_exporter": "python",
   "pygments_lexer": "ipython3",
   "version": "3.6.6"
  }
 },
 "nbformat": 4,
 "nbformat_minor": 2
}
