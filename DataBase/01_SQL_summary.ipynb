{
 "cells": [
  {
   "cell_type": "markdown",
   "metadata": {},
   "source": [
    "# SQL(Structured Query Language) 이해\n",
    "- Query : A query is a question, especially one that you ask an organization, publication, or expert.\n",
    "- D(S)DL : Create, Alter, Drop, Rename, Trucate, Comment\n",
    "- DML    : Insert, Update, Delete, Merge, Select\n",
    "- TCL    : Commit, Rollback, Savepoint\n",
    "- DCL    : Grant, Revoke\n",
    "- 트랜잭션(Transaction)\n",
    "    - DML문의 집합\n",
    "    - DDL 하나, DCL 하나"
   ]
  },
  {
   "cell_type": "markdown",
   "metadata": {},
   "source": [
    "##  SQL SELECT 문을 사용하여 데이터 검색\n",
    "- 검색, 조회, 질의, ...\n",
    "- 데이터 분석 도구\n",
    "- 원하는 집합(결과)을 정의(묘사)하는 언어\n",
    "\n",
    "### select 문장 작성 및 해석 권장 순서(절대 실행 순서 아님)\n",
    "- select 컬럼, 연산식, 함수, 컬럼 alias, ... -- 4 (필수)\n",
    "- from 재료집합(테이블, 뷰, 서브쿼리) -- 1 (필수)\n",
    "- where 조건, ... -- 2\n",
    "- group by 조건, ... -- 3\n",
    "- having 조건, ... -- 5\n",
    "- order by 조건, ... -- 6\n",
    "\n",
    "### 괄호 영문표현\n",
    "- [] : Bracket\n",
    "- {} : Brace\n",
    "- () : Parentheses\n",
    "\n",
    "### [SQL statement 작성 지침](https://orapybubu.blog.me/40023835579)\n",
    "\n",
    "### 연산\n",
    "- 가공\n",
    "    - 연산\n",
    "        - 산술연산\n",
    "        - 연결연산\n",
    "        - 논리연산\n",
    "        - 기타\n",
    "    - 함수\n",
    "        - Built-in 함수\n",
    "            - 단일행 함수\n",
    "            - 복수행 함수\n",
    "        - User-defined 함수\n",
    "            - 단일행 함수\n",
    "            - 복수행 함수\n",
    "\n",
    "### NULL\n",
    "- unavailable, unassigned, unknown, inapplicable, 비워져있는, 미결정, ...\n",
    "- ≠0\n",
    "- ≠space\n",
    "- = null은 null이 나옴\n",
    "- 산술연산해도, 비교연산해도 null 나옴\n",
    "- 논리연산\n",
    "    - and로 하면 False에대해서는 바로 False나오고 True있으면 null\n",
    "    - or은 하나라도 True있으면 True, Flase는 null로\n",
    "    - not 연산의 경우 null은 null로\n",
    "- 즉 아직 어떤 값인지 모르는 상태의 값으로 예측됨\n",
    "\n",
    "### Column alias\n",
    "- 3가지 방식\n",
    "    - 한칸 공백 : sal salary\n",
    "    - as 사용 : sal as salary\n",
    "    - \"\" 사용 : sal \"salary\"\n",
    "    \n",
    "### 연결연산자\n",
    "- 컬럼 문자 들끼리 연결\n",
    "- || 통해 연결\n",
    "\n",
    "### literal\n",
    "- where절 에서는 조건에 해당\n",
    "- select절은 쿼리마다 한번 반복\n",
    "\n",
    "### q 연산자\n",
    "- '를 문자로 사용하기위해 사용\n",
    "- q'[]' 같은 형태로 표현하고 대괄호 안에서 '사용\n",
    "    - []뿐만 아니라 다른 기호라든지 알파벳을 대칭되게만 쓰면 사용 가능\n",
    "    \n",
    "### 중복 제거\n",
    "- unique와 distinct\n",
    "    - 같은 용도로 사용\n",
    "- 중복되는 column의 행을 지우기 위해 사용될 수 있음\n",
    "- column을 여러개 주면 행 단위로 중복제거"
   ]
  },
  {
   "cell_type": "markdown",
   "metadata": {},
   "source": [
    "## 데이터 제한 및 정렬\n",
    "### WHERE절 이해\n",
    "- 후보행(Candidate row)을 검증해서 True, False, Null을 리턴하는 절\n",
    "- Where절이 True를 리턴해야 후보행이 return됨\n",
    "\n",
    "### 문자열 및 날짜\n",
    "- where ename like '_____';\n",
    "    - ename 이 5글자인\n",
    "- rtrim() : 공백제거\n",
    "- to_char(hiredate, \"Month') : hredate의 datetpye에서 Month만을 추출\n",
    "\n",
    "###  Escape 옵션\n",
    "- _를 문자로보고 찾기 위해\n",
    "    - where col2 like '%A!_A%' escape '!';\n",
    "        - !뒤의_는 문자_\n",
    "\n",
    "### Order By절\n",
    "- 오름차순 (asc, default임)\n",
    "    - order by col_name(혹은 숫자) asc\n",
    "- 내림차순 (desc)\n",
    "    - order by col_name(혹은 숫자) desc\n",
    "- select 리스트에 없는 컬럼으로도 정렬 가능\n",
    "- null은 가장 큰 값으로 취급됨\n",
    "- 가공한 결과에 의한 Order by\n",
    "    - order by length(ename), ename \n",
    "        - 이름이 짧은 순 + 그 중에서 알파벳 순으로\n",
    "    - order by to_char(hiredate, 'mm'), hiredate\n",
    "        - 월이 짧은 순으로 + 그리고 날짜가 빠른 순으로\n",
    "            - 'mm'을 통해 숫자 month return"
   ]
  },
  {
   "cell_type": "markdown",
   "metadata": {},
   "source": [
    "## 단일 행 함수"
   ]
  },
  {
   "cell_type": "markdown",
   "metadata": {},
   "source": [
    "## 복수행 함수\n",
    "- 행 집합 연산을 수행하여 그룹별로 하나의 결과를 산출\n",
    "\n",
    "### Group by 절 이해\n",
    "- select job, sum(sal) from emp group by job;\n",
    "    - job이 같은 것들을 모아서 sum(sal)\n",
    "     "
   ]
  },
  {
   "cell_type": "markdown",
   "metadata": {},
   "source": [
    "\n",
    "\n",
    "## substr()\n",
    "- substr(ename, 1, 1) : 첫번째부터 첫번째까지 자름\n",
    "- substr(ename, 2) : 2번째부터 끝까지"
   ]
  },
  {
   "cell_type": "markdown",
   "metadata": {},
   "source": [
    "## 조인(Join)\n",
    "- from절에 테이블이 두 개 이상있어야 함"
   ]
  },
  {
   "cell_type": "markdown",
   "metadata": {},
   "source": [
    "## decode 함수\n",
    "- if문 정도로 생각할 수 있음\n",
    "    - decode(deptno, 10, 'A', 20, 'B', 'Z') ret1, \n",
    "    - if deptno == 10 : 'A'  \n",
    "    elif deptno == 20: 'B'  \n",
    "    else 'Z'"
   ]
  },
  {
   "cell_type": "code",
   "execution_count": null,
   "metadata": {},
   "outputs": [],
   "source": []
  }
 ],
 "metadata": {
  "kernelspec": {
   "display_name": "[GPU_ENV]",
   "language": "python",
   "name": "gpu_env"
  },
  "language_info": {
   "codemirror_mode": {
    "name": "ipython",
    "version": 3
   },
   "file_extension": ".py",
   "mimetype": "text/x-python",
   "name": "python",
   "nbconvert_exporter": "python",
   "pygments_lexer": "ipython3",
   "version": "3.6.8"
  },
  "toc": {
   "base_numbering": 1,
   "nav_menu": {},
   "number_sections": true,
   "sideBar": true,
   "skip_h1_title": false,
   "title_cell": "Table of Contents",
   "title_sidebar": "Contents",
   "toc_cell": false,
   "toc_position": {
    "height": "calc(100% - 180px)",
    "left": "10px",
    "top": "150px",
    "width": "165px"
   },
   "toc_section_display": true,
   "toc_window_display": true
  }
 },
 "nbformat": 4,
 "nbformat_minor": 2
}
