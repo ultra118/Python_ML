{
 "cells": [
  {
   "cell_type": "markdown",
   "metadata": {},
   "source": [
    "# SQL(Structured Query Language) 이해\n",
    "- Query : A query is a question, especially one that you ask an organization, publication, or expert.\n",
    "- D(S)DL : Create, Alter, Drop, Rename, Trucate, Comment\n",
    "- DML    : Insert, Update, Delete, Merge, Select\n",
    "- TCL    : Commit, Rollback, Savepoint\n",
    "- DCL    : Grant, Revoke\n",
    "- 트랜잭션(Transaction)\n",
    "    - DML문의 집합\n",
    "    - DDL 하나, DCL 하나"
   ]
  },
  {
   "cell_type": "markdown",
   "metadata": {},
   "source": [
    "# SELECT 이해\n",
    "- 검색, 조회, 질의, ...\n",
    "- 데이터 분석 도구\n",
    "- 원하는 집합(결과)을 정의(묘사)하는 언어\n",
    "\n",
    "##  SELECT 구문 이해\n",
    "\n",
    "### select 문장 작성 및 해석 권장 순서(절대 실행 순서 아님)\n",
    "- select 컬럼, 연산식, 함수, 컬럼 alias, ... -- 4 (필수)\n",
    "- from 재료집합(테이블, 뷰, 서브쿼리) -- 1 (필수)\n",
    "- where 조건, ... -- 2\n",
    "- group by 조건, ... -- 3\n",
    "- having 조건, ... -- 5\n",
    "- order by 조건, ... -- 6\n",
    "\n",
    "### 괄호 영문표현\n",
    "- [] : Bracket\n",
    "- {} : Brace\n",
    "- () : Parentheses\n",
    "\n",
    "### [SQL statement 작성 지침](https://orapybubu.blog.me/40023835579)\n",
    "\n",
    "### 연산\n",
    "- 가공\n",
    "    - 연산\n",
    "        - 산술연산\n",
    "        - 연결연산\n",
    "        - 논리연산\n",
    "        - 기타\n",
    "    - 함수\n",
    "        - Built-in 함수\n",
    "            - 단일행 함수\n",
    "            - 복수행 함수\n",
    "        - User-defined 함수\n",
    "            - 단일행 함수\n",
    "            - 복수행 함수\n",
    "\n",
    "### NULL\n",
    "- unavailable, unassigned, unknown, inapplicable, 비워져있는, 미결정, ...\n",
    "- ≠0\n",
    "- ≠space\n",
    "- = null은 null이 나옴\n",
    "- 산술연산해도, 비교연산해도 null 나옴\n",
    "- 논리연산\n",
    "    - and로 하면 False에대해서는 바로 False나오고 True있으면 null\n",
    "    - or은 하나라도 True있으면 True, Flase는 null로\n",
    "    - not 연산의 경우 null은 null로\n",
    "- 즉 아직 어떤 값인지 모르는 상태의 값으로 예측됨\n",
    "            "
   ]
  },
  {
   "cell_type": "markdown",
   "metadata": {},
   "source": [
    "# WHERE절 이해\n",
    "- 후보행(Candidate row)을 검증해서 True, False, Null을 리턴하는 절\n",
    "- Where절이 True를 리턴해야 후보행이 return됨\n",
    "## substr()\n",
    "- substr(ename, 1, 1) : 첫번째부터 첫번째까지 자름\n",
    "- substr(ename, 2) : 2번째부터 끝까지"
   ]
  },
  {
   "cell_type": "markdown",
   "metadata": {},
   "source": [
    "# 조인(Join)\n",
    "- from절에 테이블이 두 개 이상있어야 함"
   ]
  },
  {
   "cell_type": "markdown",
   "metadata": {},
   "source": [
    "# decode 함수\n",
    "- if문 정도로 생각할 수 있음\n",
    "    - decode(deptno, 10, 'A', 20, 'B', 'Z') ret1, \n",
    "    - if deptno == 10 : 'A'  \n",
    "    elif deptno == 20: 'B'  \n",
    "    else 'Z'"
   ]
  },
  {
   "cell_type": "code",
   "execution_count": null,
   "metadata": {},
   "outputs": [],
   "source": []
  }
 ],
 "metadata": {
  "kernelspec": {
   "display_name": "[GPU_ENV]",
   "language": "python",
   "name": "gpu_env"
  },
  "language_info": {
   "codemirror_mode": {
    "name": "ipython",
    "version": 3
   },
   "file_extension": ".py",
   "mimetype": "text/x-python",
   "name": "python",
   "nbconvert_exporter": "python",
   "pygments_lexer": "ipython3",
   "version": "3.6.8"
  },
  "toc": {
   "base_numbering": 1,
   "nav_menu": {},
   "number_sections": true,
   "sideBar": true,
   "skip_h1_title": false,
   "title_cell": "Table of Contents",
   "title_sidebar": "Contents",
   "toc_cell": false,
   "toc_position": {
    "height": "calc(100% - 180px)",
    "left": "10px",
    "top": "150px",
    "width": "165px"
   },
   "toc_section_display": true,
   "toc_window_display": true
  }
 },
 "nbformat": 4,
 "nbformat_minor": 2
}
