{
 "cells": [
  {
   "cell_type": "code",
   "execution_count": null,
   "metadata": {},
   "outputs": [],
   "source": [
    "\n",
    "# ================\n",
    "#  R + Oracle\n",
    "# ================\n",
    "\n",
    "# # jdk 8 설치 \n",
    "\n",
    "# # R 설치, RStudio 설치\n",
    "\n",
    "# # 자료 및 강의\n",
    "\n",
    "#   - http://www.r-tutor.com/r-introduction\n",
    "#   - https://www.youtube.com/channel/UCBbH_NiLhu5uXQ74Tf-qQhg/playlists\n",
    "\n",
    "# # Oracle database using R and RJDBC\n",
    "\n",
    "#   - https://cafe.naver.com/n1books/12\n",
    "\n",
    "# # R의 Data Frame을 Oracle 테이블로 만들기\n",
    "\n",
    "#   mtcars\n",
    "\n",
    "#   dbWriteTable(conn, \"t_mtcars\", mtcars)\n",
    "#   dbReadTable(conn, \"T_MTCARS\")\n",
    "\n",
    "# # SQL로 데이터 분석하고 R로 그래프 그리기\n",
    "\n",
    "#   - https://orapybubu.blog.me/220665290706\n",
    "\n",
    "# ===========================\n",
    "#  Python + Oracle\n",
    "# ===========================\n",
    "\n",
    "# # cx_Oracle 활용해서 연동하기\n",
    "\n",
    "#   C:\\Users\\student> pip install cx_Oracle\n",
    "\n",
    "#   C:\\Users\\student> notepad a.py\n",
    "\n",
    "# import cx_Oracle\n",
    "\n",
    "# con = cx_Oracle.connect('ace번호/me@70.12.114.184:1521/xe')\n",
    "\n",
    "# print(con.version)\n",
    "\n",
    "# con.close()\n",
    "\n",
    "#   C:\\Users\\student> python a.py\n",
    "\n",
    "# # 실습 예제\n",
    "\n",
    "#   - https://www.oracle.com/webfolder/technetwork/tutorials/obe/db/OOW11/python_db/python_db.htm\n",
    "#   - https://oracle-base.com/articles/11g/database-resident-connection-pool-11gr1\n",
    "\n",
    "\n",
    "\n",
    "\n"
   ]
  },
  {
   "cell_type": "code",
   "execution_count": null,
   "metadata": {},
   "outputs": [],
   "source": [
    "# OracleServiceXE\n",
    "# OracleXETNSListener\n",
    "\n",
    "\n",
    "# net start\n",
    "# net stop\n",
    "\n",
    "# sqlplus / as sysdba\n",
    "\n",
    "# create user \n",
    "\n",
    "# sqlplus / as sysdba\n",
    "\n",
    "\n",
    "# SQL >\n",
    "# create user dator\n",
    "# identified by me;\n",
    "\n",
    "# SQL >\n",
    "# grant connect, resource\n",
    "# to dator;\n",
    "\n",
    "# SQL >\n",
    "# conn dator/me\n",
    "\n",
    "# SQL >\n",
    "# @ 각자_경로\\demobld.sql            <- emp, dept 등 생성\n",
    "# SQL >\n",
    "# @ 각자_경로\\creobjects.sql \t   <- employees, departments\n",
    "\n",
    "# C:\\Users\\student\\Desktop\\database"
   ]
  },
  {
   "cell_type": "code",
   "execution_count": 7,
   "metadata": {},
   "outputs": [
    {
     "name": "stdout",
     "output_type": "stream",
     "text": [
      "11.2.0.2.0\n"
     ]
    }
   ],
   "source": [
    "# pip install cx_Oracle\n",
    "import cx_Oracle\n",
    "conn = cx_Oracle.connect('ace14/me@70.12.114.184:1521/xe')\n",
    "print(conn.version)\n",
    "conn.close()"
   ]
  },
  {
   "cell_type": "code",
   "execution_count": 6,
   "metadata": {},
   "outputs": [
    {
     "name": "stdout",
     "output_type": "stream",
     "text": [
      "11.2.0.2.0\n"
     ]
    }
   ],
   "source": [
    "conn = cx_Oracle.connect('dator/me@localhost:1521/xe')\n",
    "print(conn.version)\n",
    "conn.close()"
   ]
  },
  {
   "cell_type": "code",
   "execution_count": null,
   "metadata": {},
   "outputs": [],
   "source": [
    "conn."
   ]
  }
 ],
 "metadata": {
  "kernelspec": {
   "display_name": "[GPU_ENV]",
   "language": "python",
   "name": "gpu_env"
  },
  "language_info": {
   "codemirror_mode": {
    "name": "ipython",
    "version": 3
   },
   "file_extension": ".py",
   "mimetype": "text/x-python",
   "name": "python",
   "nbconvert_exporter": "python",
   "pygments_lexer": "ipython3",
   "version": "3.6.8"
  },
  "toc": {
   "base_numbering": 1,
   "nav_menu": {},
   "number_sections": true,
   "sideBar": true,
   "skip_h1_title": false,
   "title_cell": "Table of Contents",
   "title_sidebar": "Contents",
   "toc_cell": false,
   "toc_position": {},
   "toc_section_display": true,
   "toc_window_display": false
  }
 },
 "nbformat": 4,
 "nbformat_minor": 2
}
