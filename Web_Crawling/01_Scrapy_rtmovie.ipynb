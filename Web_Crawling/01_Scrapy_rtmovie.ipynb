{
 "cells": [
  {
   "cell_type": "markdown",
   "metadata": {},
   "source": [
    "## [scrapy doc](https://docs.scrapy.org/en/latest/topics/selectors.html)\n",
    "## [rotmovie site 분석](https://www.rottentomatoes.com/top/bestofrt/?year=2018)"
   ]
  },
  {
   "cell_type": "markdown",
   "metadata": {},
   "source": [
    "## [selector in xpath?](https://johnresig.com/blog/xpath-css-selectors/)\n",
    "![image](https://user-images.githubusercontent.com/28910538/54664286-23539a00-4b27-11e9-85dd-d4c7f4551664.png)\n"
   ]
  },
  {
   "cell_type": "markdown",
   "metadata": {},
   "source": [
    "### 0. anaconda prompt 통해서 cd ~ scrapy 프로젝트 library root로 지정해 주고\n",
    "### 1. scrapy shell \"url\" 통해 특정 url 의 response를 받아옴으로써 xpath 이용해 특정 값들 찾음\n",
    "\n",
    "### 2. spiders폴더내에 scrapy.Spider를 상속받는 클래스를 만듬, 이부분에서 crawling + scraping\n",
    "    - name, allowed_domains, start_urls를 설정\n",
    "    - parse함수를 통해 response를 받아서 crawling\n",
    "    - yield scrapy.Request(url, callback=특정 func, meta={\"year\":year, \"rank\":rank})을 통해 각 url에 대해 scraping\n",
    "        - 여기서 meta는 dictionary형태로 이전페이지 데이터를 다음 페이지 즉 콜백으로 넘기는 특정 페이지 데이터로 보냄( ?year=year 이런 식으로\n",
    "    - callback으로 지정해둔 특정 func에서 response를 받고 item(저장할 데이터 자료구조타입 명시해둔 클래스)에 값을 넣어줘서 yield 로 넘김 => 스레드로 처리하는데 이 부분에서느 pip라인으로 넘김\n",
    "    \n",
    "### 2-1. xpath 문법\n",
    "- 절대경로 느낌\n",
    "- 페이지마다 다를 수 있으니 특정 attribute나 text의 내용을 통해 노드를 가지고 올 수 도있음\n",
    "- genre의 text들을 가지고오는 부분\n",
    "- response.xpath('//*[contains(text(), \"Genre:\")]/following-sibling::div/a/text()').extract()\n",
    "\n",
    "### 3. item.py에 받을 데이터 필드 지정\n",
    "\n",
    "### 4. piplines.py 에서 정렬|정리|저장\n",
    "- 스레드로 처리하기때문에 yield로 받은 item들을 정렬,저장,정리 하거나 함\n",
    "- process_item부분에서 지정된 한 페이지의 작업량만큼 데이터를 scraping하는데 이부분을 누적해서 저장해주고\n",
    "- close_spider부분에서 마지막 spider가 종료되고나서의 파일 저장같은 부분을 넣어줌\n",
    "\n",
    "### 5. settings.py 에서 ITEM_PIPELINES 지정"
   ]
  },
  {
   "cell_type": "code",
   "execution_count": 123,
   "metadata": {},
   "outputs": [],
   "source": [
    "import pandas as pd\n",
    "import numpy as np"
   ]
  },
  {
   "cell_type": "code",
   "execution_count": 124,
   "metadata": {},
   "outputs": [],
   "source": [
    "rt_movie = pd.read_csv(\"C:/Users/student/PycharmProjects/DataAnalysis/WebCrawling/rt_crawler/df_csv.csv\", sep =\",\", encoding = \"utf-8\")"
   ]
  },
  {
   "cell_type": "code",
   "execution_count": 125,
   "metadata": {},
   "outputs": [
    {
     "data": {
      "text/html": [
       "<div>\n",
       "<style scoped>\n",
       "    .dataframe tbody tr th:only-of-type {\n",
       "        vertical-align: middle;\n",
       "    }\n",
       "\n",
       "    .dataframe tbody tr th {\n",
       "        vertical-align: top;\n",
       "    }\n",
       "\n",
       "    .dataframe thead th {\n",
       "        text-align: right;\n",
       "    }\n",
       "</style>\n",
       "<table border=\"1\" class=\"dataframe\">\n",
       "  <thead>\n",
       "    <tr style=\"text-align: right;\">\n",
       "      <th></th>\n",
       "      <th>year</th>\n",
       "      <th>rank</th>\n",
       "      <th>title</th>\n",
       "      <th>score</th>\n",
       "      <th>genre</th>\n",
       "    </tr>\n",
       "  </thead>\n",
       "  <tbody>\n",
       "    <tr>\n",
       "      <th>0</th>\n",
       "      <td>2015</td>\n",
       "      <td>1</td>\n",
       "      <td>Mad Max: Fury Road</td>\n",
       "      <td>126,881</td>\n",
       "      <td>Action &amp; Adventure + Science Fiction &amp; Fantasy</td>\n",
       "    </tr>\n",
       "    <tr>\n",
       "      <th>1</th>\n",
       "      <td>2015</td>\n",
       "      <td>2</td>\n",
       "      <td>Inside Out</td>\n",
       "      <td>135,740</td>\n",
       "      <td>Animation + Kids &amp; Family</td>\n",
       "    </tr>\n",
       "    <tr>\n",
       "      <th>2</th>\n",
       "      <td>2015</td>\n",
       "      <td>3</td>\n",
       "      <td>Spotlight</td>\n",
       "      <td>69,804</td>\n",
       "      <td>Drama + Mystery &amp; Suspense</td>\n",
       "    </tr>\n",
       "    <tr>\n",
       "      <th>3</th>\n",
       "      <td>2015</td>\n",
       "      <td>4</td>\n",
       "      <td>Selma</td>\n",
       "      <td>61,256</td>\n",
       "      <td>Drama</td>\n",
       "    </tr>\n",
       "    <tr>\n",
       "      <th>4</th>\n",
       "      <td>2015</td>\n",
       "      <td>5</td>\n",
       "      <td>Star Wars: Episode VII - The Force Awakens</td>\n",
       "      <td>230,359</td>\n",
       "      <td>Action &amp; Adventure + Science Fiction &amp; Fantasy</td>\n",
       "    </tr>\n",
       "    <tr>\n",
       "      <th>5</th>\n",
       "      <td>2015</td>\n",
       "      <td>6</td>\n",
       "      <td>Brooklyn</td>\n",
       "      <td>46,597</td>\n",
       "      <td>Drama</td>\n",
       "    </tr>\n",
       "    <tr>\n",
       "      <th>6</th>\n",
       "      <td>2015</td>\n",
       "      <td>7</td>\n",
       "      <td>Creed</td>\n",
       "      <td>75,595</td>\n",
       "      <td>Drama</td>\n",
       "    </tr>\n",
       "    <tr>\n",
       "      <th>7</th>\n",
       "      <td>2015</td>\n",
       "      <td>8</td>\n",
       "      <td>It Follows</td>\n",
       "      <td>44,514</td>\n",
       "      <td>Horror</td>\n",
       "    </tr>\n",
       "    <tr>\n",
       "      <th>8</th>\n",
       "      <td>2015</td>\n",
       "      <td>9</td>\n",
       "      <td>Carol</td>\n",
       "      <td>29,333</td>\n",
       "      <td>Drama + Romance</td>\n",
       "    </tr>\n",
       "    <tr>\n",
       "      <th>9</th>\n",
       "      <td>2015</td>\n",
       "      <td>10</td>\n",
       "      <td>Shaun the Sheep Movie</td>\n",
       "      <td>22,547</td>\n",
       "      <td>Animation + Comedy</td>\n",
       "    </tr>\n",
       "  </tbody>\n",
       "</table>\n",
       "</div>"
      ],
      "text/plain": [
       "   year  rank                                       title    score  \\\n",
       "0  2015     1                          Mad Max: Fury Road  126,881   \n",
       "1  2015     2                                  Inside Out  135,740   \n",
       "2  2015     3                                   Spotlight   69,804   \n",
       "3  2015     4                                       Selma   61,256   \n",
       "4  2015     5  Star Wars: Episode VII - The Force Awakens  230,359   \n",
       "5  2015     6                                    Brooklyn   46,597   \n",
       "6  2015     7                                       Creed   75,595   \n",
       "7  2015     8                                  It Follows   44,514   \n",
       "8  2015     9                                       Carol   29,333   \n",
       "9  2015    10                       Shaun the Sheep Movie   22,547   \n",
       "\n",
       "                                            genre  \n",
       "0  Action & Adventure + Science Fiction & Fantasy  \n",
       "1                       Animation + Kids & Family  \n",
       "2                      Drama + Mystery & Suspense  \n",
       "3                                           Drama  \n",
       "4  Action & Adventure + Science Fiction & Fantasy  \n",
       "5                                           Drama  \n",
       "6                                           Drama  \n",
       "7                                          Horror  \n",
       "8                                 Drama + Romance  \n",
       "9                              Animation + Comedy  "
      ]
     },
     "execution_count": 125,
     "metadata": {},
     "output_type": "execute_result"
    }
   ],
   "source": [
    "rt_movie.head(10)"
   ]
  },
  {
   "cell_type": "code",
   "execution_count": 122,
   "metadata": {},
   "outputs": [
    {
     "data": {
      "text/plain": [
       "year     0\n",
       "rank     0\n",
       "title    0\n",
       "score    7\n",
       "genre    0\n",
       "dtype: int64"
      ]
     },
     "execution_count": 122,
     "metadata": {},
     "output_type": "execute_result"
    }
   ],
   "source": [
    "# score는 진짜로 비어있는 값\n",
    "rt_movie.isna().sum()"
   ]
  },
  {
   "cell_type": "code",
   "execution_count": null,
   "metadata": {},
   "outputs": [],
   "source": []
  },
  {
   "cell_type": "code",
   "execution_count": null,
   "metadata": {},
   "outputs": [],
   "source": []
  }
 ],
 "metadata": {
  "kernelspec": {
   "display_name": "data_env",
   "language": "python",
   "name": "data_env"
  },
  "language_info": {
   "codemirror_mode": {
    "name": "ipython",
    "version": 3
   },
   "file_extension": ".py",
   "mimetype": "text/x-python",
   "name": "python",
   "nbconvert_exporter": "python",
   "pygments_lexer": "ipython3",
   "version": "3.6.6"
  }
 },
 "nbformat": 4,
 "nbformat_minor": 2
}
